{
 "cells": [
  {
   "cell_type": "code",
   "execution_count": 1,
   "metadata": {},
   "outputs": [],
   "source": [
    "import os, pickle, sys, torch, numpy as np\n",
    "\n",
    "# paths  \n",
    "# table_path = '/root/gurusmart/MorganFP_prediction/reproduce_previous_works/all_2d1d_datasets/entropy_radius_exps_on_HSQC'\n",
    "table_path = \"/root/gurusmart/MorganFP_prediction/reproduce_previous_works/entropy_on_hashes/train_on_all_data_possible_with_jittering\"\n",
    "\n",
    "print_keys = [\n",
    "    \"test/mean_rank_1\",\n",
    "    \"test/mean_rank_5\",\n",
    "    \"test/mean_rank_10\",\n",
    "    # \"test/mean_mean_rank\",\n",
    "    # \"test/mean_cos\",\n",
    "    # \"test/mean_f1\", \n",
    "]\n"
   ]
  },
  {
   "cell_type": "markdown",
   "metadata": {},
   "source": [
    "The first part is for different kinds of NMR in the all info set (kinda depreated now)\n",
    "\n",
    "\n",
    "The second part is for training with all possible data of a specific type."
   ]
  },
  {
   "cell_type": "code",
   "execution_count": 2,
   "metadata": {},
   "outputs": [
    {
     "ename": "FileNotFoundError",
     "evalue": "[Errno 2] No such file or directory: '/root/gurusmart/MorganFP_prediction/reproduce_previous_works/rank_on_entire_set/entropy_radius_exps_1d'",
     "output_type": "error",
     "traceback": [
      "\u001b[0;31m---------------------------------------------------------------------------\u001b[0m",
      "\u001b[0;31mFileNotFoundError\u001b[0m                         Traceback (most recent call last)",
      "Cell \u001b[0;32mIn[2], line 10\u001b[0m\n\u001b[1;32m      3\u001b[0m \u001b[38;5;28;01mfor\u001b[39;00m input_type \u001b[38;5;129;01min\u001b[39;00m [\u001b[38;5;124m'\u001b[39m\u001b[38;5;124m1d\u001b[39m\u001b[38;5;124m'\u001b[39m, \u001b[38;5;124m\"\u001b[39m\u001b[38;5;124mall_info\u001b[39m\u001b[38;5;124m\"\u001b[39m, \u001b[38;5;124m\"\u001b[39m\u001b[38;5;124mHSQC_and_C\u001b[39m\u001b[38;5;124m\"\u001b[39m, \u001b[38;5;124m\"\u001b[39m\u001b[38;5;124mHSQC_and_H\u001b[39m\u001b[38;5;124m\"\u001b[39m, \u001b[38;5;124m\"\u001b[39m\u001b[38;5;124monly_C\u001b[39m\u001b[38;5;124m\"\u001b[39m, \u001b[38;5;124m\"\u001b[39m\u001b[38;5;124monly_H\u001b[39m\u001b[38;5;124m\"\u001b[39m, \u001b[38;5;124m\"\u001b[39m\u001b[38;5;124monly_HSQC\u001b[39m\u001b[38;5;124m\"\u001b[39m]:\n\u001b[1;32m      4\u001b[0m \n\u001b[1;32m      5\u001b[0m \u001b[38;5;66;03m# for input_type in ['all_info']:    \u001b[39;00m\n\u001b[1;32m      6\u001b[0m     \u001b[38;5;66;03m# table_path = f'/root/gurusmart/MorganFP_prediction/reproduce_previous_works/puuting_h_in_the_middle/entropy_radius_exps_{input_type}'\u001b[39;00m\n\u001b[1;32m      7\u001b[0m     table_path \u001b[38;5;241m=\u001b[39m \u001b[38;5;124mf\u001b[39m\u001b[38;5;124m'\u001b[39m\u001b[38;5;124m/root/gurusmart/MorganFP_prediction/reproduce_previous_works/rank_on_entire_set/entropy_radius_exps_\u001b[39m\u001b[38;5;132;01m{\u001b[39;00minput_type\u001b[38;5;132;01m}\u001b[39;00m\u001b[38;5;124m'\u001b[39m\n\u001b[0;32m---> 10\u001b[0m     all_exps \u001b[38;5;241m=\u001b[39m \u001b[43mos\u001b[49m\u001b[38;5;241;43m.\u001b[39;49m\u001b[43mlistdir\u001b[49m\u001b[43m(\u001b[49m\u001b[43mtable_path\u001b[49m\u001b[43m)\u001b[49m\n\u001b[1;32m     11\u001b[0m     \u001b[38;5;66;03m# load pickles \u001b[39;00m\n\u001b[1;32m     12\u001b[0m     \u001b[38;5;28;01mfor\u001b[39;00m exp \u001b[38;5;129;01min\u001b[39;00m all_exps:\n",
      "\u001b[0;31mFileNotFoundError\u001b[0m: [Errno 2] No such file or directory: '/root/gurusmart/MorganFP_prediction/reproduce_previous_works/rank_on_entire_set/entropy_radius_exps_1d'"
     ]
    }
   ],
   "source": [
    "from collections import defaultdict\n",
    "exp_name_to_key_to_results = defaultdict(lambda: defaultdict(list))\n",
    "for input_type in ['1d', \"all_info\", \"HSQC_and_C\", \"HSQC_and_H\", \"only_C\", \"only_H\", \"only_HSQC\"]:\n",
    "\n",
    "# for input_type in ['all_info']:    \n",
    "    # table_path = f'/root/gurusmart/MorganFP_prediction/reproduce_previous_works/puuting_h_in_the_middle/entropy_radius_exps_{input_type}'\n",
    "    table_path = f'/root/gurusmart/MorganFP_prediction/reproduce_previous_works/rank_on_entire_set/entropy_radius_exps_{input_type}'\n",
    "\n",
    "\n",
    "    all_exps = os.listdir(table_path)\n",
    "    # load pickles \n",
    "    for exp in all_exps:\n",
    "        if 'trial' in exp:\n",
    "            trial_spelling = \"trial\"\n",
    "        elif 'trail' in exp:\n",
    "            trial_spelling = \"trail\"\n",
    "           \n",
    "        try:     \n",
    "            # print(exp)\n",
    "            with open(f'{table_path}/{exp}/test_result.pkl', 'rb') as f:\n",
    "                result = pickle.load(f)[0]\n",
    "                \n",
    "                for key in print_keys:\n",
    "                    if key not in result:\n",
    "                        continue\n",
    "                    exp_name_to_key_to_results[\"_\".join(exp.split(trial_spelling)[:-1])][key].append(result[key])\n",
    "                    # exp_name_to_key_to_results[exp][key].append(result[key])\n",
    "                    # print(key, result[key])\n",
    "        except Exception as e:\n",
    "            print(f'{table_path}/{exp}/test_result.pkl')            \n",
    "    \n",
    "exp_name_to_key_to_results\n"
   ]
  },
  {
   "cell_type": "code",
   "execution_count": 3,
   "metadata": {},
   "outputs": [],
   "source": [
    "# # compute the std  of rank_1 and rank_5 for each nmr\n",
    "# for exp_name, key_to_results in exp_name_to_key_to_results.items():\n",
    "#     for key, results in key_to_results.items():\n",
    "#         if key in [\"test/mean_rank_1\", \"test/mean_rank_5\"]:\n",
    "#             print(exp_name, key, np.mean(results), np.std(results))\n",
    "#         # print(exp_name, key, np.mean(results), np.std(results))\n",
    "#     print()"
   ]
  },
  {
   "cell_type": "code",
   "execution_count": 4,
   "metadata": {},
   "outputs": [],
   "source": [
    "\n",
    "avg_results = {}\n",
    "for exp_name, key_to_results in exp_name_to_key_to_results.items():\n",
    "    avg_results[exp_name] = {key:[ np.mean(val), np.std(val) ]for key, val in key_to_results.items()}"
   ]
  },
  {
   "cell_type": "code",
   "execution_count": 5,
   "metadata": {},
   "outputs": [],
   "source": [
    "# sort based on dict key \n",
    "def get_sort_key(item):\n",
    "    if ((item[0].split(\"R0_to_R\")[-1]).split(\"_\")[0]).isdecimal():\n",
    "        return int((item[0].split(\"R0_to_R\")[-1]).split(\"_\")[0])\n",
    "    \n",
    "    else:\n",
    "        return float('inf')\n",
    "\n",
    "\n",
    "\n",
    "avg_results = dict(sorted(avg_results.items(),key=get_sort_key ))\n"
   ]
  },
  {
   "cell_type": "code",
   "execution_count": 6,
   "metadata": {},
   "outputs": [
    {
     "data": {
      "text/plain": [
       "{}"
      ]
     },
     "execution_count": 6,
     "metadata": {},
     "output_type": "execute_result"
    }
   ],
   "source": [
    "avg_results\n"
   ]
  },
  {
   "cell_type": "code",
   "execution_count": 7,
   "metadata": {},
   "outputs": [
    {
     "name": "stdout",
     "output_type": "stream",
     "text": [
      "All 3 NMRs \\\\\n",
      "\\hline\n",
      "13C and 1H \\\\\n",
      "\\hline\n",
      "HSQC and 13C \\\\\n",
      "\\hline\n",
      "HSQC and 1H \\\\\n",
      "\\hline\n",
      "Only 13C \\\\\n",
      "\\hline\n",
      "Only 1H \\\\\n",
      "\\hline\n",
      "Only HSQC \\\\\n",
      "\\hline\n"
     ]
    }
   ],
   "source": [
    "name_convert = {\n",
    "    \"all_info\": \"All 3 NMRs\",\n",
    "    \"1d\": \"13C and 1H\",\n",
    "    \"HSQC_and_C\": \"HSQC and 13C\",\n",
    "    \"HSQC_and_H\": \"HSQC and 1H\",\n",
    "    \"only_c\": \"Only 13C\",\n",
    "    \"only_H\": \"Only 1H\",\n",
    "    \"only_hsqc\": \"Only HSQC\",\n",
    "}\n",
    "\n",
    "# for each combination, find which fp is best\n",
    "for combination in [\"all_info\", '1d', \"HSQC_and_C\", \"HSQC_and_H\", \"only_c\", \"only_H\", \"only_hsqc\"]:\n",
    "    print(name_convert[combination], end=\"\")\n",
    "    for mfp_type in [\"R0_to_R1_\", \"R0_to_R2\", \"R0_to_R3\", \"R0_to_R4\", \"R0_to_R5\", \"Hyun_FP\"]:\n",
    "        for key, metric_dict in avg_results.items():\n",
    "            # print(key)\n",
    "            if combination not in key or mfp_type not in key:\n",
    "                continue\n",
    "            for metric, (mean,std) in metric_dict.items():\n",
    "                if metric in [\"test/mean_rank_1\", ]:\n",
    "                    print(f' & {mean*100:.1f}\\%\\\\textpm{std*100:.1f}\\%', end=\"\")\n",
    "    print(\" \\\\\\\\\")\n",
    "    print(\"\\hline\")\n",
    "    "
   ]
  },
  {
   "cell_type": "code",
   "execution_count": 8,
   "metadata": {},
   "outputs": [
    {
     "name": "stdout",
     "output_type": "stream",
     "text": [
      "\n",
      "\n",
      "\n",
      "\\begin{table}[h]\n",
      "\\centering\n",
      "\\resizebox{\\textwidth}{!}{\n",
      "\\begin{tabular}{|c|c|c|c|c|c|}\n",
      "\\hline\n",
      "Model Input & Rank-1$\\uparrow$ & Rank-5$\\uparrow$ & Mean Rank$\\downarrow$ & Cosine Sim$\\uparrow$ & F1-score$\\uparrow$\\\\\n",
      "\\hline\n",
      "\\end{tabular}\n",
      "}\n",
      "\\caption{Performance of various MFs when All 3 NMRs is available}\n",
      "\\label{table_name}\n",
      "\\end{table}\n",
      "\n",
      "\n",
      "\n",
      "\\begin{table}[h]\n",
      "\\centering\n",
      "\\resizebox{\\textwidth}{!}{\n",
      "\\begin{tabular}{|c|c|c|c|c|c|}\n",
      "\\hline\n",
      "Model Input & Rank-1$\\uparrow$ & Rank-5$\\uparrow$ & Mean Rank$\\downarrow$ & Cosine Sim$\\uparrow$ & F1-score$\\uparrow$\\\\\n",
      "\\hline\n",
      "\\end{tabular}\n",
      "}\n",
      "\\caption{Performance of various MFs when 13C and 1H is available}\n",
      "\\label{table_name}\n",
      "\\end{table}\n",
      "\n",
      "\n",
      "\n",
      "\\begin{table}[h]\n",
      "\\centering\n",
      "\\resizebox{\\textwidth}{!}{\n",
      "\\begin{tabular}{|c|c|c|c|c|c|}\n",
      "\\hline\n",
      "Model Input & Rank-1$\\uparrow$ & Rank-5$\\uparrow$ & Mean Rank$\\downarrow$ & Cosine Sim$\\uparrow$ & F1-score$\\uparrow$\\\\\n",
      "\\hline\n",
      "\\end{tabular}\n",
      "}\n",
      "\\caption{Performance of various MFs when HSQC and 13C is available}\n",
      "\\label{table_name}\n",
      "\\end{table}\n",
      "\n",
      "\n",
      "\n",
      "\\begin{table}[h]\n",
      "\\centering\n",
      "\\resizebox{\\textwidth}{!}{\n",
      "\\begin{tabular}{|c|c|c|c|c|c|}\n",
      "\\hline\n",
      "Model Input & Rank-1$\\uparrow$ & Rank-5$\\uparrow$ & Mean Rank$\\downarrow$ & Cosine Sim$\\uparrow$ & F1-score$\\uparrow$\\\\\n",
      "\\hline\n",
      "\\end{tabular}\n",
      "}\n",
      "\\caption{Performance of various MFs when HSQC and 1H is available}\n",
      "\\label{table_name}\n",
      "\\end{table}\n",
      "\n",
      "\n",
      "\n",
      "\\begin{table}[h]\n",
      "\\centering\n",
      "\\resizebox{\\textwidth}{!}{\n",
      "\\begin{tabular}{|c|c|c|c|c|c|}\n",
      "\\hline\n",
      "Model Input & Rank-1$\\uparrow$ & Rank-5$\\uparrow$ & Mean Rank$\\downarrow$ & Cosine Sim$\\uparrow$ & F1-score$\\uparrow$\\\\\n",
      "\\hline\n",
      "\\end{tabular}\n",
      "}\n",
      "\\caption{Performance of various MFs when Only 13C is available}\n",
      "\\label{table_name}\n",
      "\\end{table}\n",
      "\n",
      "\n",
      "\n",
      "\\begin{table}[h]\n",
      "\\centering\n",
      "\\resizebox{\\textwidth}{!}{\n",
      "\\begin{tabular}{|c|c|c|c|c|c|}\n",
      "\\hline\n",
      "Model Input & Rank-1$\\uparrow$ & Rank-5$\\uparrow$ & Mean Rank$\\downarrow$ & Cosine Sim$\\uparrow$ & F1-score$\\uparrow$\\\\\n",
      "\\hline\n",
      "\\end{tabular}\n",
      "}\n",
      "\\caption{Performance of various MFs when Only 1H is available}\n",
      "\\label{table_name}\n",
      "\\end{table}\n",
      "\n",
      "\n",
      "\n",
      "\\begin{table}[h]\n",
      "\\centering\n",
      "\\resizebox{\\textwidth}{!}{\n",
      "\\begin{tabular}{|c|c|c|c|c|c|}\n",
      "\\hline\n",
      "Model Input & Rank-1$\\uparrow$ & Rank-5$\\uparrow$ & Mean Rank$\\downarrow$ & Cosine Sim$\\uparrow$ & F1-score$\\uparrow$\\\\\n",
      "\\hline\n",
      "\\end{tabular}\n",
      "}\n",
      "\\caption{Performance of various MFs when Only HSQC is available}\n",
      "\\label{table_name}\n",
      "\\end{table}\n"
     ]
    }
   ],
   "source": [
    "for input_type in [\"all_info\", '1d', \"HSQC_and_C\", \"HSQC_and_H\", \"only_c\", \"only_H\", \"only_hsqc\"]:\n",
    "    print(\"\\n\\n\")\n",
    "    # print in latex format\n",
    "    print (\"\\\\begin{table}[h]\")\n",
    "    print(\"\\centering\")\n",
    "    print(\"\\\\resizebox{\\\\textwidth}{!}{\")\n",
    "    print('\\\\begin{tabular}{|c|c|c|c|c|c|}')\n",
    "    print(\"\\hline\")\n",
    "    print(\"Model Input & Rank-1$\\\\uparrow$ & Rank-5$\\\\uparrow$ & Mean Rank$\\\\downarrow$ & Cosine Sim$\\\\uparrow$ & F1-score$\\\\uparrow$\\\\\\\\\")\n",
    "    print(\"\\hline\")\n",
    "\n",
    "    for exp_name, key_to_results in avg_results.items():\n",
    "        if input_type not in exp_name:\n",
    "            continue\n",
    "        \n",
    "        name = exp_name\n",
    "        if name[:2]==\"FP\":\n",
    "            name = \"R\"+name.split(\" \")[-1][-2]+\" FP\"\n",
    "        MF_name = \" \".join(name.split(\"_\")[:3]) + \" MF\"\n",
    "        if MF_name.startswith(\"Hyun\"):\n",
    "            MF_name = \"DeepSAT FP\"\n",
    "        print(MF_name, end=\"\")\n",
    "        for key, (mean, std) in key_to_results.items():\n",
    "            if key in [\"test/mean_rank_1\", \"test/mean_rank_5\"]:\n",
    "                print(f' & {mean*100:.2f}\\%\\\\textpm{std*100:.2f}\\%', end=\"\")\n",
    "            elif key in [\"test/mean_mean_rank\"]:\n",
    "                print(f' & {mean+1:.2f}\\\\textpm{std:.2f}', end=\"\")\n",
    "            else:\n",
    "                print(f' & {mean:.4f}\\\\textpm{std:.4f}', end=\"\")\n",
    "        print(\" \\\\\\\\\")\n",
    "        print(\"\\hline\")\n",
    "        \n",
    "    print('\\end{tabular}')\n",
    "    print('}')\n",
    "    print(\"\\caption{Performance of various MFs when \"+ name_convert[input_type] +\" is available}\")\n",
    "    print('\\label{table_name}')\n",
    "    print('\\end{table}')"
   ]
  },
  {
   "cell_type": "code",
   "execution_count": 9,
   "metadata": {},
   "outputs": [
    {
     "ename": "NameError",
     "evalue": "name 'exp_name' is not defined",
     "output_type": "error",
     "traceback": [
      "\u001b[0;31m---------------------------------------------------------------------------\u001b[0m",
      "\u001b[0;31mNameError\u001b[0m                                 Traceback (most recent call last)",
      "Cell \u001b[0;32mIn[9], line 1\u001b[0m\n\u001b[0;32m----> 1\u001b[0m \u001b[43mexp_name\u001b[49m\n",
      "\u001b[0;31mNameError\u001b[0m: name 'exp_name' is not defined"
     ]
    }
   ],
   "source": [
    "exp_name"
   ]
  },
  {
   "cell_type": "markdown",
   "metadata": {},
   "source": [
    "Look at All_possible_data\n"
   ]
  },
  {
   "cell_type": "code",
   "execution_count": 10,
   "metadata": {},
   "outputs": [],
   "source": [
    "\n",
    "print_keys = [\n",
    "    \"test/mean_rank_1\",\n",
    "    \"test/mean_rank_5\",\n",
    "    \"test/mean_rank_10\",\n",
    "    # \"test/mean_mean_rank\",\n",
    "    # \"test/mean_cos\",\n",
    "    # \"test/mean_f1\", \n",
    "]\n",
    "import os, pickle, sys, torch, numpy as np\n",
    "\n",
    "from collections import defaultdict\n",
    "exp_name_to_key_to_results = defaultdict(lambda: defaultdict(list))\n",
    "# for input_type in ['1d', \"all_info\", \"HSQC_and_C\", \"HSQC_and_H\", \"only_C\", \"only_H\", \"only_HSQC\"]:\n",
    "for input_type in ['']:    \n",
    "    # table_path = f'/root/gurusmart/MorganFP_prediction/reproduce_previous_works/stop_on_cosine/all_data_possible'\n",
    "    # table_path = \"/root/gurusmart/MorganFP_prediction/reproduce_previous_works/rank_on_entire_set/all_data_possible\"\n",
    "    table_path = \"/root/gurusmart/MorganFP_prediction/reproduce_previous_works/entropy_on_hashes/train_on_all_data_possible_with_jittering\"\n",
    "\n",
    "\n",
    "\n",
    "    all_exps = os.listdir(table_path)\n",
    "    # load pickles \n",
    "    for exp in all_exps:\n",
    "        if 'trial' in exp:\n",
    "            trial_spelling = \"trial\"\n",
    "        elif 'trail' in exp:\n",
    "            trial_spelling = \"trail\"\n",
    "           \n",
    "        try:     \n",
    "            # print(exp)\n",
    "            with open(f'{table_path}/{exp}/test_result.pkl', 'rb') as f:\n",
    "                result = pickle.load(f)[0]\n",
    "                \n",
    "                for key in print_keys:\n",
    "                    if key not in result:\n",
    "                        continue\n",
    "                    exp_name_to_key_to_results[\"_\".join(exp.split(trial_spelling)[:-1])][key].append(result[key])\n",
    "                    # exp_name_to_key_to_results[exp][key].append(result[key])\n",
    "                    # print(key, result[key])\n",
    "        except Exception as e:\n",
    "            print(f'{table_path}/{exp}/test_result.pkl')            \n",
    "    \n",
    "# exp_name_to_key_to_results"
   ]
  },
  {
   "cell_type": "code",
   "execution_count": 11,
   "metadata": {},
   "outputs": [],
   "source": [
    "avg_results = {}\n",
    "std_results = {}\n",
    "for exp_name, key_to_results in exp_name_to_key_to_results.items():\n",
    "    avg_results[exp_name] = {key: (np.mean(val), np.std(val)) for key, val in key_to_results.items()}\n",
    "    "
   ]
  },
  {
   "cell_type": "code",
   "execution_count": 12,
   "metadata": {},
   "outputs": [
    {
     "name": "stdout",
     "output_type": "stream",
     "text": [
      "all_info_\n",
      "test/mean_rank_1\n",
      "41.99\\%\\textpm1.00\\% \n",
      "test/mean_rank_5\n",
      "75.55\\%\\textpm1.03\\% \n",
      "test/mean_rank_10\n",
      "83.43\\%\\textpm0.75\\% \n",
      "\n",
      "only_1d_\n",
      "test/mean_rank_1\n",
      "37.20\\%\\textpm0.32\\% \n",
      "test/mean_rank_5\n",
      "71.42\\%\\textpm0.44\\% \n",
      "test/mean_rank_10\n",
      "79.83\\%\\textpm0.20\\% \n",
      "\n",
      "HSQC_and_C_\n",
      "test/mean_rank_1\n",
      "44.13\\%\\textpm0.27\\% \n",
      "test/mean_rank_5\n",
      "76.14\\%\\textpm0.41\\% \n",
      "test/mean_rank_10\n",
      "84.14\\%\\textpm0.02\\% \n",
      "\n",
      "HSQC_and_H_\n",
      "test/mean_rank_1\n",
      "36.16\\%\\textpm0.41\\% \n",
      "test/mean_rank_5\n",
      "69.42\\%\\textpm0.36\\% \n",
      "test/mean_rank_10\n",
      "77.78\\%\\textpm0.82\\% \n",
      "\n",
      "only_c_\n",
      "test/mean_rank_1\n",
      "33.02\\%\\textpm0.50\\% \n",
      "test/mean_rank_5\n",
      "66.87\\%\\textpm0.26\\% \n",
      "test/mean_rank_10\n",
      "75.67\\%\\textpm0.10\\% \n",
      "\n",
      "only_h_\n",
      "test/mean_rank_1\n",
      "6.78\\%\\textpm0.13\\% \n",
      "test/mean_rank_5\n",
      "21.42\\%\\textpm1.36\\% \n",
      "test/mean_rank_10\n",
      "30.01\\%\\textpm1.74\\% \n",
      "\n",
      "only_hsqc_\n",
      "test/mean_rank_1\n",
      "45.84\\%\\textpm0.97\\% \n",
      "test/mean_rank_5\n",
      "79.08\\%\\textpm0.21\\% \n",
      "test/mean_rank_10\n",
      "85.84\\%\\textpm0.33\\% \n",
      "\n"
     ]
    }
   ],
   "source": [
    "\n",
    "\n",
    "\n",
    "for k in ['all_info_', 'only_1d_',  'HSQC_and_C_', 'HSQC_and_H_', 'only_c_',  'only_h_',  'only_hsqc_' ]:\n",
    "    print(k)\n",
    "    for metric in print_keys:\n",
    "        print(metric)\n",
    "        mean,std = (avg_results[k][metric])\n",
    "        print(f\"{mean*100:.2f}\\%\\\\textpm{std*100:.2f}\\% \")\n",
    "    print()\n",
    "    # mean,std = (avg_results[k]['test/mean_rank_1'])\n",
    "    # print(f\"{mean*100:.2f}\\%\\\\textpm{std*100:.2f}\\% \")"
   ]
  },
  {
   "cell_type": "code",
   "execution_count": 13,
   "metadata": {},
   "outputs": [
    {
     "data": {
      "text/plain": [
       "dict_keys(['only_hsqc_', 'only_1d_', 'HSQC_and_C_', 'only_c_', 'HSQC_and_H_', 'only_h_', 'all_info_'])"
      ]
     },
     "execution_count": 13,
     "metadata": {},
     "output_type": "execute_result"
    }
   ],
   "source": [
    "avg_results.keys()"
   ]
  },
  {
   "cell_type": "code",
   "execution_count": null,
   "metadata": {},
   "outputs": [],
   "source": []
  }
 ],
 "metadata": {
  "kernelspec": {
   "display_name": "base",
   "language": "python",
   "name": "python3"
  },
  "language_info": {
   "codemirror_mode": {
    "name": "ipython",
    "version": 3
   },
   "file_extension": ".py",
   "mimetype": "text/x-python",
   "name": "python",
   "nbconvert_exporter": "python",
   "pygments_lexer": "ipython3",
   "version": "3.11.10"
  }
 },
 "nbformat": 4,
 "nbformat_minor": 2
}
