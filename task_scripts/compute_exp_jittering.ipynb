{
 "cells": [
  {
   "cell_type": "code",
   "execution_count": 1,
   "id": "150a879b",
   "metadata": {},
   "outputs": [
    {
     "name": "stdout",
     "output_type": "stream",
     "text": [
      "/root/gurusmart/MorganFP_prediction/reproduce_previous_works/entropy_on_hashes/all_HSQC_jittering_search/only_hsqc_jittering_1/test_result.pkl\n",
      "/root/gurusmart/MorganFP_prediction/reproduce_previous_works/entropy_on_hashes/all_HSQC_jittering_search/only_hsqc_jittering_2/test_result.pkl\n",
      "/root/gurusmart/MorganFP_prediction/reproduce_previous_works/entropy_on_hashes/all_HSQC_jittering_search/only_hsqc_jittering_0.5/test_result.pkl\n",
      "/root/gurusmart/MorganFP_prediction/reproduce_previous_works/entropy_on_hashes/all_HSQC_jittering_search/only_hsqc_jittering_0.25/test_result.pkl\n"
     ]
    }
   ],
   "source": [
    "\n",
    "print_keys = [\n",
    "    \"test/mean_rank_1\",\n",
    "    # \"test/mean_rank_5\",\n",
    "    # \"test/mean_rank_10\",\n",
    "    # \"test/mean_mean_rank\",\n",
    "    \"test/mean_cos\",\n",
    "    # \"test/mean_f1\", \n",
    "]\n",
    "import os, pickle, sys, torch, numpy as np\n",
    "\n",
    "from collections import defaultdict\n",
    "exp_name_to_key_to_results = defaultdict(lambda: defaultdict(list))\n",
    "# for input_type in ['1d', \"all_info\", \"HSQC_and_C\", \"HSQC_and_H\", \"only_C\", \"only_H\", \"only_HSQC\"]:\n",
    "for input_type in ['']:    \n",
    "    # table_path = f'/root/gurusmart/MorganFP_prediction/reproduce_previous_works/stop_on_cosine/all_data_possible'\n",
    "    # table_path = \"/root/gurusmart/MorganFP_prediction/reproduce_previous_works/rank_on_entire_set/all_data_possible\"\n",
    "    table_path = \"/root/gurusmart/MorganFP_prediction/reproduce_previous_works/entropy_on_hashes/all_HSQC_jittering_search\"\n",
    "\n",
    "\n",
    "\n",
    "    all_exps = os.listdir(table_path)\n",
    "    # load pickles \n",
    "    for exp in all_exps:\n",
    "        if 'trial' in exp:\n",
    "            trial_spelling = \"trial\"\n",
    "        elif 'trail' in exp:\n",
    "            trial_spelling = \"trail\"\n",
    "           \n",
    "        try:     \n",
    "            # print(exp)\n",
    "            with open(f'{table_path}/{exp}/test_result.pkl', 'rb') as f:\n",
    "                result = pickle.load(f)[0]\n",
    "                \n",
    "                for key in print_keys:\n",
    "                    if key not in result:\n",
    "                        continue\n",
    "                    exp_name_to_key_to_results[\"_\".join(exp.split(trial_spelling)[:-1])][key].append(result[key])\n",
    "                    # exp_name_to_key_to_results[exp][key].append(result[key])\n",
    "                    # print(key, result[key])\n",
    "        except Exception as e:\n",
    "            print(f'{table_path}/{exp}/test_result.pkl')            \n",
    "    \n",
    "# exp_name_to_key_to_results"
   ]
  },
  {
   "cell_type": "code",
   "execution_count": 2,
   "id": "95d8a997",
   "metadata": {},
   "outputs": [],
   "source": [
    "avg_results = {}\n",
    "std_results = {}\n",
    "for exp_name, key_to_results in exp_name_to_key_to_results.items():\n",
    "    avg_results[exp_name] = {key: (np.mean(val), np.std(val)) for key, val in key_to_results.items()}\n",
    "    "
   ]
  }
 ],
 "metadata": {
  "kernelspec": {
   "display_name": "base",
   "language": "python",
   "name": "python3"
  },
  "language_info": {
   "codemirror_mode": {
    "name": "ipython",
    "version": 3
   },
   "file_extension": ".py",
   "mimetype": "text/x-python",
   "name": "python",
   "nbconvert_exporter": "python",
   "pygments_lexer": "ipython3",
   "version": "3.11.10"
  }
 },
 "nbformat": 4,
 "nbformat_minor": 5
}
