{
 "cells": [
  {
   "cell_type": "code",
   "execution_count": 1,
   "metadata": {},
   "outputs": [],
   "source": [
    "import pickle, os, sys, torch,  tqdm\n",
    "# import \n"
   ]
  },
  {
   "cell_type": "code",
   "execution_count": 3,
   "metadata": {},
   "outputs": [],
   "source": [
    "saved_data=pickle.load(open(f\"/root/gurusmart/MorganFP_prediction/task_scripts/inchi_mapping.pkl\", 'rb'))\n",
    "NP_to_inchi = saved_data['NP_to_inchi']\n",
    "inchi_to_file_path = saved_data['inchi_to_file_path']"
   ]
  },
  {
   "cell_type": "code",
   "execution_count": 5,
   "metadata": {},
   "outputs": [
    {
     "name": "stdout",
     "output_type": "stream",
     "text": [
      "[('InChI=1S/C16H25NO.BrH/c1-3-10-17(11-4-2)14-9-8-13-6-5-7-16(18)15(13)12-14;/h5-7,14,18H,3-4,8-12H2,1-2H3;1H', ['test/detailed_oneD_NMR/0.pt']), ('InChI=1S/C16H21NO3.BrH/c1-19-13-3-2-12-5-7-17-6-4-11-10-20-15(18)8-14(11)16(12,17)9-13;/h2,13H,3-10H2,1H3;1H', ['test/detailed_oneD_NMR/1.pt']), ('InChI=1S/C16H16ClNO2.BrH/c17-15-11-6-7-18-9-13(10-4-2-1-3-5-10)12(11)8-14(19)16(15)20;/h1-5,8,13,18-20H,6-7,9H2;1H', ['test/detailed_oneD_NMR/2.pt']), ('InChI=1S/CH2Br2/c2-1-3/h1H2', ['test/detailed_oneD_NMR/3.pt']), ('InChI=1S/C2H4Br2/c3-1-2-4/h1-2H2', ['test/detailed_oneD_NMR/4.pt'])]\n"
     ]
    }
   ],
   "source": [
    "sample_content = list(inchi_key_to_file_path.items())[:5]\n",
    "print(sample_content)\n"
   ]
  },
  {
   "cell_type": "code",
   "execution_count": 6,
   "metadata": {},
   "outputs": [
    {
     "name": "stdout",
     "output_type": "stream",
     "text": [
      "[('NP0000001', 'InChI=1S/C21H22N2O2/c24-18-10-16-19-13-9-17-21(6-7-22(17)11-12(13)5-8-25-16)14-3-1-2-4-15(14)23(18)20(19)21/h1-5,13,16-17,19-20H,6-11H2/t13-,16-,17-,19-,20-,21+/m0/s1'), ('NP0000004', 'InChI=1S/C10H12N2O/c1-12-9(4-5-10(12)13)8-3-2-6-11-7-8/h2-3,6-7,9H,4-5H2,1H3'), ('NP0000005', 'InChI=1S/C9H6O2/c10-9-6-5-7-3-1-2-4-8(7)11-9/h1-6H'), ('NP0000006', 'InChI=1S/C10H14N2/c1-2-7-12-10(5-1)9-4-3-6-11-8-9/h3-4,6,8,10,12H,1-2,5,7H2'), ('NP0000007', 'InChI=1S/C40H52O2/c1-29(17-13-19-31(3)21-23-35-33(5)37(41)25-27-39(35,7)8)15-11-12-16-30(2)18-14-20-32(4)22-24-36-34(6)38(42)26-28-40(36,9)10/h11-24H,25-28H2,1-10H3/b12-11+,17-13+,18-14+,23-21+,24-22+,29-15+,30-16+,31-19+,32-20+')]\n"
     ]
    }
   ],
   "source": [
    "sample_content = list(NP_to_inchikey.items())[:5]\n",
    "print(sample_content)\n"
   ]
  },
  {
   "cell_type": "code",
   "execution_count": 7,
   "metadata": {},
   "outputs": [
    {
     "data": {
      "text/plain": [
       "(111108, 279515, 48591, 342032)"
      ]
     },
     "execution_count": 7,
     "metadata": {},
     "output_type": "execute_result"
    }
   ],
   "source": [
    "inch1 = inchi_key_to_file_path.keys()\n",
    "inchi2 = NP_to_inchikey.values()\n",
    "inchi1 = set(inch1)\n",
    "inchi2 = set(inchi2)\n",
    "len(inchi1), len(inchi2), len(inchi1.intersection(inchi2)), len(inchi1.union(inchi2))"
   ]
  },
  {
   "cell_type": "code",
   "execution_count": 6,
   "metadata": {},
   "outputs": [
    {
     "data": {
      "text/plain": [
       "'H2O'"
      ]
     },
     "execution_count": 6,
     "metadata": {},
     "output_type": "execute_result"
    }
   ],
   "source": [
    "from bs4 import BeautifulSoup\n",
    "import  requests\n",
    "url = 'https://np-mrd.org/spectra/nmr_one_d/1113'\n",
    "\n",
    "# Send a GET request\n",
    "response = requests.get(url)\n",
    "soup = BeautifulSoup(response.content, 'html.parser')\n",
    "title_tag = soup.find('title')\n",
    "title_tag.text.split(':')[-1].strip().split(\",\")[2].strip() if title_tag else None"
   ]
  },
  {
   "cell_type": "code",
   "execution_count": null,
   "metadata": {},
   "outputs": [],
   "source": [
    "NP_MRD_FILES_dir = '/root/gurusmart/data/NP-MRD-dataset/NP-MRD-shift-assignments'\n",
    "npmrd_files_txt_only = os.listdir(NP_MRD_FILES_dir)\n",
    "        \n",
    "for f in tqdm(npmrd_files_txt_only):\n",
    "    if f.split(\"_\")[0] not in NP_to_inchikey:\n",
    "        continue\n",
    "    inchi_key =  NP_to_inchikey[f.split(\"_\")[0]]\n",
    "    if inchi_key:\n",
    "        if inchi_key not in inchi_key_to_file_path:\n",
    "            continue"
   ]
  },
  {
   "cell_type": "code",
   "execution_count": 14,
   "metadata": {},
   "outputs": [
    {
     "name": "stdout",
     "output_type": "stream",
     "text": [
      "['test/detailed_oneD_NMR/227.pt', 'train/detailed_oneD_NMR/1767.pt']\n",
      "['test/detailed_oneD_NMR/692.pt', 'train/detailed_oneD_NMR/5593.pt']\n",
      "['test/detailed_oneD_NMR/1115.pt', 'train/detailed_oneD_NMR/9275.pt']\n",
      "['test/detailed_oneD_NMR/1409.pt', 'train/detailed_oneD_NMR/11387.pt']\n",
      "['test/detailed_oneD_NMR/1503.pt', 'train/detailed_oneD_NMR/12265.pt']\n",
      "['test/detailed_oneD_NMR/1523.pt', 'train/detailed_oneD_NMR/12665.pt']\n",
      "['test/detailed_oneD_NMR/1754.pt', 'test/detailed_oneD_NMR/1755.pt', 'train/detailed_oneD_NMR/14579.pt']\n",
      "['test/detailed_oneD_NMR/2051.pt', 'train/detailed_oneD_NMR/16998.pt']\n",
      "['test/detailed_oneD_NMR/2268.pt', 'train/detailed_oneD_NMR/36855.pt']\n",
      "['test/detailed_oneD_NMR/2272.pt', 'val/detailed_oneD_NMR/4684.pt']\n",
      "['test/detailed_oneD_NMR/2418.pt', 'test/detailed_oneD_NMR/5986.pt', 'train/detailed_oneD_NMR/40678.pt', 'train/detailed_oneD_NMR/40682.pt', 'train/detailed_oneD_NMR/46468.pt', 'train/detailed_oneD_NMR/47240.pt', 'train/detailed_oneD_NMR/47242.pt', 'train/detailed_oneD_NMR/48745.pt', 'train/detailed_oneD_NMR/88732.pt', 'train/detailed_oneD_NMR/88733.pt', 'train/detailed_oneD_NMR/108854.pt']\n",
      "['test/detailed_oneD_NMR/3533.pt', 'train/detailed_oneD_NMR/28788.pt']\n",
      "['test/detailed_oneD_NMR/3863.pt', 'train/detailed_oneD_NMR/31704.pt']\n",
      "['test/detailed_oneD_NMR/3869.pt', 'train/detailed_oneD_NMR/31727.pt']\n",
      "['test/detailed_oneD_NMR/3933.pt', 'test/detailed_oneD_NMR/3934.pt', 'train/detailed_oneD_NMR/32317.pt']\n",
      "['test/detailed_oneD_NMR/3968.pt', 'train/detailed_oneD_NMR/32688.pt']\n",
      "['test/detailed_oneD_NMR/3971.pt', 'train/detailed_oneD_NMR/32718.pt']\n",
      "['test/detailed_oneD_NMR/3972.pt', 'train/detailed_oneD_NMR/32722.pt']\n",
      "['test/detailed_oneD_NMR/4465.pt', 'val/detailed_oneD_NMR/4624.pt', 'val/detailed_oneD_NMR/4625.pt']\n",
      "['test/detailed_oneD_NMR/5613.pt', 'train/detailed_oneD_NMR/45968.pt']\n",
      "['test/detailed_oneD_NMR/6491.pt', 'test/detailed_oneD_NMR/6492.pt', 'train/detailed_oneD_NMR/53044.pt', 'train/detailed_oneD_NMR/53045.pt']\n",
      "['test/detailed_oneD_NMR/6505.pt', 'train/detailed_oneD_NMR/53114.pt', 'train/detailed_oneD_NMR/53115.pt']\n",
      "['test/detailed_oneD_NMR/6540.pt', 'train/detailed_oneD_NMR/53339.pt']\n",
      "['test/detailed_oneD_NMR/6554.pt', 'train/detailed_oneD_NMR/53452.pt']\n",
      "['test/detailed_oneD_NMR/6747.pt', 'train/detailed_oneD_NMR/55090.pt']\n",
      "['test/detailed_oneD_NMR/6818.pt', 'train/detailed_oneD_NMR/55727.pt']\n",
      "['test/detailed_oneD_NMR/6825.pt', 'train/detailed_oneD_NMR/55783.pt']\n",
      "['test/detailed_oneD_NMR/6834.pt', 'train/detailed_oneD_NMR/55876.pt']\n",
      "['test/detailed_oneD_NMR/6868.pt', 'train/detailed_oneD_NMR/56154.pt']\n",
      "['test/detailed_oneD_NMR/6880.pt', 'train/detailed_oneD_NMR/56381.pt']\n",
      "['test/detailed_oneD_NMR/6881.pt', 'train/detailed_oneD_NMR/56384.pt']\n",
      "['test/detailed_oneD_NMR/6921.pt', 'train/detailed_oneD_NMR/56460.pt']\n",
      "['test/detailed_oneD_NMR/6924.pt', 'train/detailed_oneD_NMR/56485.pt']\n",
      "['test/detailed_oneD_NMR/6931.pt', 'test/detailed_oneD_NMR/6932.pt', 'train/detailed_oneD_NMR/56538.pt']\n",
      "['test/detailed_oneD_NMR/6933.pt', 'train/detailed_oneD_NMR/56536.pt']\n",
      "['test/detailed_oneD_NMR/6936.pt', 'test/detailed_oneD_NMR/6937.pt', 'train/detailed_oneD_NMR/56554.pt']\n",
      "['test/detailed_oneD_NMR/6938.pt', 'test/detailed_oneD_NMR/6939.pt', 'train/detailed_oneD_NMR/56555.pt']\n",
      "['test/detailed_oneD_NMR/7176.pt', 'test/detailed_oneD_NMR/7177.pt', 'val/detailed_oneD_NMR/7450.pt']\n",
      "['test/detailed_oneD_NMR/7251.pt', 'train/detailed_oneD_NMR/59056.pt', 'train/detailed_oneD_NMR/59057.pt']\n",
      "['test/detailed_oneD_NMR/7574.pt', 'train/detailed_oneD_NMR/61525.pt', 'train/detailed_oneD_NMR/61526.pt']\n",
      "['test/detailed_oneD_NMR/7658.pt', 'train/detailed_oneD_NMR/62346.pt']\n",
      "['test/detailed_oneD_NMR/8089.pt', 'train/detailed_oneD_NMR/65880.pt']\n",
      "['test/detailed_oneD_NMR/8231.pt', 'train/detailed_oneD_NMR/66925.pt']\n",
      "['test/detailed_oneD_NMR/8753.pt', 'train/detailed_oneD_NMR/71094.pt']\n",
      "['test/detailed_oneD_NMR/8854.pt', 'train/detailed_oneD_NMR/71791.pt']\n",
      "['test/detailed_oneD_NMR/9655.pt', 'train/detailed_oneD_NMR/78089.pt']\n",
      "['test/detailed_oneD_NMR/11549.pt', 'train/detailed_oneD_NMR/92237.pt']\n",
      "['test/detailed_oneD_NMR/11925.pt', 'train/detailed_oneD_NMR/70839.pt']\n",
      "['test/detailed_oneD_NMR/12239.pt', 'train/detailed_oneD_NMR/98030.pt']\n",
      "['test/detailed_oneD_NMR/12320.pt', 'train/detailed_oneD_NMR/98613.pt', 'train/detailed_oneD_NMR/98614.pt']\n",
      "['test/detailed_oneD_NMR/12350.pt', 'train/detailed_oneD_NMR/99634.pt', 'train/detailed_oneD_NMR/99635.pt']\n",
      "['test/detailed_oneD_NMR/12352.pt', 'train/detailed_oneD_NMR/99642.pt']\n",
      "['test/detailed_oneD_NMR/12354.pt', 'val/detailed_oneD_NMR/12497.pt']\n",
      "['test/detailed_oneD_NMR/12355.pt', 'test/detailed_oneD_NMR/12356.pt', 'train/detailed_oneD_NMR/99681.pt']\n",
      "['test/detailed_oneD_NMR/12366.pt', 'train/detailed_oneD_NMR/100600.pt']\n",
      "['test/detailed_oneD_NMR/12367.pt', 'train/detailed_oneD_NMR/100603.pt']\n",
      "['test/detailed_oneD_NMR/12381.pt', 'train/detailed_oneD_NMR/98896.pt']\n",
      "['test/detailed_oneD_NMR/12389.pt', 'train/detailed_oneD_NMR/99220.pt']\n",
      "['test/detailed_oneD_NMR/12468.pt', 'train/detailed_oneD_NMR/99953.pt']\n",
      "['test/detailed_oneD_NMR/12472.pt', 'train/detailed_oneD_NMR/99996.pt']\n",
      "['test/detailed_oneD_NMR/12473.pt', 'train/detailed_oneD_NMR/100034.pt']\n",
      "['test/detailed_oneD_NMR/12483.pt', 'train/detailed_oneD_NMR/98853.pt']\n",
      "['test/detailed_oneD_NMR/12522.pt', 'train/detailed_oneD_NMR/100592.pt']\n",
      "['test/detailed_oneD_NMR/12531.pt', 'test/detailed_oneD_NMR/12532.pt', 'train/detailed_oneD_NMR/100509.pt']\n",
      "['test/detailed_oneD_NMR/12536.pt', 'train/detailed_oneD_NMR/100526.pt']\n",
      "['test/detailed_oneD_NMR/12537.pt', 'test/detailed_oneD_NMR/12538.pt', 'train/detailed_oneD_NMR/100529.pt']\n",
      "['test/detailed_oneD_NMR/12631.pt', 'train/detailed_oneD_NMR/101414.pt']\n",
      "['test/detailed_oneD_NMR/13309.pt', 'test/detailed_oneD_NMR/13310.pt', 'test/detailed_oneD_NMR/13311.pt', 'val/detailed_oneD_NMR/13442.pt']\n",
      "['test/detailed_oneD_NMR/13424.pt', 'train/detailed_oneD_NMR/108259.pt']\n",
      "['test/detailed_oneD_NMR/13425.pt', 'train/detailed_oneD_NMR/109258.pt']\n",
      "['test/detailed_oneD_NMR/13670.pt', 'train/detailed_oneD_NMR/76813.pt']\n",
      "['test/detailed_oneD_NMR/13673.pt', 'test/detailed_oneD_NMR/13674.pt', 'test/detailed_oneD_NMR/13675.pt', 'train/detailed_oneD_NMR/99749.pt']\n",
      "['test/detailed_oneD_NMR/13717.pt', 'train/detailed_oneD_NMR/109792.pt']\n",
      "['train/detailed_oneD_NMR/6138.pt', 'val/detailed_oneD_NMR/780.pt', 'val/detailed_oneD_NMR/781.pt']\n",
      "['train/detailed_oneD_NMR/11374.pt', 'train/detailed_oneD_NMR/11375.pt', 'val/detailed_oneD_NMR/1486.pt']\n",
      "['train/detailed_oneD_NMR/12303.pt', 'val/detailed_oneD_NMR/1600.pt']\n",
      "['train/detailed_oneD_NMR/14231.pt', 'val/detailed_oneD_NMR/1889.pt']\n",
      "['train/detailed_oneD_NMR/15115.pt', 'val/detailed_oneD_NMR/2008.pt']\n",
      "['train/detailed_oneD_NMR/16340.pt', 'val/detailed_oneD_NMR/2182.pt']\n",
      "['train/detailed_oneD_NMR/18363.pt', 'val/detailed_oneD_NMR/2410.pt', 'val/detailed_oneD_NMR/2411.pt']\n",
      "['train/detailed_oneD_NMR/18364.pt', 'train/detailed_oneD_NMR/18365.pt', 'train/detailed_oneD_NMR/18366.pt', 'val/detailed_oneD_NMR/2412.pt', 'val/detailed_oneD_NMR/2413.pt', 'val/detailed_oneD_NMR/2414.pt']\n",
      "['train/detailed_oneD_NMR/18371.pt', 'val/detailed_oneD_NMR/2415.pt']\n",
      "['train/detailed_oneD_NMR/32683.pt', 'val/detailed_oneD_NMR/4180.pt']\n",
      "['train/detailed_oneD_NMR/32703.pt', 'val/detailed_oneD_NMR/4181.pt']\n",
      "['train/detailed_oneD_NMR/32704.pt', 'val/detailed_oneD_NMR/4182.pt']\n",
      "['train/detailed_oneD_NMR/36690.pt', 'val/detailed_oneD_NMR/4657.pt']\n",
      "['train/detailed_oneD_NMR/36854.pt', 'val/detailed_oneD_NMR/2457.pt']\n",
      "['train/detailed_oneD_NMR/40505.pt', 'val/detailed_oneD_NMR/5167.pt']\n",
      "['train/detailed_oneD_NMR/44197.pt', 'val/detailed_oneD_NMR/5642.pt', 'val/detailed_oneD_NMR/5643.pt']\n",
      "['train/detailed_oneD_NMR/47032.pt', 'val/detailed_oneD_NMR/5967.pt', 'val/detailed_oneD_NMR/5968.pt']\n",
      "['train/detailed_oneD_NMR/48903.pt', 'val/detailed_oneD_NMR/6202.pt']\n",
      "['train/detailed_oneD_NMR/49576.pt', 'val/detailed_oneD_NMR/6287.pt', 'val/detailed_oneD_NMR/6288.pt']\n",
      "['train/detailed_oneD_NMR/52970.pt', 'val/detailed_oneD_NMR/6734.pt', 'val/detailed_oneD_NMR/6735.pt']\n",
      "['train/detailed_oneD_NMR/53338.pt', 'val/detailed_oneD_NMR/6784.pt']\n",
      "['train/detailed_oneD_NMR/55091.pt', 'val/detailed_oneD_NMR/7007.pt']\n",
      "['train/detailed_oneD_NMR/55740.pt', 'val/detailed_oneD_NMR/7089.pt']\n",
      "['train/detailed_oneD_NMR/55866.pt', 'train/detailed_oneD_NMR/55867.pt', 'val/detailed_oneD_NMR/7081.pt']\n",
      "['train/detailed_oneD_NMR/56155.pt', 'train/detailed_oneD_NMR/56156.pt', 'val/detailed_oneD_NMR/7122.pt']\n",
      "['train/detailed_oneD_NMR/56535.pt', 'val/detailed_oneD_NMR/7180.pt']\n",
      "['train/detailed_oneD_NMR/62735.pt', 'val/detailed_oneD_NMR/7977.pt']\n",
      "['train/detailed_oneD_NMR/62752.pt', 'train/detailed_oneD_NMR/62753.pt', 'val/detailed_oneD_NMR/7979.pt']\n",
      "['train/detailed_oneD_NMR/63269.pt', 'train/detailed_oneD_NMR/63270.pt', 'val/detailed_oneD_NMR/8038.pt']\n",
      "['train/detailed_oneD_NMR/66178.pt', 'val/detailed_oneD_NMR/8346.pt']\n",
      "['train/detailed_oneD_NMR/68403.pt', 'val/detailed_oneD_NMR/8615.pt']\n",
      "['train/detailed_oneD_NMR/76632.pt', 'val/detailed_oneD_NMR/9691.pt', 'val/detailed_oneD_NMR/9692.pt']\n",
      "['train/detailed_oneD_NMR/77395.pt', 'val/detailed_oneD_NMR/9770.pt']\n",
      "['train/detailed_oneD_NMR/81489.pt', 'val/detailed_oneD_NMR/10292.pt']\n",
      "['train/detailed_oneD_NMR/95197.pt', 'val/detailed_oneD_NMR/12331.pt']\n",
      "['train/detailed_oneD_NMR/96196.pt', 'train/detailed_oneD_NMR/96197.pt', 'val/detailed_oneD_NMR/12018.pt', 'val/detailed_oneD_NMR/12019.pt', 'val/detailed_oneD_NMR/12020.pt']\n",
      "['train/detailed_oneD_NMR/98547.pt', 'val/detailed_oneD_NMR/11929.pt']\n",
      "['train/detailed_oneD_NMR/98828.pt', 'val/detailed_oneD_NMR/12495.pt']\n",
      "['train/detailed_oneD_NMR/98864.pt', 'train/detailed_oneD_NMR/98865.pt', 'val/detailed_oneD_NMR/12498.pt', 'val/detailed_oneD_NMR/12499.pt']\n",
      "['train/detailed_oneD_NMR/98890.pt', 'val/detailed_oneD_NMR/12375.pt']\n",
      "['train/detailed_oneD_NMR/99630.pt', 'val/detailed_oneD_NMR/12377.pt']\n",
      "['train/detailed_oneD_NMR/99741.pt', 'val/detailed_oneD_NMR/12507.pt']\n",
      "['train/detailed_oneD_NMR/99750.pt', 'val/detailed_oneD_NMR/12509.pt']\n",
      "['train/detailed_oneD_NMR/99758.pt', 'val/detailed_oneD_NMR/12388.pt', 'val/detailed_oneD_NMR/12389.pt']\n",
      "['train/detailed_oneD_NMR/99947.pt', 'val/detailed_oneD_NMR/12520.pt']\n",
      "['train/detailed_oneD_NMR/100472.pt', 'train/detailed_oneD_NMR/100473.pt', 'val/detailed_oneD_NMR/12392.pt']\n",
      "['train/detailed_oneD_NMR/100506.pt', 'train/detailed_oneD_NMR/100507.pt', 'val/detailed_oneD_NMR/12600.pt']\n",
      "['train/detailed_oneD_NMR/100551.pt', 'train/detailed_oneD_NMR/100585.pt', 'val/detailed_oneD_NMR/12592.pt', 'val/detailed_oneD_NMR/12593.pt']\n",
      "['train/detailed_oneD_NMR/100581.pt', 'train/detailed_oneD_NMR/100582.pt', 'val/detailed_oneD_NMR/12591.pt']\n",
      "['train/detailed_oneD_NMR/100596.pt', 'val/detailed_oneD_NMR/12590.pt']\n",
      "['train/detailed_oneD_NMR/100614.pt', 'val/detailed_oneD_NMR/12391.pt']\n",
      "['train/detailed_oneD_NMR/100709.pt', 'train/detailed_oneD_NMR/100710.pt', 'val/detailed_oneD_NMR/12566.pt']\n",
      "['train/detailed_oneD_NMR/102940.pt', 'val/detailed_oneD_NMR/12854.pt']\n",
      "['train/detailed_oneD_NMR/103000.pt', 'val/detailed_oneD_NMR/12874.pt']\n",
      "['train/detailed_oneD_NMR/103130.pt', 'val/detailed_oneD_NMR/12882.pt']\n",
      "['train/detailed_oneD_NMR/103217.pt', 'val/detailed_oneD_NMR/12897.pt']\n",
      "['train/detailed_oneD_NMR/103470.pt', 'val/detailed_oneD_NMR/12932.pt']\n",
      "['train/detailed_oneD_NMR/105296.pt', 'val/detailed_oneD_NMR/13157.pt']\n",
      "['train/detailed_oneD_NMR/106340.pt', 'val/detailed_oneD_NMR/13444.pt']\n",
      "['train/detailed_oneD_NMR/106488.pt', 'train/detailed_oneD_NMR/106489.pt', 'val/detailed_oneD_NMR/13557.pt']\n",
      "['train/detailed_oneD_NMR/106527.pt', 'val/detailed_oneD_NMR/13443.pt']\n",
      "['train/detailed_oneD_NMR/106531.pt', 'train/detailed_oneD_NMR/107383.pt', 'val/detailed_oneD_NMR/13697.pt']\n",
      "['train/detailed_oneD_NMR/107166.pt', 'val/detailed_oneD_NMR/13371.pt']\n",
      "['train/detailed_oneD_NMR/107351.pt', 'val/detailed_oneD_NMR/13441.pt']\n",
      "['train/detailed_oneD_NMR/107376.pt', 'train/detailed_oneD_NMR/109255.pt', 'val/detailed_oneD_NMR/13331.pt']\n",
      "['train/detailed_oneD_NMR/108508.pt', 'val/detailed_oneD_NMR/13392.pt']\n",
      "['train/detailed_oneD_NMR/109480.pt', 'val/detailed_oneD_NMR/9020.pt', 'val/detailed_oneD_NMR/9021.pt', 'val/detailed_oneD_NMR/9022.pt']\n",
      "['train/detailed_oneD_NMR/109483.pt', 'val/detailed_oneD_NMR/12316.pt', 'val/detailed_oneD_NMR/12317.pt']\n"
     ]
    }
   ],
   "source": [
    "inchi_key_collision = []\n",
    "for v in inchi_key_to_file_path.values():\n",
    "    if len(v)>1:\n",
    "        folder = [path.split(\"/\")[0] for path in v]\n",
    "        if len(set(folder))>1:\n",
    "            print (v)\n",
    "        "
   ]
  },
  {
   "cell_type": "code",
   "execution_count": null,
   "metadata": {},
   "outputs": [],
   "source": []
  }
 ],
 "metadata": {
  "kernelspec": {
   "display_name": "base",
   "language": "python",
   "name": "python3"
  },
  "language_info": {
   "codemirror_mode": {
    "name": "ipython",
    "version": 3
   },
   "file_extension": ".py",
   "mimetype": "text/x-python",
   "name": "python",
   "nbconvert_exporter": "python",
   "pygments_lexer": "ipython3",
   "version": "3.10.13"
  }
 },
 "nbformat": 4,
 "nbformat_minor": 2
}
