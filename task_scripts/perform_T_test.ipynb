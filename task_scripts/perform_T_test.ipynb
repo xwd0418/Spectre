{
 "cells": [
  {
   "cell_type": "code",
   "execution_count": 20,
   "metadata": {},
   "outputs": [],
   "source": [
    "import os, pickle, sys, torch, numpy as np\n",
    "print_keys = [\n",
    "    \"test/mean_rank_1\",\n",
    "    \"test/mean_rank_5\",\n",
    "    \"test/mean_mean_rank\",\n",
    "    \"test/mean_cos\",\n",
    "    \"test/mean_f1\", \n",
    "]\n",
    "\n",
    "\n",
    "\n",
    "# load pickles \n",
    "from collections import defaultdict\n",
    "\n",
    "def loading_exp_results(table_path, all_exps):\n",
    "    exp_name_to_key_to_results = defaultdict(lambda: defaultdict(list))\n",
    "    for exp in all_exps:\n",
    "        if 'trial' in exp:\n",
    "            trial_spelling = \"trial\"\n",
    "        elif 'trail' in exp:\n",
    "            trial_spelling = \"trail\"\n",
    "        else: raise NotImplementedError()\n",
    "        # print(exp)\n",
    "        with open(f'{table_path}/{exp}/test_result.pkl', 'rb') as f:\n",
    "            result = pickle.load(f)[0]\n",
    "            \n",
    "            for key in print_keys:\n",
    "                if key not in result:\n",
    "                    continue\n",
    "                exp_name_to_key_to_results[\"_\".join(exp.split(trial_spelling)[:-1])][key].append(result[key])\n",
    "                # exp_name_to_key_to_results[exp][key].append(result[key])\n",
    "                # print(key, result[key])\n",
    "    return np.array(list((list(exp_name_to_key_to_results.values())[0].values())))    \n"
   ]
  },
  {
   "cell_type": "code",
   "execution_count": 21,
   "metadata": {},
   "outputs": [
    {
     "data": {
      "text/plain": [
       "array([[ 0.82135016,  0.82339942,  0.82010072],\n",
       "       [ 0.94401932,  0.94416839,  0.94093591],\n",
       "       [11.78706932, 11.01833725, 13.91453457],\n",
       "       [ 0.82279176,  0.82581866,  0.82432544],\n",
       "       [ 0.83986765,  0.84222263,  0.8411898 ]])"
      ]
     },
     "execution_count": 21,
     "metadata": {},
     "output_type": "execute_result"
    }
   ],
   "source": [
    "# paths  \n",
    "table_path = '/root/gurusmart/MorganFP_prediction/reproduce_previous_works/average_3/FP_versions/'\n",
    "# table_path = '/root/gurusmart/MorganFP_prediction/reproduce_previous_works/explore_scaling/with_peaks'\n",
    "\n",
    "all_exps = os.listdir(table_path)\n",
    "all_exps = [exp for exp in all_exps if 'reduce' in exp]\n",
    "\n",
    "sign_only_results = loading_exp_results(table_path, all_exps)\n",
    "sign_only_results"
   ]
  },
  {
   "cell_type": "code",
   "execution_count": 22,
   "metadata": {},
   "outputs": [
    {
     "data": {
      "text/plain": [
       "array([[ 0.82215941,  0.82149684,  0.82090288],\n",
       "       [ 0.94438607,  0.94372588,  0.94739372],\n",
       "       [14.94289494, 13.46200371, 14.04756165],\n",
       "       [ 0.82426989,  0.8253383 ,  0.82680094],\n",
       "       [ 0.8412686 ,  0.8418752 ,  0.84330708]])"
      ]
     },
     "execution_count": 22,
     "metadata": {},
     "output_type": "execute_result"
    }
   ],
   "source": [
    "# paths  \n",
    "# table_path = '/root/gurusmart/MorganFP_prediction/reproduce_previous_works/average_3/FP_versions/'\n",
    "table_path = '/root/gurusmart/MorganFP_prediction/reproduce_previous_works/explore_scaling/with_peaks'\n",
    "\n",
    "all_exps = os.listdir(table_path)\n",
    "# all_exps = [exp for exp in all_exps if 'reduce' in exp]\n",
    "\n",
    "with_values_results = loading_exp_results(table_path, all_exps)\n",
    "with_values_results "
   ]
  },
  {
   "cell_type": "code",
   "execution_count": 26,
   "metadata": {},
   "outputs": [
    {
     "data": {
      "text/plain": [
       "TtestResult(statistic=array([ 0.0944362 , -1.37777703, -1.97540672, -1.0147498 , -1.1603487 ]), pvalue=array([0.92930414, 0.24033176, 0.1194278 , 0.36761512, 0.31044272]), df=array([4., 4., 4., 4., 4.]))"
      ]
     },
     "execution_count": 26,
     "metadata": {},
     "output_type": "execute_result"
    }
   ],
   "source": [
    "from scipy.stats import ttest_ind\n",
    "# for groupA, groupB in zip(sign_only_results, with_values_results):\n",
    "ttest_ind(sign_only_results, with_values_results, axis=1)\n",
    "    "
   ]
  },
  {
   "cell_type": "code",
   "execution_count": 4,
   "metadata": {},
   "outputs": [],
   "source": [
    "from scipy.stats import ttest_ind\n",
    "\n",
    "dropout_hsqc_h = [0.9791,0.977 , 0.9761]\n",
    "dropout_hsqc_c = [0.9912, 0.9894, 0.9889]\n",
    "dropout_c = [0.9738, 0.9762, 0.9766]\n",
    "original_h = [0.9686, 0.9661, 0.9667]\n",
    "original_c = [0.9696, 0.9703, 0.9705]\n"
   ]
  },
  {
   "cell_type": "code",
   "execution_count": 5,
   "metadata": {},
   "outputs": [
    {
     "data": {
      "text/plain": [
       "TtestResult(statistic=8.810795342435508, pvalue=0.0004577788098202808, df=4.0)"
      ]
     },
     "execution_count": 5,
     "metadata": {},
     "output_type": "execute_result"
    }
   ],
   "source": [
    "ttest_ind(dropout_hsqc_h , original_h, alternative='greater')"
   ]
  },
  {
   "cell_type": "code",
   "execution_count": 6,
   "metadata": {},
   "outputs": [
    {
     "data": {
      "text/plain": [
       "TtestResult(statistic=26.273154666436263, pvalue=6.235762690716941e-06, df=4.0)"
      ]
     },
     "execution_count": 6,
     "metadata": {},
     "output_type": "execute_result"
    }
   ],
   "source": [
    "ttest_ind(dropout_hsqc_c , original_c, alternative='greater')"
   ]
  },
  {
   "cell_type": "code",
   "execution_count": 7,
   "metadata": {},
   "outputs": [
    {
     "data": {
      "text/plain": [
       "TtestResult(statistic=5.895783654499343, pvalue=0.0020698359668579573, df=4.0)"
      ]
     },
     "execution_count": 7,
     "metadata": {},
     "output_type": "execute_result"
    }
   ],
   "source": [
    "ttest_ind(dropout_c , original_c, alternative='greater')"
   ]
  },
  {
   "cell_type": "code",
   "execution_count": null,
   "metadata": {},
   "outputs": [],
   "source": []
  }
 ],
 "metadata": {
  "kernelspec": {
   "display_name": "base",
   "language": "python",
   "name": "python3"
  },
  "language_info": {
   "codemirror_mode": {
    "name": "ipython",
    "version": 3
   },
   "file_extension": ".py",
   "mimetype": "text/x-python",
   "name": "python",
   "nbconvert_exporter": "python",
   "pygments_lexer": "ipython3",
   "version": "3.10.13"
  }
 },
 "nbformat": 4,
 "nbformat_minor": 2
}
