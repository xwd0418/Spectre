{
 "cells": [
  {
   "cell_type": "code",
   "execution_count": 1,
   "metadata": {},
   "outputs": [],
   "source": [
    "import os\n",
    "import torch, pickle, yaml\n"
   ]
  },
  {
   "cell_type": "markdown",
   "metadata": {},
   "source": [
    "Suggested by Chen: we need to see if there are peaks overlaped/very close to each other. It is because the NMR are annoted after identifying the structure."
   ]
  },
  {
   "cell_type": "code",
   "execution_count": 11,
   "metadata": {},
   "outputs": [],
   "source": [
    "def check_1d_H_overlap(t):\n",
    "    for i in range(len(t)):\n",
    "        for j in range(len(t)):\n",
    "            if i==j: continue\n",
    "            if torch.abs(t[i]-t[j])<0.2:\n",
    "                return True\n",
    "    return False\n",
    "def check_1d_C_overlap(t):\n",
    "    for i in range(len(t)):\n",
    "        for j in range(len(t)):\n",
    "            if i==j: continue\n",
    "            if torch.abs(t[i]-t[j])<0.5:\n",
    "                return True\n",
    "    return False\n",
    "\n",
    "def check_1d(f, overlapping_C, overlapping_H):\n",
    "    c_tensor, h_tensor = torch.load(f)\n",
    "    if check_1d_C_overlap(c_tensor):\n",
    "        overlapping_C.append(f)\n",
    "    elif check_1d_H_overlap(h_tensor):\n",
    "        overlapping_H.append(f)\n",
    "    \n",
    "    "
   ]
  },
  {
   "cell_type": "code",
   "execution_count": null,
   "metadata": {},
   "outputs": [],
   "source": [
    "def check_2d(f,overlap_HSQC):\n",
    "    hsqc_tensor = torch.load(f)\n",
    "    if  check_1d"
   ]
  },
  {
   "cell_type": "code",
   "execution_count": 12,
   "metadata": {},
   "outputs": [
    {
     "name": "stdout",
     "output_type": "stream",
     "text": [
      "Checking test set, total files: 4208\n",
      "Overlap files with HSQC: C: 3290, H: 673\n",
      "Checking test set, total files: 11014\n",
      "Overlap files without HSQC: C: 8912, H: 1312\n"
     ]
    }
   ],
   "source": [
    "\n",
    "\n",
    "weird_H_file_paths = []\n",
    "\n",
    "all_maxes = set()\n",
    "\n",
    "for split in [\n",
    "            # 'train',\n",
    "            #   'val', \n",
    "              'test'\n",
    "              ]:\n",
    "    dir_1d = f'/workspace/OneD_Only_Dataset/'\n",
    "    dir = f'/workspace/SMILES_dataset/'\n",
    "    \n",
    "    files = os.listdir(os.path.join(dir, split, \"oneD_NMR\"))\n",
    "    print(f\"Checking {split} set, total files: {len(files)}\")  \n",
    "    overlap_c_files_w_hsqc = []  \n",
    "    overlap_h_files_w_hsqc = []\n",
    "    for f in files:\n",
    "        check_1d(f\"{dir}/{split}/oneD_NMR/{f}\", overlap_c_files_w_hsqc, overlap_h_files_w_hsqc)\n",
    "    print(f\"Overlap files with HSQC: C: {len(overlap_c_files_w_hsqc)}, H: {len(overlap_h_files_w_hsqc)}\")\n",
    "            \n",
    "    files = os.listdir(os.path.join(dir_1d, split, \"oneD_NMR\"))\n",
    "    print(f\"Checking {split} set, total files: {len(files)}\")\n",
    "\n",
    "    overlap_c_files_wo_hsqc = []\n",
    "    overlap_h_files_wo_hsqc = []\n",
    "    \n",
    "    for f in files:\n",
    "        check_1d(f\"{dir_1d}/{split}/oneD_NMR/{f}\", overlap_c_files_wo_hsqc, overlap_h_files_wo_hsqc)\n",
    "    print(f\"Overlap files without HSQC: C: {len(overlap_c_files_wo_hsqc)}, H: {len(overlap_h_files_wo_hsqc)}\")"
   ]
  },
  {
   "cell_type": "code",
   "execution_count": 10,
   "metadata": {},
   "outputs": [
    {
     "name": "stdout",
     "output_type": "stream",
     "text": [
      "10002.pt\n",
      "C: tensor([101.2900,  71.3600,  73.7100,  77.6500,  77.0500,  55.6600,  62.2400])\n",
      "H tensor([3.7200, 3.7500, 4.1700, 5.4400, 4.1200, 3.8000])\n",
      "\n",
      "\n",
      "\n",
      "10013.pt\n",
      "C: tensor([ 15.7100,  18.9600,  19.8000,  18.9200,  18.0700,  28.9200,  30.6900,\n",
      "         35.2200,  37.7900,  38.5400,  40.4000,  43.7300,  43.8200,  49.5900,\n",
      "        183.6900,  56.7300,  58.7500,  77.4800,  99.2800])\n",
      "H tensor([1.9000, 1.6300, 3.3900, 1.5800, 5.5900, 1.3000, 1.2500, 2.0500, 1.2700,\n",
      "        1.7700, 1.6900, 1.5900, 1.0500])\n",
      "\n",
      "\n",
      "\n",
      "10015.pt\n",
      "C: tensor([129.9000, 129.5700, 139.7000,  11.5500, 143.6000,  18.5600,  20.8600,\n",
      "        149.9200,  24.3000,  41.8600, 170.7400,  43.3000,  43.7100,  48.7600,\n",
      "         54.2000,  54.1000,  58.8000,  71.6000,  72.4400,  74.2200,  77.8600,\n",
      "        108.1000, 110.0000])\n",
      "H tensor([1.9500, 2.1000, 3.5000, 4.8600, 5.8000, 6.4700, 7.4100, 7.4200, 1.0600,\n",
      "        4.1900, 4.1300, 2.0700, 4.2400, 5.5400, 2.3500, 2.1100, 1.5800])\n",
      "\n",
      "\n",
      "\n",
      "10018.pt\n",
      "C: tensor([ 35.2800,  38.3300,  40.4000, 105.1900,  10.6400,  43.9900,  41.8600,\n",
      "         28.1600,  46.2000,  48.6100,  17.8200,  52.8700,  23.7900,  57.1100,\n",
      "         58.6000,  92.5500])\n",
      "H tensor([0.9600, 1.7200, 2.8400, 3.5000, 2.8300, 5.8000, 2.6700, 1.0200, 2.2900,\n",
      "        1.5800, 2.7000, 1.1300])\n",
      "\n",
      "\n",
      "\n",
      "1002.pt\n",
      "C: tensor([ 21.3000,  26.6100, 158.6000,  33.3000,  35.1200,  36.6300,  39.3500,\n",
      "         40.4000,  41.6300,  42.1100,  44.0300,  50.7400,  50.0000,  70.7800,\n",
      "         71.1100,  72.4400,  78.4200,  80.8500,  97.5300, 108.4000])\n",
      "H tensor([0.9800, 1.8800, 2.8500, 2.2600, 4.1300, 5.2100, 1.0800, 1.3700, 1.7300,\n",
      "        3.3600, 2.4700, 3.8700, 2.0400, 4.4100])\n",
      "\n",
      "\n",
      "\n",
      "10022.pt\n",
      "C: tensor([129.4400, 130.1000, 136.4000, 145.7200, 148.1300,  21.8000,  24.3000,\n",
      "         27.3000,  29.1000, 158.5100,  34.0400,  35.7000,  35.2800,  37.0000,\n",
      "         38.0000,  47.9100,  49.6000,  54.0500, 194.7500,  66.2500,  71.1100,\n",
      "         80.1200, 101.1000])\n",
      "H tensor([0.8900, 1.7200, 2.5700, 3.3500, 4.4900, 5.6100, 6.0200, 3.0800, 8.6900,\n",
      "        4.1900, 3.4300, 2.3700, 1.3300, 1.1800])\n",
      "\n",
      "\n",
      "\n",
      "10029.pt\n",
      "C: tensor([ 67.6100,  35.0300,  35.1200, 134.8700, 102.9400,  42.1100,  43.8800,\n",
      "         42.3800, 141.7700,  42.3600,  15.0500,  75.7000,  54.7400,  28.6500])\n",
      "H tensor([0.9900, 1.8800, 2.3200, 3.3200, 4.7800, 5.2300, 2.0400, 2.9900, 2.0100,\n",
      "        3.8000, 2.8300])\n",
      "\n",
      "\n",
      "\n",
      "10034.pt\n",
      "C: tensor([129.1000,  70.4000, 103.2900,  74.9000, 143.2000, 112.6000, 113.1400,\n",
      "        114.4000,  79.4000,  23.8500,  57.9000, 154.0000, 156.7000, 159.8000])\n",
      "H tensor([1.3500, 3.5100, 4.1200, 5.7600, 6.8600, 7.7400, 7.4600, 6.2100])\n",
      "\n",
      "\n",
      "\n",
      "10038.pt\n",
      "C: tensor([128.4300, 130.9300, 132.6600,  71.3100, 104.0000,  73.3000,  41.3200,\n",
      "        108.3200, 114.4100, 115.5000,  87.5000,  57.8100, 155.2300, 156.0000,\n",
      "        159.8000])\n",
      "H tensor([3.4200, 4.3100, 5.6500, 6.5100, 6.7700, 7.3500, 3.2900, 6.9200, 6.7100])\n",
      "\n",
      "\n",
      "\n",
      "10039.pt\n",
      "C: tensor([128.8500, 128.9300, 131.0700, 132.0700,  68.9500, 166.7700, 135.2300,\n",
      "        136.4200, 140.0900,  51.9500, 153.0700, 124.3700,  62.7400, 127.1900])\n",
      "H tensor([3.7300, 3.5600, 4.2400, 6.8800, 7.3600, 7.7900, 6.6300, 7.4800, 7.3500,\n",
      "        7.3100])\n",
      "\n",
      "\n",
      "\n"
     ]
    }
   ],
   "source": [
    "dir = f'/workspace/SMILES_dataset/'\n",
    "files = os.listdir(os.path.join(dir, split, \"oneD_NMR\"))\n",
    "\n",
    "for f in files[:10]:\n",
    "    c_tensor, h_tensor = torch.load(f\"{dir}/{split}/oneD_NMR/{f}\")\n",
    "    print(f)\n",
    "    print(\"C:\", c_tensor)\n",
    "    print(\"H\",h_tensor)\n",
    "    print(\"\\n\\n\")"
   ]
  },
  {
   "cell_type": "code",
   "execution_count": null,
   "metadata": {},
   "outputs": [],
   "source": []
  }
 ],
 "metadata": {
  "kernelspec": {
   "display_name": "base",
   "language": "python",
   "name": "python3"
  },
  "language_info": {
   "codemirror_mode": {
    "name": "ipython",
    "version": 3
   },
   "file_extension": ".py",
   "mimetype": "text/x-python",
   "name": "python",
   "nbconvert_exporter": "python",
   "pygments_lexer": "ipython3",
   "version": "3.10.13"
  }
 },
 "nbformat": 4,
 "nbformat_minor": 2
}
