{
 "cells": [
  {
   "cell_type": "code",
   "execution_count": 1,
   "metadata": {},
   "outputs": [],
   "source": [
    "'''should look at the py file of the same name'''\n",
    "\n",
    "import os, torch, pickle, json, random\n",
    "from rdkit import Chem\n",
    "from tqdm import tqdm\n",
    "from collections import defaultdict\n",
    "import tqdm\n"
   ]
  },
  {
   "cell_type": "code",
   "execution_count": 2,
   "metadata": {},
   "outputs": [],
   "source": [
    "def smiles_to_inchi(smile):\n",
    "    molecule = Chem.MolFromSmiles(smile)\n",
    "\n",
    "    # Convert the RDKit molecule to an InChI \n",
    "    inchi = Chem.inchi.MolToInchi(molecule)\n",
    "    return inchi"
   ]
  },
  {
   "cell_type": "code",
   "execution_count": null,
   "metadata": {},
   "outputs": [],
   "source": []
  },
  {
   "cell_type": "code",
   "execution_count": 3,
   "metadata": {},
   "outputs": [],
   "source": [
    "from rdkit import Chem\n",
    "\n",
    "def get_canonical_smiles(datum):\n",
    "    \"\"\"\n",
    "    Converts a SMILES string to its canonical form.\n",
    "\n",
    "    Args:\n",
    "    smiles (str): The SMILES string to be canonicalized.\n",
    "\n",
    "    Returns:\n",
    "    str: The canonical SMILES string.\n",
    "    \"\"\"\n",
    "    smiles = datum['smiles']\n",
    "    try:\n",
    "        mol = Chem.MolFromSmiles(smiles)\n",
    "        if mol is None:\n",
    "            raise Exception(\"Invalid SMILES string\")\n",
    "        canonical_smiles = Chem.MolToSmiles(mol, canonical=True)\n",
    "        return canonical_smiles\n",
    "    except:\n",
    "        try:\n",
    "            inchi = datum['inchi']\n",
    "            mol = Chem.MolFromInchi(inchi)\n",
    "            if mol is None:\n",
    "                raise Exception(\"Invalid Inchi string\")\n",
    "            canonical_smiles = Chem.MolToSmiles(mol, canonical=True)\n",
    "            return canonical_smiles\n",
    "        except:\n",
    "            print(\"BAD: \", smiles, inchi)\n",
    "            return None\n",
    "        \n"
   ]
  },
  {
   "cell_type": "code",
   "execution_count": 4,
   "metadata": {},
   "outputs": [
    {
     "name": "stderr",
     "output_type": "stream",
     "text": [
      " 10%|▉         | 27425/280242 [00:09<01:47, 2347.74it/s][08:26:05] Conflicting single bond directions around double bond at index 2.\n",
      "[08:26:05]   BondStereo set to STEREONONE and single bond directions set to NONE.\n",
      " 15%|█▍        | 41141/280242 [00:15<01:26, 2754.65it/s][08:26:12] WARNING: not removing hydrogen atom without neighbors\n",
      "[08:26:12] WARNING: not removing hydrogen atom without neighbors\n",
      " 15%|█▍        | 41509/280242 [00:15<01:18, 3023.96it/s]"
     ]
    },
    {
     "name": "stdout",
     "output_type": "stream",
     "text": [
      "BAD:  None None\n"
     ]
    },
    {
     "name": "stderr",
     "output_type": "stream",
     "text": [
      " 15%|█▌        | 42693/280242 [00:16<01:12, 3285.62it/s][08:26:12] WARNING: not removing hydrogen atom without neighbors\n",
      "[08:26:12] WARNING: not removing hydrogen atom without neighbors\n",
      "[08:26:12] WARNING: not removing hydrogen atom without neighbors\n",
      " 16%|█▌        | 44549/280242 [00:16<00:54, 4291.14it/s][08:26:12] WARNING: not removing hydrogen atom without neighbors\n",
      " 18%|█▊        | 49316/280242 [00:17<01:04, 3599.41it/s]"
     ]
    },
    {
     "name": "stdout",
     "output_type": "stream",
     "text": [
      "BAD:  None None\n"
     ]
    },
    {
     "name": "stderr",
     "output_type": "stream",
     "text": [
      " 18%|█▊        | 51703/280242 [00:18<01:22, 2765.89it/s][08:26:15] Can't kekulize mol.  Unkekulized atoms: 2 3 31\n",
      "[08:26:15] WARNING:  Problems/mismatches: Mobile-H( Mobile-H groups: Attachment points, Number)\n",
      "\n",
      " 19%|█▉        | 53137/280242 [00:19<01:11, 3172.45it/s]"
     ]
    },
    {
     "name": "stdout",
     "output_type": "stream",
     "text": [
      "BAD:  None None\n"
     ]
    },
    {
     "name": "stderr",
     "output_type": "stream",
     "text": [
      " 20%|█▉        | 54702/280242 [00:19<01:02, 3620.57it/s]"
     ]
    },
    {
     "name": "stdout",
     "output_type": "stream",
     "text": [
      "BAD:  None None\n"
     ]
    },
    {
     "name": "stderr",
     "output_type": "stream",
     "text": [
      " 20%|█▉        | 55893/280242 [00:19<00:58, 3829.64it/s]"
     ]
    },
    {
     "name": "stdout",
     "output_type": "stream",
     "text": [
      "BAD:  None None\n"
     ]
    },
    {
     "name": "stderr",
     "output_type": "stream",
     "text": [
      " 21%|██        | 58572/280242 [00:20<01:14, 2974.18it/s][08:26:17] Explicit valence for atom # 2 N, 4, is greater than permitted\n",
      "[08:26:17] Explicit valence for atom # 9 N, 4, is greater than permitted\n",
      "[08:26:17] ERROR: Explicit valence for atom # 9 N, 4, is greater than permitted\n",
      "\n",
      "[08:26:17] Explicit valence for atom # 10 O, 3, is greater than permitted\n",
      "[08:26:17] Explicit valence for atom # 40 B, 7, is greater than permitted\n",
      "[08:26:17] ERROR: Explicit valence for atom # 40 B, 7, is greater than permitted\n",
      "\n",
      " 21%|██        | 59217/280242 [00:21<01:13, 3004.91it/s]"
     ]
    },
    {
     "name": "stdout",
     "output_type": "stream",
     "text": [
      "BAD:  CO\\[N](O)=C\\C(=O)NCCCC(N)=O InChI=1S/C7H14N3O4/c1-14-10(13)5-7(12)9-4-2-3-6(8)11/h5,13H,2-4H2,1H3,(H2,8,11)(H,9,12)/b10-5+\n",
      "BAD:  C[C@H]1O[C@@H]2C[C@@H]1OC(=O)[C@H]1[O-][BH4+3]34[O-][C@H](C(=O)O[C@@H]5C[C@H](O[C@@H]5C)\\C=C/C[C@@H](O)C(C)(C)[C@@H]5CC[C@H](C)[C@]1(O5)[O-]3)[C@@]1(O[C@@H](CC[C@@H]1C)C(C)(C)[C@@H](O)C\\C=C\\2)[O-]4 InChI=1S/C40H64BO14/c1-21-15-17-31-37(5,6)29(42)13-9-11-26-20-28(24(4)47-26)49-36(45)34-40-22(2)16-18-32(51-40)38(7,8)30(43)14-10-12-25-19-27(23(3)46-25)48-35(44)33-39(21,50-31)54-41(52-33,53-34)55-40/h9-12,21-34,42-43H,13-20H2,1-8H3,41H4/q-1/b11-9-,12-10+/t21-,22-,23+,24+,25-,26+,27-,28+,29+,30-,31-,32-,33+,34+,39-,40-/m0/s1\n"
     ]
    },
    {
     "name": "stderr",
     "output_type": "stream",
     "text": [
      " 22%|██▏       | 60657/280242 [00:21<01:03, 3468.60it/s]"
     ]
    },
    {
     "name": "stdout",
     "output_type": "stream",
     "text": [
      "BAD:  None None\n",
      "BAD:  None None\n"
     ]
    },
    {
     "name": "stderr",
     "output_type": "stream",
     "text": [
      " 22%|██▏       | 61878/280242 [00:21<00:57, 3830.66it/s]"
     ]
    },
    {
     "name": "stdout",
     "output_type": "stream",
     "text": [
      "BAD:  None None\n"
     ]
    },
    {
     "name": "stderr",
     "output_type": "stream",
     "text": [
      " 22%|██▏       | 62708/280242 [00:21<00:57, 3767.02it/s]"
     ]
    },
    {
     "name": "stdout",
     "output_type": "stream",
     "text": [
      "BAD:  None None\n",
      "BAD:  None None\n"
     ]
    },
    {
     "name": "stderr",
     "output_type": "stream",
     "text": [
      " 23%|██▎       | 64241/280242 [00:22<01:00, 3586.03it/s][08:26:18] Explicit valence for atom # 20 N, 4, is greater than permitted\n",
      "[08:26:18] Explicit valence for atom # 20 N, 4, is greater than permitted\n",
      "[08:26:18] ERROR: Explicit valence for atom # 20 N, 4, is greater than permitted\n",
      "\n",
      " 23%|██▎       | 64962/280242 [00:22<01:03, 3393.11it/s]"
     ]
    },
    {
     "name": "stdout",
     "output_type": "stream",
     "text": [
      "BAD:  None None\n",
      "BAD:  COC1=C(O)C=C(C[C@H]2C3=CC(O)=C(OC)C=C3CC[N]2(C)C)C=C1 InChI=1S/C20H26NO4/c1-21(2)8-7-14-11-20(25-4)18(23)12-15(14)16(21)9-13-5-6-19(24-3)17(22)10-13/h5-6,10-12,16,22-23H,7-9H2,1-4H3/t16-/m0/s1\n"
     ]
    },
    {
     "name": "stderr",
     "output_type": "stream",
     "text": [
      " 24%|██▎       | 66448/280242 [00:22<01:02, 3444.56it/s][08:26:19] Explicit valence for atom # 24 N, 4, is greater than permitted\n",
      "[08:26:19] Explicit valence for atom # 21 N, 4, is greater than permitted\n",
      "[08:26:19] ERROR: Explicit valence for atom # 21 N, 4, is greater than permitted\n",
      "\n",
      " 24%|██▍       | 66794/280242 [00:23<01:04, 3310.78it/s][08:26:19] Explicit valence for atom # 17 N, 4, is greater than permitted\n",
      "[08:26:19] Explicit valence for atom # 22 N, 4, is greater than permitted\n",
      "[08:26:19] ERROR: Explicit valence for atom # 22 N, 4, is greater than permitted\n",
      "\n",
      " 24%|██▍       | 67127/280242 [00:23<01:05, 3277.15it/s]"
     ]
    },
    {
     "name": "stdout",
     "output_type": "stream",
     "text": [
      "BAD:  COC1=CC2=C(C=C1OC)[C@@H]1CC3=C(C=C(OC)C(OC)=C3)[C@H](C2)[N]1(C)O InChI=1S/C21H26NO5/c1-22(23)16-6-12-8-18(24-2)20(26-4)10-14(12)17(22)7-13-9-19(25-3)21(27-5)11-15(13)16/h8-11,16-17,23H,6-7H2,1-5H3/t16-,17-/m0/s1\n",
      "BAD:  COC1=CC=C2NC3=C(C[C@H]4[C@@H](CO)[C@H]5C[C@@H]3[N@]4(C)C\\C5=C\\C)C2=C1 InChI=1S/C21H27N2O2/c1-4-12-10-23(2)19-9-16-15-7-13(25-3)5-6-18(15)22-21(16)20(23)8-14(12)17(19)11-24/h4-7,14,17,19-20,22,24H,8-11H2,1-3H3/b12-4-/t14-,17-,19-,20-/m0/s1\n",
      "BAD:  None None\n"
     ]
    },
    {
     "name": "stderr",
     "output_type": "stream",
     "text": [
      "[08:26:19] Explicit valence for atom # 4 N, 4, is greater than permitted\n",
      "[08:26:19] Explicit valence for atom # 21 N, 4, is greater than permitted\n",
      "[08:26:19] ERROR: Explicit valence for atom # 21 N, 4, is greater than permitted\n",
      "\n",
      "[08:26:19] Explicit valence for atom # 9 N, 4, is greater than permitted\n",
      " 24%|██▍       | 67775/280242 [00:23<01:07, 3168.57it/s]"
     ]
    },
    {
     "name": "stdout",
     "output_type": "stream",
     "text": [
      "BAD:  C\\C=C1\\C[N@@]2(C)[C@H]3CC4=C(NC5=CC=C(O)C=C45)[C@@H]2C[C@@H]1[C@H]3CO InChI=1S/C20H25N2O2/c1-3-11-9-22(2)18-8-15-14-6-12(24)4-5-17(14)21-20(15)19(22)7-13(11)16(18)10-23/h3-6,13,16,18-19,21,23-24H,7-10H2,1-2H3/b11-3-/t13-,16+,18-,19-/m0/s1\n"
     ]
    },
    {
     "name": "stderr",
     "output_type": "stream",
     "text": [
      " 25%|██▍       | 69488/280242 [00:24<01:22, 2564.77it/s]"
     ]
    },
    {
     "name": "stdout",
     "output_type": "stream",
     "text": [
      "BAD:  None None\n"
     ]
    },
    {
     "name": "stderr",
     "output_type": "stream",
     "text": [
      " 25%|██▍       | 69747/280242 [00:24<01:23, 2521.82it/s][08:26:20] Explicit valence for atom # 23 N, 4, is greater than permitted\n",
      "[08:26:20] Explicit valence for atom # 18 N, 4, is greater than permitted\n",
      "[08:26:20] ERROR: Explicit valence for atom # 18 N, 4, is greater than permitted\n",
      "\n",
      " 25%|██▍       | 70003/280242 [00:24<01:23, 2530.87it/s]"
     ]
    },
    {
     "name": "stdout",
     "output_type": "stream",
     "text": [
      "BAD:  None None\n",
      "BAD:  COC(=O)C1=C2C(=CC3=C(OC)C=CC=C3C2=C2OCOC2=C1)[N](O)=O InChI=1S/C18H14NO7/c1-23-13-5-3-4-9-10(13)6-12(19(21)22)15-11(18(20)24-2)7-14-17(16(9)15)26-8-25-14/h3-7H,8H2,1-2H3,(H,21,22)\n",
      "BAD:  CC[C@H]1C\\C=C\\CC[C@H](O)CC(=O)C(C)(C)[C@H]2CC[C@@H](C)[C@@]3(O2)[O-][BH4+3]24[O-][C@H](C(=O)O1)[C@@]1(O[C@H](CC[C@@H]1C)C(C)(C)C(=O)C[C@@H](O)CC\\C=C/C[C@@H](CC)OC(=O)[C@H]3[O-]2)[O-]4 InChI=1S/C44H72BO14/c1-9-31-19-15-11-13-17-29(46)25-33(48)42(7,8)36-24-22-28(4)44(55-36)38-40(51)53-32(10-2)20-16-12-14-18-30(47)26-34(49)41(5,6)35-23-21-27(3)43(54-35)37(39(50)52-31)56-45(57-38,58-43)59-44/h11-12,15-16,27-32,35-38,46-47H,9-10,13-14,17-26H2,1-8H3,45H4/q-1/b15-11-,16-12+/t27-,28+,29+,30+,31-,32+,35-,36-,37-,38-,43-,44+/m1/s1\n"
     ]
    },
    {
     "name": "stderr",
     "output_type": "stream",
     "text": [
      "[08:26:20] Explicit valence for atom # 23 O, 3, is greater than permitted\n",
      "[08:26:20] Explicit valence for atom # 44 B, 7, is greater than permitted\n",
      "[08:26:20] ERROR: Explicit valence for atom # 44 B, 7, is greater than permitted\n",
      "\n",
      " 25%|██▌       | 70548/280242 [00:24<01:21, 2578.74it/s][08:26:20] Explicit valence for atom # 7 O, 3, is greater than permitted\n",
      "[08:26:20] Explicit valence for atom # 46 B, 7, is greater than permitted\n",
      "[08:26:20] ERROR: Explicit valence for atom # 46 B, 7, is greater than permitted\n",
      "\n",
      "[08:26:20] Explicit valence for atom # 20 N, 4, is greater than permitted\n",
      "[08:26:20] Explicit valence for atom # 18 N, 4, is greater than permitted\n",
      "[08:26:20] ERROR: Explicit valence for atom # 18 N, 4, is greater than permitted\n",
      "\n",
      " 25%|██▌       | 71107/280242 [00:24<01:18, 2676.01it/s]"
     ]
    },
    {
     "name": "stdout",
     "output_type": "stream",
     "text": [
      "BAD:  C[C@H]1CC[C@H]2O[C@]11[O-][BH4+3]34[O-][C@H](C(=O)O[C@@H](C)CC\\C=C/C=C\\CC[C@@H](O)CC(=O)[C@@H]2C)[C@@]2(O[C@@H](CC[C@@H]2C)[C@H](C)C(=O)C[C@@H](O)CC\\C=C/C=C\\CC[C@@H](C)OC(=O)[C@H]1[O-]3)[O-]4 InChI=1S/C46H72BO14/c1-29-23-25-39-33(5)37(50)27-35(48)21-17-13-10-8-12-16-20-32(4)55-44(53)42-46-30(2)24-26-40(57-46)34(6)38(51)28-36(49)22-18-14-9-7-11-15-19-31(3)54-43(52)41-45(29,56-39)60-47(58-41,59-42)61-46/h7-14,29-36,39-42,48-49H,15-28H2,1-6H3,47H4/q-1/b11-7-,12-8-,13-10-,14-9-/t29-,30-,31-,32+,33+,34-,35-,36+,39-,40+,41+,42+,45-,46-/m0/s1\n",
      "BAD:  COC1=C2O[C@H]3[C@@H](O)C=C[C@H]4[C@H]5CC(C=C1)=C2[C@@]34CC[N]5(C)O InChI=1S/C18H22NO4/c1-19(21)8-7-18-11-4-5-13(20)17(18)23-16-14(22-2)6-3-10(15(16)18)9-12(11)19/h3-6,11-13,17,20-21H,7-9H2,1-2H3/t11-,12+,13-,17-,18-/m0/s1\n"
     ]
    },
    {
     "name": "stderr",
     "output_type": "stream",
     "text": [
      " 26%|██▌       | 71652/280242 [00:24<01:22, 2532.25it/s]"
     ]
    },
    {
     "name": "stdout",
     "output_type": "stream",
     "text": [
      "BAD:  None None\n"
     ]
    },
    {
     "name": "stderr",
     "output_type": "stream",
     "text": [
      " 26%|██▌       | 72626/280242 [00:25<01:11, 2905.96it/s]"
     ]
    },
    {
     "name": "stdout",
     "output_type": "stream",
     "text": [
      "BAD:  None None\n"
     ]
    },
    {
     "name": "stderr",
     "output_type": "stream",
     "text": [
      " 26%|██▌       | 73246/280242 [00:25<01:11, 2903.92it/s][08:26:21] Explicit valence for atom # 16 O, 3, is greater than permitted\n",
      "[08:26:21] Explicit valence for atom # 24 O, 3, is greater than permitted\n",
      " 26%|██▌       | 73539/280242 [00:25<01:14, 2776.37it/s]"
     ]
    },
    {
     "name": "stdout",
     "output_type": "stream",
     "text": [
      "BAD:  None None\n"
     ]
    },
    {
     "name": "stderr",
     "output_type": "stream",
     "text": [
      "[08:26:21] Can't kekulize mol.  Unkekulized atoms: 1 4 5 6 7 9 10 11 12 13 14\n",
      "[08:26:21] Explicit valence for atom # 6 N, 4, is greater than permitted\n",
      "[08:26:21] Explicit valence for atom # 20 N, 4, is greater than permitted\n",
      "[08:26:21] ERROR: Explicit valence for atom # 20 N, 4, is greater than permitted\n",
      "\n",
      "[08:26:21] Explicit valence for atom # 3 N, 4, is greater than permitted\n",
      "[08:26:21] Explicit valence for atom # 21 N, 4, is greater than permitted\n",
      "[08:26:21] ERROR: Explicit valence for atom # 21 N, 4, is greater than permitted\n",
      "\n",
      " 26%|██▋       | 74083/280242 [00:25<01:23, 2480.28it/s]"
     ]
    },
    {
     "name": "stdout",
     "output_type": "stream",
     "text": [
      "BAD:  COC1=C2CC[N](C)(C)[C@@H]3[C@@H](O)C4=C(C=CC=C4)C(C4=C1OCO4)=C23 InChI=1S/C20H22NO4/c1-21(2)9-8-13-14-15(19-20(18(13)23-3)25-10-24-19)11-6-4-5-7-12(11)17(22)16(14)21/h4-7,16-17,22H,8-10H2,1-3H3/t16-,17-/m0/s1\n",
      "BAD:  C[C@]12C[N@@]3(C)[C@@H]4[C@H]5C(=O)[C@H]6C[C@@H]7[C@@]5(CC6=C)C[C@@]3(O)[C@H]1[C@]47C[C@@H](O)C2 InChI=1S/C21H28NO3/c1-10-5-19-8-21(25)17-18(2)6-11(23)7-20(17)13(19)4-12(10)15(24)14(19)16(20)22(21,3)9-18/h11-14,16-17,23,25H,1,4-9H2,2-3H3/t11-,12-,13+,14+,16+,17+,18-,19+,20-,21+/m0/s1\n"
     ]
    },
    {
     "name": "stderr",
     "output_type": "stream",
     "text": [
      " 27%|██▋       | 74847/280242 [00:26<01:25, 2403.32it/s][08:26:22] Explicit valence for atom # 14 N, 4, is greater than permitted\n",
      "[08:26:22] Explicit valence for atom # 23 N, 4, is greater than permitted\n",
      "[08:26:22] ERROR: Explicit valence for atom # 23 N, 4, is greater than permitted\n",
      "\n",
      " 27%|██▋       | 75135/280242 [00:26<01:20, 2536.13it/s][08:26:22] Explicit valence for atom # 16 N, 4, is greater than permitted\n",
      "[08:26:22] Explicit valence for atom # 22 N, 4, is greater than permitted\n",
      "[08:26:22] ERROR: Explicit valence for atom # 22 N, 4, is greater than permitted\n",
      "\n",
      "[08:26:22] Explicit valence for atom # 8 N, 4, is greater than permitted\n",
      "[08:26:22] Explicit valence for atom # 24 N, 4, is greater than permitted\n",
      "[08:26:22] ERROR: Explicit valence for atom # 24 N, 4, is greater than permitted\n",
      "\n",
      "[08:26:22] Explicit valence for atom # 16 N, 4, is greater than permitted\n",
      "[08:26:22] Explicit valence for atom # 25 N, 4, is greater than permitted\n",
      "[08:26:22] ERROR: Explicit valence for atom # 25 N, 4, is greater than permitted\n",
      "\n",
      " 27%|██▋       | 75425/280242 [00:26<01:17, 2639.87it/s][08:26:22] Explicit valence for atom # 21 N, 4, is greater than permitted\n",
      "[08:26:22] Explicit valence for atom # 22 N, 4, is greater than permitted\n",
      "[08:26:22] ERROR: Explicit valence for atom # 22 N, 4, is greater than permitted\n",
      "\n"
     ]
    },
    {
     "name": "stdout",
     "output_type": "stream",
     "text": [
      "BAD:  COC(=O)[C@]1(CO)[C@@H]2C[C@@H]3C4=C(C[C@H]1[N@]3(C)C\\C2=C/C)C1=CC=CC=C1N4 InChI=1S/C22H27N2O3/c1-4-13-11-24(2)18-10-16(13)22(12-25,21(26)27-3)19(24)9-15-14-7-5-6-8-17(14)23-20(15)18/h4-8,16,18-19,23,25H,9-12H2,1-3H3/b13-4+/t16-,18-,19-,22-/m1/s1\n",
      "BAD:  CN1C=CC=C1C(=O)O[C@@H]1C[C@H]2C[C@H](C[C@@H]1[N]2(C)O)OC(=O)C1=CC=CN1C InChI=1S/C20H26N3O5/c1-21-8-4-6-15(21)19(24)27-14-10-13-11-18(17(12-14)23(13,3)26)28-20(25)16-7-5-9-22(16)2/h4-9,13-14,17-18,26H,10-12H2,1-3H3/t13-,14-,17+,18-/m1/s1\n",
      "BAD:  OC1=CC2=C(C=C1O)[N]13CCC4=C(C=C(O)C(O)=C4)[C@@H]1CC1=C(C=C(O)C(O)=C1)[C@H]3C2 InChI=1S/C24H22NO6/c26-19-5-11-1-2-25-16-10-24(31)21(28)7-13(16)4-18(25)15-9-23(30)20(27)6-12(15)3-17(25)14(11)8-22(19)29/h5-10,17-18,26-31H,1-4H2/t17-,18+/m0/s1\n",
      "BAD:  COC1=CC2=C(C[C@@H]3C4=C(C[C@H]5C6=C(CC[N]235)C=C(O)C(O)=C6)C=C(O)C(O)=C4)C=C1O InChI=1S/C25H24NO6/c1-32-25-11-17-14(8-24(25)31)5-19-16-10-23(30)21(28)7-13(16)4-18-15-9-22(29)20(27)6-12(15)2-3-26(17,18)19/h6-11,18-19,27-31H,2-5H2,1H3/t18-,19+/m0/s1\n",
      "BAD:  CC[C@@H]1[C@@H]2C[C@H]3[C@@H]4N(C)C5=C(C=CC=C5)[C@]44C[C@@H]([C@H]2[C@H]4O)[N@@]3(C)[C@H]1O InChI=1S/C21H29N2O2/c1-4-11-12-9-15-18-21(13-7-5-6-8-14(13)22(18)2)10-16(17(12)19(21)24)23(15,3)20(11)25/h5-8,11-12,15-20,24-25H,4,9-10H2,1-3H3/t11-,12+,15+,16+,17+,18+,19-,20+,21-/m1/s1\n"
     ]
    },
    {
     "name": "stderr",
     "output_type": "stream",
     "text": [
      " 27%|██▋       | 75724/280242 [00:26<01:14, 2738.35it/s][08:26:22] Explicit valence for atom # 4 N, 4, is greater than permitted\n",
      "[08:26:22] Explicit valence for atom # 22 N, 4, is greater than permitted\n",
      "[08:26:22] ERROR: Explicit valence for atom # 22 N, 4, is greater than permitted\n",
      "\n",
      "[08:26:22] Can't kekulize mol.  Unkekulized atoms: 2 3 24\n",
      "[08:26:22] Can't kekulize mol.  Unkekulized atoms: 2 3 25\n",
      "[08:26:22] Explicit valence for atom # 4 N, 4, is greater than permitted\n",
      "[08:26:22] Explicit valence for atom # 22 N, 4, is greater than permitted\n",
      "[08:26:22] ERROR: Explicit valence for atom # 22 N, 4, is greater than permitted\n",
      "\n",
      " 27%|██▋       | 76285/280242 [00:26<01:16, 2656.85it/s]"
     ]
    },
    {
     "name": "stdout",
     "output_type": "stream",
     "text": [
      "BAD:  C\\C=C1\\C[N@@]2(C)CC[C@@]34C5=C(N[C@]33OC[C@]4([C@H]1C(=O)[C@H]23)C(O)=O)C=CC=C5 InChI=1S/C21H23N2O4/c1-3-12-10-23(2)9-8-20-13-6-4-5-7-14(13)22-21(20)17(23)16(24)15(12)19(20,11-27-21)18(25)26/h3-7,15,17,22H,8-11H2,1-2H3,(H,25,26)/b12-3-/t15-,17+,19+,20+,21-/m1/s1\n",
      "BAD:  C\\C=C1/C[N@]2(C)CC[C@@]34C5=CC=CC=C5N[C@@]23[C@H](O)C[C@@H]1[C@@]4(CO)C(O)=O InChI=1S/C21H27N2O4/c1-3-13-11-23(2)9-8-20-14-6-4-5-7-16(14)22-21(20,23)17(25)10-15(13)19(20,12-24)18(26)27/h3-7,15,17,22,24-25H,8-12H2,1-2H3,(H,26,27)/b13-3+/t15-,17+,19-,20-,21-/m0/s1\n"
     ]
    },
    {
     "name": "stderr",
     "output_type": "stream",
     "text": [
      " 27%|██▋       | 76564/280242 [00:26<01:15, 2693.75it/s][08:26:23] Can't kekulize mol.  Unkekulized atoms: 1 2 12\n",
      " 27%|██▋       | 76837/280242 [00:26<01:15, 2702.74it/s]"
     ]
    },
    {
     "name": "stdout",
     "output_type": "stream",
     "text": [
      "BAD:  None None\n"
     ]
    },
    {
     "name": "stderr",
     "output_type": "stream",
     "text": [
      "[08:26:23] Explicit valence for atom # 28 N, 4, is greater than permitted\n",
      " 28%|██▊       | 77766/280242 [00:27<01:08, 2934.50it/s][08:26:23] Can't kekulize mol.  Unkekulized atoms: 16 17 23 24 25\n",
      "[08:26:23] Can't kekulize mol.  Unkekulized atoms: 20 21 27 28 29\n",
      "[08:26:23] Can't kekulize mol.  Unkekulized atoms: 16 17 25 26 27\n",
      " 28%|██▊       | 78061/280242 [00:27<01:10, 2858.41it/s][08:26:23] Explicit valence for atom # 28 N, 4, is greater than permitted\n",
      "[08:26:23] Explicit valence for atom # 34 N, 4, is greater than permitted\n",
      "[08:26:23] ERROR: Explicit valence for atom # 34 N, 4, is greater than permitted\n",
      "\n",
      "[08:26:23] Explicit valence for atom # 30 N, 4, is greater than permitted\n",
      "[08:26:23] Explicit valence for atom # 35 N, 4, is greater than permitted\n",
      "[08:26:23] ERROR: Explicit valence for atom # 35 N, 4, is greater than permitted\n",
      "\n",
      "[08:26:23] Can't kekulize mol.  Unkekulized atoms: 2 3 24\n",
      "[08:26:23] Explicit valence for atom # 13 N, 4, is greater than permitted\n",
      "[08:26:23] Explicit valence for atom # 19 N, 4, is greater than permitted\n",
      "[08:26:23] ERROR: Explicit valence for atom # 19 N, 4, is greater than permitted\n",
      "\n",
      " 28%|██▊       | 78349/280242 [00:27<01:12, 2769.40it/s][08:26:23] Explicit valence for atom # 1 N, 4, is greater than permitted\n",
      "[08:26:23] Explicit valence for atom # 15 N, 4, is greater than permitted\n",
      "[08:26:23] ERROR: Explicit valence for atom # 15 N, 4, is greater than permitted\n",
      "\n",
      "[08:26:23] Explicit valence for atom # 1 N, 4, is greater than permitted\n",
      "[08:26:23] Explicit valence for atom # 15 N, 4, is greater than permitted\n",
      "[08:26:23] ERROR: Explicit valence for atom # 15 N, 4, is greater than permitted\n",
      "\n",
      "[08:26:23] Explicit valence for atom # 13 N, 4, is greater than permitted\n",
      "[08:26:23] Explicit valence for atom # 21 N, 4, is greater than permitted\n",
      "[08:26:23] ERROR: Explicit valence for atom # 21 N, 4, is greater than permitted\n",
      "\n",
      " 28%|██▊       | 78633/280242 [00:27<01:12, 2788.05it/s]"
     ]
    },
    {
     "name": "stdout",
     "output_type": "stream",
     "text": [
      "BAD:  COC(=O)[C@]1(COC(=O)C2=CC(OC)=C(OC)C=C2)[C@H]2[C@@H]3O[C@@]4([C@@H]5C[C@H]1\\C(C[N@]35C)=C/C)[C@@H]2C1=CC(OC)=CC=C1N4C InChI=1S/C33H39N2O8/c1-8-18-16-35(3)26-15-22(18)32(31(37)41-7,17-42-30(36)19-9-12-24(39-5)25(13-19)40-6)28-27-21-14-20(38-4)10-11-23(21)34(2)33(26,27)43-29(28)35/h8-14,22,26-29H,15-17H2,1-7H3/b18-8-/t22-,26-,27+,28+,29-,32-,33-/m0/s1\n",
      "BAD:  COC(=O)[C@@]1(COC(=O)C2=CC(OC)=C(OC)C(OC)=C2)[C@H]2[C@@H]3O[C@@]4([C@@H]5C[C@H]1\\C(C[N@]35C)=C/C)[C@@H]2C1=CC(OC)=CC=C1N4C InChI=1S/C34H41N2O9/c1-9-18-16-36(3)26-15-22(18)33(32(38)43-8,17-44-31(37)19-12-24(40-5)29(42-7)25(13-19)41-6)28-27-21-14-20(39-4)10-11-23(21)35(2)34(26,27)45-30(28)36/h9-14,22,26-28,30H,15-17H2,1-8H3/b18-9-/t22-,26-,27+,28+,30-,33+,34-/m0/s1\n",
      "BAD:  CN1CC[C@]2(C\\C=C(/C)C(O)=O)[C@H]1[N](C)(C)C1=CC=CC=C21 InChI=1S/C18H25N2O2/c1-13(16(21)22)9-10-18-11-12-19(2)17(18)20(3,4)15-8-6-5-7-14(15)18/h5-9,17H,10-12H2,1-4H3,(H,21,22)/b13-9+/t17-,18+/m1/s1\n",
      "BAD:  C[N]1(CCCCC1)[C@H](CC1=CC=CC=C1)C(O)=O InChI=1S/C15H22NO2/c1-16(10-6-3-7-11-16)14(15(17)18)12-13-8-4-2-5-9-13/h2,4-5,8-9,14H,3,6-7,10-12H2,1H3,(H,17,18)/t14-/m1/s1\n",
      "BAD:  C[N]1(CCCCC1)[C@H](CC1=CC=C(O)C=C1)C(O)=O InChI=1S/C15H22NO3/c1-16(9-3-2-4-10-16)14(15(18)19)11-12-5-7-13(17)8-6-12/h5-8,14,17H,2-4,9-11H2,1H3,(H,18,19)/t14-/m1/s1\n",
      "BAD:  COC1=CC=C(C=C1)C(=O)O[C@@H](C[N]1(C)CCCC1)C1=CC=CC=C1 InChI=1S/C21H26NO3/c1-22(14-6-7-15-22)16-20(17-8-4-3-5-9-17)25-21(23)18-10-12-19(24-2)13-11-18/h3-5,8-13,20H,6-7,14-16H2,1-2H3/t20-/m0/s1\n"
     ]
    },
    {
     "name": "stderr",
     "output_type": "stream",
     "text": [
      "[08:26:23] Explicit valence for atom # 44 O, 3, is greater than permitted\n",
      " 28%|██▊       | 78913/280242 [00:27<01:18, 2548.48it/s][08:26:23] Explicit valence for atom # 26 N, 4, is greater than permitted\n",
      "[08:26:23] Explicit valence for atom # 30 N, 4, is greater than permitted\n",
      "[08:26:23] ERROR: Explicit valence for atom # 30 N, 4, is greater than permitted\n",
      "\n",
      "[08:26:23] Can't kekulize mol.  Unkekulized atoms: 8 9 10 13 14\n",
      "[08:26:23] Explicit valence for atom # 4 N, 4, is greater than permitted\n",
      "[08:26:23] Explicit valence for atom # 4 N, 4, is greater than permitted\n",
      "[08:26:23] Explicit valence for atom # 5 N, 4, is greater than permitted\n",
      "[08:26:23] Explicit valence for atom # 5 N, 4, is greater than permitted\n",
      " 28%|██▊       | 79469/280242 [00:27<01:17, 2603.72it/s][08:26:24] Explicit valence for atom # 22 N, 4, is greater than permitted\n",
      "[08:26:24] Explicit valence for atom # 27 N, 4, is greater than permitted\n",
      "[08:26:24] ERROR: Explicit valence for atom # 27 N, 4, is greater than permitted\n",
      "\n"
     ]
    },
    {
     "name": "stdout",
     "output_type": "stream",
     "text": [
      "BAD:  COC1=C(Br)[C@H](O)[C@]2(CC(=NO2)C(=O)NCCCOC2=C(Br)C=C(CC[N](C)(C)C)C=C2Br)C=C1Br InChI=1S/C24H30Br4N3O5/c1-31(2,3)8-6-14-10-15(25)20(16(26)11-14)35-9-5-7-29-23(33)18-13-24(36-30-18)12-17(27)21(34-4)19(28)22(24)32/h10-12,22,32H,5-9,13H2,1-4H3,(H,29,33)/t22-,24+/m0/s1\n",
      "BAD:  CC(C)=CCC\\C(C)=C\\CC\\C(C)=C\\CC(=O)NC[C@@H]1CC[N@]2(C)CCCC[C@H]12 InChI=1S/C26H45N2O/c1-21(2)10-8-11-22(3)12-9-13-23(4)15-16-26(29)27-20-24-17-19-28(5)18-7-6-14-25(24)28/h10,12,15,24-25H,6-9,11,13-14,16-20H2,1-5H3,(H,27,29)/b22-12+,23-15+/t24-,25+/m0/s1\n"
     ]
    },
    {
     "name": "stderr",
     "output_type": "stream",
     "text": [
      "[08:26:24] Explicit valence for atom # 1 N, 4, is greater than permitted\n",
      "[08:26:24] Explicit valence for atom # 32 N, 4, is greater than permitted\n",
      "[08:26:24] ERROR: Explicit valence for atom # 32 N, 4, is greater than permitted\n",
      "\n",
      " 29%|██▊       | 80030/280242 [00:28<01:14, 2690.05it/s][08:26:24] Can't kekulize mol.  Unkekulized atoms: 7 8 9 10 11\n",
      "[08:26:24] Explicit valence for atom # 20 N, 4, is greater than permitted\n",
      "[08:26:24] Explicit valence for atom # 25 N, 4, is greater than permitted\n",
      "[08:26:24] ERROR: Explicit valence for atom # 25 N, 4, is greater than permitted\n",
      "\n"
     ]
    },
    {
     "name": "stdout",
     "output_type": "stream",
     "text": [
      "BAD:  C[N](C)(C)CCO[P@](O)(=O)OCCCCCCCCCCCCCCCCCCCCCCO[P@](O)(=O)OCC[N](C)(C)C InChI=1S/C32H72N2O8P2/c1-33(2,3)27-31-41-43(35,36)39-29-25-23-21-19-17-15-13-11-9-7-8-10-12-14-16-18-20-22-24-26-30-40-44(37,38)42-32-28-34(4,5)6/h7-32H2,1-6H3,(H,35,36)(H,37,38)\n",
      "BAD:  C[C@H](CCC=C(C)C)\\C=C\\C=C(/C)C(=O)NC[C@@H]1CC[N@]2(C)CCCC[C@H]12 InChI=1S/C24H41N2O/c1-19(2)10-8-11-20(3)12-9-13-21(4)24(27)25-18-22-15-17-26(5)16-7-6-14-23(22)26/h9-10,12-13,20,22-23H,6-8,11,14-18H2,1-5H3,(H,25,27)/b12-9+,21-13+/t20-,22+,23-/m1/s1\n"
     ]
    },
    {
     "name": "stderr",
     "output_type": "stream",
     "text": [
      " 29%|██▉       | 81488/280242 [00:28<00:59, 3330.07it/s][08:26:24] Explicit valence for atom # 19 N, 4, is greater than permitted\n",
      "[08:26:24] WARNING:  Problems/mismatches: Mobile-H( Mobile-H groups: Attachment points, Number; Stereobonds/cumulenes: Missing known)\n",
      "\n",
      " 30%|██▉       | 83086/280242 [00:29<01:06, 2986.89it/s][08:26:25] Explicit valence for atom # 34 N, 4, is greater than permitted\n",
      "[08:26:25] WARNING:  Problems/mismatches: Mobile-H( Mobile-H groups: One instead of multiple, Attachment points, Number; Stereobonds/cumulenes: Missing known)\n",
      "\n",
      " 30%|██▉       | 83758/280242 [00:29<01:02, 3130.50it/s]"
     ]
    },
    {
     "name": "stdout",
     "output_type": "stream",
     "text": [
      "BAD:  None None\n"
     ]
    },
    {
     "name": "stderr",
     "output_type": "stream",
     "text": [
      " 30%|███       | 84107/280242 [00:29<01:00, 3232.58it/s][08:26:25] Explicit valence for atom # 0 P, 11, is greater than permitted\n",
      "[08:26:25] Explicit valence for atom # 58 P, 11, is greater than permitted\n",
      "[08:26:25] ERROR: Explicit valence for atom # 58 P, 11, is greater than permitted\n",
      "\n",
      " 30%|███       | 84736/280242 [00:29<01:06, 2940.89it/s]"
     ]
    },
    {
     "name": "stdout",
     "output_type": "stream",
     "text": [
      "BAD:  [P](OCC=C(C)C)(OCC=C(C)C)(=O)(OP(OCC=C(C)C)(OCC=C(C)C)=O)(CC=C(C)C)(CC=C(C)C)(CC=C(C)C)(CC=C(C)C)(CC=C(C)C)CC=C(C)C InChI=1S/C50H90O7P2/c1-41(2)21-31-53-58(51,54-32-22-42(3)4)57-59(52,35-25-45(9)10,36-26-46(11)12,37-27-47(13)14,38-28-48(15)16,39-29-49(17)18,40-30-50(19)20,55-33-23-43(5)6)56-34-24-44(7)8/h21-30H,31-40H2,1-20H3\n"
     ]
    },
    {
     "name": "stderr",
     "output_type": "stream",
     "text": [
      " 31%|███       | 86642/280242 [00:30<00:55, 3482.85it/s]"
     ]
    },
    {
     "name": "stdout",
     "output_type": "stream",
     "text": [
      "BAD:  None None\n"
     ]
    },
    {
     "name": "stderr",
     "output_type": "stream",
     "text": [
      " 32%|███▏      | 89989/280242 [00:31<01:07, 2804.59it/s][08:26:27] WARNING: not removing hydrogen atom without neighbors\n",
      " 32%|███▏      | 90637/280242 [00:31<01:02, 3021.53it/s]"
     ]
    },
    {
     "name": "stdout",
     "output_type": "stream",
     "text": [
      "BAD:  None None\n",
      "BAD:  None None\n",
      "BAD:  None None\n"
     ]
    },
    {
     "name": "stderr",
     "output_type": "stream",
     "text": [
      " 33%|███▎      | 93876/280242 [00:32<00:54, 3391.09it/s]"
     ]
    },
    {
     "name": "stdout",
     "output_type": "stream",
     "text": [
      "BAD:  None None\n"
     ]
    },
    {
     "name": "stderr",
     "output_type": "stream",
     "text": [
      " 34%|███▍      | 95994/280242 [00:32<00:55, 3316.69it/s]"
     ]
    },
    {
     "name": "stdout",
     "output_type": "stream",
     "text": [
      "BAD:  None None\n"
     ]
    },
    {
     "name": "stderr",
     "output_type": "stream",
     "text": [
      " 36%|███▌      | 100590/280242 [00:34<00:50, 3578.93it/s]"
     ]
    },
    {
     "name": "stdout",
     "output_type": "stream",
     "text": [
      "BAD:  None None\n"
     ]
    },
    {
     "name": "stderr",
     "output_type": "stream",
     "text": [
      " 42%|████▏     | 117063/280242 [00:38<00:45, 3612.20it/s]"
     ]
    },
    {
     "name": "stdout",
     "output_type": "stream",
     "text": [
      "BAD:  None None\n"
     ]
    },
    {
     "name": "stderr",
     "output_type": "stream",
     "text": [
      " 45%|████▍     | 125997/280242 [00:41<00:43, 3578.71it/s]"
     ]
    },
    {
     "name": "stdout",
     "output_type": "stream",
     "text": [
      "BAD:  None None\n"
     ]
    },
    {
     "name": "stderr",
     "output_type": "stream",
     "text": [
      " 46%|████▌     | 128457/280242 [00:42<00:44, 3427.75it/s]"
     ]
    },
    {
     "name": "stdout",
     "output_type": "stream",
     "text": [
      "BAD:  None None\n"
     ]
    },
    {
     "name": "stderr",
     "output_type": "stream",
     "text": [
      " 47%|████▋     | 131626/280242 [00:43<00:42, 3489.83it/s]"
     ]
    },
    {
     "name": "stdout",
     "output_type": "stream",
     "text": [
      "BAD:  None None\n"
     ]
    },
    {
     "name": "stderr",
     "output_type": "stream",
     "text": [
      " 48%|████▊     | 134555/280242 [00:44<00:40, 3604.23it/s]"
     ]
    },
    {
     "name": "stdout",
     "output_type": "stream",
     "text": [
      "BAD:  None None\n"
     ]
    },
    {
     "name": "stderr",
     "output_type": "stream",
     "text": [
      " 48%|████▊     | 135269/280242 [00:44<00:41, 3495.86it/s]"
     ]
    },
    {
     "name": "stdout",
     "output_type": "stream",
     "text": [
      "BAD:  None None\n",
      "BAD:  None None\n"
     ]
    },
    {
     "name": "stderr",
     "output_type": "stream",
     "text": [
      " 49%|████▉     | 137774/280242 [00:44<00:39, 3568.54it/s]"
     ]
    },
    {
     "name": "stdout",
     "output_type": "stream",
     "text": [
      "BAD:  None None\n"
     ]
    },
    {
     "name": "stderr",
     "output_type": "stream",
     "text": [
      " 50%|████▉     | 139590/280242 [00:45<00:39, 3562.59it/s]"
     ]
    },
    {
     "name": "stdout",
     "output_type": "stream",
     "text": [
      "BAD:  None None\n"
     ]
    },
    {
     "name": "stderr",
     "output_type": "stream",
     "text": [
      " 51%|█████     | 142764/280242 [00:46<00:39, 3467.27it/s]"
     ]
    },
    {
     "name": "stdout",
     "output_type": "stream",
     "text": [
      "BAD:  None None\n",
      "BAD:  None None\n"
     ]
    },
    {
     "name": "stderr",
     "output_type": "stream",
     "text": [
      " 52%|█████▏    | 145577/280242 [00:47<00:40, 3309.32it/s]"
     ]
    },
    {
     "name": "stdout",
     "output_type": "stream",
     "text": [
      "BAD:  None None\n"
     ]
    },
    {
     "name": "stderr",
     "output_type": "stream",
     "text": [
      " 53%|█████▎    | 149479/280242 [00:48<00:37, 3445.24it/s]"
     ]
    },
    {
     "name": "stdout",
     "output_type": "stream",
     "text": [
      "BAD:  None None\n"
     ]
    },
    {
     "name": "stderr",
     "output_type": "stream",
     "text": [
      " 57%|█████▋    | 158529/280242 [00:50<00:35, 3471.58it/s]"
     ]
    },
    {
     "name": "stdout",
     "output_type": "stream",
     "text": [
      "BAD:  None None\n"
     ]
    },
    {
     "name": "stderr",
     "output_type": "stream",
     "text": [
      " 58%|█████▊    | 162052/280242 [00:51<00:34, 3455.52it/s][08:26:48] Explicit valence for atom # 14 C, 5, is greater than permitted\n",
      " 59%|█████▉    | 166008/280242 [00:53<00:32, 3468.93it/s]"
     ]
    },
    {
     "name": "stdout",
     "output_type": "stream",
     "text": [
      "BAD:  None None\n"
     ]
    },
    {
     "name": "stderr",
     "output_type": "stream",
     "text": [
      " 60%|█████▉    | 168140/280242 [00:53<00:35, 3120.23it/s]"
     ]
    },
    {
     "name": "stdout",
     "output_type": "stream",
     "text": [
      "BAD:  None None\n"
     ]
    },
    {
     "name": "stderr",
     "output_type": "stream",
     "text": [
      " 61%|██████    | 170270/280242 [00:54<00:31, 3505.95it/s]"
     ]
    },
    {
     "name": "stdout",
     "output_type": "stream",
     "text": [
      "BAD:  None None\n"
     ]
    },
    {
     "name": "stderr",
     "output_type": "stream",
     "text": [
      " 62%|██████▏   | 173798/280242 [00:55<00:32, 3291.12it/s]"
     ]
    },
    {
     "name": "stdout",
     "output_type": "stream",
     "text": [
      "BAD:  None None\n"
     ]
    },
    {
     "name": "stderr",
     "output_type": "stream",
     "text": [
      " 64%|██████▍   | 180180/280242 [00:57<00:29, 3406.56it/s]"
     ]
    },
    {
     "name": "stdout",
     "output_type": "stream",
     "text": [
      "BAD:  None None\n",
      "BAD:  None None\n"
     ]
    },
    {
     "name": "stderr",
     "output_type": "stream",
     "text": [
      " 65%|██████▍   | 181233/280242 [00:57<00:29, 3344.53it/s]"
     ]
    },
    {
     "name": "stdout",
     "output_type": "stream",
     "text": [
      "BAD:  None None\n",
      "BAD:  None None\n"
     ]
    },
    {
     "name": "stderr",
     "output_type": "stream",
     "text": [
      " 65%|██████▌   | 183433/280242 [00:58<00:26, 3615.08it/s]"
     ]
    },
    {
     "name": "stdout",
     "output_type": "stream",
     "text": [
      "BAD:  None None\n"
     ]
    },
    {
     "name": "stderr",
     "output_type": "stream",
     "text": [
      " 66%|██████▌   | 185538/280242 [00:58<00:28, 3375.35it/s]"
     ]
    },
    {
     "name": "stdout",
     "output_type": "stream",
     "text": [
      "BAD:  None None\n"
     ]
    },
    {
     "name": "stderr",
     "output_type": "stream",
     "text": [
      " 68%|██████▊   | 191648/280242 [01:00<00:26, 3401.03it/s]"
     ]
    },
    {
     "name": "stdout",
     "output_type": "stream",
     "text": [
      "BAD:  None None\n"
     ]
    },
    {
     "name": "stderr",
     "output_type": "stream",
     "text": [
      " 69%|██████▉   | 193805/280242 [01:01<00:25, 3413.08it/s]"
     ]
    },
    {
     "name": "stdout",
     "output_type": "stream",
     "text": [
      "BAD:  None None\n"
     ]
    },
    {
     "name": "stderr",
     "output_type": "stream",
     "text": [
      " 70%|██████▉   | 195215/280242 [01:01<00:24, 3484.92it/s]"
     ]
    },
    {
     "name": "stdout",
     "output_type": "stream",
     "text": [
      "BAD:  None None\n"
     ]
    },
    {
     "name": "stderr",
     "output_type": "stream",
     "text": [
      " 70%|███████   | 196621/280242 [01:02<00:25, 3324.33it/s][08:26:58] Explicit valence for atom # 5 N, 5, is greater than permitted\n",
      " 71%|███████   | 199111/280242 [01:02<00:23, 3447.28it/s]"
     ]
    },
    {
     "name": "stdout",
     "output_type": "stream",
     "text": [
      "BAD:  None None\n"
     ]
    },
    {
     "name": "stderr",
     "output_type": "stream",
     "text": [
      " 73%|███████▎  | 205027/280242 [01:04<00:21, 3463.20it/s]"
     ]
    },
    {
     "name": "stdout",
     "output_type": "stream",
     "text": [
      "BAD:  None None\n",
      "BAD:  None None\n"
     ]
    },
    {
     "name": "stderr",
     "output_type": "stream",
     "text": [
      " 74%|███████▍  | 206816/280242 [01:05<00:20, 3501.80it/s]"
     ]
    },
    {
     "name": "stdout",
     "output_type": "stream",
     "text": [
      "BAD:  None None\n"
     ]
    },
    {
     "name": "stderr",
     "output_type": "stream",
     "text": [
      " 74%|███████▍  | 208587/280242 [01:05<00:20, 3426.64it/s]"
     ]
    },
    {
     "name": "stdout",
     "output_type": "stream",
     "text": [
      "BAD:  None None\n",
      "BAD:  None None\n"
     ]
    },
    {
     "name": "stderr",
     "output_type": "stream",
     "text": [
      " 75%|███████▍  | 209667/280242 [01:05<00:19, 3543.90it/s]"
     ]
    },
    {
     "name": "stdout",
     "output_type": "stream",
     "text": [
      "BAD:  None None\n"
     ]
    },
    {
     "name": "stderr",
     "output_type": "stream",
     "text": [
      " 77%|███████▋  | 216781/280242 [01:07<00:17, 3545.47it/s]"
     ]
    },
    {
     "name": "stdout",
     "output_type": "stream",
     "text": [
      "BAD:  None None\n"
     ]
    },
    {
     "name": "stderr",
     "output_type": "stream",
     "text": [
      " 79%|███████▉  | 221336/280242 [01:09<00:17, 3387.58it/s]"
     ]
    },
    {
     "name": "stdout",
     "output_type": "stream",
     "text": [
      "BAD:  None None\n"
     ]
    },
    {
     "name": "stderr",
     "output_type": "stream",
     "text": [
      " 80%|███████▉  | 223748/280242 [01:09<00:17, 3253.28it/s]"
     ]
    },
    {
     "name": "stdout",
     "output_type": "stream",
     "text": [
      "BAD:  None None\n",
      "BAD:  None None\n"
     ]
    },
    {
     "name": "stderr",
     "output_type": "stream",
     "text": [
      " 81%|████████  | 226523/280242 [01:10<00:15, 3469.61it/s]"
     ]
    },
    {
     "name": "stdout",
     "output_type": "stream",
     "text": [
      "BAD:  None None\n"
     ]
    },
    {
     "name": "stderr",
     "output_type": "stream",
     "text": [
      "[08:27:07] Explicit valence for atom # 9 C, 5, is greater than permitted\n",
      " 82%|████████▏ | 230023/280242 [01:11<00:15, 3310.59it/s]"
     ]
    },
    {
     "name": "stdout",
     "output_type": "stream",
     "text": [
      "BAD:  None None\n"
     ]
    },
    {
     "name": "stderr",
     "output_type": "stream",
     "text": [
      " 86%|████████▌ | 241336/280242 [01:15<00:11, 3472.52it/s]"
     ]
    },
    {
     "name": "stdout",
     "output_type": "stream",
     "text": [
      "BAD:  None None\n"
     ]
    },
    {
     "name": "stderr",
     "output_type": "stream",
     "text": [
      " 90%|████████▉ | 250898/280242 [01:17<00:08, 3285.06it/s]"
     ]
    },
    {
     "name": "stdout",
     "output_type": "stream",
     "text": [
      "BAD:  None None\n"
     ]
    },
    {
     "name": "stderr",
     "output_type": "stream",
     "text": [
      " 90%|█████████ | 253368/280242 [01:18<00:07, 3543.77it/s]"
     ]
    },
    {
     "name": "stdout",
     "output_type": "stream",
     "text": [
      "BAD:  None None\n"
     ]
    },
    {
     "name": "stderr",
     "output_type": "stream",
     "text": [
      " 92%|█████████▏| 257377/280242 [01:19<00:06, 3610.58it/s]"
     ]
    },
    {
     "name": "stdout",
     "output_type": "stream",
     "text": [
      "BAD:  None None\n"
     ]
    },
    {
     "name": "stderr",
     "output_type": "stream",
     "text": [
      " 92%|█████████▏| 259153/280242 [01:20<00:06, 3512.72it/s]"
     ]
    },
    {
     "name": "stdout",
     "output_type": "stream",
     "text": [
      "BAD:  None None\n"
     ]
    },
    {
     "name": "stderr",
     "output_type": "stream",
     "text": [
      " 93%|█████████▎| 260960/280242 [01:20<00:05, 3488.84it/s]"
     ]
    },
    {
     "name": "stdout",
     "output_type": "stream",
     "text": [
      "BAD:  None None\n"
     ]
    },
    {
     "name": "stderr",
     "output_type": "stream",
     "text": [
      " 98%|█████████▊| 274267/280242 [01:24<00:01, 3133.45it/s]"
     ]
    },
    {
     "name": "stdout",
     "output_type": "stream",
     "text": [
      "BAD:  None None\n"
     ]
    },
    {
     "name": "stderr",
     "output_type": "stream",
     "text": [
      " 99%|█████████▉| 277352/280242 [01:25<00:00, 3376.41it/s]"
     ]
    },
    {
     "name": "stdout",
     "output_type": "stream",
     "text": [
      "BAD:  None None\n",
      "BAD:  None None\n"
     ]
    },
    {
     "name": "stderr",
     "output_type": "stream",
     "text": [
      "100%|██████████| 280242/280242 [01:26<00:00, 3240.55it/s]\n"
     ]
    }
   ],
   "source": [
    "f = open('/root/gurusmart/data/NP-MRD-dataset/NP-MRD_metadata/npmrd_natural_products.json')\n",
    "data = json.load(f)\n",
    "# NP_to_inchi = dict([[d['accession'] , d['inchi']]for d in data['np_mrd']['natural_product']])\n",
    "\n",
    "NP_to_name = dict([[d['accession'] ,d['name']]for d in data['np_mrd']['natural_product']])\n",
    "NP_to_smiles = dict([[d['accession'] ,get_canonical_smiles(d)]for d in tqdm.tqdm(data['np_mrd']['natural_product'])])\n"
   ]
  },
  {
   "cell_type": "code",
   "execution_count": 5,
   "metadata": {},
   "outputs": [
    {
     "name": "stdout",
     "output_type": "stream",
     "text": [
      "109793\n"
     ]
    },
    {
     "data": {
      "text/plain": [
       "37381"
      ]
     },
     "execution_count": 5,
     "metadata": {},
     "output_type": "execute_result"
    }
   ],
   "source": [
    "train_smiles = pickle.load(open(f'/workspace/SMILES_dataset/train/SMILES/index.pkl', 'rb'))\n",
    "val_smiles = pickle.load(open(f'/workspace/SMILES_dataset/val/SMILES/index.pkl', 'rb'))\n",
    "test_smiles = pickle.load(open(f'/workspace/SMILES_dataset/test/SMILES/index.pkl', 'rb'))\n",
    "print(len(train_smiles))\n",
    "\n",
    "smiles_from_npmrd = NP_to_smiles.values()\n",
    "\n",
    "intersect = set(train_smiles.values()).intersection(set(smiles_from_npmrd))\n",
    "len(intersect)"
   ]
  },
  {
   "cell_type": "code",
   "execution_count": 8,
   "metadata": {},
   "outputs": [
    {
     "data": {
      "text/plain": [
       "109793"
      ]
     },
     "execution_count": 8,
     "metadata": {},
     "output_type": "execute_result"
    }
   ],
   "source": []
  },
  {
   "cell_type": "code",
   "execution_count": 7,
   "metadata": {},
   "outputs": [
    {
     "data": {
      "text/plain": [
       "(37381, 4692, 4632)"
      ]
     },
     "execution_count": 7,
     "metadata": {},
     "output_type": "execute_result"
    }
   ],
   "source": [
    "train_intersect = set(train_smiles.values()).intersection(set(smiles_from_npmrd))\n",
    "val_intersect =  set(val_smiles.values()).intersection(set(smiles_from_npmrd))\n",
    "test_intersect =  set(test_smiles.values()).intersection(set(smiles_from_npmrd))\n",
    "len(train_intersect), len(val_intersect), len(test_intersect)\n"
   ]
  },
  {
   "cell_type": "code",
   "execution_count": 10,
   "metadata": {},
   "outputs": [
    {
     "data": {
      "text/plain": [
       "279453"
      ]
     },
     "execution_count": 10,
     "metadata": {},
     "output_type": "execute_result"
    }
   ],
   "source": [
    "# filter out None from smiles_from_npmrd\n",
    "smiles_from_npmrd = [smile for smile in smiles_from_npmrd if smile is not None]\n",
    "len(set(smiles_from_npmrd))"
   ]
  },
  {
   "cell_type": "code",
   "execution_count": 12,
   "metadata": {},
   "outputs": [
    {
     "name": "stdout",
     "output_type": "stream",
     "text": [
      "C/C=C/C(C)=O ['NP0000113', 'NP0073070']\n",
      "CCCCO ['NP0000127', 'NP0055076']\n",
      "C[C@H](O)[C@@H](C)O ['NP0000210', 'NP0198915']\n",
      "Oc1cc(O)c2c(c1)O[C@H](c1ccc(O)c(O)c1)[C@H](O)C2 ['NP0000562', 'NP0038094']\n",
      "Nc1ncnc2c1ncn2[C@H]1C[C@H](O)[C@@H](CO)O1 ['NP0000617', 'NP0044222']\n",
      "O=C(O)[C@@H]1CCCN1 ['NP0000786', 'NP0023958']\n",
      "O=C(O)[C@H]1O[C@@H](O)[C@H](O)[C@@H](O)[C@H]1O ['NP0000838', 'NP0002655']\n",
      "NC(=O)c1ccc[n+]([C@@H]2O[C@H](COP(=O)(O)OP(=O)(O)OC[C@H]3O[C@@H](n4cnc5c(N)ncnc54)[C@H](O)[C@@H]3O)[C@@H](O)[C@H]2O)c1 ['NP0000915', 'NP0002604']\n",
      "NC(=O)c1ccc[n+]([C@@H]2O[C@H](CO[P@@](=O)(O)O[P@@](=O)(O)OC[C@H]3O[C@@H](n4cnc5c(N)ncnc54)[C@H](OP(=O)(O)O)[C@@H]3O)[C@@H](O)[C@H]2O)c1 ['NP0000974', 'NP0002670']\n",
      "CCO ['NP0001015', 'NP0079822', 'NP0079823', 'NP0079824', 'NP0080362', 'NP0081114']\n",
      "CC(=O)c1ccccc1 ['NP0001122', 'NP0050282']\n",
      "O=C(O)/C=C/c1ccc(O)cc1 ['NP0001246', 'NP0003000']\n",
      "COc1cc(C=O)ccc1O ['NP0001344', 'NP0141338']\n",
      "CC(=O)O[C@@H]1[C@@H]2O[C@@]3(OC[C@@]45C[C@@H]6[C@H](C)CC[C@H]6[C@@]6(C=O)C[C@@H]4C=C(C(C)C)[C@@]56C(=O)O)O[C@@H]2O[C@@H]1[C@@H]3O ['NP0001563', 'NP0260406']\n",
      "CC(=O)O[C@H](C)[C@H]1/C=C\\C=C/C(=O)O[C@@H]2C[C@H]3O[C@@H]4C=C(C)CC[C@]4(COC(=O)/C=C(/C)CCO1)[C@]2(C)[C@]31CO1 ['NP0001573', 'NP0214220']\n",
      "OCC1OC(OC2C(Oc3cc(O)cc(C=Cc4ccc(O)cc4)c3)OCC(O)C2O)C(O)C(O)C1O ['NP0001675', 'NP0174602']\n",
      "CC1OC(OC2C(Oc3cc(O)cc(C=Cc4ccc(O)cc4)c3)OC(CO)C(O)C2O)C(O)C(O)C1O ['NP0001676', 'NP0191847']\n",
      "Oc1ccc(/C=C/c2cc(O)cc(O)c2)cc1 ['NP0001738', 'NP0331440']\n",
      "CC(C)=CCCC(C)=CCc1c(O)cc(CCc2ccccc2)c(C(=O)O)c1O ['NP0001743', 'NP0266233']\n",
      "COC(=O)N[C@@H]1[C@H](C)O[C@@H](OC2C/C=C(/C)[C@H]3C=C[C@H]4[C@H](O[C@@H]5C[C@@H](O[C@@H]6C[C@@H](O)[C@@H](O[C@@H]7C[C@@H](O)[C@@H](OC)[C@H](C)O7)[C@H](C)O6)[C@@H](O)[C@H](C)O5)[C@H](C)C[C@@H](C)[C@@H]4[C@@]3(C)/C(O)=C3/C(=O)OC4(C[C@H](C)C(CO)=C[C@H]4/C=C\\2C)C3=O)C[C@@]1(C)N ['NP0001754', 'NP0010021']\n",
      "C/C1=C/C[C@H](O)/C=C\\[C@H](C)[C@H](O)[C@@H](CO)/C=C(/C)C(=O)c2c(O)c(C)cc3c2C(=O)C(=O)C(=C3O)NC(=O)/C=C\\C=C/C=C\\[C@H](C)[C@@H](O)CC1=O ['NP0001803', 'NP0299504']\n",
      "COc1cc(/C=C/CO)cc(OC)c1OC ['NP0002589', 'NP0138059']\n",
      "O=C(O)[C@H]1O[C@@H](O)[C@H](O)[C@@H](O)[C@@H]1O ['NP0002625', 'NP0044226']\n",
      "COc1cc(C(C)=O)cc(OC)c1O ['NP0002800', 'NP0138300']\n",
      "C=C1[C@H]2C[C@H]3OC(=O)/C=C\\C=C/[C@H]([C@@H](C)O)OCC/C(C)=C\\C(=O)OC[C@@]4(CCC(C)=C[C@H]4O2)[C@]13C ['NP0003642', 'NP0191829']\n",
      "CC1CCC/C=C\\C=C/C(O)CC(O)C/C=C\\C=C/C(O)C/C=C\\C=C/C(=O)O1 ['NP0003707', 'NP0003708']\n",
      "C/C1=C/C(=O)OC[C@]23CCC(CO)=C[C@H]2O[C@@H]2C[C@@H](OC(=O)/C=C\\C=C/[C@H]([C@@H](C)O)OCC1)[C@@]3(C)[C@]21CO1 ['NP0004179', 'NP0220363']\n",
      "NC(=O)Cc1ccc(O)cc1 ['NP0004413', 'NP0331093', 'NP0331197']\n",
      "CC1=CCCC(C)C(O)C(C)C(O)CCC=CC(C)C(O)C=CC(C)C(O)C(C)=CC(O[C@H]2O[C@H](CO)[C@@H](O)[C@H](O)[C@@H]2O)C(O)CC(O)CC(O)CC(O)C(C)C(O)C(C)C(O)CC(O)CC(O)C=CCC(C(C)C(O)CCCN)OC1=O ['NP0004778', 'NP0284057']\n",
      "CC(C)=CCC/C(C)=C/CC/C(C)=C/C[C@@]12O[C@@H]1[C@H](O)C(C)=CC2=O ['NP0004995', 'NP0043823']\n",
      "C[C@@H]1CCC[C@@H]2O[C@H]2COc2ccc(cc2)C[C@@H]2NC(=O)/C(=C/1O)C2=O ['NP0005017', 'NP0318810']\n",
      "C[C@@H]1C=C[C@@H]2C[C@H](CO)CC[C@H]2[C@@H]1C(=O)O ['NP0005402', 'NP0043956']\n",
      "Cc1cc(O)cc(O)c1C(=O)OCC(=O)[C@@H](O)[C@H](C)O ['NP0005876', 'NP0044730']\n",
      "CC1(C)CC[C@]2(C)CC[C@]3(C)[C@H]4CC=C5[C@@H](CC[C@H](O)C5(C)C)[C@]4(C)CC[C@@]3(C)[C@@H]2C1 ['NP0005978', 'NP0137739']\n",
      "CC1=CC=CC=CC=Cc2cccc(O)c2C(=O)O[C@@H](C[C@@H](C)O)C[C@@H](O)CC=C[C@@H](O)C[C@@H](O)CC(C)=CC=CC=CC=Cc2cccc(O)c2C(=O)O[C@@H](C[C@@H](C)O)C[C@@H](O)CC=C[C@@H](O)C[C@@H](O)C1 ['NP0006198', 'NP0006199', 'NP0006200']\n",
      "CC12[C@H]3C[C@H]4OC5[C@H](CC41O)[C@@](C)(O)CC[C@@]52COC(=O)C=C1CCO[C@]2(CC/C=C\\C(=O)O3)[C@@H]1OC(=O)[C@@H]2O ['NP0006344', 'NP0292310']\n",
      "C[C@@H]1CCOC(=O)/C=C\\C=C/C(=O)O[C@@H]2C[C@H]3O[C@@H]4C=C(C(=O)O)CC[C@]4(COC(=O)[C@H]1O)[C@]2(C)[C@]31CO1 ['NP0006473', 'NP0278318']\n",
      "C[C@@H]1CCC/C=C\\C=C/[C@H](O)C[C@@H](O)C/C=C\\C=C/[C@@H](O[C@@H]2O[C@H](CO)[C@@H](O)[C@H](O)[C@H]2O)C/C=C\\C=C/C(=O)O1 ['NP0007281', 'NP0007282']\n",
      "C[C@@H]1CCC/C=C\\[C@H]2CC[C@H](O)[C@H](CC(=O)O1)O2 ['NP0007456', 'NP0306408']\n",
      "C/C1=C/C[C@@]23OC(C)(C)[C@H](Cl)C[C@]2(Cl)C(=O)c2c(cc4c(c2O)CC(=CCC1)CO4)C3=O ['NP0007566', 'NP0264876']\n",
      "COc1cc(O)c2c(=O)oc3c(O)c(O)cc(C)c3c2c1 ['NP0007757', 'NP0138346']\n",
      "Cc1cc(O)c2c(c1)[C@H](O)[C@]13Cc4cc(O)c5c(c4[C@H]1C=C[C@@H](O)C3(O)C2=O)C(=O)c1c(O)ccc(O)c1C5=O ['NP0007849', 'NP0154314']\n",
      "Cc1cc(O)c2c(c1)[C@H](O)[C@]13Cc4cc(O)c5c(c4[C@H]1C=C[C@@H](O)C3(O)C2=O)C(=O)c1cccc(O)c1C5=O ['NP0007850', 'NP0154967']\n",
      "CC(C)=C[C@@H]1C/C(C)=C\\CC/C(C)=C\\CC/C(C)=C\\CC2=C(O)C(=O)C1=C(O)C2=O ['NP0008248', 'NP0199596', 'NP0303638']\n",
      "C[C@H]1CC[C@H](CO)[C@H](CO)C2=C[C@](C)(CO)C[C@H]21 ['NP0009316', 'NP0331374']\n",
      "C[C@H]1CC[C@H](CO)C(CO)=C2[C@H]1CC(C)(C)[C@@H]2O ['NP0009322', 'NP0331373']\n",
      "CC=C(C)[C@H](O)[C@H](O)[C@H]1[C@@H](O)[C@H](O)[C@@H](C)CCCC[C@@H]2O[C@@]2(C)[C@H]2[C@@H]3O[C@@H]3[C@H]3C[C@@H](C)C[C@@H](C)[C@H]3[C@@H]2C(O)=C2C(=O)CN1OC2=O ['NP0009375', 'NP0238199']\n",
      "CCCCC(C)C1CC(O)CCC[C@H](O)C[C@@H](O)C[C@@H](O)CCCC(O)CCCC(O)CCCC(O)CCC[C@@H](O)C[C@@H](O)CCCC(C)=CC(=O)O1 ['NP0009432', 'NP0205897']\n",
      "C=C1C[C@@]23C=CC(=O)[C@@](C)(CCC(=O)O)C2C[C@@H]1C[C@H]3O ['NP0009688', 'NP0207133']\n",
      "C=C1C[C@@]23C=CC(=O)[C@@](C)(CCC(=O)OC)C2C[C@@H]1C[C@H]3O ['NP0009689', 'NP0204856']\n",
      "CC1=C/[C@@H](C)/C=C(/C)C(=O)[C@H](C)[C@@H]2[C@@H](CC(C)C)C(=O)N[C@@]23CC(=O)c2c(cc(C)c(O)c2C(=O)\\C(C)=C/1)C3=O ['NP0009728', 'NP0141991']\n",
      "CC1=C2NC(=O)/C=C\\C=C/[C@H](C)[C@H](O)[C@@H](C)[C@@H](O)[C@@H](C)[C@H](O)[C@H](C)[C@@H](O)[C@@H](C)/C=C(/C)C(=O)c3c(O)c(C)c(O)c(c3C1=O)C2=O ['NP0010015', 'NP0328366']\n",
      "CC1=C2NC(=O)/C=C\\C=C/[C@H](C)[C@H](O)[C@@H](C)[C@@H](O)[C@@H](C)[C@H](O)[C@H](C)[C@@H](O)[C@@H](C)/C=C(/C)C(=O)c3c(O)c(C)cc(c3C1=O)C2=O ['NP0010016', 'NP0183125', 'NP0291950']\n",
      "CC1=C2NC(=O)/C=C\\C=C/[C@H](C)[C@H](O)[C@@H](C)[C@@H](O)[C@@H](C)[C@H](O)[C@H](C)[C@@H](O)[C@@H](CO)/C=C(/C)C(=O)c3c(O)c(C)c(O)c(c3C1=O)C2=O ['NP0010017', 'NP0269375']\n",
      "CC(=O)O[C@H]1[C@@H](C)[C@H](O)/C=C\\O[C@]2(C)Oc3c(C)c(O)c4c(c3[C@@H]2O)C(=O)C(C)=C(NC(=O)/C=C\\C=C/[C@@H](C)[C@@H](O)[C@H](C)[C@H](O)[C@@H]1C)C4=O ['NP0010018', 'NP0197624']\n",
      "C[C@@H]1CCC/C=C\\[C@@H]2O[C@@H](C/C=C\\C=C/[C@@H](O)C/C=C\\C=C/C(=O)O1)C[C@@H](O)[C@H]2O ['NP0010500', 'NP0226706']\n",
      "C[C@@H]1CCC/C=C\\[C@@H]2O[C@H](C[C@@H](O)C/C=C\\C=C/[C@@H](O)C/C=C\\C=C/C(=O)O1)[C@H]2O ['NP0010501', 'NP0213426']\n",
      "CC(C)[C@@H]1OC(=O)C=CC=C/C=C\\C=C/C=CC=CC[C@@H](O)C[C@H](O)C[C@H](O)C[C@H](O)C[C@@H](O)C[C@H](O)C[C@@H](O)C[C@@H](O)C[C@@H](O)CC[C@@H]1C ['NP0010798', 'NP0010799']\n",
      "C/C1=C/C[C@H](O)/C=C\\[C@H](C)[C@H](O)[C@@H](C)/C=C(/C)C(=O)c2c(O)c(C)cc3c2C(=O)C(N)=C(NC(=O)/C(C)=C\\C=C/C=C\\[C@H](C)[C@@H](O)CC1=O)C3=O ['NP0010924', 'NP0214960']\n",
      "C/C1=C/C[C@H](O)/C=C\\[C@H](C)[C@H](O)[C@@H](C)/C=C(/C)C(=O)c2c(O)c(C)cc3c2C(=O)C(SCC(=O)O)=C(NC(=O)/C(C)=C\\C=C/C=C\\[C@H](C)[C@@H](O)CC1=O)C3=O ['NP0010925', 'NP0213786']\n",
      "CO[C@H]1C[C@H]2O[C@@H]1/C=C(/C)[C@H](O)C/C=C\\C=C(\\C)C(=O)[C@@H](C)/C=C(/C)C(=O)O[C@H](/C=C/[C@H]1O[C@@H]1C)[C@@H]2C ['NP0011712', 'NP0305821']\n",
      "CCc1cc(O)c2c(c1)C(SC[C@H](NC(C)=O)C(=O)O)=C1C(=O)c3c(O)cccc3C(O)=C12 ['NP0011886', 'NP0043899']\n",
      "CC=C(C)[C@H](O)[C@H](O)[C@H]1[C@@H](O)[C@H](O)[C@@H](C)CCCC[C@@H]2O[C@@]2(C)[C@H]2C=C[C@H]3C[C@@H](C)C[C@@H](C)[C@H]3[C@@H]2C(O)=C2C(=O)CN1OC2=O ['NP0011895', 'NP0171201']\n",
      "CC(O)(CO)[C@H]1O[C@H]2CC[C@@]3(C)[C@@](O)(CC[C@H]4Cc5c([nH]c6ccccc56)[C@@]43C)C2=CC1=O ['NP0011970', 'NP0043905']\n",
      "CC(C)=CCc1cc2[nH]c3c(c2cc1CC=C(C)C)C[C@@H]1CC[C@@]2(O)C4=CC(=O)[C@@H](C(C)(C)O)O[C@H]4CC[C@]2(C)[C@@]31C ['NP0011971', 'NP0043906']\n",
      "CC(C)(O)[C@H]1O[C@H]2CC[C@@]3(C)[C@@H](CC[C@H]4Cc5c([nH]c6ccccc56)[C@@]43C)[C@]2(O)[C@H](O)[C@H]1O ['NP0011972', 'NP0043904']\n",
      "CC(C)(O)[C@@H]1CC[C@]2(C(=O)O)[C@H](CC[C@@]3(C)[C@H]2CC[C@H]2Cc4c([nH]c5ccccc45)[C@@]23C)O1 ['NP0011973', 'NP0043903']\n",
      "CC(C)(O)[C@@H]1CC=C2[C@H](CC[C@@]3(C)[C@H]2CC[C@H]2Cc4c([nH]c5ccccc45)[C@@]23C)O1 ['NP0011975', 'NP0043902']\n",
      "CC(C)=CCC[C@]1(C(=O)O)[C@H]2C/C=C(/C)CC/C=C(/C)CC[C@H]1[C@H](C=O)CC2 ['NP0012259', 'NP0012263']\n",
      "C/C1=C/C[C@@]23OC(C)(C)[C@H](Cl)C=C2C(=O)c2c(cc(O)c(c2O)C/C(CO)=C\\C1)C3=O ['NP0012362', 'NP0303554']\n",
      "C/C1=C/C[C@@]23OC(C)(C)[C@@H](O)C=C2C(=O)c2c(cc(O)c(c2O)C/C(CO)=C\\C1)C3=O ['NP0012363', 'NP0292502']\n",
      "C=C1Cc2c(O)cc3c(c2O)C(=O)C2=C[C@@H](Cl)C(C)(C)O[C@@]2(C/C=C(/C)C[C@@H]1O)C3=O ['NP0012364', 'NP0300145']\n",
      "CC(=O)O[C@H]1C/C(C)=C\\[C@@H](O)[C@H](O)[C@H]2[C@H](O)O[C@]13[C@@H]2CC3(C)C ['NP0012884', 'NP0261220']\n",
      "COc1c(O)cc2c3c1C[C@@H](C)C[C@H](OC)[C@H](O)[C@@H](C)/C=C(/C)[C@H](OC(N)=O)[C@@H](OC)/C=C\\C=C(\\C)C(=O)N2[C@H](C)CC(=O)[C@H](OC)O3 ['NP0013453', 'NP0148470']\n",
      "COc1cc(O)cc2c1C(=O)OC(CC(C)O)CC(O)CC=CC(O)CC(O)CC(O)CC(C)=CC=CC=CC=CC=Cc1cc(O)cc(OC)c1C(=O)OC(CC(C)O)CC(O)CC=CC(O)CC(O)CC(O)CC(C)=CC=CC=CC=CC=C2 ['NP0013876', 'NP0153370']\n",
      "CC[C@@H]1C[C@H]2C[C@@H]3/C=C\\C=C/C(=O)NCCC[C@@H]4NC(=O)C(=C4O)C(=O)C/C=C\\C=C/[C@@H]3[C@H]2[C@@H]1C ['NP0014432', 'NP0181896']\n",
      "CC1=CC(=O)OC(C(C)(C)C)CC(O)CCCC(O)CCCC(O)CCCC(O)CCCC(O)CCCC(O)CCCC(O)CCC[C@@H](O)C[C@@H](O)CCC1 ['NP0014435', 'NP0238862']\n",
      "CC(=O)OC1CCCC(O)CCCC(O)CCCC(O)CCCC(O)CCCC(O)CCC[C@@H](O)C[C@@H](O)CCCC(C)=CC(=O)OC(C(C)(C)C)CC(O)CCC1 ['NP0014436', 'NP0298005']\n",
      "CC1=CC(=O)O[C@H](C(C)(C)C)CCC[C@H](O)CCC[C@H](O)CCC[C@H](O)CCC[C@@H](O)C[C@@H](O)C[C@H](O)CCC[C@@H](O)CCC[C@@H](O)C[C@@H](O)CCCCC1 ['NP0014479', 'NP0212907']\n",
      "CC1=C/C=C\\C[C@H](C)NC(=O)/C=C\\C=C/C=C\\[C@H](C)[C@@H](O)[C@H](O)[C@@H](O)C[C@@H](O)/C=C\\C=C/C(C)=C\\1 ['NP0014542', 'NP0014543']\n",
      "C=C1CC[C@H]2[C@@]3(C)CCC[C@]2(C)[C@H]1CO[C@@H](C(=O)OC)[C@H](CC(=O)O)C(=O)OC[C@]1(C)CCC[C@]2(C)[C@@H](CO[C@@H](C(=O)OC)[C@H](CC(=O)OC)C(=O)OC3)C(=C)CC[C@@H]12 ['NP0014570', 'NP0331368']\n",
      "C/C1=C/C(=O)OC[C@]23CCC(C(=O)O)=C[C@H]2O[C@@H]2C[C@@H](OC(=O)/C=C\\C=C/C(=O)OCC1)[C@@]3(C)[C@]21CO1 ['NP0014679', 'NP0300532']\n",
      "CC1=CC(=O)OC(C(C)(C)C)CC(O)CCCC(O)CCCC(O)CCCC(O)CCCC(O)CCCC(O)CCCC(O)CCCC(O)CC(O)CCC1 ['NP0014803', 'NP0282388']\n",
      "C/C1=C/C=C\\C=C/C=C\\C[C@@H](O)/C(C)=C\\C=C/[C@H](C)CC[C@H](O)C[C@@H]([C@@H](C)[C@@H](O)c2cccc(O)c2)OC1=O ['NP0015134', 'NP0015135', 'NP0015136', 'NP0015137', 'NP0015138']\n",
      "CO[C@H]1/C=C\\C=C/C=C\\C[C@H](OC(=O)[C@H](C)NC(=O)C2=CCCCC2)[C@H](C)[C@H](O)/C(C)=C\\CCc2cc(O)cc(c2)NC(=O)C1 ['NP0015357', 'NP0233743']\n",
      "CO[C@@H]1/C=C\\C=C/C=C\\C[C@@H](OC(=O)[C@H](C)NC(=O)CCC(C)C)[C@H](C)[C@@H](O)/C(C)=C\\CCc2cc(O)cc(c2)NC(=O)C1 ['NP0015358', 'NP0309031']\n",
      "COc1c(C)c(OCC=C(C)C)cc2c1COC2=O ['NP0015457', 'NP0138296']\n",
      "NC(=O)c1ccc[nH]1 ['NP0016022', 'NP0331204']\n",
      "CC(=O)O[C@H]1[C@H](C)[C@H](O)[C@H](C)[C@@H](O)[C@@H](C)/C=C\\C=C(\\C)C(=O)NC2=C(N)C(=O)c3c(c(O)c(C)c4c3C(=O)[C@@](C)(O/C=C\\[C@H](O)[C@H]1C)O4)C2=O ['NP0016137', 'NP0322617']\n",
      "CO[C@H]1/C=C\\O[C@@]2(C)Oc3c(C)c(O)c4c(c3C2=O)C(=O)C(N)=C(NC(=O)/C(C)=C\\C=C/[C@H](C)[C@H](O)[C@@H](C)[C@@H](O)[C@@H](C)[C@H](OC(C)=O)[C@@H]1C)C4=O ['NP0016138', 'NP0324287']\n",
      "COC[C@H]1C(=O)O[C@H]([C@H](O)CO)[C@H](C)/C=C(/C)[C@@]23O[C@H]4[C@H](O)[C@H](C)[C@@H](O)[C@@H]2[C@H]4C=C[C@H]13 ['NP0016141', 'NP0329203']\n",
      "C/C1=C/C=C\\C=C/C=C\\C[C@H](O)/C(C)=C\\C=C/[C@H](C)CCC(CC(O)[C@H](C)[C@@H](O)c2cccc(O)c2)OC1=O ['NP0016153', 'NP0016154']\n",
      "C=C[C@@H]1C[C@H](C)C[C@H](C)[C@H]1c1c(O)ccn(OC)c1=O ['NP0016443', 'NP0331251']\n",
      "CC[C@H]1C[C@H]2C[C@H]3/C=C\\C=C/C(=O)NCCC[C@@H]4NC(=O)/C(=C(O)/C=C\\C=C/C[C@@H]3[C@H]2[C@@H]1C)C4=O ['NP0016522', 'NP0018173', 'NP0284512']\n",
      "C[C@@H]1NC(=O)/C=C\\[C@@H](O)CC[C@H](C)NC(=O)[C@H]2C[C@]1(O)NC1=C2C(=O)N[C@@H](C)C1 ['NP0016647', 'NP0306493']\n",
      "Cc1cc2c(c(=O)[nH]1)[C@@H]1C[C@](O)(N2)[C@H](C)NC(=O)/C=C\\[C@@H](O)CC[C@H](C)NC1=O ['NP0016648', 'NP0246277']\n",
      "C=C1/C=C\\C(CCC)=C/c2csc(n2)[C@@H](C)NC(=O)C[C@]2(CC(=O)O)CC[C@](C)(O)[C@@H](C1)S2 ['NP0017350', 'NP0268147']\n",
      "C=C1/C=C\\C(CCC)=C/c2csc(n2)[C@@H](C)NC(=O)C[C@]2(CC(=O)O)CCC(=C)[C@@H](C1)S2 ['NP0017352', 'NP0171636']\n",
      "C[C@@H]1C[C@H](C)C[C@H](C)[C@@H](O)CC(=O)O[C@H]([C@@H]2CCC[C@H]2C(=O)O)C/C=C\\C=C(\\C#N)[C@@H](O)[C@@H](C)C1 ['NP0017652', 'NP0017654']\n",
      "C[C@@H]1C[C@H](C)C[C@H](C)[C@@H](O)CC(=O)O[C@H]([C@@H]2CCC[C@H]2C(=O)O)C/C=C\\C=C(\\C#N)[C@H](O)[C@@H](C)C1 ['NP0017653', 'NP0021679']\n",
      "CO[C@H]1C[C@H](CC[C@H](C)[C@H](O)[C@H](C)[C@@H]2C[C@H](O)C[C@H](O)[C@H](C)[C@@H](OC)C[C@@H]3CC=C[C@@H](C[C@@H](O[C@H]4OC[C@H](OC)[C@@H](OC)[C@@H]4OC(=O)[C@H](O)CO)CC=C(C)C=CC(=O)O[C@H]([C@@H](C)[C@@H](O)[C@@H](C)CC[C@H]4C[C@H](OC)C[C@H](C)O4)C[C@H](O)C[C@H](O)[C@H](C)[C@@H](OC)C[C@@H]4CC=C[C@@H](C[C@@H](O[C@H]5OC[C@H](OC)[C@@H](OC)[C@@H]5OC(=O)[C@H](O)CO)CC=C(C)C=CC(=O)O2)O4)O3)O[C@@H](C)C1 ['NP0017656', 'NP0017657']\n",
      "CO[C@H]1C[C@H](CC[C@H](C)[C@H](O)[C@H](C)[C@@H]2C[C@H](O)C[C@H](O)[C@H](C)[C@@H](OC)C[C@@H]3CC=C[C@@H](C[C@@H](O[C@H]4OC[C@H](OC)[C@@H](OC)[C@@H]4O)CC=C(C)C=CC(=O)O[C@H]([C@@H](C)[C@@H](O)[C@@H](C)CC[C@H]4C[C@H](OC)C[C@H](C)O4)C[C@H](O)C[C@H](O)[C@H](C)[C@@H](OC)C[C@@H]4CC=C[C@@H](C[C@@H](O[C@H]5OC[C@H](OC)[C@@H](OC)[C@@H]5O)CC=C(C)C=CC(=O)O2)O4)O3)O[C@@H](C)C1 ['NP0017658', 'NP0017659']\n",
      "CO[C@H]1C[C@H](CC[C@H](C)[C@H](O)[C@H](C)[C@@H]2C[C@H](O)C[C@H](O)[C@H](C)[C@@H](OC)C[C@@H]3CC=C[C@@H](C[C@@H](O[C@H]4OC[C@H](OC)[C@@H](OC)[C@@H]4O)CC=C(C)C=CC(=O)O[C@H]([C@@H](C)[C@@H](O)[C@@H](C)CC[C@H]4C[C@H](OC)C[C@H](C)O4)C[C@H](O)C[C@H](O)[C@H](C)[C@@H](OC)C[C@@H]4CC=C[C@@H](C[C@@H](O[C@H]5OC[C@H](OC)[C@@H](OC)[C@@H]5OC(=O)[C@H](O)CO)CC=C(C)C=CC(=O)O2)O4)O3)O[C@@H](C)C1 ['NP0017660', 'NP0017661', 'NP0017662']\n",
      "CC1=CC[C@H](O)C[C@@H](O)C[C@H](O)C[C@@H](O)C[C@H](O)C[C@@H](O)[C@@H](C)[C@H](O)C(C)=CC[C@H](O)CCC[C@H](O)CCC[C@H](O)CCCCCCC=CC[C@@H]([C@@H](C)[C@H](O)CCCCC[C@@H](C)O)OC(=O)C=C1 ['NP0018465', 'NP0255200']\n",
      "CC1=CC[C@H](O)C[C@@H](O)C[C@H](O)C[C@@H](O)C[C@H](O)C[C@@H](O)[C@@H](C)[C@H](O)C=CC[C@H](O)CCC[C@H](O)CCC[C@H](O)CCCCCCC=CC[C@@H]([C@@H](C)[C@H](O)CCCCC[C@@H](C)O)OC(=O)C=C1 ['NP0018466', 'NP0156531']\n",
      "C/C1=C/[C@@H](C)C/C=C\\[C@H]2C(=O)[C@@H](C)[C@@H](C)[C@H]3[C@H](Cc4c[nH]c5ccccc45)NC(=O)[C@]32C(=O)CCC(=O)C1=O ['NP0018775', 'NP0020548']\n",
      "CO[C@@H]1C[C@H](O[C@H]2C[C@@H]3C[C@H](O)[C@@H](C)[C@](O)(C[C@H](O)CCCCCC(=O)O[C@H](C[C@@H](O)[C@H](C)[C@@H](O)[C@@H](C)[C@H](CC(C)C)O[C@H]4C[C@@H](O[C@H]5C[C@@H](O)[C@H](O)[C@@H](C)O5)[C@H](O)[C@@H](C)O4)[C@@H](C)/C=C\\C=C/C=C\\[C@@H](O)C2)O3)O[C@H](C)[C@H]1O ['NP0018853', 'NP0018854']\n",
      "CC(=O)OCC1=C[C@H](/C=C(\\CO)C(=O)O)[C@@H](C(C)C)CC1 ['NP0019032', 'NP0331142']\n",
      "CC(=O)OC/C(=C\\[C@H]1C=C(CO)CC[C@@H]1C(C)C)C(=O)O ['NP0019033', 'NP0331143']\n",
      "CO[C@H]1/C=C\\O[C@@]2(C)Oc3c(C)c(O)c4c(c3C2=O)C(=O)C=C(NC(=O)/C(C)=C\\C=C/[C@@](C)(O)[C@H](O)[C@@H](C)[C@@H](O)[C@@H](C)[C@H](OC(C)=O)[C@@H]1C)C4=O ['NP0019172', 'NP0165938']\n",
      "CC1=CC=CC(C)C(O)C(C)C(O)CCC=CC(C)C(O)C=CC(C)C(O)C(C)=CC(O[C@H]2O[C@H](CO)[C@@H](O)[C@H](O)[C@@H]2O)C(O)C(C)C(O)CC(O)CC(O)C(C)C(O)C(C)C(O)CC(O)CC(O)C=CCC(C(C)C(O)CCCN)OC1=O ['NP0019230', 'NP0322831']\n",
      "C[C@@H]1/C=C\\C=C/C=C\\C=C/C=C\\C(=O)/C=C2\\O[C@](C)(/C=C\\C=C/C=C\\C(=O)NC1)[C@@H](O)[C@@H]2O ['NP0019294', 'NP0161440']\n",
      "CC[C@H]1/C=C\\C[C@H](CC(C)C)OC(=O)/C(C)=C\\[C@H]2C(=O)NC3=CC(=O)c4c(cc(C)c(O)c4C(=O)CC1)[C@@]32O ['NP0019512', 'NP0179666']\n",
      "CC[C@H]1/C=C\\[C@H](O)[C@H](CC(C)C)OC(=O)/C(C)=C\\[C@H]2C(=O)NC3=CC(=O)c4c(cc(C)c(O)c4C(=O)CC1)[C@@]32O ['NP0019513', 'NP0289440']\n",
      "CC[C@H]1/C=C\\C[C@H](CC(C)C)OC(=O)/C(C)=C\\[C@@H]2C(=O)NC3=CC(=O)c4c(cc(C)c(O)c4C(=O)CC1)[C@@]32O ['NP0019514', 'NP0019515', 'NP0165739', 'NP0169275']\n",
      "Cc1c(O)c2c3c(c1O)C(=O)[C@@]14NC(=O)C[C@H]1C=C[C@@H](/C=C(/CC(C)C)C(=O)[C@@H](C)[C@H](O)/C=C\\[C@@H](C)C2=O)[C@H]4C3=O ['NP0019633', 'NP0284013']\n",
      "C[C@H]1/C=C\\C=C/[C@@H]2O[C@H]3[C@H]4[C@H]2[C@H](C=C[C@H]4C[C@H]3O)/C=C\\C(=O)NC1 ['NP0019918', 'NP0148180']\n",
      "C[C@H]1/C=C\\C=C/[C@H]2O[C@@H]3[C@@H]4[C@@H]2[C@@H](C=C[C@@H]4C[C@H]3O)/C=C\\C(=O)NC1 ['NP0019919', 'NP0321177']\n",
      "C/C1=C/C[C@H](O)/C=C\\[C@H](C)[C@H](O)[C@@H](C)/C=C(/C)C(=O)c2c(O)c(C)cc3c2C(=O)C(=O)C(=C3O)NC(=O)/C=C\\C=C/C=C\\[C@H](C)[C@@H](O)CC1=O ['NP0021150', 'NP0174566', 'NP0181022']\n",
      "COC1=C2NC(=O)/C=C\\C=C/C=C\\[C@@H](C)[C@@H](O)CC(=O)/C(C)=C\\C[C@@H](O)/C=C\\[C@H](C)[C@H](O)[C@@H](C)/C=C(/C)C(=O)c3c(O)c(C)cc(c3C1=O)C2=O ['NP0021152', 'NP0176344']\n",
      "CSC1=C2NC(=O)/C=C\\C=C/C=C\\[C@@H](C)[C@@H](O)CC(=O)/C(C)=C\\C[C@@H](O)/C=C\\[C@H](C)[C@H](O)[C@@H](C)/C=C(/C)C(=O)c3c(O)c(C)cc(c3C1=O)C2=O ['NP0021153', 'NP0196085']\n",
      "CC[C@@H]1OC(=O)[C@@H](C)C(=O)[C@]2(O)CO[C@](OC)(C[C@H](C)C/C(C)=C\\[C@@]1(C)O)C2 ['NP0021225', 'NP0324031']\n",
      "C/C1=C/C[C@H](O)/C=C\\[C@H](C)[C@H](O)[C@@H](C)/C=C(/C)C(=O)c2c(O)c(C)cc3c2C(=O)C(Cl)=C(NC(=O)/C=C\\C=C/C=C\\[C@H](C)[C@@H](O)CC1=O)C3=O ['NP0021324', 'NP0021970', 'NP0185145', 'NP0312646', 'NP0321154']\n",
      "CC1O[C@H]2CC(=O)O[C@H]2c2c(O)c3c(c(O)c21)C(=O)C1=C(C3=O)[C@@H]2C[C@@H](O)[C@@]1(O)[C@@H](C)O2 ['NP0021719', 'NP0274159']\n",
      "CC[C@H](C)C(=O)N[C@@H](C)C(=O)O[C@H]1C/C=C\\C=C/C=C\\[C@H](OC)CC(=O)NC2=CC(=O)C=C(CC/C=C(/C)[C@H](O)[C@@H]1C)C2=O ['NP0021965', 'NP0300026']\n",
      "CO[C@@H]1/C=C\\C=C/C=C\\C[C@H](OC(=O)[C@@H](C)NC(=O)CC(C)C)[C@@H](C)[C@H](O)/C(C)=C\\CCC2=CC(=O)C=C(NC(=O)C1)C2=O ['NP0021966', 'NP0329452']\n",
      "CCC(=O)/C(C)=C/[C@@H](C)C[C@H](C)[C@H]1OC(=O)C[C@@]2(O)CC=C(C)[C@H](O2)/C(C)=C\\CCC[C@H](O)/C=C\\[C@@H](C)[C@H](O)[C@H]1C ['NP0021983', 'NP0256959']\n",
      "CCC(=O)[C@H](C)[C@H](O)[C@@H](C)C[C@H](C)[C@H]1OC(=O)C[C@]2(O)CC=C(C)[C@H](O2)/C(C)=C\\CCC[C@H](O)/C=C\\[C@H](C)[C@@H](O)[C@H]1C ['NP0021984', 'NP0201060']\n",
      "COc1ccc2c(O)c(NC(=O)c3ccc(O)c(C(=O)O[C@H]4[C@@H](C)/C=C(/C)C(=O)c5c(O)c(C)cc6c5C(=O)C5=C(NC[C@](C)(O5)C(=O)[C@@H]4O)C6=O)n3)c(=O)oc2c1 ['NP0022028', 'NP0244496']\n",
      "C/C1=C/C=C\\[C@H](C)[C@H](O)[C@@H](C)[C@H](O)[C@@H](C)[C@H]2OC(=O)[C@H](/C=C(/C)C(=O)c3c(O)c(C)c(O)c4c3C(=O)C=C(NC1=O)C4=O)[C@H](O)[C@@H]2C ['NP0022113', 'NP0224643']\n",
      "CO[C@H]1/C=C\\O[C@@]2(C)Oc3c(C)c(O)c4oc(cc(=O)c4c3C2=O)NC(=O)/C(C)=C\\C=C/[C@H](C)[C@H](O)[C@@H](C)[C@@H](O)[C@@H](C)[C@H](OC(C)=O)[C@@H]1C ['NP0022132', 'NP0314995']\n",
      "C/C1=C/[C@@H](O)[C@H](O)[C@H](C)[C@@H](O)[C@@H](C)[C@@H](O)[C@H](C)[C@@H](O)[C@@H](C)/C=C\\C=C(\\CO)C(=O)NC2=CC(=O)c3c(c(O)c(C)c(O)c3C1=O)C2=O ['NP0022133', 'NP0230465']\n",
      "CO[C@H]1/C=C\\O[C@@]2(C)Oc3c(C)c(O)c4c(c3C2=O)C(=O)C(=O)C(=C4O)NC(=O)/C(C)=C\\C=C/[C@H](C)[C@H](O)[C@@H](C)[C@@H](O)[C@@H](C)[C@H](OC(C)=O)[C@@H]1C ['NP0022134', 'NP0296222']\n",
      "CO[C@H]1/C=C\\O[C@@]2(C)Oc3c(C)c(O)c4c(c3C2=O)C(=O)C(=O)C(=C4O)NC(=O)/C(C)=C\\C=C/[C@H](CO)[C@H](O)[C@@H](C)[C@@H](O)[C@@H](C)[C@H](OC(C)=O)[C@@H]1C ['NP0022135', 'NP0319951']\n",
      "C/C1=C/[C@@H](CO)[C@H](O)[C@H](C)[C@@H](O)[C@@H](C)[C@@H](O)[C@H](C)[C@@H](O)[C@@H](C)/C=C\\C=C(\\CO)C(=O)NC2=CC(=O)c3c(c(O)c(C)c(O)c3C1=O)C2=O ['NP0022136', 'NP0312124']\n",
      "C/C1=C/[C@@H](C=O)[C@H](O)[C@H](C)[C@@H](O)[C@@H](C)[C@@H](O)[C@H](C)[C@@H](O)[C@@H](C)/C=C\\C=C(\\CO)C(=O)NC2=CC(=O)c3c(c(O)c(C)c(O)c3C1=O)C2=O ['NP0022138', 'NP0262812']\n",
      "C/C1=C/C[C@H](O)/C=C\\[C@H](C)[C@H](O)[C@@H](C)/C=C(/C)C(=O)c2c(O)c(C)cc3c2C(=O)C(Cl)=C(NC(=O)/C(C)=C\\C=C/C=C\\[C@H](C)[C@@H](O)CC1=O)C3=O ['NP0022672', 'NP0310330']\n",
      "CC(C)C(=O)O[C@H]1[C@@H]2C=C[C@H]3C[C@H](O)C[C@@H]4CC(=O)C(=C[C@H]3[C@@H]2C[C@H]1C)C(=O)O4 ['NP0023107', 'NP0171158']\n",
      "CCC1OC(=O)CC(O)C(C)C(OC2OC(C)CC(N(C)C)C2O)C(CCO)CC(C)C(=O)/C=C\\C(C)=C/C1C ['NP0023270', 'NP0023929']\n",
      "CC(=O)NCCSC1=C2NC(=O)/C(C)=C\\C=C/C=C\\[C@H](C)[C@@H](O)CC(=O)/C(C)=C\\C[C@H](O)/C=C\\[C@H](C)[C@H](O)[C@@H](C)/C=C(/C)C(=O)c3c(O)c(C)cc(c3C1=O)C2=O ['NP0023866', 'NP0242478']\n",
      "COC1=C2NC(=O)/C(C)=C\\C=C/C=C\\[C@H](C)[C@@H](O)CC(=O)/C(C)=C\\C[C@H](O)/C=C\\[C@H](C)[C@H](O)[C@@H](C)/C=C(/C)C(=O)c3c(O)c(C)cc(c3C1=O)C2=O ['NP0023903', 'NP0193282']\n",
      "C/C1=C/CC/C2=C/CC[C@@](C)(O)[C@H](/C=C(/C(C)C)CC1)OC2=O ['NP0024136', 'NP0147134']\n",
      "CC(C)C(=O)O[C@@H]1Cc2c(ccc3ccc(=O)oc23)OC1(C)C ['NP0024573', 'NP0137695']\n",
      "COc1ccc(-c2cc(=O)c3c(O)cc(O)c(-c4cc([C@@H]5CC(=O)c6c(O)cc(O)cc6O5)ccc4OC)c3o2)cc1 ['NP0024817', 'NP0137666']\n",
      "CC(=O)O[C@H]1CC[C@@]23O[C@@H]2CC[C@H](C)[C@@]3(C)/C=C(\\C)[C@H]1OC(C)=O ['NP0024844', 'NP0185555']\n",
      "CC(C)=CC(=O)C[C@H](C)c1ccc(O)c(C)c1 ['NP0024862', 'NP0137630']\n",
      "O=c1cc(-c2ccccc2)oc2cc(O)cc(O)c12 ['NP0024997', 'NP0141339']\n",
      "CC(=O)O[C@H]1/C=C2\\C[C@](C)(C(=O)[C@H](O)C3=C(C)[C@H](O)C[C@@H]1C3(C)C)[C@@H](OC(C)=O)C[C@@H]2O ['NP0025030', 'NP0312121']\n",
      "O=C(/C=C/C=C/c1ccc(O)cc1)CCc1ccc(O)cc1 ['NP0025534', 'NP0137939']\n",
      "C=C1CC[C@@H]2CCC3=C(C(=O)[C@@H](/C(C)=C\\[C@H](O)C1)[C@H]3O)C2(C)C ['NP0026057', 'NP0160084']\n",
      "C/C1=C/C[C@@H]2CCC3=C(C(=O)[C@@H]([C@@H](C)CC(=O)C1)[C@H]3O)C2(C)C ['NP0026058', 'NP0317287']\n",
      "C=C1CC[C@@H](O)[C@]2(C)CC[C@H]([C@H](O)C(C)C)[C@@H]12 ['NP0026192', 'NP0137809']\n",
      "O=C1CCCN2[C@@H](CC1)C[C@]13C[N@@]4CCCC/C=C\\CC[C@](O)(C=C(c5nccc6c5[nH]c5c(O)cccc56)[C@@H]1CC4)[C@H]23 ['NP0026476', 'NP0289172']\n",
      "COc1ccc2cc1Oc1ccc(cc1)C[C@H](O)C(=O)CC/C=C\\2 ['NP0026612', 'NP0250059']\n",
      "O=C(O)/C=C\\c1ccc(O[C@@H]2O[C@H](CO)[C@@H](O)[C@H](O)[C@H]2O)cc1 ['NP0026633', 'NP0137943']\n",
      "CC(=O)OC/C1=C/[C@H](O)[C@@H]2C[C@H](OC(C)=O)C(C)=C([C@@H](OC(C)=O)/C(OC(C)=O)=C(/C)[C@H](O)C[C@@H]1O)C2(C)C ['NP0028454', 'NP0263387']\n",
      "CC(=O)OC/C1=C/[C@H](O)[C@@H]2C[C@H](OC(C)=O)C(C)=C([C@@H](OC(C)=O)/C(OC(C)=O)=C(/C)[C@H](O)CC1=O)C2(C)C ['NP0028455', 'NP0214944']\n",
      "COc1c(O)cc2c(=O)oc3c(O[C@@H]4O[C@@H](C)[C@H](O)[C@@H](O)[C@H]4O)c(O)cc4c(=O)oc1c2c34 ['NP0028723', 'NP0137839']\n",
      "C=C1C(=O)O[C@H]2/C=C(/C)CC[C@H](OC(C)=O)[C@@]3(C)CC[C@H](OO3)/C(C)=C\\C[C@@H]12 ['NP0029345', 'NP0321267']\n",
      "C=C1C(=O)O[C@@H]2/C=C(/CO[C@@H]3O[C@H](COC(=O)Cc4ccc(O)cc4)[C@@H](O)[C@H](O)[C@H]3O)CC/C=C3\\C[C@H](O[C@@H]3OC)[C@@H]12 ['NP0029742', 'NP0223228']\n",
      "CC(C)c1cc2c(c(O)c1O)[C@@]1(C)CCCC(C)(C)[C@@H]1CC2=O ['NP0030294', 'NP0137914']\n",
      "C[C@H]1C(=O)CC[C@@H]2[C@]1(C)CC[C@H]1[C@@]2(C)CC[C@@]2(C)[C@@H]3C[C@](C)(CO)CC[C@]3(C)CC[C@]12C ['NP0030402', 'NP0137651']\n",
      "C[C@]1(O)C[C@H](O)[C@]2(O)C=CO[C@@H](O[C@@H]3O[C@H](CO)[C@@H](O)[C@H](O)[C@H]3O)[C@@H]21 ['NP0030435', 'NP0137730']\n",
      "C/C1=C/CC(C)(C)/C=C\\C(=O)/C(C)=C\\CC1 ['NP0030600', 'NP0199781']\n",
      "CC(=O)OC[C@]12CC/C=C(\\C)C(=O)C[C@]3(C[C@H]1O2)O[C@]3(C)COC(C)=O ['NP0030726', 'NP0145900']\n",
      "CC1=C(CCc2ccoc2)[C@@]2(C)CCCC(C)(C)[C@@H]2[C@@H](O)C1=O ['NP0030735', 'NP0137725']\n",
      "Oc1ccc2cc1-c1cc(ccc1O)CCc1c(cc(Cl)c(O)c1Cl)-c1ccc(c(Cl)c1O)/C=C\\2 ['NP0030893', 'NP0184979']\n",
      "Oc1ccc2cc1-c1cc(cc(Cl)c1O)CCc1c(cc(Cl)c(O)c1Cl)-c1ccc(c(Cl)c1O)/C=C\\2 ['NP0030894', 'NP0305033']\n",
      "COc1ccc2cc1-c1cc(cc(Cl)c1O)/C=C\\c1c(Cl)cc(c(O)c1Cl)-c1cc(Cl)c(O)c(Cl)c1CC2 ['NP0030895', 'NP0283048']\n",
      "Oc1c(Cl)cc2cc1-c1cc(cc(Cl)c1O)CCc1c(cc(Cl)c(O)c1Cl)-c1ccc(c(Cl)c1O)/C=C\\2 ['NP0030896', 'NP0174708']\n",
      "Oc1c(Cl)cc2cc1-c1cc(cc(Cl)c1O)CCc1c(cc(Cl)c(O)c1Cl)-c1cc(Cl)c(c(Cl)c1O)/C=C\\2 ['NP0030897', 'NP0320273']\n",
      "Oc1c(Cl)cc2cc1-c1cc(cc(Cl)c1O)/C(Cl)=C(/Cl)c1c(Cl)cc(c(O)c1Cl)-c1cc(Cl)c(O)c(Cl)c1CC2 ['NP0030898', 'NP0156156']\n",
      "CC(C)=CCc1c(O)c(O)c2oc3c(O)ccc(O)c3c(=O)c2c1CC=C(C)C ['NP0030932', 'NP0138140']\n",
      "O=C(O)/C=C/c1ccc(O)c(O)c1 ['NP0031100', 'NP0141345']\n",
      "CC(=O)O[C@H]1C(=O)[C@@]2(C)C/C(=C\\[C@H](O)[C@@H]3C[C@H](O)C(C)=C1C3(C)C)[C@@H](O)C[C@@H]2OC(C)=O ['NP0031889', 'NP0241739']\n",
      "C/C1=C/CC[C@H](C)C[C@H](O)CC2=C[C@@H](OC2=O)[C@H](C(C)C)CC1 ['NP0032192', 'NP0228261']\n",
      "C/C1=C/[C@H](O)CC2=C[C@@H](OC2=O)[C@H](C(C)C)CC/C(C)=C\\CC1 ['NP0032193', 'NP0260320']\n",
      "C/C1=C/[C@@H](O)CC2=C[C@@H](OC2=O)[C@H](C(C)C)CC/C(C)=C\\CC1 ['NP0032194', 'NP0293971']\n",
      "C=C1C(=O)O[C@@H]2C[C@H]1C/C=C(/C)[C@@H](O)CC/C(C)=C\\CC[C@]2(C)O ['NP0032329', 'NP0231233', 'NP0318568']\n",
      "C=C1C(=O)O[C@@H]2C[C@H]1CCC(=C)[C@@H](O)CC/C(C)=C\\CC[C@]2(C)O ['NP0032331', 'NP0166741']\n",
      "C=C1CC[C@@H]2CCC3=C(C(=O)[C@H](C3=O)/C(C)=C\\[C@@H](O)C1)C2(C)C ['NP0032349', 'NP0188264']\n",
      "C=C1CC[C@@H]2CCC3=C(C(=O)[C@@H](/C(C)=C\\[C@@H](OC(C)=O)C1)[C@H]3O)C2(C)C ['NP0032350', 'NP0292859']\n",
      "COC(=O)/C1=C\\CC[C@]2(C)O[C@H]2CC/C(C(=O)OC)=C\\[C@@H]2O[C@@]2(C(C)C)CC1 ['NP0032456', 'NP0228947']\n",
      "COC(=O)/C1=C/C=C(/C(C)C)CCC2=CCC[C@](C)(OC2=O)C(=O)CC1 ['NP0032459', 'NP0326596']\n",
      "C[C@@H](O)[C@H]1CC[C@H]2[C@@H]3C=CC4=CC(=O)CC[C@]4(C)[C@H]3CC(=O)[C@]12C ['NP0032610', 'NP0137636']\n",
      "Oc1cc2cc(c1)Oc1c(O)cc(cc1O)[C@H](O)CCCCCC/C=C\\CCCCC2 ['NP0032700', 'NP0213536']\n",
      "Oc1cc(O)c2c(c1)CCCCC/C=C\\CCCCCCCc1cc(O)c-2c(O)c1 ['NP0032702', 'NP0317589']\n",
      "COc1cc(O)cc2c1-c1c(O)cc(cc1O)CCCCCCC/C=C\\CCCCC2 ['NP0032703', 'NP0259376']\n",
      "COCc1ccc2c(c1OC)C(=O)c1ccc(O)c(OC)c1C2=O ['NP0032766', 'NP0138368']\n",
      "C1=C\\CCCCC[C@H]2C[N@]3CC/C=C\\CCCCCC[C@@H]4C[C@@H](C[N@](CC/C=C/C/1)C4)[C@H]2CC3 ['NP0032858', 'NP0160614']\n",
      "COC(=O)/C1=C\\C(=O)[C@H](C(C)C)CC(=O)[C@H](C)CCC[C@H](C)CC(=O)C1 ['NP0033408', 'NP0194612']\n",
      "C=C1CC[C@@H]2CC[C@H]3C(=O)N/C(=C/[C@@H](C)CC(=O)C1)[C@@]3(O)C2(C)C ['NP0033415', 'NP0218843']\n",
      "C[C@H](CO)c1cc2c(c(O)c1O[C@@H]1O[C@H](CO)[C@@H](O)[C@H](O)[C@H]1O)[C@@]1(C)CCC[C@](C)(C(=O)O[C@@H]3O[C@H](CO)[C@@H](O)[C@H](O)[C@H]3O)[C@@H]1CC2 ['NP0033718', 'NP0137798']\n",
      "C=C1C(=O)O[C@]2(C)CC[C@@H]1C[C@H](O)/C(C)=C\\C/C=C(/C)CC[C@@H]2OC(C)=O ['NP0033874', 'NP0235133', 'NP0250699']\n",
      "C/C1=C/C(=O)CC2=C[C@@H](OC2=O)[C@@H](C(C)C)CC(=O)/C(C)=C\\CC1 ['NP0033876', 'NP0205297', 'NP0247828']\n",
      "C/C1=C/C(=O)CC2=C[C@@H](OC2=O)[C@H](C(C)C)CC(=O)/C(C)=C\\CC1 ['NP0033879', 'NP0313151']\n",
      "C/C1=C/CC[C@@H](C)CC(=O)CC2=C[C@@H](OC2=O)[C@@H](C(C)C)CC1=O ['NP0033882', 'NP0250086']\n",
      "C=C1C(=O)O[C@]2(C)CC[C@@H]1C[C@@H](O)/C(C)=C\\C/C=C(/C)CC[C@@H]2OC(C)=O ['NP0033893', 'NP0232693', 'NP0242853']\n",
      "C=CCc1cc(-c2cc([C@H](O)[C@@H](O)CO)ccc2O)ccc1O ['NP0034172', 'NP0137648']\n",
      "CC1(C)[C@H](O)CC[C@@]2(C)[C@@H]3CC[C@](C)([C@@H](O)CO)C=C3[C@@H](O)C[C@H]12 ['NP0034918', 'NP0137649']\n",
      "Cc1coc2c1[C@@H](OC(=O)C(C)C)[C@]1(C)[C@@H](C)CC[C@H]3O[C@]31C2=O ['NP0035079', 'NP0137920']\n",
      "CC(=O)O[C@H]1C/C=C(/C)C[C@H]2O[C@H]([C@@H]3[C@@H]([C@@H](C)CO)CC=C(C)[C@@H]32)[C@]1(C)O ['NP0035622', 'NP0321203']\n",
      "CC(C)=CCC[C@]1(C)C=Cc2c(O)c3c(c(CC=C(C)C)c2O1)O[C@]12C(=C[C@@H]4C[C@H]1C(C)(C)O[C@@]2(C/C=C(/C)C(=O)O)C4=O)C3=O ['NP0035812', 'NP0138435']\n",
      "COc1cc(O)c2c(O)c3c(c4c2c1[C@]1(C4)C(C)=CCCC1(C)C)[C@H](O)[C@@]1(O)CC(O)=C(C(N)=O)C(=O)[C@@]1(O)C3=O ['NP0037923', 'NP0331320']\n",
      "CC(=O)O[C@H]1C[C@]2(C)O[C@H]2CC/C(C)=C/[C@@H](OC(C)=O)[C@@]2(C)C(=O)C[C@@H]([C@]3(C)CO3)[C@H]12 ['NP0038171', 'NP0197382']\n",
      "CC(=O)O[C@H]1C[C@]2(C)O[C@H]2CC/C(C)=C/[C@@H](OC(C)=O)[C@]2(C)[C@@H]1[C@H]([C@]1(C)CO1)C[C@@H]2OC(C)=O ['NP0038172', 'NP0154132']\n",
      "COC(=O)[C@@H]1C[C@@]23C(=O)N4C[C@@H](CCC5=C2[C@@H]1CC5)[C@]3(CO)/C=C\\C(=O)[C@H](C)C4 ['NP0038264', 'NP0324751']\n",
      "COc1c(O)cc(O)c2c(=O)c3ccccc3n(C)c12 ['NP0038301', 'NP0138255']\n",
      "C=C1C(=O)O[C@]2(C)CC[C@@H]1C[C@@H]1O[C@@]1(C)C/C=C\\[C@@](C)(OO)CCC2=O ['NP0038558', 'NP0316469']\n",
      "C=C1C(=O)O[C@]2(C)CC[C@@H]1C[C@@H]1O[C@@]1(C)C/C=C\\[C@@](C)(O)CC[C@@H]2OC(C)=O ['NP0038560', 'NP0303062']\n",
      "C=C1C(=O)O[C@]2(C)CC[C@@H]1C[C@@H]1O[C@@]1(C)C/C=C\\[C@](C)(O)CC[C@@H]2OC(C)=O ['NP0038636', 'NP0259702']\n",
      "C=C1C(=O)O[C@]2(C)CC[C@@H]1C[C@@H]1O[C@@]1(C)C/C=C\\[C@](C)(O)CC[C@@H]2O ['NP0038637', 'NP0303355']\n",
      "O=C1N/C=C\\c2cc(Br)c(O)c(c2)Oc2c(Br)cc(cc2Br)CCNC(=O)/C(=N/O)Cc2cc(Br)c(O)c(c2)Oc2c(Br)cc(cc2Br)C/C1=N\\O ['NP0039024', 'NP0216743']\n",
      "C[C@H](O)/C=C/[C@@]1(O)C(C)(C)C[C@H](O)C[C@@]1(C)O ['NP0039284', 'NP0137952']\n",
      "C/C1=C/CC[C@](C)(O)/C=C\\[C@@H](C(C)C)CCC2=C[C@@H](C1)OC2=O ['NP0039566', 'NP0307017']\n",
      "CC(=O)O[C@@]1(C)CCC/C(C)=C/CC[C@@]2(C)O[C@@H]2C(=O)C(=C(C)C)CC1 ['NP0039569', 'NP0218292']\n",
      "CC(C)[C@]12/C=C\\[C@@](C)(O)CC/C=C(/CO)CC[C@H](O1)[C@@](C)(O)CC2 ['NP0040587', 'NP0294280']\n",
      "COC(=O)/C1=C/CC[C@](C)(O)/C=C\\[C@]2(C(C)C)CC[C@](C)(O)[C@H](CC1)O2 ['NP0040588', 'NP0275707']\n",
      "CC(C)[C@]12/C=C\\[C@](C)(O)CC/C=C(/CO)CC[C@H](O1)[C@@](C)(O)CC2 ['NP0040589', 'NP0236827']\n",
      "CC1=C/C/C=C(/CO)CC[C@H](O)[C@]2(C)CC[C@](C(C)C)(\\C=C/1)O2 ['NP0040595', 'NP0207913']\n",
      "C[C@H]1[C@H](C)CC[C@@]23CC[C@]4(C)[C@@](C=C[C@@H]5[C@@]6(C)CC[C@H](O)C(C)(C)[C@@H]6CC[C@]54C)(OC2=O)[C@H]13 ['NP0040921', 'NP0137887']\n",
      "C=C1C(=O)O[C@]2(C)CC[C@@H]1C[C@@H]1O[C@@]1(C)CC[C@H]1O[C@]1(C)/C=C\\C2=O ['NP0041025', 'NP0295802']\n",
      "C=C1C(=O)O[C@]2(C)CC[C@@H]1C[C@@H]1O[C@@]1(C)C/C=C\\[C@](C)(O)CCC2=O ['NP0041026', 'NP0225650']\n",
      "C=C1C(=O)O[C@]2(C)CC[C@@H]1C[C@@H]1O[C@@]1(C)C/C=C\\[C@](C)(OO)CC[C@H]2OC(C)=O ['NP0041029', 'NP0241233']\n",
      "C=C(CC[C@@H](O)C(C)(C)O)[C@H]1CC[C@]2(C)[C@@H]1CC[C@@H]1[C@@]3(C)CCC(=O)C(C)(C)[C@@H]3CC[C@]12C ['NP0041245', 'NP0137812']\n",
      "C/C1=C/C[C@@]23OC(C)(C)[C@H](Cl)C[C@]2(Cl)C(=O)c2c(cc4c(c2O)C/C(=C/CC1)CO4)C3=O ['NP0042352', 'NP0318473']\n",
      "COC(=O)/C1=C/C=C(/C(C)C)CCC2=CCC[C@](C)(OC2=O)[C@H](OC(C)=O)CC1 ['NP0042518', 'NP0295530']\n",
      "CCC[C@H]1C(=O)[C@H]2CC[C@@]3(C)C[C@H](C)[C@@H](O3)[C@H](O)/C=C(/C)C(=O)C[C@H]1OC2=O ['NP0042782', 'NP0144695']\n",
      "CC(=O)O[C@@]1(C)CCC(=O)/C(C)=C/CC[C@]2(C)O[C@H]2C(=O)C(=C(C)C)CC1 ['NP0043098', 'NP0181326']\n",
      "COc1ccc(-c2oc3cc(OC)cc(O)c3c(=O)c2OC)cc1 ['NP0043772', 'NP0044788']\n",
      "COc1cc(O)c2c(=O)c(OC)c(-c3ccc(OC)c(O)c3)oc2c1 ['NP0043773', 'NP0044787']\n",
      "COc1cc(O)c2c(=O)c(O)c(-c3ccc(OC)c(O)c3)oc2c1 ['NP0043802', 'NP0044790']\n",
      "COc1cc(OC)c2c(=O)c(OC)c(-c3ccc(OC)c(OC)c3)oc2c1 ['NP0043803', 'NP0044792']\n",
      "COc1ccc(-c2oc3cc(OC)cc(OC)c3c(=O)c2OC)cc1 ['NP0043804', 'NP0044793']\n",
      "None ['NP0044012', 'NP0051879', 'NP0056073', 'NP0057239', 'NP0058570', 'NP0061942', 'NP0062047', 'NP0063173', 'NP0063604', 'NP0064634', 'NP0065459', 'NP0065649', 'NP0067527', 'NP0067561', 'NP0069596', 'NP0070054', 'NP0070163', 'NP0070459', 'NP0072274', 'NP0072863', 'NP0073057', 'NP0073390', 'NP0073761', 'NP0073849', 'NP0074328', 'NP0075213', 'NP0076338', 'NP0076909', 'NP0076934', 'NP0078021', 'NP0078381', 'NP0078562', 'NP0078563', 'NP0078621', 'NP0078908', 'NP0079024', 'NP0079562', 'NP0081320', 'NP0081321', 'NP0081470', 'NP0081540', 'NP0081541', 'NP0081674', 'NP0082082', 'NP0082623', 'NP0082727', 'NP0083272', 'NP0086397', 'NP0087485', 'NP0137211', 'NP0141340', 'NP0141348', 'NP0141444', 'NP0144500', 'NP0146601', 'NP0151017', 'NP0167831', 'NP0176533', 'NP0178944', 'NP0182131', 'NP0185023', 'NP0185772', 'NP0186474', 'NP0188550', 'NP0190054', 'NP0193389', 'NP0193644', 'NP0196293', 'NP0200003', 'NP0209128', 'NP0216426', 'NP0218861', 'NP0220864', 'NP0224567', 'NP0230877', 'NP0231451', 'NP0231811', 'NP0232056', 'NP0234199', 'NP0235953', 'NP0242237', 'NP0244281', 'NP0245839', 'NP0249677', 'NP0255644', 'NP0256150', 'NP0257577', 'NP0259287', 'NP0259413', 'NP0260063', 'NP0267214', 'NP0271774', 'NP0274482', 'NP0274862', 'NP0277128', 'NP0280618', 'NP0291785', 'NP0301524', 'NP0303810', 'NP0307936', 'NP0309777', 'NP0311669', 'NP0324916', 'NP0327953', 'NP0328308']\n",
      "COc1c(-c2ccc(O)c(O)c2)oc2cc(O)cc(O)c2c1=O ['NP0044024', 'NP0044030', 'NP0044032', 'NP0044033', 'NP0044209']\n",
      "O=C(/C=C/c1ccc(O)c(O)c1)OC[C@H]1O[C@@H](Oc2ccc(O)cc2)[C@H](O)[C@@H](O)[C@@H]1O ['NP0044036', 'NP0137960']\n",
      "O=C(/C=C/c1ccc(O)c(O)c1)O[C@@H]1CC(O)(C(=O)O)C[C@@H](OC(=O)/C=C/c2ccc(O)c(O)c2)C1O ['NP0044041', 'NP0137958']\n",
      "COc1ccc(-c2cc(=O)c3c(O)cc(OC4OC(COC5OC(C)C(O)C(O)C5O)C(O)C(O)C4O)cc3o2)cc1 ['NP0044208', 'NP0044826']\n",
      "O=C1CC(c2ccc(O)cc2)Oc2cc(O)cc(O)c21 ['NP0044212', 'NP0331449']\n",
      "O=C1c2c(O)cc(O)cc2O[C@H](c2ccc(O)cc2)[C@H]1O ['NP0044450', 'NP0331442']\n",
      "COc1cc(-c2oc3c(OC)c(OC)cc(OC)c3c(=O)c2OC)cc(OC)c1OC ['NP0044782', 'NP0138304']\n",
      "CC1OC(Oc2c(-c3ccc(O)cc3)oc3cc(O)cc(O)c3c2=O)C(O)C(O)C1O ['NP0044794', 'NP0044821']\n",
      "CCCCCc1cc(OC)c(CC=C(C)CCC=C(C)C)c(O)c1C(=O)O ['NP0044837', 'NP0168838']\n",
      "C=C1CC/C=C(\\C)CC[C@H]2[C@@H]1CC2(C)C ['NP0044871', 'NP0310166']\n",
      "C/C1=C/CC/C(C)=C\\CC(C)(C)/C=C/C1 ['NP0044879', 'NP0286691']\n",
      "C[C@@H]1CC(=O)CC(C)(C)[C@@]1(O)/C=C/[C@@H](C)O ['NP0045005', 'NP0137950']\n",
      "COc1cc(C=C(C(O)=NCCc2ccc(O)cc2)/C(=C\\c2ccc(O)c(OC)c2)C(O)=NCCc2ccc(O)cc2)ccc1O ['NP0045217', 'NP0298939']\n",
      "CC1CC=CC(=O)O1 ['NP0045548', 'NP0138200']\n",
      "CC(C)=CCc1c(O)ccc(C2COc3c(CC=C(C)C)c(O)cc(O)c3C2=O)c1O ['NP0045697', 'NP0138143']\n",
      "C[C@@H]1C[C@]2(O[C@@H]2C)C(=O)O[C@@H]2CCN(C)C/C=C(/COC(=O)[C@]1(C)O)C2=O ['NP0045885', 'NP0293371']\n",
      "C=CC ['NP0046208', 'NP0074515']\n",
      "CCC(C)C(=O)OCC(C)C ['NP0046539', 'NP0085678']\n",
      "CC(C)(O)[C@H](O)COc1c2ccoc2cc2oc(=O)ccc12 ['NP0046559', 'NP0137816']\n",
      "C[C@@H]1C[C@@H](O)[C@@]2(O)[C@@]13C[C@@H](OC(=O)[C@@H]3O)[C@](C)(O)[C@@]21COC1=O ['NP0046756', 'NP0192133']\n",
      "COc1cc(-c2oc3cc(OC)c(O)c(O)c3c(=O)c2OC)ccc1O ['NP0046807', 'NP0331382']\n",
      "COc1c(OC)c(O)c2c(=O)cc(-c3ccc(O)c(O)c3)oc2c1OC ['NP0049076', 'NP0331380']\n",
      "CC(C)C[C@H](NC(=O)[C@H](CC(C)C)NC(=O)[C@H](C[SeH])NC(=O)[C@@H](N)CC(N)=O)C(=O)O ['NP0050073', 'NP0050080', 'NP0050089', 'NP0050090', 'NP0050091', 'NP0050092', 'NP0050094', 'NP0050098']\n",
      "C/C=C\\C ['NP0050207', 'NP0065476', 'NP0065477', 'NP0065478', 'NP0065479']\n",
      "CCc1ccccc1 ['NP0050283', 'NP0050656']\n",
      "C/C1=C/CCC2=C[C@@H](C/C(C)=C\\CC3=CC(=O)C(=CC3=O)C1)[C@]1(C=O)C[C@@H]3C=C4CC/C=C(/C)CC5=CC(=O)[C@@]3(C[C@@H]1C2)[C@H](C4)C5=O ['NP0050366', 'NP0255370']\n",
      "C/C=C/C ['NP0050653', 'NP0065473', 'NP0065474', 'NP0065475', 'NP0065480']\n",
      "CCCC ['NP0050654', 'NP0074597']\n",
      "Cc1ccc(-c2cccs2)s1 ['NP0050655', 'NP0082969', 'NP0082970']\n",
      "C ['NP0050659', 'NP0062086', 'NP0080350', 'NP0080351', 'NP0080352', 'NP0080353', 'NP0080354', 'NP0080771', 'NP0080822', 'NP0080823', 'NP0080824', 'NP0080825', 'NP0080826', 'NP0080827', 'NP0080828', 'NP0080998', 'NP0080999', 'NP0081000', 'NP0081001', 'NP0081002', 'NP0081003', 'NP0081065', 'NP0081066', 'NP0082868', 'NP0082869', 'NP0082870', 'NP0082871', 'NP0083026', 'NP0083027', 'NP0083028', 'NP0083029', 'NP0083030', 'NP0083031', 'NP0083032', 'NP0083033']\n",
      "CC(=O)OC[C@]12[C@H](OC(C)=O)[C@H](OC(C)=O)[C@@H]3[C@@H](OC(C)=O)[C@@]14O[C@@]3(C)COC(=O)c1cccnc1CC[C@@](C)(O)C(=O)O[C@@H]([C@H](OC(=O)c1ccccc1)[C@@H]2OC(C)=O)[C@]4(C)O ['NP0051086', 'NP0174094']\n",
      "C/C=C1\\C[C@@H](C)[C@@](C)(O)C(=O)OC[C@H]2CCN3CC[C@@H](OC1=O)[C@@H]23 ['NP0051176', 'NP0073634']\n",
      "C/C=C1\\C[C@@H](C)[C@](O)(CO)C(=O)OCC2=CCN3CC[C@@H](OC1=O)[C@@H]23 ['NP0051178', 'NP0051191']\n",
      "C1CCN2C[C@]34C[C@H](C[C@@H]5CCCN([C@@H]6CCC[C@@H]3N6)[C@H]54)[C@H]2C1 ['NP0051282', 'NP0268757']\n",
      "COc1cc([C@@H]2c3cc4c(cc3[C@H](O)[C@H]3COC(=O)[C@H]23)OCO4)cc(OC)c1O ['NP0051502', 'NP0137774']\n",
      "C[C@@H](CO)CC[C@@H](O)[C@](C)(O)[C@H]1CC[C@@]2(O)C3=CC(=O)[C@@H]4C[C@@H](O)[C@@H](O)C[C@]4(C)[C@H]3CC[C@]12C ['NP0052165', 'NP0137635', 'NP0331287']\n",
      "COc1ccc(-c2cc(=O)c3c(O)cc(O)cc3o2)cc1OC ['NP0052290', 'NP0138283']\n",
      "COc1cc(O)c2c(=O)cc(-c3ccc(OC)c(OC)c3)oc2c1 ['NP0052291', 'NP0138317']\n",
      "COc1cc(-c2cc(=O)c3c(O)c(OC)c(O)cc3o2)cc(OC)c1O ['NP0052337', 'NP0331383']\n",
      "COc1cc(-c2cc(=O)c3c(O)c(OC)c(OC)cc3o2)cc(OC)c1O ['NP0052339', 'NP0138301']\n",
      "COc1cc(-c2cc(=O)c3c(OC)c(OC)c(OC)c(OC)c3o2)cc(OC)c1O ['NP0052365', 'NP0138302']\n",
      "COc1cc(-c2cc(=O)c3c(OC)c(OC)c(OC)c(OC)c3o2)cc(OC)c1OC ['NP0052369', 'NP0138305']\n",
      "COc1ccc(-c2oc3c(OC)c(O)cc(O)c3c(=O)c2OC)cc1 ['NP0052906', 'NP0138335']\n",
      "COc1cc(-c2oc3cc(O)cc(OC)c3c(=O)c2O)ccc1O ['NP0052919', 'NP0138263']\n",
      "COc1cc2oc(-c3ccc(O)c(O)c3)c(OC)c(=O)c2c(O)c1O ['NP0052953', 'NP0331379']\n",
      "COc1cc(-c2oc3c(OC)c(O)c(OC)c(O)c3c(=O)c2OC)ccc1O ['NP0053044', 'NP0138265']\n",
      "COc1cc(-c2oc3c(OC)c(O)c(OC)c(O)c3c(=O)c2OC)cc(OC)c1OC ['NP0053113', 'NP0138303']\n",
      "COc1c(-c2ccc(O)c(O)c2)oc2cc(O)c(CC=C(C)C)c(O)c2c1=O ['NP0053252', 'NP0138291']\n",
      "COc1cc(O)c2c(=O)c(O[C@@H]3O[C@@H](CO)[C@H](O)[C@@H](O)[C@H]3O[C@@H]3OC[C@@](O)(COC(=O)/C=C/c4ccc(O)c(OC)c4)[C@@H]3O)c(-c3ccc(O)cc3)oc2c1 ['NP0053906', 'NP0140306']\n",
      "COc1ccc([C@H]2Oc3cc(O)cc(O)c3C(=O)[C@@H]2[C@@H]2C(=O)c3c(O)cc(O)cc3O[C@H]2c2ccc(OC)cc2)cc1 ['NP0054276', 'NP0137752']\n",
      "COc1ccc(-c2cc(=O)c3c(O)cc(OC)c(-c4cc(-c5cc(=O)c6c(O)cc(OC)cc6o5)ccc4OC)c3o2)cc1 ['NP0054342', 'NP0138336']\n",
      "COc1cc(O)ccc1C(=O)C=Cc1ccccc1 ['NP0054630', 'NP0180122']\n",
      "COc1ccc(/C=C/C(=O)c2ccc(O)cc2O)cc1O ['NP0054648', 'NP0137963']\n",
      "COc1cc(O)ccc1C(=O)C=Cc1ccc(O)c(O)c1 ['NP0054649', 'NP0220201']\n",
      "COc1cc(O)c(C(=O)CCc2ccccc2)c(O)c1 ['NP0055293', 'NP0138314']\n",
      "COc1cc(O)cc(O)c1C(=O)CCc1ccc(O)cc1 ['NP0055301', 'NP0138323']\n",
      "COc1cc(-c2coc3cc(O)cc(O)c3c2=O)ccc1O ['NP0056551', 'NP0138266']\n",
      "CC(C)=CCc1c(O)c(CC=C(C)C)c2occ(-c3ccc(O)c(O)c3)c(=O)c2c1O ['NP0056610', 'NP0138142']\n",
      "COc1cc(O)c2c(=O)c(-c3ccc(O)c(OC)c3)coc2c1 ['NP0056867', 'NP0138316']\n",
      "Oc1ccc2c(c1)OCc1c-2oc2cc3c(cc12)OCO3 ['NP0057025', 'NP0138400']\n",
      "C=C[C@H](c1ccccc1)c1cc(OC)c(OC)cc1OC ['NP0057217', 'NP0137804']\n",
      "C=C1[C@@H](C)[C@H]2[C@H](Cc3c[nH]c4ccccc34)NC(=O)[C@@]23C(=O)/C=C\\C(=O)[C@H](OC(C)=O)/C(C)=C\\[C@@H](C)C/C=C\\[C@H]3[C@@H]1O ['NP0058020', 'NP0178656']\n",
      "CC[C@H]1[C@H]2[C@H]([C@H](C)c3c[nH]c4ccccc34)NC(=O)[C@]23C(=O)/C=C\\C(=O)[C@H](O)/C(C)=C\\[C@@H](C)C/C=C\\[C@H]3[C@@H]2O[C@]12C ['NP0058021', 'NP0220009']\n",
      "C=C1[C@@H](O)[C@@H]2/C=C\\C[C@H](C)/C=C(/C)[C@@H](O)C(=O)/C=C\\C(=O)[C@]23C(=O)N[C@@H]([C@H](C)c2c[nH]c4ccccc24)[C@@H]3[C@@H]1CC ['NP0058022', 'NP0330700']\n",
      "CC1=CC(=O)[C@](O)([C@H](C)C(=O)O)[C@@H]2OC(=O)[C@]3(O)CC[C@@H]1O[C@@H]23 ['NP0058349', 'NP0265289']\n",
      "C=C(C)C(=O)O[C@H]1C[C@@H]2C(=C)C(=O)O[C@@H]2/C=C(/C)[C@]2(O)C[C@@H](OC(C)=O)[C@@]1(C)O2 ['NP0058714', 'NP0281534']\n",
      "C=C(C)C(=O)O[C@H]1C[C@]2(C)O[C@@](O)(CC2=O)/C(C)=C\\[C@@H]2OC(=O)C(=C)[C@@H]21 ['NP0058715', 'NP0175009']\n",
      "C/C=C(\\C)C(=O)O[C@@H]1C[C@]2(OC(C)=O)O[C@]1(C)CCC1=C(COC(C)=O)C(=O)O[C@@H]1/C=C\\2C ['NP0058716', 'NP0153322']\n",
      "C=C(C)C(=O)O[C@H]1[C@H]2OC(=C)C(=O)[C@H]2/C=C(/CO)C2=CC(=O)[C@](C)(O2)[C@@H]1OC(=O)CC(C)C ['NP0058733', 'NP0146155']\n",
      "C=C(C)C(=O)O[C@@H]1[C@H]2C(=C)C(=O)O[C@H]2/C=C(/CO)C2=CC(=O)[C@@](C)(O2)[C@H]1OC(=O)/C(C)=C/C ['NP0058734', 'NP0153905']\n",
      "C=C(C)C(=O)O[C@H]1[C@H]2C(=C)C(=O)O[C@H]2/C=C(/CO)C2=CC(=O)[C@@](C)(O2)[C@H]1OC(=O)C=C(C)C ['NP0058735', 'NP0191054']\n",
      "CC1=C2C/C=C(/C)CC/C=C(/C)[C@@H](C2)OC1=O ['NP0058923', 'NP0209339']\n",
      "C/C=C(/C)C(=O)O[C@H]1C[C@@]2(C)OC(=CC2=O)/C(C)=C\\[C@@H]2OC(=O)[C@]3(CCC=C(CCC=C(C)C)C3)[C@H]21 ['NP0058943', 'NP0311413']\n",
      "C/C=C(\\C)C(=O)O[C@@H]1[C@@H]2[C@@H]3/C=C(/C)C(=O)O[C@](C)(C(C)=O)[C@H]1OC[C@H]2C(=O)O3 ['NP0058955', 'NP0247875']\n",
      "CC1=C2[C@H](/C=C(/C)CCC=C3CC2(O)C3)OC1=O ['NP0058960', 'NP0298966']\n",
      "C/C1=C/CCC2=C[C@H](OC2=O)C(C)(C)/C=C\\C1=O ['NP0058973', 'NP0313737']\n",
      "C[C@H](O)[C@H]1/C=C\\C=C/C(=O)O[C@H]2C[C@@]3([C@H]4CO4)O[C@@H]4[C@@H]5O[C@]5(C)CC[C@]4(COC(=O)[C@H]4O[C@@]4(C)[C@H](O)CO1)[C@]23C ['NP0059109', 'NP0218465']\n",
      "CC1=C[C@H]2O[C@@H]3C[C@H]4OC(=O)/C=C\\C=C/[C@]5([C@H](C)O)OCC/C(=C/C(=O)OC[C@@]2(CC1)[C@]4(C)[C@]31CO1)[C@H]5O ['NP0059134', 'NP0232355', 'NP0240641']\n",
      "CC1=C[C@H]2O[C@@H]3C[C@H]4OC(=O)/C=C\\C=C/C(=O)OCC/C(C)=C\\C(=O)OC[C@@]2(CC1)[C@]4(C)[C@]31CO1 ['NP0059174', 'NP0279551']\n",
      "C[C@@H]1C=C2O[C@H]3C[C@H]4OC(=O)/C=C\\C=C/[C@]56OCC/C(=C/C(=O)OC[C@]2(CC1)[C@@]4(C)[C@@]31CO1)[C@H]5O[C@H](O)[C@H]6O ['NP0059179', 'NP0330380']\n",
      "CC(=O)OC[C@@]12[C@H](OC(C)=O)[C@H](OC(C)=O)[C@H]3OC(=O)[C@@H](C)CCc4ncccc4C(=O)OC[C@]4(C)O[C@@]1([C@@H]3C)[C@H](OC(C)=O)[C@@H]4[C@H](OC(C)=O)[C@H]2OC(C)=O ['NP0059556', 'NP0194197']\n",
      "CC(=O)OC[C@@]12[C@@H](OC(C)=O)[C@@H](OC(C)=O)[C@H]3[C@@H](OC(C)=O)[C@]14O[C@]3(C)COC(=O)c1cccnc1CC[C@@](C)(O)C(=O)O[C@@H]([C@@H](OC(C)=O)[C@@H]2OC(C)=O)[C@]4(C)O ['NP0059557', 'NP0170982']\n",
      "COc1c(O)c(OC)c2oc(-c3ccccc3)cc(=O)c2c1O ['NP0059716', 'NP0138252']\n",
      "O=c1cc(-c2c(O)cccc2O)oc2cc(O)cc(O)c12 ['NP0059723', 'NP0138391']\n",
      "CC(C)=CCc1c(O)c(C)c(O)c2c1O[C@H](c1ccc(O)cc1)CC2=O ['NP0060419', 'NP0137663']\n",
      "COc1cc(O)c(CCC(=O)c2ccc(O)cc2)c(OC)c1 ['NP0060777', 'NP0138315']\n",
      "COc1c(O)cc(/C=C/c2cc(O)cc(O)c2)cc1O ['NP0061223', 'NP0331441']\n",
      "C/C1=C/C/C=C\\C/C(CC(=O)O)=C\\C(=O)O[C@@H]2C[C@@H](C1)O[C@@](O)(CC/C(C)=C/Cc1ccccc1)C2 ['NP0061477', 'NP0326940']\n",
      "C/C1=C/CC[C@]2(C)O[C@@H]3C[C@@H](C)[C@](C)(CC1)C1=C3[C@](O)(OC1)[C@H]2O ['NP0061518', 'NP0161178']\n",
      "Cn1c(=O)/c(=C/c2ccccc2)[nH]c(=O)/c1=C/c1ccccc1 ['NP0061587', 'NP0331352']\n",
      "CSC[C@@H]1N/C(=C2/CC=CC2=O)[C@H]([C@@H](C)[C@@H]2C(=O)N(C)c3ccccc32)NC1=O ['NP0061936', 'NP0256985']\n",
      "CC(/C=C/C=C(\\C)C(=O)O)=C\\C=C\\C(C)=C1\\C(=O)C[C@H]2[C@@]3(C)CCC(=O)C(C)(C)[C@@H]3CC[C@]12C ['NP0062344', 'NP0062345']\n",
      "COc1ccc2c(=O)c(-c3ccc(O)cc3O)coc2c1 ['NP0062825', 'NP0138348']\n",
      "C[C@@H]1C(=O)C[C@@]2(O)[C@@]13C[C@@H](OC(=O)[C@@H]3O)[C@@H](C)[C@@]21COC1=O ['NP0064729', 'NP0240330']\n",
      "CC1(C)C[C@H]2[C@H]1CC[C@@]1(C)C[C@]2(O)CC[C@@H]1O ['NP0064938', 'NP0137926']\n",
      "CC1=CC[C@@H]2C(C)(C)[C@H](O)C(=O)C[C@]2(C)[C@@H]1CC/C(C)=C\\C=O ['NP0065130', 'NP0065131']\n",
      "CC1=CC[C@@H]2C(C)(C)[C@@H]3CC[C@]2(C)[C@@H]1CC/C(C)=C\\COC(=O)CC(=O)O3 ['NP0065458', 'NP0184253']\n",
      "CC1=C(C)C(C)(C)C[C@H](O)C1=O ['NP0065788', 'NP0065789', 'NP0065812', 'NP0065813', 'NP0065820']\n",
      "CC1=C(C)C(C)(C)C[C@H](O)C1 ['NP0065796', 'NP0065815', 'NP0065816', 'NP0065821', 'NP0065824']\n",
      "C=C/C(C)=C/C[C@H]1[C@](C)(O)[C@@H](O)[C@H](O)[C@H]2C(C)(C)CCC[C@@]21C ['NP0065953', 'NP0138025']\n",
      "Cc1cc2c(cc1O)[nH]c1ccccc12 ['NP0066993', 'NP0138180']\n",
      "C=C1[C@@H]2CC[C@]3(O)[C@H]1[C@H](C2)[C@@]12C(=O)CC[C@@]4(C)CN(CC)[C@@H]1[C@@H]3C[C@H]42 ['NP0067129', 'NP0257610']\n",
      "C=C1[C@@H]2CC[C@H]3[C@@H]4C[C@H]5[C@@]6(C)CC[C@@H](O)[C@]5([C@H]4N(CC)C6)[C@@H](C2)[C@@H]13 ['NP0067130', 'NP0141712']\n",
      "C=C1C[C@@]23C[C@H]4[C@@H]5[C@]6(C)C[C@H](OC(=O)C(C)C)C[C@@]57[C@@H]2[C@H](O)[C@@H]1[C@@H](OC(C)=O)[C@]3(O)[C@H]7[N+]4([O-])C6 ['NP0067196', 'NP0297773']\n",
      "CN1C[C@]2(C)CCC[C@@]34[C@@H]2CC[C@]25C[C@@]6(CC[C@@]78[C@@H]9C=C%10[C@@](CC[C@@H]%11[C@@]%12(C)CCC[C@@]%10%11[C@@H]%10OCCN%10C%12)(C[C@@H]97)[C@@H]8O6)[C@H](C[C@@H]2[C@@H]13)C[C@H]54 ['NP0067293', 'NP0272619']\n",
      "C=C[C@H]1CN2CCc3c([nH]c4ccccc34)[C@H]2C[C@@H]1/C(=C\\OC)C(=O)OC ['NP0067427', 'NP0138067']\n",
      "C=C[C@H]1CN2CCc3c([nH]c4cccc(OC)c34)[C@H]2C[C@@H]1/C(=C\\OC)C(=O)OC ['NP0067434', 'NP0331092', 'NP0331097']\n",
      "C=C[C@H]1CN2CCc3c([nH]c4cccc(OC)c34)[C@@H]2C[C@@H]1/C(=C\\OC)C(=O)OC ['NP0067444', 'NP0331094']\n",
      "COc1ccc2cc1Oc1ccc(cc1)C[C@@H]1c3cc(c(OC)cc3CC[N+]1(C)[O-])Oc1c(O)c(OC)cc3c1[C@@H](C2)N(C)CC3 ['NP0067541', 'NP0067795']\n",
      "COc1cc2c3cc1Oc1c(O)c(OC)cc4c1[C@H](Cc1ccc(O)c(c1)-c1cc(ccc1OC)C[C@H]3N(C)CC2)N(C)CC4 ['NP0067564', 'NP0170441']\n",
      "COc1cc2c3cc1Oc1c(OC)c(OC)cc4c1[C@H](Cc1ccc(O)c(c1)-c1cc(ccc1OC)C[C@H]3N(C)CC2)N(C)CC4 ['NP0068023', 'NP0274986']\n",
      "C/C=C(\\C=O)[C@@H]1C[C@H]2c3[nH]c4ccccc4c3CCN2C=C1C(=O)OC ['NP0068059', 'NP0068200']\n",
      "COc1cc2c3cc1Oc1c(O)c(OC)cc4c1[C@H](Cc1ccc(OC)c(c1)-c1cc(ccc1O)C[C@@H]3NCC2)N(C)CC4 ['NP0068196', 'NP0159779']\n",
      "COc1cc2c(cc1O)CCN1Cc3c(ccc(OC)c3OC)C[C@H]21 ['NP0068254', 'NP0137771']\n",
      "C/C=C1/C[C@@H](C)[C@@](C)(O)C(=O)OC[C@@H]2[C@@H]3[C@@H](CCN3C[C@H]2OC(C)=O)OC1=O ['NP0068319', 'NP0138018']\n",
      "C[C@@H]1CN2CCC[C@@H]3CCCCC[C@@H]4C(=O)[C@@H](C)CN5CCC[C@@H](CCCCC[C@H](C1=O)[C@H]32)[C@H]45 ['NP0068364', 'NP0068365', 'NP0148115', 'NP0185441', 'NP0289471']\n",
      "COc1cc(=O)n(C)c2ccccc12 ['NP0068448', 'NP0138306']\n",
      "O[C@]12C=C(C3=NCCc4c3[nH]c3ccccc43)[C@@H]3CCN(CCCC/C=C\\CC1)C[C@@]31C[C@@H]3C=CCCCCN3[C@H]12 ['NP0068571', 'NP0152276']\n",
      "Oc1ccc2[nH]c3c(c2c1)CCN=C3C1=C[C@@]2(O)CC/C=C\\CCCCN3CC[C@@H]1[C@]1(C[C@@H]4C=CCCCCN4[C@H]12)C3 ['NP0068572', 'NP0327023']\n",
      "CCC(=O)[C@]12N[C@H]3C[C@@]4(C(=O)N(OC)c5cc(OC)ccc54)[C@H](OC[C@H]31)[C@H]2O ['NP0068705', 'NP0219403', 'NP0249692']\n",
      "COc1cc2cc(c1O)Oc1ccc(cc1)/C=C\\C(=O)NCCc1c[nH]c3ccc(cc13)O[C@@H](CO)[C@@H]2O ['NP0068707', 'NP0142984']\n",
      "O[C@]12C=C(c3nccc4c3[nH]c3ccccc34)[C@@H]3CCN(CCCC/C=C\\CC1)C[C@@]31C[C@@H]3C=CCCCCN3[C@H]12 ['NP0068792', 'NP0252630']\n",
      "C1=C\\CC[C@]23CN4CCCC/C=C\\CC[C@@]5(O[C@H]5[C@H]([C@H]5NCCc6c5[nH]c5ccccc65)[C@@H]2CC4)[C@@H]3NCCCC/1 ['NP0068862', 'NP0325393']\n",
      "CC(C)[C@H]1Oc2ccc(cc2)/C=C\\NC(=O)[C@H](C)NC(=O)[C@H]1NC(=O)[C@H](Cc1c[nH]c2ccccc12)N(C)C ['NP0068889', 'NP0155735']\n",
      "COc1cc2c(cc1OC)[C@@H](Cc1ccc(Oc3cc(C(=O)O)ccc3OC)cc1)[N+](C)([O-])CC2 ['NP0068999', 'NP0069000']\n",
      "C[N+]1([O-])CCc2cc(O)c3c4c2[C@@H]1Cc1ccc(cc1)Oc1cc(ccc1O)CC1=NCCc2cc(c(cc21)O4)O3 ['NP0069014', 'NP0069015']\n",
      "CC[C@@H](C)[C@@H]1NC(=O)[C@@H](NC(=O)[C@@H](Cc2ccccc2)NC)[C@H](c2ccccc2)Oc2ccc(cc2)/C=C\\NC1=O ['NP0069045', 'NP0187901']\n",
      "CC[C@@H](C)[C@@H](C(=O)N[C@@H]1C(=O)N[C@@H](Cc2ccccc2)C(=O)N/C=C\\c2ccc(cc2)O[C@H]1C(C)C)N(C)C ['NP0069068', 'NP0155581']\n",
      "CC(C)[C@H]1Oc2ccc(cc2)/C=C\\NC(=O)[C@H](Cc2ccccc2)NC(=O)[C@@H]1NC(=O)[C@@H](Cc1ccccc1)N(C)C ['NP0069069', 'NP0297476']\n",
      "CC[C@@H](C)[C@@H](C(=O)N1CCC[C@@H]1C(=O)N[C@H]1C(=O)N[C@H](Cc2ccccc2)C(=O)N/C=C\\c2ccc(cc2)O[C@@H]1c1ccccc1)N(C)C ['NP0069201', 'NP0160919']\n",
      "CC(=O)OC[C@@]12[C@@H](OC(C)=O)[C@H](OC(C)=O)[C@H]3OC(=O)[C@H](C)[C@@H](C)c4ncccc4C(=O)OC[C@@]4(C)O[C@]1([C@@H](OC(C)=O)[C@@H]4[C@H](OC(=O)c1ccccc1)[C@@H]2OC(C)=O)[C@@]3(C)O ['NP0069587', 'NP0199556']\n",
      "CC(=O)OC[C@]12[C@H](OC(C)=O)[C@H](O)[C@@H]3[C@@H](OC(C)=O)[C@@]14O[C@]3(C)COC(=O)c1cccnc1[C@H](C)[C@@H](C)C(=O)O[C@H]([C@H](O)[C@H]2OC(C)=O)[C@@]4(C)O ['NP0069588', 'NP0159630']\n",
      "CC/C=C/CC(=O)O[C@]12[C@@H]3[C@@H](C[C@@](O)([C@H]3OC(=O)c3ccccc3)[C@@H](OC)[C@@H]1O)[C@@]13[C@@H](OC)C[C@@H](O)[C@@]4(COC)CN(CC)[C@@H]1[C@@H]2[C@@H](OC)[C@H]43 ['NP0069637', 'NP0319885']\n",
      "CC1(C)/C=C\\C2=Nc3cc(Br)ccc3[C@@]23CC(=O)N3/C=C(/Cl)c2[nH]c(Br)nc21 ['NP0069700', 'NP0246793']\n",
      "CC[C@@H](C)[C@@H](C(=O)N[C@@H]1C(=O)N[C@@H](Cc2c[nH]c3ccccc23)C(=O)N/C=C\\c2ccc(cc2)O[C@@H]1C(C)C)N(C)C ['NP0069829', 'NP0290752']\n",
      "CC[C@@H](C)[C@@H]1NC(=O)[C@@H](NC(=O)[C@H]([C@H](C)CC)N(C)C)[C@@H](c2ccccc2)Oc2ccc(cc2)/C=C\\NC1=O ['NP0069830', 'NP0225676']\n",
      "CC[C@@H](C)[C@@H](C(=O)N[C@H]1C(=O)N[C@H](Cc2ccccc2)C(=O)N/C=C\\c2ccc(cc2)O[C@H]1c1ccccc1)N(C)C ['NP0069831', 'NP0259180']\n",
      "CC[C@H](C)[C@H]1NC(=O)[C@H](NC(=O)[C@@H]([C@@H](C)CC)N(C)C)[C@H](C(C)C)Oc2ccc(cc2)/C=C\\NC1=O ['NP0069832', 'NP0152717']\n",
      "CC[C@@H](C)[C@@H]1NC(=O)[C@H](NC(=O)[C@H](Cc2c[nH]c3ccccc23)N(C)C)[C@H](C(C)C)Oc2ccc(cc2)/C=C\\NC1=O ['NP0069837', 'NP0207017']\n",
      "COC1=C(C)C[C@H]2C[C@H](O)/C3=C/CCN(C)CCC[C@@]32C1=O ['NP0070069', 'NP0280168']\n",
      "C[C@@H]1C[C@H]2CC[C@@]34CCCN5CCC[C@]23[C@]5(C1)N4 ['NP0070077', 'NP0296592']\n",
      "CC[C@@H]1NC(=O)[C@@H](NC(=O)[C@@H]([C@H](O)C(C)C)N(C)C)[C@H](C(C)C)Oc2ccc(cc2)/C=C\\NC1=O ['NP0070105', 'NP0248941']\n",
      "CC[C@H](C)[C@H]1NC(=O)[C@H](NC(=O)/C=C/c2ccccc2)[C@@H](C(C)C)Oc2ccc(cc2)/C=C\\NC1=O ['NP0070395', 'NP0264465']\n",
      "CC(C)[C@@H](O)[C@@H]1NC(=O)[C@H](NC(=O)[C@H](Cc2ccccc2)N(C)C)[C@H](C(C)C)Oc2ccc(cc2)/C=C\\NC1=O ['NP0070397', 'NP0178463']\n",
      "CC(C)[C@H]1Oc2ccc(cc2)/C=C\\NC(=O)[C@@H]([C@H](O)c2ccccc2)NC(=O)[C@H]1NC(=O)[C@H]([C@@H](O)c1ccccc1)N(C)C ['NP0070413', 'NP0204735']\n",
      "CC(C)[C@H]1Oc2ccc(cc2)/C=C\\NC(=O)[C@@H]([C@@H](O)c2ccccc2)NC(=O)[C@@H]1NC(=O)[C@H](Cc1ccccc1)N(C)C ['NP0070414', 'NP0155705']\n",
      "COC1=CC=C2[C@H]3Cc4ccc(OC)c5c4[C@@]2(CC[N+]3(C)[O-])[C@H]1O5 ['NP0070523', 'NP0142122']\n",
      "CC[C@@H](C)[C@H](C(=O)N[C@H]1C(=O)N[C@@H](Cc2ccccc2)C(=O)N/C=C\\c2ccc(cc2)O[C@@H]1C(C)C)N(C)C ['NP0070613', 'NP0160966']\n",
      "C=C1C(=O)O[C@H]2/C=C(/C)[C@@]3(O)C[C@H](OC)[C@@](C)(C[C@H](OC(=O)C(C)C)[C@@H]12)O3 ['NP0070726', 'NP0171748']\n",
      "C=C1C(=O)O[C@H]2/C=C(/C)[C@@]3(OC)C[C@@H](OC)[C@@](C)(C[C@@H](OC(=O)C(C)C)[C@@H]12)O3 ['NP0070727', 'NP0306324']\n",
      "COc1c(O)cc2c(=O)oc3c(OC)c(O)cc4c(=O)oc1c2c34 ['NP0070752', 'NP0138257']\n",
      "CC1(C)CC[C@]2(C(=O)O)CC[C@]3(C)C(=CC[C@@H]4[C@@]5(C)CC[C@H](OC(=O)/C=C/c6ccc(O)c(O)c6)C(C)(C)[C@@H]5CC[C@]43C)[C@@H]2C1 ['NP0070768', 'NP0137959']\n",
      "C=C(C)c1cc2cc(OC)c(OC)cc2o1 ['NP0070784', 'NP0138289']\n",
      "C=C[C@@H](C)O ['NP0070815', 'NP0072681']\n",
      "CC(C)=C[C@@H]1CO[C@]23C[C@]4(CO2)[C@H](CC[C@@H]2[C@@]5(C)CC[C@H](O[C@@H]6OC[C@H](O)[C@H](O[C@@H]7O[C@H](CO)[C@@H](O)[C@H](O)[C@H]7O)[C@H]6O[C@@H]6O[C@@H](CO)[C@H](O)[C@H]6O)C(C)(C)[C@@H]5CC[C@]24C)[C@H]3[C@@]1(C)O ['NP0070931', 'NP0137859']\n",
      "O=C1N/C=C\\c2ccc(c(Br)c2)Oc2cc(cc(Br)c2O)CCNC(=O)/C(=N/O)Cc2cc(Br)c(c(Br)c2)Oc2cc(cc(Br)c2O)C/C1=N\\O ['NP0070942', 'NP0316982']\n",
      "CCCCCCC[C@@H]1O[C@@H]1CC ['NP0071295', 'NP0071585']\n",
      "O=C1CCCN2[C@H](CC1)C[C@@]13CN4CCCC/C=C\\CC[C@@](O)(C=C(c5nccc6c5[nH]c5ccccc56)[C@H]1CC4)[C@@H]23 ['NP0071482', 'NP0193518']\n",
      "O[C@@H](CCc1ccccc1)C[C@H](O)/C=C/c1ccccc1 ['NP0071879', 'NP0137947']\n",
      "COc1ccc(/C=C/CCO)cc1OC ['NP0071881', 'NP0138058']\n",
      "Cc1ccc2c(c1O)C(=O)c1ccccc1C2=O ['NP0071913', 'NP0138182']\n",
      "COc1cc(O)cc(O)c1C(=O)C=Cc1ccccc1 ['NP0071922', 'NP0288025']\n",
      "COc1c(O)ccc2c1C(=O)c1ccccc1C2=O ['NP0071961', 'NP0138271']\n",
      "COc1ccc2cc1Oc1ccc(cc1)CCC(=O)CC/C=C\\2 ['NP0072292', 'NP0172255']\n",
      "CC(=O)OC[C@@]12[C@H]([C@H](OC(=O)c3ccccc3)[C@]3(C(C)(C)O)C[C@H](O)C(C)=C3[C@@H](O)[C@@H]1O)[C@]1(OC(C)=O)CO[C@@H]1C[C@@H]2O ['NP0072622', 'NP0137892']\n",
      "CC1(C)CC[C@]2(C(=O)O[C@@H]3O[C@H](CO)[C@@H](O)[C@H](O)[C@H]3O)CC[C@]3(C)C(=CC[C@@H]4[C@@]5(C)C[C@@H](O)[C@H](O)C(C)(C)[C@@H]5CC[C@]43C)[C@@H]2[C@@H]1O ['NP0072732', 'NP0137868']\n",
      "C[C@@H]1CC[C@]2(C(=O)O)CC[C@]3(C)C(=CC[C@@H]4[C@@]5(C)CCC(=O)C(C)(C)[C@@H]5CC[C@]43C)[C@@H]2[C@]1(C)O ['NP0073143', 'NP0137830']\n",
      "CC1=C[C@H](O/C=C2/C(=O)O[C@@H]3C4=C(CCCC4(C)C)C[C@H]23)OC1=O ['NP0073263', 'NP0138066']\n",
      "CC1(C)[C@@H](O)CC[C@@]2(C)[C@H]1CC[C@@]1(C)CC3=CC[C@H]4C(C)(C)[C@H](O)CC[C@]4(C)[C@H]3CC[C@@H]12 ['NP0073295', 'NP0137743']\n",
      "COc1cc2ccc(=O)oc2cc1OC/C=C(\\C)CCC=C(C)C ['NP0073327', 'NP0138061']\n",
      "C=C1C(=O)O[C@H]2[C@H]1[C@@H](OC(=O)/C(C)=C/C)C[C@]1(C)[C@@H]2C(C)=CC[C@@H]1O ['NP0073330', 'NP0073332']\n",
      "C/C1=C/[C@]23O[C@H]2[C@H](C)C[C@@H]3C(=O)[C@]2(C)C(=O)CC(C)(C)[C@H]2CC1=O ['NP0073421', 'NP0162050']\n",
      "CC(C)(O)c1ccc2c(c1)C(=O)C[C@H]1[C@](C)(C(=O)O)CCC[C@]21C ['NP0073814', 'NP0137911']\n",
      "C=C1[C@@H]2CC[C@@]3(C)[C@H](C4=C[C@H](O)OC4=O)OC(=O)C[C@]13O[C@H]1CC(=O)C(C)(C)[C@H]([C@H](OC(C)=O)C(=O)OC)[C@]12C ['NP0074126', 'NP0233018']\n",
      "COc1ccc2c(c1)[nH]c1c(CCC(=O)O)nccc12 ['NP0074624', 'NP0138351']\n",
      "Oc1ccc2c(c1)CCc1ccc(O)c(c1)-c1cc(cc(Cl)c1O)/C=C\\c1ccc-2c(O)c1 ['NP0074668', 'NP0225589']\n",
      "Oc1ccc2c(c1)CCc1ccc(O)c(c1)-c1cc(cc(Cl)c1O)/C=C(/Cl)c1ccc-2c(O)c1 ['NP0074669', 'NP0184607']\n",
      "Oc1cc2c(cc1Cl)-c1ccc(cc1O)/C(Cl)=C\\c1cc(Cl)c(O)c(c1)-c1cc(ccc1O)CC2 ['NP0074670', 'NP0321103']\n",
      "Oc1ccc2c(c1)CCc1ccc(O)c(c1)-c1cc(cc(Cl)c1O)/C=C(/Cl)c1ccc-2c(O)c1Cl ['NP0074671', 'NP0228190']\n",
      "Oc1cc2c(cc1Cl)-c1ccc(c(Cl)c1O)/C(Cl)=C\\c1cc(Cl)c(O)c(c1)-c1cc(ccc1O)CC2 ['NP0074672', 'NP0224751']\n",
      "Oc1ccc2cc1-c1cc(cc(Cl)c1O)/C=C(/Cl)c1cc(O)c(cc1Cl)-c1ccc(O)c(Cl)c1CC2 ['NP0074673', 'NP0308866']\n",
      "Oc1ccc2c(c1Cl)CCc1cc(Cl)c(O)c(c1)-c1cc(cc(Cl)c1O)/C=C(/Cl)c1ccc-2c(O)c1Cl ['NP0074674', 'NP0318528']\n",
      "Oc1ccc2cc1-c1cc(cc(Cl)c1O)/C=C(/Cl)c1c(Cl)cc(c(O)c1Cl)-c1ccc(O)c(Cl)c1CC2 ['NP0074675', 'NP0324059']\n",
      "Oc1cc2c(cc1Cl)-c1cc(Cl)c(c(Cl)c1O)/C(Cl)=C\\c1cc(Cl)c(O)c(c1)-c1cc(cc(Cl)c1O)CC2 ['NP0074676', 'NP0202761']\n",
      "COc1ccc2cc1-c1cc(ccc1O)/C=C\\c1ccc(c(O)c1Cl)-c1cc(Cl)c(O)c(Cl)c1CC2 ['NP0074679', 'NP0299853']\n",
      "C=C1[C@H]2C[C@@H]3C[C@H](OC(C)=O)C(C)=C([C@@H](OC(C)=O)[C@H](OC(C)=O)[C@]2(C)[C@@H](OC(C)=O)C[C@@H]1O)C3(C)C ['NP0074704', 'NP0137729']\n",
      "CC(=O)O[C@@H]1[C@@H]2C(C)=C3C[C@H](C(C)C)C(=O)C[C@H](C)[C@@]31[C@H]1C(=O)C(C)=C3C=C4C(C)(C)OO[C@]4(O)C[C@H](C)[C@@]312 ['NP0074788', 'NP0155295']\n",
      "C=C(C)C(=O)O[C@@H]1C[C@@]2(C)OC(=CC2=O)/C(CO)=C\\[C@@H]2OC(=O)C(=C)[C@@H]21 ['NP0074893', 'NP0327960']\n",
      "C[C@H](CC[C@@H](O)C(C)(C)O)[C@H]1CC[C@@]2(C)[C@@H]3CC[C@H]4C(C)(C)C(=O)CC[C@@]45C[C@@]35CC[C@]12C ['NP0074933', 'NP0137787']\n",
      "C=C1C(=O)[C@]23C[C@H]1C[C@@H](O)[C@H]2[C@@]1(CCC[C@@]2(C)CO[C@@H](OC)[C@H]21)COC3=O ['NP0075027', 'NP0137899']\n",
      "CC[C@@H](C)[C@@H]1NC(=O)[C@@H](NC(=O)[C@H](Cc2ccccc2)N(C)C)[C@@H](C(C)C)Oc2ccc(cc2)/C=C\\NC1=O ['NP0075072', 'NP0194012']\n",
      "C/C1=C/C[C@@H]2C(C(C)C)=CC(=O)O[C@@]2(C)CC/C(C)=C2/OC(=O)[C@H]3[C@@H]2[C@H]1O[C@@]3(C)O ['NP0075124', 'NP0145341']\n",
      "C/C1=C/CC2=C(C(C)C)CC(=O)O[C@@]2(C)CC/C(C)=C2/OC(=O)[C@H]3[C@@H]2[C@H]1O[C@@]3(C)O ['NP0075126', 'NP0312518']\n",
      "Oc1cc2cc(c1)Oc1c(O)cc(cc1O)CCCCCCC/C=C\\CCCCC2 ['NP0075273', 'NP0075274', 'NP0316224']\n",
      "C=C1C(=O)O[C@H]2/C=C(/CO)[C@@]3(O)C[C@H](O)[C@@](C)(C[C@@H](OC(=O)[C@@H](C)CC)[C@@H]12)O3 ['NP0075613', 'NP0305968']\n",
      "C=C1[C@@H]2C[C@@]3(C)[C@H](c4ccoc4)OC(=O)C[C@]13O[C@H]1[C@@H](O)[C@@H](OC(=O)/C=C/c3ccccc3)C(C)(C)[C@@H]3[C@H](C(=O)OC)O[C@@]2(O)[C@@]13C ['NP0075887', 'NP0188589']\n",
      "C=C1[C@@H]2C[C@@]3(C)[C@H](c4ccoc4)OC(=O)C[C@]13O[C@H]1[C@@H](O)[C@@H](OC(=O)/C=C/c3ccccc3)C(C)(C)[C@@H]3[C@H](C(=O)OC)O[C@]2(O)[C@@]13C ['NP0075888', 'NP0325560']\n",
      "C=C(C(=O)O)[C@@H]1CC[C@@]2(C)CCCC(=C)[C@@]2(O)C1 ['NP0076072', 'NP0137681']\n",
      "C=C1C(=O)O[C@]2(C)CC[C@@H]1C[C@@H]1O[C@]1(C)CC/C=C(/C)CCC2=O ['NP0076074', 'NP0249725']\n",
      "COc1cc(OC)c2c(c1)O[C@@]1(c3ccc(OC)c(O)c3)[C@H](c3ccccc3)[C@@H](C(=O)N(C)C)[C@@H](O)[C@@]21O ['NP0076282', 'NP0137862']\n",
      "CC(C)[C@@](O)(CC[C@@H](C)[C@H]1CC[C@@]2(C)[C@@H]3CC[C@H]4[C@](C)(C(=O)O[C@@H]5O[C@H](CO)[C@@H](O)[C@H](O)[C@H]5O)[C@@H](O)C[C@H](O)[C@@]45C[C@@]35CC[C@]12C)CO[C@@H]1O[C@H](CO)[C@@H](O)[C@H](O)[C@H]1O ['NP0076389', 'NP0081045']\n",
      "C/C1=C/CC[C@](C)(O)[C@H]2C[C@@H](CC[C@]3(C)O[C@H]3CC1)[C@H](C)C(=O)O2 ['NP0076448', 'NP0254606']\n",
      "C=C1C(=O)O[C@@H]2C[C@H]1CC[C@]1(C)O[C@H]1CC/C(C)=C\\CC[C@]2(C)O ['NP0076562', 'NP0282963']\n",
      "C=C(C)[C@H]1CCC2=C[C@H](C/C(C)=C\\C(=O)/C=C(/C)C(=O)C1)OC2=O ['NP0076795', 'NP0269534']\n",
      "COC1=Cc2cccc3ccc(-c4ccccc4)c(c23)C1=O ['NP0076855', 'NP0138364']\n",
      "Oc1ccc2c(c1)/C=C\\c1ccc(O)c(c1)Oc1ccc(cc1)CCc1cccc(c1)O2 ['NP0077033', 'NP0260445']\n",
      "Oc1ccc2c(c1)/C=C\\c1cc(O)c(O)c(c1)Oc1ccc(cc1)CCc1cccc(c1)O2 ['NP0077034', 'NP0247069']\n",
      "Oc1ccc2c(c1)/C=C\\c1ccc(O)c(c1)Oc1ccc(cc1)C[C@@H](O)c1cccc(c1)O2 ['NP0077035', 'NP0242721']\n",
      "C=C1C(=O)O[C@]2(C)CC[C@@H]1C[C@@H]1O[C@@]1(C)CC/C=C(/C)CC[C@@H]2O ['NP0077171', 'NP0326494']\n",
      "CC(=O)N1c2ccccc2[C@@]23CCN(C)C=C4[C@@H](C)OC[C@@H]([C@H]12)[C@H]4CC3=O ['NP0077211', 'NP0191194']\n",
      "C=C[C@](C)(O)CC[C@@]1(C)[C@H](C)CC[C@@]2(C)C(C)=C[C@@H](O)C[C@H]12 ['NP0077397', 'NP0137733']\n",
      "C/C=C(\\C)C(=O)N[C@@H](c1ccccc1)[C@@H](O)C(=O)O[C@H]1C[C@@]2(O)[C@@H](OC(=O)c3ccccc3)[C@@H]3[C@]4(OC(C)=O)CO[C@@H]4C[C@H](O[C@@H]4OC[C@@H](O)[C@H](O)[C@H]4O)[C@@]3(C)C(=O)[C@H](O)C(=C1C)C2(C)C ['NP0077415', 'NP0138017']\n",
      "CC(=O)O[C@H]1[C@@H]2[C@]3(OC(C)=O)CO[C@@H]3C[C@H](OC(C)=O)[C@@]2(C)[C@@H](OC(C)=O)[C@H](OC(C)=O)C2=C(C)[C@@H](OC(C)=O)C[C@@H]1C2(C)C ['NP0077437', 'NP0137895']\n",
      "CCCCCC(=O)N[C@@H](c1ccccc1)[C@@H](O)C(=O)O[C@H]1C[C@@]2(O)[C@@H](OC(=O)c3ccccc3)[C@@H]3[C@]4(OC(C)=O)CO[C@@H]4C[C@H](O[C@@H]4OC[C@@H](O)[C@H](O)[C@H]4O)[C@@]3(C)C(=O)[C@H](O)C(=C1C)C2(C)C ['NP0077495', 'NP0137642']\n",
      "Oc1ccc2c(c1)CCc1ccc(O)c(c1)-c1cc(ccc1O)/C=C\\c1cccc(c1)O2 ['NP0077644', 'NP0217808']\n",
      "CCCCCCCC/C=C\\CCCCCCCc1cc(O)cc(O)c1 ['NP0077856', 'NP0138055']\n",
      "C/C1=C/CC[C@H](C)CC(=O)CC2=C[C@H](OC2=O)[C@@H](C(C)C)CC1 ['NP0078090', 'NP0302843']\n",
      "CC(=O)O[C@H]1C/C(C)=C\\CC/C(C)=C\\C(=O)CC2=C[C@H](OC2=O)[C@H]1C(C)C ['NP0078091', 'NP0320535']\n",
      "COC(=O)[C@@]12C[C@H]3C[C@H]([C@H](C)O)[C@@H]1N(CCc1c2[nH]c2cc(OC)c(OC)cc12)C3 ['NP0078184', 'NP0137801']\n",
      "CC(=O)O[C@@H]1C2=C(C)[C@@H](OC(C)=O)[C@H](OC(=O)c3ccccc3)[C@@](O)([C@@H](O)[C@@H]3[C@]4(OC(C)=O)CO[C@@H]4C[C@H](OC(C)=O)[C@@]3(C)[C@H]1OC(C)=O)C2(C)C ['NP0078837', 'NP0137894']\n",
      "COC(=O)/C=C1/C[C@H]2C[C@]3(O)O[C@@H](C[C@@H](O)CC(=O)O[C@@H]([C@H](C)O)C[C@H]4C/C(=C/C(=O)OC)C[C@@](O)(O4)C(C)(C)/C=C\\[C@H](C1)O2)C[C@@H](OC(=O)CC(C)C)C3(C)C ['NP0078948', 'NP0196038']\n",
      "C=C(CCC(C)C)COC(=O)[C@@H](O)C/C=C\\C[C@H]1O[C@H]2/C=C\\C/C=C\\C(C)=C/[C@@H]3O[C@H](C/C=C\\C=C/C(=O)O[C@@H](C2)[C@]1(C)CO)C[C@@H](O)[C@@H]3C ['NP0079146', 'NP0261715']\n",
      "C=C(COC(=O)[C@H](O)C/C=C\\C[C@@H]1O[C@@H]2/C=C\\C/C=C\\C(C)=C/[C@H]3O[C@@H](C/C=C\\C=C/C(=O)O[C@H](C2)[C@@]1(C)CO)C[C@H](O)[C@H]3C)[C@@H](O)CC(C)C ['NP0079147', 'NP0234315']\n",
      "CC1=C/[C@H]2O[C@@H](C/C=C\\C=C/C(=O)O[C@@H]3C[C@@H](/C=C\\C\\C=C/1)O[C@@H](C/C=C\\CCO)[C@]3(C)CO)C[C@H](O)[C@H]2C ['NP0079148', 'NP0232276']\n",
      "CCOC(=O)[C@H](O)C/C=C\\C[C@@H]1O[C@@H]2/C=C\\C/C=C\\C(C)=C/[C@H]3O[C@@H](C/C=C\\C=C/C(=O)O[C@H](C2)[C@@]1(C)CO)C[C@H](O)[C@H]3C ['NP0079149', 'NP0157984']\n",
      "COC(=O)[C@@]12CC(=O)[C@H](C(C)C)CC(=O)[C@@H](C)CCC[C@@H](C)CC(=O)[C@@H]1C=C(C)/C1=C/C[C@@](C)(O)[C@@H]3CC[C@](C)(O)[C@H](CC/C(C)=C\\[C@@H]12)O3 ['NP0079188', 'NP0211623']\n",
      "COc1cc2ccc(=O)oc2cc1OCC=C(C)C ['NP0079400', 'NP0138293']\n",
      "CNc1ccccc1C(=O)O[C@@H]1[C@@H](C)[C@@]2(O)[C@H]3C=C(C)C(=O)[C@H]3CC(CO)=C[C@H]2[C@@H]2C(C)(C)[C@]12OC(C)=O ['NP0079772', 'NP0080077']\n",
      "C/C=C/Br ['NP0079892', 'NP0079893']\n",
      "C[C@H]1C(=O)C=C2[C@@]13C[C@@H](OC(=O)[C@@H]3O)[C@@]1(O)C(=O)OC[C@@]21C ['NP0080126', 'NP0322196']\n",
      "C[C@@H]1C(=O)C=C2[C@@]13C[C@@H](OC(=O)[C@@H]3O)[C@@]1(O)C(=O)OC[C@@]21C ['NP0080127', 'NP0150231']\n",
      "C[C@@H]1[C@H](O)C=C2[C@@]13C[C@@H](OC(=O)[C@@H]3O)[C@@]1(O)C(=O)OC[C@@]21C ['NP0080128', 'NP0226680']\n",
      "CC1=CC[C@]2(O)[C@]3(C)COC(=O)[C@]3(O)[C@H]3C[C@@]12[C@@H](O)C(=O)O3 ['NP0080129', 'NP0290365']\n",
      "C[C@@H]1C(=O)C[C@@]2(O)[C@@]13C[C@@H](OC(=O)[C@@H]3O)[C@@]1(O)C(=O)OC[C@@]21C ['NP0080152', 'NP0183878']\n",
      "C=C1CC/C=C(/C)[C@@H]2C(=O)C3=C(CC[C@@H](CC1)C3(C)C)[C@@H]2O ['NP0080524', 'NP0318829']\n",
      "CC(C)/C=C/C(=O)N[C@H]1C(=O)N[C@H](CC(C)C)C(=O)N/C=C\\c2ccc(cc2)O[C@@H]1c1ccccc1 ['NP0080575', 'NP0241461']\n",
      "CC(C)/C=C/C(=O)N[C@@H]1C(=O)N[C@H](Cc2ccccc2)C(=O)N/C=C\\c2ccc(cc2)O[C@H]1c1ccccc1 ['NP0080576', 'NP0172413']\n",
      "CCOCC(=O)O ['NP0080740', 'NP0080742']\n",
      "CCCC[C@H](C(=O)N[C@H]1C(=O)N[C@H]([C@@H](C)CC)C(=O)N/C=C\\c2ccc(cc2)O[C@@H]1c1ccccc1)N(C)C ['NP0080752', 'NP0184003']\n",
      "CC(=O)O[C@@H]1C[C@@]23C[C@@]24CC[C@H](O[C@@H]2OC[C@@H](O)[C@H](O)[C@H]2O)C(C)(C)[C@@H]4CC=C3[C@]2(C)C[C@@H]3O[C@]4(C[C@@H](C)[C@@H]3[C@@]12C)OC[C@@]1(C)O[C@@H]41 ['NP0080986', 'NP0137937']\n",
      "C[C@@H]1CN2CCC[C@H]3CCCCC[C@@H]4C(=O)[C@H](C)CN5CCC[C@H](CCCCC[C@H](C1=O)[C@@H]32)[C@@H]45 ['NP0081217', 'NP0280781']\n",
      "C=Cc1c(C)c2cc3nc(cc4[nH]c(cc5nc(cc1[nH]2)C(C)=C5CC)c(C)c4C(=O)OC)[C@@H](CCC(=O)OC)[C@@H]3C ['NP0081239', 'NP0234998']\n",
      "C=CC1=C(C)c2cc3[nH]c(cc4nc(cc5[nH]c(cc1n2)c(C)c5CC)C(C)=C4C(=O)OC)c(CCC(=O)OC)c3C ['NP0081240', 'NP0189401']\n",
      "C=C1C(=O)O[C@@H]2C[C@H]1[C@]1(O)C/C(C)=C\\CC/C(C)=C\\CC[C@@]2(CO)O1 ['NP0081342', 'NP0141733']\n",
      "C=C1C(=O)O[C@@H]2C[C@H]1[C@]1(O)C/C(C)=C\\CC/C(C)=C\\CC[C@@]2(COC(C)=O)O1 ['NP0081343', 'NP0184445', 'NP0249653']\n",
      "C=C1C(=O)O[C@@H]2C[C@H]1[C@]1(O)C/C(C)=C\\CC/C(C)=C\\CC[C@]2(COC(C)=O)O1 ['NP0081344', 'NP0187942']\n",
      "C=C1[C@@H]2[C@H](OC(C)=O)C[C@@]3(C)[C@H](c4ccoc4)OC(=O)C[C@]13O[C@H]1C[C@@H](OC(C)=O)C(C)(C)[C@H](CC(=O)OC)[C@]12C ['NP0081409', 'NP0325425']\n",
      "C=C1[C@H]2CC[C@]3(C)[C@@H](c4ccoc4)OC(=O)C[C@@]13O[C@@H]1C[C@@H](O)C(C)(C)[C@@H](CC(=O)OC)[C@]21C ['NP0082189', 'NP0326047']\n",
      "C/C1=C/CC/C(C)=C\\CC2=C[C@H](O)[C@H](CC2=O)C/C(C)=C\\CC1 ['NP0082230', 'NP0234174']\n",
      "C/C1=C/CC/C(C)=C\\CC2=CC(=O)[C@H](CC2=O)C/C(C)=C\\CC1 ['NP0082231', 'NP0221563']\n",
      "CC[C@@H](C)[C@@H]1NC(=O)[C@H](NC(=O)[C@@H](Cc2ccccc2)N(C)C)[C@@H](c2ccccc2)Oc2ccc(cc2)/C=C\\NC1=O ['NP0082439', 'NP0229603']\n",
      "C=C(C)[C@H]1CC/C(C)=C/CC[C@]2(C=O)[C@@H](CC3=C[C@@H]2C/C(C)=C\\[C@H](O)c2cc(O)c(cc2O)C/C(C)=C\\CC3)Cc2cc(O)cc1c2O ['NP0082583', 'NP0288854']\n",
      "C=C(C)[C@H]1CC/C(C)=C/CC[C@@]2(C=O)[C@@H](CC3=C[C@H]2C/C(C)=C\\[C@H](O)c2cc(O)c(cc2O)C/C(C)=C\\CC3)Cc2cc(O)cc1c2O ['NP0082584', 'NP0299234']\n",
      "C/C1=C/CC/C(C)=C\\[C@@H](O)c2cc(O)c(cc2O)C/C(C)=C\\CC1 ['NP0082585', 'NP0255817', 'NP0330102']\n",
      "CO[C@@H]1/C=C(/C)CC/C=C(/C)CC/C=C(/C)Cc2cc(O)c1cc2O ['NP0082586', 'NP0217700', 'NP0284532']\n",
      "C/C1=C/CC[C@@]2(C)C=Cc3cc(O)c(cc3O2)C/C(C)=C\\CC1 ['NP0082587', 'NP0219045']\n",
      "C=C(C)[C@@H]1CC/C(C)=C/CC[C@]2(C=O)[C@H](CC3=C[C@@H]2C/C(C)=C\\CC2=CC(=O)C(=CC2=O)C/C(C)=C\\CC3)CC2=CC(=O)C=C1C2=O ['NP0082588', 'NP0319189']\n",
      "C/C1=C/CCC2=C[C@H](OC2=O)[C@@H](C(C)(C)O)CC/C(C)=C\\CC1 ['NP0082780', 'NP0222868']\n",
      "CC(=O)OC(C)(C)[C@H]1CC/C(C)=C\\CC/C(C)=C\\CCC2=C[C@@H]1OC2=O ['NP0082781', 'NP0145989']\n",
      "C/C1=C/CC[C@@]2(C)OC(C)(C)[C@H](CC/C(C)=C\\CC1)C[C@@H]2O ['NP0083052', 'NP0328506']\n",
      "C=C1C(=O)O[C@]2(C)CC[C@@H]1C[C@@H](O)/C(C)=C\\C[C@H](O)[C@@]1(C)CC[C@@H]2O1 ['NP0083096', 'NP0284094']\n",
      "C=C1C(=O)O[C@@]2(C)CC[C@H]1C[C@@H](O)/C(C)=C\\C/C=C(/C)CC[C@H]2O ['NP0083190', 'NP0233195']\n",
      "C=C1C(=O)O[C@H]2C[C@@H]1CC[C@](C)(O)[C@H](O)CC/C(C)=C\\CC[C@@]2(C)O ['NP0083209', 'NP0184827']\n",
      "CC1=CC(=O)[C@]2(O)O[C@@H]3C[C@H]1[C@]2(C)[C@H]1C(=O)OC[C@@]31[C@@H](CC(=O)O)[C@@H](C)C(=O)O ['NP0083275', 'NP0192878']\n",
      "CCCCCCCCCc1cc(=O)c2ccccc2[nH]1 ['NP0083432', 'NP0138219']\n",
      "COc1cc(O)c2c(=O)c3ccc(O)c(O)c3oc2c1 ['NP0083679', 'NP0138319']\n",
      "Oc1ncnc2ccccc12 ['NP0083801', 'NP0138403']\n",
      "OC1=NCCCCNCCCN=C(O)/C=C/c2ccc(cc2)Oc2cc(ccc2O)/C=C\\1 ['NP0084493', 'NP0305861']\n",
      "CCCC=C1OC(=O)C2=C[C@H]3CC[C@@]12[C@]1(OC(=O)C2=C1CCC=C2)[C@H]3CCC ['NP0084643', 'NP0309412']\n",
      "CC(C)c1cc2c(cc1O)[C@@]1(C)CCCC(C)(C)[C@@H]1C=C2 ['NP0085040', 'NP0137909']\n",
      "CC1=C([C@H](C)CO[C@@H]2O[C@H](CO)[C@@H](O)[C@H](O)[C@H]2O)C[C@@]2(O)[C@@]3(C)CC(=O)O[C@@H]4[C@@H](C)CC[C@@]3(O)[C@@]4(O)[C@@]12O ['NP0085233', 'NP0253951']\n",
      "O=C(/C=C/c1ccccc1)OC[C@H]1O[C@@H](OC(=O)c2cc(O)c(O)c(O)c2)[C@H](O)[C@@H](O)[C@@H]1O ['NP0085560', 'NP0137995']\n",
      "O=C(CCc1ccccc1)C[C@H](O)CCc1ccccc1 ['NP0086179', 'NP0137815']\n",
      "CC1=C[C@H]2OC(=O)[C@@H](C)[C@@H]2CC/C(CO)=C/C[C@@H]1O ['NP0086201', 'NP0312044']\n",
      "CO[C@@H]1C=C2[C@@H]3CC[C@H]([C@H](C)/C=C/[C@H](C)C(C)C)[C@@]3(C)CC[C@@H]2[C@@]2(C)CC[C@H](O)C[C@]12O ['NP0086477', 'NP0137945']\n",
      "CCCCC[C@H](O)/C=C/[C@@H]1[C@H]2CC(=CCCCC(=O)O)O[C@H]2C[C@H]1O ['NP0086758', 'NP0262139']\n",
      "COc1cc(/C=C\\C(O)=N\\CCc2ccc(O)cc2)ccc1O ['NP0137459', 'NP0331192']\n",
      "CCCCCCCCc1ccc(CCC(N)(CO)CO)cc1 ['NP0137501', 'NP0138216']\n",
      "O=C1Oc2cc(O)c3c(c2[C@@]12c1c(O)cc(O)cc1O[C@H]2c1ccc(O)cc1)O[C@H](c1ccc(O)cc1)[C@@H](O)C3 ['NP0137751', 'NP0331453']\n",
      "C[C@H](CO)CC[C@@H](O)[C@](C)(O)[C@H]1CC[C@@]2(O)C3=CC(=O)[C@@H]4C[C@@H](O)[C@@H](O)C[C@]4(C)[C@H]3CC[C@]12C ['NP0137799', 'NP0331286']\n",
      "C[C@@H]1CC[C@]2(C(=O)O)CC[C@]3(C)C(=CC[C@@H]4[C@@]5(C)C[C@@H](O)[C@H](OC(=O)C=Cc6ccc(O)cc6)C(C)(C)[C@@H]5CC[C@]43C)[C@@H]2[C@]1(C)O ['NP0137940', 'NP0137977']\n",
      "COC(=O)C1=CO[C@@H](O[C@@H]2O[C@H](CO)[C@@H](O)[C@H](O)[C@H]2O)[C@@H]2[C@H](C)OC(OC)C[C@H]12 ['NP0138091', 'NP0138092']\n",
      "C=C1[C@@H]2CC[C@@]3(C)[C@H](c4ccoc4)OC(=O)C[C@]13O[C@H]1CC(=O)C(C)(C)[C@H]([C@H](O)C(=O)OC)[C@]12C ['NP0141070', 'NP0217992']\n",
      "C=CCC12C=C(OC)C(=O)C=C1OC(c1ccc3c(c1)OCO3)C2C ['NP0141306', 'NP0141307']\n",
      "C=CC1=C(C)C2=NC1=CC1=NC(=CC3=C(C)C4=C(O)C(C(=O)OC)/C(=C5/NC(=C2)C(C)C5CCC(=O)OC)C4=N3)C(CC)=C1C ['NP0141319', 'NP0193087']\n",
      "COc1ccc(C=C(C(=O)OC[C@H]2CC[C@](CO)(CCO)[C@@H](O)C2)/C(=C\\c2ccc(OC)c(OC)c2)C(=O)OC[C@H]2CC[C@](CO)(CCO)[C@@H](O)C2)cc1 ['NP0141601', 'NP0189617']\n",
      "C[C@@H]1C[C@@H]2[C@@H]3C=C4C(=O)C[C@@H](C[C@H](O)C[C@@H]3C=C[C@H]2C1=O)OC4=O ['NP0143379', 'NP0223324']\n",
      "Oc1ccc(C=Cc2cc(O)cc3c2C(c2cc(O)cc4c2C(c2cc(O)cc5c2C(c2cc(O)cc(O)c2)C(c2ccc(O)cc2)O5)C(c2ccc(O)cc2)O4)C(c2ccc(O)cc2)O3)cc1 ['NP0143590', 'NP0295084']\n",
      "C/C=C/[C@H](O)C(C)(C)[C@@H]1C/C=C\\[C@@H]2O[C@@H]2/C=C\\C=C/c2nc(co2)C(=O)O[C@@H](C(C)(C)[C@@H](O)/C=C/C)C/C=C\\C=C/C=C\\[C@H](OC)Cc2nc(co2)C(=O)O1 ['NP0145003', 'NP0153222', 'NP0185395', 'NP0219654']\n",
      "CCC(C)[C@@H]1N=C(O)[C@@H]2C(CCN2C(=O)[C@H](Cc2ccccc2)N=C(O)[C@H](CC(C)C)N(C)C)Oc2ccc(cc2)/C=C\\N=C1O ['NP0146266', 'NP0283183']\n",
      "COc1c(C)c(O)c(C)c(O)c1C(=O)C=Cc1ccc(O)cc1 ['NP0146615', 'NP0155807']\n",
      "COc1cc(C(O)C(CO)Oc2ccc(C=O)cc2OC)ccc1O ['NP0147902', 'NP0331189']\n",
      "C=C1C(=O)O[C@H]2/C=C(/C)CC[C@H](OC(C)=O)[C@]3(C)CC[C@H](OO3)/C(C)=C\\C[C@@H]12 ['NP0152284', 'NP0158776']\n",
      "CC(=O)O/C1=C(\\C)[C@@H](OC(C)=O)C[C@H](O)/C(CO)=C\\[C@H](OC(C)=O)[C@@H]2C[C@H](OC(C)=O)C(C)=C([C@H]1OC(C)=O)C2(C)C ['NP0152520', 'NP0319975']\n",
      "C=C(C)[C@H]1CC=C2C(=O)O[C@H](C[C@]3(C)CC(=O)[C@H](CC(=O)C1)O3)[C@H]2O ['NP0153344', 'NP0264115']\n",
      "COC(=O)C1=c2[nH]c3ccccc3c2=CC(C(=O)O)=c2[nH]c3ccccc3c2=C1 ['NP0154500', 'NP0270072']\n",
      "C1CCN2C[C@]34CC(C[C@@H]5CCCN(CN6CCCC[C@@H]63)[C@H]54)[C@H]2C1 ['NP0155905', 'NP0170741']\n",
      "COc1cc(/C=C\\C(O)=NCCc2ccc(O)c(OC)c2)ccc1O ['NP0158244', 'NP0331120', 'NP0331193']\n",
      "CC1=C[C@H]2O[C@@H]3[C@H](O)[C@H]4OC(=O)/C=C\\C=C/C(=O)OCC/C(C)=C\\C(=O)OC[C@@]2(CC1)[C@]4(C)[C@]31CO1 ['NP0159306', 'NP0261252']\n",
      "COC(=O)C1=c2[nH]c3ccccc3c2=CC(C(=O)OC)=c2[nH]c3ccccc3c2=C1 ['NP0162817', 'NP0219135']\n",
      "Oc1cc2cc(c1)Oc1c(O)cc(cc1O)CCCCCC/C=C\\C/C=C\\CCCCC2 ['NP0168245', 'NP0264486']\n",
      "COc1cc2cc(OC)c1/C=C\\C(O)=NCCCCNCCCN=C(O)/C=C\\c1ccc(O)c(c1)O2 ['NP0171741', 'NP0247243']\n",
      "CC(=O)OC[C@]12[C@H](OC(C)=O)[C@H](OC(C)=O)[C@@H]3[C@@H](OC(C)=O)[C@@]14O[C@@]3(C)COC(=O)c1cccnc1[C@@H](C)[C@H](C)C(=O)O[C@@H]([C@H](O)[C@@H]2OC(C)=O)[C@]4(C)O ['NP0173316', 'NP0297216']\n",
      "C=C1C(=O)O[C@H]2CC3=CC[C@@H](OC3=O)/C(C)=C\\C[C@H]12 ['NP0173511', 'NP0321843']\n",
      "C[C@H](OC(=O)/C=C/c1ccc(O)cc1)C(=O)[C@H]1C[C@@H]1[C@H](O)[C@H]1CC=CC(=O)O1 ['NP0177683', 'NP0331381']\n",
      "CCCC(=O)O[C@H]1[C@@H]2[C@@H]3[C@@H](C[C@H]1C)[C@@H](C)CO[C@@]1(C)CC/C=C(/C)C[C@@H]2O[C@@H]31 ['NP0179756', 'NP0228432']\n",
      "C[C@@H]1CC[C@@]2(C)C(C(=O)O)=CCC[C@@H]2[C@@]1(C)CC(=O)O ['NP0179810', 'NP0331424']\n",
      "COc1cc(C/C(=C/N=C(C)O)N(CC(=O)Cc2ccccc2)C(C)=O)cc2c1OCO2 ['NP0182857', 'NP0331304']\n",
      "CC1=CC2OC3CC4OC(=O)C=CC=CC56OCCC7(OC7C(=O)OCC2(CC1)C4(C)C31CO1)C5OC(=O)C6O ['NP0183152', 'NP0259772']\n",
      "C=C(C)[C@H]1CC=C2C(=O)O[C@H](C/C(C)=C\\C(=O)[C@@H](O)CC(=O)C1)[C@H]2O ['NP0192381', 'NP0241532']\n",
      "C=C1C(=O)O[C@H]2/C=C(/C)[C@]3(O)CC[C@](C)(C[C@@H](OC(=O)/C(C)=C/C)[C@@H]12)O3 ['NP0197107', 'NP0209649']\n",
      "C=C(C)[C@@H]1CCC2=C[C@H](C/C(C)=C\\C(=O)/C=C(/C)C(=O)C1)OC2=O ['NP0199406', 'NP0258814']\n",
      "CC(=O)OC[C@]12[C@H](OC(C)=O)[C@H](OC(C)=O)C3[C@@H](OC(C)=O)[C@@]14O[C@@]3(C)COC(=O)c1cccnc1CC[C@H](C)C(=O)O[C@@H]([C@H](OC(=O)c1ccccc1)[C@@H]2OC(C)=O)[C@]4(C)O ['NP0199456', 'NP0230209']\n",
      "CC[C@@H](C)[C@@H]1N=C(O)[C@@H]2[C@H](CCN2C(=O)[C@H](Cc2ccccc2)N=C(O)[C@H]([C@H](C)CC)N(C)C)Oc2ccc(cc2)/C=C\\N=C1O ['NP0200150', 'NP0244154']\n",
      "C/C1=C/C=C\\[C@H](C)[C@H]([C@H](C)CCC/C=C/CCCNC(N)=O)OC(=O)/C=C\\C=C/[C@H](C)[C@@H](O)C[C@H](O)[C@@H](C)[C@@H](O)CC[C@H](C)[C@H](O)C[C@@]2(O)O[C@@H](C[C@@H](OC(=O)CC(=O)O)C[C@@H](O)C[C@H](O)C[C@@H]1O)C[C@@H](O)[C@H]2O ['NP0200710', 'NP0293858']\n",
      "COC(=O)/C1=C/C=C(/C(C)C)CCC2=CCC[C@@](C)(OC2=O)C(=O)CC1 ['NP0201541', 'NP0260701']\n",
      "C/C1=C/CC/C2=C/CC[C@](C)(O)[C@H](/C=C(/C(C)C)CC1)OC2=O ['NP0201568', 'NP0242609']\n",
      "COC(=O)/C1=C/C=C(/C(C)C)CCC2=CCC[C@](C)(OC2=O)[C@@H](OC(C)=O)CC1 ['NP0201618', 'NP0295647']\n",
      "C/C1=C/[C@@H](C)[C@H](O)[C@@H](C)/C=C\\[C@H](O)C/C=C(/C)[C@H](O)C[C@@H](O)[C@H](C)/C=C\\C=C/C=C(/C)C(O)=NC2=CC(=O)c3c(cc(C)c(O)c3C1=O)C2=O ['NP0202744', 'NP0248115']\n",
      "CC1C(=O)OC2OC(O)C3CCC(C4(C)CCCC(C)(C)C4)=C1C23 ['NP0205318', 'NP0277542']\n",
      "CC1=C(O)/C(=C/[C@@H](C)CCC/C(C)=C/CC/C(C)=C/CCc2ccoc2)OC1=O ['NP0205548', 'NP0331317']\n",
      "C1=CCc2ccc[n+](c2)CCCCCCCCC=CCc2ccc[n+](c2)CCCCCCCCC=CCc2ccc[n+](c2)CCCCCCCC1 ['NP0205686', 'NP0319724']\n",
      "C=C1C(=O)O[C@]23CC1CC[C@@]2(C)CCCC3=C ['NP0208313', 'NP0275386']\n",
      "C/C1=C/C=C(/C(C)C)CCC2=CCC[C@](C)(OC2=O)C(=O)CC1 ['NP0209837', 'NP0309392']\n",
      "C/C1=C/CC/C(C)=C\\CC2=CC(=O)C(=CC2=O)C/C(C)=C\\CC1 ['NP0209986', 'NP0229685', 'NP0304042']\n",
      "CC1=C[C@H]2O[C@@H]3C[C@H]4OC(=O)/C=C\\CC[C@]5(C(=O)CO)OCC/C(=C/C(=O)OC[C@@]2(CC1)[C@]4(C)[C@]31CO1)[C@H]5O ['NP0211156', 'NP0257925']\n",
      "C/C1=C/[C@@H](C)C/C=C\\[C@H]2[C@@H]3O[C@]3(C)[C@@H](C)[C@H]3[C@H](Cc4c[nH]c5ccccc45)N=C(O)[C@]32C(=O)/C=C\\CC1 ['NP0211526', 'NP0326413']\n",
      "C=C1C(=O)O[C@H]2[C@H]3O[C@@H](C[C@@H]12)[C@](C)(O)CC/C=C(/C)CCC[C@H]3C ['NP0212591', 'NP0323343']\n",
      "CC1=C(O)/C(=C/[C@@H](C)CCC/C(C)=C/CC/C(C)=C/CCC2=CCN(CC(=O)O)C2=O)OC1=O ['NP0214531', 'NP0331314']\n",
      "CC[C@H]1/C=C\\[C@H](O)[C@H](C)OC(=O)/C(C)=C\\CC(=O)NC2=CC(=O)c3c(cc(C)c(O)c3C(=O)CC1)C2=O ['NP0214535', 'NP0280464']\n",
      "CC1=CC2OC3CC4OC(=O)C=CC=CC56OCCC7(OC7C(=O)OCC2(CC1)C4(C)C31CO1)C5OC(O)C6O ['NP0215542', 'NP0237618']\n",
      "NC(=O)c1cccc(O)c1O ['NP0219058', 'NP0331202']\n",
      "COc1cc2ccc1/C=C\\C(O)=NCCCCNCCCN=C(O)/C=C\\c1ccc(O)c(c1)O2 ['NP0219300', 'NP0247833']\n",
      "CC1=C[C@H]2O[C@@H]3C[C@H]4OC(=O)/C=C\\C=C/C(C(C)O)OCC(=O)C(C)CC(=O)OC[C@@]2(CC1)[C@]4(C)[C@]31CO1 ['NP0221729', 'NP0328631']\n",
      "CCCC(=O)O[C@H]1C[C@H]2C[C@@H](O)CC(=O)O[C@@H]([C@@H](C)O)C[C@@H]3C/C(=C\\C(=O)OC)[C@H](OC(=O)CCC)[C@@](O)(O3)C(C)(C)/C=C\\[C@H]3C/C(=C\\C(=O)OC)C[C@@H](C[C@](O)(O2)C1(C)C)O3 ['NP0228488', 'NP0315299']\n",
      "CCCC(=O)O[C@H]1[C@@H]2[C@@H]3[C@@H](C[C@H]1C)[C@@H](C)CO[C@@]1(C)[C@H](OC(C)=O)C/C=C(/C)C[C@@H]2O[C@@H]31 ['NP0231238', 'NP0241315']\n",
      "COc1cc(O)c(O)cc1CC=Cc1ccccc1 ['NP0232758', 'NP0304459']\n",
      "COc1c2cc(c(OC)c1O)Oc1ccc(cc1)CCC(=O)CC/C=C\\2 ['NP0234086', 'NP0251440']\n",
      "CC(=O)OCC(Cc1ccccc1)NC(=O)C(Cc1ccccc1)NC(=O)c1ccccc1 ['NP0248720', 'NP0331160']\n",
      "CC(=O)OC(C)C1C=CC=CC(=O)OC2CC3OC4C=C(C)CCC4(COC(=O)C=C(C)CCO1)C2(C)C31CO1 ['NP0250963', 'NP0261136']\n",
      "CCC(C)[C@@H]1N=C(O)C2[C@H](CCN2C(=O)[C@H](Cc2ccccc2)NC)Oc2ccc(cc2)/C=C\\N=C1O ['NP0254560', 'NP0266454']\n",
      "COc1cc2c3cc1Oc1c(OC)c(OC)cc4c1C(Cc1ccc(O)c(c1)-c1cc(ccc1OC)CC3=NCC2)N(C)CC4 ['NP0259100', 'NP0302829']\n",
      "C/C1=C/CC[C@]2(C)OC(C)(C)[C@H](CC/C(C)=C\\CC1)C[C@H]2O ['NP0259740', 'NP0284450']\n",
      "CCCCO[C@@]1(CO)O[C@H](CO)[C@@H](O)[C@@H]1O ['NP0261363', 'NP0331188']\n",
      "CCC(C)C(N=C(O)C(Cc1ccccc1)N(C)C)C(=O)N1CCC2Oc3ccc(cc3)/C=C\\N=C(O)C(C(C)CC)N=C(O)C21 ['NP0263668', 'NP0281349']\n",
      "C=C1[C@@H]2[C@H](OC(C)=O)C[C@@]3(C)[C@H](c4ccoc4)OC(=O)C[C@]13O[C@H]1[C@@H](OC(C)=O)[C@@H](OC(C)=O)C(C)(C)[C@H](CC(=O)OC)[C@@]21C ['NP0265421', 'NP0331267']\n",
      "C/C(=C\\CCC1=CCN(CC(=O)O)C1=O)CC/C=C(\\C)CCC[C@H](C)CC(=O)O ['NP0271807', 'NP0331308']\n",
      "C/C1=C/[C@@H](C)C/C=C\\[C@H]2[C@@H]3O[C@]3(C)[C@@H](C)[C@H]3[C@H](Cc4c[nH]c5ccccc45)N=C(O)[C@]32C(=O)/C=C\\C(=O)C1 ['NP0272512', 'NP0326608']\n",
      "C=C(C)C1Cc2oc(cc2C(=O)OC)C(C(=C)C)[C@@H]2OC(=O)/C(=C/C1O)[C@H]2N(C)C ['NP0281276', 'NP0303121']\n",
      "O=C1Oc2cc(O)cc(/C=C/c3ccc(O)cc3)c2[C@]12c1c(O)cc(O)cc1O[C@H]2c1ccc(O)cc1 ['NP0284047', 'NP0331451']\n",
      "C[C@@H]1CC[C@@]2(O)[C@@]13C[C@H](OC(=O)[C@@H]3O)[C@](C)(O)[C@@]21COC1=O ['NP0285161', 'NP0327343']\n",
      "O=C(O)C1=c2[nH]c3ccccc3c2=CC(C(=O)O)=c2[nH]c3ccccc3c2=C1 ['NP0291089', 'NP0321427']\n",
      "C=C1CC[C@H]2C(C)(C)CCC[C@]2(C)[C@H]1CO[C@@H](C(=O)OC)[C@H](CC(=O)O)C(=O)OC ['NP0305260', 'NP0331366']\n",
      "C=C1C(=O)O[C@@]2(C)CC[C@H]1C[C@H](O)/C(C)=C\\C/C=C(/C)CC[C@H]2OC(C)=O ['NP0306502', 'NP0330758']\n",
      "C=C1[C@@H]2CC[C@@]3(C)[C@H](c4ccoc4)OC(=O)C[C@@]13O[C@H]1CC(=O)C(C)(C)[C@H](CC(=O)OC)[C@]12C ['NP0308240', 'NP0323758']\n",
      "CO[C@H]1[C@H](O[C@H]2C[C@](C)(O)Cc3cc4c(c(O)c32)C(=O)c2c(O)cccc2C4=O)O[C@@H](C)[C@H](O)[C@H]1O ['NP0308966', 'NP0331159']\n",
      "COc1cc([C@@H]2Oc3cc(O)ccc3O[C@H]2CO)ccc1O ['NP0331119', 'NP0331191']\n"
     ]
    }
   ],
   "source": [
    "smiles_to_npmrd_id = defaultdict(list)\n",
    "for k, v in NP_to_smiles.items():\n",
    "    smiles_to_npmrd_id[v].append(k)\n",
    "    \n",
    "for k, v in smiles_to_npmrd_id.items():\n",
    "    \n",
    "    if len(v) > 1:\n",
    "        \n",
    "        print(k,v)"
   ]
  },
  {
   "cell_type": "code",
   "execution_count": 2,
   "metadata": {},
   "outputs": [
    {
     "data": {
      "text/plain": [
       "265316"
      ]
     },
     "execution_count": 2,
     "metadata": {},
     "output_type": "execute_result"
    }
   ],
   "source": [
    "NP_MRD_FILES_dir = '/root/gurusmart/data/NP-MRD-dataset/NP-MRD-shift-assignments'\n",
    "npmrd_files_txt_only = os.listdir(NP_MRD_FILES_dir)\n",
    "len(npmrd_files_txt_only)"
   ]
  },
  {
   "cell_type": "code",
   "execution_count": 3,
   "metadata": {},
   "outputs": [
    {
     "data": {
      "text/plain": [
       "['NP0261272_nmroned_4039638_18938191.txt',\n",
       " 'NP0260776_nmroned_4187476_19529863.txt',\n",
       " 'NP0203250_nmroned_2964874_14897891.txt',\n",
       " 'NP0312650_nmroned_5137398_23329824.txt',\n",
       " 'NP0011773_nmroned_161298_3045038.txt',\n",
       " 'NP0038703_nmroned_315200_4591407.txt',\n",
       " 'NP0161977_nmroned_2581753_13365331.txt',\n",
       " 'NP0195426_nmroned_2340259_12399195.txt',\n",
       " 'NP0043197_nmroned_323994_4608995.txt',\n",
       " 'NP0259775_nmroned_4119356_19257303.txt']"
      ]
     },
     "execution_count": 3,
     "metadata": {},
     "output_type": "execute_result"
    }
   ],
   "source": [
    "npmrd_files_txt_only[:10]"
   ]
  },
  {
   "cell_type": "code",
   "execution_count": 23,
   "metadata": {},
   "outputs": [
    {
     "data": {
      "text/plain": [
       "3584"
      ]
     },
     "execution_count": 23,
     "metadata": {},
     "output_type": "execute_result"
    }
   ],
   "source": [
    "smiles_from_npmrd = set(NP_to_smiles.values())\n",
    "intersect = set(train_smiles.values()).intersection(smiles_from_npmrd)\n",
    "len(intersect)"
   ]
  },
  {
   "cell_type": "code",
   "execution_count": null,
   "metadata": {},
   "outputs": [],
   "source": []
  },
  {
   "cell_type": "code",
   "execution_count": null,
   "metadata": {},
   "outputs": [],
   "source": []
  },
  {
   "cell_type": "code",
   "execution_count": 7,
   "metadata": {},
   "outputs": [],
   "source": [
    "# to_save = {\n",
    "#     \"NP_to_inchi\":NP_to_inchi,\n",
    "#     \"inchi_to_file_path\": inchi_to_file_path\n",
    "# }\n",
    "# with open(\"/root/gurusmart/MorganFP_prediction/task_scripts/inchi_mapping.pkl\", 'wb') as file:\n",
    "#     pickle.dump(to_save, file)"
   ]
  },
  {
   "cell_type": "code",
   "execution_count": null,
   "metadata": {},
   "outputs": [],
   "source": []
  },
  {
   "cell_type": "code",
   "execution_count": 11,
   "metadata": {},
   "outputs": [],
   "source": [
    "# import glob\n",
    "# import os\n",
    "\n",
    "# def delete_files_by_pattern(pattern):\n",
    "#     \"\"\"\n",
    "#     Deletes files matching a specific pattern.\n",
    "\n",
    "#     Parameters:\n",
    "#     - pattern: A string representing the Unix style pathname pattern to match files.\n",
    "\n",
    "#     Returns:\n",
    "#     - None\n",
    "#     \"\"\"\n",
    "#     # Use glob to find all files that match the pattern\n",
    "#     files = glob.glob(pattern)\n",
    "\n",
    "#     # Track the number of files deleted\n",
    "#     deleted_count = 0\n",
    "\n",
    "#     # Iterate through the list of file paths\n",
    "#     for file_path in files:\n",
    "#         try:\n",
    "#             # Delete the file\n",
    "#             os.remove(file_path)\n",
    "#             print(f\"Deleted: {file_path}\")\n",
    "#             deleted_count += 1\n",
    "#         except Exception as e:\n",
    "#             print(f\"Error deleting {file_path}: {e}\")\n",
    "\n",
    "#     # Summary of the operation\n",
    "#     if deleted_count == 0:\n",
    "#         print(\"No files matched the pattern, or no files were deleted.\")\n",
    "#     else:\n",
    "#         print(f\"Total files deleted: {deleted_count}\")\n"
   ]
  },
  {
   "cell_type": "code",
   "execution_count": 25,
   "metadata": {},
   "outputs": [
    {
     "name": "stdout",
     "output_type": "stream",
     "text": [
      "Deleted: /workspace/SMILES_dataset/test/oneD_NMR/227.pt\n",
      "Deleted: /workspace/SMILES_dataset/test/R2-6144FP/227.pt\n",
      "Deleted: /workspace/SMILES_dataset/test/HSQC/227.pt\n",
      "Deleted: /workspace/SMILES_dataset/test/HYUN_FP/227.pt\n",
      "Total files deleted: 4\n",
      "Deleted: /workspace/SMILES_dataset/test/R2-6144FP/692.pt\n",
      "Deleted: /workspace/SMILES_dataset/test/HSQC/692.pt\n",
      "Deleted: /workspace/SMILES_dataset/test/HYUN_FP/692.pt\n",
      "Total files deleted: 3\n",
      "Deleted: /workspace/SMILES_dataset/test/R2-6144FP/1115.pt\n",
      "Deleted: /workspace/SMILES_dataset/test/HSQC/1115.pt\n",
      "Deleted: /workspace/SMILES_dataset/test/HYUN_FP/1115.pt\n",
      "Total files deleted: 3\n",
      "Deleted: /workspace/SMILES_dataset/test/R2-6144FP/1409.pt\n",
      "Deleted: /workspace/SMILES_dataset/test/HSQC/1409.pt\n",
      "Deleted: /workspace/SMILES_dataset/test/HYUN_FP/1409.pt\n",
      "Total files deleted: 3\n",
      "Deleted: /workspace/SMILES_dataset/test/R2-6144FP/1503.pt\n",
      "Deleted: /workspace/SMILES_dataset/test/HSQC/1503.pt\n",
      "Deleted: /workspace/SMILES_dataset/test/HYUN_FP/1503.pt\n",
      "Total files deleted: 3\n",
      "Deleted: /workspace/SMILES_dataset/test/oneD_NMR/1523.pt\n",
      "Deleted: /workspace/SMILES_dataset/test/R2-6144FP/1523.pt\n",
      "Deleted: /workspace/SMILES_dataset/test/HSQC/1523.pt\n",
      "Deleted: /workspace/SMILES_dataset/test/HYUN_FP/1523.pt\n",
      "Total files deleted: 4\n",
      "Deleted: /workspace/SMILES_dataset/test/oneD_NMR/1754.pt\n",
      "Deleted: /workspace/SMILES_dataset/test/R2-6144FP/1754.pt\n",
      "Deleted: /workspace/SMILES_dataset/test/HSQC/1754.pt\n",
      "Deleted: /workspace/SMILES_dataset/test/HYUN_FP/1754.pt\n",
      "Total files deleted: 4\n",
      "Deleted: /workspace/SMILES_dataset/test/oneD_NMR/1755.pt\n",
      "Deleted: /workspace/SMILES_dataset/test/R2-6144FP/1755.pt\n",
      "Deleted: /workspace/SMILES_dataset/test/HSQC/1755.pt\n",
      "Deleted: /workspace/SMILES_dataset/test/HYUN_FP/1755.pt\n",
      "Total files deleted: 4\n",
      "Deleted: /workspace/SMILES_dataset/test/R2-6144FP/2051.pt\n",
      "Deleted: /workspace/SMILES_dataset/test/HSQC/2051.pt\n",
      "Deleted: /workspace/SMILES_dataset/test/HYUN_FP/2051.pt\n",
      "Total files deleted: 3\n",
      "Deleted: /workspace/SMILES_dataset/test/R2-6144FP/2268.pt\n",
      "Deleted: /workspace/SMILES_dataset/test/HSQC/2268.pt\n",
      "Deleted: /workspace/SMILES_dataset/test/HYUN_FP/2268.pt\n",
      "Total files deleted: 3\n",
      "Deleted: /workspace/SMILES_dataset/test/oneD_NMR/2272.pt\n",
      "Deleted: /workspace/SMILES_dataset/test/R2-6144FP/2272.pt\n",
      "Deleted: /workspace/SMILES_dataset/test/HSQC/2272.pt\n",
      "Deleted: /workspace/SMILES_dataset/test/HYUN_FP/2272.pt\n",
      "Total files deleted: 4\n",
      "Deleted: /workspace/SMILES_dataset/test/R2-6144FP/2418.pt\n",
      "Deleted: /workspace/SMILES_dataset/test/HSQC/2418.pt\n",
      "Deleted: /workspace/SMILES_dataset/test/HYUN_FP/2418.pt\n",
      "Total files deleted: 3\n",
      "Deleted: /workspace/SMILES_dataset/test/R2-6144FP/5986.pt\n",
      "Deleted: /workspace/SMILES_dataset/test/HSQC/5986.pt\n",
      "Deleted: /workspace/SMILES_dataset/test/HYUN_FP/5986.pt\n",
      "Total files deleted: 3\n",
      "Deleted: /workspace/SMILES_dataset/train/R2-6144FP/40678.pt\n",
      "Deleted: /workspace/SMILES_dataset/train/HSQC/40678.pt\n",
      "Deleted: /workspace/SMILES_dataset/train/HYUN_FP/40678.pt\n",
      "Total files deleted: 3\n",
      "Deleted: /workspace/SMILES_dataset/train/R2-6144FP/40682.pt\n",
      "Deleted: /workspace/SMILES_dataset/train/HSQC/40682.pt\n",
      "Deleted: /workspace/SMILES_dataset/train/HYUN_FP/40682.pt\n",
      "Total files deleted: 3\n",
      "Deleted: /workspace/SMILES_dataset/train/R2-6144FP/46468.pt\n",
      "Deleted: /workspace/SMILES_dataset/train/HSQC/46468.pt\n",
      "Deleted: /workspace/SMILES_dataset/train/HYUN_FP/46468.pt\n",
      "Total files deleted: 3\n",
      "Deleted: /workspace/SMILES_dataset/train/R2-6144FP/47240.pt\n",
      "Deleted: /workspace/SMILES_dataset/train/HSQC/47240.pt\n",
      "Deleted: /workspace/SMILES_dataset/train/HYUN_FP/47240.pt\n",
      "Total files deleted: 3\n",
      "Deleted: /workspace/SMILES_dataset/train/R2-6144FP/47242.pt\n",
      "Deleted: /workspace/SMILES_dataset/train/HSQC/47242.pt\n",
      "Deleted: /workspace/SMILES_dataset/train/HYUN_FP/47242.pt\n",
      "Total files deleted: 3\n",
      "Deleted: /workspace/SMILES_dataset/train/R2-6144FP/48745.pt\n",
      "Deleted: /workspace/SMILES_dataset/train/HSQC/48745.pt\n",
      "Deleted: /workspace/SMILES_dataset/train/HYUN_FP/48745.pt\n",
      "Total files deleted: 3\n",
      "Deleted: /workspace/SMILES_dataset/train/R2-6144FP/88732.pt\n",
      "Deleted: /workspace/SMILES_dataset/train/HSQC/88732.pt\n",
      "Deleted: /workspace/SMILES_dataset/train/HYUN_FP/88732.pt\n",
      "Total files deleted: 3\n",
      "Deleted: /workspace/SMILES_dataset/train/R2-6144FP/88733.pt\n",
      "Deleted: /workspace/SMILES_dataset/train/HSQC/88733.pt\n",
      "Deleted: /workspace/SMILES_dataset/train/HYUN_FP/88733.pt\n",
      "Total files deleted: 3\n",
      "Deleted: /workspace/SMILES_dataset/test/R2-6144FP/3533.pt\n",
      "Deleted: /workspace/SMILES_dataset/test/HSQC/3533.pt\n",
      "Deleted: /workspace/SMILES_dataset/test/HYUN_FP/3533.pt\n",
      "Total files deleted: 3\n",
      "Deleted: /workspace/SMILES_dataset/test/oneD_NMR/3863.pt\n",
      "Deleted: /workspace/SMILES_dataset/test/R2-6144FP/3863.pt\n",
      "Deleted: /workspace/SMILES_dataset/test/HSQC/3863.pt\n",
      "Deleted: /workspace/SMILES_dataset/test/HYUN_FP/3863.pt\n",
      "Total files deleted: 4\n",
      "Deleted: /workspace/SMILES_dataset/test/R2-6144FP/3869.pt\n",
      "Deleted: /workspace/SMILES_dataset/test/HSQC/3869.pt\n",
      "Deleted: /workspace/SMILES_dataset/test/HYUN_FP/3869.pt\n",
      "Total files deleted: 3\n",
      "Deleted: /workspace/SMILES_dataset/test/oneD_NMR/3933.pt\n",
      "Deleted: /workspace/SMILES_dataset/test/R2-6144FP/3933.pt\n",
      "Deleted: /workspace/SMILES_dataset/test/HSQC/3933.pt\n",
      "Deleted: /workspace/SMILES_dataset/test/HYUN_FP/3933.pt\n",
      "Total files deleted: 4\n",
      "Deleted: /workspace/SMILES_dataset/test/oneD_NMR/3934.pt\n",
      "Deleted: /workspace/SMILES_dataset/test/R2-6144FP/3934.pt\n",
      "Deleted: /workspace/SMILES_dataset/test/HSQC/3934.pt\n",
      "Deleted: /workspace/SMILES_dataset/test/HYUN_FP/3934.pt\n",
      "Total files deleted: 4\n",
      "Deleted: /workspace/SMILES_dataset/test/R2-6144FP/3968.pt\n",
      "Deleted: /workspace/SMILES_dataset/test/HSQC/3968.pt\n",
      "Deleted: /workspace/SMILES_dataset/test/HYUN_FP/3968.pt\n",
      "Total files deleted: 3\n",
      "Deleted: /workspace/SMILES_dataset/test/R2-6144FP/3971.pt\n",
      "Deleted: /workspace/SMILES_dataset/test/HSQC/3971.pt\n",
      "Deleted: /workspace/SMILES_dataset/test/HYUN_FP/3971.pt\n",
      "Total files deleted: 3\n",
      "Deleted: /workspace/SMILES_dataset/test/R2-6144FP/3972.pt\n",
      "Deleted: /workspace/SMILES_dataset/test/HSQC/3972.pt\n",
      "Deleted: /workspace/SMILES_dataset/test/HYUN_FP/3972.pt\n",
      "Total files deleted: 3\n",
      "Deleted: /workspace/SMILES_dataset/test/oneD_NMR/4465.pt\n",
      "Deleted: /workspace/SMILES_dataset/test/R2-6144FP/4465.pt\n",
      "Deleted: /workspace/SMILES_dataset/test/HSQC/4465.pt\n",
      "Deleted: /workspace/SMILES_dataset/test/HYUN_FP/4465.pt\n",
      "Total files deleted: 4\n",
      "Deleted: /workspace/SMILES_dataset/val/oneD_NMR/4624.pt\n",
      "Deleted: /workspace/SMILES_dataset/val/R2-6144FP/4624.pt\n",
      "Deleted: /workspace/SMILES_dataset/val/HSQC/4624.pt\n",
      "Deleted: /workspace/SMILES_dataset/val/HYUN_FP/4624.pt\n",
      "Total files deleted: 4\n",
      "Deleted: /workspace/SMILES_dataset/test/oneD_NMR/5613.pt\n",
      "Deleted: /workspace/SMILES_dataset/test/R2-6144FP/5613.pt\n",
      "Deleted: /workspace/SMILES_dataset/test/HSQC/5613.pt\n",
      "Deleted: /workspace/SMILES_dataset/test/HYUN_FP/5613.pt\n",
      "Total files deleted: 4\n",
      "Deleted: /workspace/SMILES_dataset/test/oneD_NMR/6491.pt\n",
      "Deleted: /workspace/SMILES_dataset/test/R2-6144FP/6491.pt\n",
      "Deleted: /workspace/SMILES_dataset/test/HSQC/6491.pt\n",
      "Deleted: /workspace/SMILES_dataset/test/HYUN_FP/6491.pt\n",
      "Total files deleted: 4\n",
      "Deleted: /workspace/SMILES_dataset/test/oneD_NMR/6492.pt\n",
      "Deleted: /workspace/SMILES_dataset/test/R2-6144FP/6492.pt\n",
      "Deleted: /workspace/SMILES_dataset/test/HSQC/6492.pt\n",
      "Deleted: /workspace/SMILES_dataset/test/HYUN_FP/6492.pt\n",
      "Total files deleted: 4\n",
      "Deleted: /workspace/SMILES_dataset/train/oneD_NMR/53044.pt\n",
      "Deleted: /workspace/SMILES_dataset/train/R2-6144FP/53044.pt\n",
      "Deleted: /workspace/SMILES_dataset/train/HSQC/53044.pt\n",
      "Deleted: /workspace/SMILES_dataset/train/HYUN_FP/53044.pt\n",
      "Total files deleted: 4\n",
      "Deleted: /workspace/SMILES_dataset/test/oneD_NMR/6505.pt\n",
      "Deleted: /workspace/SMILES_dataset/test/R2-6144FP/6505.pt\n",
      "Deleted: /workspace/SMILES_dataset/test/HSQC/6505.pt\n",
      "Deleted: /workspace/SMILES_dataset/test/HYUN_FP/6505.pt\n",
      "Total files deleted: 4\n",
      "Deleted: /workspace/SMILES_dataset/train/oneD_NMR/53114.pt\n",
      "Deleted: /workspace/SMILES_dataset/train/R2-6144FP/53114.pt\n",
      "Deleted: /workspace/SMILES_dataset/train/HSQC/53114.pt\n",
      "Deleted: /workspace/SMILES_dataset/train/HYUN_FP/53114.pt\n",
      "Total files deleted: 4\n",
      "Deleted: /workspace/SMILES_dataset/test/R2-6144FP/6540.pt\n",
      "Deleted: /workspace/SMILES_dataset/test/HSQC/6540.pt\n",
      "Deleted: /workspace/SMILES_dataset/test/HYUN_FP/6540.pt\n",
      "Total files deleted: 3\n",
      "Deleted: /workspace/SMILES_dataset/test/R2-6144FP/6554.pt\n",
      "Deleted: /workspace/SMILES_dataset/test/HSQC/6554.pt\n",
      "Deleted: /workspace/SMILES_dataset/test/HYUN_FP/6554.pt\n",
      "Total files deleted: 3\n",
      "Deleted: /workspace/SMILES_dataset/test/R2-6144FP/6747.pt\n",
      "Deleted: /workspace/SMILES_dataset/test/HSQC/6747.pt\n",
      "Deleted: /workspace/SMILES_dataset/test/HYUN_FP/6747.pt\n",
      "Total files deleted: 3\n",
      "Deleted: /workspace/SMILES_dataset/test/R2-6144FP/6818.pt\n",
      "Deleted: /workspace/SMILES_dataset/test/HSQC/6818.pt\n",
      "Deleted: /workspace/SMILES_dataset/test/HYUN_FP/6818.pt\n",
      "Total files deleted: 3\n",
      "Deleted: /workspace/SMILES_dataset/test/R2-6144FP/6825.pt\n",
      "Deleted: /workspace/SMILES_dataset/test/HSQC/6825.pt\n",
      "Deleted: /workspace/SMILES_dataset/test/HYUN_FP/6825.pt\n",
      "Total files deleted: 3\n",
      "Deleted: /workspace/SMILES_dataset/test/oneD_NMR/6834.pt\n",
      "Deleted: /workspace/SMILES_dataset/test/R2-6144FP/6834.pt\n",
      "Deleted: /workspace/SMILES_dataset/test/HSQC/6834.pt\n",
      "Deleted: /workspace/SMILES_dataset/test/HYUN_FP/6834.pt\n",
      "Total files deleted: 4\n",
      "Deleted: /workspace/SMILES_dataset/test/oneD_NMR/6868.pt\n",
      "Deleted: /workspace/SMILES_dataset/test/R2-6144FP/6868.pt\n",
      "Deleted: /workspace/SMILES_dataset/test/HSQC/6868.pt\n",
      "Deleted: /workspace/SMILES_dataset/test/HYUN_FP/6868.pt\n",
      "Total files deleted: 4\n",
      "Deleted: /workspace/SMILES_dataset/test/oneD_NMR/6880.pt\n",
      "Deleted: /workspace/SMILES_dataset/test/R2-6144FP/6880.pt\n",
      "Deleted: /workspace/SMILES_dataset/test/HSQC/6880.pt\n",
      "Deleted: /workspace/SMILES_dataset/test/HYUN_FP/6880.pt\n",
      "Total files deleted: 4\n",
      "Deleted: /workspace/SMILES_dataset/test/R2-6144FP/6881.pt\n",
      "Deleted: /workspace/SMILES_dataset/test/HSQC/6881.pt\n",
      "Deleted: /workspace/SMILES_dataset/test/HYUN_FP/6881.pt\n",
      "Total files deleted: 3\n",
      "Deleted: /workspace/SMILES_dataset/test/R2-6144FP/6921.pt\n",
      "Deleted: /workspace/SMILES_dataset/test/HSQC/6921.pt\n",
      "Deleted: /workspace/SMILES_dataset/test/HYUN_FP/6921.pt\n",
      "Total files deleted: 3\n",
      "Deleted: /workspace/SMILES_dataset/test/R2-6144FP/6924.pt\n",
      "Deleted: /workspace/SMILES_dataset/test/HSQC/6924.pt\n",
      "Deleted: /workspace/SMILES_dataset/test/HYUN_FP/6924.pt\n",
      "Total files deleted: 3\n",
      "Deleted: /workspace/SMILES_dataset/test/oneD_NMR/6931.pt\n",
      "Deleted: /workspace/SMILES_dataset/test/R2-6144FP/6931.pt\n",
      "Deleted: /workspace/SMILES_dataset/test/HSQC/6931.pt\n",
      "Deleted: /workspace/SMILES_dataset/test/HYUN_FP/6931.pt\n",
      "Total files deleted: 4\n",
      "Deleted: /workspace/SMILES_dataset/test/oneD_NMR/6932.pt\n",
      "Deleted: /workspace/SMILES_dataset/test/R2-6144FP/6932.pt\n",
      "Deleted: /workspace/SMILES_dataset/test/HSQC/6932.pt\n",
      "Deleted: /workspace/SMILES_dataset/test/HYUN_FP/6932.pt\n",
      "Total files deleted: 4\n",
      "Deleted: /workspace/SMILES_dataset/test/oneD_NMR/6933.pt\n",
      "Deleted: /workspace/SMILES_dataset/test/R2-6144FP/6933.pt\n",
      "Deleted: /workspace/SMILES_dataset/test/HSQC/6933.pt\n",
      "Deleted: /workspace/SMILES_dataset/test/HYUN_FP/6933.pt\n",
      "Total files deleted: 4\n",
      "Deleted: /workspace/SMILES_dataset/test/oneD_NMR/6936.pt\n",
      "Deleted: /workspace/SMILES_dataset/test/R2-6144FP/6936.pt\n",
      "Deleted: /workspace/SMILES_dataset/test/HSQC/6936.pt\n",
      "Deleted: /workspace/SMILES_dataset/test/HYUN_FP/6936.pt\n",
      "Total files deleted: 4\n",
      "Deleted: /workspace/SMILES_dataset/test/oneD_NMR/6937.pt\n",
      "Deleted: /workspace/SMILES_dataset/test/R2-6144FP/6937.pt\n",
      "Deleted: /workspace/SMILES_dataset/test/HSQC/6937.pt\n",
      "Deleted: /workspace/SMILES_dataset/test/HYUN_FP/6937.pt\n",
      "Total files deleted: 4\n",
      "Deleted: /workspace/SMILES_dataset/test/oneD_NMR/6938.pt\n",
      "Deleted: /workspace/SMILES_dataset/test/R2-6144FP/6938.pt\n",
      "Deleted: /workspace/SMILES_dataset/test/HSQC/6938.pt\n",
      "Deleted: /workspace/SMILES_dataset/test/HYUN_FP/6938.pt\n",
      "Total files deleted: 4\n",
      "Deleted: /workspace/SMILES_dataset/test/oneD_NMR/6939.pt\n",
      "Deleted: /workspace/SMILES_dataset/test/R2-6144FP/6939.pt\n",
      "Deleted: /workspace/SMILES_dataset/test/HSQC/6939.pt\n",
      "Deleted: /workspace/SMILES_dataset/test/HYUN_FP/6939.pt\n",
      "Total files deleted: 4\n",
      "Deleted: /workspace/SMILES_dataset/test/R2-6144FP/7176.pt\n",
      "Deleted: /workspace/SMILES_dataset/test/HSQC/7176.pt\n",
      "Deleted: /workspace/SMILES_dataset/test/HYUN_FP/7176.pt\n",
      "Total files deleted: 3\n",
      "Deleted: /workspace/SMILES_dataset/test/R2-6144FP/7177.pt\n",
      "Deleted: /workspace/SMILES_dataset/test/HSQC/7177.pt\n",
      "Deleted: /workspace/SMILES_dataset/test/HYUN_FP/7177.pt\n",
      "Total files deleted: 3\n",
      "Deleted: /workspace/SMILES_dataset/test/R2-6144FP/7251.pt\n",
      "Deleted: /workspace/SMILES_dataset/test/HSQC/7251.pt\n",
      "Deleted: /workspace/SMILES_dataset/test/HYUN_FP/7251.pt\n",
      "Total files deleted: 3\n",
      "Deleted: /workspace/SMILES_dataset/train/R2-6144FP/59056.pt\n",
      "Deleted: /workspace/SMILES_dataset/train/HSQC/59056.pt\n",
      "Deleted: /workspace/SMILES_dataset/train/HYUN_FP/59056.pt\n",
      "Total files deleted: 3\n",
      "Deleted: /workspace/SMILES_dataset/test/oneD_NMR/7574.pt\n",
      "Deleted: /workspace/SMILES_dataset/test/R2-6144FP/7574.pt\n",
      "Deleted: /workspace/SMILES_dataset/test/HSQC/7574.pt\n",
      "Deleted: /workspace/SMILES_dataset/test/HYUN_FP/7574.pt\n",
      "Total files deleted: 4\n",
      "Deleted: /workspace/SMILES_dataset/train/oneD_NMR/61525.pt\n",
      "Deleted: /workspace/SMILES_dataset/train/R2-6144FP/61525.pt\n",
      "Deleted: /workspace/SMILES_dataset/train/HSQC/61525.pt\n",
      "Deleted: /workspace/SMILES_dataset/train/HYUN_FP/61525.pt\n",
      "Total files deleted: 4\n",
      "Deleted: /workspace/SMILES_dataset/test/oneD_NMR/7658.pt\n",
      "Deleted: /workspace/SMILES_dataset/test/R2-6144FP/7658.pt\n",
      "Deleted: /workspace/SMILES_dataset/test/HSQC/7658.pt\n",
      "Deleted: /workspace/SMILES_dataset/test/HYUN_FP/7658.pt\n",
      "Total files deleted: 4\n",
      "Deleted: /workspace/SMILES_dataset/test/R2-6144FP/8089.pt\n",
      "Deleted: /workspace/SMILES_dataset/test/HSQC/8089.pt\n",
      "Deleted: /workspace/SMILES_dataset/test/HYUN_FP/8089.pt\n",
      "Total files deleted: 3\n",
      "Deleted: /workspace/SMILES_dataset/test/R2-6144FP/8231.pt\n",
      "Deleted: /workspace/SMILES_dataset/test/HSQC/8231.pt\n",
      "Deleted: /workspace/SMILES_dataset/test/HYUN_FP/8231.pt\n",
      "Total files deleted: 3\n",
      "Deleted: /workspace/SMILES_dataset/test/oneD_NMR/8753.pt\n",
      "Deleted: /workspace/SMILES_dataset/test/R2-6144FP/8753.pt\n",
      "Deleted: /workspace/SMILES_dataset/test/HSQC/8753.pt\n",
      "Deleted: /workspace/SMILES_dataset/test/HYUN_FP/8753.pt\n",
      "Total files deleted: 4\n",
      "Deleted: /workspace/SMILES_dataset/test/R2-6144FP/8854.pt\n",
      "Deleted: /workspace/SMILES_dataset/test/HSQC/8854.pt\n",
      "Deleted: /workspace/SMILES_dataset/test/HYUN_FP/8854.pt\n",
      "Total files deleted: 3\n",
      "Deleted: /workspace/SMILES_dataset/test/R2-6144FP/9655.pt\n",
      "Deleted: /workspace/SMILES_dataset/test/HSQC/9655.pt\n",
      "Deleted: /workspace/SMILES_dataset/test/HYUN_FP/9655.pt\n",
      "Total files deleted: 3\n",
      "Deleted: /workspace/SMILES_dataset/test/oneD_NMR/11549.pt\n",
      "Deleted: /workspace/SMILES_dataset/test/R2-6144FP/11549.pt\n",
      "Deleted: /workspace/SMILES_dataset/test/HSQC/11549.pt\n",
      "Deleted: /workspace/SMILES_dataset/test/HYUN_FP/11549.pt\n",
      "Total files deleted: 4\n",
      "Deleted: /workspace/SMILES_dataset/test/R2-6144FP/11925.pt\n",
      "Deleted: /workspace/SMILES_dataset/test/HSQC/11925.pt\n",
      "Deleted: /workspace/SMILES_dataset/test/HYUN_FP/11925.pt\n",
      "Total files deleted: 3\n",
      "Deleted: /workspace/SMILES_dataset/test/oneD_NMR/12239.pt\n",
      "Deleted: /workspace/SMILES_dataset/test/R2-6144FP/12239.pt\n",
      "Deleted: /workspace/SMILES_dataset/test/HSQC/12239.pt\n",
      "Deleted: /workspace/SMILES_dataset/test/HYUN_FP/12239.pt\n",
      "Total files deleted: 4\n",
      "Deleted: /workspace/SMILES_dataset/test/R2-6144FP/12320.pt\n",
      "Deleted: /workspace/SMILES_dataset/test/HSQC/12320.pt\n",
      "Deleted: /workspace/SMILES_dataset/test/HYUN_FP/12320.pt\n",
      "Total files deleted: 3\n",
      "Deleted: /workspace/SMILES_dataset/train/R2-6144FP/98613.pt\n",
      "Deleted: /workspace/SMILES_dataset/train/HSQC/98613.pt\n",
      "Deleted: /workspace/SMILES_dataset/train/HYUN_FP/98613.pt\n",
      "Total files deleted: 3\n",
      "Deleted: /workspace/SMILES_dataset/test/oneD_NMR/12350.pt\n",
      "Deleted: /workspace/SMILES_dataset/test/R2-6144FP/12350.pt\n",
      "Deleted: /workspace/SMILES_dataset/test/HSQC/12350.pt\n",
      "Deleted: /workspace/SMILES_dataset/test/HYUN_FP/12350.pt\n",
      "Total files deleted: 4\n",
      "Deleted: /workspace/SMILES_dataset/train/oneD_NMR/99634.pt\n",
      "Deleted: /workspace/SMILES_dataset/train/R2-6144FP/99634.pt\n",
      "Deleted: /workspace/SMILES_dataset/train/HSQC/99634.pt\n",
      "Deleted: /workspace/SMILES_dataset/train/HYUN_FP/99634.pt\n",
      "Total files deleted: 4\n",
      "Deleted: /workspace/SMILES_dataset/test/R2-6144FP/12352.pt\n",
      "Deleted: /workspace/SMILES_dataset/test/HSQC/12352.pt\n",
      "Deleted: /workspace/SMILES_dataset/test/HYUN_FP/12352.pt\n",
      "Total files deleted: 3\n",
      "Deleted: /workspace/SMILES_dataset/test/R2-6144FP/12354.pt\n",
      "Deleted: /workspace/SMILES_dataset/test/HSQC/12354.pt\n",
      "Deleted: /workspace/SMILES_dataset/test/HYUN_FP/12354.pt\n",
      "Total files deleted: 3\n",
      "Deleted: /workspace/SMILES_dataset/test/R2-6144FP/12355.pt\n",
      "Deleted: /workspace/SMILES_dataset/test/HSQC/12355.pt\n",
      "Deleted: /workspace/SMILES_dataset/test/HYUN_FP/12355.pt\n",
      "Total files deleted: 3\n",
      "Deleted: /workspace/SMILES_dataset/test/R2-6144FP/12356.pt\n",
      "Deleted: /workspace/SMILES_dataset/test/HSQC/12356.pt\n",
      "Deleted: /workspace/SMILES_dataset/test/HYUN_FP/12356.pt\n",
      "Total files deleted: 3\n",
      "Deleted: /workspace/SMILES_dataset/test/oneD_NMR/12366.pt\n",
      "Deleted: /workspace/SMILES_dataset/test/R2-6144FP/12366.pt\n",
      "Deleted: /workspace/SMILES_dataset/test/HSQC/12366.pt\n",
      "Deleted: /workspace/SMILES_dataset/test/HYUN_FP/12366.pt\n",
      "Total files deleted: 4\n",
      "Deleted: /workspace/SMILES_dataset/test/oneD_NMR/12367.pt\n",
      "Deleted: /workspace/SMILES_dataset/test/R2-6144FP/12367.pt\n",
      "Deleted: /workspace/SMILES_dataset/test/HSQC/12367.pt\n",
      "Deleted: /workspace/SMILES_dataset/test/HYUN_FP/12367.pt\n",
      "Total files deleted: 4\n",
      "Deleted: /workspace/SMILES_dataset/test/R2-6144FP/12381.pt\n",
      "Deleted: /workspace/SMILES_dataset/test/HSQC/12381.pt\n",
      "Deleted: /workspace/SMILES_dataset/test/HYUN_FP/12381.pt\n",
      "Total files deleted: 3\n",
      "Deleted: /workspace/SMILES_dataset/test/oneD_NMR/12389.pt\n",
      "Deleted: /workspace/SMILES_dataset/test/R2-6144FP/12389.pt\n",
      "Deleted: /workspace/SMILES_dataset/test/HSQC/12389.pt\n",
      "Deleted: /workspace/SMILES_dataset/test/HYUN_FP/12389.pt\n",
      "Total files deleted: 4\n",
      "Deleted: /workspace/SMILES_dataset/test/R2-6144FP/12468.pt\n",
      "Deleted: /workspace/SMILES_dataset/test/HSQC/12468.pt\n",
      "Deleted: /workspace/SMILES_dataset/test/HYUN_FP/12468.pt\n",
      "Total files deleted: 3\n",
      "Deleted: /workspace/SMILES_dataset/test/oneD_NMR/12472.pt\n",
      "Deleted: /workspace/SMILES_dataset/test/R2-6144FP/12472.pt\n",
      "Deleted: /workspace/SMILES_dataset/test/HSQC/12472.pt\n",
      "Deleted: /workspace/SMILES_dataset/test/HYUN_FP/12472.pt\n",
      "Total files deleted: 4\n",
      "Deleted: /workspace/SMILES_dataset/test/R2-6144FP/12473.pt\n",
      "Deleted: /workspace/SMILES_dataset/test/HSQC/12473.pt\n",
      "Deleted: /workspace/SMILES_dataset/test/HYUN_FP/12473.pt\n",
      "Total files deleted: 3\n",
      "Deleted: /workspace/SMILES_dataset/test/R2-6144FP/12483.pt\n",
      "Deleted: /workspace/SMILES_dataset/test/HSQC/12483.pt\n",
      "Deleted: /workspace/SMILES_dataset/test/HYUN_FP/12483.pt\n",
      "Total files deleted: 3\n",
      "Deleted: /workspace/SMILES_dataset/test/R2-6144FP/12522.pt\n",
      "Deleted: /workspace/SMILES_dataset/test/HSQC/12522.pt\n",
      "Deleted: /workspace/SMILES_dataset/test/HYUN_FP/12522.pt\n",
      "Total files deleted: 3\n",
      "Deleted: /workspace/SMILES_dataset/test/oneD_NMR/12531.pt\n",
      "Deleted: /workspace/SMILES_dataset/test/R2-6144FP/12531.pt\n",
      "Deleted: /workspace/SMILES_dataset/test/HSQC/12531.pt\n",
      "Deleted: /workspace/SMILES_dataset/test/HYUN_FP/12531.pt\n",
      "Total files deleted: 4\n",
      "Deleted: /workspace/SMILES_dataset/test/oneD_NMR/12532.pt\n",
      "Deleted: /workspace/SMILES_dataset/test/R2-6144FP/12532.pt\n",
      "Deleted: /workspace/SMILES_dataset/test/HSQC/12532.pt\n",
      "Deleted: /workspace/SMILES_dataset/test/HYUN_FP/12532.pt\n",
      "Total files deleted: 4\n",
      "Deleted: /workspace/SMILES_dataset/test/oneD_NMR/12536.pt\n",
      "Deleted: /workspace/SMILES_dataset/test/R2-6144FP/12536.pt\n",
      "Deleted: /workspace/SMILES_dataset/test/HSQC/12536.pt\n",
      "Deleted: /workspace/SMILES_dataset/test/HYUN_FP/12536.pt\n",
      "Total files deleted: 4\n",
      "Deleted: /workspace/SMILES_dataset/test/oneD_NMR/12537.pt\n",
      "Deleted: /workspace/SMILES_dataset/test/R2-6144FP/12537.pt\n",
      "Deleted: /workspace/SMILES_dataset/test/HSQC/12537.pt\n",
      "Deleted: /workspace/SMILES_dataset/test/HYUN_FP/12537.pt\n",
      "Total files deleted: 4\n",
      "Deleted: /workspace/SMILES_dataset/test/oneD_NMR/12538.pt\n",
      "Deleted: /workspace/SMILES_dataset/test/R2-6144FP/12538.pt\n",
      "Deleted: /workspace/SMILES_dataset/test/HSQC/12538.pt\n",
      "Deleted: /workspace/SMILES_dataset/test/HYUN_FP/12538.pt\n",
      "Total files deleted: 4\n",
      "Deleted: /workspace/SMILES_dataset/test/oneD_NMR/12631.pt\n",
      "Deleted: /workspace/SMILES_dataset/test/R2-6144FP/12631.pt\n",
      "Deleted: /workspace/SMILES_dataset/test/HSQC/12631.pt\n",
      "Deleted: /workspace/SMILES_dataset/test/HYUN_FP/12631.pt\n",
      "Total files deleted: 4\n",
      "Deleted: /workspace/SMILES_dataset/test/R2-6144FP/13309.pt\n",
      "Deleted: /workspace/SMILES_dataset/test/HSQC/13309.pt\n",
      "Deleted: /workspace/SMILES_dataset/test/HYUN_FP/13309.pt\n",
      "Total files deleted: 3\n",
      "Deleted: /workspace/SMILES_dataset/test/R2-6144FP/13310.pt\n",
      "Deleted: /workspace/SMILES_dataset/test/HSQC/13310.pt\n",
      "Deleted: /workspace/SMILES_dataset/test/HYUN_FP/13310.pt\n",
      "Total files deleted: 3\n",
      "Deleted: /workspace/SMILES_dataset/test/R2-6144FP/13311.pt\n",
      "Deleted: /workspace/SMILES_dataset/test/HSQC/13311.pt\n",
      "Deleted: /workspace/SMILES_dataset/test/HYUN_FP/13311.pt\n",
      "Total files deleted: 3\n",
      "Deleted: /workspace/SMILES_dataset/test/oneD_NMR/13424.pt\n",
      "Deleted: /workspace/SMILES_dataset/test/R2-6144FP/13424.pt\n",
      "Deleted: /workspace/SMILES_dataset/test/HSQC/13424.pt\n",
      "Deleted: /workspace/SMILES_dataset/test/HYUN_FP/13424.pt\n",
      "Total files deleted: 4\n",
      "Deleted: /workspace/SMILES_dataset/test/oneD_NMR/13425.pt\n",
      "Deleted: /workspace/SMILES_dataset/test/R2-6144FP/13425.pt\n",
      "Deleted: /workspace/SMILES_dataset/test/HSQC/13425.pt\n",
      "Deleted: /workspace/SMILES_dataset/test/HYUN_FP/13425.pt\n",
      "Total files deleted: 4\n",
      "Deleted: /workspace/SMILES_dataset/test/R2-6144FP/13670.pt\n",
      "Deleted: /workspace/SMILES_dataset/test/HSQC/13670.pt\n",
      "Deleted: /workspace/SMILES_dataset/test/HYUN_FP/13670.pt\n",
      "Total files deleted: 3\n",
      "Deleted: /workspace/SMILES_dataset/test/R2-6144FP/13673.pt\n",
      "Deleted: /workspace/SMILES_dataset/test/HSQC/13673.pt\n",
      "Deleted: /workspace/SMILES_dataset/test/HYUN_FP/13673.pt\n",
      "Total files deleted: 3\n",
      "Deleted: /workspace/SMILES_dataset/test/R2-6144FP/13674.pt\n",
      "Deleted: /workspace/SMILES_dataset/test/HSQC/13674.pt\n",
      "Deleted: /workspace/SMILES_dataset/test/HYUN_FP/13674.pt\n",
      "Total files deleted: 3\n",
      "Deleted: /workspace/SMILES_dataset/test/R2-6144FP/13675.pt\n",
      "Deleted: /workspace/SMILES_dataset/test/HSQC/13675.pt\n",
      "Deleted: /workspace/SMILES_dataset/test/HYUN_FP/13675.pt\n",
      "Total files deleted: 3\n",
      "Deleted: /workspace/SMILES_dataset/test/R2-6144FP/13717.pt\n",
      "Deleted: /workspace/SMILES_dataset/test/HSQC/13717.pt\n",
      "Deleted: /workspace/SMILES_dataset/test/HYUN_FP/13717.pt\n",
      "Total files deleted: 3\n",
      "Deleted: /workspace/SMILES_dataset/train/R2-6144FP/6138.pt\n",
      "Deleted: /workspace/SMILES_dataset/train/HSQC/6138.pt\n",
      "Deleted: /workspace/SMILES_dataset/train/HYUN_FP/6138.pt\n",
      "Total files deleted: 3\n",
      "Deleted: /workspace/SMILES_dataset/val/R2-6144FP/780.pt\n",
      "Deleted: /workspace/SMILES_dataset/val/HSQC/780.pt\n",
      "Deleted: /workspace/SMILES_dataset/val/HYUN_FP/780.pt\n",
      "Total files deleted: 3\n",
      "Deleted: /workspace/SMILES_dataset/train/R2-6144FP/11374.pt\n",
      "Deleted: /workspace/SMILES_dataset/train/HSQC/11374.pt\n",
      "Deleted: /workspace/SMILES_dataset/train/HYUN_FP/11374.pt\n",
      "Total files deleted: 3\n",
      "Deleted: /workspace/SMILES_dataset/train/R2-6144FP/11375.pt\n",
      "Deleted: /workspace/SMILES_dataset/train/HSQC/11375.pt\n",
      "Deleted: /workspace/SMILES_dataset/train/HYUN_FP/11375.pt\n",
      "Total files deleted: 3\n",
      "Deleted: /workspace/SMILES_dataset/train/oneD_NMR/12303.pt\n",
      "Deleted: /workspace/SMILES_dataset/train/R2-6144FP/12303.pt\n",
      "Deleted: /workspace/SMILES_dataset/train/HSQC/12303.pt\n",
      "Deleted: /workspace/SMILES_dataset/train/HYUN_FP/12303.pt\n",
      "Total files deleted: 4\n",
      "Deleted: /workspace/SMILES_dataset/train/R2-6144FP/14231.pt\n",
      "Deleted: /workspace/SMILES_dataset/train/HSQC/14231.pt\n",
      "Deleted: /workspace/SMILES_dataset/train/HYUN_FP/14231.pt\n",
      "Total files deleted: 3\n",
      "Deleted: /workspace/SMILES_dataset/train/R2-6144FP/15115.pt\n",
      "Deleted: /workspace/SMILES_dataset/train/HSQC/15115.pt\n",
      "Deleted: /workspace/SMILES_dataset/train/HYUN_FP/15115.pt\n",
      "Total files deleted: 3\n",
      "Deleted: /workspace/SMILES_dataset/train/R2-6144FP/16340.pt\n",
      "Deleted: /workspace/SMILES_dataset/train/HSQC/16340.pt\n",
      "Deleted: /workspace/SMILES_dataset/train/HYUN_FP/16340.pt\n",
      "Total files deleted: 3\n",
      "Deleted: /workspace/SMILES_dataset/train/oneD_NMR/18363.pt\n",
      "Deleted: /workspace/SMILES_dataset/train/R2-6144FP/18363.pt\n",
      "Deleted: /workspace/SMILES_dataset/train/HSQC/18363.pt\n",
      "Deleted: /workspace/SMILES_dataset/train/HYUN_FP/18363.pt\n",
      "Total files deleted: 4\n",
      "Deleted: /workspace/SMILES_dataset/val/oneD_NMR/2410.pt\n",
      "Deleted: /workspace/SMILES_dataset/val/R2-6144FP/2410.pt\n",
      "Deleted: /workspace/SMILES_dataset/val/HSQC/2410.pt\n",
      "Deleted: /workspace/SMILES_dataset/val/HYUN_FP/2410.pt\n",
      "Total files deleted: 4\n",
      "Deleted: /workspace/SMILES_dataset/train/oneD_NMR/18364.pt\n",
      "Deleted: /workspace/SMILES_dataset/train/R2-6144FP/18364.pt\n",
      "Deleted: /workspace/SMILES_dataset/train/HSQC/18364.pt\n",
      "Deleted: /workspace/SMILES_dataset/train/HYUN_FP/18364.pt\n",
      "Total files deleted: 4\n",
      "Deleted: /workspace/SMILES_dataset/train/oneD_NMR/18365.pt\n",
      "Deleted: /workspace/SMILES_dataset/train/R2-6144FP/18365.pt\n",
      "Deleted: /workspace/SMILES_dataset/train/HSQC/18365.pt\n",
      "Deleted: /workspace/SMILES_dataset/train/HYUN_FP/18365.pt\n",
      "Total files deleted: 4\n",
      "Deleted: /workspace/SMILES_dataset/train/oneD_NMR/18366.pt\n",
      "Deleted: /workspace/SMILES_dataset/train/R2-6144FP/18366.pt\n",
      "Deleted: /workspace/SMILES_dataset/train/HSQC/18366.pt\n",
      "Deleted: /workspace/SMILES_dataset/train/HYUN_FP/18366.pt\n",
      "Total files deleted: 4\n",
      "Deleted: /workspace/SMILES_dataset/val/oneD_NMR/2412.pt\n",
      "Deleted: /workspace/SMILES_dataset/val/R2-6144FP/2412.pt\n",
      "Deleted: /workspace/SMILES_dataset/val/HSQC/2412.pt\n",
      "Deleted: /workspace/SMILES_dataset/val/HYUN_FP/2412.pt\n",
      "Total files deleted: 4\n",
      "Deleted: /workspace/SMILES_dataset/val/oneD_NMR/2413.pt\n",
      "Deleted: /workspace/SMILES_dataset/val/R2-6144FP/2413.pt\n",
      "Deleted: /workspace/SMILES_dataset/val/HSQC/2413.pt\n",
      "Deleted: /workspace/SMILES_dataset/val/HYUN_FP/2413.pt\n",
      "Total files deleted: 4\n",
      "Deleted: /workspace/SMILES_dataset/train/R2-6144FP/18371.pt\n",
      "Deleted: /workspace/SMILES_dataset/train/HSQC/18371.pt\n",
      "Deleted: /workspace/SMILES_dataset/train/HYUN_FP/18371.pt\n",
      "Total files deleted: 3\n",
      "Deleted: /workspace/SMILES_dataset/train/R2-6144FP/32683.pt\n",
      "Deleted: /workspace/SMILES_dataset/train/HSQC/32683.pt\n",
      "Deleted: /workspace/SMILES_dataset/train/HYUN_FP/32683.pt\n",
      "Total files deleted: 3\n",
      "Deleted: /workspace/SMILES_dataset/train/R2-6144FP/32703.pt\n",
      "Deleted: /workspace/SMILES_dataset/train/HSQC/32703.pt\n",
      "Deleted: /workspace/SMILES_dataset/train/HYUN_FP/32703.pt\n",
      "Total files deleted: 3\n",
      "Deleted: /workspace/SMILES_dataset/train/R2-6144FP/32704.pt\n",
      "Deleted: /workspace/SMILES_dataset/train/HSQC/32704.pt\n",
      "Deleted: /workspace/SMILES_dataset/train/HYUN_FP/32704.pt\n",
      "Total files deleted: 3\n",
      "Deleted: /workspace/SMILES_dataset/train/oneD_NMR/36690.pt\n",
      "Deleted: /workspace/SMILES_dataset/train/R2-6144FP/36690.pt\n",
      "Deleted: /workspace/SMILES_dataset/train/HSQC/36690.pt\n",
      "Deleted: /workspace/SMILES_dataset/train/HYUN_FP/36690.pt\n",
      "Total files deleted: 4\n",
      "Deleted: /workspace/SMILES_dataset/train/oneD_NMR/36854.pt\n",
      "Deleted: /workspace/SMILES_dataset/train/R2-6144FP/36854.pt\n",
      "Deleted: /workspace/SMILES_dataset/train/HSQC/36854.pt\n",
      "Deleted: /workspace/SMILES_dataset/train/HYUN_FP/36854.pt\n",
      "Total files deleted: 4\n",
      "Deleted: /workspace/SMILES_dataset/train/oneD_NMR/40505.pt\n",
      "Deleted: /workspace/SMILES_dataset/train/R2-6144FP/40505.pt\n",
      "Deleted: /workspace/SMILES_dataset/train/HSQC/40505.pt\n",
      "Deleted: /workspace/SMILES_dataset/train/HYUN_FP/40505.pt\n",
      "Total files deleted: 4\n",
      "Deleted: /workspace/SMILES_dataset/train/R2-6144FP/44197.pt\n",
      "Deleted: /workspace/SMILES_dataset/train/HSQC/44197.pt\n",
      "Deleted: /workspace/SMILES_dataset/train/HYUN_FP/44197.pt\n",
      "Total files deleted: 3\n",
      "Deleted: /workspace/SMILES_dataset/val/R2-6144FP/5642.pt\n",
      "Deleted: /workspace/SMILES_dataset/val/HSQC/5642.pt\n",
      "Deleted: /workspace/SMILES_dataset/val/HYUN_FP/5642.pt\n",
      "Total files deleted: 3\n",
      "Deleted: /workspace/SMILES_dataset/train/oneD_NMR/47032.pt\n",
      "Deleted: /workspace/SMILES_dataset/train/R2-6144FP/47032.pt\n",
      "Deleted: /workspace/SMILES_dataset/train/HSQC/47032.pt\n",
      "Deleted: /workspace/SMILES_dataset/train/HYUN_FP/47032.pt\n",
      "Total files deleted: 4\n",
      "Deleted: /workspace/SMILES_dataset/val/oneD_NMR/5967.pt\n",
      "Deleted: /workspace/SMILES_dataset/val/R2-6144FP/5967.pt\n",
      "Deleted: /workspace/SMILES_dataset/val/HSQC/5967.pt\n",
      "Deleted: /workspace/SMILES_dataset/val/HYUN_FP/5967.pt\n",
      "Total files deleted: 4\n",
      "Deleted: /workspace/SMILES_dataset/train/R2-6144FP/48903.pt\n",
      "Deleted: /workspace/SMILES_dataset/train/HSQC/48903.pt\n",
      "Deleted: /workspace/SMILES_dataset/train/HYUN_FP/48903.pt\n",
      "Total files deleted: 3\n",
      "Deleted: /workspace/SMILES_dataset/train/R2-6144FP/49576.pt\n",
      "Deleted: /workspace/SMILES_dataset/train/HSQC/49576.pt\n",
      "Deleted: /workspace/SMILES_dataset/train/HYUN_FP/49576.pt\n",
      "Total files deleted: 3\n",
      "Deleted: /workspace/SMILES_dataset/val/R2-6144FP/6287.pt\n",
      "Deleted: /workspace/SMILES_dataset/val/HSQC/6287.pt\n",
      "Deleted: /workspace/SMILES_dataset/val/HYUN_FP/6287.pt\n",
      "Total files deleted: 3\n",
      "Deleted: /workspace/SMILES_dataset/train/R2-6144FP/52970.pt\n",
      "Deleted: /workspace/SMILES_dataset/train/HSQC/52970.pt\n",
      "Deleted: /workspace/SMILES_dataset/train/HYUN_FP/52970.pt\n",
      "Total files deleted: 3\n",
      "Deleted: /workspace/SMILES_dataset/val/R2-6144FP/6734.pt\n",
      "Deleted: /workspace/SMILES_dataset/val/HSQC/6734.pt\n",
      "Deleted: /workspace/SMILES_dataset/val/HYUN_FP/6734.pt\n",
      "Total files deleted: 3\n",
      "Deleted: /workspace/SMILES_dataset/train/R2-6144FP/53338.pt\n",
      "Deleted: /workspace/SMILES_dataset/train/HSQC/53338.pt\n",
      "Deleted: /workspace/SMILES_dataset/train/HYUN_FP/53338.pt\n",
      "Total files deleted: 3\n",
      "Deleted: /workspace/SMILES_dataset/train/R2-6144FP/55091.pt\n",
      "Deleted: /workspace/SMILES_dataset/train/HSQC/55091.pt\n",
      "Deleted: /workspace/SMILES_dataset/train/HYUN_FP/55091.pt\n",
      "Total files deleted: 3\n",
      "Deleted: /workspace/SMILES_dataset/train/R2-6144FP/55740.pt\n",
      "Deleted: /workspace/SMILES_dataset/train/HSQC/55740.pt\n",
      "Deleted: /workspace/SMILES_dataset/train/HYUN_FP/55740.pt\n",
      "Total files deleted: 3\n",
      "Deleted: /workspace/SMILES_dataset/train/oneD_NMR/55866.pt\n",
      "Deleted: /workspace/SMILES_dataset/train/R2-6144FP/55866.pt\n",
      "Deleted: /workspace/SMILES_dataset/train/HSQC/55866.pt\n",
      "Deleted: /workspace/SMILES_dataset/train/HYUN_FP/55866.pt\n",
      "Total files deleted: 4\n",
      "Deleted: /workspace/SMILES_dataset/train/oneD_NMR/55867.pt\n",
      "Deleted: /workspace/SMILES_dataset/train/R2-6144FP/55867.pt\n",
      "Deleted: /workspace/SMILES_dataset/train/HSQC/55867.pt\n",
      "Deleted: /workspace/SMILES_dataset/train/HYUN_FP/55867.pt\n",
      "Total files deleted: 4\n",
      "Deleted: /workspace/SMILES_dataset/train/oneD_NMR/56155.pt\n",
      "Deleted: /workspace/SMILES_dataset/train/R2-6144FP/56155.pt\n",
      "Deleted: /workspace/SMILES_dataset/train/HSQC/56155.pt\n",
      "Deleted: /workspace/SMILES_dataset/train/HYUN_FP/56155.pt\n",
      "Total files deleted: 4\n",
      "Deleted: /workspace/SMILES_dataset/train/oneD_NMR/56156.pt\n",
      "Deleted: /workspace/SMILES_dataset/train/R2-6144FP/56156.pt\n",
      "Deleted: /workspace/SMILES_dataset/train/HSQC/56156.pt\n",
      "Deleted: /workspace/SMILES_dataset/train/HYUN_FP/56156.pt\n",
      "Total files deleted: 4\n",
      "Deleted: /workspace/SMILES_dataset/train/oneD_NMR/56535.pt\n",
      "Deleted: /workspace/SMILES_dataset/train/R2-6144FP/56535.pt\n",
      "Deleted: /workspace/SMILES_dataset/train/HSQC/56535.pt\n",
      "Deleted: /workspace/SMILES_dataset/train/HYUN_FP/56535.pt\n",
      "Total files deleted: 4\n",
      "Deleted: /workspace/SMILES_dataset/train/R2-6144FP/62735.pt\n",
      "Deleted: /workspace/SMILES_dataset/train/HSQC/62735.pt\n",
      "Deleted: /workspace/SMILES_dataset/train/HYUN_FP/62735.pt\n",
      "Total files deleted: 3\n",
      "Deleted: /workspace/SMILES_dataset/train/R2-6144FP/62752.pt\n",
      "Deleted: /workspace/SMILES_dataset/train/HSQC/62752.pt\n",
      "Deleted: /workspace/SMILES_dataset/train/HYUN_FP/62752.pt\n",
      "Total files deleted: 3\n",
      "Deleted: /workspace/SMILES_dataset/train/R2-6144FP/62753.pt\n",
      "Deleted: /workspace/SMILES_dataset/train/HSQC/62753.pt\n",
      "Deleted: /workspace/SMILES_dataset/train/HYUN_FP/62753.pt\n",
      "Total files deleted: 3\n",
      "Deleted: /workspace/SMILES_dataset/train/R2-6144FP/63269.pt\n",
      "Deleted: /workspace/SMILES_dataset/train/HSQC/63269.pt\n",
      "Deleted: /workspace/SMILES_dataset/train/HYUN_FP/63269.pt\n",
      "Total files deleted: 3\n",
      "Deleted: /workspace/SMILES_dataset/train/R2-6144FP/63270.pt\n",
      "Deleted: /workspace/SMILES_dataset/train/HSQC/63270.pt\n",
      "Deleted: /workspace/SMILES_dataset/train/HYUN_FP/63270.pt\n",
      "Total files deleted: 3\n",
      "Deleted: /workspace/SMILES_dataset/train/oneD_NMR/66178.pt\n",
      "Deleted: /workspace/SMILES_dataset/train/R2-6144FP/66178.pt\n",
      "Deleted: /workspace/SMILES_dataset/train/HSQC/66178.pt\n",
      "Deleted: /workspace/SMILES_dataset/train/HYUN_FP/66178.pt\n",
      "Total files deleted: 4\n",
      "Deleted: /workspace/SMILES_dataset/train/R2-6144FP/68403.pt\n",
      "Deleted: /workspace/SMILES_dataset/train/HSQC/68403.pt\n",
      "Deleted: /workspace/SMILES_dataset/train/HYUN_FP/68403.pt\n",
      "Total files deleted: 3\n",
      "Deleted: /workspace/SMILES_dataset/train/oneD_NMR/76632.pt\n",
      "Deleted: /workspace/SMILES_dataset/train/R2-6144FP/76632.pt\n",
      "Deleted: /workspace/SMILES_dataset/train/HSQC/76632.pt\n",
      "Deleted: /workspace/SMILES_dataset/train/HYUN_FP/76632.pt\n",
      "Total files deleted: 4\n",
      "Deleted: /workspace/SMILES_dataset/val/oneD_NMR/9691.pt\n",
      "Deleted: /workspace/SMILES_dataset/val/R2-6144FP/9691.pt\n",
      "Deleted: /workspace/SMILES_dataset/val/HSQC/9691.pt\n",
      "Deleted: /workspace/SMILES_dataset/val/HYUN_FP/9691.pt\n",
      "Total files deleted: 4\n",
      "Deleted: /workspace/SMILES_dataset/train/R2-6144FP/77395.pt\n",
      "Deleted: /workspace/SMILES_dataset/train/HSQC/77395.pt\n",
      "Deleted: /workspace/SMILES_dataset/train/HYUN_FP/77395.pt\n",
      "Total files deleted: 3\n",
      "Deleted: /workspace/SMILES_dataset/train/R2-6144FP/81489.pt\n",
      "Deleted: /workspace/SMILES_dataset/train/HSQC/81489.pt\n",
      "Deleted: /workspace/SMILES_dataset/train/HYUN_FP/81489.pt\n",
      "Total files deleted: 3\n",
      "Deleted: /workspace/SMILES_dataset/train/oneD_NMR/95197.pt\n",
      "Deleted: /workspace/SMILES_dataset/train/R2-6144FP/95197.pt\n",
      "Deleted: /workspace/SMILES_dataset/train/HSQC/95197.pt\n",
      "Deleted: /workspace/SMILES_dataset/train/HYUN_FP/95197.pt\n",
      "Total files deleted: 4\n",
      "Deleted: /workspace/SMILES_dataset/train/R2-6144FP/96196.pt\n",
      "Deleted: /workspace/SMILES_dataset/train/HSQC/96196.pt\n",
      "Deleted: /workspace/SMILES_dataset/train/HYUN_FP/96196.pt\n",
      "Total files deleted: 3\n",
      "Deleted: /workspace/SMILES_dataset/train/R2-6144FP/96197.pt\n",
      "Deleted: /workspace/SMILES_dataset/train/HSQC/96197.pt\n",
      "Deleted: /workspace/SMILES_dataset/train/HYUN_FP/96197.pt\n",
      "Total files deleted: 3\n",
      "Deleted: /workspace/SMILES_dataset/val/R2-6144FP/12018.pt\n",
      "Deleted: /workspace/SMILES_dataset/val/HSQC/12018.pt\n",
      "Deleted: /workspace/SMILES_dataset/val/HYUN_FP/12018.pt\n",
      "Total files deleted: 3\n",
      "Deleted: /workspace/SMILES_dataset/val/R2-6144FP/12019.pt\n",
      "Deleted: /workspace/SMILES_dataset/val/HSQC/12019.pt\n",
      "Deleted: /workspace/SMILES_dataset/val/HYUN_FP/12019.pt\n",
      "Total files deleted: 3\n",
      "Deleted: /workspace/SMILES_dataset/train/R2-6144FP/98547.pt\n",
      "Deleted: /workspace/SMILES_dataset/train/HSQC/98547.pt\n",
      "Deleted: /workspace/SMILES_dataset/train/HYUN_FP/98547.pt\n",
      "Total files deleted: 3\n",
      "Deleted: /workspace/SMILES_dataset/train/R2-6144FP/98828.pt\n",
      "Deleted: /workspace/SMILES_dataset/train/HSQC/98828.pt\n",
      "Deleted: /workspace/SMILES_dataset/train/HYUN_FP/98828.pt\n",
      "Total files deleted: 3\n",
      "Deleted: /workspace/SMILES_dataset/train/oneD_NMR/98864.pt\n",
      "Deleted: /workspace/SMILES_dataset/train/R2-6144FP/98864.pt\n",
      "Deleted: /workspace/SMILES_dataset/train/HSQC/98864.pt\n",
      "Deleted: /workspace/SMILES_dataset/train/HYUN_FP/98864.pt\n",
      "Total files deleted: 4\n",
      "Deleted: /workspace/SMILES_dataset/train/oneD_NMR/98865.pt\n",
      "Deleted: /workspace/SMILES_dataset/train/R2-6144FP/98865.pt\n",
      "Deleted: /workspace/SMILES_dataset/train/HSQC/98865.pt\n",
      "Deleted: /workspace/SMILES_dataset/train/HYUN_FP/98865.pt\n",
      "Total files deleted: 4\n",
      "Deleted: /workspace/SMILES_dataset/val/oneD_NMR/12498.pt\n",
      "Deleted: /workspace/SMILES_dataset/val/R2-6144FP/12498.pt\n",
      "Deleted: /workspace/SMILES_dataset/val/HSQC/12498.pt\n",
      "Deleted: /workspace/SMILES_dataset/val/HYUN_FP/12498.pt\n",
      "Total files deleted: 4\n",
      "Deleted: /workspace/SMILES_dataset/train/R2-6144FP/98890.pt\n",
      "Deleted: /workspace/SMILES_dataset/train/HSQC/98890.pt\n",
      "Deleted: /workspace/SMILES_dataset/train/HYUN_FP/98890.pt\n",
      "Total files deleted: 3\n",
      "Deleted: /workspace/SMILES_dataset/train/oneD_NMR/99630.pt\n",
      "Deleted: /workspace/SMILES_dataset/train/R2-6144FP/99630.pt\n",
      "Deleted: /workspace/SMILES_dataset/train/HSQC/99630.pt\n",
      "Deleted: /workspace/SMILES_dataset/train/HYUN_FP/99630.pt\n",
      "Total files deleted: 4\n",
      "Deleted: /workspace/SMILES_dataset/train/R2-6144FP/99741.pt\n",
      "Deleted: /workspace/SMILES_dataset/train/HSQC/99741.pt\n",
      "Deleted: /workspace/SMILES_dataset/train/HYUN_FP/99741.pt\n",
      "Total files deleted: 3\n",
      "Deleted: /workspace/SMILES_dataset/train/oneD_NMR/99750.pt\n",
      "Deleted: /workspace/SMILES_dataset/train/R2-6144FP/99750.pt\n",
      "Deleted: /workspace/SMILES_dataset/train/HSQC/99750.pt\n",
      "Deleted: /workspace/SMILES_dataset/train/HYUN_FP/99750.pt\n",
      "Total files deleted: 4\n",
      "Deleted: /workspace/SMILES_dataset/train/R2-6144FP/99758.pt\n",
      "Deleted: /workspace/SMILES_dataset/train/HSQC/99758.pt\n",
      "Deleted: /workspace/SMILES_dataset/train/HYUN_FP/99758.pt\n",
      "Total files deleted: 3\n",
      "Deleted: /workspace/SMILES_dataset/val/R2-6144FP/12388.pt\n",
      "Deleted: /workspace/SMILES_dataset/val/HSQC/12388.pt\n",
      "Deleted: /workspace/SMILES_dataset/val/HYUN_FP/12388.pt\n",
      "Total files deleted: 3\n",
      "Deleted: /workspace/SMILES_dataset/train/oneD_NMR/99947.pt\n",
      "Deleted: /workspace/SMILES_dataset/train/R2-6144FP/99947.pt\n",
      "Deleted: /workspace/SMILES_dataset/train/HSQC/99947.pt\n",
      "Deleted: /workspace/SMILES_dataset/train/HYUN_FP/99947.pt\n",
      "Total files deleted: 4\n",
      "Deleted: /workspace/SMILES_dataset/train/R2-6144FP/100472.pt\n",
      "Deleted: /workspace/SMILES_dataset/train/HSQC/100472.pt\n",
      "Deleted: /workspace/SMILES_dataset/train/HYUN_FP/100472.pt\n",
      "Total files deleted: 3\n",
      "Deleted: /workspace/SMILES_dataset/train/R2-6144FP/100473.pt\n",
      "Deleted: /workspace/SMILES_dataset/train/HSQC/100473.pt\n",
      "Deleted: /workspace/SMILES_dataset/train/HYUN_FP/100473.pt\n",
      "Total files deleted: 3\n",
      "Deleted: /workspace/SMILES_dataset/train/R2-6144FP/100506.pt\n",
      "Deleted: /workspace/SMILES_dataset/train/HSQC/100506.pt\n",
      "Deleted: /workspace/SMILES_dataset/train/HYUN_FP/100506.pt\n",
      "Total files deleted: 3\n",
      "Deleted: /workspace/SMILES_dataset/train/R2-6144FP/100507.pt\n",
      "Deleted: /workspace/SMILES_dataset/train/HSQC/100507.pt\n",
      "Deleted: /workspace/SMILES_dataset/train/HYUN_FP/100507.pt\n",
      "Total files deleted: 3\n",
      "Deleted: /workspace/SMILES_dataset/train/oneD_NMR/100551.pt\n",
      "Deleted: /workspace/SMILES_dataset/train/R2-6144FP/100551.pt\n",
      "Deleted: /workspace/SMILES_dataset/train/HSQC/100551.pt\n",
      "Deleted: /workspace/SMILES_dataset/train/HYUN_FP/100551.pt\n",
      "Total files deleted: 4\n",
      "Deleted: /workspace/SMILES_dataset/train/oneD_NMR/100585.pt\n",
      "Deleted: /workspace/SMILES_dataset/train/R2-6144FP/100585.pt\n",
      "Deleted: /workspace/SMILES_dataset/train/HSQC/100585.pt\n",
      "Deleted: /workspace/SMILES_dataset/train/HYUN_FP/100585.pt\n",
      "Total files deleted: 4\n",
      "Deleted: /workspace/SMILES_dataset/val/oneD_NMR/12592.pt\n",
      "Deleted: /workspace/SMILES_dataset/val/R2-6144FP/12592.pt\n",
      "Deleted: /workspace/SMILES_dataset/val/HSQC/12592.pt\n",
      "Deleted: /workspace/SMILES_dataset/val/HYUN_FP/12592.pt\n",
      "Total files deleted: 4\n",
      "Deleted: /workspace/SMILES_dataset/train/oneD_NMR/100581.pt\n",
      "Deleted: /workspace/SMILES_dataset/train/R2-6144FP/100581.pt\n",
      "Deleted: /workspace/SMILES_dataset/train/HSQC/100581.pt\n",
      "Deleted: /workspace/SMILES_dataset/train/HYUN_FP/100581.pt\n",
      "Total files deleted: 4\n",
      "Deleted: /workspace/SMILES_dataset/train/oneD_NMR/100582.pt\n",
      "Deleted: /workspace/SMILES_dataset/train/R2-6144FP/100582.pt\n",
      "Deleted: /workspace/SMILES_dataset/train/HSQC/100582.pt\n",
      "Deleted: /workspace/SMILES_dataset/train/HYUN_FP/100582.pt\n",
      "Total files deleted: 4\n",
      "Deleted: /workspace/SMILES_dataset/train/R2-6144FP/100596.pt\n",
      "Deleted: /workspace/SMILES_dataset/train/HSQC/100596.pt\n",
      "Deleted: /workspace/SMILES_dataset/train/HYUN_FP/100596.pt\n",
      "Total files deleted: 3\n",
      "Deleted: /workspace/SMILES_dataset/train/R2-6144FP/100614.pt\n",
      "Deleted: /workspace/SMILES_dataset/train/HSQC/100614.pt\n",
      "Deleted: /workspace/SMILES_dataset/train/HYUN_FP/100614.pt\n",
      "Total files deleted: 3\n",
      "Deleted: /workspace/SMILES_dataset/train/R2-6144FP/100709.pt\n",
      "Deleted: /workspace/SMILES_dataset/train/HSQC/100709.pt\n",
      "Deleted: /workspace/SMILES_dataset/train/HYUN_FP/100709.pt\n",
      "Total files deleted: 3\n",
      "Deleted: /workspace/SMILES_dataset/train/R2-6144FP/100710.pt\n",
      "Deleted: /workspace/SMILES_dataset/train/HSQC/100710.pt\n",
      "Deleted: /workspace/SMILES_dataset/train/HYUN_FP/100710.pt\n",
      "Total files deleted: 3\n",
      "Deleted: /workspace/SMILES_dataset/train/oneD_NMR/102940.pt\n",
      "Deleted: /workspace/SMILES_dataset/train/R2-6144FP/102940.pt\n",
      "Deleted: /workspace/SMILES_dataset/train/HSQC/102940.pt\n",
      "Deleted: /workspace/SMILES_dataset/train/HYUN_FP/102940.pt\n",
      "Total files deleted: 4\n",
      "Deleted: /workspace/SMILES_dataset/train/R2-6144FP/103000.pt\n",
      "Deleted: /workspace/SMILES_dataset/train/HSQC/103000.pt\n",
      "Deleted: /workspace/SMILES_dataset/train/HYUN_FP/103000.pt\n",
      "Total files deleted: 3\n",
      "Deleted: /workspace/SMILES_dataset/train/R2-6144FP/103130.pt\n",
      "Deleted: /workspace/SMILES_dataset/train/HSQC/103130.pt\n",
      "Deleted: /workspace/SMILES_dataset/train/HYUN_FP/103130.pt\n",
      "Total files deleted: 3\n",
      "Deleted: /workspace/SMILES_dataset/train/R2-6144FP/103217.pt\n",
      "Deleted: /workspace/SMILES_dataset/train/HSQC/103217.pt\n",
      "Deleted: /workspace/SMILES_dataset/train/HYUN_FP/103217.pt\n",
      "Total files deleted: 3\n",
      "Deleted: /workspace/SMILES_dataset/train/oneD_NMR/103470.pt\n",
      "Deleted: /workspace/SMILES_dataset/train/R2-6144FP/103470.pt\n",
      "Deleted: /workspace/SMILES_dataset/train/HSQC/103470.pt\n",
      "Deleted: /workspace/SMILES_dataset/train/HYUN_FP/103470.pt\n",
      "Total files deleted: 4\n",
      "Deleted: /workspace/SMILES_dataset/train/oneD_NMR/105296.pt\n",
      "Deleted: /workspace/SMILES_dataset/train/R2-6144FP/105296.pt\n",
      "Deleted: /workspace/SMILES_dataset/train/HSQC/105296.pt\n",
      "Deleted: /workspace/SMILES_dataset/train/HYUN_FP/105296.pt\n",
      "Total files deleted: 4\n",
      "Deleted: /workspace/SMILES_dataset/train/R2-6144FP/106340.pt\n",
      "Deleted: /workspace/SMILES_dataset/train/HSQC/106340.pt\n",
      "Deleted: /workspace/SMILES_dataset/train/HYUN_FP/106340.pt\n",
      "Total files deleted: 3\n",
      "Deleted: /workspace/SMILES_dataset/train/R2-6144FP/106488.pt\n",
      "Deleted: /workspace/SMILES_dataset/train/HSQC/106488.pt\n",
      "Deleted: /workspace/SMILES_dataset/train/HYUN_FP/106488.pt\n",
      "Total files deleted: 3\n",
      "Deleted: /workspace/SMILES_dataset/train/R2-6144FP/106489.pt\n",
      "Deleted: /workspace/SMILES_dataset/train/HSQC/106489.pt\n",
      "Deleted: /workspace/SMILES_dataset/train/HYUN_FP/106489.pt\n",
      "Total files deleted: 3\n",
      "Deleted: /workspace/SMILES_dataset/train/R2-6144FP/106527.pt\n",
      "Deleted: /workspace/SMILES_dataset/train/HSQC/106527.pt\n",
      "Deleted: /workspace/SMILES_dataset/train/HYUN_FP/106527.pt\n",
      "Total files deleted: 3\n",
      "Deleted: /workspace/SMILES_dataset/train/R2-6144FP/106531.pt\n",
      "Deleted: /workspace/SMILES_dataset/train/HSQC/106531.pt\n",
      "Deleted: /workspace/SMILES_dataset/train/HYUN_FP/106531.pt\n",
      "Total files deleted: 3\n",
      "Deleted: /workspace/SMILES_dataset/train/R2-6144FP/107383.pt\n",
      "Deleted: /workspace/SMILES_dataset/train/HSQC/107383.pt\n",
      "Deleted: /workspace/SMILES_dataset/train/HYUN_FP/107383.pt\n",
      "Total files deleted: 3\n",
      "Deleted: /workspace/SMILES_dataset/train/R2-6144FP/107166.pt\n",
      "Deleted: /workspace/SMILES_dataset/train/HSQC/107166.pt\n",
      "Deleted: /workspace/SMILES_dataset/train/HYUN_FP/107166.pt\n",
      "Total files deleted: 3\n",
      "Deleted: /workspace/SMILES_dataset/train/oneD_NMR/107351.pt\n",
      "Deleted: /workspace/SMILES_dataset/train/R2-6144FP/107351.pt\n",
      "Deleted: /workspace/SMILES_dataset/train/HSQC/107351.pt\n",
      "Deleted: /workspace/SMILES_dataset/train/HYUN_FP/107351.pt\n",
      "Total files deleted: 4\n",
      "Deleted: /workspace/SMILES_dataset/train/R2-6144FP/107376.pt\n",
      "Deleted: /workspace/SMILES_dataset/train/HSQC/107376.pt\n",
      "Deleted: /workspace/SMILES_dataset/train/HYUN_FP/107376.pt\n",
      "Total files deleted: 3\n",
      "Deleted: /workspace/SMILES_dataset/train/R2-6144FP/109255.pt\n",
      "Deleted: /workspace/SMILES_dataset/train/HSQC/109255.pt\n",
      "Deleted: /workspace/SMILES_dataset/train/HYUN_FP/109255.pt\n",
      "Total files deleted: 3\n",
      "Deleted: /workspace/SMILES_dataset/train/oneD_NMR/108508.pt\n",
      "Deleted: /workspace/SMILES_dataset/train/R2-6144FP/108508.pt\n",
      "Deleted: /workspace/SMILES_dataset/train/HSQC/108508.pt\n",
      "Deleted: /workspace/SMILES_dataset/train/HYUN_FP/108508.pt\n",
      "Total files deleted: 4\n",
      "Deleted: /workspace/SMILES_dataset/train/R2-6144FP/109480.pt\n",
      "Deleted: /workspace/SMILES_dataset/train/HSQC/109480.pt\n",
      "Deleted: /workspace/SMILES_dataset/train/HYUN_FP/109480.pt\n",
      "Total files deleted: 3\n",
      "Deleted: /workspace/SMILES_dataset/val/R2-6144FP/9020.pt\n",
      "Deleted: /workspace/SMILES_dataset/val/HSQC/9020.pt\n",
      "Deleted: /workspace/SMILES_dataset/val/HYUN_FP/9020.pt\n",
      "Total files deleted: 3\n",
      "Deleted: /workspace/SMILES_dataset/val/R2-6144FP/9021.pt\n",
      "Deleted: /workspace/SMILES_dataset/val/HSQC/9021.pt\n",
      "Deleted: /workspace/SMILES_dataset/val/HYUN_FP/9021.pt\n",
      "Total files deleted: 3\n",
      "Deleted: /workspace/SMILES_dataset/train/R2-6144FP/109483.pt\n",
      "Deleted: /workspace/SMILES_dataset/train/HSQC/109483.pt\n",
      "Deleted: /workspace/SMILES_dataset/train/HYUN_FP/109483.pt\n",
      "Total files deleted: 3\n",
      "Deleted: /workspace/SMILES_dataset/val/R2-6144FP/12316.pt\n",
      "Deleted: /workspace/SMILES_dataset/val/HSQC/12316.pt\n",
      "Deleted: /workspace/SMILES_dataset/val/HYUN_FP/12316.pt\n",
      "Total files deleted: 3\n"
     ]
    }
   ],
   "source": [
    "# parent_dir = '/workspace/SMILES_dataset/'\n",
    "# for collision in inchi_collision:\n",
    "#     for path in collision[:-1]:\n",
    "        \n",
    "#         pattern = path.replace(\"detailed_oneD_NMR\", \"*\")\n",
    "#         delete_files_by_pattern(parent_dir+pattern)\n",
    "#         # print(parent_dir+pattern)\n",
    "    "
   ]
  },
  {
   "cell_type": "code",
   "execution_count": 26,
   "metadata": {},
   "outputs": [],
   "source": [
    "def get_nmr_tensors(file_path):\n",
    "    c_values = set()\n",
    "    h_values = set()\n",
    "\n",
    "    with open(file_path, 'r') as file:\n",
    "        for line in file:\n",
    "            parts = line.strip().split(',')\n",
    "            if len(parts) < 3 or not parts[2]:\n",
    "                continue  # Skip lines that don't have enough parts or the third column is empty\n",
    "\n",
    "            element, _, value, *_ = parts\n",
    "            value = float(value)\n",
    "\n",
    "            if element == 'C':\n",
    "                c_values.add(value)\n",
    "            elif element == 'H':\n",
    "                h_values.add(value)\n",
    "\n",
    "    # Convert sets to tensors\n",
    "    c_tensor = torch.tensor(list(c_values), dtype=torch.float32)\n",
    "    h_tensor = torch.tensor(list(h_values), dtype=torch.float32)\n",
    "    \n",
    "    return c_tensor, h_tensor"
   ]
  },
  {
   "cell_type": "code",
   "execution_count": null,
   "metadata": {},
   "outputs": [],
   "source": []
  },
  {
   "cell_type": "code",
   "execution_count": 27,
   "metadata": {},
   "outputs": [],
   "source": [
    "for split in [\"test\", \"train\", \"val\"]:\n",
    "    os.makedirs(f'/workspace/SMILES_dataset/{split}/detailed_oneD_NMR/', exist_ok=True)"
   ]
  },
  {
   "cell_type": "code",
   "execution_count": 28,
   "metadata": {},
   "outputs": [],
   "source": [
    "NP_MRD_FILES_dir = '/root/gurusmart/data/NP-MRD-dataset/NP-MRD-shift-assignments'\n",
    "npmrd_files_txt_only = sorted(os.listdir(NP_MRD_FILES_dir))\n"
   ]
  },
  {
   "cell_type": "code",
   "execution_count": 34,
   "metadata": {},
   "outputs": [
    {
     "data": {
      "text/plain": [
       "'D2O'"
      ]
     },
     "execution_count": 34,
     "metadata": {},
     "output_type": "execute_result"
    }
   ],
   "source": [
    "from bs4 import BeautifulSoup\n",
    "import  requests\n",
    "\n",
    "def get_solvent_from_file_name(f):\n",
    "    spectrum_id = f.split(\"_\")[2]\n",
    "    url = f'https://np-mrd.org/spectra/nmr_one_d/{spectrum_id}' #1113\n",
    "    # Send a GET request\n",
    "    response = requests.get(url)\n",
    "    soup = BeautifulSoup(response.content, 'html.parser')\n",
    "    title_tag = soup.find('title')\n",
    "    return title_tag.text.split(':')[-1].strip().split(\",\")[2].strip() if title_tag else \"unknown\"\n",
    "    \n",
    "get_solvent_from_file_name('NP0000007_nmroned_26098_2774638.txt')"
   ]
  },
  {
   "cell_type": "code",
   "execution_count": null,
   "metadata": {},
   "outputs": [],
   "source": [
    "3"
   ]
  },
  {
   "cell_type": "code",
   "execution_count": 35,
   "metadata": {},
   "outputs": [
    {
     "name": "stderr",
     "output_type": "stream",
     "text": [
      "  0%|          | 171/265316 [00:37<16:08:03,  4.56it/s]\n"
     ]
    },
    {
     "ename": "KeyboardInterrupt",
     "evalue": "",
     "output_type": "error",
     "traceback": [
      "\u001b[0;31m---------------------------------------------------------------------------\u001b[0m",
      "\u001b[0;31mKeyboardInterrupt\u001b[0m                         Traceback (most recent call last)",
      "Cell \u001b[0;32mIn[35], line 15\u001b[0m\n\u001b[1;32m     13\u001b[0m \u001b[38;5;28;01mif\u001b[39;00m \u001b[38;5;28mlen\u001b[39m(c_tensor) \u001b[38;5;241m==\u001b[39m \u001b[38;5;241m0\u001b[39m \u001b[38;5;129;01mand\u001b[39;00m \u001b[38;5;28mlen\u001b[39m(h_tensor)\u001b[38;5;241m==\u001b[39m\u001b[38;5;241m0\u001b[39m:\n\u001b[1;32m     14\u001b[0m     \u001b[38;5;28;01mcontinue\u001b[39;00m\n\u001b[0;32m---> 15\u001b[0m solvent \u001b[38;5;241m=\u001b[39m \u001b[43mget_solvent_from_file_name\u001b[49m\u001b[43m(\u001b[49m\u001b[43mf\u001b[49m\u001b[43m)\u001b[49m\n\u001b[1;32m     16\u001b[0m file_path \u001b[38;5;241m=\u001b[39m inchi_to_file_path[inchi][\u001b[38;5;241m-\u001b[39m\u001b[38;5;241m1\u001b[39m]\n\u001b[1;32m     17\u001b[0m torch\u001b[38;5;241m.\u001b[39msave([c_tensor, h_tensor, solvent], \u001b[38;5;124m'\u001b[39m\u001b[38;5;124m/workspace/SMILES_dataset/\u001b[39m\u001b[38;5;124m'\u001b[39m\u001b[38;5;241m+\u001b[39mfile_path )\n",
      "Cell \u001b[0;32mIn[34], line 8\u001b[0m, in \u001b[0;36mget_solvent_from_file_name\u001b[0;34m(f)\u001b[0m\n\u001b[1;32m      6\u001b[0m url \u001b[38;5;241m=\u001b[39m \u001b[38;5;124mf\u001b[39m\u001b[38;5;124m'\u001b[39m\u001b[38;5;124mhttps://np-mrd.org/spectra/nmr_one_d/\u001b[39m\u001b[38;5;132;01m{\u001b[39;00mspectrum_id\u001b[38;5;132;01m}\u001b[39;00m\u001b[38;5;124m'\u001b[39m \u001b[38;5;66;03m#1113\u001b[39;00m\n\u001b[1;32m      7\u001b[0m \u001b[38;5;66;03m# Send a GET request\u001b[39;00m\n\u001b[0;32m----> 8\u001b[0m response \u001b[38;5;241m=\u001b[39m \u001b[43mrequests\u001b[49m\u001b[38;5;241;43m.\u001b[39;49m\u001b[43mget\u001b[49m\u001b[43m(\u001b[49m\u001b[43murl\u001b[49m\u001b[43m)\u001b[49m\n\u001b[1;32m      9\u001b[0m soup \u001b[38;5;241m=\u001b[39m BeautifulSoup(response\u001b[38;5;241m.\u001b[39mcontent, \u001b[38;5;124m'\u001b[39m\u001b[38;5;124mhtml.parser\u001b[39m\u001b[38;5;124m'\u001b[39m)\n\u001b[1;32m     10\u001b[0m title_tag \u001b[38;5;241m=\u001b[39m soup\u001b[38;5;241m.\u001b[39mfind(\u001b[38;5;124m'\u001b[39m\u001b[38;5;124mtitle\u001b[39m\u001b[38;5;124m'\u001b[39m)\n",
      "File \u001b[0;32m/opt/conda/lib/python3.10/site-packages/requests/api.py:73\u001b[0m, in \u001b[0;36mget\u001b[0;34m(url, params, **kwargs)\u001b[0m\n\u001b[1;32m     62\u001b[0m \u001b[38;5;28;01mdef\u001b[39;00m \u001b[38;5;21mget\u001b[39m(url, params\u001b[38;5;241m=\u001b[39m\u001b[38;5;28;01mNone\u001b[39;00m, \u001b[38;5;241m*\u001b[39m\u001b[38;5;241m*\u001b[39mkwargs):\n\u001b[1;32m     63\u001b[0m \u001b[38;5;250m    \u001b[39m\u001b[38;5;124mr\u001b[39m\u001b[38;5;124;03m\"\"\"Sends a GET request.\u001b[39;00m\n\u001b[1;32m     64\u001b[0m \n\u001b[1;32m     65\u001b[0m \u001b[38;5;124;03m    :param url: URL for the new :class:`Request` object.\u001b[39;00m\n\u001b[0;32m   (...)\u001b[0m\n\u001b[1;32m     70\u001b[0m \u001b[38;5;124;03m    :rtype: requests.Response\u001b[39;00m\n\u001b[1;32m     71\u001b[0m \u001b[38;5;124;03m    \"\"\"\u001b[39;00m\n\u001b[0;32m---> 73\u001b[0m     \u001b[38;5;28;01mreturn\u001b[39;00m \u001b[43mrequest\u001b[49m\u001b[43m(\u001b[49m\u001b[38;5;124;43m\"\u001b[39;49m\u001b[38;5;124;43mget\u001b[39;49m\u001b[38;5;124;43m\"\u001b[39;49m\u001b[43m,\u001b[49m\u001b[43m \u001b[49m\u001b[43murl\u001b[49m\u001b[43m,\u001b[49m\u001b[43m \u001b[49m\u001b[43mparams\u001b[49m\u001b[38;5;241;43m=\u001b[39;49m\u001b[43mparams\u001b[49m\u001b[43m,\u001b[49m\u001b[43m \u001b[49m\u001b[38;5;241;43m*\u001b[39;49m\u001b[38;5;241;43m*\u001b[39;49m\u001b[43mkwargs\u001b[49m\u001b[43m)\u001b[49m\n",
      "File \u001b[0;32m/opt/conda/lib/python3.10/site-packages/requests/api.py:59\u001b[0m, in \u001b[0;36mrequest\u001b[0;34m(method, url, **kwargs)\u001b[0m\n\u001b[1;32m     55\u001b[0m \u001b[38;5;66;03m# By using the 'with' statement we are sure the session is closed, thus we\u001b[39;00m\n\u001b[1;32m     56\u001b[0m \u001b[38;5;66;03m# avoid leaving sockets open which can trigger a ResourceWarning in some\u001b[39;00m\n\u001b[1;32m     57\u001b[0m \u001b[38;5;66;03m# cases, and look like a memory leak in others.\u001b[39;00m\n\u001b[1;32m     58\u001b[0m \u001b[38;5;28;01mwith\u001b[39;00m sessions\u001b[38;5;241m.\u001b[39mSession() \u001b[38;5;28;01mas\u001b[39;00m session:\n\u001b[0;32m---> 59\u001b[0m     \u001b[38;5;28;01mreturn\u001b[39;00m \u001b[43msession\u001b[49m\u001b[38;5;241;43m.\u001b[39;49m\u001b[43mrequest\u001b[49m\u001b[43m(\u001b[49m\u001b[43mmethod\u001b[49m\u001b[38;5;241;43m=\u001b[39;49m\u001b[43mmethod\u001b[49m\u001b[43m,\u001b[49m\u001b[43m \u001b[49m\u001b[43murl\u001b[49m\u001b[38;5;241;43m=\u001b[39;49m\u001b[43murl\u001b[49m\u001b[43m,\u001b[49m\u001b[43m \u001b[49m\u001b[38;5;241;43m*\u001b[39;49m\u001b[38;5;241;43m*\u001b[39;49m\u001b[43mkwargs\u001b[49m\u001b[43m)\u001b[49m\n",
      "File \u001b[0;32m/opt/conda/lib/python3.10/site-packages/requests/sessions.py:589\u001b[0m, in \u001b[0;36mSession.request\u001b[0;34m(self, method, url, params, data, headers, cookies, files, auth, timeout, allow_redirects, proxies, hooks, stream, verify, cert, json)\u001b[0m\n\u001b[1;32m    584\u001b[0m send_kwargs \u001b[38;5;241m=\u001b[39m {\n\u001b[1;32m    585\u001b[0m     \u001b[38;5;124m\"\u001b[39m\u001b[38;5;124mtimeout\u001b[39m\u001b[38;5;124m\"\u001b[39m: timeout,\n\u001b[1;32m    586\u001b[0m     \u001b[38;5;124m\"\u001b[39m\u001b[38;5;124mallow_redirects\u001b[39m\u001b[38;5;124m\"\u001b[39m: allow_redirects,\n\u001b[1;32m    587\u001b[0m }\n\u001b[1;32m    588\u001b[0m send_kwargs\u001b[38;5;241m.\u001b[39mupdate(settings)\n\u001b[0;32m--> 589\u001b[0m resp \u001b[38;5;241m=\u001b[39m \u001b[38;5;28;43mself\u001b[39;49m\u001b[38;5;241;43m.\u001b[39;49m\u001b[43msend\u001b[49m\u001b[43m(\u001b[49m\u001b[43mprep\u001b[49m\u001b[43m,\u001b[49m\u001b[43m \u001b[49m\u001b[38;5;241;43m*\u001b[39;49m\u001b[38;5;241;43m*\u001b[39;49m\u001b[43msend_kwargs\u001b[49m\u001b[43m)\u001b[49m\n\u001b[1;32m    591\u001b[0m \u001b[38;5;28;01mreturn\u001b[39;00m resp\n",
      "File \u001b[0;32m/opt/conda/lib/python3.10/site-packages/requests/sessions.py:703\u001b[0m, in \u001b[0;36mSession.send\u001b[0;34m(self, request, **kwargs)\u001b[0m\n\u001b[1;32m    700\u001b[0m start \u001b[38;5;241m=\u001b[39m preferred_clock()\n\u001b[1;32m    702\u001b[0m \u001b[38;5;66;03m# Send the request\u001b[39;00m\n\u001b[0;32m--> 703\u001b[0m r \u001b[38;5;241m=\u001b[39m \u001b[43madapter\u001b[49m\u001b[38;5;241;43m.\u001b[39;49m\u001b[43msend\u001b[49m\u001b[43m(\u001b[49m\u001b[43mrequest\u001b[49m\u001b[43m,\u001b[49m\u001b[43m \u001b[49m\u001b[38;5;241;43m*\u001b[39;49m\u001b[38;5;241;43m*\u001b[39;49m\u001b[43mkwargs\u001b[49m\u001b[43m)\u001b[49m\n\u001b[1;32m    705\u001b[0m \u001b[38;5;66;03m# Total elapsed time of the request (approximately)\u001b[39;00m\n\u001b[1;32m    706\u001b[0m elapsed \u001b[38;5;241m=\u001b[39m preferred_clock() \u001b[38;5;241m-\u001b[39m start\n",
      "File \u001b[0;32m/opt/conda/lib/python3.10/site-packages/requests/adapters.py:486\u001b[0m, in \u001b[0;36mHTTPAdapter.send\u001b[0;34m(self, request, stream, timeout, verify, cert, proxies)\u001b[0m\n\u001b[1;32m    483\u001b[0m     timeout \u001b[38;5;241m=\u001b[39m TimeoutSauce(connect\u001b[38;5;241m=\u001b[39mtimeout, read\u001b[38;5;241m=\u001b[39mtimeout)\n\u001b[1;32m    485\u001b[0m \u001b[38;5;28;01mtry\u001b[39;00m:\n\u001b[0;32m--> 486\u001b[0m     resp \u001b[38;5;241m=\u001b[39m \u001b[43mconn\u001b[49m\u001b[38;5;241;43m.\u001b[39;49m\u001b[43murlopen\u001b[49m\u001b[43m(\u001b[49m\n\u001b[1;32m    487\u001b[0m \u001b[43m        \u001b[49m\u001b[43mmethod\u001b[49m\u001b[38;5;241;43m=\u001b[39;49m\u001b[43mrequest\u001b[49m\u001b[38;5;241;43m.\u001b[39;49m\u001b[43mmethod\u001b[49m\u001b[43m,\u001b[49m\n\u001b[1;32m    488\u001b[0m \u001b[43m        \u001b[49m\u001b[43murl\u001b[49m\u001b[38;5;241;43m=\u001b[39;49m\u001b[43murl\u001b[49m\u001b[43m,\u001b[49m\n\u001b[1;32m    489\u001b[0m \u001b[43m        \u001b[49m\u001b[43mbody\u001b[49m\u001b[38;5;241;43m=\u001b[39;49m\u001b[43mrequest\u001b[49m\u001b[38;5;241;43m.\u001b[39;49m\u001b[43mbody\u001b[49m\u001b[43m,\u001b[49m\n\u001b[1;32m    490\u001b[0m \u001b[43m        \u001b[49m\u001b[43mheaders\u001b[49m\u001b[38;5;241;43m=\u001b[39;49m\u001b[43mrequest\u001b[49m\u001b[38;5;241;43m.\u001b[39;49m\u001b[43mheaders\u001b[49m\u001b[43m,\u001b[49m\n\u001b[1;32m    491\u001b[0m \u001b[43m        \u001b[49m\u001b[43mredirect\u001b[49m\u001b[38;5;241;43m=\u001b[39;49m\u001b[38;5;28;43;01mFalse\u001b[39;49;00m\u001b[43m,\u001b[49m\n\u001b[1;32m    492\u001b[0m \u001b[43m        \u001b[49m\u001b[43massert_same_host\u001b[49m\u001b[38;5;241;43m=\u001b[39;49m\u001b[38;5;28;43;01mFalse\u001b[39;49;00m\u001b[43m,\u001b[49m\n\u001b[1;32m    493\u001b[0m \u001b[43m        \u001b[49m\u001b[43mpreload_content\u001b[49m\u001b[38;5;241;43m=\u001b[39;49m\u001b[38;5;28;43;01mFalse\u001b[39;49;00m\u001b[43m,\u001b[49m\n\u001b[1;32m    494\u001b[0m \u001b[43m        \u001b[49m\u001b[43mdecode_content\u001b[49m\u001b[38;5;241;43m=\u001b[39;49m\u001b[38;5;28;43;01mFalse\u001b[39;49;00m\u001b[43m,\u001b[49m\n\u001b[1;32m    495\u001b[0m \u001b[43m        \u001b[49m\u001b[43mretries\u001b[49m\u001b[38;5;241;43m=\u001b[39;49m\u001b[38;5;28;43mself\u001b[39;49m\u001b[38;5;241;43m.\u001b[39;49m\u001b[43mmax_retries\u001b[49m\u001b[43m,\u001b[49m\n\u001b[1;32m    496\u001b[0m \u001b[43m        \u001b[49m\u001b[43mtimeout\u001b[49m\u001b[38;5;241;43m=\u001b[39;49m\u001b[43mtimeout\u001b[49m\u001b[43m,\u001b[49m\n\u001b[1;32m    497\u001b[0m \u001b[43m        \u001b[49m\u001b[43mchunked\u001b[49m\u001b[38;5;241;43m=\u001b[39;49m\u001b[43mchunked\u001b[49m\u001b[43m,\u001b[49m\n\u001b[1;32m    498\u001b[0m \u001b[43m    \u001b[49m\u001b[43m)\u001b[49m\n\u001b[1;32m    500\u001b[0m \u001b[38;5;28;01mexcept\u001b[39;00m (ProtocolError, \u001b[38;5;167;01mOSError\u001b[39;00m) \u001b[38;5;28;01mas\u001b[39;00m err:\n\u001b[1;32m    501\u001b[0m     \u001b[38;5;28;01mraise\u001b[39;00m \u001b[38;5;167;01mConnectionError\u001b[39;00m(err, request\u001b[38;5;241m=\u001b[39mrequest)\n",
      "File \u001b[0;32m/opt/conda/lib/python3.10/site-packages/urllib3/connectionpool.py:715\u001b[0m, in \u001b[0;36mHTTPConnectionPool.urlopen\u001b[0;34m(self, method, url, body, headers, retries, redirect, assert_same_host, timeout, pool_timeout, release_conn, chunked, body_pos, **response_kw)\u001b[0m\n\u001b[1;32m    712\u001b[0m     \u001b[38;5;28mself\u001b[39m\u001b[38;5;241m.\u001b[39m_prepare_proxy(conn)\n\u001b[1;32m    714\u001b[0m \u001b[38;5;66;03m# Make the request on the httplib connection object.\u001b[39;00m\n\u001b[0;32m--> 715\u001b[0m httplib_response \u001b[38;5;241m=\u001b[39m \u001b[38;5;28;43mself\u001b[39;49m\u001b[38;5;241;43m.\u001b[39;49m\u001b[43m_make_request\u001b[49m\u001b[43m(\u001b[49m\n\u001b[1;32m    716\u001b[0m \u001b[43m    \u001b[49m\u001b[43mconn\u001b[49m\u001b[43m,\u001b[49m\n\u001b[1;32m    717\u001b[0m \u001b[43m    \u001b[49m\u001b[43mmethod\u001b[49m\u001b[43m,\u001b[49m\n\u001b[1;32m    718\u001b[0m \u001b[43m    \u001b[49m\u001b[43murl\u001b[49m\u001b[43m,\u001b[49m\n\u001b[1;32m    719\u001b[0m \u001b[43m    \u001b[49m\u001b[43mtimeout\u001b[49m\u001b[38;5;241;43m=\u001b[39;49m\u001b[43mtimeout_obj\u001b[49m\u001b[43m,\u001b[49m\n\u001b[1;32m    720\u001b[0m \u001b[43m    \u001b[49m\u001b[43mbody\u001b[49m\u001b[38;5;241;43m=\u001b[39;49m\u001b[43mbody\u001b[49m\u001b[43m,\u001b[49m\n\u001b[1;32m    721\u001b[0m \u001b[43m    \u001b[49m\u001b[43mheaders\u001b[49m\u001b[38;5;241;43m=\u001b[39;49m\u001b[43mheaders\u001b[49m\u001b[43m,\u001b[49m\n\u001b[1;32m    722\u001b[0m \u001b[43m    \u001b[49m\u001b[43mchunked\u001b[49m\u001b[38;5;241;43m=\u001b[39;49m\u001b[43mchunked\u001b[49m\u001b[43m,\u001b[49m\n\u001b[1;32m    723\u001b[0m \u001b[43m\u001b[49m\u001b[43m)\u001b[49m\n\u001b[1;32m    725\u001b[0m \u001b[38;5;66;03m# If we're going to release the connection in ``finally:``, then\u001b[39;00m\n\u001b[1;32m    726\u001b[0m \u001b[38;5;66;03m# the response doesn't need to know about the connection. Otherwise\u001b[39;00m\n\u001b[1;32m    727\u001b[0m \u001b[38;5;66;03m# it will also try to release it and we'll have a double-release\u001b[39;00m\n\u001b[1;32m    728\u001b[0m \u001b[38;5;66;03m# mess.\u001b[39;00m\n\u001b[1;32m    729\u001b[0m response_conn \u001b[38;5;241m=\u001b[39m conn \u001b[38;5;28;01mif\u001b[39;00m \u001b[38;5;129;01mnot\u001b[39;00m release_conn \u001b[38;5;28;01melse\u001b[39;00m \u001b[38;5;28;01mNone\u001b[39;00m\n",
      "File \u001b[0;32m/opt/conda/lib/python3.10/site-packages/urllib3/connectionpool.py:404\u001b[0m, in \u001b[0;36mHTTPConnectionPool._make_request\u001b[0;34m(self, conn, method, url, timeout, chunked, **httplib_request_kw)\u001b[0m\n\u001b[1;32m    402\u001b[0m \u001b[38;5;66;03m# Trigger any extra validation we need to do.\u001b[39;00m\n\u001b[1;32m    403\u001b[0m \u001b[38;5;28;01mtry\u001b[39;00m:\n\u001b[0;32m--> 404\u001b[0m     \u001b[38;5;28;43mself\u001b[39;49m\u001b[38;5;241;43m.\u001b[39;49m\u001b[43m_validate_conn\u001b[49m\u001b[43m(\u001b[49m\u001b[43mconn\u001b[49m\u001b[43m)\u001b[49m\n\u001b[1;32m    405\u001b[0m \u001b[38;5;28;01mexcept\u001b[39;00m (SocketTimeout, BaseSSLError) \u001b[38;5;28;01mas\u001b[39;00m e:\n\u001b[1;32m    406\u001b[0m     \u001b[38;5;66;03m# Py2 raises this as a BaseSSLError, Py3 raises it as socket timeout.\u001b[39;00m\n\u001b[1;32m    407\u001b[0m     \u001b[38;5;28mself\u001b[39m\u001b[38;5;241m.\u001b[39m_raise_timeout(err\u001b[38;5;241m=\u001b[39me, url\u001b[38;5;241m=\u001b[39murl, timeout_value\u001b[38;5;241m=\u001b[39mconn\u001b[38;5;241m.\u001b[39mtimeout)\n",
      "File \u001b[0;32m/opt/conda/lib/python3.10/site-packages/urllib3/connectionpool.py:1058\u001b[0m, in \u001b[0;36mHTTPSConnectionPool._validate_conn\u001b[0;34m(self, conn)\u001b[0m\n\u001b[1;32m   1056\u001b[0m \u001b[38;5;66;03m# Force connect early to allow us to validate the connection.\u001b[39;00m\n\u001b[1;32m   1057\u001b[0m \u001b[38;5;28;01mif\u001b[39;00m \u001b[38;5;129;01mnot\u001b[39;00m \u001b[38;5;28mgetattr\u001b[39m(conn, \u001b[38;5;124m\"\u001b[39m\u001b[38;5;124msock\u001b[39m\u001b[38;5;124m\"\u001b[39m, \u001b[38;5;28;01mNone\u001b[39;00m):  \u001b[38;5;66;03m# AppEngine might not have  `.sock`\u001b[39;00m\n\u001b[0;32m-> 1058\u001b[0m     \u001b[43mconn\u001b[49m\u001b[38;5;241;43m.\u001b[39;49m\u001b[43mconnect\u001b[49m\u001b[43m(\u001b[49m\u001b[43m)\u001b[49m\n\u001b[1;32m   1060\u001b[0m \u001b[38;5;28;01mif\u001b[39;00m \u001b[38;5;129;01mnot\u001b[39;00m conn\u001b[38;5;241m.\u001b[39mis_verified:\n\u001b[1;32m   1061\u001b[0m     warnings\u001b[38;5;241m.\u001b[39mwarn(\n\u001b[1;32m   1062\u001b[0m         (\n\u001b[1;32m   1063\u001b[0m             \u001b[38;5;124m\"\u001b[39m\u001b[38;5;124mUnverified HTTPS request is being made to host \u001b[39m\u001b[38;5;124m'\u001b[39m\u001b[38;5;132;01m%s\u001b[39;00m\u001b[38;5;124m'\u001b[39m\u001b[38;5;124m. \u001b[39m\u001b[38;5;124m\"\u001b[39m\n\u001b[0;32m   (...)\u001b[0m\n\u001b[1;32m   1068\u001b[0m         InsecureRequestWarning,\n\u001b[1;32m   1069\u001b[0m     )\n",
      "File \u001b[0;32m/opt/conda/lib/python3.10/site-packages/urllib3/connection.py:363\u001b[0m, in \u001b[0;36mHTTPSConnection.connect\u001b[0;34m(self)\u001b[0m\n\u001b[1;32m    361\u001b[0m \u001b[38;5;28;01mdef\u001b[39;00m \u001b[38;5;21mconnect\u001b[39m(\u001b[38;5;28mself\u001b[39m):\n\u001b[1;32m    362\u001b[0m     \u001b[38;5;66;03m# Add certificate verification\u001b[39;00m\n\u001b[0;32m--> 363\u001b[0m     \u001b[38;5;28mself\u001b[39m\u001b[38;5;241m.\u001b[39msock \u001b[38;5;241m=\u001b[39m conn \u001b[38;5;241m=\u001b[39m \u001b[38;5;28;43mself\u001b[39;49m\u001b[38;5;241;43m.\u001b[39;49m\u001b[43m_new_conn\u001b[49m\u001b[43m(\u001b[49m\u001b[43m)\u001b[49m\n\u001b[1;32m    364\u001b[0m     hostname \u001b[38;5;241m=\u001b[39m \u001b[38;5;28mself\u001b[39m\u001b[38;5;241m.\u001b[39mhost\n\u001b[1;32m    365\u001b[0m     tls_in_tls \u001b[38;5;241m=\u001b[39m \u001b[38;5;28;01mFalse\u001b[39;00m\n",
      "File \u001b[0;32m/opt/conda/lib/python3.10/site-packages/urllib3/connection.py:174\u001b[0m, in \u001b[0;36mHTTPConnection._new_conn\u001b[0;34m(self)\u001b[0m\n\u001b[1;32m    171\u001b[0m     extra_kw[\u001b[38;5;124m\"\u001b[39m\u001b[38;5;124msocket_options\u001b[39m\u001b[38;5;124m\"\u001b[39m] \u001b[38;5;241m=\u001b[39m \u001b[38;5;28mself\u001b[39m\u001b[38;5;241m.\u001b[39msocket_options\n\u001b[1;32m    173\u001b[0m \u001b[38;5;28;01mtry\u001b[39;00m:\n\u001b[0;32m--> 174\u001b[0m     conn \u001b[38;5;241m=\u001b[39m \u001b[43mconnection\u001b[49m\u001b[38;5;241;43m.\u001b[39;49m\u001b[43mcreate_connection\u001b[49m\u001b[43m(\u001b[49m\n\u001b[1;32m    175\u001b[0m \u001b[43m        \u001b[49m\u001b[43m(\u001b[49m\u001b[38;5;28;43mself\u001b[39;49m\u001b[38;5;241;43m.\u001b[39;49m\u001b[43m_dns_host\u001b[49m\u001b[43m,\u001b[49m\u001b[43m \u001b[49m\u001b[38;5;28;43mself\u001b[39;49m\u001b[38;5;241;43m.\u001b[39;49m\u001b[43mport\u001b[49m\u001b[43m)\u001b[49m\u001b[43m,\u001b[49m\u001b[43m \u001b[49m\u001b[38;5;28;43mself\u001b[39;49m\u001b[38;5;241;43m.\u001b[39;49m\u001b[43mtimeout\u001b[49m\u001b[43m,\u001b[49m\u001b[43m \u001b[49m\u001b[38;5;241;43m*\u001b[39;49m\u001b[38;5;241;43m*\u001b[39;49m\u001b[43mextra_kw\u001b[49m\n\u001b[1;32m    176\u001b[0m \u001b[43m    \u001b[49m\u001b[43m)\u001b[49m\n\u001b[1;32m    178\u001b[0m \u001b[38;5;28;01mexcept\u001b[39;00m SocketTimeout:\n\u001b[1;32m    179\u001b[0m     \u001b[38;5;28;01mraise\u001b[39;00m ConnectTimeoutError(\n\u001b[1;32m    180\u001b[0m         \u001b[38;5;28mself\u001b[39m,\n\u001b[1;32m    181\u001b[0m         \u001b[38;5;124m\"\u001b[39m\u001b[38;5;124mConnection to \u001b[39m\u001b[38;5;132;01m%s\u001b[39;00m\u001b[38;5;124m timed out. (connect timeout=\u001b[39m\u001b[38;5;132;01m%s\u001b[39;00m\u001b[38;5;124m)\u001b[39m\u001b[38;5;124m\"\u001b[39m\n\u001b[1;32m    182\u001b[0m         \u001b[38;5;241m%\u001b[39m (\u001b[38;5;28mself\u001b[39m\u001b[38;5;241m.\u001b[39mhost, \u001b[38;5;28mself\u001b[39m\u001b[38;5;241m.\u001b[39mtimeout),\n\u001b[1;32m    183\u001b[0m     )\n",
      "File \u001b[0;32m/opt/conda/lib/python3.10/site-packages/urllib3/util/connection.py:72\u001b[0m, in \u001b[0;36mcreate_connection\u001b[0;34m(address, timeout, source_address, socket_options)\u001b[0m\n\u001b[1;32m     67\u001b[0m \u001b[38;5;28;01mexcept\u001b[39;00m \u001b[38;5;167;01mUnicodeError\u001b[39;00m:\n\u001b[1;32m     68\u001b[0m     \u001b[38;5;28;01mreturn\u001b[39;00m six\u001b[38;5;241m.\u001b[39mraise_from(\n\u001b[1;32m     69\u001b[0m         LocationParseError(\u001b[38;5;124mu\u001b[39m\u001b[38;5;124m\"\u001b[39m\u001b[38;5;124m'\u001b[39m\u001b[38;5;132;01m%s\u001b[39;00m\u001b[38;5;124m'\u001b[39m\u001b[38;5;124m, label empty or too long\u001b[39m\u001b[38;5;124m\"\u001b[39m \u001b[38;5;241m%\u001b[39m host), \u001b[38;5;28;01mNone\u001b[39;00m\n\u001b[1;32m     70\u001b[0m     )\n\u001b[0;32m---> 72\u001b[0m \u001b[38;5;28;01mfor\u001b[39;00m res \u001b[38;5;129;01min\u001b[39;00m \u001b[43msocket\u001b[49m\u001b[38;5;241;43m.\u001b[39;49m\u001b[43mgetaddrinfo\u001b[49m\u001b[43m(\u001b[49m\u001b[43mhost\u001b[49m\u001b[43m,\u001b[49m\u001b[43m \u001b[49m\u001b[43mport\u001b[49m\u001b[43m,\u001b[49m\u001b[43m \u001b[49m\u001b[43mfamily\u001b[49m\u001b[43m,\u001b[49m\u001b[43m \u001b[49m\u001b[43msocket\u001b[49m\u001b[38;5;241;43m.\u001b[39;49m\u001b[43mSOCK_STREAM\u001b[49m\u001b[43m)\u001b[49m:\n\u001b[1;32m     73\u001b[0m     af, socktype, proto, canonname, sa \u001b[38;5;241m=\u001b[39m res\n\u001b[1;32m     74\u001b[0m     sock \u001b[38;5;241m=\u001b[39m \u001b[38;5;28;01mNone\u001b[39;00m\n",
      "File \u001b[0;32m/opt/conda/lib/python3.10/socket.py:955\u001b[0m, in \u001b[0;36mgetaddrinfo\u001b[0;34m(host, port, family, type, proto, flags)\u001b[0m\n\u001b[1;32m    952\u001b[0m \u001b[38;5;66;03m# We override this function since we want to translate the numeric family\u001b[39;00m\n\u001b[1;32m    953\u001b[0m \u001b[38;5;66;03m# and socket type values to enum constants.\u001b[39;00m\n\u001b[1;32m    954\u001b[0m addrlist \u001b[38;5;241m=\u001b[39m []\n\u001b[0;32m--> 955\u001b[0m \u001b[38;5;28;01mfor\u001b[39;00m res \u001b[38;5;129;01min\u001b[39;00m \u001b[43m_socket\u001b[49m\u001b[38;5;241;43m.\u001b[39;49m\u001b[43mgetaddrinfo\u001b[49m\u001b[43m(\u001b[49m\u001b[43mhost\u001b[49m\u001b[43m,\u001b[49m\u001b[43m \u001b[49m\u001b[43mport\u001b[49m\u001b[43m,\u001b[49m\u001b[43m \u001b[49m\u001b[43mfamily\u001b[49m\u001b[43m,\u001b[49m\u001b[43m \u001b[49m\u001b[38;5;28;43mtype\u001b[39;49m\u001b[43m,\u001b[49m\u001b[43m \u001b[49m\u001b[43mproto\u001b[49m\u001b[43m,\u001b[49m\u001b[43m \u001b[49m\u001b[43mflags\u001b[49m\u001b[43m)\u001b[49m:\n\u001b[1;32m    956\u001b[0m     af, socktype, proto, canonname, sa \u001b[38;5;241m=\u001b[39m res\n\u001b[1;32m    957\u001b[0m     addrlist\u001b[38;5;241m.\u001b[39mappend((_intenum_converter(af, AddressFamily),\n\u001b[1;32m    958\u001b[0m                      _intenum_converter(socktype, SocketKind),\n\u001b[1;32m    959\u001b[0m                      proto, canonname, sa))\n",
      "\u001b[0;31mKeyboardInterrupt\u001b[0m: "
     ]
    }
   ],
   "source": [
    "\n",
    "added_inchis = set()\n",
    "for f in tqdm(npmrd_files_txt_only):\n",
    "  \n",
    "    if f.split(\"_\")[0] not in NP_to_inchi: #no inchi npmrd case\n",
    "        continue\n",
    "    inchi =  NP_to_inchi[f.split(\"_\")[0]]\n",
    "    if inchi in added_inchis: # do not repeat work\n",
    "        continue \n",
    "    if inchi:\n",
    "        if inchi not in inchi_to_file_path: # no same compound in smart dataset\n",
    "            continue\n",
    "        c_tensor, h_tensor = get_nmr_tensors(os.path.join(NP_MRD_FILES_dir, f))\n",
    "        if len(c_tensor) == 0 and len(h_tensor)==0:\n",
    "            continue\n",
    "        solvent = get_solvent_from_file_name(f)\n",
    "        file_path = inchi_to_file_path[inchi][-1]\n",
    "        torch.save([c_tensor, h_tensor, solvent], '/workspace/SMILES_dataset/'+file_path )\n",
    "        added_inchis.add(inchi)\n",
    "    \n",
    "    "
   ]
  },
  {
   "cell_type": "code",
   "execution_count": null,
   "metadata": {},
   "outputs": [],
   "source": []
  }
 ],
 "metadata": {
  "kernelspec": {
   "display_name": "base",
   "language": "python",
   "name": "python3"
  },
  "language_info": {
   "codemirror_mode": {
    "name": "ipython",
    "version": 3
   },
   "file_extension": ".py",
   "mimetype": "text/x-python",
   "name": "python",
   "nbconvert_exporter": "python",
   "pygments_lexer": "ipython3",
   "version": "3.10.13"
  }
 },
 "nbformat": 4,
 "nbformat_minor": 2
}
