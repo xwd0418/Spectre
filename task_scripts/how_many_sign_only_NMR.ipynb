{
 "cells": [
  {
   "cell_type": "code",
   "execution_count": 6,
   "metadata": {},
   "outputs": [],
   "source": [
    "import os, torch\n",
    "file_dir = \"/workspace/SMILES_dataset/train/HSQC/\"\n",
    "files = os.listdir(file_dir)\n",
    "sign_only = 0\n",
    "for file in files:\n",
    "    hsqc = torch.load(file_dir + file)\n",
    "    if hsqc[0][2] == torch.sign(hsqc[0][2]):\n",
    "        sign_only +=1"
   ]
  },
  {
   "cell_type": "code",
   "execution_count": 7,
   "metadata": {},
   "outputs": [
    {
     "data": {
      "text/plain": [
       "(16688, 109694)"
      ]
     },
     "execution_count": 7,
     "metadata": {},
     "output_type": "execute_result"
    }
   ],
   "source": [
    "sign_only, len(files)"
   ]
  },
  {
   "cell_type": "code",
   "execution_count": 8,
   "metadata": {},
   "outputs": [
    {
     "data": {
      "text/plain": [
       "tensor([[ 1.2646e+02,  6.4622e+00, -4.8412e+03],\n",
       "        [ 1.2646e+02,  5.7706e+00, -6.1926e+03],\n",
       "        [ 5.5670e+01,  1.5951e+00,  4.7514e+03],\n",
       "        [ 4.0870e+01,  1.8601e+00, -6.2033e+03],\n",
       "        [ 4.0870e+01,  1.6610e+00, -9.6669e+03],\n",
       "        [ 3.5290e+01,  1.9727e+00, -4.7406e+03],\n",
       "        [ 3.5290e+01,  1.6414e+00, -4.1599e+03],\n",
       "        [ 3.4160e+01,  1.7707e+00, -5.3374e+03],\n",
       "        [ 3.4160e+01,  1.5354e+00, -6.2033e+03],\n",
       "        [ 3.3620e+01,  2.9978e+00,  2.9932e+03],\n",
       "        [ 3.3330e+01,  1.6269e+00,  4.1599e+03],\n",
       "        [ 3.0660e+01,  1.6035e+00, -7.5441e+03],\n",
       "        [ 3.0660e+01,  1.2882e+00, -4.8411e+03],\n",
       "        [ 2.4720e+01,  1.7710e+00, -5.3374e+03],\n",
       "        [ 2.4720e+01,  1.3495e+00, -6.2033e+03],\n",
       "        [ 2.3290e+01,  1.3000e+00,  1.8879e+04],\n",
       "        [ 1.9180e+01,  9.9587e-01,  1.2480e+04]], dtype=torch.float64)"
      ]
     },
     "execution_count": 8,
     "metadata": {},
     "output_type": "execute_result"
    }
   ],
   "source": [
    "hsqc"
   ]
  },
  {
   "cell_type": "code",
   "execution_count": null,
   "metadata": {},
   "outputs": [],
   "source": []
  }
 ],
 "metadata": {
  "kernelspec": {
   "display_name": "base",
   "language": "python",
   "name": "python3"
  },
  "language_info": {
   "codemirror_mode": {
    "name": "ipython",
    "version": 3
   },
   "file_extension": ".py",
   "mimetype": "text/x-python",
   "name": "python",
   "nbconvert_exporter": "python",
   "pygments_lexer": "ipython3",
   "version": "3.10.13"
  }
 },
 "nbformat": 4,
 "nbformat_minor": 2
}
