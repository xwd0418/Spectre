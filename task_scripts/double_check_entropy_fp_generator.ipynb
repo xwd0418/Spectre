{
 "cells": [
  {
   "cell_type": "code",
   "execution_count": 1,
   "metadata": {},
   "outputs": [
    {
     "name": "stderr",
     "output_type": "stream",
     "text": [
      "/tmp/ipykernel_1691/2642187582.py:2: DeprecationWarning: the imp module is deprecated in favour of importlib and slated for removal in Python 3.12; see the module's documentation for alternative uses\n",
      "  import imp\n"
     ]
    }
   ],
   "source": [
    "import numpy as np, torch, os, pickle\n",
    "import imp\n",
    "smart = imp.load_source('/root/gurusmart/MorganFP_prediction/reproduce_previous_works/smart4.5/datasets/', '/root/gurusmart/MorganFP_prediction/reproduce_previous_works/smart4.5/datasets/dataset_utils.py')\n",
    "    \n",
    "    \n",
    "    \n",
    "    \n",
    "\n"
   ]
  },
  {
   "cell_type": "code",
   "execution_count": 3,
   "metadata": {},
   "outputs": [
    {
     "name": "stdout",
     "output_type": "stream",
     "text": [
      "fingerprint R0-to-R1, entropy of each bit is 0.0181\n",
      "fingerprint R0-to-R2, entropy of each bit is 0.0582\n",
      "fingerprint R0-to-R3, entropy of each bit is 0.0959\n",
      "fingerprint R0-to-R4, entropy of each bit is 0.1259\n",
      "fingerprint R0-to-R5, entropy of each bit is 0.1496\n",
      "fingerprint R0-to-R6, entropy of each bit is 0.1687\n",
      "fingerprint R0-to-R7, entropy of each bit is 0.1849\n",
      "fingerprint R0-to-R8, entropy of each bit is 0.1988\n",
      "fingerprint R0-to-R9, entropy of each bit is 0.2111\n",
      "fingerprint R0-to-R10, entropy of each bit is 0.2222\n",
      "fingerprint R0-to-R11, entropy of each bit is 0.2322\n",
      "fingerprint R0-to-R12, entropy of each bit is 0.2414\n",
      "fingerprint R0-to-R13, entropy of each bit is 0.2499\n",
      "fingerprint R0-to-R14, entropy of each bit is 0.2578\n",
      "fingerprint R0-to-R15, entropy of each bit is 0.2653\n"
     ]
    }
   ],
   "source": [
    "for i in range(1,16):\n",
    "    builder = smart.Specific_Radius_MFP_loader()\n",
    "    builder.setup()\n",
    "    builder.set_max_radius(i)\n",
    "    print(f\"fingerprint R0-to-R{i}, entropy of each bit is {-builder.entropy/6144 :.4f}\")\n",
    "    # print(builder.__entropy)\n",
    "    # break"
   ]
  },
  {
   "cell_type": "code",
   "execution_count": 4,
   "metadata": {},
   "outputs": [
    {
     "data": {
      "text/plain": [
       "0.75"
      ]
     },
     "execution_count": 4,
     "metadata": {},
     "output_type": "execute_result"
    }
   ],
   "source": [
    "3/4"
   ]
  },
  {
   "cell_type": "code",
   "execution_count": 3,
   "metadata": {},
   "outputs": [],
   "source": [
    "val_2d_path  = '/workspace/SMILES_dataset/val/R0_to_R4_reduced_FP/'\n",
    "val_2d_files = os.listdir(val_2d_path)\n",
    "# val_2d_files[:10]"
   ]
  },
  {
   "cell_type": "code",
   "execution_count": 4,
   "metadata": {},
   "outputs": [
    {
     "name": "stdout",
     "output_type": "stream",
     "text": [
      "print all input:  [  0.  10.   0. ... 503. 843. 856.] 109793 6144 True\n",
      "[-0.36787911 -0.36786846 -0.36785804 ... -0.04420198 -0.04420198\n",
      " -0.04416866]\n"
     ]
    }
   ],
   "source": [
    "import torch\n",
    "from pathlib import Path\n",
    "builder.set_max_radius(4,only_2d=True)\n",
    "built_rankingset = builder.build_rankingset('2d', 'val')\n",
    "load_rankingset = torch.load('/workspace/ranking_sets_cleaned_by_inchi/SMILES_R0_to_R4_reduced_FP_ranking_sets/val/rankingset.pt')\n",
    "    "
   ]
  },
  {
   "cell_type": "code",
   "execution_count": 5,
   "metadata": {},
   "outputs": [
    {
     "data": {
      "text/plain": [
       "(torch.Size([11151, 6144]), torch.Size([11151, 6144]))"
      ]
     },
     "execution_count": 5,
     "metadata": {},
     "output_type": "execute_result"
    }
   ],
   "source": [
    "load_rankingset.shape, built_rankingset.shape"
   ]
  },
  {
   "cell_type": "code",
   "execution_count": 6,
   "metadata": {},
   "outputs": [
    {
     "data": {
      "text/plain": [
       "tensor([[ True,  True,  True,  ...,  True,  True,  True],\n",
       "        [ True,  True,  True,  ...,  True,  True,  True],\n",
       "        [ True,  True,  True,  ...,  True,  True,  True],\n",
       "        ...,\n",
       "        [False, False, False,  ...,  True,  True,  True],\n",
       "        [False, False, False,  ...,  True,  True,  True],\n",
       "        [False, False, False,  ...,  True,  True,  True]])"
      ]
     },
     "execution_count": 6,
     "metadata": {},
     "output_type": "execute_result"
    }
   ],
   "source": [
    "load_rankingset == built_rankingset"
   ]
  },
  {
   "cell_type": "code",
   "execution_count": 7,
   "metadata": {},
   "outputs": [
    {
     "data": {
      "text/plain": [
       "tensor(True)"
      ]
     },
     "execution_count": 7,
     "metadata": {},
     "output_type": "execute_result"
    }
   ],
   "source": [
    "(load_rankingset.sum(dim=0) == built_rankingset.sum(dim=0)).all()"
   ]
  },
  {
   "cell_type": "code",
   "execution_count": null,
   "metadata": {},
   "outputs": [],
   "source": []
  },
  {
   "cell_type": "code",
   "execution_count": 8,
   "metadata": {},
   "outputs": [
    {
     "data": {
      "text/plain": [
       "torch.Size([6144])"
      ]
     },
     "execution_count": 8,
     "metadata": {},
     "output_type": "execute_result"
    }
   ],
   "source": [
    "load_rankingset.sum(dim=0).shape"
   ]
  },
  {
   "cell_type": "code",
   "execution_count": 20,
   "metadata": {},
   "outputs": [
    {
     "data": {
      "text/plain": [
       "tensor([3903., 3937., 3948.,  ...,  113.,   91.,   95.])"
      ]
     },
     "execution_count": 20,
     "metadata": {},
     "output_type": "execute_result"
    }
   ],
   "source": [
    "(load_rankingset.sum(dim=0))"
   ]
  },
  {
   "cell_type": "code",
   "execution_count": 14,
   "metadata": {},
   "outputs": [
    {
     "data": {
      "text/plain": [
       "tensor([[ True,  True,  True,  ...,  True,  True,  True],\n",
       "        [ True,  True,  True,  ...,  True,  True,  True],\n",
       "        [ True,  True,  True,  ...,  True,  True,  True],\n",
       "        ...,\n",
       "        [False, False, False,  ...,  True,  True,  True],\n",
       "        [False, False, False,  ...,  True,  True,  True],\n",
       "        [False, False, False,  ...,  True,  True,  True]])"
      ]
     },
     "execution_count": 14,
     "metadata": {},
     "output_type": "execute_result"
    }
   ],
   "source": [
    "load_rankingset == built_rankingset"
   ]
  },
  {
   "cell_type": "code",
   "execution_count": null,
   "metadata": {},
   "outputs": [],
   "source": []
  }
 ],
 "metadata": {
  "kernelspec": {
   "display_name": "base",
   "language": "python",
   "name": "python3"
  },
  "language_info": {
   "codemirror_mode": {
    "name": "ipython",
    "version": 3
   },
   "file_extension": ".py",
   "mimetype": "text/x-python",
   "name": "python",
   "nbconvert_exporter": "python",
   "pygments_lexer": "ipython3",
   "version": "3.10.13"
  }
 },
 "nbformat": 4,
 "nbformat_minor": 2
}
