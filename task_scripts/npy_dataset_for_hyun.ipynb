{
 "cells": [
  {
   "cell_type": "code",
   "execution_count": 1,
   "metadata": {},
   "outputs": [],
   "source": [
    "import pickle, os, torch , numpy as np\n",
    "from pathlib import Path\n",
    "\n",
    "save_path = Path('/worksapce_hyun')\n",
    "os.makedirs(save_path, exist_ok=True)\n",
    "\n",
    "data_input_path = Path('/workspace/SMILES_dataset')\n"
   ]
  },
  {
   "cell_type": "code",
   "execution_count": 4,
   "metadata": {},
   "outputs": [],
   "source": [
    "import tqdm"
   ]
  },
  {
   "cell_type": "code",
   "execution_count": 6,
   "metadata": {},
   "outputs": [
    {
     "name": "stderr",
     "output_type": "stream",
     "text": [
      "100%|██████████| 109694/109694 [00:28<00:00, 3852.84it/s]\n",
      "100%|██████████| 109694/109694 [00:48<00:00, 2267.61it/s]\n",
      "100%|██████████| 13738/13738 [00:03<00:00, 4244.03it/s]\n",
      "100%|██████████| 13738/13738 [00:08<00:00, 1570.50it/s]\n",
      "100%|██████████| 13630/13630 [00:04<00:00, 2999.71it/s]\n",
      "100%|██████████| 13630/13630 [00:08<00:00, 1522.31it/s]\n"
     ]
    }
   ],
   "source": [
    "\n",
    "for split in ['train', 'val', 'test']:\n",
    "    smiles_pickle = pickle.load(open(data_input_path / split/ \"SMILES/index.pkl\", 'rb'))\n",
    "    os.makedirs(save_path / split / \"SMILES\", exist_ok=True)\n",
    "    with open(save_path / split/ \"SMILES/index.pkl\", 'wb') as f:\n",
    "        pickle.dump(smiles_pickle, f)\n",
    "        \n",
    "    # write  hsqc \n",
    "    files = os.listdir(data_input_path / split / \"HSQC\")\n",
    "    os.makedirs(save_path / split / \"HSQC_coordinates\", exist_ok=True)\n",
    "    for file in tqdm.tqdm(files):\n",
    "        hsqc = torch.load(data_input_path / split / \"HSQC\" / file).numpy()\n",
    "        np.save(save_path / split / \"HSQC_coordinates\" / file.replace(\"pt\", \"npy\"), hsqc)\n",
    "        \n",
    "    # # write  HSQC_images\n",
    "    # files = os.listdir(data_input_path / split / \"HSQC_images\")\n",
    "    # os.makedirs(save_path / split / \"HSQC_images\", exist_ok=True)\n",
    "    # for file in tqdm.tqdm(files):\n",
    "    #     hsqc = torch.load(data_input_path / split / \"HSQC_images\" / file).numpy()\n",
    "    #     np.save(save_path / split / \"HSQC_images\" / file.replace(\"pt\", \"npy\"), hsqc)\n",
    "        \n",
    "    # write HYUN_FP\n",
    "    files = os.listdir(data_input_path / split / \"HYUN_FP\")\n",
    "    os.makedirs(save_path / split / \"HYUN_FP\", exist_ok=True)\n",
    "    for file in tqdm.tqdm(files):\n",
    "        hsqc = torch.load(data_input_path / split / \"HYUN_FP\" / file).numpy()\n",
    "        np.save(save_path / split / \"HYUN_FP\" / file.replace(\"pt\", \"npy\"), hsqc)"
   ]
  },
  {
   "cell_type": "code",
   "execution_count": null,
   "metadata": {},
   "outputs": [],
   "source": []
  }
 ],
 "metadata": {
  "kernelspec": {
   "display_name": "base",
   "language": "python",
   "name": "python3"
  },
  "language_info": {
   "codemirror_mode": {
    "name": "ipython",
    "version": 3
   },
   "file_extension": ".py",
   "mimetype": "text/x-python",
   "name": "python",
   "nbconvert_exporter": "python",
   "pygments_lexer": "ipython3",
   "version": "3.10.13"
  }
 },
 "nbformat": 4,
 "nbformat_minor": 2
}
