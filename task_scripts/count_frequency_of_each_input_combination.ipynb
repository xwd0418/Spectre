{
 "cells": [
  {
   "cell_type": "code",
   "execution_count": 12,
   "metadata": {},
   "outputs": [],
   "source": [
    "import torch, pickle\n",
    "import numpy as np\n",
    "from collections import Counter\n",
    "import os, tqdm\n",
    "from collections import defaultdict\n",
    "from pathlib import Path"
   ]
  },
  {
   "cell_type": "code",
   "execution_count": null,
   "metadata": {},
   "outputs": [],
   "source": []
  },
  {
   "cell_type": "markdown",
   "metadata": {},
   "source": [
    "We want to have (as much as possible) balanced input combinations\n",
    "\n",
    "Step 1. figure out the frequency of each combination \n",
    "\n",
    "Step 2. Decide the rate to drop"
   ]
  },
  {
   "cell_type": "code",
   "execution_count": 13,
   "metadata": {},
   "outputs": [],
   "source": [
    "def filter_1d(x):\n",
    "    \n",
    "    if os.path.exists(x) == False:\n",
    "        return False\n",
    "    c_tensor, h_tensor = torch.load(x)\n",
    "    return len(c_tensor)>0 or len(h_tensor)>0\n",
    "\n",
    "def filter_H(x):\n",
    "    if os.path.exists(x) == False:\n",
    "        return False\n",
    "    c_tensor, h_tensor = torch.load(x)\n",
    "    return len(h_tensor)>0\n",
    "\n",
    "def filter_C(x):\n",
    "    if os.path.exists(x) == False:\n",
    "        return False\n",
    "    c_tensor, h_tensor = torch.load(x)\n",
    "    return len(c_tensor)>0 \n",
    "\n",
    "def filter_both(x):\n",
    "    if os.path.exists(x) == False:\n",
    "        return False\n",
    "    c_tensor, h_tensor = torch.load(x)\n",
    "    return len(c_tensor)>0 and len(h_tensor)>0"
   ]
  },
  {
   "cell_type": "code",
   "execution_count": 14,
   "metadata": {},
   "outputs": [
    {
     "name": "stdout",
     "output_type": "stream",
     "text": [
      "\n",
      "train\n",
      "Total 2D molecules: 109694\n",
      "Total num molecules that have 1D NMR: 63728 + 39686 = 103414\n",
      " --This means that 39686 molecules have 2D NMRs and 63728 don't\n",
      "Inside molecules that have 1D NMR:\n",
      "    have C: 103409\n",
      "    have H: 93374\n",
      "    have both 1d: 93370\n",
      "Inside molecules that have HSQC:\n",
      "  HSQC and C: 39685 | HSQC and H: 33203 | All 3: 33203 | Empty: 1\n",
      "Total molecules: 173422\n",
      "\n",
      "val\n",
      "Total 2D molecules: 13738\n",
      "Total num molecules that have 1D NMR: 7883 + 4910 = 12793\n",
      " --This means that 4910 molecules have 2D NMRs and 7883 don't\n",
      "Inside molecules that have 1D NMR:\n",
      "    have C: 12792\n",
      "    have H: 11482\n",
      "    have both 1d: 11481\n",
      "Inside molecules that have HSQC:\n",
      "  HSQC and C: 4910 | HSQC and H: 4056 | All 3: 4056 | Empty: 0\n",
      "Total molecules: 21621\n",
      "\n",
      "test\n",
      "Total 2D molecules: 13630\n",
      "Total num molecules that have 1D NMR: 7914 + 4865 = 12779\n",
      " --This means that 4865 molecules have 2D NMRs and 7914 don't\n",
      "Inside molecules that have 1D NMR:\n",
      "    have C: 12779\n",
      "    have H: 11500\n",
      "    have both 1d: 11500\n",
      "Inside molecules that have HSQC:\n",
      "  HSQC and C: 4865 | HSQC and H: 4056 | All 3: 4056 | Empty: 0\n",
      "Total molecules: 21544\n"
     ]
    }
   ],
   "source": [
    "'''Total molecules'''\n",
    "for split in ['train', 'val', 'test']:\n",
    "    print(f'\\n{split}')\n",
    "    path_2d = Path(f'/workspace/SMILES_dataset/{split}')\n",
    "    path_1d = Path(f'/workspace/OneD_Only_Dataset/{split}')\n",
    "    hsqc_2d = os.listdir(path_2d/'HSQC')\n",
    "    oneD_NMRs = os.listdir(path_1d/'oneD_NMR')\n",
    "    \n",
    "    oneds_that_merged_with_2d = os.listdir(path_2d/'oneD_NMR')\n",
    "    only_c = list(filter(filter_C, [ path_2d/'oneD_NMR'/f  for f in hsqc_2d])) + list(filter(filter_C,[ path_1d/'oneD_NMR'/f  for f in oneD_NMRs]))\n",
    "    only_h = list(filter(filter_H, [ path_2d/'oneD_NMR'/f  for f in hsqc_2d])) + list(filter(filter_H,[ path_1d/'oneD_NMR'/f  for f in oneD_NMRs]))\n",
    "    both_1d = list(filter(filter_both, [ path_2d/'oneD_NMR'/f  for f in hsqc_2d])) + list(filter(filter_both,[ path_1d/'oneD_NMR'/f  for f in oneD_NMRs]))\n",
    "    print(f'Total 2D molecules: {len(hsqc_2d)}')\n",
    "    print(f'Total num molecules that have 1D NMR: {len(oneD_NMRs)} + {len(oneds_that_merged_with_2d)} = {len(oneD_NMRs) + len(oneds_that_merged_with_2d)}')\n",
    "    print(f\" --This means that {len(oneds_that_merged_with_2d)} molecules have 2D NMRs and {len(oneD_NMRs)} don't\")\n",
    "    print(\"Inside molecules that have 1D NMR:\")\n",
    "    print(f'    have C: {len(only_c)}')\n",
    "    print(f'    have H: {len(only_h)}')\n",
    "    print(f'    have both 1d: {len(both_1d)}')\n",
    "    \n",
    "    \n",
    "    only_hsqc, hsqc_and_c, hsqc_and_h, all_3 = 0, 0, 0, 0\n",
    "    empty = []\n",
    "    for i in hsqc_2d:\n",
    "        # if file exists\n",
    "        if os.path.exists(path_2d / 'oneD_NMR'/ i):\n",
    "            c_tensor, h_tensor = torch.load(path_2d / 'oneD_NMR'/ i)\n",
    "            if len(c_tensor) > 0 and len(h_tensor) > 0:\n",
    "                all_3 += 1\n",
    "            elif len(c_tensor) > 0:\n",
    "                hsqc_and_c += 1\n",
    "            elif len(h_tensor) > 0:\n",
    "                hsqc_and_h += 1\n",
    "            else:\n",
    "                empty.append(i)\n",
    "        else:\n",
    "            only_hsqc += 1\n",
    "    # print(f'Only HSQC: {only_hsqc} | HSQC and C: {hsqc_and_c} | HSQC and H: {hsqc_and_h} | All 3: {all_3} | Empty: {len(empty)}')\n",
    "    # print('which means we have the following available:')\n",
    "    print(\"Inside molecules that have HSQC:\")\n",
    "    print(f'  HSQC and C: {hsqc_and_c+all_3} | HSQC and H: {hsqc_and_h+all_3} | All 3: {all_3} | Empty: {len(empty)}')\n",
    "    \n",
    "    print(f'Total molecules: {len(hsqc_2d) + len(oneD_NMRs)}')"
   ]
  },
  {
   "cell_type": "code",
   "execution_count": 15,
   "metadata": {},
   "outputs": [
    {
     "name": "stdout",
     "output_type": "stream",
     "text": [
      "\n",
      "val\n",
      " HSQC and C: 4910 | HSQC and H: 4056 | All 3: 4056 | Empty: 0\n",
      "\n",
      "test\n",
      " HSQC and C: 4865 | HSQC and H: 4056 | All 3: 4056 | Empty: 0\n",
      "\n",
      "train\n",
      " HSQC and C: 39685 | HSQC and H: 33203 | All 3: 33203 | Empty: 1\n"
     ]
    }
   ],
   "source": [
    "for split in [ 'val', 'test', 'train']:\n",
    "    print(f'\\n{split}')\n",
    "    path_2d = Path(f'/workspace/SMILES_dataset/{split}')\n",
    "    path_1d = Path(f'/workspace/OneD_Only_Dataset/{split}')\n",
    "    hsqc_2d = os.listdir(path_2d/'HSQC')\n",
    "    oneD_NMRs = os.listdir(path_1d/'oneD_NMR')\n",
    "    \n",
    "    only_hsqc, hsqc_and_c, hsqc_and_h, all_3 = 0, 0, 0, 0\n",
    "    empty = []\n",
    "    for i in hsqc_2d:\n",
    "        # if file exists\n",
    "        if os.path.exists(path_2d / 'oneD_NMR'/ i):\n",
    "            c_tensor, h_tensor = torch.load(path_2d / 'oneD_NMR'/ i)\n",
    "            if len(c_tensor) > 0 and len(h_tensor) > 0:\n",
    "                all_3 += 1\n",
    "            elif len(c_tensor) > 0:\n",
    "                hsqc_and_c += 1\n",
    "            elif len(h_tensor) > 0:\n",
    "                hsqc_and_h += 1\n",
    "            else:\n",
    "                empty.append(i)\n",
    "        else:\n",
    "            only_hsqc += 1\n",
    "    # print(f'Only HSQC: {only_hsqc} | HSQC and C: {hsqc_and_c} | HSQC and H: {hsqc_and_h} | All 3: {all_3} | Empty: {len(empty)}')\n",
    "    # print('which means we have the following available:')\n",
    "    print(f' HSQC and C: {hsqc_and_c+all_3} | HSQC and H: {hsqc_and_h+all_3} | All 3: {all_3} | Empty: {len(empty)}')\n",
    "        "
   ]
  },
  {
   "cell_type": "code",
   "execution_count": null,
   "metadata": {},
   "outputs": [],
   "source": []
  },
  {
   "cell_type": "code",
   "execution_count": null,
   "metadata": {},
   "outputs": [],
   "source": []
  },
  {
   "cell_type": "code",
   "execution_count": 16,
   "metadata": {},
   "outputs": [
    {
     "name": "stdout",
     "output_type": "stream",
     "text": [
      "Only C: 3557 | Only H: 4 | Both C and H: 60167\n",
      "0\n"
     ]
    }
   ],
   "source": [
    "\"\"\"only both 1d\"\"\"\n",
    "only_c, only_h, c_and_h = 0, 0, 0\n",
    "empty = []\n",
    "for i in oneD_NMRs:\n",
    "    c_tensor, h_tensor = torch.load(path_1d / 'oneD_NMR'/ i)\n",
    "    if len(c_tensor) > 0 and len(h_tensor) > 0:\n",
    "        c_and_h += 1\n",
    "    elif len(c_tensor) > 0:\n",
    "        only_c += 1\n",
    "    elif len(h_tensor) > 0:\n",
    "        only_h += 1\n",
    "    else:\n",
    "        empty.append(i)\n",
    "        \n",
    "print(f'Only C: {only_c} | Only H: {only_h} | Both C and H: {c_and_h}')\n",
    "print(len(empty))\n",
    "    "
   ]
  },
  {
   "cell_type": "code",
   "execution_count": 17,
   "metadata": {},
   "outputs": [
    {
     "data": {
      "text/plain": [
       "{'only_hsqc': 70008,\n",
       " 'hsqc_and_c': 6482,\n",
       " 'hsqc_and_h': 0,\n",
       " 'all_3': 33203,\n",
       " 'only_c': 3557,\n",
       " 'only_h': 4,\n",
       " 'c_and_h': 60167}"
      ]
     },
     "execution_count": 17,
     "metadata": {},
     "output_type": "execute_result"
    }
   ],
   "source": [
    "summary = {\n",
    "    'only_hsqc': only_hsqc,\n",
    "    'hsqc_and_c': hsqc_and_c,\n",
    "    'hsqc_and_h': hsqc_and_h,\n",
    "    'all_3': all_3,\n",
    "    'only_c': only_c,\n",
    "    'only_h': only_h,\n",
    "    'c_and_h': c_and_h\n",
    "}\n",
    "summary"
   ]
  },
  {
   "cell_type": "code",
   "execution_count": 18,
   "metadata": {},
   "outputs": [],
   "source": [
    "#solve the equation:\n",
    "# hsqc_and_c + hsqc_and_c_from_all =  hsqc_and_h + hsqc_and_h_from_all\n",
    "# hsqc_and_h + hsqc_and_h_from_all =  all_3 - hsqc_and_c_from_all - hsqc_and_h_from_all\n",
    "\n",
    "\n",
    "# 2 * (hsqc_and_h + hsqc_and_h_from_all) = all_3 + hsqc_and_c - hsqc_and_h_from_all\n",
    "hsqc_and_h_from_all = int(( all_3 +  hsqc_and_c - 2 * hsqc_and_h) / 3)\n",
    "hsqc_and_c_from_all = hsqc_and_h + hsqc_and_h_from_all - hsqc_and_c "
   ]
  },
  {
   "cell_type": "code",
   "execution_count": 19,
   "metadata": {},
   "outputs": [
    {
     "name": "stdout",
     "output_type": "stream",
     "text": [
      "13228 13228 13229\n",
      "In 2D: drop H rate is 0.20317441195072736\n",
      "In 2D: drop C rate is 0.3983977351444147\n"
     ]
    }
   ],
   "source": [
    "print( hsqc_and_c + hsqc_and_c_from_all, hsqc_and_h + hsqc_and_h_from_all, all_3 - hsqc_and_c_from_all - hsqc_and_h_from_all)\n",
    "# assert(hsqc_and_c + hsqc_and_c_from_all == hsqc_and_h + hsqc_and_h_from_all == all_3 - hsqc_and_c_from_all - hsqc_and_h_from_all)\n",
    "print(f\"In 2D: drop H rate is {hsqc_and_c_from_all / (all_3)}\")\n",
    "print(f\"In 2D: drop C rate is {hsqc_and_h_from_all / (all_3)}\")"
   ]
  },
  {
   "cell_type": "code",
   "execution_count": 20,
   "metadata": {},
   "outputs": [],
   "source": [
    "H_from_oned = int((c_and_h + only_c - 2 * only_h) / 3)\n",
    "C_from_oned = only_h + H_from_oned - only_c"
   ]
  },
  {
   "cell_type": "code",
   "execution_count": 21,
   "metadata": {},
   "outputs": [
    {
     "name": "stdout",
     "output_type": "stream",
     "text": [
      "21242 21242 21244\n",
      "In 1D: drop H rate is 0.293931889574019\n",
      "In 1D: drop C rate is 0.3529841939933851\n"
     ]
    }
   ],
   "source": [
    "print(only_c + C_from_oned, only_h + H_from_oned, c_and_h - C_from_oned - H_from_oned)\n",
    "print(f\"In 1D: drop H rate is {C_from_oned / (c_and_h)}\")\n",
    "print(f\"In 1D: drop C rate is {H_from_oned / (c_and_h)}\")"
   ]
  },
  {
   "cell_type": "code",
   "execution_count": 22,
   "metadata": {},
   "outputs": [
    {
     "name": "stdout",
     "output_type": "stream",
     "text": [
      "all3, hsqc_and_c, hsqc_and_h rate:  is 0.07627680615381068\n",
      "only_c, only_h, c_and_c rate is 0.12248804931352028\n",
      "only_hsqc rate is 0.4036881346549726\n"
     ]
    }
   ],
   "source": [
    "total_count = sum(summary.values()) \n",
    "print(f\"all3, hsqc_and_c, hsqc_and_h rate:  is\", (hsqc_and_c + hsqc_and_c_from_all)/total_count)\n",
    "print(f\"only_c, only_h, c_and_c rate is\", (only_c + C_from_oned)/total_count)\n",
    "print(f\"only_hsqc rate is\", only_hsqc/total_count)"
   ]
  },
  {
   "cell_type": "markdown",
   "metadata": {},
   "source": []
  }
 ],
 "metadata": {
  "kernelspec": {
   "display_name": "base",
   "language": "python",
   "name": "python3"
  },
  "language_info": {
   "codemirror_mode": {
    "name": "ipython",
    "version": 3
   },
   "file_extension": ".py",
   "mimetype": "text/x-python",
   "name": "python",
   "nbconvert_exporter": "python",
   "pygments_lexer": "ipython3",
   "version": "3.10.13"
  }
 },
 "nbformat": 4,
 "nbformat_minor": 2
}
