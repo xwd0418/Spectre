{
 "cells": [
  {
   "cell_type": "markdown",
   "id": "d1fab8db",
   "metadata": {},
   "source": [
    "# Mass Spec Data Processing"
   ]
  },
  {
   "cell_type": "code",
   "execution_count": 1,
   "id": "1034f5f3",
   "metadata": {},
   "outputs": [
    {
     "name": "stderr",
     "output_type": "stream",
     "text": [
      "100%|██████████| 1884/1884 [10:58<00:00,  2.86it/s]\n"
     ]
    }
   ],
   "source": [
    "import os\n",
    "import json\n",
    "from tqdm import tqdm\n",
    "MS_DATA_PATH = '/root/gurusmart/json'\n",
    "all_data = []\n",
    "for filepath in tqdm(os.listdir(MS_DATA_PATH)):\n",
    "    all_data += json.load(open(os.path.join(MS_DATA_PATH, filepath), 'r'))"
   ]
  },
  {
   "cell_type": "code",
   "execution_count": 2,
   "id": "21355998",
   "metadata": {},
   "outputs": [
    {
     "name": "stderr",
     "output_type": "stream",
     "text": [
      "  3%|▎         | 4962/188385 [00:01<00:44, 4121.93it/s][21:52:13] WARNING: not removing hydrogen atom without neighbors\n",
      "  5%|▌         | 10028/188385 [00:02<00:42, 4176.82it/s][21:52:14] WARNING: not removing hydrogen atom without neighbors\n",
      " 14%|█▍        | 27167/188385 [00:06<00:39, 4062.97it/s][21:52:18] WARNING: not removing hydrogen atom without neighbors\n",
      " 36%|███▌      | 67618/188385 [00:16<00:29, 4043.10it/s][21:52:28] WARNING: not removing hydrogen atom without neighbors\n",
      " 37%|███▋      | 69265/188385 [00:16<00:29, 4096.00it/s][21:52:29] WARNING: not removing hydrogen atom without neighbors\n",
      " 40%|████      | 75524/188385 [00:18<00:27, 4109.30it/s][21:52:30] WARNING: not removing hydrogen atom without neighbors\n",
      " 41%|████▏     | 78027/188385 [00:18<00:27, 4077.34it/s][21:52:31] WARNING: not removing hydrogen atom without neighbors\n",
      " 43%|████▎     | 81751/188385 [00:19<00:25, 4127.51it/s][21:52:32] WARNING: not removing hydrogen atom without neighbors\n",
      " 45%|████▌     | 85090/188385 [00:20<00:24, 4180.42it/s][21:52:32] WARNING: not removing hydrogen atom without neighbors\n",
      " 49%|████▉     | 92992/188385 [00:22<00:22, 4156.42it/s][21:52:34] WARNING: not removing hydrogen atom without neighbors\n",
      " 50%|█████     | 94245/188385 [00:22<00:22, 4161.89it/s][21:52:35] WARNING: not removing hydrogen atom without neighbors\n",
      " 51%|█████     | 96323/188385 [00:23<00:22, 4087.94it/s][21:52:35] WARNING: not removing hydrogen atom without neighbors\n",
      " 53%|█████▎    | 100013/188385 [00:24<00:21, 4034.04it/s][21:52:36] Explicit valence for atom # 20 N, 5, is greater than permitted\n",
      " 54%|█████▎    | 100837/188385 [00:24<00:21, 4052.71it/s]"
     ]
    },
    {
     "name": "stdout",
     "output_type": "stream",
     "text": [
      "Failed to convert smiles string CC=CC1CC2C(=O)OC(C)C(NC(=O)C(CC3CC3[NH2+2]([O-])[O-])NC(=O)c3ccc(Cl)n3O)C(=O)NC(C(C)c3ccccc3)C(=O)NC(CC3CC3[NH2+2]([O-])[O-])C(=O)NC(C(C)c3ccccc3)C(=O)NC(C(C)CC)C(=O)N2C1, continuing...\n"
     ]
    },
    {
     "name": "stderr",
     "output_type": "stream",
     "text": [
      " 56%|█████▋    | 106163/188385 [00:25<00:20, 4105.83it/s][21:52:38] WARNING: not removing hydrogen atom without neighbors\n",
      " 61%|██████    | 114439/188385 [00:27<00:17, 4115.29it/s][21:52:40] WARNING: not removing hydrogen atom without neighbors\n",
      " 64%|██████▎   | 119826/188385 [00:29<00:16, 4067.49it/s][21:52:41] WARNING: not removing hydrogen atom without neighbors\n",
      " 79%|███████▉  | 149162/188385 [00:36<00:09, 4066.61it/s][21:52:48] WARNING: not removing hydrogen atom without neighbors\n",
      "100%|██████████| 188385/188385 [00:45<00:00, 4110.70it/s]"
     ]
    },
    {
     "name": "stdout",
     "output_type": "stream",
     "text": [
      "Updated 0/188385 to canonical smiles, 1 failed to convert from smiles.\n"
     ]
    },
    {
     "name": "stderr",
     "output_type": "stream",
     "text": [
      "\n"
     ]
    }
   ],
   "source": [
    "from rdkit import Chem\n",
    "# it's ok for it to say WARNING: not removing hydrogen atom without neighbors\n",
    "def standardize(smiles):\n",
    "    mol = Chem.MolFromSmiles(smiles)\n",
    "    if mol is None:\n",
    "        print(f'Failed to convert smiles string {smiles}, continuing...')\n",
    "        return None\n",
    "    Chem.RemoveStereochemistry(mol)\n",
    "    return Chem.MolToSmiles(mol, canonical=True)\n",
    "\n",
    "update_cnt = 0\n",
    "err_cnt = 0\n",
    "for data in tqdm(all_data):\n",
    "    standardized = standardize(data['SMILES'])\n",
    "    if not standardized:\n",
    "        err_cnt += 1\n",
    "        continue\n",
    "    if data['SMILES'] != standardized:\n",
    "        update_cnt += 1\n",
    "    data['SMILES'] = standardized\n",
    "print(f'Updated {update_cnt}/{len(all_data)} to canonical smiles, {err_cnt} failed to convert from smiles.')"
   ]
  },
  {
   "cell_type": "code",
   "execution_count": 6,
   "id": "c7885565",
   "metadata": {},
   "outputs": [
    {
     "name": "stderr",
     "output_type": "stream",
     "text": [
      "[21:29:45] Explicit valence for atom # 20 N, 5, is greater than permitted\n"
     ]
    }
   ],
   "source": [
    "Chem.MolFromSmiles('CC=CC1CC2C(=O)OC(C)C(NC(=O)C(CC3CC3[NH2+2]([O-])[O-])NC(=O)c3ccc(Cl)n3O)C(=O)NC(C(C)c3ccccc3)C(=O)NC(CC3CC3[NH2+2]([O-])[O-])C(=O)NC(C(C)c3ccccc3)C(=O)NC(C(C)CC)C(=O)N2C1')"
   ]
  },
  {
   "cell_type": "code",
   "execution_count": 11,
   "id": "63bd4e83",
   "metadata": {},
   "outputs": [],
   "source": [
    "import pickle\n",
    "from collections import defaultdict\n",
    "\n",
    "HSQC_DATA_PATH = '/workspace/SMILES_dataset'\n",
    "ONED_DATA_PATH = '/workspace/OneD_Only_Dataset'\n",
    "\n",
    "hsqc_train_data = pickle.load(open(os.path.join(HSQC_DATA_PATH, 'train', 'SMILES', 'index.pkl'), 'rb'))\n",
    "hsqc_val_data = pickle.load(open(os.path.join(HSQC_DATA_PATH, 'val', 'SMILES', 'index.pkl'), 'rb'))\n",
    "hsqc_test_data = pickle.load(open(os.path.join(HSQC_DATA_PATH, 'test', 'SMILES', 'index.pkl'), 'rb'))\n",
    "oned_train_data = pickle.load(open(os.path.join(ONED_DATA_PATH, 'train', 'SMILES', 'index.pkl'), 'rb'))\n",
    "oned_val_data = pickle.load(open(os.path.join(ONED_DATA_PATH, 'val', 'SMILES', 'index.pkl'), 'rb'))\n",
    "oned_test_data = pickle.load(open(os.path.join(ONED_DATA_PATH, 'test', 'SMILES', 'index.pkl'), 'rb'))\n",
    "\n",
    "maps = [hsqc_train_data, hsqc_val_data, hsqc_test_data, oned_train_data, oned_val_data, oned_test_data]\n",
    "inverse_maps = [defaultdict(list) for _ in maps]\n",
    "for data, rev_data in zip(maps, inverse_maps):\n",
    "    for k, v in data.items():\n",
    "        rev_data[v].append(k)"
   ]
  },
  {
   "cell_type": "code",
   "execution_count": 12,
   "id": "2c1b5f85",
   "metadata": {},
   "outputs": [
    {
     "name": "stdout",
     "output_type": "stream",
     "text": [
      "109793\n",
      "13756\n",
      "13718\n",
      "66951\n",
      "8337\n",
      "8390\n"
     ]
    }
   ],
   "source": [
    "for data in maps:\n",
    "    print(len(data))"
   ]
  },
  {
   "cell_type": "code",
   "execution_count": 13,
   "id": "149ffe02",
   "metadata": {},
   "outputs": [
    {
     "name": "stdout",
     "output_type": "stream",
     "text": [
      "109793\n",
      "13756\n",
      "13718\n",
      "66951\n",
      "8337\n",
      "8390\n"
     ]
    }
   ],
   "source": [
    "for data in inverse_maps:\n",
    "    print(sum(len(ls) for ls in data.values()))"
   ]
  },
  {
   "cell_type": "code",
   "execution_count": 14,
   "id": "bdef19b6",
   "metadata": {},
   "outputs": [
    {
     "name": "stdout",
     "output_type": "stream",
     "text": [
      "89208\n",
      "11151\n",
      "11150\n",
      "66951\n",
      "8337\n",
      "8390\n"
     ]
    }
   ],
   "source": [
    "for data in inverse_maps:\n",
    "    print(len(data))"
   ]
  },
  {
   "cell_type": "code",
   "execution_count": 9,
   "id": "a73d8147",
   "metadata": {},
   "outputs": [
    {
     "data": {
      "text/plain": [
       "'CCCCCCCCCCCCCCCCCCC(=O)O'"
      ]
     },
     "execution_count": 9,
     "metadata": {},
     "output_type": "execute_result"
    }
   ],
   "source": [
    "data[8]"
   ]
  },
  {
   "cell_type": "code",
   "execution_count": 19,
   "id": "6aa06655",
   "metadata": {},
   "outputs": [],
   "source": [
    "for split in ('train', 'val', 'test'):\n",
    "    for ds in 'OneD_Only_Dataset', 'SMILES_dataset':\n",
    "        os.makedirs(os.path.join('/workspace', ds, split, 'MassSpec'), exist_ok=True)"
   ]
  },
  {
   "cell_type": "code",
   "execution_count": 25,
   "id": "78684160",
   "metadata": {},
   "outputs": [
    {
     "name": "stderr",
     "output_type": "stream",
     "text": [
      "100%|██████████| 188385/188385 [00:34<00:00, 5450.43it/s]\n"
     ]
    }
   ],
   "source": [
    "import torch\n",
    "for entry in tqdm(all_data):\n",
    "    for map_idx in range(6):\n",
    "        idxs = inverse_maps[map_idx].get(entry['SMILES'])\n",
    "        if idxs is not None:\n",
    "            data_split = ['SMILES_dataset/train', 'SMILES_dataset/val', 'SMILES_dataset/test', 'OneD_Only_Dataset/train', 'OneD_Only_Dataset/val', 'OneD_Only_Dataset/test'][map_idx]\n",
    "            break\n",
    "    if idxs is None:\n",
    "        print(f'Failed to match {entry[\"SMILES\"]}')\n",
    "        break\n",
    "    for idx in idxs:\n",
    "        with open(os.path.join('/workspace', data_split, 'MassSpec', f'{idx}.pt'), 'wb') as f:\n",
    "            torch.save(torch.tensor(all_data[0]['peaks'], dtype=torch.float64), f)\n",
    "    \n",
    "    "
   ]
  },
  {
   "cell_type": "code",
   "execution_count": 26,
   "id": "226cd3e2",
   "metadata": {},
   "outputs": [
    {
     "data": {
      "text/plain": [
       "'COC1CCC2(C)C(=CCC3C2CCC2(C)C3CCC2C(C)N(C)C)C1'"
      ]
     },
     "execution_count": 26,
     "metadata": {},
     "output_type": "execute_result"
    }
   ],
   "source": [
    "hsqc_val_data[10112]\n"
   ]
  },
  {
   "cell_type": "code",
   "execution_count": null,
   "id": "de2feaa0",
   "metadata": {},
   "outputs": [],
   "source": []
  }
 ],
 "metadata": {
  "kernelspec": {
   "display_name": "base",
   "language": "python",
   "name": "python3"
  },
  "language_info": {
   "codemirror_mode": {
    "name": "ipython",
    "version": 3
   },
   "file_extension": ".py",
   "mimetype": "text/x-python",
   "name": "python",
   "nbconvert_exporter": "python",
   "pygments_lexer": "ipython3",
   "version": "3.11.10"
  }
 },
 "nbformat": 4,
 "nbformat_minor": 5
}
