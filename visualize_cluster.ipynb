{
 "cells": [
  {
   "cell_type": "code",
   "execution_count": 2,
   "metadata": {},
   "outputs": [
    {
     "name": "stderr",
     "output_type": "stream",
     "text": [
      "/opt/conda/lib/python3.10/site-packages/tqdm/auto.py:21: TqdmWarning: IProgress not found. Please update jupyter and ipywidgets. See https://ipywidgets.readthedocs.io/en/stable/user_install.html\n",
      "  from .autonotebook import tqdm as notebook_tqdm\n"
     ]
    }
   ],
   "source": [
    "''' mainly used to make sure that C nmr works better than HSQC'''\n",
    "# pip install umap-learn\n",
    "import umap\n",
    "import torch\n",
    "torch.set_printoptions(precision=10)\n",
    "\n",
    "from pytorch_lightning import Trainer\n",
    "from pytorch_lightning.callbacks import ModelCheckpoint\n",
    "from models.optional_input_ranked_transformer import OptionalInputRankedTransformer\n",
    "from datasets.optional_2d_folder_dataset import OptionalInputDataModule\n",
    "from datasets.hsqc_folder_dataset import FolderDataModule\n",
    "import yaml\n",
    "from pytorch_lightning.loggers import TensorBoardLogger\n",
    "torch.set_float32_matmul_precision('medium')\n",
    "from pathlib import Path\n",
    "\n",
    "from rdkit import Chem\n",
    "from rdkit.Chem import Draw\n",
    "# load model \n",
    "from datasets import dataset_utils\n",
    "from datasets.dataset_utils import specific_radius_mfp_loader\n",
    "\n",
    "            \n"
   ]
  },
  {
   "cell_type": "code",
   "execution_count": 3,
   "metadata": {},
   "outputs": [],
   "source": [
    "import numpy as np \n",
    "import pickle \n",
    "import time\n"
   ]
  },
  {
   "cell_type": "code",
   "execution_count": 4,
   "metadata": {},
   "outputs": [
    {
     "name": "stdout",
     "output_type": "stream",
     "text": [
      "Normal\n",
      "2\n"
     ]
    }
   ],
   "source": [
    "# load model \n",
    "\n",
    "model_path = Path(\"/root/MorganFP_prediction/reproduce_previous_works/weird_H_and_tautomer_cleaned/flexible_models_best_FP/r0_r2_FP_trial_2/\")\n",
    "\n",
    "hyperpaerameters_path = model_path / \"hparams.yaml\"\n",
    "\n",
    "# checkpoint_path = model_path / \"checkpoints/epoch=14-step=43515.ckpt\"\n",
    "\n",
    "\n",
    "with open(hyperpaerameters_path, 'r') as file:\n",
    "    hparams = yaml.safe_load(file)\n",
    "    \n",
    "FP_building_type = hparams['FP_building_type'].split(\"_\")[-1]\n",
    "only_2d = not hparams['use_oneD_NMR_no_solvent']\n",
    "print(FP_building_type)\n",
    "print(int(hparams['FP_choice'].split(\"_\")[-1][1:]))\n",
    "specific_radius_mfp_loader.setup(only_2d=only_2d,FP_building_type=FP_building_type)\n",
    "specific_radius_mfp_loader.set_max_radius(int(hparams['FP_choice'].split(\"_\")[-1][1:]), only_2d=only_2d)\n",
    "\n",
    "\n",
    "del hparams['checkpoint_path'] # prevent double defition of checkpoint_path\n",
    "hparams['use_peak_values'] = False\n",
    "\n",
    "\n"
   ]
  },
  {
   "cell_type": "code",
   "execution_count": null,
   "metadata": {},
   "outputs": [
    {
     "name": "stderr",
     "output_type": "stream",
     "text": [
      "Initialized SignCoordinateEncoder[384] with dims [180, 180, 24] and 2 positional encoders. 24 bits are reserved for encoding the final bit\n"
     ]
    },
    {
     "name": "stdout",
     "output_type": "stream",
     "text": [
      "HsqcRankedTransformer saving args\n"
     ]
    }
   ],
   "source": [
    "checkpoint_path = model_path / \"checkpoints/epoch=42-all_inputs.ckpt\"\n",
    "\n",
    "model = OptionalInputRankedTransformer.load_from_checkpoint(checkpoint_path, **hparams)\n"
   ]
  },
  {
   "cell_type": "code",
   "execution_count": null,
   "metadata": {},
   "outputs": [
    {
     "name": "stderr",
     "output_type": "stream",
     "text": [
      "/opt/conda/lib/python3.10/site-packages/torch/utils/data/dataloader.py:558: UserWarning: This DataLoader will create 16 worker processes in total. Our suggested max number of worker in current system is 6, which is smaller than what this DataLoader is going to create. Please be aware that excessive worker creation might get DataLoader running slow or even freeze, lower the worker number to avoid potential slowness/freeze if necessary.\n",
      "  warnings.warn(_create_warning_msg(\n"
     ]
    }
   ],
   "source": [
    "datamodule = OptionalInputDataModule(dir=\"/workspace/SMILES_dataset\", FP_choice=hparams[\"FP_choice\"], input_src=[\"HSQC\", \"oneD_NMR\"], batch_size=1, parser_args=hparams)\n",
    "datamodule.setup(\"predict\")\n",
    "datamodule.setup(\"fit\")\n",
    "\n",
    "loader_all_inputs, loader_HSQC_H_NMR, loader_HSQC_C_NMR, loader_only_hsqc, loader_only_1d, loader_only_H_NMR, loader_only_C_NMR = \\\n",
    "    datamodule.predict_dataloader()\n",
    "\n",
    "train_loader = datamodule.train_dataloader()\n",
    "\n",
    "val_loader_all_input = datamodule.val_dataloader()[0]\n",
    "# datamodule.setup(\"test\")\n",
    "# loader_only_hsqc = datamodule.test_dataloader()\n",
    "    \n",
    "# model=model.to(\"cuda\")"
   ]
  },
  {
   "cell_type": "code",
   "execution_count": null,
   "metadata": {},
   "outputs": [],
   "source": [
    "all_testset_tensors = []\n",
    "for idx, batch in enumerate(loader_all_inputs):\n",
    "       \n",
    "    inputs, (smiles_chemical_name) = batch\n",
    "    # print(inputs, smiles_chemical_name)\n",
    "    \n",
    "    batch[0] = batch[0].to(\"cuda\")\n",
    "    representation = model.predict_step(batch, idx, dataloader_idx=0, return_representations=True)\n",
    "    all_testset_tensors.append(representation[0, 0, :]) # representation is shape [1*sequence_len*hidden_size], we only need cls token"
   ]
  },
  {
   "cell_type": "code",
   "execution_count": null,
   "metadata": {},
   "outputs": [],
   "source": [
    "import tqdm\n",
    "all_trainset_tensors = []\n",
    "# for idx, batch in tqdm.tqdm(enumerate(train_loader)):\n",
    "       \n",
    "#     inputs, _ = batch\n",
    "#     # print(inputs, smiles_chemical_name)\n",
    "    \n",
    "#     batch[0] = batch[0].to(\"cuda\")\n",
    "#     representation = model.predict_step(batch, idx, dataloader_idx=0, return_representations=True)\n",
    "#     all_trainset_tensors.append(representation[:, 0, :]) # representation is shape [1*sequence_len*hidden_size], we only need cls token"
   ]
  },
  {
   "cell_type": "code",
   "execution_count": null,
   "metadata": {},
   "outputs": [],
   "source": [
    "all_valset_tensors = []\n",
    "for idx, batch in enumerate(val_loader_all_input):\n",
    "       \n",
    "    inputs, _ = batch\n",
    "    # print(inputs, smiles_chemical_name)\n",
    "    \n",
    "    batch[0] = batch[0].to(\"cuda\")\n",
    "    representation = model.predict_step(batch, idx, dataloader_idx=0, return_representations=True)\n",
    "    all_valset_tensors.append(representation[0, 0, :]) # representation is shape [1*sequence_len*hidden_size], we only need cls token"
   ]
  },
  {
   "cell_type": "code",
   "execution_count": null,
   "metadata": {},
   "outputs": [],
   "source": [
    "import torch.nn.functional as F\n",
    "import os\n",
    "hsqc_mode = None\n",
    "\n",
    "def get_delimeter(delimeter_name):\n",
    "    match delimeter_name:\n",
    "        case \"HSQC_start\":\n",
    "            return torch.tensor([-1,-1,-1]).float()\n",
    "        case \"HSQC_end\":\n",
    "            return torch.tensor([-2,-2,-2]).float()\n",
    "        case \"C_NMR_start\":\n",
    "            return torch.tensor([-3,-3,-3]).float()\n",
    "        case \"C_NMR_end\":\n",
    "            return torch.tensor([-4,-4,-4]).float()\n",
    "        case \"H_NMR_start\":\n",
    "            return torch.tensor([-5,-5,-5]).float()\n",
    "        case \"H_NMR_end\":\n",
    "            return torch.tensor([-6,-6,-6]).float()\n",
    "        case \"solvent_start\":\n",
    "            return torch.tensor([-7,-7,-7]).float()\n",
    "        case \"solvent_end\":\n",
    "            return torch.tensor([-8,-8,-8]).float()\n",
    "        case \"ms_start\":\n",
    "            return torch.tensor([-12,-12,-12]).float()\n",
    "        case \"ms_end\":\n",
    "            return torch.tensor([-13,-13,-13]).float()\n",
    "        case _:\n",
    "            raise Exception(f\"unknown {delimeter_name}\")\n",
    "\n",
    "def unpack_inputs(inputs):\n",
    "    for i, vals in enumerate(inputs[0]):\n",
    "        # if vals is [-1, -1, -1]\n",
    "        if vals[0]==-1 and vals[1]==-1 and vals[2]==-1:\n",
    "            hsqc_start=i+1\n",
    "        elif vals[0]==-2 and vals[1]==-2 and vals[2]==-2:\n",
    "            hsqc_end=i\n",
    "        elif vals[0]==-3 and vals[1]==-3 and vals[2]==-3:\n",
    "            c_nmr_start=i+1\n",
    "        elif vals[0]==-4 and vals[1]==-4 and vals[2]==-4:\n",
    "            c_nmr_end=i\n",
    "        elif vals[0]==-5 and vals[1]==-5 and vals[2]==-5:\n",
    "            h_nmr_start=i+1\n",
    "        elif vals[0]==-6 and vals[1]==-6 and vals[2]==-6:\n",
    "            h_nmr_end=i\n",
    "            \n",
    "    hsqc = inputs[0,hsqc_start:hsqc_end]\n",
    "    c_tensor = inputs[0,c_nmr_start:c_nmr_end,0]\n",
    "    h_tensor = inputs[0,h_nmr_start:h_nmr_end,0]\n",
    "    return hsqc, c_tensor, h_tensor\n",
    " \n",
    " \n",
    "def build_input(compound_dir, mode = hsqc_mode):\n",
    "    print(\"\\n\\n\")\n",
    "    print(compound_dir.split(\"/\")[-1])\n",
    "    print(\"\\n\")\n",
    "    def load_2d():\n",
    "        return torch.tensor(np.loadtxt(os.path.join(compound_dir, \"HSQC.txt\"), delimiter=\",\")).float()\n",
    "    def load_1d(nmr):\n",
    "        vals = np.loadtxt(os.path.join(compound_dir, f\"{nmr}.txt\"), delimiter=\",\")\n",
    "        vals = torch.tensor(np.unique(vals)).float()\n",
    "        return F.pad(vals.view(-1, 1), (0, 2), \"constant\", 0)\n",
    "    \n",
    "    hsqc = load_2d()\n",
    "    if hsqc is not None:\n",
    "        hsqc[:,[0,1]] = hsqc[:,[1,0]]\n",
    "        if mode == \"no_sign\":\n",
    "            hsqc = torch.abs(hsqc)\n",
    "        elif mode == \"flip_sign\":\n",
    "            hsqc[:,2] = -hsqc[:,2]\n",
    "    c_tensor = load_1d(\"C\")\n",
    "    h_tensor = load_1d(\"H\")\n",
    "    inputs = torch.vstack([\n",
    "                    get_delimeter(\"HSQC_start\"),  hsqc,     get_delimeter(\"HSQC_end\"),\n",
    "                    get_delimeter(\"C_NMR_start\"), c_tensor, get_delimeter(\"C_NMR_end\"), \n",
    "                    get_delimeter(\"H_NMR_start\"), h_tensor, get_delimeter(\"H_NMR_end\"),\n",
    "                    ])   \n",
    "    with open(os.path.join(compound_dir, \"mw.txt\"), 'r') as file:\n",
    "        # Read the content of the file\n",
    "        content = file.read()\n",
    "        # Convert the content to a float\n",
    "        mw = float(content)\n",
    "    mol_weight = torch.tensor([mw,0,0]).float()\n",
    "    # print(inputs)\n",
    "    # print(hsqc, c_tensor, h_tensor)\n",
    "    return torch.vstack([inputs, get_delimeter(\"ms_start\"), mol_weight, get_delimeter(\"ms_end\")])\n",
    "\n"
   ]
  },
  {
   "cell_type": "code",
   "execution_count": null,
   "metadata": {},
   "outputs": [
    {
     "data": {
      "text/plain": [
       "['new_compound_B1',\n",
       " 'Kavaratamide A',\n",
       " 'new_compound_A',\n",
       " 'methyl_beta-D-glucopyranoside',\n",
       " 'new_compound_B2']"
      ]
     },
     "execution_count": 12,
     "metadata": {},
     "output_type": "execute_result"
    }
   ],
   "source": [
    "import os\n",
    "os.listdir(\"/root/MorganFP_prediction/inference_data/testing_compounds\")"
   ]
  },
  {
   "cell_type": "code",
   "execution_count": null,
   "metadata": {},
   "outputs": [
    {
     "name": "stdout",
     "output_type": "stream",
     "text": [
      "\n",
      "\n",
      "\n",
      "new_compound_B1\n",
      "\n",
      "\n",
      "\n",
      "\n",
      "\n",
      "Kavaratamide A\n",
      "\n",
      "\n",
      "\n",
      "\n",
      "\n",
      "new_compound_A\n",
      "\n",
      "\n",
      "\n",
      "\n",
      "\n",
      "new_compound_B2\n",
      "\n",
      "\n"
     ]
    }
   ],
   "source": [
    "compound_name = ['new_compound_B1',\n",
    "                'Kavaratamide A',\n",
    "                'new_compound_A',\n",
    "                # 'methyl_beta-D-glucopyranoside',\n",
    "                'new_compound_B2']\n",
    "new_molecules = []\n",
    "for compound_name in compound_name:\n",
    "    compound_dir = f\"/root/MorganFP_prediction/inference_data/testing_compounds/{compound_name}\"\n",
    "    mode = None#\"flip_sign\"\n",
    "    inputs = build_input(compound_dir, mode=mode)\n",
    "    inputs = inputs.unsqueeze(0).to(\"cuda\")\n",
    "    new_molecules.append(model(inputs, return_representations=True)[0,0] )"
   ]
  },
  {
   "cell_type": "code",
   "execution_count": null,
   "metadata": {},
   "outputs": [
    {
     "data": {
      "text/plain": [
       "(384,)"
      ]
     },
     "execution_count": 29,
     "metadata": {},
     "output_type": "execute_result"
    }
   ],
   "source": [
    "new_molecules[0].shape"
   ]
  },
  {
   "cell_type": "code",
   "execution_count": null,
   "metadata": {},
   "outputs": [
    {
     "data": {
      "text/plain": [
       "(7827, 384)"
      ]
     },
     "execution_count": 32,
     "metadata": {},
     "output_type": "execute_result"
    },
    {
     "data": {
      "text/plain": [
       "<Figure size 800x600 with 0 Axes>"
      ]
     },
     "metadata": {},
     "output_type": "display_data"
    }
   ],
   "source": [
    "import matplotlib.pyplot as plt\n",
    "plt.figure(figsize=(8, 6))\n",
    "\n",
    "train_checkpoint = len(all_trainset_tensors)\n",
    "val_checkpoint = len(all_valset_tensors)+train_checkpoint\n",
    "test_checkpoint = len(all_testset_tensors) + val_checkpoint\n",
    "\n",
    "\n",
    "umap_reducer = umap.UMAP(n_components=2)\n",
    "all_features_from_testset = np.vstack((\n",
    "                                        # all_trainset_tensors,\n",
    "                                       all_valset_tensors,\n",
    "                                       all_testset_tensors,\n",
    "                                       new_molecules\n",
    "                                       ))\n",
    "all_features_from_testset.shape\n",
    "\n"
   ]
  },
  {
   "cell_type": "code",
   "execution_count": null,
   "metadata": {},
   "outputs": [
    {
     "ename": "TypeError",
     "evalue": "UMAP.fit_transform() got an unexpected keyword argument 'n_neighbors'",
     "output_type": "error",
     "traceback": [
      "\u001b[0;31m---------------------------------------------------------------------------\u001b[0m",
      "\u001b[0;31mTypeError\u001b[0m                                 Traceback (most recent call last)",
      "Cell \u001b[0;32mIn[43], line 1\u001b[0m\n\u001b[0;32m----> 1\u001b[0m X_umap \u001b[38;5;241m=\u001b[39m \u001b[43mumap_reducer\u001b[49m\u001b[38;5;241;43m.\u001b[39;49m\u001b[43mfit_transform\u001b[49m\u001b[43m(\u001b[49m\u001b[43mall_features_from_testset\u001b[49m\u001b[43m,\u001b[49m\u001b[43m \u001b[49m\u001b[43mn_neighbors\u001b[49m\u001b[38;5;241;43m=\u001b[39;49m\u001b[38;5;241;43m15\u001b[39;49m\u001b[43m,\u001b[49m\u001b[43m \u001b[49m\u001b[43mmin_dist\u001b[49m\u001b[38;5;241;43m=\u001b[39;49m\u001b[38;5;241;43m0.1\u001b[39;49m\u001b[43m)\u001b[49m\n",
      "\u001b[0;31mTypeError\u001b[0m: UMAP.fit_transform() got an unexpected keyword argument 'n_neighbors'"
     ]
    }
   ],
   "source": [
    "X_umap = umap_reducer.fit_transform(all_features_from_testset)\n"
   ]
  },
  {
   "cell_type": "code",
   "execution_count": null,
   "metadata": {},
   "outputs": [
    {
     "data": {
      "image/png": "[encoded data removed]",
      "text/plain": [
       "<Figure size 800x600 with 1 Axes>"
      ]
     },
     "metadata": {},
     "output_type": "display_data"
    }
   ],
   "source": [
    "\n",
    "plt.figure(figsize=(8, 6))\n",
    "plt.scatter(x=X_umap[:train_checkpoint, 0], y=X_umap[:train_checkpoint, 1], c='r', s=10)\n",
    "plt.scatter(x=X_umap[train_checkpoint:val_checkpoint, 0], y=X_umap[train_checkpoint:val_checkpoint, 1], c='g', s=10)\n",
    "plt.scatter(x=X_umap[val_checkpoint:test_checkpoint, 0], y=X_umap[val_checkpoint:test_checkpoint, 1], c='y', s=10)\n",
    "plt.scatter(x=X_umap[test_checkpoint:, 0], y=X_umap[test_checkpoint:, 1], c='c', s=20)\n",
    "\n",
    "plt.legend(['train', 'val', 'test', 'new_molecules'])\n",
    "\n",
    "\n",
    "plt.title('UMAP of all representations')\n",
    "plt.xlabel('UMAP Component 1')\n",
    "plt.ylabel('UMAP Component 2')\n",
    "plt.show()"
   ]
  },
  {
   "cell_type": "code",
   "execution_count": null,
   "metadata": {},
   "outputs": [
    {
     "data": {
      "text/plain": [
       "array([[ 9.923561,  8.449236],\n",
       "       [ 9.966725,  8.401181],\n",
       "       [10.024661,  8.48073 ],\n",
       "       [ 9.894206,  8.376627]], dtype=float32)"
      ]
     },
     "execution_count": 41,
     "metadata": {},
     "output_type": "execute_result"
    }
   ],
   "source": [
    "X_umap[-4:]"
   ]
  },
  {
   "cell_type": "code",
   "execution_count": null,
   "metadata": {},
   "outputs": [
    {
     "data": {
      "text/plain": [
       "3881"
      ]
     },
     "execution_count": 21,
     "metadata": {},
     "output_type": "execute_result"
    }
   ],
   "source": [
    "len(all_testset_tensors)"
   ]
  },
  {
   "cell_type": "code",
   "execution_count": null,
   "metadata": {},
   "outputs": [],
   "source": []
  }
 ],
 "metadata": {
  "kernelspec": {
   "display_name": "base",
   "language": "python",
   "name": "python3"
  },
  "language_info": {
   "codemirror_mode": {
    "name": "ipython",
    "version": 3
   },
   "file_extension": ".py",
   "mimetype": "text/x-python",
   "name": "python",
   "nbconvert_exporter": "python",
   "pygments_lexer": "ipython3",
   "version": "3.10.13"
  }
 },
 "nbformat": 4,
 "nbformat_minor": 2
}
