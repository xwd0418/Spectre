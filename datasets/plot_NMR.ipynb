{
 "cells": [
  {
   "cell_type": "code",
   "execution_count": 6,
   "metadata": {},
   "outputs": [],
   "source": [
    "import sys\n",
    "spectre_dir =  \"/root/gurusmart/MorganFP_prediction/reproduce_previous_works/Spectre\"\n",
    "sys.path.insert(0, str(spectre_dir))\n",
    "\n",
    "from dataset_utils import plot_NMR"
   ]
  },
  {
   "cell_type": "code",
   "execution_count": 5,
   "metadata": {},
   "outputs": [
    {
     "data": {
      "text/plain": [
       "('CC(C)C1CC(O)C2C1(CO)CCC1(C)C3C(=CCC21C)C1(C)C=CC(=O)C(C)(C)C1CC3O',\n",
       " 'Rubiarbonone E',\n",
       " 470.3396)"
      ]
     },
     "execution_count": 5,
     "metadata": {},
     "output_type": "execute_result"
    }
   ],
   "source": [
    "import pickle\n",
    "smiles_path = \"/workspace/SMILES_dataset/train/SMILES/index.pkl\"\n",
    "with open(smiles_path, \"rb\") as f:\n",
    "    smiles = pickle.load(f)\n",
    "chemical_paths = \"/workspace/SMILES_dataset/train/Chemical/index.pkl\"\n",
    "with open(chemical_paths, \"rb\") as f:\n",
    "    chemical = pickle.load(f)\n",
    "MW_paths = \"/workspace/SMILES_dataset/train/MW/index.pkl\"\n",
    "with open(MW_paths, \"rb\") as f:\n",
    "    MW = pickle.load(f)\n",
    "smiles[31293], chemical[31293], MW[31293]"
   ]
  },
  {
   "cell_type": "code",
   "execution_count": 2,
   "metadata": {},
   "outputs": [
    {
     "name": "stderr",
     "output_type": "stream",
     "text": [
      "/tmp/ipykernel_2081/2677049392.py:3: FutureWarning: You are using `torch.load` with `weights_only=False` (the current default value), which uses the default pickle module implicitly. It is possible to construct malicious pickle data which will execute arbitrary code during unpickling (See https://github.com/pytorch/pytorch/blob/main/SECURITY.md#untrusted-models for more details). In a future release, the default value for `weights_only` will be flipped to `True`. This limits the functions that could be executed during unpickling. Arbitrary objects will no longer be allowed to be loaded via this mode unless they are explicitly allowlisted by the user via `torch.serialization.add_safe_globals`. We recommend you start setting `weights_only=True` for any use case where you don't have full control of the loaded file. Please open an issue on GitHub for any issues related to this experimental feature.\n",
      "  c,h=torch.load(path.replace(\"HSQC\", \"oneD_NMR\"))\n",
      "/tmp/ipykernel_2081/2677049392.py:4: FutureWarning: You are using `torch.load` with `weights_only=False` (the current default value), which uses the default pickle module implicitly. It is possible to construct malicious pickle data which will execute arbitrary code during unpickling (See https://github.com/pytorch/pytorch/blob/main/SECURITY.md#untrusted-models for more details). In a future release, the default value for `weights_only` will be flipped to `True`. This limits the functions that could be executed during unpickling. Arbitrary objects will no longer be allowed to be loaded via this mode unless they are explicitly allowlisted by the user via `torch.serialization.add_safe_globals`. We recommend you start setting `weights_only=True` for any use case where you don't have full control of the loaded file. Please open an issue on GitHub for any issues related to this experimental feature.\n",
      "  hsqc= torch.load(path)\n"
     ]
    }
   ],
   "source": [
    "path = f\"/workspace/SMILES_dataset/train/HSQC/31293.pt\"\n",
    "import torch\n",
    "c,h=torch.load(path.replace(\"HSQC\", \"oneD_NMR\"))\n",
    "hsqc= torch.load(path)"
   ]
  },
  {
   "cell_type": "code",
   "execution_count": 7,
   "metadata": {},
   "outputs": [
    {
     "data": {
      "image/png": "[encoded data removed]",
      "text/plain": [
       "<Figure size 600x480 with 3 Axes>"
      ]
     },
     "metadata": {},
     "output_type": "display_data"
    }
   ],
   "source": [
    "plot_NMR(hsqc, c, h)"
   ]
  },
  {
   "cell_type": "code",
   "execution_count": 8,
   "metadata": {},
   "outputs": [
    {
     "data": {
      "text/plain": [
       "tensor([[157.7000,   7.3700,   1.0000],\n",
       "        [125.7000,   5.9200,   1.0000],\n",
       "        [ 47.2000,   1.6700,   1.0000],\n",
       "        [ 33.1000,   2.0200,  -1.0000],\n",
       "        [ 33.1000,   1.8200,  -1.0000],\n",
       "        [ 71.4000,   3.8100,   1.0000],\n",
       "        [ 49.3000,   2.3000,   1.0000],\n",
       "        [119.1000,   5.5400,   1.0000],\n",
       "        [ 37.8000,   2.0500,  -1.0000],\n",
       "        [ 37.8000,   1.9600,  -1.0000],\n",
       "        [ 33.4000,   2.0500,  -1.0000],\n",
       "        [ 33.4000,   1.6200,  -1.0000],\n",
       "        [ 33.6000,   1.3900,  -1.0000],\n",
       "        [ 33.6000,   1.7600,  -1.0000],\n",
       "        [ 60.1000,   1.9000,   1.0000],\n",
       "        [ 71.7000,   4.3900,   1.0000],\n",
       "        [ 43.0000,   1.6400,  -1.0000],\n",
       "        [ 43.0000,   2.1500,  -1.0000],\n",
       "        [ 58.6000,   1.3500,   1.0000],\n",
       "        [ 31.4000,   1.7600,   1.0000],\n",
       "        [ 25.3000,   1.1400,   1.0000],\n",
       "        [ 22.3000,   1.0600,   1.0000],\n",
       "        [ 22.6000,   1.3300,   1.0000],\n",
       "        [ 17.6000,   1.0300,   1.0000],\n",
       "        [ 16.8000,   1.1000,   1.0000],\n",
       "        [ 63.4000,   3.7500,  -1.0000],\n",
       "        [ 63.4000,   3.8000,  -1.0000],\n",
       "        [ 23.5000,   0.9700,   1.0000],\n",
       "        [ 23.7000,   0.8800,   1.0000]], dtype=torch.float64)"
      ]
     },
     "execution_count": 8,
     "metadata": {},
     "output_type": "execute_result"
    }
   ],
   "source": [
    "hsqc"
   ]
  },
  {
   "cell_type": "code",
   "execution_count": null,
   "metadata": {},
   "outputs": [
    {
     "data": {
      "text/plain": [
       "tensor([143.7000,  16.8000,  17.6000,  22.6000,  23.6000,  23.8000, 157.7000,\n",
       "         31.4000,  33.6000,  33.4000,  33.1000,  37.8000,  38.7000,  40.9000,\n",
       "         43.0000,  45.0000,  47.2000,  49.6000,  49.3000,  58.6000,  60.1000,\n",
       "         63.4000,  71.7000,  71.4000, 119.1000, 125.7000])"
      ]
     },
     "execution_count": 59,
     "metadata": {},
     "output_type": "execute_result"
    }
   ],
   "source": [
    "c"
   ]
  },
  {
   "cell_type": "code",
   "execution_count": null,
   "metadata": {},
   "outputs": [
    {
     "data": {
      "text/plain": [
       "tensor([0.9200, 1.7300, 2.0000, 2.5800, 1.5900, 3.8900, 1.8300, 1.0000, 1.4700,\n",
       "        0.6900, 1.2700, 2.1200, 1.1500, 6.6500, 5.9700, 2.8600, 2.6200, 3.4900])"
      ]
     },
     "execution_count": 60,
     "metadata": {},
     "output_type": "execute_result"
    }
   ],
   "source": [
    "h"
   ]
  },
  {
   "cell_type": "code",
   "execution_count": null,
   "metadata": {},
   "outputs": [],
   "source": []
  }
 ],
 "metadata": {
  "kernelspec": {
   "display_name": "base",
   "language": "python",
   "name": "python3"
  },
  "language_info": {
   "codemirror_mode": {
    "name": "ipython",
    "version": 3
   },
   "file_extension": ".py",
   "mimetype": "text/x-python",
   "name": "python",
   "nbconvert_exporter": "python",
   "pygments_lexer": "ipython3",
   "version": "3.11.10"
  }
 },
 "nbformat": 4,
 "nbformat_minor": 2
}
