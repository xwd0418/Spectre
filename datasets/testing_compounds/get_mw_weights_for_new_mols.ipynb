{
 "cells": [
  {
   "cell_type": "code",
   "execution_count": 2,
   "id": "e9a83833",
   "metadata": {},
   "outputs": [
    {
     "name": "stdout",
     "output_type": "stream",
     "text": [
      "Aculeapyridone A: Molecular Weight = 329.44 g/mol\n",
      "Contignasterine A: Molecular Weight = 653.75 g/mol\n",
      "Glycyasymmetrica A: Molecular Weight = 596.68 g/mol\n",
      "Fatuamide A: Molecular Weight = 819.03 g/mol\n",
      "Indanopyrrole A: Molecular Weight = 458.81 g/mol\n",
      "Jejupeptin A: Molecular Weight = 522.69 g/mol\n",
      "Monchicamide I: Molecular Weight = 851.06 g/mol\n",
      "Rhodomollein LVII: Molecular Weight = 706.78 g/mol\n",
      "Wrightioside A: Molecular Weight = 628.58 g/mol\n"
     ]
    }
   ],
   "source": [
    "from rdkit import Chem\n",
    "from rdkit.Chem import Descriptors\n",
    "\n",
    "# Dictionary of molecule names and their SMILES representations\n",
    "molecules = {\n",
    "    \"Aculeapyridone A\": \"C[C@H]([C@@H]1O)[C@H](/C(C)=C/C=C/C=C/[C@H](C)CC)OC2=C1C(NC=C2)=O\",\n",
    "    \"Contignasterine A\": \"C[C@H]([C@H]1C[C@@H](C(C)C)C[C@@H](NC2=[NH+]C=CN2)O1)[C@]3([H])[C@]4(C)[C@](C(C3)=O)([H])[C@]5([H])[C@@H](OP([O-])(O)=O)[C@H](O)[C@@]6([H])[C@@H](O)[C@H](O)CC[C@]6(C)[C@@]5([H])CC4\",\n",
    "    \"Glycyasymmetrica A\": \"OC(C=C1O)=CC=C1[C@H]2CC3=CC([C@@H]4C5=CC=C(O)C=C5OC[C@@H]4C6=CC=C(O)C=C6OC)=C(O)C(C/C=C(C)/C)=C3OC2\",\n",
    "    \"Fatuamide A\": \"OC(CNC(C[C@@H](O)[C@@H](NC(C[C@@H](O)C[C@@H](O)[C@H](CC1=CC=CC=C1)NC(CC[C@H](C)C[C@@H](C)C[C@@]2([H])N=C(C3=C(O)C=CC=C3)SC2)=O)=O)CC4=CC=CC=C4)=O)=O\",\n",
    "    \"Indanopyrrole A\": \"OC([C@@H](C/C(C)=C/[C@@]1([H])C=C[C@](CC[C@H]2C)([H])[C@@]2([H])[C@@]1([H])C(C3=C(Cl)C(Cl)=C(Cl)N3)=O)C)=O\",\n",
    "    \"Jejupeptin A\": \"O=C([C@H](CC(C)C)NC1=O)NCCC[C@H](NC(/C=C/CCC(C)CC)=O)C(N[C@H](C)[C@@](C)(CO)C1=O)=O\",\n",
    "    \"Monchicamide I\": \"O=C(N[C@@H](C(C)C)C(N(CCC1)[C@@H]1C(N[C@H](C(N(CCC2)[C@@H]2C(N[C@@H]([C@H](CC)C)C3=O)=O)=O)CC4=CC=C(OC/C=C(C)/C)C=C4)=O)=O)CNC([C@H](C(C)C)NC(CN3)=O)=O\",\n",
    "    \"Rhodomollein LVII\": \"C[C@@]1(O)[C@@]2([H])[C@@]([C@H](O)[C@@]3([H])CC2)(C[C@]3(O)C)C[C@@H](O)[C@@]4(O)[C@@]1([H])[C@@H](OC([C@]5(O)C[C@@H](OC(/C=C/C6=CC=C(O)C=C6)=O)[C@@H](O)[C@H](O)C5)=O)[C@H](O)C4(C)C\",\n",
    "    \"Wrightioside A\": \"O=C(OC[C@@H]1[C@@H](O[C@@H]2O[C@H](CO)[C@@H](O)[C@H](O)[C@H]2O)[C@H](O)[C@@H](O)[C@H](OC3=C(OC)C=C(CO)C=C3)O1)C4=CC=C(O)C(OC)=C4\"\n",
    "}\n",
    "\n",
    "# Calculate and print molecular weights\n",
    "for name, smiles in molecules.items():\n",
    "    mol = Chem.MolFromSmiles(smiles)\n",
    "    if mol:\n",
    "        mw = Descriptors.MolWt(mol)\n",
    "        print(f\"{name}: Molecular Weight = {mw:.2f} g/mol\")\n",
    "    else:\n",
    "        print(f\"{name}: Invalid SMILES string\")"
   ]
  }
 ],
 "metadata": {
  "kernelspec": {
   "display_name": "base",
   "language": "python",
   "name": "python3"
  },
  "language_info": {
   "codemirror_mode": {
    "name": "ipython",
    "version": 3
   },
   "file_extension": ".py",
   "mimetype": "text/x-python",
   "name": "python",
   "nbconvert_exporter": "python",
   "pygments_lexer": "ipython3",
   "version": "3.11.10"
  }
 },
 "nbformat": 4,
 "nbformat_minor": 5
}
