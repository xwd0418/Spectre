{
 "cells": [
  {
   "cell_type": "code",
   "execution_count": 3,
   "metadata": {},
   "outputs": [],
   "source": [
    "import torch, torch.nn.functional as F, pickle, os\n",
    "os.chdir(\"../..\")\n",
    "from utils.ranker import RankingSet"
   ]
  },
  {
   "cell_type": "code",
   "execution_count": 2,
   "metadata": {},
   "outputs": [
    {
     "name": "stdout",
     "output_type": "stream",
     "text": [
      "tensor([[False, False, False],\n",
      "        [False,  True, False],\n",
      "        [ True, False,  True],\n",
      "        [ True,  True,  True]])\n"
     ]
    }
   ],
   "source": [
    "# testing threshes - pytorch tensor operation\n",
    "v = torch.tensor([[1, 1, 1], [1, 2, 1], [2, 1, 2], [3, 2, 4]])\n",
    "threshes = torch.tensor([2, 2, 2])\n",
    "res = v >= threshes\n",
    "print(res)"
   ]
  },
  {
   "cell_type": "code",
   "execution_count": 3,
   "metadata": {},
   "outputs": [
    {
     "name": "stdout",
     "output_type": "stream",
     "text": [
      "tensor([0], device='cuda:0')\n"
     ]
    }
   ],
   "source": [
    "# testing lookup with dummy data\n",
    "data_store = torch.tensor([\n",
    "    [1, 1, 1, 1],\n",
    "    [1, 1, 1, 0],\n",
    "    [1, 1, 0, 0],\n",
    "    [1, 0, 1, 1],\n",
    "], dtype = torch.float)\n",
    "sample_label = torch.tensor([\n",
    "    [1, 0, 1, 1],\n",
    "], dtype = torch.float).cuda()\n",
    "sample_query = torch.tensor([\n",
    "    [1, 0, 0, 0],\n",
    "], dtype = torch.float).cuda()\n",
    "rs = RankingSet(store = data_store)\n",
    "v = rs.batched_rank(sample_query, sample_label)\n",
    "print(v)"
   ]
  },
  {
   "cell_type": "code",
   "execution_count": 4,
   "metadata": {},
   "outputs": [],
   "source": [
    "# testing retrieval / real data\n",
    "ranks = \"./tempdata/hyun_pair_ranking_set_07_22/val_pair.pt\"\n",
    "lookup = \"./tempdata/hyun_pair_ranking_set_07_22/fp_lookup.pkl\"\n",
    "rs2 = RankingSet(file_path=ranks, retrieve_path=lookup)"
   ]
  },
  {
   "cell_type": "code",
   "execution_count": 10,
   "metadata": {},
   "outputs": [
    {
     "name": "stdout",
     "output_type": "stream",
     "text": [
      "[{'C=C(NC(=O)C(=C)NC(=O)c1csc(-c2ccc3c(n2)-c2csc(n2)-c2csc(n2)C2C(C)CC(O)N2C(=O)C(Cc2ccc(O)cc2)NC(=O)C2CSC(=N2)C(Cc2ccccc2)NC(=O)c2csc(n2)C(CC(N)=O)NC(=O)c2nc-3oc2C)n1)C(=O)O'}, {'COC1C=COC2(C)Oc3c(C)c(O)c4c(O)c(c(C=NN5CCN(C6CCCC6)CC5)c(O)c4c3C2=O)NC(=O)C(C)=CC=CC(C)C(O)C(C)C(O)C(C)C(OC(C)=O)C1C'}, {'CON=C(C(=O)NC1C(=O)N2C(C(=O)OCOC(=O)C(C)(C)C)=C(C=Cc3scnc3C)CSC12)c1csc(N)n1'}, {'COC1CC2CCC(C)C(O)(O2)C(=O)C(=O)N2CCCCC2C(=O)OC(C(C)CC2CCC(OC(=O)C(C)(CO)CO)C(OC)C2)CC(=O)C(C)C=C(C)C(O)C(OC)C(=O)C(C)CC(C)C=CC=CC=C1C'}, {'CCC(C(=O)C(C)C(O)C(C)CCc1ccc(C)c(O)c1C(=O)O)C1OC(CC)(C2CCC(O)(CC)C(C)O2)CC1C'}, {'COC1C=COC2(C)Oc3c(C)c(O)c4c(O)c(c(=CNN5CCN(C)CC5)c(O)c4c3C2=O)=NC(=O)C(C)=CC=CC(C)C(O)C(C)C(O)C(C)C(OC(C)=O)C1C'}, {'COc1cc(C)c(C(=O)NC2C(C)OC(OC3CCC(C)C4C3C=C(C)C3C(C)=CCCC(C)=CC5(C)C=C(C(=O)O)C(C)CC56OC(=O)C(=C6O)C(=O)C34C)C(O)C2(C)O)c(O)c1'}, {'CCC(=O)CC(O)CC(C)CC(NC(=O)C1CC(C)CN1C(=O)C=CC(C)CC)C(=O)NC(C(=O)NC(C)(C)C(=O)NC(CC(C)C)C(=O)NC(CC(C)C)C(=O)NC(C)(C)C(=O)NC(C)(C)C(=O)NCCC(=O)NC(C)CN)C(O)C(C)C'}, {'CCCCCCCC(O)CC(=O)NC(CCC(N)=O)C(=O)NC(CCC(N)=O)C(=O)NC(CCC(N)=O)C(=O)NC(CCC(N)=O)C(=O)OC(C)C(=O)N1CCCC1C(=O)N(C)C(CC(C)C)C(=O)NC1C(=O)NC(C(C)CC)C(O)CC(=O)OC(C(C)C)C(=O)C(C)C(=O)NC(CC(C)C)C(=O)N2CCCC2C(=O)N(C)C(Cc2ccc(OC)cc2)C(=O)OC1C', 'CCCCCCCC(O)CC(=O)NC(CCC(N)=O)C(=O)NC(CCC(N)=O)C(=O)NC(CCC(N)=O)C(=O)OC(C)C(=O)N1CCCC1C(=O)N(C)C(CC(C)C)C(=O)NC1C(=O)NC(C(C)CC)C(O)CC(=O)OC(C(C)C)C(=O)C(C)C(=O)NC(CC(C)C)C(=O)N2CCCC2C(=O)N(C)C(Cc2ccc(OC)cc2)C(=O)OC1C'}, {'CC=C1NC(=O)C(NC(=O)C(NC(=O)C(C)NC(=O)CCC)C(C)O)C(C)OC(=O)C(C(C)C)NC(=O)C(Cc2ccc(O)cc2)N(C)C(=O)C(Cc2ccccc2)N2C(=O)C(CCC2O)NC1=O'}]\n"
     ]
    }
   ],
   "source": [
    "# to retrieve the 10 most 'similar' molecules to model output\n",
    "bitstring = (torch.cuda.FloatTensor(6144).uniform_() > 0.5).float()\n",
    "results = rs2.retrieve(bitstring)\n",
    "print(results)"
   ]
  },
  {
   "cell_type": "code",
   "execution_count": 9,
   "metadata": {},
   "outputs": [
    {
     "name": "stdout",
     "output_type": "stream",
     "text": [
      "{'CC1CC=CC2C3OC3(C)C(C)C3C(Cc4ccccc4)NC(=O)C23OC(=O)OC=CC(C)(O)C1=O'}\n"
     ]
    }
   ],
   "source": [
    "# inspecting value type of lookup\n",
    "with open(lookup, \"rb\") as f:\n",
    "    lookup = pickle.load(f)\n",
    "    key_0 = list(lookup.keys())[0]\n",
    "    val_0 = lookup[key_0]\n",
    "    print(val_0)"
   ]
  },
  {
   "cell_type": "code",
   "execution_count": null,
   "metadata": {},
   "outputs": [],
   "source": []
  }
 ],
 "metadata": {
  "kernelspec": {
   "display_name": "Python 3.8.12 ('base')",
   "language": "python",
   "name": "python3"
  },
  "language_info": {
   "codemirror_mode": {
    "name": "ipython",
    "version": 3
   },
   "file_extension": ".py",
   "mimetype": "text/x-python",
   "name": "python",
   "nbconvert_exporter": "python",
   "pygments_lexer": "ipython3",
   "version": "3.8.12"
  },
  "orig_nbformat": 4,
  "vscode": {
   "interpreter": {
    "hash": "d4d1e4263499bec80672ea0156c357c1ee493ec2b1c70f0acce89fc37c4a6abe"
   }
  }
 },
 "nbformat": 4,
 "nbformat_minor": 2
}
