{
 "cells": [
  {
   "cell_type": "code",
   "execution_count": 1,
   "metadata": {},
   "outputs": [],
   "source": [
    "import torch, torch.nn.functional as F"
   ]
  },
  {
   "cell_type": "code",
   "execution_count": 30,
   "metadata": {},
   "outputs": [
    {
     "name": "stdout",
     "output_type": "stream",
     "text": [
      "pos_contr tensor([[1., 0., 0., 0.]])\n",
      "neg_contr tensor([[1., 1., 1., 0.]])\n",
      "label     tensor([[1., 0., 1., 0.]])\n",
      "Loss\n",
      "tensor(200.)\n",
      "100.0 + 100.0 = 200.0\n"
     ]
    }
   ],
   "source": [
    "output = [\n",
    "  [1, 1, 0, 0],\n",
    "]\n",
    "labels = [\n",
    "  [1, 0, 1, 0],\n",
    "]\n",
    "\n",
    "out_tens = torch.tensor(output).float()\n",
    "lab_tens = torch.tensor(labels).float()\n",
    "\n",
    "pos_contr = torch.clone(out_tens)\n",
    "pos_contr = torch.where(lab_tens == 0, torch.zeros_like(pos_contr, dtype=torch.float), pos_contr)\n",
    "\n",
    "neg_contr = torch.clone(out_tens)\n",
    "neg_contr = torch.where(lab_tens == 1, torch.ones_like(neg_contr, dtype=torch.float), neg_contr)\n",
    "\n",
    "\n",
    "print(\"pos_contr\", pos_contr)\n",
    "print(\"neg_contr\", neg_contr)\n",
    "print(\"label    \", lab_tens)\n",
    "\n",
    "print(\"Loss\")\n",
    "loss = torch.nn.BCELoss(reduction=\"mean\")\n",
    "ce_loss = loss(out_tens, lab_tens)\n",
    "pos_loss = loss(pos_contr, lab_tens)\n",
    "neg_loss = loss(neg_contr, lab_tens)\n",
    "print(ce_loss)\n",
    "print(f\"{neg_loss} + {pos_loss} = {neg_loss + pos_loss}\")"
   ]
  },
  {
   "cell_type": "code",
   "execution_count": null,
   "metadata": {},
   "outputs": [],
   "source": []
  }
 ],
 "metadata": {
  "kernelspec": {
   "display_name": "Python 3.8.12 ('base')",
   "language": "python",
   "name": "python3"
  },
  "language_info": {
   "codemirror_mode": {
    "name": "ipython",
    "version": 3
   },
   "file_extension": ".py",
   "mimetype": "text/x-python",
   "name": "python",
   "nbconvert_exporter": "python",
   "pygments_lexer": "ipython3",
   "version": "3.8.12"
  },
  "orig_nbformat": 4,
  "vscode": {
   "interpreter": {
    "hash": "d4d1e4263499bec80672ea0156c357c1ee493ec2b1c70f0acce89fc37c4a6abe"
   }
  }
 },
 "nbformat": 4,
 "nbformat_minor": 2
}
