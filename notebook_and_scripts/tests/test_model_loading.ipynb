{
 "cells": [
  {
   "cell_type": "code",
   "execution_count": 7,
   "metadata": {},
   "outputs": [
    {
     "name": "stdout",
     "output_type": "stream",
     "text": [
      "The autoreload extension is already loaded. To reload it, use:\n",
      "  %reload_ext autoreload\n"
     ]
    }
   ],
   "source": [
    "%load_ext autoreload\n",
    "%autoreload 2\n",
    "\n",
    "from utils.config import load_single_config\n",
    "import pprint, argparse"
   ]
  },
  {
   "cell_type": "code",
   "execution_count": 13,
   "metadata": {},
   "outputs": [],
   "source": [
    "parser = argparse.ArgumentParser(add_help=True)\n",
    "parser.add_argument(\"--pp\", type=str, default=\"ppp\")\n",
    "args, _ = parser.parse_known_args()\n",
    "dict_args = vars(args)"
   ]
  },
  {
   "cell_type": "code",
   "execution_count": 17,
   "metadata": {},
   "outputs": [
    {
     "name": "stdout",
     "output_type": "stream",
     "text": [
      "{'pp': 'ppp'}\n",
      "{'foldername': 'my_folder',\n",
      " 'expname': 'my_experiment',\n",
      " 'ranking_set_path': 'tempdata/SMILES_ranking_sets/val/rankingset.pt',\n",
      " 'dim_model': 256,\n",
      " 'dim_coords': '120,120,16',\n",
      " 'coord_enc': 'gce',\n",
      " 'gce_resolution': 0.1,\n",
      " 'heads': 4,\n",
      " 'layers': 4}\n",
      "{'foldername': 'my_folder',\n",
      " 'expname': 'my_experiment',\n",
      " 'ranking_set_path': 'tempdata/SMILES_ranking_sets/val/rankingset.pt',\n",
      " 'dim_model': 256,\n",
      " 'dim_coords': '120,120,16',\n",
      " 'coord_enc': 'gce',\n",
      " 'gce_resolution': 0.1,\n",
      " 'heads': 4,\n",
      " 'layers': 4,\n",
      " 'pp': 'ppp'}\n"
     ]
    }
   ],
   "source": [
    "path = \"configs/template/single_experiment.yml\"\n",
    "args = load_single_config(path)\n",
    "pprint.pp(dict_args)\n",
    "pprint.pp(args)\n",
    "args.update(dict_args)\n",
    "pprint.pp(args)"
   ]
  }
 ],
 "metadata": {
  "kernelspec": {
   "display_name": "base",
   "language": "python",
   "name": "python3"
  },
  "language_info": {
   "codemirror_mode": {
    "name": "ipython",
    "version": 3
   },
   "file_extension": ".py",
   "mimetype": "text/x-python",
   "name": "python",
   "nbconvert_exporter": "python",
   "pygments_lexer": "ipython3",
   "version": "3.10.8"
  },
  "orig_nbformat": 4
 },
 "nbformat": 4,
 "nbformat_minor": 2
}
