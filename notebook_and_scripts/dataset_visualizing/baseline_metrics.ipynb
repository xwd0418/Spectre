{
 "cells": [
  {
   "cell_type": "markdown",
   "metadata": {},
   "source": [
    "The purpose of this file is to compute baseline metrics, that is the performance if you use the `average fingerprint` as input (08/30/22)"
   ]
  },
  {
   "cell_type": "code",
   "execution_count": 1,
   "metadata": {},
   "outputs": [],
   "source": [
    "import os\n",
    "from matplotlib import pyplot as plt\n",
    "%matplotlib inline \n",
    "os.chdir(\"../..\")"
   ]
  },
  {
   "cell_type": "code",
   "execution_count": 2,
   "metadata": {},
   "outputs": [],
   "source": [
    "from datasets.hsqc_folder_dataset import FolderDataset\n",
    "from utils.ranker import RankingSet\n",
    "from models.compute_metrics import cm"
   ]
  },
  {
   "cell_type": "code",
   "execution_count": 6,
   "metadata": {},
   "outputs": [],
   "source": [
    "path = \"/workspace/Spectre/tempdata/hyun_fp_data/hsqc_ms_pairs\"\n",
    "train = FolderDataset(dir = path, split=\"train\", input_src=[\"HSQC\"])\n",
    "val = FolderDataset(dir = path, split=\"val\", input_src=[\"HSQC\"])\n",
    "ranker = RankingSet(file_path = \"/workspace/Spectre/tempdata/hyun_pair_ranking_set_07_22/val_pair.pt\", device=\"cuda\")"
   ]
  },
  {
   "cell_type": "code",
   "execution_count": 4,
   "metadata": {},
   "outputs": [
    {
     "name": "stderr",
     "output_type": "stream",
     "text": [
      "100%|██████████| 9794/9794 [00:26<00:00, 366.42it/s]\n"
     ]
    }
   ],
   "source": [
    "import torch\n",
    "from tqdm import tqdm\n",
    "def accumulate_fp(store,ds):\n",
    "    ds_len = len(ds)\n",
    "    for i in tqdm(range(ds_len)):\n",
    "        hsqc, fp = ds[i]\n",
    "        store[:] += fp\n",
    "base = torch.zeros(6144)\n",
    "accumulate_fp(base, train)"
   ]
  },
  {
   "cell_type": "code",
   "execution_count": 5,
   "metadata": {},
   "outputs": [
    {
     "name": "stdout",
     "output_type": "stream",
     "text": [
      "num_train: 9794, num_nonzero: 3790, max_avg_fp_val: 1.0\n"
     ]
    },
    {
     "data": {
      "image/png": "[encoded data removed]",
      "text/plain": [
       "<Figure size 432x288 with 1 Axes>"
      ]
     },
     "metadata": {
      "needs_background": "light"
     },
     "output_type": "display_data"
    }
   ],
   "source": [
    "from matplotlib import pyplot as plt\n",
    "\n",
    "# Some metrics\n",
    "num_train = len(train)\n",
    "num_nonzero = len(torch.nonzero(base))\n",
    "avg_fp = base / num_train\n",
    "max_avg_fp_val = max(avg_fp)\n",
    "\n",
    "print(f\"num_train: {num_train}, num_nonzero: {num_nonzero}, max_avg_fp_val: {max_avg_fp_val}\")\n",
    "\n",
    "plt.hist(avg_fp.numpy(), bins=20)\n",
    "plt.show()"
   ]
  },
  {
   "cell_type": "code",
   "execution_count": 15,
   "metadata": {},
   "outputs": [
    {
     "name": "stderr",
     "output_type": "stream",
     "text": [
      "100%|██████████| 1224/1224 [00:31<00:00, 38.32it/s]\n"
     ]
    }
   ],
   "source": [
    "import numpy as np\n",
    "loss_fn = torch.nn.BCELoss()\n",
    "def accumulate_metrics(avg, ds, ranker):\n",
    "    avg = avg.cuda()\n",
    "    unsqueeze_avg = avg.unsqueeze(0)\n",
    "    metrics = []\n",
    "    ds_len = len(ds)\n",
    "    for i in tqdm(range(ds_len)):\n",
    "        hsqc, fp = ds[i]\n",
    "        fp = fp.cuda()\n",
    "        unsqueeze_fp = fp.unsqueeze(0)\n",
    "        loss = loss_fn(unsqueeze_avg, unsqueeze_fp)\n",
    "        metrics.append(cm(unsqueeze_avg, unsqueeze_fp, ranker, loss))\n",
    "    keys = metrics[0].keys()\n",
    "    accumulate = {k:np.mean([m[k] for m in metrics])for k in keys}\n",
    "    return accumulate\n",
    "metrics = accumulate_metrics(avg_fp, val, ranker)"
   ]
  },
  {
   "cell_type": "code",
   "execution_count": 16,
   "metadata": {},
   "outputs": [
    {
     "name": "stdout",
     "output_type": "stream",
     "text": [
      "{'ce_loss': 0.03362490999317588, 'cos': 0.40042275044263576, 'active_bits': 18.0, 'f1': 0.34398664093696446, 'precision': 0.7023874364560638, 'recall': 0.2368999650199502, 'accuracy': 0.9919200888905911, 'rank_1': 0.0008169934640522876, 'rank_5': 0.004084967320261438, 'rank_10': 0.008986928104575163}\n"
     ]
    }
   ],
   "source": [
    "print(metrics)"
   ]
  }
 ],
 "metadata": {
  "kernelspec": {
   "display_name": "Python 3.8.12 ('base')",
   "language": "python",
   "name": "python3"
  },
  "language_info": {
   "codemirror_mode": {
    "name": "ipython",
    "version": 3
   },
   "file_extension": ".py",
   "mimetype": "text/x-python",
   "name": "python",
   "nbconvert_exporter": "python",
   "pygments_lexer": "ipython3",
   "version": "3.8.12"
  },
  "orig_nbformat": 4,
  "vscode": {
   "interpreter": {
    "hash": "d4d1e4263499bec80672ea0156c357c1ee493ec2b1c70f0acce89fc37c4a6abe"
   }
  }
 },
 "nbformat": 4,
 "nbformat_minor": 2
}
