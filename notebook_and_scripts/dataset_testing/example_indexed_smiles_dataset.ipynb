{
 "cells": [
  {
   "attachments": {},
   "cell_type": "markdown",
   "metadata": {},
   "source": [
    "### 02/08/2023\n",
    "\n",
    "This is a simple testing script to test the indexed dataset"
   ]
  },
  {
   "cell_type": "code",
   "execution_count": 18,
   "metadata": {},
   "outputs": [
    {
     "name": "stdout",
     "output_type": "stream",
     "text": [
      "The autoreload extension is already loaded. To reload it, use:\n",
      "  %reload_ext autoreload\n",
      "['SMILES', 'Chemical', 'HSQC', 'HYUN_FP', 'R2-6144FP', 'MW']\n"
     ]
    }
   ],
   "source": [
    "%load_ext autoreload\n",
    "%autoreload 2\n",
    "\n",
    "from datasets.generic_index_dataset import GenericIndexedModule\n",
    "from datasets.dataset_utils import pad, tokenise_and_mask\n",
    "from models.identity_module import IdentityModule\n",
    "from pathlib import Path\n",
    "import os, pytorch_lightning as pl\n",
    "\n",
    "direct = Path(\"tempdata/SMILES_dataset\")\n",
    "print(os.listdir(direct / \"train\"))"
   ]
  },
  {
   "attachments": {},
   "cell_type": "markdown",
   "metadata": {},
   "source": [
    "### Standard Training Task"
   ]
  },
  {
   "cell_type": "code",
   "execution_count": 16,
   "metadata": {},
   "outputs": [],
   "source": [
    "features = [\"HSQC\", \"HYUN_FP\"]\n",
    "feature_handlers = [pad, None]\n",
    "gim = GenericIndexedModule(direct, features, feature_handlers, len_override = 5)\n",
    "model = IdentityModule()"
   ]
  },
  {
   "cell_type": "code",
   "execution_count": 17,
   "metadata": {},
   "outputs": [
    {
     "ename": "TypeError",
     "evalue": "Trainer.__init__() got an unexpected keyword argument 'gpus'",
     "output_type": "error",
     "traceback": [
      "\u001b[0;31m---------------------------------------------------------------------------\u001b[0m",
      "\u001b[0;31mTypeError\u001b[0m                                 Traceback (most recent call last)",
      "Cell \u001b[0;32mIn[17], line 1\u001b[0m\n\u001b[0;32m----> 1\u001b[0m trainer \u001b[39m=\u001b[39m pl\u001b[39m.\u001b[39;49mTrainer(gpus\u001b[39m=\u001b[39;49m\u001b[39m1\u001b[39;49m, max_epochs\u001b[39m=\u001b[39;49m\u001b[39m2\u001b[39;49m)\n\u001b[1;32m      2\u001b[0m trainer\u001b[39m.\u001b[39mfit(model, gim)\n",
      "File \u001b[0;32m/opt/conda/lib/python3.10/site-packages/pytorch_lightning/utilities/argparse.py:69\u001b[0m, in \u001b[0;36m_defaults_from_env_vars.<locals>.insert_env_defaults\u001b[0;34m(self, *args, **kwargs)\u001b[0m\n\u001b[1;32m     66\u001b[0m kwargs \u001b[39m=\u001b[39m \u001b[39mdict\u001b[39m(\u001b[39mlist\u001b[39m(env_variables\u001b[39m.\u001b[39mitems()) \u001b[39m+\u001b[39m \u001b[39mlist\u001b[39m(kwargs\u001b[39m.\u001b[39mitems()))\n\u001b[1;32m     68\u001b[0m \u001b[39m# all args were already moved to kwargs\u001b[39;00m\n\u001b[0;32m---> 69\u001b[0m \u001b[39mreturn\u001b[39;00m fn(\u001b[39mself\u001b[39;49m, \u001b[39m*\u001b[39;49m\u001b[39m*\u001b[39;49mkwargs)\n",
      "\u001b[0;31mTypeError\u001b[0m: Trainer.__init__() got an unexpected keyword argument 'gpus'"
     ]
    }
   ],
   "source": [
    "trainer = pl.Trainer(gpus=1, max_epochs=2)\n",
    "trainer.fit(model, gim)"
   ]
  },
  {
   "attachments": {},
   "cell_type": "markdown",
   "metadata": {},
   "source": [
    "### Moonshot Task"
   ]
  },
  {
   "cell_type": "code",
   "execution_count": 19,
   "metadata": {},
   "outputs": [],
   "source": [
    "# Vocabulary\n",
    "from models.chemformer.tokeniser import MolEncTokeniser\n",
    "from models.chemformer.utils import REGEX, DEFAULT_MAX_SEQ_LEN\n",
    "\n",
    "vocab_path = \"tempdata/chemformer/bart_vocab.txt\"\n",
    "chem_token_start = 272\n",
    "tokeniser = MolEncTokeniser.from_vocab_file(\n",
    "  vocab_path, REGEX, chem_token_start\n",
    ")\n",
    "\n",
    "features = [\"HSQC\", \"SMILES\"]\n",
    "feature_handlers = [pad, tokenise_and_mask]\n",
    "gim = GenericIndexedModule(direct, features, feature_handlers, len_override = 5, molbart_tokeniser = tokeniser)\n",
    "model = IdentityModule()"
   ]
  },
  {
   "cell_type": "code",
   "execution_count": 24,
   "metadata": {},
   "outputs": [
    {
     "name": "stderr",
     "output_type": "stream",
     "text": [
      "GPU available: True (cuda), used: True\n",
      "TPU available: False, using: 0 TPU cores\n",
      "IPU available: False, using: 0 IPUs\n",
      "HPU available: False, using: 0 HPUs\n",
      "You are using a CUDA device ('NVIDIA GeForce RTX 3090') that has Tensor Cores. To properly utilize them, you should set `torch.set_float32_matmul_precision('medium' | 'high')` which will trade-off precision for performance. For more details, read https://pytorch.org/docs/stable/generated/torch.set_float32_matmul_precision.html#torch.set_float32_matmul_precision\n",
      "LOCAL_RANK: 0 - CUDA_VISIBLE_DEVICES: [0]\n",
      "\n",
      "  | Name | Type   | Params\n",
      "--------------------------------\n",
      "0 | v    | Linear | 6     \n",
      "--------------------------------\n",
      "6         Trainable params\n",
      "0         Non-trainable params\n",
      "6         Total params\n",
      "0.000     Total estimated model params size (MB)\n"
     ]
    },
    {
     "name": "stdout",
     "output_type": "stream",
     "text": [
      "Sanity Checking DataLoader 0:   0%|          | 0/1 [00:00<?, ?it/s]\n",
      "------------------------------\n",
      "Val step with batch_idx 0\n",
      "Epoch 0:   0%|          | 0/1 [00:00<?, ?it/s]                              \n",
      "------------------------------\n",
      "Train step with batch_idx 0\n",
      "Size of batch parameter: 2\n",
      "(tens: torch.Size([5, 21, 3]))\n",
      "\traw_smiles:<class 'tuple'>:\n",
      "    ('Br.C=CC1CN2CCC1CC2C(O)c1ccnc2ccc(OC)cc12', 'Br.C=CC1CN2CCC1CC2C(O)c1ccnc2ccc(OC)cc12', 'Br.C=CCN1CCc2c(cc(O)c(O)c2Br)C(c2ccccc2)C1', 'Br.C=CCN1CCc2c(cc(O)c(O)c2Cl)C(c2ccccc2)C1', 'Br.C=CCN1CCc2cc(O)c(O)cc2C(c2ccccc2)C1')\n",
      "\ttarget:<class 'torch.Tensor'>:(device(type='cuda', index=0), torch.Size([5, 41]))\n",
      "    tensor([[283, 299, 272, 280, 272, 272, 274, 272, 279, 277, 272, 272, 272, 274,\n",
      "             272, 272, 277, 272, 275, 285, 281, 273, 274, 273, 273, 282, 273, 277,\n",
      "             273, 273, 273, 275, 285, 272, 281, 273, 273, 274, 277,   3,   0],\n",
      "            [283, 299, 272, 280, 272, 272, 274, 272, 279, 277, 272, 272, 272, 274,\n",
      "             272, 272, 277, 272, 275, 285, 281, 273, 274, 273, 273, 282, 273, 277,\n",
      "             273, 273, 273, 275, 285, 272, 281, 273, 273, 274, 277,   3,   0],\n",
      "            [283, 299, 272, 280, 272, 272, 279, 274, 272, 272, 273, 277, 273, 275,\n",
      "             273, 273, 275, 285, 281, 273, 275, 285, 281, 273, 277, 283, 281, 272,\n",
      "             275, 273, 277, 273, 273, 273, 273, 273, 277, 281, 272, 274,   3],\n",
      "            [283, 299, 272, 280, 272, 272, 279, 274, 272, 272, 273, 277, 273, 275,\n",
      "             273, 273, 275, 285, 281, 273, 275, 285, 281, 273, 277, 304, 281, 272,\n",
      "             275, 273, 277, 273, 273, 273, 273, 273, 277, 281, 272, 274,   3],\n",
      "            [283, 299, 272, 280, 272, 272, 279, 274, 272, 272, 273, 277, 273, 273,\n",
      "             275, 285, 281, 273, 275, 285, 281, 273, 273, 277, 272, 275, 273, 277,\n",
      "             273, 273, 273, 273, 273, 277, 281, 272, 274,   3,   0,   0,   0]],\n",
      "           device='cuda:0')\n",
      "\ttarget_mask:<class 'torch.Tensor'>:(device(type='cuda', index=0), torch.Size([5, 41]))\n",
      "    tensor([[False, False, False, False, False, False, False, False, False, False,\n",
      "             False, False, False, False, False, False, False, False, False, False,\n",
      "             False, False, False, False, False, False, False, False, False, False,\n",
      "             False, False, False, False, False, False, False, False, False, False,\n",
      "              True],\n",
      "            [False, False, False, False, False, False, False, False, False, False,\n",
      "             False, False, False, False, False, False, False, False, False, False,\n",
      "             False, False, False, False, False, False, False, False, False, False,\n",
      "             False, False, False, False, False, False, False, False, False, False,\n",
      "              True],\n",
      "            [False, False, False, False, False, False, False, False, False, False,\n",
      "             False, False, False, False, False, False, False, False, False, False,\n",
      "             False, False, False, False, False, False, False, False, False, False,\n",
      "             False, False, False, False, False, False, False, False, False, False,\n",
      "             False],\n",
      "            [False, False, False, False, False, False, False, False, False, False,\n",
      "             False, False, False, False, False, False, False, False, False, False,\n",
      "             False, False, False, False, False, False, False, False, False, False,\n",
      "             False, False, False, False, False, False, False, False, False, False,\n",
      "             False],\n",
      "            [False, False, False, False, False, False, False, False, False, False,\n",
      "             False, False, False, False, False, False, False, False, False, False,\n",
      "             False, False, False, False, False, False, False, False, False, False,\n",
      "             False, False, False, False, False, False, False, False,  True,  True,\n",
      "              True]], device='cuda:0')\n",
      "\tdecoder_inputs:<class 'torch.Tensor'>:(device(type='cuda', index=0), torch.Size([5, 41]))\n",
      "    tensor([[  2, 283, 299, 272, 280, 272, 272, 274, 272, 279, 277, 272, 272, 272,\n",
      "             274, 272, 272, 277, 272, 275, 285, 281, 273, 274, 273, 273, 282, 273,\n",
      "             277, 273, 273, 273, 275, 285, 272, 281, 273, 273, 274, 277,   3],\n",
      "            [  2, 283, 299, 272, 280, 272, 272, 274, 272, 279, 277, 272, 272, 272,\n",
      "             274, 272, 272, 277, 272, 275, 285, 281, 273, 274, 273, 273, 282, 273,\n",
      "             277, 273, 273, 273, 275, 285, 272, 281, 273, 273, 274, 277,   3],\n",
      "            [  2, 283, 299, 272, 280, 272, 272, 279, 274, 272, 272, 273, 277, 273,\n",
      "             275, 273, 273, 275, 285, 281, 273, 275, 285, 281, 273, 277, 283, 281,\n",
      "             272, 275, 273, 277, 273, 273, 273, 273, 273, 277, 281, 272, 274],\n",
      "            [  2, 283, 299, 272, 280, 272, 272, 279, 274, 272, 272, 273, 277, 273,\n",
      "             275, 273, 273, 275, 285, 281, 273, 275, 285, 281, 273, 277, 304, 281,\n",
      "             272, 275, 273, 277, 273, 273, 273, 273, 273, 277, 281, 272, 274],\n",
      "            [  2, 283, 299, 272, 280, 272, 272, 279, 274, 272, 272, 273, 277, 273,\n",
      "             273, 275, 285, 281, 273, 275, 285, 281, 273, 273, 277, 272, 275, 273,\n",
      "             277, 273, 273, 273, 273, 273, 277, 281, 272, 274,   3,   0,   0]],\n",
      "           device='cuda:0')\n",
      "\tdecoder_mask:<class 'torch.Tensor'>:(device(type='cuda', index=0), torch.Size([5, 41]))\n",
      "    tensor([[False, False, False, False, False, False, False, False, False, False,\n",
      "             False, False, False, False, False, False, False, False, False, False,\n",
      "             False, False, False, False, False, False, False, False, False, False,\n",
      "             False, False, False, False, False, False, False, False, False, False,\n",
      "             False],\n",
      "            [False, False, False, False, False, False, False, False, False, False,\n",
      "             False, False, False, False, False, False, False, False, False, False,\n",
      "             False, False, False, False, False, False, False, False, False, False,\n",
      "             False, False, False, False, False, False, False, False, False, False,\n",
      "             False],\n",
      "            [False, False, False, False, False, False, False, False, False, False,\n",
      "             False, False, False, False, False, False, False, False, False, False,\n",
      "             False, False, False, False, False, False, False, False, False, False,\n",
      "             False, False, False, False, False, False, False, False, False, False,\n",
      "             False],\n",
      "            [False, False, False, False, False, False, False, False, False, False,\n",
      "             False, False, False, False, False, False, False, False, False, False,\n",
      "             False, False, False, False, False, False, False, False, False, False,\n",
      "             False, False, False, False, False, False, False, False, False, False,\n",
      "             False],\n",
      "            [False, False, False, False, False, False, False, False, False, False,\n",
      "             False, False, False, False, False, False, False, False, False, False,\n",
      "             False, False, False, False, False, False, False, False, False, False,\n",
      "             False, False, False, False, False, False, False, False, False,  True,\n",
      "              True]], device='cuda:0')\n",
      "\tself.device = cuda:0\n",
      "Epoch 0: 100%|██████████| 1/1 [00:00<00:00,  2.49it/s, v_num=16]\n",
      "------------------------------\n",
      "Val step with batch_idx 0\n",
      "Epoch 1:   0%|          | 0/1 [00:00<?, ?it/s, v_num=16]        \n",
      "------------------------------\n",
      "Train step with batch_idx 0\n",
      "Size of batch parameter: 2\n",
      "(tens: torch.Size([5, 21, 3]))\n",
      "\traw_smiles:<class 'tuple'>:\n",
      "    ('Br.C=CC1CN2CCC1CC2C(O)c1ccnc2ccc(OC)cc12', 'Br.C=CC1CN2CCC1CC2C(O)c1ccnc2ccc(OC)cc12', 'Br.C=CCN1CCc2c(cc(O)c(O)c2Br)C(c2ccccc2)C1', 'Br.C=CCN1CCc2c(cc(O)c(O)c2Cl)C(c2ccccc2)C1', 'Br.C=CCN1CCc2cc(O)c(O)cc2C(c2ccccc2)C1')\n",
      "\ttarget:<class 'torch.Tensor'>:(device(type='cuda', index=0), torch.Size([5, 41]))\n",
      "    tensor([[283, 299, 272, 280, 272, 272, 274, 272, 279, 277, 272, 272, 272, 274,\n",
      "             272, 272, 277, 272, 275, 285, 281, 273, 274, 273, 273, 282, 273, 277,\n",
      "             273, 273, 273, 275, 285, 272, 281, 273, 273, 274, 277,   3,   0],\n",
      "            [283, 299, 272, 280, 272, 272, 274, 272, 279, 277, 272, 272, 272, 274,\n",
      "             272, 272, 277, 272, 275, 285, 281, 273, 274, 273, 273, 282, 273, 277,\n",
      "             273, 273, 273, 275, 285, 272, 281, 273, 273, 274, 277,   3,   0],\n",
      "            [283, 299, 272, 280, 272, 272, 279, 274, 272, 272, 273, 277, 273, 275,\n",
      "             273, 273, 275, 285, 281, 273, 275, 285, 281, 273, 277, 283, 281, 272,\n",
      "             275, 273, 277, 273, 273, 273, 273, 273, 277, 281, 272, 274,   3],\n",
      "            [283, 299, 272, 280, 272, 272, 279, 274, 272, 272, 273, 277, 273, 275,\n",
      "             273, 273, 275, 285, 281, 273, 275, 285, 281, 273, 277, 304, 281, 272,\n",
      "             275, 273, 277, 273, 273, 273, 273, 273, 277, 281, 272, 274,   3],\n",
      "            [283, 299, 272, 280, 272, 272, 279, 274, 272, 272, 273, 277, 273, 273,\n",
      "             275, 285, 281, 273, 275, 285, 281, 273, 273, 277, 272, 275, 273, 277,\n",
      "             273, 273, 273, 273, 273, 277, 281, 272, 274,   3,   0,   0,   0]],\n",
      "           device='cuda:0')\n",
      "\ttarget_mask:<class 'torch.Tensor'>:(device(type='cuda', index=0), torch.Size([5, 41]))\n",
      "    tensor([[False, False, False, False, False, False, False, False, False, False,\n",
      "             False, False, False, False, False, False, False, False, False, False,\n",
      "             False, False, False, False, False, False, False, False, False, False,\n",
      "             False, False, False, False, False, False, False, False, False, False,\n",
      "              True],\n",
      "            [False, False, False, False, False, False, False, False, False, False,\n",
      "             False, False, False, False, False, False, False, False, False, False,\n",
      "             False, False, False, False, False, False, False, False, False, False,\n",
      "             False, False, False, False, False, False, False, False, False, False,\n",
      "              True],\n",
      "            [False, False, False, False, False, False, False, False, False, False,\n",
      "             False, False, False, False, False, False, False, False, False, False,\n",
      "             False, False, False, False, False, False, False, False, False, False,\n",
      "             False, False, False, False, False, False, False, False, False, False,\n",
      "             False],\n",
      "            [False, False, False, False, False, False, False, False, False, False,\n",
      "             False, False, False, False, False, False, False, False, False, False,\n",
      "             False, False, False, False, False, False, False, False, False, False,\n",
      "             False, False, False, False, False, False, False, False, False, False,\n",
      "             False],\n",
      "            [False, False, False, False, False, False, False, False, False, False,\n",
      "             False, False, False, False, False, False, False, False, False, False,\n",
      "             False, False, False, False, False, False, False, False, False, False,\n",
      "             False, False, False, False, False, False, False, False,  True,  True,\n",
      "              True]], device='cuda:0')\n",
      "\tdecoder_inputs:<class 'torch.Tensor'>:(device(type='cuda', index=0), torch.Size([5, 41]))\n",
      "    tensor([[  2, 283, 299, 272, 280, 272, 272, 274, 272, 279, 277, 272, 272, 272,\n",
      "             274, 272, 272, 277, 272, 275, 285, 281, 273, 274, 273, 273, 282, 273,\n",
      "             277, 273, 273, 273, 275, 285, 272, 281, 273, 273, 274, 277,   3],\n",
      "            [  2, 283, 299, 272, 280, 272, 272, 274, 272, 279, 277, 272, 272, 272,\n",
      "             274, 272, 272, 277, 272, 275, 285, 281, 273, 274, 273, 273, 282, 273,\n",
      "             277, 273, 273, 273, 275, 285, 272, 281, 273, 273, 274, 277,   3],\n",
      "            [  2, 283, 299, 272, 280, 272, 272, 279, 274, 272, 272, 273, 277, 273,\n",
      "             275, 273, 273, 275, 285, 281, 273, 275, 285, 281, 273, 277, 283, 281,\n",
      "             272, 275, 273, 277, 273, 273, 273, 273, 273, 277, 281, 272, 274],\n",
      "            [  2, 283, 299, 272, 280, 272, 272, 279, 274, 272, 272, 273, 277, 273,\n",
      "             275, 273, 273, 275, 285, 281, 273, 275, 285, 281, 273, 277, 304, 281,\n",
      "             272, 275, 273, 277, 273, 273, 273, 273, 273, 277, 281, 272, 274],\n",
      "            [  2, 283, 299, 272, 280, 272, 272, 279, 274, 272, 272, 273, 277, 273,\n",
      "             273, 275, 285, 281, 273, 275, 285, 281, 273, 273, 277, 272, 275, 273,\n",
      "             277, 273, 273, 273, 273, 273, 277, 281, 272, 274,   3,   0,   0]],\n",
      "           device='cuda:0')\n",
      "\tdecoder_mask:<class 'torch.Tensor'>:(device(type='cuda', index=0), torch.Size([5, 41]))\n",
      "    tensor([[False, False, False, False, False, False, False, False, False, False,\n",
      "             False, False, False, False, False, False, False, False, False, False,\n",
      "             False, False, False, False, False, False, False, False, False, False,\n",
      "             False, False, False, False, False, False, False, False, False, False,\n",
      "             False],\n",
      "            [False, False, False, False, False, False, False, False, False, False,\n",
      "             False, False, False, False, False, False, False, False, False, False,\n",
      "             False, False, False, False, False, False, False, False, False, False,\n",
      "             False, False, False, False, False, False, False, False, False, False,\n",
      "             False],\n",
      "            [False, False, False, False, False, False, False, False, False, False,\n",
      "             False, False, False, False, False, False, False, False, False, False,\n",
      "             False, False, False, False, False, False, False, False, False, False,\n",
      "             False, False, False, False, False, False, False, False, False, False,\n",
      "             False],\n",
      "            [False, False, False, False, False, False, False, False, False, False,\n",
      "             False, False, False, False, False, False, False, False, False, False,\n",
      "             False, False, False, False, False, False, False, False, False, False,\n",
      "             False, False, False, False, False, False, False, False, False, False,\n",
      "             False],\n",
      "            [False, False, False, False, False, False, False, False, False, False,\n",
      "             False, False, False, False, False, False, False, False, False, False,\n",
      "             False, False, False, False, False, False, False, False, False, False,\n",
      "             False, False, False, False, False, False, False, False, False,  True,\n",
      "              True]], device='cuda:0')\n",
      "\tself.device = cuda:0\n",
      "Epoch 1: 100%|██████████| 1/1 [00:00<00:00,  1.91it/s, v_num=16]\n",
      "------------------------------\n",
      "Val step with batch_idx 0\n",
      "Epoch 1: 100%|██████████| 1/1 [00:01<00:00,  1.01s/it, v_num=16]"
     ]
    },
    {
     "name": "stderr",
     "output_type": "stream",
     "text": [
      "`Trainer.fit` stopped: `max_epochs=2` reached.\n"
     ]
    },
    {
     "name": "stdout",
     "output_type": "stream",
     "text": [
      "Epoch 1: 100%|██████████| 1/1 [00:01<00:00,  1.02s/it, v_num=16]\n"
     ]
    }
   ],
   "source": [
    "trainer = pl.Trainer(max_epochs=2)\n",
    "trainer.fit(model, gim)"
   ]
  }
 ],
 "metadata": {
  "kernelspec": {
   "display_name": "base",
   "language": "python",
   "name": "python3"
  },
  "language_info": {
   "codemirror_mode": {
    "name": "ipython",
    "version": 3
   },
   "file_extension": ".py",
   "mimetype": "text/x-python",
   "name": "python",
   "nbconvert_exporter": "python",
   "pygments_lexer": "ipython3",
   "version": "3.10.8"
  },
  "orig_nbformat": 4,
  "vscode": {
   "interpreter": {
    "hash": "d4d1e4263499bec80672ea0156c357c1ee493ec2b1c70f0acce89fc37c4a6abe"
   }
  }
 },
 "nbformat": 4,
 "nbformat_minor": 2
}
