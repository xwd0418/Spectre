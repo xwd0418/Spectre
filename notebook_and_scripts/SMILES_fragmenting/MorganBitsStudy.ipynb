{
 "cells": [
  {
   "cell_type": "markdown",
   "metadata": {},
   "source": [
    "https://www.rdkit.org/docs/GettingStartedInPython.html"
   ]
  },
  {
   "cell_type": "code",
   "execution_count": 1,
   "metadata": {},
   "outputs": [],
   "source": [
    "from rdkit import Chem\n",
    "from rdkit.Chem import rdMolDescriptors\n",
    "from rdkit.Chem import AllChem\n",
    "from rdkit.Chem import Draw\n"
   ]
  },
  {
   "cell_type": "code",
   "execution_count": 2,
   "metadata": {},
   "outputs": [
    {
     "data": {
      "image/jpeg": "[encoded data removed]",
      "image/png": "[encoded data removed]",
      "text/plain": [
       "<PIL.PngImagePlugin.PngImageFile image mode=RGB size=300x300>"
      ]
     },
     "metadata": {},
     "output_type": "display_data"
    }
   ],
   "source": [
    "m = Chem.MolFromSmiles('c1cccnc1C')\n",
    "m = Chem.AddHs(m)\n",
    "\n",
    "for atom in m.GetAtoms():\n",
    "    atom.SetProp(\"atomNote\", \"\")  # Use \"atomNote\" to display atom indices\n",
    "\n",
    "# # Draw the molecule with atom indices\n",
    "# img = Draw.MolToImage(m, legend=\"Molecule with Atom Indices\")\n",
    "# img.show()\n",
    "\n",
    "for bond in m.GetBonds():\n",
    "    bond.SetProp(\"bondNote\", str(bond.GetIdx()))  # Use \"bondNote\" to display bond indices\n",
    "\n",
    "# Draw the molecule with bond indices\n",
    "img = Draw.MolToImage(m, legend=\"Molecule with Bond Indices\")\n",
    "img.show()"
   ]
  },
  {
   "cell_type": "code",
   "execution_count": null,
   "metadata": {},
   "outputs": [
    {
     "ename": "NameError",
     "evalue": "name 'np' is not defined",
     "output_type": "error",
     "traceback": [
      "\u001b[0;31m---------------------------------------------------------------------------\u001b[0m",
      "\u001b[0;31mNameError\u001b[0m                                 Traceback (most recent call last)",
      "Cell \u001b[0;32mIn[25], line 11\u001b[0m\n\u001b[1;32m      8\u001b[0m m \u001b[38;5;241m=\u001b[39m Chem\u001b[38;5;241m.\u001b[39mMolFromSmiles(\u001b[38;5;124m'\u001b[39m\u001b[38;5;124mc1cccnc1C\u001b[39m\u001b[38;5;124m'\u001b[39m)\n\u001b[1;32m      9\u001b[0m morganFP \u001b[38;5;241m=\u001b[39m fpgen\u001b[38;5;241m.\u001b[39mGetSparseFingerprint(m, additionalOutput\u001b[38;5;241m=\u001b[39mao)\n\u001b[0;32m---> 11\u001b[0m \u001b[43mnp\u001b[49m\u001b[38;5;241m.\u001b[39marray(morganFP)\n",
      "\u001b[0;31mNameError\u001b[0m: name 'np' is not defined"
     ]
    }
   ],
   "source": [
    "import numpy as np\n",
    "\n",
    "from rdkit.Chem import rdFingerprintGenerator\n",
    "fpgen = rdFingerprintGenerator.GetMorganGenerator(radius=10)\n",
    "\n",
    "ao = rdFingerprintGenerator.AdditionalOutput()\n",
    "ao.CollectBitInfoMap()\n",
    "\n",
    "\n",
    "m = Chem.MolFromSmiles('c1cccnc1C')\n",
    "morganFP = fpgen.GetSparseFingerprint(m, additionalOutput=ao)\n",
    "\n",
    "np.array(morganFP)"
   ]
  },
  {
   "cell_type": "code",
   "execution_count": null,
   "metadata": {},
   "outputs": [],
   "source": []
  },
  {
   "cell_type": "code",
   "execution_count": null,
   "metadata": {},
   "outputs": [],
   "source": [
    "from rdkit import Chem\n",
    "from rdkit.Chem import AllChem\n",
    "import torch\n",
    "m = Chem.MolFromSmiles('c1cccnc1C')\n",
    "m = Chem.AddHs(m) \n",
    "ao = AllChem.AdditionalOutput()\n",
    "\n",
    "ao.CollectBitInfoMap()\n",
    "fpgen = AllChem.GetMorganGenerator(radius=2, fpSize=1024, )\n",
    "\n",
    "\n",
    "morganFP = fpgen.GetFingerprint(m, additionalOutput=ao)\n",
    "# print(torch.tensor(morganFP), len(morganFP), len(torch.tensor(morganFP)), len(torch.tensor(morganFP).nonzero()))"
   ]
  },
  {
   "cell_type": "code",
   "execution_count": 18,
   "metadata": {},
   "outputs": [
    {
     "data": {
      "text/plain": [
       "True"
      ]
     },
     "execution_count": 18,
     "metadata": {},
     "output_type": "execute_result"
    }
   ],
   "source": [
    "AllChem.GetMorganGenerator == Chem.rdFingerprintGenerator.GetMorganGenerator"
   ]
  },
  {
   "cell_type": "code",
   "execution_count": 11,
   "metadata": {},
   "outputs": [
    {
     "name": "stdout",
     "output_type": "stream",
     "text": [
      "Help on built-in function GetMorganGenerator in module rdkit.Chem.rdFingerprintGenerator:\n",
      "\n",
      "GetMorganGenerator(...)\n",
      "    GetMorganGenerator([  (int)radius=3 [, (bool)countSimulation=False [, (bool)includeChirality=False [, (bool)useBondTypes=True [, (bool)onlyNonzeroInvariants=False [, (bool)includeRingMembership=True [, (AtomPairsParameters)countBounds=None [, (int)fpSize=2048 [, (AtomPairsParameters)atomInvariantsGenerator=None [, (AtomPairsParameters)bondInvariantsGenerator=None [, (bool)includeRedundantEnvironments=False]]]]]]]]]]]) -> FingerprintGenerator64 :\n",
      "        Get a morgan fingerprint generator\n",
      "        \n",
      "          ARGUMENTS:\n",
      "            - radius:  the number of iterations to grow the fingerprint\n",
      "            - countSimulation: if set, use count simulation while generating the fingerprint\n",
      "            - includeChirality: if set, chirality information will be added to the generated fingerprint\n",
      "            - useBondTypes: if set, bond types will be included as a part of the default bond invariants\n",
      "            - countBounds: boundaries for count simulation, corresponding bit will be  set if the count is higher than the number provided for that spot\n",
      "            - fpSize: size of the generated fingerprint, does not affect the sparse versions\n",
      "            - atomInvariantsGenerator: atom invariants to be used during fingerprint generation\n",
      "        \n",
      "        This generator supports the following AdditionalOutput types:\n",
      "            - atomToBits: which bits each atom is the center of\n",
      "            - atomCounts: how many bits each atom sets\n",
      "            - bitInfoMap: map from bitId to (atomId1, radius) pairs\n",
      "        \n",
      "          RETURNS: FingerprintGenerator\n",
      "        \n",
      "        \n",
      "    \n",
      "        C++ signature :\n",
      "            RDKit::FingerprintGenerator<unsigned long>* GetMorganGenerator([ unsigned int=3 [,bool=False [,bool=False [,bool=True [,bool=False [,bool=True [,boost::python::api::object {lvalue}=None [,unsigned int=2048 [,boost::python::api::object {lvalue}=None [,boost::python::api::object {lvalue}=None [,bool=False]]]]]]]]]]])\n",
      "\n"
     ]
    }
   ],
   "source": [
    "help(AllChem.GetMorganGenerator)"
   ]
  },
  {
   "cell_type": "code",
   "execution_count": 9,
   "metadata": {},
   "outputs": [
    {
     "data": {
      "text/plain": [
       "{}"
      ]
     },
     "execution_count": 9,
     "metadata": {},
     "output_type": "execute_result"
    }
   ],
   "source": [
    "bi = ao.GetBitPaths()\n",
    "bi"
   ]
  },
  {
   "cell_type": "code",
   "execution_count": null,
   "metadata": {},
   "outputs": [],
   "source": [
    "bi = ao.GetBitInfoMap()\n",
    "bi"
   ]
  },
  {
   "cell_type": "code",
   "execution_count": 8,
   "metadata": {},
   "outputs": [
    {
     "data": {
      "text/plain": [
       "(363, 363)"
      ]
     },
     "execution_count": 8,
     "metadata": {},
     "output_type": "execute_result"
    }
   ],
   "source": [
    "2392445291 % 2048, 55253355 % 2048"
   ]
  },
  {
   "cell_type": "code",
   "execution_count": 5,
   "metadata": {},
   "outputs": [
    {
     "data": {
      "text/plain": [
       "{55253355: ((7, 1), (8, 1), (9, 1), (10, 1)),\n",
       " 62162552: ((1, 2),),\n",
       " 442148024: ((3, 2),),\n",
       " 447750523: ((6, 1),),\n",
       " 1028523287: ((6, 2),),\n",
       " 1064828642: ((0, 2),),\n",
       " 1100037548: ((4, 1),),\n",
       " 1130134577: ((0, 1),),\n",
       " 1759772490: ((5, 2),),\n",
       " 2041434490: ((4, 0),),\n",
       " 2063064224: ((3, 1),),\n",
       " 2246728737: ((6, 0),),\n",
       " 2392445291: ((1, 1), (2, 1)),\n",
       " 2615172355: ((4, 2),),\n",
       " 2730584333: ((2, 2),),\n",
       " 3217380708: ((5, 0),),\n",
       " 3218693969: ((0, 0), (1, 0), (2, 0), (3, 0)),\n",
       " 3321501787: ((11, 1), (12, 1), (13, 1)),\n",
       " 4036277955: ((5, 1),),\n",
       " 4277593716: ((7, 0), (8, 0), (9, 0), (10, 0), (11, 0), (12, 0), (13, 0))}"
      ]
     },
     "execution_count": 5,
     "metadata": {},
     "output_type": "execute_result"
    }
   ],
   "source": [
    "bi = ao.GetBitInfoMap()\n",
    "bi"
   ]
  },
  {
   "cell_type": "code",
   "execution_count": 6,
   "metadata": {},
   "outputs": [
    {
     "name": "stdout",
     "output_type": "stream",
     "text": [
      "radius 0\n",
      "radius 1\n",
      "radius 2\n"
     ]
    }
   ],
   "source": [
    "\n",
    "for r in range(0, radius+1):\n",
    "    print(\"radius\", r)\n",
    "    for bit in bi:\n",
    "        \n",
    "        if bi[bit][0][1] == r:\n",
    "            mfp2_svg = Draw.DrawMorganBit(m, bit, bi, useSVG=True)\n",
    "            # print(bi[bit])\n",
    "            # display(mfp2_svg)"
   ]
  },
  {
   "cell_type": "code",
   "execution_count": 7,
   "metadata": {},
   "outputs": [
    {
     "name": "stdout",
     "output_type": "stream",
     "text": [
      "radius: 0\n",
      "radius: 1\n",
      "radius: 2\n"
     ]
    },
    {
     "data": {
      "text/plain": [
       "{'Ccn', 'cC', 'cc', 'ccC', 'ccc', 'ccn', 'cn', 'cnc'}"
      ]
     },
     "execution_count": 7,
     "metadata": {},
     "output_type": "execute_result"
    }
   ],
   "source": [
    "\"\"\"deprecated because we want circular subgraphs\n",
    "\"\"\"\n",
    "def get_sub_graphs(smiles):\n",
    "    RADIUS_UPPER_LIMIT = 2\n",
    "    m = Chem.MolFromSmiles(smiles)\n",
    "    m = Chem.AddHs(m) # not needed because we look at SMILES, not like generate_FPs\n",
    "    all_subgraphs_smiles = set()\n",
    "    for radius in range(RADIUS_UPPER_LIMIT+1):\n",
    "        print(f\"radius: {radius}\")\n",
    "        subgraphs = Chem.FindUniqueSubgraphsOfLengthN(m, radius)\n",
    "        for subgraph in subgraphs:\n",
    "            # Get the subgraph as a new molecule\n",
    "            submol = Chem.PathToSubmol(m, subgraph)\n",
    "            smiles = Chem.MolToSmiles(submol, canonical=True)\n",
    "            all_subgraphs_smiles.add(smiles)\n",
    "            # print(smiles)\n",
    "            # img = Draw.MolToImage(submol, size=(100, 90))\n",
    "            # img.show()\n",
    "    # print(len(all_subgraphs_smiles))\n",
    "    return all_subgraphs_smiles\n",
    "get_sub_graphs(\"c1cccnc1C\")"
   ]
  },
  {
   "cell_type": "code",
   "execution_count": 19,
   "metadata": {},
   "outputs": [
    {
     "name": "stdout",
     "output_type": "stream",
     "text": [
      "Number of bits set: 20\n",
      "Bit ID: 55253355\n",
      "[H]c\n",
      "Bit ID: 62162552\n",
      "ccccc\n",
      "Bit ID: 442148024\n",
      "cccnc\n",
      "Bit ID: 447750523\n",
      "cC\n",
      "Bit ID: 1028523287\n",
      "cc(C)n\n",
      "Bit ID: 1064828642\n",
      "cccc(C)n\n",
      "Bit ID: 1100037548\n",
      "cnc\n",
      "Bit ID: 1130134577\n",
      "ccc\n",
      "Bit ID: 1759772490\n",
      "ccc(C)nc\n",
      "Bit ID: 2041434490\n",
      "\n",
      "Bit ID: 2063064224\n",
      "ccn\n",
      "Bit ID: 2246728737\n",
      "Already found: \n",
      "\n",
      "Bit ID: 2392445291\n",
      "Already found: ccc\n",
      "ccc\n",
      "Bit ID: 2615172355\n",
      "ccnc(c)C\n",
      "Bit ID: 2730584333\n",
      "ccccn\n",
      "Bit ID: 3217380708\n",
      "Already found: \n",
      "\n",
      "Bit ID: 3218693969\n",
      "Already found: \n",
      "\n",
      "Bit ID: 3321501787\n",
      "[H]C\n",
      "Bit ID: 4036277955\n",
      "Already found: cc(C)n\n",
      "cc(C)n\n",
      "Bit ID: 4277593716\n",
      "Already found: \n",
      "\n"
     ]
    },
    {
     "name": "stderr",
     "output_type": "stream",
     "text": [
      "[01:06:32] DEPRECATION WARNING: please use MorganGenerator\n"
     ]
    },
    {
     "data": {
      "text/plain": [
       "{'',\n",
       " '[H]C',\n",
       " '[H]c',\n",
       " 'cC',\n",
       " 'cc(C)n',\n",
       " 'ccc',\n",
       " 'ccc(C)nc',\n",
       " 'cccc(C)n',\n",
       " 'ccccc',\n",
       " 'ccccn',\n",
       " 'cccnc',\n",
       " 'ccn',\n",
       " 'ccnc(c)C',\n",
       " 'cnc'}"
      ]
     },
     "metadata": {},
     "output_type": "display_data"
    },
    {
     "name": "stdout",
     "output_type": "stream",
     "text": [
      "Number of circular substructures: 14\n"
     ]
    }
   ],
   "source": [
    "\n",
    "def get_circular_substructures(smiles, radius=2):\n",
    "    # Example molecule\n",
    "    mol = Chem.MolFromSmiles(smiles)\n",
    "    mol = Chem.AddHs(mol)\n",
    "\n",
    "    # Compute Morgan fingerprint with radius \n",
    "    info = {}\n",
    "    fp = rdMolDescriptors.GetMorganFingerprint(mol, radius=radius, bitInfo=info)\n",
    "    print(f\"Number of bits set: {len(fp.GetNonzeroElements())}\")\n",
    "    # Extract circular subgraphs\n",
    "    circular_substructures = set()\n",
    "    # display(info)\n",
    "    for bit_id, atom_envs in info.items():\n",
    "        print(f\"Bit ID: {bit_id}\")\n",
    "        for atom_idx, radius in atom_envs:\n",
    "            # Get the circular environment as a subgraph\n",
    "            env = Chem.FindAtomEnvironmentOfRadiusN(mol, radius, atom_idx)\n",
    "            submol = Chem.PathToSubmol(mol, env)\n",
    "            smiles = Chem.MolToSmiles(submol)\n",
    "            if smiles in circular_substructures:\n",
    "                print(f\"Already found: {smiles}\")\n",
    "            circular_substructures.add(smiles)\n",
    "            \n",
    "            print(smiles)\n",
    "            break\n",
    "    display(circular_substructures)\n",
    "    print(f\"Number of circular substructures: {len(circular_substructures)}\")\n",
    "\n",
    "smile = 'c1cccnc1C'\n",
    "get_circular_substructures(smile)"
   ]
  },
  {
   "cell_type": "code",
   "execution_count": 9,
   "metadata": {},
   "outputs": [
    {
     "name": "stdout",
     "output_type": "stream",
     "text": [
      "((0, 1),)\n"
     ]
    },
    {
     "data": {
      "image/svg+xml": [
       "<svg xmlns=\"http://www.w3.org/2000/svg\" xmlns:rdkit=\"http://www.rdkit.org/xml\" xmlns:xlink=\"http://www.w3.org/1999/xlink\" version=\"1.1\" baseProfile=\"full\" xml:space=\"preserve\" width=\"150px\" height=\"150px\" viewBox=\"0 0 150 150\">\n",
       "<!-- END OF HEADER -->\n",
       "<rect style=\"opacity:1.0;fill:#FFFFFF;stroke:none\" width=\"150.0\" height=\"150.0\" x=\"0.0\" y=\"0.0\"> </rect>\n",
       "<ellipse cx=\"77.5\" cy=\"94.9\" rx=\"8.6\" ry=\"8.6\" class=\"atom-0\" style=\"fill:#9999E5;fill-rule:evenodd;stroke:#9999E5;stroke-width:1.0px;stroke-linecap:butt;stroke-linejoin:miter;stroke-opacity:1\"/>\n",
       "<ellipse cx=\"34.4\" cy=\"97.8\" rx=\"8.6\" ry=\"8.6\" class=\"atom-1\" style=\"fill:#E5E533;fill-rule:evenodd;stroke:#E5E533;stroke-width:1.0px;stroke-linecap:butt;stroke-linejoin:miter;stroke-opacity:1\"/>\n",
       "<ellipse cx=\"96.5\" cy=\"56.1\" rx=\"8.6\" ry=\"8.6\" class=\"atom-4\" style=\"fill:#E5E533;fill-rule:evenodd;stroke:#E5E533;stroke-width:1.0px;stroke-linecap:butt;stroke-linejoin:miter;stroke-opacity:1\"/>\n",
       "<path class=\"bond-0 atom-0 atom-1\" d=\"M 77.5,94.9 L 34.4,97.8\" style=\"fill:none;fill-rule:evenodd;stroke:#000000;stroke-width:2.0px;stroke-linecap:butt;stroke-linejoin:miter;stroke-opacity:1\"/>\n",
       "<path class=\"bond-0 atom-0 atom-1\" d=\"M 73.3,88.7 L 37.7,91.1\" style=\"fill:none;fill-rule:evenodd;stroke:#000000;stroke-width:2.0px;stroke-linecap:butt;stroke-linejoin:miter;stroke-opacity:1;stroke-dasharray:6,4\"/>\n",
       "<path class=\"bond-1 atom-1 atom-2\" d=\"M 38.2,97.5 L 13.6,60.9\" style=\"fill:none;fill-rule:evenodd;stroke:#E5E5E5;stroke-width:2.3px;stroke-linecap:butt;stroke-linejoin:miter;stroke-opacity:1\"/>\n",
       "<path class=\"bond-1 atom-1 atom-2\" d=\"M 32.8,101.2 L 8.2,64.5\" style=\"fill:none;fill-rule:evenodd;stroke:#E5E5E5;stroke-width:2.3px;stroke-linecap:butt;stroke-linejoin:miter;stroke-opacity:1;stroke-dasharray:6,4\"/>\n",
       "<path class=\"bond-2 atom-3 atom-4\" d=\"M 75.7,19.3 L 100.3,55.9\" style=\"fill:none;fill-rule:evenodd;stroke:#E5E5E5;stroke-width:2.3px;stroke-linecap:butt;stroke-linejoin:miter;stroke-opacity:1\"/>\n",
       "<path class=\"bond-2 atom-3 atom-4\" d=\"M 70.3,22.9 L 94.9,59.5\" style=\"fill:none;fill-rule:evenodd;stroke:#E5E5E5;stroke-width:2.3px;stroke-linecap:butt;stroke-linejoin:miter;stroke-opacity:1;stroke-dasharray:6,4\"/>\n",
       "<path class=\"bond-3 atom-4 atom-5\" d=\"M 96.5,56.1 L 135.3,53.5\" style=\"fill:none;fill-rule:evenodd;stroke:#E5E5E5;stroke-width:2.3px;stroke-linecap:butt;stroke-linejoin:miter;stroke-opacity:1\"/>\n",
       "<path class=\"bond-4 atom-4 atom-0\" d=\"M 96.5,56.1 L 77.5,94.9\" style=\"fill:none;fill-rule:evenodd;stroke:#000000;stroke-width:2.0px;stroke-linecap:butt;stroke-linejoin:miter;stroke-opacity:1\"/>\n",
       "<path class=\"bond-4 atom-4 atom-0\" d=\"M 89.1,56.6 L 73.3,88.7\" style=\"fill:none;fill-rule:evenodd;stroke:#000000;stroke-width:2.0px;stroke-linecap:butt;stroke-linejoin:miter;stroke-opacity:1;stroke-dasharray:6,4\"/>\n",
       "<path class=\"bond-5 atom-0 atom-6\" d=\"M 77.5,94.9 L 97.2,124.3\" style=\"fill:none;fill-rule:evenodd;stroke:#E5E5E5;stroke-width:2.3px;stroke-linecap:butt;stroke-linejoin:miter;stroke-opacity:1\"/>\n",
       "<path class=\"bond-6 atom-1 atom-7\" d=\"M 34.4,97.8 L 19.2,128.9\" style=\"fill:none;fill-rule:evenodd;stroke:#E5E5E5;stroke-width:2.3px;stroke-linecap:butt;stroke-linejoin:miter;stroke-opacity:1\"/>\n",
       "<path class=\"atom-2\" d=\"M 8.1 60.6 L 9.9 58.7 L 7.5 58.3 L 7.9 57.0 L 10.1 58.1 L 9.7 55.7 L 11.0 55.7 L 10.7 58.1 L 12.9 57.1 L 13.3 58.3 L 10.9 58.7 L 12.6 60.6 L 11.5 61.3 L 10.3 59.0 L 9.1 61.3 L 8.1 60.6 \" fill=\"#191919\"/>\n",
       "<path class=\"atom-3\" d=\"M 70.2 18.9 L 72.0 17.1 L 69.6 16.6 L 70.0 15.4 L 72.2 16.5 L 71.8 14.1 L 73.1 14.1 L 72.8 16.5 L 75.0 15.4 L 75.4 16.6 L 73.0 17.1 L 74.7 18.9 L 73.6 19.7 L 72.4 17.4 L 71.2 19.7 L 70.2 18.9 \" fill=\"#191919\"/>\n",
       "<path class=\"atom-5\" d=\"M 137.3 51.9 L 139.1 50.1 L 136.7 49.6 L 137.1 48.3 L 139.3 49.4 L 139.0 47.0 L 140.3 47.0 L 139.9 49.4 L 142.1 48.4 L 142.5 49.6 L 140.1 50.0 L 141.8 51.9 L 140.8 52.6 L 139.6 50.3 L 138.4 52.6 L 137.3 51.9 \" fill=\"#191919\"/>\n",
       "<path class=\"atom-6\" d=\"M 99.3 129.4 L 101.0 127.6 L 98.7 127.1 L 99.0 125.8 L 101.2 126.9 L 100.9 124.5 L 102.2 124.5 L 101.8 126.9 L 104.1 125.9 L 104.4 127.1 L 102.0 127.5 L 103.8 129.4 L 102.7 130.1 L 101.5 127.8 L 100.3 130.1 L 99.3 129.4 \" fill=\"#191919\"/>\n",
       "<path class=\"atom-7\" d=\"M 13.1 135.2 L 14.9 133.3 L 12.5 132.9 L 12.9 131.6 L 15.1 132.7 L 14.8 130.3 L 16.1 130.3 L 15.7 132.7 L 17.9 131.7 L 18.3 132.9 L 15.9 133.3 L 17.6 135.2 L 16.6 135.9 L 15.4 133.6 L 14.2 135.9 L 13.1 135.2 \" fill=\"#191919\"/>\n",
       "<path class=\"note\" d=\"M 56.6 108.1 Q 55.4 108.1, 54.9 107.3 Q 54.3 106.5, 54.3 105.0 Q 54.3 103.5, 54.9 102.7 Q 55.4 101.9, 56.6 101.9 Q 57.7 101.9, 58.2 102.7 Q 58.8 103.5, 58.8 105.0 Q 58.8 106.5, 58.2 107.3 Q 57.7 108.1, 56.6 108.1 M 56.6 107.4 Q 57.2 107.4, 57.6 106.8 Q 57.9 106.2, 57.9 105.0 Q 57.9 103.8, 57.6 103.2 Q 57.2 102.6, 56.6 102.6 Q 55.9 102.6, 55.5 103.2 Q 55.2 103.8, 55.2 105.0 Q 55.2 106.2, 55.5 106.8 Q 55.9 107.4, 56.6 107.4 \" fill=\"#000000\"/>\n",
       "<path class=\"note\" d=\"M 10.2 89.5 L 11.5 89.5 L 11.5 84.9 L 10.0 85.4 L 9.8 84.8 L 11.7 84.0 L 12.3 84.1 L 12.3 89.5 L 13.5 89.5 L 13.5 90.2 L 10.2 90.2 L 10.2 89.5 \" fill=\"#000000\"/>\n",
       "<path class=\"note\" d=\"M 100.5 29.6 L 101.2 29.6 L 101.2 30.3 L 100.5 30.3 L 100.5 31.7 L 99.7 31.7 L 99.7 30.3 L 96.5 30.3 L 96.5 29.7 L 99.2 25.5 L 100.5 25.5 L 100.5 29.6 M 97.5 29.6 L 99.7 29.6 L 99.7 26.1 L 97.5 29.6 \" fill=\"#000000\"/>\n",
       "<path class=\"note\" d=\"M 117.6 45.3 Q 118.2 45.3, 118.6 45.5 Q 119.1 45.8, 119.3 46.2 Q 119.6 46.6, 119.6 47.2 Q 119.6 47.8, 119.2 48.3 Q 118.9 48.7, 118.4 49.0 Q 117.9 49.2, 117.4 49.2 Q 116.8 49.2, 116.3 49.0 Q 115.8 48.8, 115.4 48.4 L 115.9 47.9 Q 116.2 48.2, 116.6 48.3 Q 117.0 48.5, 117.4 48.5 Q 117.9 48.5, 118.3 48.2 Q 118.7 47.8, 118.7 47.2 Q 118.7 46.6, 118.3 46.3 Q 117.9 46.0, 117.3 46.0 Q 116.8 46.0, 116.2 46.2 L 115.7 46.0 L 116.0 43.0 L 119.2 43.0 L 119.1 43.7 L 116.7 43.7 L 116.6 45.5 Q 117.1 45.3, 117.6 45.3 \" fill=\"#000000\"/>\n",
       "<path class=\"note\" d=\"M 95.0 78.6 Q 95.6 78.6, 96.0 78.8 Q 96.4 79.1, 96.7 79.5 Q 96.9 79.9, 96.9 80.4 Q 96.9 81.0, 96.6 81.5 Q 96.4 82.0, 95.9 82.2 Q 95.4 82.5, 94.8 82.5 Q 93.7 82.5, 93.2 81.8 Q 92.7 81.0, 92.7 79.5 Q 92.7 77.9, 93.3 77.1 Q 94.0 76.2, 95.3 76.2 Q 95.7 76.2, 96.0 76.3 Q 96.3 76.4, 96.7 76.6 L 96.3 77.2 Q 95.9 76.9, 95.3 76.9 Q 94.5 76.9, 94.0 77.5 Q 93.6 78.0, 93.5 79.2 Q 93.8 78.9, 94.2 78.8 Q 94.6 78.6, 95.0 78.6 M 94.8 81.8 Q 95.2 81.8, 95.4 81.6 Q 95.7 81.4, 95.9 81.1 Q 96.0 80.8, 96.0 80.5 Q 96.0 79.9, 95.7 79.6 Q 95.4 79.3, 94.9 79.3 Q 94.5 79.3, 94.1 79.4 Q 93.8 79.6, 93.5 79.9 Q 93.6 80.9, 93.9 81.3 Q 94.2 81.8, 94.8 81.8 \" fill=\"#000000\"/>\n",
       "<path class=\"note\" d=\"M 101.5 103.2 L 98.3 103.2 L 98.3 102.6 L 102.3 102.6 L 102.3 103.2 L 99.8 108.7 L 99.0 108.7 L 101.5 103.2 \" fill=\"#000000\"/>\n",
       "<path class=\"note\" d=\"M 37.5 122.7 Q 38.1 123.0, 38.4 123.3 Q 38.7 123.7, 38.7 124.3 Q 38.7 124.8, 38.4 125.2 Q 38.2 125.6, 37.7 125.8 Q 37.2 126.1, 36.6 126.1 Q 35.6 126.1, 35.0 125.6 Q 34.4 125.1, 34.4 124.3 Q 34.4 123.8, 34.7 123.4 Q 34.9 123.0, 35.4 122.8 Q 35.0 122.5, 34.8 122.2 Q 34.6 121.9, 34.6 121.3 Q 34.6 120.6, 35.1 120.2 Q 35.7 119.8, 36.6 119.8 Q 37.4 119.8, 38.0 120.2 Q 38.5 120.6, 38.5 121.3 Q 38.5 121.8, 38.2 122.1 Q 38.0 122.5, 37.5 122.7 M 36.6 120.4 Q 36.0 120.4, 35.8 120.7 Q 35.5 120.9, 35.5 121.3 Q 35.5 121.7, 35.7 121.9 Q 35.9 122.1, 36.1 122.2 Q 36.4 122.3, 36.9 122.5 Q 37.3 122.3, 37.5 122.0 Q 37.6 121.7, 37.6 121.3 Q 37.6 120.9, 37.3 120.7 Q 37.1 120.4, 36.6 120.4 M 36.6 125.4 Q 37.2 125.4, 37.5 125.1 Q 37.8 124.8, 37.8 124.3 Q 37.8 124.0, 37.7 123.7 Q 37.5 123.5, 37.2 123.4 Q 36.9 123.3, 36.5 123.1 L 36.1 123.0 Q 35.6 123.3, 35.4 123.6 Q 35.3 123.9, 35.3 124.3 Q 35.3 124.8, 35.6 125.1 Q 36.0 125.4, 36.6 125.4 \" fill=\"#000000\"/>\n",
       "</svg>"
      ],
      "text/plain": [
       "<IPython.core.display.SVG object>"
      ]
     },
     "metadata": {},
     "output_type": "display_data"
    }
   ],
   "source": [
    "# from above code, bi is ao.GetBitInfoMap()\n",
    "bit = 1130134577\n",
    "mfp2_svg = Draw.DrawMorganBit(m, bit, bi, useSVG=True)\n",
    "print(bi[bit])\n",
    "display(mfp2_svg)"
   ]
  },
  {
   "cell_type": "code",
   "execution_count": 10,
   "metadata": {},
   "outputs": [
    {
     "name": "stdout",
     "output_type": "stream",
     "text": [
      "((0, 0), (1, 0), (2, 0), (3, 0))\n"
     ]
    },
    {
     "data": {
      "image/svg+xml": [
       "<svg xmlns=\"http://www.w3.org/2000/svg\" xmlns:rdkit=\"http://www.rdkit.org/xml\" xmlns:xlink=\"http://www.w3.org/1999/xlink\" version=\"1.1\" baseProfile=\"full\" xml:space=\"preserve\" width=\"150px\" height=\"150px\" viewBox=\"0 0 150 150\">\n",
       "<!-- END OF HEADER -->\n",
       "<rect style=\"opacity:1.0;fill:#FFFFFF;stroke:none\" width=\"150.0\" height=\"150.0\" x=\"0.0\" y=\"0.0\"> </rect>\n",
       "<ellipse cx=\"91.0\" cy=\"83.2\" rx=\"14.5\" ry=\"14.5\" class=\"atom-0\" style=\"fill:#9999E5;fill-rule:evenodd;stroke:#9999E5;stroke-width:1.0px;stroke-linecap:butt;stroke-linejoin:miter;stroke-opacity:1\"/>\n",
       "<path class=\"bond-0 atom-0 atom-1\" d=\"M 93.8,77.5 L 25.4,82.1\" style=\"fill:none;fill-rule:evenodd;stroke:#E5E5E5;stroke-width:3.9px;stroke-linecap:butt;stroke-linejoin:miter;stroke-opacity:1\"/>\n",
       "<path class=\"bond-0 atom-0 atom-1\" d=\"M 94.5,88.4 L 26.1,93.0\" style=\"fill:none;fill-rule:evenodd;stroke:#E5E5E5;stroke-width:3.9px;stroke-linecap:butt;stroke-linejoin:miter;stroke-opacity:1;stroke-dasharray:6,4\"/>\n",
       "<path class=\"bond-1 atom-2 atom-0\" d=\"M 127.3,21.7 L 94.5,88.4\" style=\"fill:none;fill-rule:evenodd;stroke:#E5E5E5;stroke-width:3.9px;stroke-linecap:butt;stroke-linejoin:miter;stroke-opacity:1\"/>\n",
       "<path class=\"bond-1 atom-2 atom-0\" d=\"M 117.5,16.9 L 84.7,83.6\" style=\"fill:none;fill-rule:evenodd;stroke:#E5E5E5;stroke-width:3.9px;stroke-linecap:butt;stroke-linejoin:miter;stroke-opacity:1;stroke-dasharray:6,4\"/>\n",
       "<path class=\"bond-2 atom-0 atom-3\" d=\"M 91.0,83.2 L 124.2,132.7\" style=\"fill:none;fill-rule:evenodd;stroke:#E5E5E5;stroke-width:3.9px;stroke-linecap:butt;stroke-linejoin:miter;stroke-opacity:1\"/>\n",
       "<path class=\"atom-1\" d=\"M 14.6 85.8 L 17.7 82.7 L 13.6 81.9 L 14.3 79.8 L 17.9 81.7 L 17.4 77.6 L 19.6 77.6 L 19.0 81.6 L 22.7 79.9 L 23.4 81.9 L 19.3 82.6 L 22.2 85.7 L 20.4 87.0 L 18.4 83.2 L 16.4 87.0 L 14.6 85.8 \" fill=\"#191919\"/>\n",
       "<path class=\"atom-2\" d=\"M 119.2 15.7 L 122.2 12.6 L 118.2 11.8 L 118.8 9.7 L 122.5 11.6 L 122.0 7.5 L 124.1 7.5 L 123.5 11.5 L 127.3 9.8 L 127.9 11.8 L 123.8 12.5 L 126.7 15.6 L 125.0 16.9 L 123.0 13.1 L 120.9 16.9 L 119.2 15.7 \" fill=\"#191919\"/>\n",
       "<path class=\"atom-3\" d=\"M 127.6 141.3 L 130.6 138.2 L 126.6 137.4 L 127.2 135.3 L 130.9 137.2 L 130.4 133.1 L 132.6 133.1 L 132.0 137.1 L 135.7 135.4 L 136.4 137.4 L 132.3 138.1 L 135.2 141.2 L 133.4 142.5 L 131.4 138.7 L 129.4 142.5 L 127.6 141.3 \" fill=\"#191919\"/>\n",
       "<path class=\"note\" d=\"M 56.2 112.7 Q 54.3 112.7, 53.4 111.3 Q 52.5 109.9, 52.5 107.4 Q 52.5 104.9, 53.4 103.6 Q 54.3 102.2, 56.2 102.2 Q 58.1 102.2, 59.1 103.6 Q 60.0 104.9, 60.0 107.4 Q 60.0 109.9, 59.0 111.3 Q 58.1 112.7, 56.2 112.7 M 56.2 111.5 Q 57.3 111.5, 57.9 110.5 Q 58.5 109.5, 58.5 107.4 Q 58.5 105.4, 57.9 104.4 Q 57.3 103.3, 56.2 103.3 Q 55.1 103.3, 54.5 104.4 Q 53.9 105.4, 53.9 107.4 Q 53.9 109.5, 54.5 110.5 Q 55.1 111.5, 56.2 111.5 \" fill=\"#000000\"/>\n",
       "<path class=\"note\" d=\"M 127.1 59.0 Q 128.0 59.0, 128.7 59.4 Q 129.4 59.8, 129.8 60.5 Q 130.2 61.2, 130.2 62.1 Q 130.2 63.1, 129.7 63.9 Q 129.3 64.6, 128.5 65.1 Q 127.7 65.5, 126.7 65.5 Q 124.9 65.5, 123.9 64.3 Q 123.0 63.0, 123.0 60.6 Q 123.0 57.8, 124.2 56.4 Q 125.3 55.0, 127.5 55.0 Q 128.1 55.0, 128.7 55.1 Q 129.2 55.3, 129.8 55.6 L 129.2 56.6 Q 128.4 56.1, 127.5 56.1 Q 126.1 56.1, 125.3 57.1 Q 124.6 58.0, 124.5 60.0 Q 125.0 59.5, 125.7 59.2 Q 126.3 59.0, 127.1 59.0 M 126.7 64.3 Q 127.3 64.3, 127.7 64.0 Q 128.2 63.7, 128.4 63.2 Q 128.7 62.7, 128.7 62.1 Q 128.7 61.2, 128.2 60.7 Q 127.7 60.1, 126.8 60.1 Q 126.2 60.1, 125.5 60.4 Q 124.9 60.6, 124.5 61.1 Q 124.6 62.8, 125.1 63.5 Q 125.6 64.3, 126.7 64.3 \" fill=\"#000000\"/>\n",
       "<path class=\"note\" d=\"M 131.3 97.2 L 125.9 97.2 L 125.9 96.1 L 132.8 96.1 L 132.8 97.1 L 128.6 106.4 L 127.2 106.4 L 131.3 97.2 \" fill=\"#000000\"/>\n",
       "</svg>"
      ],
      "text/plain": [
       "<IPython.core.display.SVG object>"
      ]
     },
     "metadata": {},
     "output_type": "display_data"
    }
   ],
   "source": [
    "bit =  3218693969\n",
    "mfp2_svg = Draw.DrawMorganBit(m, bit, bi, useSVG=True)\n",
    "print(bi[bit])\n",
    "display(mfp2_svg)"
   ]
  },
  {
   "cell_type": "markdown",
   "metadata": {},
   "source": [
    "My plan: find all sub-structures of my training set. when you run my model on the website, i can show you similar sub-structures.\n",
    "questions to chemists:\n",
    "1. radius 0 has empty smiles. Can i assume you don't need radius 0 infomation?\n",
    "2. there are two Cc(c)n and two ccc. Are they identical? Because the two Cc(c)n correspond to different bits in morganfingerprint but they have same smiles (so same bit position in my version of fingerprint). I want to confirm it is fine to consider them as the same"
   ]
  },
  {
   "cell_type": "code",
   "execution_count": 11,
   "metadata": {},
   "outputs": [
    {
     "name": "stdout",
     "output_type": "stream",
     "text": [
      "Number of bits set: 20\n",
      "bit id(hash): 2041434490: \n",
      "radius: 0\n"
     ]
    },
    {
     "name": "stderr",
     "output_type": "stream",
     "text": [
      "[20:50:25] DEPRECATION WARNING: please use MorganGenerator\n"
     ]
    },
    {
     "data": {
      "image/svg+xml": [
       "<svg xmlns=\"http://www.w3.org/2000/svg\" xmlns:rdkit=\"http://www.rdkit.org/xml\" xmlns:xlink=\"http://www.w3.org/1999/xlink\" version=\"1.1\" baseProfile=\"full\" xml:space=\"preserve\" width=\"150px\" height=\"150px\" viewBox=\"0 0 150 150\">\n",
       "<!-- END OF HEADER -->\n",
       "<rect style=\"opacity:1.0;fill:#FFFFFF;stroke:none\" width=\"150.0\" height=\"150.0\" x=\"0.0\" y=\"0.0\"> </rect>\n",
       "<ellipse cx=\"92.6\" cy=\"50.4\" rx=\"16.0\" ry=\"16.0\" class=\"atom-1\" style=\"fill:#9999E5;fill-rule:evenodd;stroke:#9999E5;stroke-width:1.0px;stroke-linecap:butt;stroke-linejoin:miter;stroke-opacity:1\"/>\n",
       "<path class=\"bond-0 atom-0 atom-1\" d=\"M 20.4,49.2 L 81.0,45.1\" style=\"fill:none;fill-rule:evenodd;stroke:#E5E5E5;stroke-width:4.3px;stroke-linecap:butt;stroke-linejoin:miter;stroke-opacity:1\"/>\n",
       "<path class=\"bond-0 atom-0 atom-1\" d=\"M 21.3,61.2 L 81.8,57.1\" style=\"fill:none;fill-rule:evenodd;stroke:#E5E5E5;stroke-width:4.3px;stroke-linecap:butt;stroke-linejoin:miter;stroke-opacity:1;stroke-dasharray:6,4\"/>\n",
       "<path class=\"bond-1 atom-1 atom-2\" d=\"M 97.0,67.7 L 124.2,108.2\" style=\"fill:none;fill-rule:evenodd;stroke:#E5E5E5;stroke-width:4.3px;stroke-linecap:butt;stroke-linejoin:miter;stroke-opacity:1\"/>\n",
       "<path class=\"bond-1 atom-1 atom-2\" d=\"M 107.0,61.0 L 134.1,101.5\" style=\"fill:none;fill-rule:evenodd;stroke:#E5E5E5;stroke-width:4.3px;stroke-linecap:butt;stroke-linejoin:miter;stroke-opacity:1;stroke-dasharray:6,4\"/>\n",
       "<path class=\"atom-0\" d=\"M 8.6 53.2 L 11.9 49.8 L 7.5 48.9 L 8.2 46.7 L 12.2 48.7 L 11.7 44.3 L 14.1 44.2 L 13.4 48.7 L 17.5 46.8 L 18.2 48.9 L 13.7 49.8 L 16.9 53.2 L 15.0 54.6 L 12.8 50.4 L 10.5 54.6 L 8.6 53.2 \" fill=\"#191919\"/>\n",
       "<path class=\"atom-1\" d=\"M 87.6 39.1 L 95.0 51.0 Q 95.8 52.2, 96.9 54.4 Q 98.1 56.5, 98.2 56.6 L 98.2 39.1 L 101.2 39.1 L 101.2 61.7 L 98.1 61.7 L 90.1 48.6 Q 89.2 47.0, 88.2 45.3 Q 87.3 43.5, 87.0 43.0 L 87.0 61.7 L 84.0 61.7 L 84.0 39.1 L 87.6 39.1 \" fill=\"#000000\"/>\n",
       "<path class=\"atom-2\" d=\"M 132.9 114.2 L 136.2 110.8 L 131.8 110.0 L 132.5 107.7 L 136.5 109.7 L 135.9 105.3 L 138.3 105.3 L 137.7 109.7 L 141.8 107.8 L 142.5 110.0 L 138.0 110.8 L 141.2 114.2 L 139.3 115.6 L 137.1 111.4 L 134.8 115.6 L 132.9 114.2 \" fill=\"#191919\"/>\n",
       "</svg>"
      ],
      "text/plain": [
       "<IPython.core.display.SVG object>"
      ]
     },
     "metadata": {},
     "output_type": "display_data"
    },
    {
     "name": "stdout",
     "output_type": "stream",
     "text": [
      "bit id(hash): 2246728737: \n",
      "radius: 0\n"
     ]
    },
    {
     "data": {
      "image/svg+xml": [
       "<svg xmlns=\"http://www.w3.org/2000/svg\" xmlns:rdkit=\"http://www.rdkit.org/xml\" xmlns:xlink=\"http://www.w3.org/1999/xlink\" version=\"1.1\" baseProfile=\"full\" xml:space=\"preserve\" width=\"150px\" height=\"150px\" viewBox=\"0 0 150 150\">\n",
       "<!-- END OF HEADER -->\n",
       "<rect style=\"opacity:1.0;fill:#FFFFFF;stroke:none\" width=\"150.0\" height=\"150.0\" x=\"0.0\" y=\"0.0\"> </rect>\n",
       "<ellipse cx=\"75.0\" cy=\"80.0\" rx=\"12.7\" ry=\"12.7\" class=\"atom-1\" style=\"fill:#9999E5;fill-rule:evenodd;stroke:#9999E5;stroke-width:1.0px;stroke-linecap:butt;stroke-linejoin:miter;stroke-opacity:1\"/>\n",
       "<path class=\"bond-0 atom-0 atom-1\" d=\"M 18.1,83.9 L 75.0,80.0\" style=\"fill:none;fill-rule:evenodd;stroke:#E5E5E5;stroke-width:3.4px;stroke-linecap:butt;stroke-linejoin:miter;stroke-opacity:1\"/>\n",
       "<path class=\"bond-1 atom-1 atom-2\" d=\"M 75.0,80.0 L 131.9,76.2\" style=\"fill:none;fill-rule:evenodd;stroke:#E5E5E5;stroke-width:3.4px;stroke-linecap:butt;stroke-linejoin:miter;stroke-opacity:1\"/>\n",
       "<path class=\"bond-2 atom-1 atom-3\" d=\"M 75.0,80.0 L 70.8,17.9\" style=\"fill:none;fill-rule:evenodd;stroke:#E5E5E5;stroke-width:3.4px;stroke-linecap:butt;stroke-linejoin:miter;stroke-opacity:1\"/>\n",
       "<path class=\"bond-3 atom-1 atom-4\" d=\"M 75.0,80.0 L 78.5,132.1\" style=\"fill:none;fill-rule:evenodd;stroke:#E5E5E5;stroke-width:3.4px;stroke-linecap:butt;stroke-linejoin:miter;stroke-opacity:1\"/>\n",
       "<path class=\"atom-0\" d=\"M 8.4 82.3 L 11.0 79.6 L 7.5 78.9 L 8.0 77.1 L 11.3 78.7 L 10.8 75.2 L 12.7 75.1 L 12.2 78.7 L 15.4 77.2 L 16.0 78.9 L 12.4 79.5 L 15.0 82.2 L 13.4 83.4 L 11.7 80.0 L 9.9 83.4 L 8.4 82.3 \" fill=\"#191919\"/>\n",
       "<path class=\"atom-2\" d=\"M 134.9 73.8 L 137.5 71.1 L 134.0 70.4 L 134.5 68.6 L 137.8 70.2 L 137.3 66.7 L 139.2 66.6 L 138.7 70.2 L 141.9 68.6 L 142.5 70.4 L 138.9 71.0 L 141.5 73.7 L 139.9 74.9 L 138.2 71.5 L 136.4 74.9 L 134.9 73.8 \" fill=\"#191919\"/>\n",
       "<path class=\"atom-3\" d=\"M 67.4 14.8 L 70.0 12.1 L 66.5 11.4 L 67.0 9.6 L 70.2 11.2 L 69.8 7.7 L 71.7 7.6 L 71.2 11.2 L 74.4 9.6 L 75.0 11.4 L 71.4 12.0 L 74.0 14.7 L 72.4 15.9 L 70.7 12.5 L 68.9 15.9 L 67.4 14.8 \" fill=\"#191919\"/>\n",
       "<path class=\"atom-4\" d=\"M 75.9 141.3 L 78.5 138.6 L 75.0 137.9 L 75.5 136.1 L 78.8 137.7 L 78.3 134.2 L 80.2 134.1 L 79.7 137.7 L 82.9 136.1 L 83.5 137.9 L 80.0 138.5 L 82.5 141.2 L 80.9 142.4 L 79.2 139.0 L 77.4 142.4 L 75.9 141.3 \" fill=\"#191919\"/>\n",
       "</svg>"
      ],
      "text/plain": [
       "<IPython.core.display.SVG object>"
      ]
     },
     "metadata": {},
     "output_type": "display_data"
    },
    {
     "name": "stdout",
     "output_type": "stream",
     "text": [
      "bit id(hash): 3217380708: \n",
      "radius: 0\n"
     ]
    },
    {
     "data": {
      "image/svg+xml": [
       "<svg xmlns=\"http://www.w3.org/2000/svg\" xmlns:rdkit=\"http://www.rdkit.org/xml\" xmlns:xlink=\"http://www.w3.org/1999/xlink\" version=\"1.1\" baseProfile=\"full\" xml:space=\"preserve\" width=\"150px\" height=\"150px\" viewBox=\"0 0 150 150\">\n",
       "<!-- END OF HEADER -->\n",
       "<rect style=\"opacity:1.0;fill:#FFFFFF;stroke:none\" width=\"150.0\" height=\"150.0\" x=\"0.0\" y=\"0.0\"> </rect>\n",
       "<ellipse cx=\"59.0\" cy=\"78.3\" rx=\"14.5\" ry=\"14.5\" class=\"atom-1\" style=\"fill:#9999E5;fill-rule:evenodd;stroke:#9999E5;stroke-width:1.0px;stroke-linecap:butt;stroke-linejoin:miter;stroke-opacity:1\"/>\n",
       "<path class=\"bond-0 atom-0 atom-1\" d=\"M 23.9,16.3 L 65.3,77.9\" style=\"fill:none;fill-rule:evenodd;stroke:#E5E5E5;stroke-width:3.9px;stroke-linecap:butt;stroke-linejoin:miter;stroke-opacity:1\"/>\n",
       "<path class=\"bond-0 atom-0 atom-1\" d=\"M 14.9,22.4 L 56.2,84.0\" style=\"fill:none;fill-rule:evenodd;stroke:#E5E5E5;stroke-width:3.9px;stroke-linecap:butt;stroke-linejoin:miter;stroke-opacity:1;stroke-dasharray:6,4\"/>\n",
       "<path class=\"bond-1 atom-1 atom-2\" d=\"M 59.0,78.3 L 124.2,73.9\" style=\"fill:none;fill-rule:evenodd;stroke:#E5E5E5;stroke-width:3.9px;stroke-linecap:butt;stroke-linejoin:miter;stroke-opacity:1\"/>\n",
       "<path class=\"bond-2 atom-1 atom-3\" d=\"M 55.5,73.1 L 28.4,128.3\" style=\"fill:none;fill-rule:evenodd;stroke:#E5E5E5;stroke-width:3.9px;stroke-linecap:butt;stroke-linejoin:miter;stroke-opacity:1\"/>\n",
       "<path class=\"bond-2 atom-1 atom-3\" d=\"M 65.3,77.9 L 38.2,133.1\" style=\"fill:none;fill-rule:evenodd;stroke:#E5E5E5;stroke-width:3.9px;stroke-linecap:butt;stroke-linejoin:miter;stroke-opacity:1;stroke-dasharray:6,4\"/>\n",
       "<path class=\"atom-0\" d=\"M 14.6 15.7 L 17.7 12.6 L 13.6 11.8 L 14.3 9.7 L 17.9 11.6 L 17.4 7.5 L 19.6 7.5 L 19.0 11.5 L 22.7 9.8 L 23.4 11.8 L 19.3 12.5 L 22.2 15.6 L 20.4 16.9 L 18.4 13.1 L 16.4 16.9 L 14.6 15.7 \" fill=\"#191919\"/>\n",
       "<path class=\"atom-2\" d=\"M 127.6 71.1 L 130.6 68.1 L 126.6 67.2 L 127.2 65.2 L 130.9 67.0 L 130.4 63.0 L 132.6 63.0 L 132.0 67.0 L 135.7 65.3 L 136.4 67.2 L 132.3 68.0 L 135.2 71.1 L 133.4 72.4 L 131.4 68.6 L 129.4 72.4 L 127.6 71.1 \" fill=\"#191919\"/>\n",
       "<path class=\"atom-3\" d=\"M 23.1 141.3 L 26.1 138.2 L 22.1 137.4 L 22.7 135.3 L 26.4 137.2 L 25.9 133.1 L 28.0 133.1 L 27.4 137.1 L 31.2 135.4 L 31.8 137.4 L 27.8 138.1 L 30.7 141.2 L 28.9 142.5 L 26.9 138.7 L 24.9 142.5 L 23.1 141.3 \" fill=\"#191919\"/>\n",
       "</svg>"
      ],
      "text/plain": [
       "<IPython.core.display.SVG object>"
      ]
     },
     "metadata": {},
     "output_type": "display_data"
    },
    {
     "name": "stdout",
     "output_type": "stream",
     "text": [
      "bit id(hash): 3218693969: \n",
      "radius: 0\n"
     ]
    },
    {
     "data": {
      "image/svg+xml": [
       "<svg xmlns=\"http://www.w3.org/2000/svg\" xmlns:rdkit=\"http://www.rdkit.org/xml\" xmlns:xlink=\"http://www.w3.org/1999/xlink\" version=\"1.1\" baseProfile=\"full\" xml:space=\"preserve\" width=\"150px\" height=\"150px\" viewBox=\"0 0 150 150\">\n",
       "<!-- END OF HEADER -->\n",
       "<rect style=\"opacity:1.0;fill:#FFFFFF;stroke:none\" width=\"150.0\" height=\"150.0\" x=\"0.0\" y=\"0.0\"> </rect>\n",
       "<ellipse cx=\"91.0\" cy=\"83.2\" rx=\"14.5\" ry=\"14.5\" class=\"atom-0\" style=\"fill:#9999E5;fill-rule:evenodd;stroke:#9999E5;stroke-width:1.0px;stroke-linecap:butt;stroke-linejoin:miter;stroke-opacity:1\"/>\n",
       "<path class=\"bond-0 atom-0 atom-1\" d=\"M 93.8,77.5 L 25.4,82.1\" style=\"fill:none;fill-rule:evenodd;stroke:#E5E5E5;stroke-width:3.9px;stroke-linecap:butt;stroke-linejoin:miter;stroke-opacity:1\"/>\n",
       "<path class=\"bond-0 atom-0 atom-1\" d=\"M 94.5,88.4 L 26.1,93.0\" style=\"fill:none;fill-rule:evenodd;stroke:#E5E5E5;stroke-width:3.9px;stroke-linecap:butt;stroke-linejoin:miter;stroke-opacity:1;stroke-dasharray:6,4\"/>\n",
       "<path class=\"bond-1 atom-2 atom-0\" d=\"M 127.3,21.7 L 94.5,88.4\" style=\"fill:none;fill-rule:evenodd;stroke:#E5E5E5;stroke-width:3.9px;stroke-linecap:butt;stroke-linejoin:miter;stroke-opacity:1\"/>\n",
       "<path class=\"bond-1 atom-2 atom-0\" d=\"M 117.5,16.9 L 84.7,83.6\" style=\"fill:none;fill-rule:evenodd;stroke:#E5E5E5;stroke-width:3.9px;stroke-linecap:butt;stroke-linejoin:miter;stroke-opacity:1;stroke-dasharray:6,4\"/>\n",
       "<path class=\"bond-2 atom-0 atom-3\" d=\"M 91.0,83.2 L 124.2,132.7\" style=\"fill:none;fill-rule:evenodd;stroke:#E5E5E5;stroke-width:3.9px;stroke-linecap:butt;stroke-linejoin:miter;stroke-opacity:1\"/>\n",
       "<path class=\"atom-1\" d=\"M 14.6 85.8 L 17.7 82.7 L 13.6 81.9 L 14.3 79.8 L 17.9 81.7 L 17.4 77.6 L 19.6 77.6 L 19.0 81.6 L 22.7 79.9 L 23.4 81.9 L 19.3 82.6 L 22.2 85.7 L 20.4 87.0 L 18.4 83.2 L 16.4 87.0 L 14.6 85.8 \" fill=\"#191919\"/>\n",
       "<path class=\"atom-2\" d=\"M 119.2 15.7 L 122.2 12.6 L 118.2 11.8 L 118.8 9.7 L 122.5 11.6 L 122.0 7.5 L 124.1 7.5 L 123.5 11.5 L 127.3 9.8 L 127.9 11.8 L 123.8 12.5 L 126.7 15.6 L 125.0 16.9 L 123.0 13.1 L 120.9 16.9 L 119.2 15.7 \" fill=\"#191919\"/>\n",
       "<path class=\"atom-3\" d=\"M 127.6 141.3 L 130.6 138.2 L 126.6 137.4 L 127.2 135.3 L 130.9 137.2 L 130.4 133.1 L 132.6 133.1 L 132.0 137.1 L 135.7 135.4 L 136.4 137.4 L 132.3 138.1 L 135.2 141.2 L 133.4 142.5 L 131.4 138.7 L 129.4 142.5 L 127.6 141.3 \" fill=\"#191919\"/>\n",
       "</svg>"
      ],
      "text/plain": [
       "<IPython.core.display.SVG object>"
      ]
     },
     "metadata": {},
     "output_type": "display_data"
    },
    {
     "name": "stdout",
     "output_type": "stream",
     "text": [
      "bit id(hash): 4277593716: \n",
      "radius: 0\n"
     ]
    },
    {
     "data": {
      "image/svg+xml": [
       "<svg xmlns=\"http://www.w3.org/2000/svg\" xmlns:rdkit=\"http://www.rdkit.org/xml\" xmlns:xlink=\"http://www.w3.org/1999/xlink\" version=\"1.1\" baseProfile=\"full\" xml:space=\"preserve\" width=\"150px\" height=\"150px\" viewBox=\"0 0 150 150\">\n",
       "<!-- END OF HEADER -->\n",
       "<rect style=\"opacity:1.0;fill:#FFFFFF;stroke:none\" width=\"150.0\" height=\"150.0\" x=\"0.0\" y=\"0.0\"> </rect>\n",
       "<ellipse cx=\"98.9\" cy=\"118.4\" rx=\"23.0\" ry=\"23.0\" class=\"atom-1\" style=\"fill:#9999E5;fill-rule:evenodd;stroke:#9999E5;stroke-width:1.0px;stroke-linecap:butt;stroke-linejoin:miter;stroke-opacity:1\"/>\n",
       "<path class=\"bond-0 atom-0 atom-1\" d=\"M 36.4,25.3 L 86.8,100.5\" style=\"fill:none;fill-rule:evenodd;stroke:#E5E5E5;stroke-width:6.1px;stroke-linecap:butt;stroke-linejoin:miter;stroke-opacity:1\"/>\n",
       "<path class=\"atom-0\" d=\"M 29.5 19.8 L 33.7 15.6 L 28.1 14.5 L 29.0 11.6 L 34.1 14.2 L 33.3 8.6 L 36.3 8.6 L 35.5 14.1 L 40.7 11.7 L 41.5 14.5 L 35.9 15.5 L 39.9 19.8 L 37.5 21.5 L 34.7 16.3 L 31.9 21.5 L 29.5 19.8 \" fill=\"#191919\"/>\n",
       "<path class=\"atom-1\" d=\"M 87.8 104.3 L 91.6 104.3 L 91.6 116.3 L 106.1 116.3 L 106.1 104.3 L 109.9 104.3 L 109.9 132.6 L 106.1 132.6 L 106.1 119.5 L 91.6 119.5 L 91.6 132.6 L 87.8 132.6 L 87.8 104.3 \" fill=\"#000000\"/>\n",
       "</svg>"
      ],
      "text/plain": [
       "<IPython.core.display.SVG object>"
      ]
     },
     "metadata": {},
     "output_type": "display_data"
    },
    {
     "name": "stdout",
     "output_type": "stream",
     "text": [
      "bit id(hash): 55253355: [H]c\n",
      "radius: 1\n"
     ]
    },
    {
     "data": {
      "image/svg+xml": [
       "<svg xmlns=\"http://www.w3.org/2000/svg\" xmlns:rdkit=\"http://www.rdkit.org/xml\" xmlns:xlink=\"http://www.w3.org/1999/xlink\" version=\"1.1\" baseProfile=\"full\" xml:space=\"preserve\" width=\"150px\" height=\"150px\" viewBox=\"0 0 150 150\">\n",
       "<!-- END OF HEADER -->\n",
       "<rect style=\"opacity:1.0;fill:#FFFFFF;stroke:none\" width=\"150.0\" height=\"150.0\" x=\"0.0\" y=\"0.0\"> </rect>\n",
       "<ellipse cx=\"85.0\" cy=\"75.4\" rx=\"13.0\" ry=\"13.0\" class=\"atom-0\" style=\"fill:#E5E533;fill-rule:evenodd;stroke:#E5E533;stroke-width:1.0px;stroke-linecap:butt;stroke-linejoin:miter;stroke-opacity:1\"/>\n",
       "<ellipse cx=\"121.3\" cy=\"129.5\" rx=\"13.0\" ry=\"13.0\" class=\"atom-3\" style=\"fill:#9999E5;fill-rule:evenodd;stroke:#9999E5;stroke-width:1.0px;stroke-linecap:butt;stroke-linejoin:miter;stroke-opacity:1\"/>\n",
       "<path class=\"bond-0 atom-0 atom-1\" d=\"M 87.5,70.3 L 26.2,74.4\" style=\"fill:none;fill-rule:evenodd;stroke:#E5E5E5;stroke-width:3.5px;stroke-linecap:butt;stroke-linejoin:miter;stroke-opacity:1\"/>\n",
       "<path class=\"bond-0 atom-0 atom-1\" d=\"M 88.2,80.0 L 26.9,84.2\" style=\"fill:none;fill-rule:evenodd;stroke:#E5E5E5;stroke-width:3.5px;stroke-linecap:butt;stroke-linejoin:miter;stroke-opacity:1;stroke-dasharray:6,4\"/>\n",
       "<path class=\"bond-1 atom-2 atom-0\" d=\"M 117.5,20.2 L 88.2,80.0\" style=\"fill:none;fill-rule:evenodd;stroke:#E5E5E5;stroke-width:3.5px;stroke-linecap:butt;stroke-linejoin:miter;stroke-opacity:1\"/>\n",
       "<path class=\"bond-1 atom-2 atom-0\" d=\"M 108.8,15.9 L 79.4,75.7\" style=\"fill:none;fill-rule:evenodd;stroke:#E5E5E5;stroke-width:3.5px;stroke-linecap:butt;stroke-linejoin:miter;stroke-opacity:1;stroke-dasharray:6,4\"/>\n",
       "<path class=\"bond-2 atom-0 atom-3\" d=\"M 85.0,75.4 L 113.7,118.1\" style=\"fill:none;fill-rule:evenodd;stroke:#000000;stroke-width:2.0px;stroke-linecap:butt;stroke-linejoin:miter;stroke-opacity:1\"/>\n",
       "<path class=\"atom-1\" d=\"M 16.5 77.7 L 19.3 74.9 L 15.7 74.2 L 16.2 72.3 L 19.5 74.0 L 19.0 70.4 L 21.0 70.4 L 20.5 74.0 L 23.8 72.4 L 24.4 74.2 L 20.7 74.9 L 23.3 77.7 L 21.8 78.8 L 20.0 75.4 L 18.1 78.8 L 16.5 77.7 \" fill=\"#191919\"/>\n",
       "<path class=\"atom-2\" d=\"M 110.3 14.8 L 113.0 12.1 L 109.4 11.3 L 109.9 9.5 L 113.2 11.1 L 112.8 7.5 L 114.7 7.5 L 114.2 11.1 L 117.5 9.6 L 118.1 11.3 L 114.5 12.0 L 117.1 14.8 L 115.5 15.9 L 113.7 12.5 L 111.8 15.9 L 110.3 14.8 \" fill=\"#191919\"/>\n",
       "<path class=\"atom-3\" d=\"M 114.1 120.2 L 116.6 120.2 L 116.6 128.1 L 126.0 128.1 L 126.0 120.2 L 128.5 120.2 L 128.5 138.7 L 126.0 138.7 L 126.0 130.2 L 116.6 130.2 L 116.6 138.7 L 114.1 138.7 L 114.1 120.2 \" fill=\"#000000\"/>\n",
       "</svg>"
      ],
      "text/plain": [
       "<IPython.core.display.SVG object>"
      ]
     },
     "metadata": {},
     "output_type": "display_data"
    },
    {
     "name": "stdout",
     "output_type": "stream",
     "text": [
      "bit id(hash): 447750523: cC\n",
      "radius: 1\n"
     ]
    },
    {
     "data": {
      "image/svg+xml": [
       "<svg xmlns=\"http://www.w3.org/2000/svg\" xmlns:rdkit=\"http://www.rdkit.org/xml\" xmlns:xlink=\"http://www.w3.org/1999/xlink\" version=\"1.1\" baseProfile=\"full\" xml:space=\"preserve\" width=\"150px\" height=\"150px\" viewBox=\"0 0 150 150\">\n",
       "<!-- END OF HEADER -->\n",
       "<rect style=\"opacity:1.0;fill:#FFFFFF;stroke:none\" width=\"150.0\" height=\"150.0\" x=\"0.0\" y=\"0.0\"> </rect>\n",
       "<ellipse cx=\"38.9\" cy=\"82.4\" rx=\"10.1\" ry=\"10.1\" class=\"atom-1\" style=\"fill:#E5E533;fill-rule:evenodd;stroke:#E5E533;stroke-width:1.0px;stroke-linecap:butt;stroke-linejoin:miter;stroke-opacity:1\"/>\n",
       "<ellipse cx=\"89.0\" cy=\"79.0\" rx=\"10.1\" ry=\"10.1\" class=\"atom-2\" style=\"fill:#9999E5;fill-rule:evenodd;stroke:#9999E5;stroke-width:1.0px;stroke-linecap:butt;stroke-linejoin:miter;stroke-opacity:1\"/>\n",
       "<path class=\"bond-0 atom-0 atom-1\" d=\"M 14.6,39.5 L 43.2,82.1\" style=\"fill:none;fill-rule:evenodd;stroke:#E5E5E5;stroke-width:2.7px;stroke-linecap:butt;stroke-linejoin:miter;stroke-opacity:1\"/>\n",
       "<path class=\"bond-0 atom-0 atom-1\" d=\"M 8.4,43.7 L 36.9,86.3\" style=\"fill:none;fill-rule:evenodd;stroke:#E5E5E5;stroke-width:2.7px;stroke-linecap:butt;stroke-linejoin:miter;stroke-opacity:1;stroke-dasharray:6,4\"/>\n",
       "<path class=\"bond-1 atom-1 atom-2\" d=\"M 38.9,82.4 L 89.0,79.0\" style=\"fill:none;fill-rule:evenodd;stroke:#000000;stroke-width:2.0px;stroke-linecap:butt;stroke-linejoin:miter;stroke-opacity:1\"/>\n",
       "<path class=\"bond-2 atom-1 atom-3\" d=\"M 36.4,78.7 L 17.7,116.9\" style=\"fill:none;fill-rule:evenodd;stroke:#E5E5E5;stroke-width:2.7px;stroke-linecap:butt;stroke-linejoin:miter;stroke-opacity:1\"/>\n",
       "<path class=\"bond-2 atom-1 atom-3\" d=\"M 43.2,82.1 L 24.5,120.2\" style=\"fill:none;fill-rule:evenodd;stroke:#E5E5E5;stroke-width:2.7px;stroke-linecap:butt;stroke-linejoin:miter;stroke-opacity:1;stroke-dasharray:6,4\"/>\n",
       "<path class=\"bond-3 atom-2 atom-4\" d=\"M 89.0,79.0 L 134.1,75.9\" style=\"fill:none;fill-rule:evenodd;stroke:#E5E5E5;stroke-width:2.7px;stroke-linecap:butt;stroke-linejoin:miter;stroke-opacity:1\"/>\n",
       "<path class=\"bond-4 atom-2 atom-5\" d=\"M 89.0,79.0 L 85.7,29.8\" style=\"fill:none;fill-rule:evenodd;stroke:#E5E5E5;stroke-width:2.7px;stroke-linecap:butt;stroke-linejoin:miter;stroke-opacity:1\"/>\n",
       "<path class=\"bond-5 atom-2 atom-6\" d=\"M 89.0,79.0 L 91.8,120.2\" style=\"fill:none;fill-rule:evenodd;stroke:#E5E5E5;stroke-width:2.7px;stroke-linecap:butt;stroke-linejoin:miter;stroke-opacity:1\"/>\n",
       "<path class=\"atom-0\" d=\"M 8.2 39.0 L 10.3 36.9 L 7.5 36.3 L 7.9 34.9 L 10.5 36.2 L 10.1 33.4 L 11.6 33.4 L 11.2 36.2 L 13.8 35.0 L 14.2 36.3 L 11.4 36.9 L 13.4 39.0 L 12.2 39.9 L 10.8 37.2 L 9.4 39.9 L 8.2 39.0 \" fill=\"#191919\"/>\n",
       "<path class=\"atom-3\" d=\"M 14.0 125.9 L 16.1 123.7 L 13.3 123.2 L 13.8 121.8 L 16.3 123.0 L 16.0 120.2 L 17.5 120.2 L 17.0 123.0 L 19.6 121.8 L 20.1 123.2 L 17.3 123.7 L 19.3 125.9 L 18.0 126.7 L 16.7 124.1 L 15.3 126.7 L 14.0 125.9 \" fill=\"#191919\"/>\n",
       "<path class=\"atom-4\" d=\"M 136.4 74.0 L 138.5 71.9 L 135.8 71.3 L 136.2 69.9 L 138.7 71.2 L 138.4 68.4 L 139.9 68.4 L 139.5 71.2 L 142.1 70.0 L 142.5 71.3 L 139.7 71.8 L 141.7 74.0 L 140.5 74.9 L 139.1 72.2 L 137.7 74.9 L 136.4 74.0 \" fill=\"#191919\"/>\n",
       "<path class=\"atom-5\" d=\"M 82.9 27.3 L 85.0 25.1 L 82.3 24.6 L 82.7 23.1 L 85.2 24.4 L 84.9 21.6 L 86.4 21.6 L 86.0 24.4 L 88.5 23.2 L 89.0 24.6 L 86.2 25.1 L 88.2 27.2 L 87.0 28.1 L 85.6 25.5 L 84.2 28.1 L 82.9 27.3 \" fill=\"#191919\"/>\n",
       "<path class=\"atom-6\" d=\"M 89.7 127.5 L 91.8 125.4 L 89.0 124.8 L 89.4 123.4 L 92.0 124.7 L 91.6 121.9 L 93.1 121.9 L 92.7 124.7 L 95.3 123.5 L 95.7 124.8 L 92.9 125.4 L 94.9 127.5 L 93.7 128.4 L 92.3 125.7 L 90.9 128.4 L 89.7 127.5 \" fill=\"#191919\"/>\n",
       "</svg>"
      ],
      "text/plain": [
       "<IPython.core.display.SVG object>"
      ]
     },
     "metadata": {},
     "output_type": "display_data"
    },
    {
     "name": "stdout",
     "output_type": "stream",
     "text": [
      "bit id(hash): 1100037548: cnc\n",
      "radius: 1\n"
     ]
    },
    {
     "data": {
      "image/svg+xml": [
       "<svg xmlns=\"http://www.w3.org/2000/svg\" xmlns:rdkit=\"http://www.rdkit.org/xml\" xmlns:xlink=\"http://www.w3.org/1999/xlink\" version=\"1.1\" baseProfile=\"full\" xml:space=\"preserve\" width=\"150px\" height=\"150px\" viewBox=\"0 0 150 150\">\n",
       "<!-- END OF HEADER -->\n",
       "<rect style=\"opacity:1.0;fill:#FFFFFF;stroke:none\" width=\"150.0\" height=\"150.0\" x=\"0.0\" y=\"0.0\"> </rect>\n",
       "<ellipse cx=\"33.5\" cy=\"61.0\" rx=\"8.3\" ry=\"8.3\" class=\"atom-1\" style=\"fill:#E5E533;fill-rule:evenodd;stroke:#E5E533;stroke-width:1.0px;stroke-linecap:butt;stroke-linejoin:miter;stroke-opacity:1\"/>\n",
       "<ellipse cx=\"75.0\" cy=\"58.2\" rx=\"8.3\" ry=\"8.3\" class=\"atom-2\" style=\"fill:#9999E5;fill-rule:evenodd;stroke:#9999E5;stroke-width:1.0px;stroke-linecap:butt;stroke-linejoin:miter;stroke-opacity:1\"/>\n",
       "<ellipse cx=\"98.2\" cy=\"92.8\" rx=\"8.3\" ry=\"8.3\" class=\"atom-3\" style=\"fill:#E5E533;fill-rule:evenodd;stroke:#E5E533;stroke-width:1.0px;stroke-linecap:butt;stroke-linejoin:miter;stroke-opacity:1\"/>\n",
       "<path class=\"bond-0 atom-0 atom-1\" d=\"M 15.9,89.6 L 31.5,58.0\" style=\"fill:none;fill-rule:evenodd;stroke:#E5E5E5;stroke-width:2.2px;stroke-linecap:butt;stroke-linejoin:miter;stroke-opacity:1\"/>\n",
       "<path class=\"bond-0 atom-0 atom-1\" d=\"M 21.5,92.4 L 37.1,60.8\" style=\"fill:none;fill-rule:evenodd;stroke:#E5E5E5;stroke-width:2.2px;stroke-linecap:butt;stroke-linejoin:miter;stroke-opacity:1;stroke-dasharray:6,4\"/>\n",
       "<path class=\"bond-1 atom-1 atom-2\" d=\"M 33.5,61.0 L 69.2,58.6\" style=\"fill:none;fill-rule:evenodd;stroke:#000000;stroke-width:2.0px;stroke-linecap:butt;stroke-linejoin:miter;stroke-opacity:1\"/>\n",
       "<path class=\"bond-1 atom-1 atom-2\" d=\"M 37.5,67.0 L 69.6,64.8\" style=\"fill:none;fill-rule:evenodd;stroke:#000000;stroke-width:2.0px;stroke-linecap:butt;stroke-linejoin:miter;stroke-opacity:1;stroke-dasharray:6,4\"/>\n",
       "<path class=\"bond-2 atom-2 atom-3\" d=\"M 79.9,65.5 L 98.2,92.8\" style=\"fill:none;fill-rule:evenodd;stroke:#000000;stroke-width:2.0px;stroke-linecap:butt;stroke-linejoin:miter;stroke-opacity:1\"/>\n",
       "<path class=\"bond-2 atom-2 atom-3\" d=\"M 74.7,69.0 L 91.0,93.3\" style=\"fill:none;fill-rule:evenodd;stroke:#000000;stroke-width:2.0px;stroke-linecap:butt;stroke-linejoin:miter;stroke-opacity:1;stroke-dasharray:6,4\"/>\n",
       "<path class=\"bond-3 atom-3 atom-4\" d=\"M 98.2,92.8 L 135.5,90.3\" style=\"fill:none;fill-rule:evenodd;stroke:#E5E5E5;stroke-width:2.2px;stroke-linecap:butt;stroke-linejoin:miter;stroke-opacity:1\"/>\n",
       "<path class=\"bond-4 atom-3 atom-5\" d=\"M 96.2,89.8 L 80.7,121.4\" style=\"fill:none;fill-rule:evenodd;stroke:#E5E5E5;stroke-width:2.2px;stroke-linecap:butt;stroke-linejoin:miter;stroke-opacity:1\"/>\n",
       "<path class=\"bond-4 atom-3 atom-5\" d=\"M 101.8,92.5 L 86.3,124.2\" style=\"fill:none;fill-rule:evenodd;stroke:#E5E5E5;stroke-width:2.2px;stroke-linecap:butt;stroke-linejoin:miter;stroke-opacity:1;stroke-dasharray:6,4\"/>\n",
       "<path class=\"bond-5 atom-1 atom-6\" d=\"M 33.5,61.0 L 10.8,27.2\" style=\"fill:none;fill-rule:evenodd;stroke:#E5E5E5;stroke-width:2.2px;stroke-linecap:butt;stroke-linejoin:miter;stroke-opacity:1\"/>\n",
       "<path class=\"atom-0\" d=\"M 12.9 97.1 L 14.6 95.3 L 12.3 94.8 L 12.7 93.6 L 14.8 94.7 L 14.5 92.4 L 15.8 92.4 L 15.4 94.7 L 17.6 93.7 L 17.9 94.8 L 15.6 95.3 L 17.3 97.0 L 16.2 97.8 L 15.1 95.6 L 13.9 97.8 L 12.9 97.1 \" fill=\"#191919\"/>\n",
       "<path class=\"atom-2\" d=\"M 72.4 52.3 L 76.3 58.6 Q 76.6 59.2, 77.3 60.3 Q 77.9 61.4, 77.9 61.5 L 77.9 52.3 L 79.5 52.3 L 79.5 64.1 L 77.9 64.1 L 73.7 57.3 Q 73.2 56.5, 72.7 55.6 Q 72.2 54.7, 72.1 54.4 L 72.1 64.1 L 70.5 64.1 L 70.5 52.3 L 72.4 52.3 \" fill=\"#000000\"/>\n",
       "<path class=\"atom-4\" d=\"M 137.5 88.7 L 139.2 86.9 L 136.9 86.4 L 137.3 85.3 L 139.4 86.3 L 139.1 84.0 L 140.3 84.0 L 140.0 86.3 L 142.1 85.3 L 142.5 86.4 L 140.2 86.9 L 141.8 88.7 L 140.8 89.4 L 139.7 87.2 L 138.5 89.4 L 137.5 88.7 \" fill=\"#191919\"/>\n",
       "<path class=\"atom-5\" d=\"M 77.6 128.8 L 79.3 127.1 L 77.1 126.6 L 77.4 125.4 L 79.5 126.5 L 79.2 124.2 L 80.5 124.2 L 80.1 126.5 L 82.3 125.5 L 82.6 126.6 L 80.3 127.0 L 82.0 128.8 L 80.9 129.5 L 79.8 127.3 L 78.6 129.5 L 77.6 128.8 \" fill=\"#191919\"/>\n",
       "<path class=\"atom-6\" d=\"M 8.1 25.1 L 9.8 23.4 L 7.5 22.9 L 7.8 21.7 L 10.0 22.8 L 9.7 20.5 L 10.9 20.5 L 10.6 22.8 L 12.7 21.8 L 13.1 22.9 L 10.7 23.3 L 12.4 25.1 L 11.4 25.8 L 10.2 23.6 L 9.1 25.8 L 8.1 25.1 \" fill=\"#191919\"/>\n",
       "</svg>"
      ],
      "text/plain": [
       "<IPython.core.display.SVG object>"
      ]
     },
     "metadata": {},
     "output_type": "display_data"
    },
    {
     "name": "stdout",
     "output_type": "stream",
     "text": [
      "bit id(hash): 1130134577: ccc\n",
      "radius: 1\n"
     ]
    },
    {
     "data": {
      "image/svg+xml": [
       "<svg xmlns=\"http://www.w3.org/2000/svg\" xmlns:rdkit=\"http://www.rdkit.org/xml\" xmlns:xlink=\"http://www.w3.org/1999/xlink\" version=\"1.1\" baseProfile=\"full\" xml:space=\"preserve\" width=\"150px\" height=\"150px\" viewBox=\"0 0 150 150\">\n",
       "<!-- END OF HEADER -->\n",
       "<rect style=\"opacity:1.0;fill:#FFFFFF;stroke:none\" width=\"150.0\" height=\"150.0\" x=\"0.0\" y=\"0.0\"> </rect>\n",
       "<ellipse cx=\"77.5\" cy=\"94.9\" rx=\"8.6\" ry=\"8.6\" class=\"atom-0\" style=\"fill:#9999E5;fill-rule:evenodd;stroke:#9999E5;stroke-width:1.0px;stroke-linecap:butt;stroke-linejoin:miter;stroke-opacity:1\"/>\n",
       "<ellipse cx=\"34.4\" cy=\"97.8\" rx=\"8.6\" ry=\"8.6\" class=\"atom-1\" style=\"fill:#E5E533;fill-rule:evenodd;stroke:#E5E533;stroke-width:1.0px;stroke-linecap:butt;stroke-linejoin:miter;stroke-opacity:1\"/>\n",
       "<ellipse cx=\"96.5\" cy=\"56.1\" rx=\"8.6\" ry=\"8.6\" class=\"atom-4\" style=\"fill:#E5E533;fill-rule:evenodd;stroke:#E5E533;stroke-width:1.0px;stroke-linecap:butt;stroke-linejoin:miter;stroke-opacity:1\"/>\n",
       "<path class=\"bond-0 atom-0 atom-1\" d=\"M 77.5,94.9 L 34.4,97.8\" style=\"fill:none;fill-rule:evenodd;stroke:#000000;stroke-width:2.0px;stroke-linecap:butt;stroke-linejoin:miter;stroke-opacity:1\"/>\n",
       "<path class=\"bond-0 atom-0 atom-1\" d=\"M 73.3,88.7 L 37.7,91.1\" style=\"fill:none;fill-rule:evenodd;stroke:#000000;stroke-width:2.0px;stroke-linecap:butt;stroke-linejoin:miter;stroke-opacity:1;stroke-dasharray:6,4\"/>\n",
       "<path class=\"bond-1 atom-1 atom-2\" d=\"M 38.2,97.5 L 13.6,60.9\" style=\"fill:none;fill-rule:evenodd;stroke:#E5E5E5;stroke-width:2.3px;stroke-linecap:butt;stroke-linejoin:miter;stroke-opacity:1\"/>\n",
       "<path class=\"bond-1 atom-1 atom-2\" d=\"M 32.8,101.2 L 8.2,64.5\" style=\"fill:none;fill-rule:evenodd;stroke:#E5E5E5;stroke-width:2.3px;stroke-linecap:butt;stroke-linejoin:miter;stroke-opacity:1;stroke-dasharray:6,4\"/>\n",
       "<path class=\"bond-2 atom-3 atom-4\" d=\"M 75.7,19.3 L 100.3,55.9\" style=\"fill:none;fill-rule:evenodd;stroke:#E5E5E5;stroke-width:2.3px;stroke-linecap:butt;stroke-linejoin:miter;stroke-opacity:1\"/>\n",
       "<path class=\"bond-2 atom-3 atom-4\" d=\"M 70.3,22.9 L 94.9,59.5\" style=\"fill:none;fill-rule:evenodd;stroke:#E5E5E5;stroke-width:2.3px;stroke-linecap:butt;stroke-linejoin:miter;stroke-opacity:1;stroke-dasharray:6,4\"/>\n",
       "<path class=\"bond-3 atom-4 atom-5\" d=\"M 96.5,56.1 L 135.3,53.5\" style=\"fill:none;fill-rule:evenodd;stroke:#E5E5E5;stroke-width:2.3px;stroke-linecap:butt;stroke-linejoin:miter;stroke-opacity:1\"/>\n",
       "<path class=\"bond-4 atom-4 atom-0\" d=\"M 96.5,56.1 L 77.5,94.9\" style=\"fill:none;fill-rule:evenodd;stroke:#000000;stroke-width:2.0px;stroke-linecap:butt;stroke-linejoin:miter;stroke-opacity:1\"/>\n",
       "<path class=\"bond-4 atom-4 atom-0\" d=\"M 89.1,56.6 L 73.3,88.7\" style=\"fill:none;fill-rule:evenodd;stroke:#000000;stroke-width:2.0px;stroke-linecap:butt;stroke-linejoin:miter;stroke-opacity:1;stroke-dasharray:6,4\"/>\n",
       "<path class=\"bond-5 atom-0 atom-6\" d=\"M 77.5,94.9 L 97.2,124.3\" style=\"fill:none;fill-rule:evenodd;stroke:#E5E5E5;stroke-width:2.3px;stroke-linecap:butt;stroke-linejoin:miter;stroke-opacity:1\"/>\n",
       "<path class=\"bond-6 atom-1 atom-7\" d=\"M 34.4,97.8 L 19.2,128.9\" style=\"fill:none;fill-rule:evenodd;stroke:#E5E5E5;stroke-width:2.3px;stroke-linecap:butt;stroke-linejoin:miter;stroke-opacity:1\"/>\n",
       "<path class=\"atom-2\" d=\"M 8.1 60.6 L 9.9 58.7 L 7.5 58.3 L 7.9 57.0 L 10.1 58.1 L 9.7 55.7 L 11.0 55.7 L 10.7 58.1 L 12.9 57.1 L 13.3 58.3 L 10.9 58.7 L 12.6 60.6 L 11.5 61.3 L 10.3 59.0 L 9.1 61.3 L 8.1 60.6 \" fill=\"#191919\"/>\n",
       "<path class=\"atom-3\" d=\"M 70.2 18.9 L 72.0 17.1 L 69.6 16.6 L 70.0 15.4 L 72.2 16.5 L 71.8 14.1 L 73.1 14.1 L 72.8 16.5 L 75.0 15.4 L 75.4 16.6 L 73.0 17.1 L 74.7 18.9 L 73.6 19.7 L 72.4 17.4 L 71.2 19.7 L 70.2 18.9 \" fill=\"#191919\"/>\n",
       "<path class=\"atom-5\" d=\"M 137.3 51.9 L 139.1 50.1 L 136.7 49.6 L 137.1 48.3 L 139.3 49.4 L 139.0 47.0 L 140.3 47.0 L 139.9 49.4 L 142.1 48.4 L 142.5 49.6 L 140.1 50.0 L 141.8 51.9 L 140.8 52.6 L 139.6 50.3 L 138.4 52.6 L 137.3 51.9 \" fill=\"#191919\"/>\n",
       "<path class=\"atom-6\" d=\"M 99.3 129.4 L 101.0 127.6 L 98.7 127.1 L 99.0 125.8 L 101.2 126.9 L 100.9 124.5 L 102.2 124.5 L 101.8 126.9 L 104.1 125.9 L 104.4 127.1 L 102.0 127.5 L 103.8 129.4 L 102.7 130.1 L 101.5 127.8 L 100.3 130.1 L 99.3 129.4 \" fill=\"#191919\"/>\n",
       "<path class=\"atom-7\" d=\"M 13.1 135.2 L 14.9 133.3 L 12.5 132.9 L 12.9 131.6 L 15.1 132.7 L 14.8 130.3 L 16.1 130.3 L 15.7 132.7 L 17.9 131.7 L 18.3 132.9 L 15.9 133.3 L 17.6 135.2 L 16.6 135.9 L 15.4 133.6 L 14.2 135.9 L 13.1 135.2 \" fill=\"#191919\"/>\n",
       "</svg>"
      ],
      "text/plain": [
       "<IPython.core.display.SVG object>"
      ]
     },
     "metadata": {},
     "output_type": "display_data"
    },
    {
     "name": "stdout",
     "output_type": "stream",
     "text": [
      "bit id(hash): 2063064224: ccn\n",
      "radius: 1\n"
     ]
    },
    {
     "data": {
      "image/svg+xml": [
       "<svg xmlns=\"http://www.w3.org/2000/svg\" xmlns:rdkit=\"http://www.rdkit.org/xml\" xmlns:xlink=\"http://www.w3.org/1999/xlink\" version=\"1.1\" baseProfile=\"full\" xml:space=\"preserve\" width=\"150px\" height=\"150px\" viewBox=\"0 0 150 150\">\n",
       "<!-- END OF HEADER -->\n",
       "<rect style=\"opacity:1.0;fill:#FFFFFF;stroke:none\" width=\"150.0\" height=\"150.0\" x=\"0.0\" y=\"0.0\"> </rect>\n",
       "<ellipse cx=\"53.5\" cy=\"97.8\" rx=\"8.6\" ry=\"8.6\" class=\"atom-1\" style=\"fill:#E5E533;fill-rule:evenodd;stroke:#E5E533;stroke-width:1.0px;stroke-linecap:butt;stroke-linejoin:miter;stroke-opacity:1\"/>\n",
       "<ellipse cx=\"72.5\" cy=\"59.0\" rx=\"8.6\" ry=\"8.6\" class=\"atom-2\" style=\"fill:#9999E5;fill-rule:evenodd;stroke:#9999E5;stroke-width:1.0px;stroke-linecap:butt;stroke-linejoin:miter;stroke-opacity:1\"/>\n",
       "<ellipse cx=\"115.6\" cy=\"56.1\" rx=\"8.6\" ry=\"8.6\" class=\"atom-3\" style=\"fill:#E5E533;fill-rule:evenodd;stroke:#E5E533;stroke-width:1.0px;stroke-linecap:butt;stroke-linejoin:miter;stroke-opacity:1\"/>\n",
       "<path class=\"bond-0 atom-0 atom-1\" d=\"M 70.5,129.0 L 49.7,98.0\" style=\"fill:none;fill-rule:evenodd;stroke:#E5E5E5;stroke-width:2.3px;stroke-linecap:butt;stroke-linejoin:miter;stroke-opacity:1\"/>\n",
       "<path class=\"bond-0 atom-0 atom-1\" d=\"M 75.9,125.4 L 55.1,94.4\" style=\"fill:none;fill-rule:evenodd;stroke:#E5E5E5;stroke-width:2.3px;stroke-linecap:butt;stroke-linejoin:miter;stroke-opacity:1;stroke-dasharray:6,4\"/>\n",
       "<path class=\"bond-1 atom-1 atom-2\" d=\"M 53.5,97.8 L 72.5,59.0\" style=\"fill:none;fill-rule:evenodd;stroke:#000000;stroke-width:2.0px;stroke-linecap:butt;stroke-linejoin:miter;stroke-opacity:1\"/>\n",
       "<path class=\"bond-1 atom-1 atom-2\" d=\"M 60.9,97.3 L 76.7,65.3\" style=\"fill:none;fill-rule:evenodd;stroke:#000000;stroke-width:2.0px;stroke-linecap:butt;stroke-linejoin:miter;stroke-opacity:1;stroke-dasharray:6,4\"/>\n",
       "<path class=\"bond-2 atom-2 atom-3\" d=\"M 72.5,59.0 L 109.5,56.6\" style=\"fill:none;fill-rule:evenodd;stroke:#000000;stroke-width:2.0px;stroke-linecap:butt;stroke-linejoin:miter;stroke-opacity:1\"/>\n",
       "<path class=\"bond-2 atom-2 atom-3\" d=\"M 76.7,65.3 L 109.9,63.0\" style=\"fill:none;fill-rule:evenodd;stroke:#000000;stroke-width:2.0px;stroke-linecap:butt;stroke-linejoin:miter;stroke-opacity:1;stroke-dasharray:6,4\"/>\n",
       "<path class=\"bond-3 atom-3 atom-4\" d=\"M 117.9,65.5 L 132.6,87.4\" style=\"fill:none;fill-rule:evenodd;stroke:#E5E5E5;stroke-width:2.3px;stroke-linecap:butt;stroke-linejoin:miter;stroke-opacity:1\"/>\n",
       "<path class=\"bond-3 atom-3 atom-4\" d=\"M 123.3,61.9 L 138.0,83.8\" style=\"fill:none;fill-rule:evenodd;stroke:#E5E5E5;stroke-width:2.3px;stroke-linecap:butt;stroke-linejoin:miter;stroke-opacity:1;stroke-dasharray:6,4\"/>\n",
       "<path class=\"bond-4 atom-1 atom-5\" d=\"M 53.5,97.8 L 14.7,100.4\" style=\"fill:none;fill-rule:evenodd;stroke:#E5E5E5;stroke-width:2.3px;stroke-linecap:butt;stroke-linejoin:miter;stroke-opacity:1\"/>\n",
       "<path class=\"bond-5 atom-2 atom-6\" d=\"M 72.5,59.0 L 49.0,24.0\" style=\"fill:none;fill-rule:evenodd;stroke:#E5E5E5;stroke-width:2.3px;stroke-linecap:butt;stroke-linejoin:miter;stroke-opacity:1\"/>\n",
       "<path class=\"atom-0\" d=\"M 75.2 132.3 L 77.0 130.5 L 74.6 130.0 L 75.0 128.7 L 77.2 129.8 L 76.9 127.4 L 78.2 127.4 L 77.8 129.8 L 80.0 128.8 L 80.4 130.0 L 78.0 130.4 L 79.7 132.3 L 78.7 133.0 L 77.5 130.7 L 76.3 133.0 L 75.2 132.3 \" fill=\"#191919\"/>\n",
       "<path class=\"atom-3\" d=\"M 112.9 50.0 L 116.9 56.5 Q 117.3 57.1, 117.9 58.3 Q 118.5 59.5, 118.6 59.5 L 118.6 50.0 L 120.2 50.0 L 120.2 62.3 L 118.5 62.3 L 114.2 55.2 Q 113.7 54.3, 113.2 53.4 Q 112.7 52.5, 112.5 52.2 L 112.5 62.3 L 110.9 62.3 L 110.9 50.0 L 112.9 50.0 \" fill=\"#000000\"/>\n",
       "<path class=\"atom-4\" d=\"M 137.3 90.6 L 139.1 88.8 L 136.7 88.3 L 137.1 87.1 L 139.3 88.2 L 139.0 85.8 L 140.3 85.8 L 139.9 88.2 L 142.1 87.1 L 142.5 88.3 L 140.1 88.8 L 141.8 90.6 L 140.8 91.4 L 139.6 89.1 L 138.4 91.4 L 137.3 90.6 \" fill=\"#191919\"/>\n",
       "<path class=\"atom-5\" d=\"M 8.1 99.3 L 9.9 97.5 L 7.5 97.0 L 7.9 95.8 L 10.1 96.9 L 9.7 94.5 L 11.0 94.5 L 10.7 96.9 L 12.9 95.8 L 13.3 97.0 L 10.9 97.5 L 12.6 99.3 L 11.5 100.1 L 10.3 97.8 L 9.1 100.1 L 8.1 99.3 \" fill=\"#191919\"/>\n",
       "<path class=\"atom-6\" d=\"M 46.1 21.8 L 47.9 20.0 L 45.6 19.5 L 45.9 18.3 L 48.1 19.4 L 47.8 17.0 L 49.1 17.0 L 48.7 19.4 L 51.0 18.3 L 51.3 19.5 L 48.9 20.0 L 50.6 21.8 L 49.6 22.6 L 48.4 20.3 L 47.2 22.6 L 46.1 21.8 \" fill=\"#191919\"/>\n",
       "</svg>"
      ],
      "text/plain": [
       "<IPython.core.display.SVG object>"
      ]
     },
     "metadata": {},
     "output_type": "display_data"
    },
    {
     "name": "stdout",
     "output_type": "stream",
     "text": [
      "bit id(hash): 2392445291: ccc\n",
      "radius: 1\n"
     ]
    },
    {
     "data": {
      "image/svg+xml": [
       "<svg xmlns=\"http://www.w3.org/2000/svg\" xmlns:rdkit=\"http://www.rdkit.org/xml\" xmlns:xlink=\"http://www.w3.org/1999/xlink\" version=\"1.1\" baseProfile=\"full\" xml:space=\"preserve\" width=\"150px\" height=\"150px\" viewBox=\"0 0 150 150\">\n",
       "<!-- END OF HEADER -->\n",
       "<rect style=\"opacity:1.0;fill:#FFFFFF;stroke:none\" width=\"150.0\" height=\"150.0\" x=\"0.0\" y=\"0.0\"> </rect>\n",
       "<ellipse cx=\"116.5\" cy=\"92.8\" rx=\"8.3\" ry=\"8.3\" class=\"atom-0\" style=\"fill:#E5E533;fill-rule:evenodd;stroke:#E5E533;stroke-width:1.0px;stroke-linecap:butt;stroke-linejoin:miter;stroke-opacity:1\"/>\n",
       "<ellipse cx=\"75.0\" cy=\"95.6\" rx=\"8.3\" ry=\"8.3\" class=\"atom-1\" style=\"fill:#9999E5;fill-rule:evenodd;stroke:#9999E5;stroke-width:1.0px;stroke-linecap:butt;stroke-linejoin:miter;stroke-opacity:1\"/>\n",
       "<ellipse cx=\"51.8\" cy=\"61.0\" rx=\"8.3\" ry=\"8.3\" class=\"atom-2\" style=\"fill:#E5E533;fill-rule:evenodd;stroke:#E5E533;stroke-width:1.0px;stroke-linecap:butt;stroke-linejoin:miter;stroke-opacity:1\"/>\n",
       "<path class=\"bond-0 atom-0 atom-1\" d=\"M 116.5,92.8 L 75.0,95.6\" style=\"fill:none;fill-rule:evenodd;stroke:#000000;stroke-width:2.0px;stroke-linecap:butt;stroke-linejoin:miter;stroke-opacity:1\"/>\n",
       "<path class=\"bond-0 atom-0 atom-1\" d=\"M 112.5,86.8 L 78.2,89.1\" style=\"fill:none;fill-rule:evenodd;stroke:#000000;stroke-width:2.0px;stroke-linecap:butt;stroke-linejoin:miter;stroke-opacity:1;stroke-dasharray:6,4\"/>\n",
       "<path class=\"bond-1 atom-1 atom-2\" d=\"M 75.0,95.6 L 51.8,61.0\" style=\"fill:none;fill-rule:evenodd;stroke:#000000;stroke-width:2.0px;stroke-linecap:butt;stroke-linejoin:miter;stroke-opacity:1\"/>\n",
       "<path class=\"bond-1 atom-1 atom-2\" d=\"M 78.2,89.1 L 59.0,60.5\" style=\"fill:none;fill-rule:evenodd;stroke:#000000;stroke-width:2.0px;stroke-linecap:butt;stroke-linejoin:miter;stroke-opacity:1;stroke-dasharray:6,4\"/>\n",
       "<path class=\"bond-2 atom-2 atom-3\" d=\"M 53.8,64.0 L 72.6,25.8\" style=\"fill:none;fill-rule:evenodd;stroke:#E5E5E5;stroke-width:2.2px;stroke-linecap:butt;stroke-linejoin:miter;stroke-opacity:1\"/>\n",
       "<path class=\"bond-2 atom-2 atom-3\" d=\"M 48.2,61.3 L 67.0,23.1\" style=\"fill:none;fill-rule:evenodd;stroke:#E5E5E5;stroke-width:2.2px;stroke-linecap:butt;stroke-linejoin:miter;stroke-opacity:1;stroke-dasharray:6,4\"/>\n",
       "<path class=\"bond-3 atom-4 atom-0\" d=\"M 137.3,57.6 L 118.5,95.8\" style=\"fill:none;fill-rule:evenodd;stroke:#E5E5E5;stroke-width:2.2px;stroke-linecap:butt;stroke-linejoin:miter;stroke-opacity:1\"/>\n",
       "<path class=\"bond-3 atom-4 atom-0\" d=\"M 131.7,54.8 L 112.9,93.0\" style=\"fill:none;fill-rule:evenodd;stroke:#E5E5E5;stroke-width:2.2px;stroke-linecap:butt;stroke-linejoin:miter;stroke-opacity:1;stroke-dasharray:6,4\"/>\n",
       "<path class=\"bond-4 atom-0 atom-5\" d=\"M 116.5,92.8 L 135.5,121.1\" style=\"fill:none;fill-rule:evenodd;stroke:#E5E5E5;stroke-width:2.2px;stroke-linecap:butt;stroke-linejoin:miter;stroke-opacity:1\"/>\n",
       "<path class=\"bond-5 atom-1 atom-6\" d=\"M 75.0,95.6 L 60.3,125.6\" style=\"fill:none;fill-rule:evenodd;stroke:#E5E5E5;stroke-width:2.2px;stroke-linecap:butt;stroke-linejoin:miter;stroke-opacity:1\"/>\n",
       "<path class=\"bond-6 atom-2 atom-7\" d=\"M 51.8,61.0 L 14.5,63.5\" style=\"fill:none;fill-rule:evenodd;stroke:#E5E5E5;stroke-width:2.2px;stroke-linecap:butt;stroke-linejoin:miter;stroke-opacity:1\"/>\n",
       "<path class=\"atom-3\" d=\"M 67.9 22.3 L 69.7 20.6 L 67.4 20.1 L 67.7 18.9 L 69.8 20.0 L 69.5 17.7 L 70.8 17.7 L 70.4 20.0 L 72.6 19.0 L 72.9 20.1 L 70.6 20.5 L 72.3 22.3 L 71.3 23.1 L 70.1 20.9 L 69.0 23.1 L 67.9 22.3 \" fill=\"#191919\"/>\n",
       "<path class=\"atom-4\" d=\"M 132.6 54.1 L 134.4 52.3 L 132.1 51.9 L 132.4 50.7 L 134.5 51.8 L 134.2 49.4 L 135.5 49.4 L 135.1 51.7 L 137.3 50.7 L 137.7 51.9 L 135.3 52.3 L 137.0 54.1 L 136.0 54.8 L 134.8 52.6 L 133.7 54.8 L 132.6 54.1 \" fill=\"#191919\"/>\n",
       "<path class=\"atom-5\" d=\"M 137.5 126.0 L 139.2 124.3 L 136.9 123.8 L 137.3 122.6 L 139.4 123.7 L 139.1 121.4 L 140.3 121.4 L 140.0 123.7 L 142.1 122.7 L 142.5 123.8 L 140.2 124.2 L 141.8 126.0 L 140.8 126.8 L 139.7 124.6 L 138.5 126.8 L 137.5 126.0 \" fill=\"#191919\"/>\n",
       "<path class=\"atom-6\" d=\"M 54.4 131.6 L 56.2 129.9 L 53.9 129.4 L 54.2 128.2 L 56.3 129.3 L 56.0 127.0 L 57.3 126.9 L 56.9 129.3 L 59.1 128.3 L 59.4 129.4 L 57.1 129.8 L 58.8 131.6 L 57.8 132.3 L 56.6 130.1 L 55.4 132.3 L 54.4 131.6 \" fill=\"#191919\"/>\n",
       "<path class=\"atom-7\" d=\"M 8.1 62.5 L 9.8 60.7 L 7.5 60.3 L 7.8 59.1 L 10.0 60.1 L 9.7 57.8 L 10.9 57.8 L 10.6 60.1 L 12.7 59.1 L 13.1 60.3 L 10.7 60.7 L 12.4 62.5 L 11.4 63.2 L 10.2 61.0 L 9.1 63.2 L 8.1 62.5 \" fill=\"#191919\"/>\n",
       "</svg>"
      ],
      "text/plain": [
       "<IPython.core.display.SVG object>"
      ]
     },
     "metadata": {},
     "output_type": "display_data"
    },
    {
     "name": "stdout",
     "output_type": "stream",
     "text": [
      "bit id(hash): 3321501787: [H]C\n",
      "radius: 1\n"
     ]
    },
    {
     "data": {
      "image/svg+xml": [
       "<svg xmlns=\"http://www.w3.org/2000/svg\" xmlns:rdkit=\"http://www.rdkit.org/xml\" xmlns:xlink=\"http://www.w3.org/1999/xlink\" version=\"1.1\" baseProfile=\"full\" xml:space=\"preserve\" width=\"150px\" height=\"150px\" viewBox=\"0 0 150 150\">\n",
       "<!-- END OF HEADER -->\n",
       "<rect style=\"opacity:1.0;fill:#FFFFFF;stroke:none\" width=\"150.0\" height=\"150.0\" x=\"0.0\" y=\"0.0\"> </rect>\n",
       "<ellipse cx=\"130.6\" cy=\"75.7\" rx=\"11.9\" ry=\"11.9\" class=\"atom-2\" style=\"fill:#9999E5;fill-rule:evenodd;stroke:#9999E5;stroke-width:1.0px;stroke-linecap:butt;stroke-linejoin:miter;stroke-opacity:1\"/>\n",
       "<path class=\"bond-0 atom-0 atom-1\" d=\"M 17.5,83.3 L 71.0,79.7\" style=\"fill:none;fill-rule:evenodd;stroke:#E5E5E5;stroke-width:3.2px;stroke-linecap:butt;stroke-linejoin:miter;stroke-opacity:1\"/>\n",
       "<path class=\"bond-1 atom-1 atom-2\" d=\"M 71.0,79.7 L 122.0,76.3\" style=\"fill:none;fill-rule:evenodd;stroke:#000000;stroke-width:2.0px;stroke-linecap:butt;stroke-linejoin:miter;stroke-opacity:1\"/>\n",
       "<path class=\"bond-2 atom-1 atom-3\" d=\"M 71.0,79.7 L 67.1,21.3\" style=\"fill:none;fill-rule:evenodd;stroke:#E5E5E5;stroke-width:3.2px;stroke-linecap:butt;stroke-linejoin:miter;stroke-opacity:1\"/>\n",
       "<path class=\"bond-3 atom-1 atom-4\" d=\"M 71.0,79.7 L 74.3,128.7\" style=\"fill:none;fill-rule:evenodd;stroke:#E5E5E5;stroke-width:3.2px;stroke-linecap:butt;stroke-linejoin:miter;stroke-opacity:1\"/>\n",
       "<path class=\"atom-0\" d=\"M 8.3 81.8 L 10.8 79.3 L 7.5 78.6 L 8.0 77.0 L 11.0 78.5 L 10.6 75.2 L 12.4 75.1 L 11.9 78.5 L 15.0 77.0 L 15.5 78.6 L 12.2 79.3 L 14.5 81.8 L 13.1 82.9 L 11.4 79.7 L 9.8 82.9 L 8.3 81.8 \" fill=\"#191919\"/>\n",
       "<path class=\"atom-2\" d=\"M 124.0 67.3 L 126.2 67.3 L 126.2 74.5 L 134.9 74.5 L 134.9 67.3 L 137.2 67.3 L 137.2 84.2 L 134.9 84.2 L 134.9 76.4 L 126.2 76.4 L 126.2 84.2 L 124.0 84.2 L 124.0 67.3 \" fill=\"#000000\"/>\n",
       "<path class=\"atom-3\" d=\"M 63.8 18.3 L 66.3 15.8 L 63.0 15.1 L 63.5 13.4 L 66.6 14.9 L 66.1 11.6 L 67.9 11.6 L 67.4 14.9 L 70.5 13.5 L 71.0 15.1 L 67.7 15.7 L 70.1 18.3 L 68.6 19.3 L 67.0 16.2 L 65.3 19.3 L 63.8 18.3 \" fill=\"#191919\"/>\n",
       "<path class=\"atom-4\" d=\"M 71.9 137.4 L 74.3 134.8 L 71.0 134.2 L 71.5 132.5 L 74.6 134.0 L 74.1 130.7 L 75.9 130.7 L 75.4 134.0 L 78.5 132.6 L 79.0 134.2 L 75.7 134.8 L 78.1 137.4 L 76.6 138.4 L 75.0 135.3 L 73.3 138.4 L 71.9 137.4 \" fill=\"#191919\"/>\n",
       "</svg>"
      ],
      "text/plain": [
       "<IPython.core.display.SVG object>"
      ]
     },
     "metadata": {},
     "output_type": "display_data"
    },
    {
     "name": "stdout",
     "output_type": "stream",
     "text": [
      "bit id(hash): 4036277955: cc(C)n\n",
      "radius: 1\n"
     ]
    },
    {
     "data": {
      "image/svg+xml": [
       "<svg xmlns=\"http://www.w3.org/2000/svg\" xmlns:rdkit=\"http://www.rdkit.org/xml\" xmlns:xlink=\"http://www.w3.org/1999/xlink\" version=\"1.1\" baseProfile=\"full\" xml:space=\"preserve\" width=\"150px\" height=\"150px\" viewBox=\"0 0 150 150\">\n",
       "<!-- END OF HEADER -->\n",
       "<rect style=\"opacity:1.0;fill:#FFFFFF;stroke:none\" width=\"150.0\" height=\"150.0\" x=\"0.0\" y=\"0.0\"> </rect>\n",
       "<ellipse cx=\"50.8\" cy=\"98.6\" rx=\"7.3\" ry=\"7.3\" class=\"atom-0\" style=\"fill:#E5E533;fill-rule:evenodd;stroke:#E5E533;stroke-width:1.0px;stroke-linecap:butt;stroke-linejoin:miter;stroke-opacity:1\"/>\n",
       "<ellipse cx=\"46.5\" cy=\"35.3\" rx=\"7.3\" ry=\"7.3\" class=\"atom-3\" style=\"fill:#E5E533;fill-rule:evenodd;stroke:#E5E533;stroke-width:1.0px;stroke-linecap:butt;stroke-linejoin:miter;stroke-opacity:1\"/>\n",
       "<ellipse cx=\"66.9\" cy=\"65.8\" rx=\"7.3\" ry=\"7.3\" class=\"atom-4\" style=\"fill:#9999E5;fill-rule:evenodd;stroke:#9999E5;stroke-width:1.0px;stroke-linecap:butt;stroke-linejoin:miter;stroke-opacity:1\"/>\n",
       "<path class=\"bond-0 atom-0 atom-1\" d=\"M 52.2,95.8 L 17.7,98.1\" style=\"fill:none;fill-rule:evenodd;stroke:#E5E5E5;stroke-width:2.0px;stroke-linecap:butt;stroke-linejoin:miter;stroke-opacity:1\"/>\n",
       "<path class=\"bond-0 atom-0 atom-1\" d=\"M 52.5,101.3 L 18.1,103.6\" style=\"fill:none;fill-rule:evenodd;stroke:#E5E5E5;stroke-width:2.0px;stroke-linecap:butt;stroke-linejoin:miter;stroke-opacity:1;stroke-dasharray:6,4\"/>\n",
       "<path class=\"bond-1 atom-2 atom-3\" d=\"M 13.4,34.8 L 41.2,32.9\" style=\"fill:none;fill-rule:evenodd;stroke:#E5E5E5;stroke-width:2.0px;stroke-linecap:butt;stroke-linejoin:miter;stroke-opacity:1\"/>\n",
       "<path class=\"bond-1 atom-2 atom-3\" d=\"M 13.8,40.3 L 41.6,38.4\" style=\"fill:none;fill-rule:evenodd;stroke:#E5E5E5;stroke-width:2.0px;stroke-linecap:butt;stroke-linejoin:miter;stroke-opacity:1;stroke-dasharray:6,4\"/>\n",
       "<path class=\"bond-2 atom-3 atom-4\" d=\"M 50.8,41.7 L 66.9,65.8\" style=\"fill:none;fill-rule:evenodd;stroke:#000000;stroke-width:2.0px;stroke-linecap:butt;stroke-linejoin:miter;stroke-opacity:1\"/>\n",
       "<path class=\"bond-2 atom-3 atom-4\" d=\"M 46.2,44.8 L 60.6,66.2\" style=\"fill:none;fill-rule:evenodd;stroke:#000000;stroke-width:2.0px;stroke-linecap:butt;stroke-linejoin:miter;stroke-opacity:1;stroke-dasharray:6,4\"/>\n",
       "<path class=\"bond-3 atom-4 atom-5\" d=\"M 66.9,65.8 L 103.5,63.3\" style=\"fill:none;fill-rule:evenodd;stroke:#000000;stroke-width:2.0px;stroke-linecap:butt;stroke-linejoin:miter;stroke-opacity:1\"/>\n",
       "<path class=\"bond-4 atom-4 atom-0\" d=\"M 66.9,65.8 L 50.8,98.6\" style=\"fill:none;fill-rule:evenodd;stroke:#000000;stroke-width:2.0px;stroke-linecap:butt;stroke-linejoin:miter;stroke-opacity:1\"/>\n",
       "<path class=\"bond-4 atom-4 atom-0\" d=\"M 60.6,66.2 L 47.2,93.4\" style=\"fill:none;fill-rule:evenodd;stroke:#000000;stroke-width:2.0px;stroke-linecap:butt;stroke-linejoin:miter;stroke-opacity:1;stroke-dasharray:6,4\"/>\n",
       "<path class=\"bond-5 atom-0 atom-6\" d=\"M 50.8,98.6 L 67.5,123.6\" style=\"fill:none;fill-rule:evenodd;stroke:#E5E5E5;stroke-width:2.0px;stroke-linecap:butt;stroke-linejoin:miter;stroke-opacity:1\"/>\n",
       "<path class=\"bond-6 atom-5 atom-7\" d=\"M 103.5,63.3 L 136.4,61.1\" style=\"fill:none;fill-rule:evenodd;stroke:#E5E5E5;stroke-width:2.0px;stroke-linecap:butt;stroke-linejoin:miter;stroke-opacity:1\"/>\n",
       "<path class=\"bond-7 atom-5 atom-8\" d=\"M 103.5,63.3 L 101.1,27.4\" style=\"fill:none;fill-rule:evenodd;stroke:#E5E5E5;stroke-width:2.0px;stroke-linecap:butt;stroke-linejoin:miter;stroke-opacity:1\"/>\n",
       "<path class=\"bond-8 atom-5 atom-9\" d=\"M 103.5,63.3 L 105.5,93.4\" style=\"fill:none;fill-rule:evenodd;stroke:#E5E5E5;stroke-width:2.0px;stroke-linecap:butt;stroke-linejoin:miter;stroke-opacity:1\"/>\n",
       "<path class=\"atom-1\" d=\"M 12.3 99.9 L 13.8 98.4 L 11.8 98.0 L 12.1 96.9 L 13.9 97.9 L 13.7 95.8 L 14.8 95.8 L 14.5 97.9 L 16.3 97.0 L 16.7 98.0 L 14.6 98.4 L 16.1 99.9 L 15.2 100.6 L 14.2 98.6 L 13.2 100.6 L 12.3 99.9 \" fill=\"#191919\"/>\n",
       "<path class=\"atom-2\" d=\"M 8.0 36.6 L 9.5 35.1 L 7.5 34.7 L 7.8 33.6 L 9.7 34.6 L 9.4 32.5 L 10.5 32.5 L 10.2 34.5 L 12.1 33.7 L 12.4 34.7 L 10.4 35.0 L 11.8 36.6 L 10.9 37.3 L 9.9 35.3 L 8.9 37.3 L 8.0 36.6 \" fill=\"#191919\"/>\n",
       "<path class=\"atom-3\" d=\"M 44.2 30.1 L 47.6 35.6 Q 48.0 36.2, 48.5 37.2 Q 49.0 38.1, 49.1 38.2 L 49.1 30.1 L 50.5 30.1 L 50.5 40.5 L 49.0 40.5 L 45.4 34.5 Q 45.0 33.8, 44.5 33.0 Q 44.1 32.2, 43.9 31.9 L 43.9 40.5 L 42.6 40.5 L 42.6 30.1 L 44.2 30.1 \" fill=\"#000000\"/>\n",
       "<path class=\"atom-6\" d=\"M 69.2 127.9 L 70.8 126.4 L 68.7 126.0 L 69.0 124.9 L 70.9 125.8 L 70.6 123.8 L 71.7 123.8 L 71.4 125.8 L 73.3 125.0 L 73.6 126.0 L 71.6 126.3 L 73.1 127.9 L 72.2 128.5 L 71.1 126.6 L 70.1 128.5 L 69.2 127.9 \" fill=\"#191919\"/>\n",
       "<path class=\"atom-7\" d=\"M 138.1 59.7 L 139.6 58.1 L 137.6 57.7 L 137.9 56.7 L 139.8 57.6 L 139.5 55.6 L 140.6 55.6 L 140.3 57.6 L 142.2 56.7 L 142.5 57.7 L 140.4 58.1 L 141.9 59.7 L 141.0 60.3 L 140.0 58.4 L 139.0 60.3 L 138.1 59.7 \" fill=\"#191919\"/>\n",
       "<path class=\"atom-8\" d=\"M 99.1 25.6 L 100.6 24.0 L 98.6 23.6 L 98.9 22.6 L 100.7 23.5 L 100.5 21.5 L 101.6 21.5 L 101.3 23.5 L 103.2 22.6 L 103.5 23.6 L 101.4 24.0 L 102.9 25.6 L 102.0 26.2 L 101.0 24.3 L 100.0 26.2 L 99.1 25.6 \" fill=\"#191919\"/>\n",
       "<path class=\"atom-9\" d=\"M 104.0 98.7 L 105.5 97.1 L 103.5 96.7 L 103.8 95.7 L 105.7 96.6 L 105.4 94.6 L 106.5 94.6 L 106.2 96.6 L 108.1 95.7 L 108.4 96.7 L 106.3 97.1 L 107.8 98.7 L 106.9 99.3 L 105.9 97.4 L 104.9 99.3 L 104.0 98.7 \" fill=\"#191919\"/>\n",
       "</svg>"
      ],
      "text/plain": [
       "<IPython.core.display.SVG object>"
      ]
     },
     "metadata": {},
     "output_type": "display_data"
    },
    {
     "name": "stdout",
     "output_type": "stream",
     "text": [
      "bit id(hash): 62162552: ccccc\n",
      "radius: 2\n"
     ]
    },
    {
     "data": {
      "image/svg+xml": [
       "<svg xmlns=\"http://www.w3.org/2000/svg\" xmlns:rdkit=\"http://www.rdkit.org/xml\" xmlns:xlink=\"http://www.w3.org/1999/xlink\" version=\"1.1\" baseProfile=\"full\" xml:space=\"preserve\" width=\"150px\" height=\"150px\" viewBox=\"0 0 150 150\">\n",
       "<!-- END OF HEADER -->\n",
       "<rect style=\"opacity:1.0;fill:#FFFFFF;stroke:none\" width=\"150.0\" height=\"150.0\" x=\"0.0\" y=\"0.0\"> </rect>\n",
       "<ellipse cx=\"93.2\" cy=\"102.6\" rx=\"6.5\" ry=\"6.5\" class=\"atom-0\" style=\"fill:#E5E533;fill-rule:evenodd;stroke:#E5E533;stroke-width:1.0px;stroke-linecap:butt;stroke-linejoin:miter;stroke-opacity:1\"/>\n",
       "<ellipse cx=\"60.6\" cy=\"104.8\" rx=\"6.5\" ry=\"6.5\" class=\"atom-1\" style=\"fill:#9999E5;fill-rule:evenodd;stroke:#9999E5;stroke-width:1.0px;stroke-linecap:butt;stroke-linejoin:miter;stroke-opacity:1\"/>\n",
       "<ellipse cx=\"42.3\" cy=\"77.6\" rx=\"6.5\" ry=\"6.5\" class=\"atom-2\" style=\"fill:#E5E533;fill-rule:evenodd;stroke:#E5E533;stroke-width:1.0px;stroke-linecap:butt;stroke-linejoin:miter;stroke-opacity:1\"/>\n",
       "<ellipse cx=\"56.8\" cy=\"48.2\" rx=\"6.5\" ry=\"6.5\" class=\"atom-3\" style=\"fill:#E5E533;fill-rule:evenodd;stroke:#E5E533;stroke-width:1.0px;stroke-linecap:butt;stroke-linejoin:miter;stroke-opacity:1\"/>\n",
       "<ellipse cx=\"107.7\" cy=\"73.2\" rx=\"6.5\" ry=\"6.5\" class=\"atom-5\" style=\"fill:#E5E533;fill-rule:evenodd;stroke:#E5E533;stroke-width:1.0px;stroke-linecap:butt;stroke-linejoin:miter;stroke-opacity:1\"/>\n",
       "<path class=\"bond-0 atom-0 atom-1\" d=\"M 93.2,102.6 L 60.6,104.8\" style=\"fill:none;fill-rule:evenodd;stroke:#000000;stroke-width:2.0px;stroke-linecap:butt;stroke-linejoin:miter;stroke-opacity:1\"/>\n",
       "<path class=\"bond-0 atom-0 atom-1\" d=\"M 90.1,97.9 L 63.1,99.7\" style=\"fill:none;fill-rule:evenodd;stroke:#000000;stroke-width:2.0px;stroke-linecap:butt;stroke-linejoin:miter;stroke-opacity:1\"/>\n",
       "<path class=\"bond-1 atom-1 atom-2\" d=\"M 60.6,104.8 L 42.3,77.6\" style=\"fill:none;fill-rule:evenodd;stroke:#000000;stroke-width:2.0px;stroke-linecap:butt;stroke-linejoin:miter;stroke-opacity:1\"/>\n",
       "<path class=\"bond-2 atom-2 atom-3\" d=\"M 42.3,77.6 L 56.8,48.2\" style=\"fill:none;fill-rule:evenodd;stroke:#000000;stroke-width:2.0px;stroke-linecap:butt;stroke-linejoin:miter;stroke-opacity:1\"/>\n",
       "<path class=\"bond-2 atom-2 atom-3\" d=\"M 48.0,77.2 L 59.9,52.9\" style=\"fill:none;fill-rule:evenodd;stroke:#000000;stroke-width:2.0px;stroke-linecap:butt;stroke-linejoin:miter;stroke-opacity:1\"/>\n",
       "<path class=\"bond-3 atom-3 atom-4\" d=\"M 56.8,48.2 L 86.2,46.2\" style=\"fill:none;fill-rule:evenodd;stroke:#E5E5E5;stroke-width:1.7px;stroke-linecap:butt;stroke-linejoin:miter;stroke-opacity:1\"/>\n",
       "<path class=\"bond-4 atom-4 atom-5\" d=\"M 89.8,46.6 L 107.7,73.2\" style=\"fill:none;fill-rule:evenodd;stroke:#E5E5E5;stroke-width:1.7px;stroke-linecap:butt;stroke-linejoin:miter;stroke-opacity:1\"/>\n",
       "<path class=\"bond-4 atom-4 atom-5\" d=\"M 85.8,49.4 L 102.0,73.6\" style=\"fill:none;fill-rule:evenodd;stroke:#E5E5E5;stroke-width:1.7px;stroke-linecap:butt;stroke-linejoin:miter;stroke-opacity:1\"/>\n",
       "<path class=\"bond-5 atom-5 atom-6\" d=\"M 107.7,73.2 L 137.0,71.2\" style=\"fill:none;fill-rule:evenodd;stroke:#E5E5E5;stroke-width:1.7px;stroke-linecap:butt;stroke-linejoin:miter;stroke-opacity:1\"/>\n",
       "<path class=\"bond-6 atom-5 atom-0\" d=\"M 107.7,73.2 L 93.2,102.6\" style=\"fill:none;fill-rule:evenodd;stroke:#000000;stroke-width:2.0px;stroke-linecap:butt;stroke-linejoin:miter;stroke-opacity:1\"/>\n",
       "<path class=\"bond-7 atom-0 atom-7\" d=\"M 93.2,102.6 L 108.2,124.9\" style=\"fill:none;fill-rule:evenodd;stroke:#E5E5E5;stroke-width:1.7px;stroke-linecap:butt;stroke-linejoin:miter;stroke-opacity:1\"/>\n",
       "<path class=\"bond-8 atom-1 atom-8\" d=\"M 60.6,104.8 L 49.0,128.4\" style=\"fill:none;fill-rule:evenodd;stroke:#E5E5E5;stroke-width:1.7px;stroke-linecap:butt;stroke-linejoin:miter;stroke-opacity:1\"/>\n",
       "<path class=\"bond-9 atom-2 atom-9\" d=\"M 42.3,77.6 L 13.0,79.6\" style=\"fill:none;fill-rule:evenodd;stroke:#E5E5E5;stroke-width:1.7px;stroke-linecap:butt;stroke-linejoin:miter;stroke-opacity:1\"/>\n",
       "<path class=\"bond-10 atom-3 atom-10\" d=\"M 56.8,48.2 L 38.9,21.6\" style=\"fill:none;fill-rule:evenodd;stroke:#E5E5E5;stroke-width:1.7px;stroke-linecap:butt;stroke-linejoin:miter;stroke-opacity:1\"/>\n",
       "<path class=\"atom-4\" d=\"M 87.7 45.0 L 89.0 43.6 L 87.2 43.2 L 87.5 42.3 L 89.2 43.1 L 88.9 41.3 L 89.9 41.3 L 89.6 43.1 L 91.3 42.3 L 91.6 43.2 L 89.8 43.6 L 91.1 45.0 L 90.3 45.5 L 89.4 43.8 L 88.5 45.5 L 87.7 45.0 \" fill=\"#191919\"/>\n",
       "<path class=\"atom-6\" d=\"M 138.6 70.0 L 139.9 68.6 L 138.1 68.2 L 138.4 67.3 L 140.1 68.1 L 139.8 66.3 L 140.8 66.3 L 140.5 68.1 L 142.2 67.3 L 142.5 68.2 L 140.7 68.6 L 142.0 70.0 L 141.2 70.5 L 140.3 68.8 L 139.4 70.5 L 138.6 70.0 \" fill=\"#191919\"/>\n",
       "<path class=\"atom-7\" d=\"M 109.7 128.7 L 111.1 127.3 L 109.3 127.0 L 109.5 126.0 L 111.2 126.9 L 111.0 125.1 L 112.0 125.0 L 111.7 126.9 L 113.4 126.1 L 113.7 127.0 L 111.8 127.3 L 113.1 128.7 L 112.3 129.3 L 111.4 127.6 L 110.5 129.3 L 109.7 128.7 \" fill=\"#191919\"/>\n",
       "<path class=\"atom-8\" d=\"M 44.4 133.1 L 45.8 131.7 L 44.0 131.4 L 44.2 130.4 L 45.9 131.3 L 45.7 129.5 L 46.6 129.4 L 46.4 131.3 L 48.1 130.5 L 48.3 131.4 L 46.5 131.7 L 47.8 133.1 L 47.0 133.7 L 46.1 132.0 L 45.2 133.7 L 44.4 133.1 \" fill=\"#191919\"/>\n",
       "<path class=\"atom-9\" d=\"M 7.9 78.8 L 9.3 77.4 L 7.5 77.0 L 7.8 76.1 L 9.4 76.9 L 9.2 75.1 L 10.2 75.1 L 9.9 76.9 L 11.6 76.1 L 11.9 77.0 L 10.1 77.3 L 11.4 78.7 L 10.6 79.3 L 9.7 77.6 L 8.7 79.3 L 7.9 78.8 \" fill=\"#191919\"/>\n",
       "<path class=\"atom-10\" d=\"M 36.8 20.0 L 38.2 18.6 L 36.3 18.2 L 36.6 17.3 L 38.3 18.2 L 38.0 16.3 L 39.0 16.3 L 38.8 18.1 L 40.4 17.4 L 40.7 18.2 L 38.9 18.6 L 40.2 20.0 L 39.4 20.6 L 38.5 18.8 L 37.6 20.6 L 36.8 20.0 \" fill=\"#191919\"/>\n",
       "</svg>"
      ],
      "text/plain": [
       "<IPython.core.display.SVG object>"
      ]
     },
     "metadata": {},
     "output_type": "display_data"
    },
    {
     "name": "stdout",
     "output_type": "stream",
     "text": [
      "bit id(hash): 442148024: cccnc\n",
      "radius: 2\n"
     ]
    },
    {
     "data": {
      "image/svg+xml": [
       "<svg xmlns=\"http://www.w3.org/2000/svg\" xmlns:rdkit=\"http://www.rdkit.org/xml\" xmlns:xlink=\"http://www.w3.org/1999/xlink\" version=\"1.1\" baseProfile=\"full\" xml:space=\"preserve\" width=\"150px\" height=\"150px\" viewBox=\"0 0 150 150\">\n",
       "<!-- END OF HEADER -->\n",
       "<rect style=\"opacity:1.0;fill:#FFFFFF;stroke:none\" width=\"150.0\" height=\"150.0\" x=\"0.0\" y=\"0.0\"> </rect>\n",
       "<ellipse cx=\"60.6\" cy=\"104.8\" rx=\"6.5\" ry=\"6.5\" class=\"atom-1\" style=\"fill:#E5E533;fill-rule:evenodd;stroke:#E5E533;stroke-width:1.0px;stroke-linecap:butt;stroke-linejoin:miter;stroke-opacity:1\"/>\n",
       "<ellipse cx=\"42.3\" cy=\"77.6\" rx=\"6.5\" ry=\"6.5\" class=\"atom-2\" style=\"fill:#E5E533;fill-rule:evenodd;stroke:#E5E533;stroke-width:1.0px;stroke-linecap:butt;stroke-linejoin:miter;stroke-opacity:1\"/>\n",
       "<ellipse cx=\"56.8\" cy=\"48.2\" rx=\"6.5\" ry=\"6.5\" class=\"atom-3\" style=\"fill:#9999E5;fill-rule:evenodd;stroke:#9999E5;stroke-width:1.0px;stroke-linecap:butt;stroke-linejoin:miter;stroke-opacity:1\"/>\n",
       "<ellipse cx=\"89.4\" cy=\"46.0\" rx=\"6.5\" ry=\"6.5\" class=\"atom-4\" style=\"fill:#E5E533;fill-rule:evenodd;stroke:#E5E533;stroke-width:1.0px;stroke-linecap:butt;stroke-linejoin:miter;stroke-opacity:1\"/>\n",
       "<ellipse cx=\"107.7\" cy=\"73.2\" rx=\"6.5\" ry=\"6.5\" class=\"atom-5\" style=\"fill:#E5E533;fill-rule:evenodd;stroke:#E5E533;stroke-width:1.0px;stroke-linecap:butt;stroke-linejoin:miter;stroke-opacity:1\"/>\n",
       "<path class=\"bond-0 atom-0 atom-1\" d=\"M 90.0,102.8 L 60.6,104.8\" style=\"fill:none;fill-rule:evenodd;stroke:#E5E5E5;stroke-width:1.7px;stroke-linecap:butt;stroke-linejoin:miter;stroke-opacity:1\"/>\n",
       "<path class=\"bond-0 atom-0 atom-1\" d=\"M 89.6,97.9 L 63.1,99.7\" style=\"fill:none;fill-rule:evenodd;stroke:#E5E5E5;stroke-width:1.7px;stroke-linecap:butt;stroke-linejoin:miter;stroke-opacity:1\"/>\n",
       "<path class=\"bond-1 atom-1 atom-2\" d=\"M 60.6,104.8 L 42.3,77.6\" style=\"fill:none;fill-rule:evenodd;stroke:#000000;stroke-width:2.0px;stroke-linecap:butt;stroke-linejoin:miter;stroke-opacity:1\"/>\n",
       "<path class=\"bond-2 atom-2 atom-3\" d=\"M 42.3,77.6 L 56.8,48.2\" style=\"fill:none;fill-rule:evenodd;stroke:#000000;stroke-width:2.0px;stroke-linecap:butt;stroke-linejoin:miter;stroke-opacity:1\"/>\n",
       "<path class=\"bond-2 atom-2 atom-3\" d=\"M 48.0,77.2 L 59.9,52.9\" style=\"fill:none;fill-rule:evenodd;stroke:#000000;stroke-width:2.0px;stroke-linecap:butt;stroke-linejoin:miter;stroke-opacity:1\"/>\n",
       "<path class=\"bond-3 atom-3 atom-4\" d=\"M 56.8,48.2 L 84.8,46.3\" style=\"fill:none;fill-rule:evenodd;stroke:#000000;stroke-width:2.0px;stroke-linecap:butt;stroke-linejoin:miter;stroke-opacity:1\"/>\n",
       "<path class=\"bond-4 atom-4 atom-5\" d=\"M 93.3,51.7 L 107.7,73.2\" style=\"fill:none;fill-rule:evenodd;stroke:#000000;stroke-width:2.0px;stroke-linecap:butt;stroke-linejoin:miter;stroke-opacity:1\"/>\n",
       "<path class=\"bond-4 atom-4 atom-5\" d=\"M 89.2,54.5 L 102.0,73.6\" style=\"fill:none;fill-rule:evenodd;stroke:#000000;stroke-width:2.0px;stroke-linecap:butt;stroke-linejoin:miter;stroke-opacity:1\"/>\n",
       "<path class=\"bond-5 atom-5 atom-6\" d=\"M 107.7,73.2 L 137.0,71.2\" style=\"fill:none;fill-rule:evenodd;stroke:#E5E5E5;stroke-width:1.7px;stroke-linecap:butt;stroke-linejoin:miter;stroke-opacity:1\"/>\n",
       "<path class=\"bond-6 atom-5 atom-0\" d=\"M 107.7,73.2 L 96.1,96.8\" style=\"fill:none;fill-rule:evenodd;stroke:#E5E5E5;stroke-width:1.7px;stroke-linecap:butt;stroke-linejoin:miter;stroke-opacity:1\"/>\n",
       "<path class=\"bond-7 atom-1 atom-7\" d=\"M 60.6,104.8 L 49.0,128.4\" style=\"fill:none;fill-rule:evenodd;stroke:#E5E5E5;stroke-width:1.7px;stroke-linecap:butt;stroke-linejoin:miter;stroke-opacity:1\"/>\n",
       "<path class=\"bond-8 atom-2 atom-8\" d=\"M 42.3,77.6 L 13.0,79.6\" style=\"fill:none;fill-rule:evenodd;stroke:#E5E5E5;stroke-width:1.7px;stroke-linecap:butt;stroke-linejoin:miter;stroke-opacity:1\"/>\n",
       "<path class=\"bond-9 atom-3 atom-9\" d=\"M 56.8,48.2 L 38.9,21.6\" style=\"fill:none;fill-rule:evenodd;stroke:#E5E5E5;stroke-width:1.7px;stroke-linecap:butt;stroke-linejoin:miter;stroke-opacity:1\"/>\n",
       "<path class=\"atom-0\" d=\"M 91.5 101.5 L 92.8 100.2 L 91.0 99.8 L 91.3 98.9 L 93.0 99.7 L 92.7 97.9 L 93.7 97.9 L 93.4 99.7 L 95.1 98.9 L 95.4 99.8 L 93.6 100.1 L 94.9 101.5 L 94.1 102.1 L 93.2 100.4 L 92.3 102.1 L 91.5 101.5 \" fill=\"#191919\"/>\n",
       "<path class=\"atom-4\" d=\"M 87.4 41.4 L 90.4 46.3 Q 90.7 46.8, 91.2 47.7 Q 91.7 48.5, 91.7 48.6 L 91.7 41.4 L 92.9 41.4 L 92.9 50.7 L 91.7 50.7 L 88.4 45.3 Q 88.0 44.7, 87.6 43.9 Q 87.2 43.2, 87.1 43.0 L 87.1 50.7 L 85.9 50.7 L 85.9 41.4 L 87.4 41.4 \" fill=\"#000000\"/>\n",
       "<path class=\"atom-6\" d=\"M 138.6 70.0 L 139.9 68.6 L 138.1 68.2 L 138.4 67.3 L 140.1 68.1 L 139.8 66.3 L 140.8 66.3 L 140.5 68.1 L 142.2 67.3 L 142.5 68.2 L 140.7 68.6 L 142.0 70.0 L 141.2 70.5 L 140.3 68.8 L 139.4 70.5 L 138.6 70.0 \" fill=\"#191919\"/>\n",
       "<path class=\"atom-7\" d=\"M 44.4 133.1 L 45.8 131.7 L 44.0 131.4 L 44.2 130.4 L 45.9 131.3 L 45.7 129.5 L 46.6 129.4 L 46.4 131.3 L 48.1 130.5 L 48.3 131.4 L 46.5 131.7 L 47.8 133.1 L 47.0 133.7 L 46.1 132.0 L 45.2 133.7 L 44.4 133.1 \" fill=\"#191919\"/>\n",
       "<path class=\"atom-8\" d=\"M 7.9 78.8 L 9.3 77.4 L 7.5 77.0 L 7.8 76.1 L 9.4 76.9 L 9.2 75.1 L 10.2 75.1 L 9.9 76.9 L 11.6 76.1 L 11.9 77.0 L 10.1 77.3 L 11.4 78.7 L 10.6 79.3 L 9.7 77.6 L 8.7 79.3 L 7.9 78.8 \" fill=\"#191919\"/>\n",
       "<path class=\"atom-9\" d=\"M 36.8 20.0 L 38.2 18.6 L 36.3 18.2 L 36.6 17.3 L 38.3 18.2 L 38.0 16.3 L 39.0 16.3 L 38.8 18.1 L 40.4 17.4 L 40.7 18.2 L 38.9 18.6 L 40.2 20.0 L 39.4 20.6 L 38.5 18.8 L 37.6 20.6 L 36.8 20.0 \" fill=\"#191919\"/>\n",
       "</svg>"
      ],
      "text/plain": [
       "<IPython.core.display.SVG object>"
      ]
     },
     "metadata": {},
     "output_type": "display_data"
    },
    {
     "name": "stdout",
     "output_type": "stream",
     "text": [
      "bit id(hash): 1028523287: cc(C)n\n",
      "radius: 2\n"
     ]
    },
    {
     "data": {
      "image/svg+xml": [
       "<svg xmlns=\"http://www.w3.org/2000/svg\" xmlns:rdkit=\"http://www.rdkit.org/xml\" xmlns:xlink=\"http://www.w3.org/1999/xlink\" version=\"1.1\" baseProfile=\"full\" xml:space=\"preserve\" width=\"150px\" height=\"150px\" viewBox=\"0 0 150 150\">\n",
       "<!-- END OF HEADER -->\n",
       "<rect style=\"opacity:1.0;fill:#FFFFFF;stroke:none\" width=\"150.0\" height=\"150.0\" x=\"0.0\" y=\"0.0\"> </rect>\n",
       "<ellipse cx=\"50.8\" cy=\"98.6\" rx=\"7.3\" ry=\"7.3\" class=\"atom-0\" style=\"fill:#E5E533;fill-rule:evenodd;stroke:#E5E533;stroke-width:1.0px;stroke-linecap:butt;stroke-linejoin:miter;stroke-opacity:1\"/>\n",
       "<ellipse cx=\"46.5\" cy=\"35.3\" rx=\"7.3\" ry=\"7.3\" class=\"atom-3\" style=\"fill:#E5E533;fill-rule:evenodd;stroke:#E5E533;stroke-width:1.0px;stroke-linecap:butt;stroke-linejoin:miter;stroke-opacity:1\"/>\n",
       "<ellipse cx=\"66.9\" cy=\"65.8\" rx=\"7.3\" ry=\"7.3\" class=\"atom-4\" style=\"fill:#E5E533;fill-rule:evenodd;stroke:#E5E533;stroke-width:1.0px;stroke-linecap:butt;stroke-linejoin:miter;stroke-opacity:1\"/>\n",
       "<ellipse cx=\"103.5\" cy=\"63.3\" rx=\"7.3\" ry=\"7.3\" class=\"atom-5\" style=\"fill:#9999E5;fill-rule:evenodd;stroke:#9999E5;stroke-width:1.0px;stroke-linecap:butt;stroke-linejoin:miter;stroke-opacity:1\"/>\n",
       "<path class=\"bond-0 atom-0 atom-1\" d=\"M 52.2,95.8 L 17.7,98.1\" style=\"fill:none;fill-rule:evenodd;stroke:#E5E5E5;stroke-width:2.0px;stroke-linecap:butt;stroke-linejoin:miter;stroke-opacity:1\"/>\n",
       "<path class=\"bond-0 atom-0 atom-1\" d=\"M 52.5,101.3 L 18.1,103.6\" style=\"fill:none;fill-rule:evenodd;stroke:#E5E5E5;stroke-width:2.0px;stroke-linecap:butt;stroke-linejoin:miter;stroke-opacity:1;stroke-dasharray:6,4\"/>\n",
       "<path class=\"bond-1 atom-2 atom-3\" d=\"M 13.4,34.8 L 41.2,32.9\" style=\"fill:none;fill-rule:evenodd;stroke:#E5E5E5;stroke-width:2.0px;stroke-linecap:butt;stroke-linejoin:miter;stroke-opacity:1\"/>\n",
       "<path class=\"bond-1 atom-2 atom-3\" d=\"M 13.8,40.3 L 41.6,38.4\" style=\"fill:none;fill-rule:evenodd;stroke:#E5E5E5;stroke-width:2.0px;stroke-linecap:butt;stroke-linejoin:miter;stroke-opacity:1;stroke-dasharray:6,4\"/>\n",
       "<path class=\"bond-2 atom-3 atom-4\" d=\"M 50.8,41.7 L 66.9,65.8\" style=\"fill:none;fill-rule:evenodd;stroke:#000000;stroke-width:2.0px;stroke-linecap:butt;stroke-linejoin:miter;stroke-opacity:1\"/>\n",
       "<path class=\"bond-2 atom-3 atom-4\" d=\"M 46.2,44.8 L 60.6,66.2\" style=\"fill:none;fill-rule:evenodd;stroke:#000000;stroke-width:2.0px;stroke-linecap:butt;stroke-linejoin:miter;stroke-opacity:1;stroke-dasharray:6,4\"/>\n",
       "<path class=\"bond-3 atom-4 atom-5\" d=\"M 66.9,65.8 L 103.5,63.3\" style=\"fill:none;fill-rule:evenodd;stroke:#000000;stroke-width:2.0px;stroke-linecap:butt;stroke-linejoin:miter;stroke-opacity:1\"/>\n",
       "<path class=\"bond-4 atom-4 atom-0\" d=\"M 66.9,65.8 L 50.8,98.6\" style=\"fill:none;fill-rule:evenodd;stroke:#000000;stroke-width:2.0px;stroke-linecap:butt;stroke-linejoin:miter;stroke-opacity:1\"/>\n",
       "<path class=\"bond-4 atom-4 atom-0\" d=\"M 60.6,66.2 L 47.2,93.4\" style=\"fill:none;fill-rule:evenodd;stroke:#000000;stroke-width:2.0px;stroke-linecap:butt;stroke-linejoin:miter;stroke-opacity:1;stroke-dasharray:6,4\"/>\n",
       "<path class=\"bond-5 atom-0 atom-6\" d=\"M 50.8,98.6 L 67.5,123.6\" style=\"fill:none;fill-rule:evenodd;stroke:#E5E5E5;stroke-width:2.0px;stroke-linecap:butt;stroke-linejoin:miter;stroke-opacity:1\"/>\n",
       "<path class=\"bond-6 atom-5 atom-7\" d=\"M 103.5,63.3 L 136.4,61.1\" style=\"fill:none;fill-rule:evenodd;stroke:#E5E5E5;stroke-width:2.0px;stroke-linecap:butt;stroke-linejoin:miter;stroke-opacity:1\"/>\n",
       "<path class=\"bond-7 atom-5 atom-8\" d=\"M 103.5,63.3 L 101.1,27.4\" style=\"fill:none;fill-rule:evenodd;stroke:#E5E5E5;stroke-width:2.0px;stroke-linecap:butt;stroke-linejoin:miter;stroke-opacity:1\"/>\n",
       "<path class=\"bond-8 atom-5 atom-9\" d=\"M 103.5,63.3 L 105.5,93.4\" style=\"fill:none;fill-rule:evenodd;stroke:#E5E5E5;stroke-width:2.0px;stroke-linecap:butt;stroke-linejoin:miter;stroke-opacity:1\"/>\n",
       "<path class=\"atom-1\" d=\"M 12.3 99.9 L 13.8 98.4 L 11.8 98.0 L 12.1 96.9 L 13.9 97.9 L 13.7 95.8 L 14.8 95.8 L 14.5 97.9 L 16.3 97.0 L 16.7 98.0 L 14.6 98.4 L 16.1 99.9 L 15.2 100.6 L 14.2 98.6 L 13.2 100.6 L 12.3 99.9 \" fill=\"#191919\"/>\n",
       "<path class=\"atom-2\" d=\"M 8.0 36.6 L 9.5 35.1 L 7.5 34.7 L 7.8 33.6 L 9.7 34.6 L 9.4 32.5 L 10.5 32.5 L 10.2 34.5 L 12.1 33.7 L 12.4 34.7 L 10.4 35.0 L 11.8 36.6 L 10.9 37.3 L 9.9 35.3 L 8.9 37.3 L 8.0 36.6 \" fill=\"#191919\"/>\n",
       "<path class=\"atom-3\" d=\"M 44.2 30.1 L 47.6 35.6 Q 48.0 36.2, 48.5 37.2 Q 49.0 38.1, 49.1 38.2 L 49.1 30.1 L 50.5 30.1 L 50.5 40.5 L 49.0 40.5 L 45.4 34.5 Q 45.0 33.8, 44.5 33.0 Q 44.1 32.2, 43.9 31.9 L 43.9 40.5 L 42.6 40.5 L 42.6 30.1 L 44.2 30.1 \" fill=\"#000000\"/>\n",
       "<path class=\"atom-6\" d=\"M 69.2 127.9 L 70.8 126.4 L 68.7 126.0 L 69.0 124.9 L 70.9 125.8 L 70.6 123.8 L 71.7 123.8 L 71.4 125.8 L 73.3 125.0 L 73.6 126.0 L 71.6 126.3 L 73.1 127.9 L 72.2 128.5 L 71.1 126.6 L 70.1 128.5 L 69.2 127.9 \" fill=\"#191919\"/>\n",
       "<path class=\"atom-7\" d=\"M 138.1 59.7 L 139.6 58.1 L 137.6 57.7 L 137.9 56.7 L 139.8 57.6 L 139.5 55.6 L 140.6 55.6 L 140.3 57.6 L 142.2 56.7 L 142.5 57.7 L 140.4 58.1 L 141.9 59.7 L 141.0 60.3 L 140.0 58.4 L 139.0 60.3 L 138.1 59.7 \" fill=\"#191919\"/>\n",
       "<path class=\"atom-8\" d=\"M 99.1 25.6 L 100.6 24.0 L 98.6 23.6 L 98.9 22.6 L 100.7 23.5 L 100.5 21.5 L 101.6 21.5 L 101.3 23.5 L 103.2 22.6 L 103.5 23.6 L 101.4 24.0 L 102.9 25.6 L 102.0 26.2 L 101.0 24.3 L 100.0 26.2 L 99.1 25.6 \" fill=\"#191919\"/>\n",
       "<path class=\"atom-9\" d=\"M 104.0 98.7 L 105.5 97.1 L 103.5 96.7 L 103.8 95.7 L 105.7 96.6 L 105.4 94.6 L 106.5 94.6 L 106.2 96.6 L 108.1 95.7 L 108.4 96.7 L 106.3 97.1 L 107.8 98.7 L 106.9 99.3 L 105.9 97.4 L 104.9 99.3 L 104.0 98.7 \" fill=\"#191919\"/>\n",
       "</svg>"
      ],
      "text/plain": [
       "<IPython.core.display.SVG object>"
      ]
     },
     "metadata": {},
     "output_type": "display_data"
    },
    {
     "name": "stdout",
     "output_type": "stream",
     "text": [
      "bit id(hash): 1064828642: cccc(C)n\n",
      "radius: 2\n"
     ]
    },
    {
     "data": {
      "image/svg+xml": [
       "<svg xmlns=\"http://www.w3.org/2000/svg\" xmlns:rdkit=\"http://www.rdkit.org/xml\" xmlns:xlink=\"http://www.w3.org/1999/xlink\" version=\"1.1\" baseProfile=\"full\" xml:space=\"preserve\" width=\"150px\" height=\"150px\" viewBox=\"0 0 150 150\">\n",
       "<!-- END OF HEADER -->\n",
       "<rect style=\"opacity:1.0;fill:#FFFFFF;stroke:none\" width=\"150.0\" height=\"150.0\" x=\"0.0\" y=\"0.0\"> </rect>\n",
       "<ellipse cx=\"76.5\" cy=\"90.2\" rx=\"5.3\" ry=\"5.3\" class=\"atom-0\" style=\"fill:#9999E5;fill-rule:evenodd;stroke:#9999E5;stroke-width:1.0px;stroke-linecap:butt;stroke-linejoin:miter;stroke-opacity:1\"/>\n",
       "<ellipse cx=\"50.2\" cy=\"92.0\" rx=\"5.3\" ry=\"5.3\" class=\"atom-1\" style=\"fill:#E5E533;fill-rule:evenodd;stroke:#E5E533;stroke-width:1.0px;stroke-linecap:butt;stroke-linejoin:miter;stroke-opacity:1\"/>\n",
       "<ellipse cx=\"35.6\" cy=\"70.1\" rx=\"5.3\" ry=\"5.3\" class=\"atom-2\" style=\"fill:#E5E533;fill-rule:evenodd;stroke:#E5E533;stroke-width:1.0px;stroke-linecap:butt;stroke-linejoin:miter;stroke-opacity:1\"/>\n",
       "<ellipse cx=\"73.5\" cy=\"44.7\" rx=\"5.3\" ry=\"5.3\" class=\"atom-4\" style=\"fill:#E5E533;fill-rule:evenodd;stroke:#E5E533;stroke-width:1.0px;stroke-linecap:butt;stroke-linejoin:miter;stroke-opacity:1\"/>\n",
       "<ellipse cx=\"88.1\" cy=\"66.6\" rx=\"5.3\" ry=\"5.3\" class=\"atom-5\" style=\"fill:#E5E533;fill-rule:evenodd;stroke:#E5E533;stroke-width:1.0px;stroke-linecap:butt;stroke-linejoin:miter;stroke-opacity:1\"/>\n",
       "<path class=\"bond-0 atom-0 atom-1\" d=\"M 76.5,90.2 L 50.2,92.0\" style=\"fill:none;fill-rule:evenodd;stroke:#000000;stroke-width:2.0px;stroke-linecap:butt;stroke-linejoin:miter;stroke-opacity:1\"/>\n",
       "<path class=\"bond-0 atom-0 atom-1\" d=\"M 74.0,86.4 L 52.3,87.9\" style=\"fill:none;fill-rule:evenodd;stroke:#000000;stroke-width:2.0px;stroke-linecap:butt;stroke-linejoin:miter;stroke-opacity:1\"/>\n",
       "<path class=\"bond-1 atom-1 atom-2\" d=\"M 50.2,92.0 L 35.6,70.1\" style=\"fill:none;fill-rule:evenodd;stroke:#000000;stroke-width:2.0px;stroke-linecap:butt;stroke-linejoin:miter;stroke-opacity:1\"/>\n",
       "<path class=\"bond-2 atom-2 atom-3\" d=\"M 35.6,70.1 L 46.9,47.0\" style=\"fill:none;fill-rule:evenodd;stroke:#E5E5E5;stroke-width:1.4px;stroke-linecap:butt;stroke-linejoin:miter;stroke-opacity:1\"/>\n",
       "<path class=\"bond-2 atom-2 atom-3\" d=\"M 40.1,69.8 L 50.5,48.7\" style=\"fill:none;fill-rule:evenodd;stroke:#E5E5E5;stroke-width:1.4px;stroke-linecap:butt;stroke-linejoin:miter;stroke-opacity:1\"/>\n",
       "<path class=\"bond-3 atom-3 atom-4\" d=\"M 49.8,46.3 L 69.8,44.9\" style=\"fill:none;fill-rule:evenodd;stroke:#E5E5E5;stroke-width:1.4px;stroke-linecap:butt;stroke-linejoin:miter;stroke-opacity:1\"/>\n",
       "<path class=\"bond-4 atom-4 atom-5\" d=\"M 76.6,49.3 L 88.1,66.6\" style=\"fill:none;fill-rule:evenodd;stroke:#000000;stroke-width:2.0px;stroke-linecap:butt;stroke-linejoin:miter;stroke-opacity:1\"/>\n",
       "<path class=\"bond-4 atom-4 atom-5\" d=\"M 73.3,51.5 L 83.6,66.9\" style=\"fill:none;fill-rule:evenodd;stroke:#000000;stroke-width:2.0px;stroke-linecap:butt;stroke-linejoin:miter;stroke-opacity:1\"/>\n",
       "<path class=\"bond-5 atom-5 atom-6\" d=\"M 88.1,66.6 L 114.4,64.8\" style=\"fill:none;fill-rule:evenodd;stroke:#000000;stroke-width:2.0px;stroke-linecap:butt;stroke-linejoin:miter;stroke-opacity:1\"/>\n",
       "<path class=\"bond-6 atom-5 atom-0\" d=\"M 88.1,66.6 L 76.5,90.2\" style=\"fill:none;fill-rule:evenodd;stroke:#000000;stroke-width:2.0px;stroke-linecap:butt;stroke-linejoin:miter;stroke-opacity:1\"/>\n",
       "<path class=\"bond-7 atom-0 atom-7\" d=\"M 76.5,90.2 L 88.6,108.2\" style=\"fill:none;fill-rule:evenodd;stroke:#E5E5E5;stroke-width:1.4px;stroke-linecap:butt;stroke-linejoin:miter;stroke-opacity:1\"/>\n",
       "<path class=\"bond-8 atom-1 atom-8\" d=\"M 50.2,92.0 L 40.9,111.0\" style=\"fill:none;fill-rule:evenodd;stroke:#E5E5E5;stroke-width:1.4px;stroke-linecap:butt;stroke-linejoin:miter;stroke-opacity:1\"/>\n",
       "<path class=\"bond-9 atom-2 atom-9\" d=\"M 35.6,70.1 L 11.9,71.7\" style=\"fill:none;fill-rule:evenodd;stroke:#E5E5E5;stroke-width:1.4px;stroke-linecap:butt;stroke-linejoin:miter;stroke-opacity:1\"/>\n",
       "<path class=\"bond-10 atom-6 atom-10\" d=\"M 114.4,64.8 L 138.1,63.2\" style=\"fill:none;fill-rule:evenodd;stroke:#E5E5E5;stroke-width:1.4px;stroke-linecap:butt;stroke-linejoin:miter;stroke-opacity:1\"/>\n",
       "<path class=\"bond-11 atom-6 atom-11\" d=\"M 114.4,64.8 L 112.7,39.0\" style=\"fill:none;fill-rule:evenodd;stroke:#E5E5E5;stroke-width:1.4px;stroke-linecap:butt;stroke-linejoin:miter;stroke-opacity:1\"/>\n",
       "<path class=\"bond-12 atom-6 atom-12\" d=\"M 114.4,64.8 L 115.9,86.4\" style=\"fill:none;fill-rule:evenodd;stroke:#E5E5E5;stroke-width:1.4px;stroke-linecap:butt;stroke-linejoin:miter;stroke-opacity:1\"/>\n",
       "<path class=\"atom-3\" d=\"M 45.8 45.6 L 46.9 44.5 L 45.4 44.2 L 45.6 43.5 L 47.0 44.1 L 46.8 42.7 L 47.6 42.7 L 47.3 44.1 L 48.7 43.5 L 48.9 44.2 L 47.5 44.5 L 48.5 45.6 L 47.9 46.1 L 47.1 44.7 L 46.4 46.1 L 45.8 45.6 \" fill=\"#191919\"/>\n",
       "<path class=\"atom-4\" d=\"M 71.8 41.0 L 74.3 44.9 Q 74.5 45.3, 74.9 46.0 Q 75.3 46.7, 75.3 46.8 L 75.3 41.0 L 76.3 41.0 L 76.3 48.4 L 75.3 48.4 L 72.7 44.1 Q 72.3 43.6, 72.0 43.0 Q 71.7 42.4, 71.6 42.3 L 71.6 48.4 L 70.6 48.4 L 70.6 41.0 L 71.8 41.0 \" fill=\"#000000\"/>\n",
       "<path class=\"atom-7\" d=\"M 89.8 111.3 L 90.9 110.2 L 89.4 109.9 L 89.7 109.1 L 91.0 109.8 L 90.8 108.3 L 91.6 108.3 L 91.4 109.8 L 92.7 109.2 L 93.0 109.9 L 91.5 110.1 L 92.6 111.3 L 91.9 111.7 L 91.2 110.3 L 90.4 111.7 L 89.8 111.3 \" fill=\"#191919\"/>\n",
       "<path class=\"atom-8\" d=\"M 37.2 114.8 L 38.3 113.7 L 36.9 113.4 L 37.1 112.7 L 38.4 113.3 L 38.2 111.9 L 39.0 111.9 L 38.8 113.3 L 40.2 112.7 L 40.4 113.4 L 38.9 113.7 L 40.0 114.8 L 39.3 115.3 L 38.6 113.9 L 37.9 115.3 L 37.2 114.8 \" fill=\"#191919\"/>\n",
       "<path class=\"atom-9\" d=\"M 7.9 71.1 L 9.0 69.9 L 7.5 69.6 L 7.7 68.9 L 9.1 69.6 L 8.9 68.1 L 9.7 68.1 L 9.4 69.6 L 10.8 68.9 L 11.0 69.6 L 9.6 69.9 L 10.6 71.0 L 10.0 71.5 L 9.2 70.1 L 8.5 71.5 L 7.9 71.1 \" fill=\"#191919\"/>\n",
       "<path class=\"atom-10\" d=\"M 139.3 62.2 L 140.4 61.1 L 139.0 60.8 L 139.2 60.0 L 140.5 60.7 L 140.3 59.3 L 141.1 59.2 L 140.9 60.7 L 142.3 60.1 L 142.5 60.8 L 141.0 61.1 L 142.1 62.2 L 141.4 62.7 L 140.7 61.3 L 140.0 62.7 L 139.3 62.2 \" fill=\"#191919\"/>\n",
       "<path class=\"atom-11\" d=\"M 111.3 37.7 L 112.4 36.6 L 110.9 36.3 L 111.1 35.5 L 112.5 36.2 L 112.3 34.7 L 113.1 34.7 L 112.8 36.2 L 114.2 35.6 L 114.4 36.3 L 113.0 36.5 L 114.0 37.7 L 113.4 38.1 L 112.6 36.7 L 111.9 38.1 L 111.3 37.7 \" fill=\"#191919\"/>\n",
       "<path class=\"atom-12\" d=\"M 114.8 90.3 L 115.9 89.2 L 114.4 88.9 L 114.7 88.1 L 116.0 88.8 L 115.8 87.3 L 116.6 87.3 L 116.4 88.8 L 117.7 88.1 L 118.0 88.9 L 116.5 89.1 L 117.6 90.3 L 116.9 90.7 L 116.2 89.3 L 115.4 90.7 L 114.8 90.3 \" fill=\"#191919\"/>\n",
       "</svg>"
      ],
      "text/plain": [
       "<IPython.core.display.SVG object>"
      ]
     },
     "metadata": {},
     "output_type": "display_data"
    },
    {
     "name": "stdout",
     "output_type": "stream",
     "text": [
      "bit id(hash): 1759772490: ccc(C)nc\n",
      "radius: 2\n"
     ]
    },
    {
     "data": {
      "image/svg+xml": [
       "<svg xmlns=\"http://www.w3.org/2000/svg\" xmlns:rdkit=\"http://www.rdkit.org/xml\" xmlns:xlink=\"http://www.w3.org/1999/xlink\" version=\"1.1\" baseProfile=\"full\" xml:space=\"preserve\" width=\"150px\" height=\"150px\" viewBox=\"0 0 150 150\">\n",
       "<!-- END OF HEADER -->\n",
       "<rect style=\"opacity:1.0;fill:#FFFFFF;stroke:none\" width=\"150.0\" height=\"150.0\" x=\"0.0\" y=\"0.0\"> </rect>\n",
       "<ellipse cx=\"62.8\" cy=\"101.8\" rx=\"6.4\" ry=\"6.4\" class=\"atom-0\" style=\"fill:#E5E533;fill-rule:evenodd;stroke:#E5E533;stroke-width:1.0px;stroke-linecap:butt;stroke-linejoin:miter;stroke-opacity:1\"/>\n",
       "<ellipse cx=\"31.1\" cy=\"104.0\" rx=\"6.4\" ry=\"6.4\" class=\"atom-1\" style=\"fill:#E5E533;fill-rule:evenodd;stroke:#E5E533;stroke-width:1.0px;stroke-linecap:butt;stroke-linejoin:miter;stroke-opacity:1\"/>\n",
       "<ellipse cx=\"27.4\" cy=\"48.9\" rx=\"6.4\" ry=\"6.4\" class=\"atom-3\" style=\"fill:#E5E533;fill-rule:evenodd;stroke:#E5E533;stroke-width:1.0px;stroke-linecap:butt;stroke-linejoin:miter;stroke-opacity:1\"/>\n",
       "<ellipse cx=\"59.1\" cy=\"46.8\" rx=\"6.4\" ry=\"6.4\" class=\"atom-4\" style=\"fill:#E5E533;fill-rule:evenodd;stroke:#E5E533;stroke-width:1.0px;stroke-linecap:butt;stroke-linejoin:miter;stroke-opacity:1\"/>\n",
       "<ellipse cx=\"76.9\" cy=\"73.2\" rx=\"6.4\" ry=\"6.4\" class=\"atom-5\" style=\"fill:#9999E5;fill-rule:evenodd;stroke:#9999E5;stroke-width:1.0px;stroke-linecap:butt;stroke-linejoin:miter;stroke-opacity:1\"/>\n",
       "<path class=\"bond-0 atom-0 atom-1\" d=\"M 62.8,101.8 L 31.1,104.0\" style=\"fill:none;fill-rule:evenodd;stroke:#000000;stroke-width:2.0px;stroke-linecap:butt;stroke-linejoin:miter;stroke-opacity:1\"/>\n",
       "<path class=\"bond-0 atom-0 atom-1\" d=\"M 59.8,97.2 L 33.5,99.0\" style=\"fill:none;fill-rule:evenodd;stroke:#000000;stroke-width:2.0px;stroke-linecap:butt;stroke-linejoin:miter;stroke-opacity:1\"/>\n",
       "<path class=\"bond-1 atom-1 atom-2\" d=\"M 31.1,104.0 L 13.7,78.1\" style=\"fill:none;fill-rule:evenodd;stroke:#E5E5E5;stroke-width:1.7px;stroke-linecap:butt;stroke-linejoin:miter;stroke-opacity:1\"/>\n",
       "<path class=\"bond-2 atom-2 atom-3\" d=\"M 16.1,71.9 L 27.4,48.9\" style=\"fill:none;fill-rule:evenodd;stroke:#E5E5E5;stroke-width:1.7px;stroke-linecap:butt;stroke-linejoin:miter;stroke-opacity:1\"/>\n",
       "<path class=\"bond-2 atom-2 atom-3\" d=\"M 20.4,74.0 L 30.4,53.5\" style=\"fill:none;fill-rule:evenodd;stroke:#E5E5E5;stroke-width:1.7px;stroke-linecap:butt;stroke-linejoin:miter;stroke-opacity:1\"/>\n",
       "<path class=\"bond-3 atom-3 atom-4\" d=\"M 27.4,48.9 L 54.7,47.1\" style=\"fill:none;fill-rule:evenodd;stroke:#000000;stroke-width:2.0px;stroke-linecap:butt;stroke-linejoin:miter;stroke-opacity:1\"/>\n",
       "<path class=\"bond-4 atom-4 atom-5\" d=\"M 62.8,52.4 L 76.9,73.2\" style=\"fill:none;fill-rule:evenodd;stroke:#000000;stroke-width:2.0px;stroke-linecap:butt;stroke-linejoin:miter;stroke-opacity:1\"/>\n",
       "<path class=\"bond-4 atom-4 atom-5\" d=\"M 58.9,55.0 L 71.3,73.6\" style=\"fill:none;fill-rule:evenodd;stroke:#000000;stroke-width:2.0px;stroke-linecap:butt;stroke-linejoin:miter;stroke-opacity:1\"/>\n",
       "<path class=\"bond-5 atom-5 atom-6\" d=\"M 76.9,73.2 L 108.6,71.1\" style=\"fill:none;fill-rule:evenodd;stroke:#000000;stroke-width:2.0px;stroke-linecap:butt;stroke-linejoin:miter;stroke-opacity:1\"/>\n",
       "<path class=\"bond-6 atom-5 atom-0\" d=\"M 76.9,73.2 L 62.8,101.8\" style=\"fill:none;fill-rule:evenodd;stroke:#000000;stroke-width:2.0px;stroke-linecap:butt;stroke-linejoin:miter;stroke-opacity:1\"/>\n",
       "<path class=\"bond-7 atom-0 atom-7\" d=\"M 62.8,101.8 L 77.4,123.5\" style=\"fill:none;fill-rule:evenodd;stroke:#E5E5E5;stroke-width:1.7px;stroke-linecap:butt;stroke-linejoin:miter;stroke-opacity:1\"/>\n",
       "<path class=\"bond-8 atom-1 atom-8\" d=\"M 31.1,104.0 L 19.8,126.9\" style=\"fill:none;fill-rule:evenodd;stroke:#E5E5E5;stroke-width:1.7px;stroke-linecap:butt;stroke-linejoin:miter;stroke-opacity:1\"/>\n",
       "<path class=\"bond-9 atom-3 atom-9\" d=\"M 27.4,48.9 L 10.0,23.1\" style=\"fill:none;fill-rule:evenodd;stroke:#E5E5E5;stroke-width:1.7px;stroke-linecap:butt;stroke-linejoin:miter;stroke-opacity:1\"/>\n",
       "<path class=\"bond-10 atom-6 atom-10\" d=\"M 108.6,71.1 L 137.2,69.2\" style=\"fill:none;fill-rule:evenodd;stroke:#E5E5E5;stroke-width:1.7px;stroke-linecap:butt;stroke-linejoin:miter;stroke-opacity:1\"/>\n",
       "<path class=\"bond-11 atom-6 atom-11\" d=\"M 108.6,71.1 L 106.5,39.9\" style=\"fill:none;fill-rule:evenodd;stroke:#E5E5E5;stroke-width:1.7px;stroke-linecap:butt;stroke-linejoin:miter;stroke-opacity:1\"/>\n",
       "<path class=\"bond-12 atom-6 atom-12\" d=\"M 108.6,71.1 L 110.4,97.2\" style=\"fill:none;fill-rule:evenodd;stroke:#E5E5E5;stroke-width:1.7px;stroke-linecap:butt;stroke-linejoin:miter;stroke-opacity:1\"/>\n",
       "<path class=\"atom-2\" d=\"M 11.6 76.5 L 13.0 75.2 L 11.2 74.8 L 11.5 73.9 L 13.1 74.7 L 12.9 73.0 L 13.8 72.9 L 13.5 74.7 L 15.2 73.9 L 15.5 74.8 L 13.7 75.1 L 15.0 76.5 L 14.2 77.1 L 13.3 75.4 L 12.4 77.1 L 11.6 76.5 \" fill=\"#191919\"/>\n",
       "<path class=\"atom-4\" d=\"M 57.1 42.3 L 60.1 47.1 Q 60.4 47.6, 60.8 48.4 Q 61.3 49.3, 61.3 49.3 L 61.3 42.3 L 62.5 42.3 L 62.5 51.3 L 61.3 51.3 L 58.1 46.1 Q 57.8 45.5, 57.4 44.8 Q 57.0 44.1, 56.9 43.9 L 56.9 51.3 L 55.7 51.3 L 55.7 42.3 L 57.1 42.3 \" fill=\"#000000\"/>\n",
       "<path class=\"atom-7\" d=\"M 78.9 127.2 L 80.2 125.9 L 78.4 125.5 L 78.7 124.6 L 80.3 125.5 L 80.1 123.7 L 81.0 123.7 L 80.8 125.4 L 82.4 124.7 L 82.7 125.5 L 80.9 125.9 L 82.2 127.2 L 81.4 127.8 L 80.5 126.1 L 79.6 127.8 L 78.9 127.2 \" fill=\"#191919\"/>\n",
       "<path class=\"atom-8\" d=\"M 15.3 131.5 L 16.7 130.2 L 14.9 129.8 L 15.2 128.9 L 16.8 129.7 L 16.6 128.0 L 17.5 127.9 L 17.2 129.7 L 18.9 129.0 L 19.2 129.8 L 17.4 130.1 L 18.7 131.5 L 17.9 132.1 L 17.0 130.4 L 16.1 132.1 L 15.3 131.5 \" fill=\"#191919\"/>\n",
       "<path class=\"atom-9\" d=\"M 7.9 21.5 L 9.3 20.2 L 7.5 19.8 L 7.8 18.9 L 9.4 19.7 L 9.2 17.9 L 10.1 17.9 L 9.8 19.7 L 11.5 18.9 L 11.8 19.8 L 10.0 20.1 L 11.3 21.5 L 10.5 22.1 L 9.6 20.4 L 8.7 22.1 L 7.9 21.5 \" fill=\"#191919\"/>\n",
       "<path class=\"atom-10\" d=\"M 138.7 68.0 L 140.0 66.6 L 138.2 66.3 L 138.5 65.4 L 140.1 66.2 L 139.9 64.4 L 140.8 64.4 L 140.6 66.2 L 142.2 65.4 L 142.5 66.3 L 140.7 66.6 L 142.0 68.0 L 141.2 68.5 L 140.3 66.8 L 139.4 68.5 L 138.7 68.0 \" fill=\"#191919\"/>\n",
       "<path class=\"atom-11\" d=\"M 104.8 38.3 L 106.1 37.0 L 104.3 36.6 L 104.6 35.7 L 106.2 36.6 L 106.0 34.8 L 106.9 34.8 L 106.7 36.5 L 108.3 35.8 L 108.6 36.6 L 106.8 37.0 L 108.1 38.3 L 107.3 38.9 L 106.4 37.2 L 105.5 38.9 L 104.8 38.3 \" fill=\"#191919\"/>\n",
       "<path class=\"atom-12\" d=\"M 109.0 101.9 L 110.4 100.5 L 108.6 100.2 L 108.9 99.3 L 110.5 100.1 L 110.3 98.3 L 111.2 98.3 L 111.0 100.1 L 112.6 99.3 L 112.9 100.2 L 111.1 100.5 L 112.4 101.9 L 111.6 102.4 L 110.7 100.7 L 109.8 102.4 L 109.0 101.9 \" fill=\"#191919\"/>\n",
       "</svg>"
      ],
      "text/plain": [
       "<IPython.core.display.SVG object>"
      ]
     },
     "metadata": {},
     "output_type": "display_data"
    },
    {
     "name": "stdout",
     "output_type": "stream",
     "text": [
      "bit id(hash): 2615172355: ccnc(c)C\n",
      "radius: 2\n"
     ]
    },
    {
     "data": {
      "image/svg+xml": [
       "<svg xmlns=\"http://www.w3.org/2000/svg\" xmlns:rdkit=\"http://www.rdkit.org/xml\" xmlns:xlink=\"http://www.w3.org/1999/xlink\" version=\"1.1\" baseProfile=\"full\" xml:space=\"preserve\" width=\"150px\" height=\"150px\" viewBox=\"0 0 150 150\">\n",
       "<!-- END OF HEADER -->\n",
       "<rect style=\"opacity:1.0;fill:#FFFFFF;stroke:none\" width=\"150.0\" height=\"150.0\" x=\"0.0\" y=\"0.0\"> </rect>\n",
       "<ellipse cx=\"76.5\" cy=\"99.0\" rx=\"5.3\" ry=\"5.3\" class=\"atom-0\" style=\"fill:#E5E533;fill-rule:evenodd;stroke:#E5E533;stroke-width:1.0px;stroke-linecap:butt;stroke-linejoin:miter;stroke-opacity:1\"/>\n",
       "<ellipse cx=\"35.6\" cy=\"78.9\" rx=\"5.3\" ry=\"5.3\" class=\"atom-2\" style=\"fill:#E5E533;fill-rule:evenodd;stroke:#E5E533;stroke-width:1.0px;stroke-linecap:butt;stroke-linejoin:miter;stroke-opacity:1\"/>\n",
       "<ellipse cx=\"47.2\" cy=\"55.2\" rx=\"5.3\" ry=\"5.3\" class=\"atom-3\" style=\"fill:#E5E533;fill-rule:evenodd;stroke:#E5E533;stroke-width:1.0px;stroke-linecap:butt;stroke-linejoin:miter;stroke-opacity:1\"/>\n",
       "<ellipse cx=\"73.5\" cy=\"53.4\" rx=\"5.3\" ry=\"5.3\" class=\"atom-4\" style=\"fill:#9999E5;fill-rule:evenodd;stroke:#9999E5;stroke-width:1.0px;stroke-linecap:butt;stroke-linejoin:miter;stroke-opacity:1\"/>\n",
       "<ellipse cx=\"88.1\" cy=\"75.3\" rx=\"5.3\" ry=\"5.3\" class=\"atom-5\" style=\"fill:#E5E533;fill-rule:evenodd;stroke:#E5E533;stroke-width:1.0px;stroke-linecap:butt;stroke-linejoin:miter;stroke-opacity:1\"/>\n",
       "<path class=\"bond-0 atom-0 atom-1\" d=\"M 76.5,99.0 L 52.9,100.6\" style=\"fill:none;fill-rule:evenodd;stroke:#E5E5E5;stroke-width:1.4px;stroke-linecap:butt;stroke-linejoin:miter;stroke-opacity:1\"/>\n",
       "<path class=\"bond-0 atom-0 atom-1\" d=\"M 74.0,95.2 L 52.6,96.6\" style=\"fill:none;fill-rule:evenodd;stroke:#E5E5E5;stroke-width:1.4px;stroke-linecap:butt;stroke-linejoin:miter;stroke-opacity:1\"/>\n",
       "<path class=\"bond-1 atom-1 atom-2\" d=\"M 47.6,96.8 L 35.6,78.9\" style=\"fill:none;fill-rule:evenodd;stroke:#E5E5E5;stroke-width:1.4px;stroke-linecap:butt;stroke-linejoin:miter;stroke-opacity:1\"/>\n",
       "<path class=\"bond-2 atom-2 atom-3\" d=\"M 35.6,78.9 L 47.2,55.2\" style=\"fill:none;fill-rule:evenodd;stroke:#000000;stroke-width:2.0px;stroke-linecap:butt;stroke-linejoin:miter;stroke-opacity:1\"/>\n",
       "<path class=\"bond-2 atom-2 atom-3\" d=\"M 40.1,78.5 L 49.7,59.0\" style=\"fill:none;fill-rule:evenodd;stroke:#000000;stroke-width:2.0px;stroke-linecap:butt;stroke-linejoin:miter;stroke-opacity:1\"/>\n",
       "<path class=\"bond-3 atom-3 atom-4\" d=\"M 47.2,55.2 L 69.8,53.7\" style=\"fill:none;fill-rule:evenodd;stroke:#000000;stroke-width:2.0px;stroke-linecap:butt;stroke-linejoin:miter;stroke-opacity:1\"/>\n",
       "<path class=\"bond-4 atom-4 atom-5\" d=\"M 76.6,58.0 L 88.1,75.3\" style=\"fill:none;fill-rule:evenodd;stroke:#000000;stroke-width:2.0px;stroke-linecap:butt;stroke-linejoin:miter;stroke-opacity:1\"/>\n",
       "<path class=\"bond-4 atom-4 atom-5\" d=\"M 73.3,60.2 L 83.6,75.6\" style=\"fill:none;fill-rule:evenodd;stroke:#000000;stroke-width:2.0px;stroke-linecap:butt;stroke-linejoin:miter;stroke-opacity:1\"/>\n",
       "<path class=\"bond-5 atom-5 atom-6\" d=\"M 88.1,75.3 L 114.4,73.5\" style=\"fill:none;fill-rule:evenodd;stroke:#000000;stroke-width:2.0px;stroke-linecap:butt;stroke-linejoin:miter;stroke-opacity:1\"/>\n",
       "<path class=\"bond-6 atom-5 atom-0\" d=\"M 88.1,75.3 L 76.5,99.0\" style=\"fill:none;fill-rule:evenodd;stroke:#000000;stroke-width:2.0px;stroke-linecap:butt;stroke-linejoin:miter;stroke-opacity:1\"/>\n",
       "<path class=\"bond-7 atom-0 atom-7\" d=\"M 76.5,99.0 L 88.6,116.9\" style=\"fill:none;fill-rule:evenodd;stroke:#E5E5E5;stroke-width:1.4px;stroke-linecap:butt;stroke-linejoin:miter;stroke-opacity:1\"/>\n",
       "<path class=\"bond-8 atom-2 atom-8\" d=\"M 35.6,78.9 L 11.9,80.4\" style=\"fill:none;fill-rule:evenodd;stroke:#E5E5E5;stroke-width:1.4px;stroke-linecap:butt;stroke-linejoin:miter;stroke-opacity:1\"/>\n",
       "<path class=\"bond-9 atom-3 atom-9\" d=\"M 47.2,55.2 L 32.8,33.8\" style=\"fill:none;fill-rule:evenodd;stroke:#E5E5E5;stroke-width:1.4px;stroke-linecap:butt;stroke-linejoin:miter;stroke-opacity:1\"/>\n",
       "<path class=\"bond-10 atom-6 atom-10\" d=\"M 114.4,73.5 L 138.1,72.0\" style=\"fill:none;fill-rule:evenodd;stroke:#E5E5E5;stroke-width:1.4px;stroke-linecap:butt;stroke-linejoin:miter;stroke-opacity:1\"/>\n",
       "<path class=\"bond-11 atom-6 atom-11\" d=\"M 114.4,73.5 L 112.7,47.7\" style=\"fill:none;fill-rule:evenodd;stroke:#E5E5E5;stroke-width:1.4px;stroke-linecap:butt;stroke-linejoin:miter;stroke-opacity:1\"/>\n",
       "<path class=\"bond-12 atom-6 atom-12\" d=\"M 114.4,73.5 L 115.9,95.2\" style=\"fill:none;fill-rule:evenodd;stroke:#E5E5E5;stroke-width:1.4px;stroke-linecap:butt;stroke-linejoin:miter;stroke-opacity:1\"/>\n",
       "<path class=\"atom-1\" d=\"M 48.8 99.9 L 49.9 98.8 L 48.5 98.5 L 48.7 97.7 L 50.0 98.4 L 49.8 97.0 L 50.6 96.9 L 50.4 98.4 L 51.8 97.8 L 52.0 98.5 L 50.5 98.8 L 51.6 99.9 L 50.9 100.4 L 50.2 99.0 L 49.5 100.4 L 48.8 99.9 \" fill=\"#191919\"/>\n",
       "<path class=\"atom-4\" d=\"M 71.8 49.7 L 74.3 53.7 Q 74.5 54.0, 74.9 54.7 Q 75.3 55.5, 75.3 55.5 L 75.3 49.7 L 76.3 49.7 L 76.3 57.2 L 75.3 57.2 L 72.7 52.8 Q 72.3 52.3, 72.0 51.8 Q 71.7 51.2, 71.6 51.0 L 71.6 57.2 L 70.6 57.2 L 70.6 49.7 L 71.8 49.7 \" fill=\"#000000\"/>\n",
       "<path class=\"atom-7\" d=\"M 89.8 120.0 L 90.9 118.9 L 89.4 118.6 L 89.7 117.9 L 91.0 118.5 L 90.8 117.1 L 91.6 117.1 L 91.4 118.5 L 92.7 117.9 L 93.0 118.6 L 91.5 118.9 L 92.6 120.0 L 91.9 120.5 L 91.2 119.1 L 90.4 120.5 L 89.8 120.0 \" fill=\"#191919\"/>\n",
       "<path class=\"atom-8\" d=\"M 7.9 79.8 L 9.0 78.7 L 7.5 78.4 L 7.7 77.6 L 9.1 78.3 L 8.9 76.8 L 9.7 76.8 L 9.4 78.3 L 10.8 77.7 L 11.0 78.4 L 9.6 78.7 L 10.6 79.8 L 10.0 80.2 L 9.2 78.9 L 8.5 80.2 L 7.9 79.8 \" fill=\"#191919\"/>\n",
       "<path class=\"atom-9\" d=\"M 31.1 32.5 L 32.2 31.4 L 30.7 31.1 L 31.0 30.3 L 32.3 31.0 L 32.1 29.5 L 32.9 29.5 L 32.7 31.0 L 34.0 30.4 L 34.3 31.1 L 32.8 31.3 L 33.8 32.5 L 33.2 32.9 L 32.5 31.5 L 31.7 32.9 L 31.1 32.5 \" fill=\"#191919\"/>\n",
       "<path class=\"atom-10\" d=\"M 139.3 70.9 L 140.4 69.8 L 139.0 69.5 L 139.2 68.8 L 140.5 69.5 L 140.3 68.0 L 141.1 68.0 L 140.9 69.4 L 142.3 68.8 L 142.5 69.5 L 141.0 69.8 L 142.1 70.9 L 141.4 71.4 L 140.7 70.0 L 140.0 71.4 L 139.3 70.9 \" fill=\"#191919\"/>\n",
       "<path class=\"atom-11\" d=\"M 111.3 46.4 L 112.4 45.3 L 110.9 45.0 L 111.1 44.3 L 112.5 44.9 L 112.3 43.5 L 113.1 43.5 L 112.8 44.9 L 114.2 44.3 L 114.4 45.0 L 113.0 45.3 L 114.0 46.4 L 113.4 46.9 L 112.6 45.5 L 111.9 46.9 L 111.3 46.4 \" fill=\"#191919\"/>\n",
       "<path class=\"atom-12\" d=\"M 114.8 99.0 L 115.9 97.9 L 114.4 97.6 L 114.7 96.8 L 116.0 97.5 L 115.8 96.1 L 116.6 96.0 L 116.4 97.5 L 117.7 96.9 L 118.0 97.6 L 116.5 97.9 L 117.6 99.0 L 116.9 99.5 L 116.2 98.1 L 115.4 99.5 L 114.8 99.0 \" fill=\"#191919\"/>\n",
       "</svg>"
      ],
      "text/plain": [
       "<IPython.core.display.SVG object>"
      ]
     },
     "metadata": {},
     "output_type": "display_data"
    },
    {
     "name": "stdout",
     "output_type": "stream",
     "text": [
      "bit id(hash): 2730584333: ccccn\n",
      "radius: 2\n"
     ]
    },
    {
     "data": {
      "image/svg+xml": [
       "<svg xmlns=\"http://www.w3.org/2000/svg\" xmlns:rdkit=\"http://www.rdkit.org/xml\" xmlns:xlink=\"http://www.w3.org/1999/xlink\" version=\"1.1\" baseProfile=\"full\" xml:space=\"preserve\" width=\"150px\" height=\"150px\" viewBox=\"0 0 150 150\">\n",
       "<!-- END OF HEADER -->\n",
       "<rect style=\"opacity:1.0;fill:#FFFFFF;stroke:none\" width=\"150.0\" height=\"150.0\" x=\"0.0\" y=\"0.0\"> </rect>\n",
       "<ellipse cx=\"112.6\" cy=\"106.7\" rx=\"7.5\" ry=\"7.5\" class=\"atom-0\" style=\"fill:#E5E533;fill-rule:evenodd;stroke:#E5E533;stroke-width:1.0px;stroke-linecap:butt;stroke-linejoin:miter;stroke-opacity:1\"/>\n",
       "<ellipse cx=\"75.0\" cy=\"109.2\" rx=\"7.5\" ry=\"7.5\" class=\"atom-1\" style=\"fill:#E5E533;fill-rule:evenodd;stroke:#E5E533;stroke-width:1.0px;stroke-linecap:butt;stroke-linejoin:miter;stroke-opacity:1\"/>\n",
       "<ellipse cx=\"54.0\" cy=\"78.0\" rx=\"7.5\" ry=\"7.5\" class=\"atom-2\" style=\"fill:#9999E5;fill-rule:evenodd;stroke:#9999E5;stroke-width:1.0px;stroke-linecap:butt;stroke-linejoin:miter;stroke-opacity:1\"/>\n",
       "<ellipse cx=\"70.6\" cy=\"44.2\" rx=\"7.5\" ry=\"7.5\" class=\"atom-3\" style=\"fill:#E5E533;fill-rule:evenodd;stroke:#E5E533;stroke-width:1.0px;stroke-linecap:butt;stroke-linejoin:miter;stroke-opacity:1\"/>\n",
       "<ellipse cx=\"108.2\" cy=\"41.7\" rx=\"7.5\" ry=\"7.5\" class=\"atom-4\" style=\"fill:#E5E533;fill-rule:evenodd;stroke:#E5E533;stroke-width:1.0px;stroke-linecap:butt;stroke-linejoin:miter;stroke-opacity:1\"/>\n",
       "<path class=\"bond-0 atom-0 atom-1\" d=\"M 112.6,106.7 L 75.0,109.2\" style=\"fill:none;fill-rule:evenodd;stroke:#000000;stroke-width:2.0px;stroke-linecap:butt;stroke-linejoin:miter;stroke-opacity:1\"/>\n",
       "<path class=\"bond-0 atom-0 atom-1\" d=\"M 108.9,101.3 L 77.9,103.4\" style=\"fill:none;fill-rule:evenodd;stroke:#000000;stroke-width:2.0px;stroke-linecap:butt;stroke-linejoin:miter;stroke-opacity:1\"/>\n",
       "<path class=\"bond-1 atom-1 atom-2\" d=\"M 75.0,109.2 L 54.0,78.0\" style=\"fill:none;fill-rule:evenodd;stroke:#000000;stroke-width:2.0px;stroke-linecap:butt;stroke-linejoin:miter;stroke-opacity:1\"/>\n",
       "<path class=\"bond-2 atom-2 atom-3\" d=\"M 54.0,78.0 L 70.6,44.2\" style=\"fill:none;fill-rule:evenodd;stroke:#000000;stroke-width:2.0px;stroke-linecap:butt;stroke-linejoin:miter;stroke-opacity:1\"/>\n",
       "<path class=\"bond-2 atom-2 atom-3\" d=\"M 60.5,77.5 L 74.3,49.6\" style=\"fill:none;fill-rule:evenodd;stroke:#000000;stroke-width:2.0px;stroke-linecap:butt;stroke-linejoin:miter;stroke-opacity:1\"/>\n",
       "<path class=\"bond-3 atom-3 atom-4\" d=\"M 70.6,44.2 L 102.9,42.0\" style=\"fill:none;fill-rule:evenodd;stroke:#000000;stroke-width:2.0px;stroke-linecap:butt;stroke-linejoin:miter;stroke-opacity:1\"/>\n",
       "<path class=\"bond-4 atom-4 atom-5\" d=\"M 112.6,48.2 L 125.4,67.3\" style=\"fill:none;fill-rule:evenodd;stroke:#E5E5E5;stroke-width:2.0px;stroke-linecap:butt;stroke-linejoin:miter;stroke-opacity:1\"/>\n",
       "<path class=\"bond-4 atom-4 atom-5\" d=\"M 107.9,51.4 L 120.7,70.5\" style=\"fill:none;fill-rule:evenodd;stroke:#E5E5E5;stroke-width:2.0px;stroke-linecap:butt;stroke-linejoin:miter;stroke-opacity:1\"/>\n",
       "<path class=\"bond-5 atom-5 atom-0\" d=\"M 128.8,73.6 L 112.6,106.7\" style=\"fill:none;fill-rule:evenodd;stroke:#E5E5E5;stroke-width:2.0px;stroke-linecap:butt;stroke-linejoin:miter;stroke-opacity:1\"/>\n",
       "<path class=\"bond-6 atom-0 atom-6\" d=\"M 112.6,106.7 L 129.8,132.4\" style=\"fill:none;fill-rule:evenodd;stroke:#E5E5E5;stroke-width:2.0px;stroke-linecap:butt;stroke-linejoin:miter;stroke-opacity:1\"/>\n",
       "<path class=\"bond-7 atom-1 atom-7\" d=\"M 75.0,109.2 L 61.7,136.4\" style=\"fill:none;fill-rule:evenodd;stroke:#E5E5E5;stroke-width:2.0px;stroke-linecap:butt;stroke-linejoin:miter;stroke-opacity:1\"/>\n",
       "<path class=\"bond-8 atom-2 atom-8\" d=\"M 54.0,78.0 L 20.2,80.3\" style=\"fill:none;fill-rule:evenodd;stroke:#E5E5E5;stroke-width:2.0px;stroke-linecap:butt;stroke-linejoin:miter;stroke-opacity:1\"/>\n",
       "<path class=\"bond-9 atom-3 atom-9\" d=\"M 70.6,44.2 L 50.1,13.6\" style=\"fill:none;fill-rule:evenodd;stroke:#E5E5E5;stroke-width:2.0px;stroke-linecap:butt;stroke-linejoin:miter;stroke-opacity:1\"/>\n",
       "<path class=\"atom-4\" d=\"M 105.8 36.3 L 109.3 42.0 Q 109.7 42.5, 110.2 43.5 Q 110.8 44.6, 110.8 44.6 L 110.8 36.3 L 112.2 36.3 L 112.2 47.0 L 110.8 47.0 L 107.0 40.8 Q 106.6 40.1, 106.1 39.3 Q 105.7 38.4, 105.5 38.2 L 105.5 47.0 L 104.1 47.0 L 104.1 36.3 L 105.8 36.3 \" fill=\"#000000\"/>\n",
       "<path class=\"atom-5\" d=\"M 127.1 71.7 L 128.7 70.1 L 126.6 69.7 L 126.9 68.7 L 128.9 69.6 L 128.6 67.5 L 129.7 67.5 L 129.4 69.6 L 131.3 68.7 L 131.7 69.7 L 129.6 70.1 L 131.1 71.7 L 130.2 72.4 L 129.1 70.4 L 128.1 72.4 L 127.1 71.7 \" fill=\"#191919\"/>\n",
       "<path class=\"atom-6\" d=\"M 131.5 136.8 L 133.1 135.2 L 131.0 134.8 L 131.3 133.7 L 133.2 134.7 L 133.0 132.6 L 134.1 132.6 L 133.8 134.7 L 135.7 133.8 L 136.1 134.8 L 133.9 135.2 L 135.5 136.8 L 134.5 137.4 L 133.5 135.5 L 132.4 137.4 L 131.5 136.8 \" fill=\"#191919\"/>\n",
       "<path class=\"atom-7\" d=\"M 56.4 141.9 L 58.0 140.3 L 55.9 139.8 L 56.2 138.8 L 58.1 139.7 L 57.8 137.6 L 59.0 137.6 L 58.7 139.7 L 60.6 138.8 L 60.9 139.8 L 58.8 140.2 L 60.3 141.8 L 59.4 142.5 L 58.4 140.5 L 57.3 142.5 L 56.4 141.9 \" fill=\"#191919\"/>\n",
       "<path class=\"atom-8\" d=\"M 14.5 79.3 L 16.0 77.7 L 13.9 77.3 L 14.3 76.2 L 16.2 77.2 L 15.9 75.1 L 17.0 75.1 L 16.7 77.2 L 18.7 76.3 L 19.0 77.3 L 16.9 77.7 L 18.4 79.3 L 17.5 80.0 L 16.4 78.0 L 15.4 80.0 L 14.5 79.3 \" fill=\"#191919\"/>\n",
       "<path class=\"atom-9\" d=\"M 47.6 11.7 L 49.2 10.1 L 47.1 9.7 L 47.4 8.6 L 49.4 9.6 L 49.1 7.5 L 50.2 7.5 L 49.9 9.6 L 51.8 8.7 L 52.2 9.7 L 50.1 10.1 L 51.6 11.7 L 50.7 12.4 L 49.6 10.4 L 48.6 12.4 L 47.6 11.7 \" fill=\"#191919\"/>\n",
       "</svg>"
      ],
      "text/plain": [
       "<IPython.core.display.SVG object>"
      ]
     },
     "metadata": {},
     "output_type": "display_data"
    },
    {
     "data": {
      "text/plain": [
       "{55253355,\n",
       " 62162552,\n",
       " 442148024,\n",
       " 447750523,\n",
       " 1028523287,\n",
       " 1064828642,\n",
       " 1100037548,\n",
       " 1130134577,\n",
       " 1759772490,\n",
       " 2041434490,\n",
       " 2063064224,\n",
       " 2246728737,\n",
       " 2392445291,\n",
       " 2615172355,\n",
       " 2730584333,\n",
       " 3217380708,\n",
       " 3218693969,\n",
       " 3321501787,\n",
       " 4036277955,\n",
       " 4277593716}"
      ]
     },
     "execution_count": 11,
     "metadata": {},
     "output_type": "execute_result"
    }
   ],
   "source": [
    "def show_fp_bits(smiles, radius, show_imag =True):\n",
    "    # Example molecule\n",
    "    mol = Chem.MolFromSmiles(smiles)\n",
    "    mol = Chem.AddHs(mol)\n",
    "    all_bits = set()\n",
    "    # Compute Morgan fingerprint with radius \n",
    "    info = {}\n",
    "    fp = rdMolDescriptors.GetMorganFingerprint(mol, radius=radius, bitInfo=info)\n",
    "    print(f\"Number of bits set: {len(fp.GetNonzeroElements())}\")\n",
    "    # Extract circular subgraphs\n",
    "    # display(info)\n",
    "    for r in range(0, radius+1):\n",
    "        for bit_id, atom_envs in info.items():\n",
    "            all_bits.add(bit_id)\n",
    "            for atom_idx, curr_r in atom_envs:\n",
    "                if curr_r != r:\n",
    "                    continue\n",
    "                # Get the circular environment as a subgraph\n",
    "                env = Chem.FindAtomEnvironmentOfRadiusN(mol, curr_r, atom_idx)\n",
    "                submol = Chem.PathToSubmol(mol, env)\n",
    "                smiles = Chem.MolToSmiles(submol)\n",
    "                \n",
    "            \n",
    "                print(f\"bit id(hash): {bit_id}: {smiles}\")\n",
    "                print(f\"radius: {r}\")\n",
    "                if show_imag:\n",
    "                    mfp2_svg = Draw.DrawMorganBit(mol, bit_id, info, useSVG=True)\n",
    "                    display(mfp2_svg)\n",
    "                break\n",
    "            \n",
    "    return all_bits\n",
    "\n",
    "smile = 'c1cccnc1C'\n",
    "show_fp_bits(\"c1cccnc1C\", 2)"
   ]
  },
  {
   "cell_type": "code",
   "execution_count": 12,
   "metadata": {},
   "outputs": [
    {
     "data": {
      "image/jpeg": "[encoded data removed]",
      "image/png": "[encoded data removed]",
      "text/plain": [
       "<PIL.PngImagePlugin.PngImageFile image mode=RGB size=400x400>"
      ]
     },
     "execution_count": 12,
     "metadata": {},
     "output_type": "execute_result"
    }
   ],
   "source": [
    "# smiles = \"OCC1OC(OC2C(CO)OC(OC3C(CO)OC(OC4C(CO)OC(O)C(O)C4O)C(O)C3O)C(O)C2O)C(O)C(O)C1O\"\n",
    "smiles = \"C\"\n",
    "mol = Chem.MolFromSmiles(smiles)\n",
    "mol = Chem.AddHs(mol)\n",
    "Draw.MolToImage(mol, size=(400, 400))"
   ]
  },
  {
   "cell_type": "code",
   "execution_count": 13,
   "metadata": {},
   "outputs": [
    {
     "name": "stdout",
     "output_type": "stream",
     "text": [
      "Number of bits set: 4\n",
      "bit id(hash): 2246733040: \n",
      "radius: 0\n"
     ]
    },
    {
     "name": "stderr",
     "output_type": "stream",
     "text": [
      "[20:51:49] DEPRECATION WARNING: please use MorganGenerator\n"
     ]
    },
    {
     "data": {
      "image/svg+xml": [
       "<svg xmlns=\"http://www.w3.org/2000/svg\" xmlns:rdkit=\"http://www.rdkit.org/xml\" xmlns:xlink=\"http://www.w3.org/1999/xlink\" version=\"1.1\" baseProfile=\"full\" xml:space=\"preserve\" width=\"150px\" height=\"150px\" viewBox=\"0 0 150 150\">\n",
       "<!-- END OF HEADER -->\n",
       "<rect style=\"opacity:1.0;fill:#FFFFFF;stroke:none\" width=\"150.0\" height=\"150.0\" x=\"0.0\" y=\"0.0\"> </rect>\n",
       "<ellipse cx=\"75.0\" cy=\"80.0\" rx=\"12.7\" ry=\"12.7\" class=\"atom-0\" style=\"fill:#9999E5;fill-rule:evenodd;stroke:#9999E5;stroke-width:1.0px;stroke-linecap:butt;stroke-linejoin:miter;stroke-opacity:1\"/>\n",
       "<path class=\"bond-0 atom-0 atom-1\" d=\"M 75.0,80.0 L 131.9,80.0\" style=\"fill:none;fill-rule:evenodd;stroke:#E5E5E5;stroke-width:3.4px;stroke-linecap:butt;stroke-linejoin:miter;stroke-opacity:1\"/>\n",
       "<path class=\"bond-1 atom-0 atom-2\" d=\"M 75.0,80.0 L 18.1,80.0\" style=\"fill:none;fill-rule:evenodd;stroke:#E5E5E5;stroke-width:3.4px;stroke-linecap:butt;stroke-linejoin:miter;stroke-opacity:1\"/>\n",
       "<path class=\"bond-2 atom-0 atom-3\" d=\"M 75.0,80.0 L 75.0,17.9\" style=\"fill:none;fill-rule:evenodd;stroke:#E5E5E5;stroke-width:3.4px;stroke-linecap:butt;stroke-linejoin:miter;stroke-opacity:1\"/>\n",
       "<path class=\"bond-3 atom-0 atom-4\" d=\"M 75.0,80.0 L 75.0,132.1\" style=\"fill:none;fill-rule:evenodd;stroke:#E5E5E5;stroke-width:3.4px;stroke-linecap:butt;stroke-linejoin:miter;stroke-opacity:1\"/>\n",
       "<path class=\"atom-1\" d=\"M 134.9 78.0 L 137.5 75.3 L 134.0 74.6 L 134.6 72.8 L 137.8 74.4 L 137.3 70.9 L 139.2 70.9 L 138.7 74.4 L 141.9 72.9 L 142.5 74.6 L 139.0 75.3 L 141.5 78.0 L 139.9 79.1 L 138.2 75.8 L 136.4 79.1 L 134.9 78.0 \" fill=\"#191919\"/>\n",
       "<path class=\"atom-2\" d=\"M 8.4 78.0 L 11.0 75.3 L 7.5 74.6 L 8.0 72.8 L 11.2 74.4 L 10.8 70.9 L 12.7 70.9 L 12.2 74.4 L 15.4 72.9 L 16.0 74.6 L 12.4 75.3 L 15.0 78.0 L 13.4 79.1 L 11.7 75.8 L 9.9 79.1 L 8.4 78.0 \" fill=\"#191919\"/>\n",
       "<path class=\"atom-3\" d=\"M 71.6 14.7 L 74.3 12.1 L 70.8 11.4 L 71.3 9.6 L 74.5 11.2 L 74.1 7.7 L 75.9 7.6 L 75.4 11.2 L 78.7 9.6 L 79.2 11.4 L 75.7 12.0 L 78.2 14.7 L 76.7 15.8 L 74.9 12.5 L 73.2 15.8 L 71.6 14.7 \" fill=\"#191919\"/>\n",
       "<path class=\"atom-4\" d=\"M 71.6 141.3 L 74.3 138.6 L 70.8 137.9 L 71.3 136.1 L 74.5 137.7 L 74.1 134.2 L 75.9 134.2 L 75.4 137.7 L 78.7 136.2 L 79.2 137.9 L 75.7 138.5 L 78.2 141.2 L 76.7 142.4 L 74.9 139.0 L 73.2 142.4 L 71.6 141.3 \" fill=\"#191919\"/>\n",
       "</svg>"
      ],
      "text/plain": [
       "<IPython.core.display.SVG object>"
      ]
     },
     "metadata": {},
     "output_type": "display_data"
    },
    {
     "name": "stdout",
     "output_type": "stream",
     "text": [
      "bit id(hash): 4277593716: \n",
      "radius: 0\n"
     ]
    },
    {
     "data": {
      "image/svg+xml": [
       "<svg xmlns=\"http://www.w3.org/2000/svg\" xmlns:rdkit=\"http://www.rdkit.org/xml\" xmlns:xlink=\"http://www.w3.org/1999/xlink\" version=\"1.1\" baseProfile=\"full\" xml:space=\"preserve\" width=\"150px\" height=\"150px\" viewBox=\"0 0 150 150\">\n",
       "<!-- END OF HEADER -->\n",
       "<rect style=\"opacity:1.0;fill:#FFFFFF;stroke:none\" width=\"150.0\" height=\"150.0\" x=\"0.0\" y=\"0.0\"> </rect>\n",
       "<ellipse cx=\"121.0\" cy=\"75.0\" rx=\"21.3\" ry=\"21.3\" class=\"atom-1\" style=\"fill:#9999E5;fill-rule:evenodd;stroke:#9999E5;stroke-width:1.0px;stroke-linecap:butt;stroke-linejoin:miter;stroke-opacity:1\"/>\n",
       "<path class=\"bond-0 atom-0 atom-1\" d=\"M 24.6,75.0 L 106.4,75.0\" style=\"fill:none;fill-rule:evenodd;stroke:#E5E5E5;stroke-width:5.7px;stroke-linecap:butt;stroke-linejoin:miter;stroke-opacity:1\"/>\n",
       "<path class=\"atom-0\" d=\"M 9.1 71.8 L 13.2 67.6 L 7.7 66.5 L 8.6 63.6 L 13.6 66.2 L 12.9 60.6 L 15.9 60.6 L 15.1 66.2 L 20.2 63.8 L 21.1 66.5 L 15.5 67.5 L 19.5 71.8 L 17.1 73.6 L 14.3 68.3 L 11.5 73.6 L 9.1 71.8 \" fill=\"#191919\"/>\n",
       "<path class=\"atom-1\" d=\"M 109.9 60.8 L 113.7 60.8 L 113.7 72.9 L 128.2 72.9 L 128.2 60.8 L 132.1 60.8 L 132.1 89.2 L 128.2 89.2 L 128.2 76.1 L 113.7 76.1 L 113.7 89.2 L 109.9 89.2 L 109.9 60.8 \" fill=\"#000000\"/>\n",
       "</svg>"
      ],
      "text/plain": [
       "<IPython.core.display.SVG object>"
      ]
     },
     "metadata": {},
     "output_type": "display_data"
    },
    {
     "name": "stdout",
     "output_type": "stream",
     "text": [
      "bit id(hash): 2818948702: \n",
      "radius: 1\n"
     ]
    },
    {
     "data": {
      "image/svg+xml": [
       "<svg xmlns=\"http://www.w3.org/2000/svg\" xmlns:rdkit=\"http://www.rdkit.org/xml\" xmlns:xlink=\"http://www.w3.org/1999/xlink\" version=\"1.1\" baseProfile=\"full\" xml:space=\"preserve\" width=\"150px\" height=\"150px\" viewBox=\"0 0 150 150\">\n",
       "<!-- END OF HEADER -->\n",
       "<rect style=\"opacity:1.0;fill:#FFFFFF;stroke:none\" width=\"150.0\" height=\"150.0\" x=\"0.0\" y=\"0.0\"> </rect>\n",
       "<ellipse cx=\"75.0\" cy=\"80.0\" rx=\"12.7\" ry=\"12.7\" class=\"atom-0\" style=\"fill:#9999E5;fill-rule:evenodd;stroke:#9999E5;stroke-width:1.0px;stroke-linecap:butt;stroke-linejoin:miter;stroke-opacity:1\"/>\n",
       "<path class=\"bond-0 atom-0 atom-1\" d=\"M 75.0,80.0 L 131.9,80.0\" style=\"fill:none;fill-rule:evenodd;stroke:#E5E5E5;stroke-width:3.4px;stroke-linecap:butt;stroke-linejoin:miter;stroke-opacity:1\"/>\n",
       "<path class=\"bond-1 atom-0 atom-2\" d=\"M 75.0,80.0 L 18.1,80.0\" style=\"fill:none;fill-rule:evenodd;stroke:#E5E5E5;stroke-width:3.4px;stroke-linecap:butt;stroke-linejoin:miter;stroke-opacity:1\"/>\n",
       "<path class=\"bond-2 atom-0 atom-3\" d=\"M 75.0,80.0 L 75.0,17.9\" style=\"fill:none;fill-rule:evenodd;stroke:#E5E5E5;stroke-width:3.4px;stroke-linecap:butt;stroke-linejoin:miter;stroke-opacity:1\"/>\n",
       "<path class=\"bond-3 atom-0 atom-4\" d=\"M 75.0,80.0 L 75.0,132.1\" style=\"fill:none;fill-rule:evenodd;stroke:#E5E5E5;stroke-width:3.4px;stroke-linecap:butt;stroke-linejoin:miter;stroke-opacity:1\"/>\n",
       "<path class=\"atom-1\" d=\"M 134.9 78.0 L 137.5 75.3 L 134.0 74.6 L 134.6 72.8 L 137.8 74.4 L 137.3 70.9 L 139.2 70.9 L 138.7 74.4 L 141.9 72.9 L 142.5 74.6 L 139.0 75.3 L 141.5 78.0 L 139.9 79.1 L 138.2 75.8 L 136.4 79.1 L 134.9 78.0 \" fill=\"#191919\"/>\n",
       "<path class=\"atom-2\" d=\"M 8.4 78.0 L 11.0 75.3 L 7.5 74.6 L 8.0 72.8 L 11.2 74.4 L 10.8 70.9 L 12.7 70.9 L 12.2 74.4 L 15.4 72.9 L 16.0 74.6 L 12.4 75.3 L 15.0 78.0 L 13.4 79.1 L 11.7 75.8 L 9.9 79.1 L 8.4 78.0 \" fill=\"#191919\"/>\n",
       "<path class=\"atom-3\" d=\"M 71.6 14.7 L 74.3 12.1 L 70.8 11.4 L 71.3 9.6 L 74.5 11.2 L 74.1 7.7 L 75.9 7.6 L 75.4 11.2 L 78.7 9.6 L 79.2 11.4 L 75.7 12.0 L 78.2 14.7 L 76.7 15.8 L 74.9 12.5 L 73.2 15.8 L 71.6 14.7 \" fill=\"#191919\"/>\n",
       "<path class=\"atom-4\" d=\"M 71.6 141.3 L 74.3 138.6 L 70.8 137.9 L 71.3 136.1 L 74.5 137.7 L 74.1 134.2 L 75.9 134.2 L 75.4 137.7 L 78.7 136.2 L 79.2 137.9 L 75.7 138.5 L 78.2 141.2 L 76.7 142.4 L 74.9 139.0 L 73.2 142.4 L 71.6 141.3 \" fill=\"#191919\"/>\n",
       "</svg>"
      ],
      "text/plain": [
       "<IPython.core.display.SVG object>"
      ]
     },
     "metadata": {},
     "output_type": "display_data"
    },
    {
     "name": "stdout",
     "output_type": "stream",
     "text": [
      "bit id(hash): 3321497372: [H]C\n",
      "radius: 1\n"
     ]
    },
    {
     "data": {
      "image/svg+xml": [
       "<svg xmlns=\"http://www.w3.org/2000/svg\" xmlns:rdkit=\"http://www.rdkit.org/xml\" xmlns:xlink=\"http://www.w3.org/1999/xlink\" version=\"1.1\" baseProfile=\"full\" xml:space=\"preserve\" width=\"150px\" height=\"150px\" viewBox=\"0 0 150 150\">\n",
       "<!-- END OF HEADER -->\n",
       "<rect style=\"opacity:1.0;fill:#FFFFFF;stroke:none\" width=\"150.0\" height=\"150.0\" x=\"0.0\" y=\"0.0\"> </rect>\n",
       "<ellipse cx=\"130.6\" cy=\"79.7\" rx=\"11.9\" ry=\"11.9\" class=\"atom-1\" style=\"fill:#9999E5;fill-rule:evenodd;stroke:#9999E5;stroke-width:1.0px;stroke-linecap:butt;stroke-linejoin:miter;stroke-opacity:1\"/>\n",
       "<path class=\"bond-0 atom-0 atom-1\" d=\"M 71.0,79.7 L 122.0,79.7\" style=\"fill:none;fill-rule:evenodd;stroke:#000000;stroke-width:2.0px;stroke-linecap:butt;stroke-linejoin:miter;stroke-opacity:1\"/>\n",
       "<path class=\"bond-1 atom-0 atom-2\" d=\"M 71.0,79.7 L 17.4,79.7\" style=\"fill:none;fill-rule:evenodd;stroke:#E5E5E5;stroke-width:3.2px;stroke-linecap:butt;stroke-linejoin:miter;stroke-opacity:1\"/>\n",
       "<path class=\"bond-2 atom-0 atom-3\" d=\"M 71.0,79.7 L 71.0,21.3\" style=\"fill:none;fill-rule:evenodd;stroke:#E5E5E5;stroke-width:3.2px;stroke-linecap:butt;stroke-linejoin:miter;stroke-opacity:1\"/>\n",
       "<path class=\"bond-3 atom-0 atom-4\" d=\"M 71.0,79.7 L 71.0,128.7\" style=\"fill:none;fill-rule:evenodd;stroke:#E5E5E5;stroke-width:3.2px;stroke-linecap:butt;stroke-linejoin:miter;stroke-opacity:1\"/>\n",
       "<path class=\"atom-1\" d=\"M 124.0 71.3 L 126.3 71.3 L 126.3 78.5 L 134.9 78.5 L 134.9 71.3 L 137.2 71.3 L 137.2 88.1 L 134.9 88.1 L 134.9 80.4 L 126.3 80.4 L 126.3 88.1 L 124.0 88.1 L 124.0 71.3 \" fill=\"#000000\"/>\n",
       "<path class=\"atom-2\" d=\"M 8.3 77.8 L 10.8 75.3 L 7.5 74.6 L 8.0 73.0 L 11.0 74.5 L 10.6 71.2 L 12.4 71.1 L 11.9 74.5 L 15.0 73.0 L 15.5 74.6 L 12.1 75.3 L 14.5 77.8 L 13.1 78.9 L 11.4 75.7 L 9.8 78.9 L 8.3 77.8 \" fill=\"#191919\"/>\n",
       "<path class=\"atom-3\" d=\"M 67.9 18.3 L 70.3 15.8 L 67.1 15.1 L 67.6 13.4 L 70.6 14.9 L 70.1 11.6 L 71.9 11.6 L 71.4 14.9 L 74.5 13.5 L 75.0 15.1 L 71.7 15.7 L 74.1 18.3 L 72.6 19.3 L 71.0 16.2 L 69.3 19.3 L 67.9 18.3 \" fill=\"#191919\"/>\n",
       "<path class=\"atom-4\" d=\"M 67.9 137.4 L 70.3 134.9 L 67.1 134.2 L 67.6 132.5 L 70.6 134.0 L 70.1 130.7 L 71.9 130.7 L 71.4 134.0 L 74.5 132.6 L 75.0 134.2 L 71.7 134.8 L 74.1 137.4 L 72.6 138.4 L 71.0 135.3 L 69.3 138.4 L 67.9 137.4 \" fill=\"#191919\"/>\n",
       "</svg>"
      ],
      "text/plain": [
       "<IPython.core.display.SVG object>"
      ]
     },
     "metadata": {},
     "output_type": "display_data"
    },
    {
     "data": {
      "text/plain": [
       "{2246733040, 2818948702, 3321497372, 4277593716}"
      ]
     },
     "execution_count": 13,
     "metadata": {},
     "output_type": "execute_result"
    }
   ],
   "source": [
    "show_fp_bits(\"C\", 8)"
   ]
  },
  {
   "cell_type": "code",
   "execution_count": 47,
   "metadata": {},
   "outputs": [
    {
     "name": "stdout",
     "output_type": "stream",
     "text": [
      "Number of bits set: 20\n",
      "radius: 0\n",
      "864662311: \n",
      "864942730: \n",
      "2246699815: \n",
      "3217380708: \n",
      "3218693969: \n",
      "4277593716: \n",
      "radius: 1\n",
      "55253355: [H]c\n",
      "127271038: CO\n",
      "1130134577: ccc\n",
      "1510328189: C=O\n",
      "2392445291: ccc\n",
      "2784506312: cC(O)=O\n",
      "2994748777: Cc(c)c\n",
      "3072032085: [H]O\n",
      "radius: 2\n",
      "62162552: ccccc\n",
      "364495723: cC(O)=O\n",
      "1448962966: cc(c)C(O)=O\n",
      "2938016831: ccc(cc)C(O)=O\n",
      "3434436707: ccccc\n",
      "3782239696: Cc(c)ccc\n"
     ]
    },
    {
     "data": {
      "text/plain": [
       "{55253355,\n",
       " 62162552,\n",
       " 127271038,\n",
       " 364495723,\n",
       " 864662311,\n",
       " 864942730,\n",
       " 1130134577,\n",
       " 1448962966,\n",
       " 1510328189,\n",
       " 2246699815,\n",
       " 2392445291,\n",
       " 2784506312,\n",
       " 2938016831,\n",
       " 2994748777,\n",
       " 3072032085,\n",
       " 3217380708,\n",
       " 3218693969,\n",
       " 3434436707,\n",
       " 3782239696,\n",
       " 4277593716}"
      ]
     },
     "execution_count": 47,
     "metadata": {},
     "output_type": "execute_result"
    }
   ],
   "source": [
    "show_fp_bits('c1ccccc1C(=O)O', 2, show_imag=False)"
   ]
  },
  {
   "cell_type": "code",
   "execution_count": null,
   "metadata": {},
   "outputs": [],
   "source": []
  },
  {
   "cell_type": "code",
   "execution_count": 12,
   "metadata": {},
   "outputs": [
    {
     "name": "stderr",
     "output_type": "stream",
     "text": [
      "[03:04:11] DEPRECATION WARNING: please use MorganGenerator\n"
     ]
    },
    {
     "data": {
      "text/plain": [
       "6144"
      ]
     },
     "execution_count": 12,
     "metadata": {},
     "output_type": "execute_result"
    }
   ],
   "source": [
    "m = Chem.MolFromSmiles('c1ccccc1C(=O)O')\n",
    "import numpy as np\n",
    "x = np.array(AllChem.GetMorganFingerprintAsBitVect(m,15,nBits=6144))\n",
    "len(x)"
   ]
  },
  {
   "cell_type": "code",
   "execution_count": null,
   "metadata": {},
   "outputs": [
    {
     "data": {
      "image/jpeg": "[encoded data removed]",
      "image/png": "[encoded data removed]",
      "text/plain": [
       "<PIL.PngImagePlugin.PngImageFile image mode=RGB size=300x300>"
      ]
     },
     "metadata": {},
     "output_type": "display_data"
    }
   ],
   "source": []
  },
  {
   "cell_type": "code",
   "execution_count": 101,
   "metadata": {},
   "outputs": [
    {
     "data": {
      "text/plain": [
       "{0, 4, 5, 6}"
      ]
     },
     "execution_count": 101,
     "metadata": {},
     "output_type": "execute_result"
    }
   ],
   "source": [
    "atoms"
   ]
  },
  {
   "cell_type": "code",
   "execution_count": 49,
   "metadata": {},
   "outputs": [
    {
     "name": "stdout",
     "output_type": "stream",
     "text": [
      "Number of bits set: 36\n",
      "radius: 0\n",
      "864662311: \n",
      "864674487: \n",
      "2245384272: \n",
      "2976033787: \n",
      "3189457552: \n",
      "4277593716: \n",
      "radius: 1\n",
      "828524593: [H]C\n",
      "920763749: COC\n",
      "980906191: CO\n",
      "1499870378: CC(O)O\n",
      "1735962896: CC(C)O\n",
      "1740830013: CO\n",
      "2341235807: CC(C)O\n",
      "2667063169: COC\n",
      "2928264258: CC(C)O\n",
      "3072032085: [H]O\n",
      "3147550929: CCO\n",
      "3309593724: [H]C\n",
      "3871699279: CC(O)O\n",
      "radius: 2\n",
      "142467889: CCO\n",
      "442065971: CC(C)OC(C)O\n",
      "462124800: CC(O)C(O)C(O)O\n",
      "909541062: CC(O)O\n",
      "935711045: CC(O)C(O)C(C)O\n",
      "951667725: CC(C)OC(C)O\n",
      "1987336728: COC(OC)C(C)O\n",
      "2080774098: CC(O)CO\n",
      "2425510740: CC(O)C(O)C(C)O\n",
      "2675651241: COC(CO)C(C)O\n",
      "3114427839: COC(C(C)O)C(C)O\n",
      "3595290954: CC(C)OC(C)O\n",
      "3738479493: CC(O)C(O)C(O)O\n",
      "3821588491: CC(O)C(O)C(C)O\n",
      "3959747184: COC(CO)C(C)O\n",
      "4120809274: COC(O)C(C)O\n",
      "4156912708: CC(C)O\n",
      "Number of bits set: 20\n",
      "radius: 0\n",
      "864662311: \n",
      "864942730: \n",
      "2246699815: \n",
      "3217380708: \n",
      "3218693969: \n",
      "4277593716: \n",
      "radius: 1\n",
      "55253355: [H]c\n",
      "127271038: CO\n",
      "1130134577: ccc\n",
      "1510328189: C=O\n",
      "2392445291: ccc\n",
      "2784506312: cC(O)=O\n",
      "2994748777: Cc(c)c\n",
      "3072032085: [H]O\n",
      "radius: 2\n",
      "62162552: ccccc\n",
      "364495723: cC(O)=O\n",
      "1448962966: cc(c)C(O)=O\n",
      "2938016831: ccc(cc)C(O)=O\n",
      "3434436707: ccccc\n",
      "3782239696: Cc(c)ccc\n"
     ]
    }
   ],
   "source": [
    "bits1 = show_fp_bits(\"OCC1OC(OC2C(CO)OC(OC3C(CO)OC(OC4C(CO)OC(O)C(O)C4O)C(O)C3O)C(O)C2O)C(O)C(O)C1O\",\n",
    "             2,\n",
    "             show_imag=False)   \n",
    "bits2 = show_fp_bits('c1ccccc1C(=O)O', 2, show_imag=False)"
   ]
  },
  {
   "cell_type": "code",
   "execution_count": 51,
   "metadata": {},
   "outputs": [
    {
     "name": "stdout",
     "output_type": "stream",
     "text": [
      "36 20\n",
      "3\n",
      "53\n"
     ]
    }
   ],
   "source": [
    "print(len(bits1), len(bits2))\n",
    "print(len(bits1.intersection(bits2)))\n",
    "print(len(bits1.union(bits2)))"
   ]
  },
  {
   "cell_type": "code",
   "execution_count": 29,
   "metadata": {},
   "outputs": [
    {
     "name": "stdout",
     "output_type": "stream",
     "text": [
      "2\n",
      "3\n",
      "1\n",
      "4\n",
      "0\n",
      "5\n",
      "6\n",
      "7\n"
     ]
    }
   ],
   "source": [
    "for x in env:\n",
    "    print(x)\n",
    "print(len(env))"
   ]
  },
  {
   "cell_type": "code",
   "execution_count": null,
   "metadata": {},
   "outputs": [],
   "source": []
  }
 ],
 "metadata": {
  "kernelspec": {
   "display_name": "base",
   "language": "python",
   "name": "python3"
  },
  "language_info": {
   "codemirror_mode": {
    "name": "ipython",
    "version": 3
   },
   "file_extension": ".py",
   "mimetype": "text/x-python",
   "name": "python",
   "nbconvert_exporter": "python",
   "pygments_lexer": "ipython3",
   "version": "3.11.10"
  }
 },
 "nbformat": 4,
 "nbformat_minor": 2
}
