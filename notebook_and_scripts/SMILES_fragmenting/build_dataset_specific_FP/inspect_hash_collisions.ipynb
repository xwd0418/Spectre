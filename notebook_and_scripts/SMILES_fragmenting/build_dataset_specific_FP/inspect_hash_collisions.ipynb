{
 "cells": [
  {
   "cell_type": "code",
   "execution_count": 1,
   "metadata": {},
   "outputs": [],
   "source": [
    "%load_ext autoreload\n",
    "%autoreload 2\n",
    "import pickle, os \n",
    "pkl_path = \"/workspace/count_hashes_under_radius_10.pkl\"\n",
    "# hashes_count = \n",
    "with open(pkl_path, \"rb\") as f:\n",
    "    hashes_count = pickle.load(f)"
   ]
  },
  {
   "cell_type": "code",
   "execution_count": 2,
   "metadata": {},
   "outputs": [
    {
     "data": {
      "text/plain": [
       "11752963"
      ]
     },
     "execution_count": 2,
     "metadata": {},
     "output_type": "execute_result"
    }
   ],
   "source": [
    "len(hashes_count)"
   ]
  },
  {
   "cell_type": "code",
   "execution_count": 3,
   "metadata": {},
   "outputs": [
    {
     "name": "stdout",
     "output_type": "stream",
     "text": [
      "((2769959410, 'C', 'Cc1c(O)c(CO)c(O)c2c1OC(c)CC2=O', 4), 1)\n",
      "((864942730, 'O', '', 0), 440845)\n",
      "((970433791, 'C', 'cc(c)C', 1), 27667)\n",
      "((8098702, 'C', 'OCC1OCC(O)C(O)C1O', 3), 25311)\n",
      "((4079389161, 'C', 'CC(O)C(O)C(O)O', 2), 41961)\n",
      "((2900370490, 'O', 'cc(c)OC1OC(CO)C(O)C(O)C1O', 4), 1207)\n",
      "((2246728737, 'C', '', 0), 458621)\n",
      "((54962668, 'C', 'ccc(cc)C1CC(=O)c(c(c)O)c(c)O1', 4), 139)\n",
      "((2438073043, 'C', 'cc(O)c(C)c(c)O', 2), 218)\n",
      "((3962647201, 'C', 'ccc(cc)C1CC(=O)c2c(O)c(COC)c(OC3OC(CO)C(O)C(O)C3O)c(C)c2O1', 7), 1)\n"
     ]
    }
   ],
   "source": [
    "import itertools\n",
    "\n",
    "for x in itertools.islice(hashes_count.items(), 10):\n",
    "    print(x)    "
   ]
  },
  {
   "cell_type": "code",
   "execution_count": 4,
   "metadata": {},
   "outputs": [],
   "source": [
    "sorted_counts = list(sorted(hashes_count.items(), key=lambda x: x[1]))"
   ]
  },
  {
   "cell_type": "code",
   "execution_count": 5,
   "metadata": {},
   "outputs": [
    {
     "data": {
      "text/plain": [
       "[((2246728737, 'C', '', 0), 458621),\n",
       " ((864942730, 'O', '', 0), 440845),\n",
       " ((3217380708, 'C', '', 0), 432607),\n",
       " ((3218693969, 'C', '', 0), 392442),\n",
       " ((2245384272, 'C', '', 0), 368237),\n",
       " ((2246699815, 'C', '', 0), 339011),\n",
       " ((864662311, 'O', '', 0), 326045),\n",
       " ((2976033787, 'C', '', 0), 318518),\n",
       " ((2968968094, 'C', '', 0), 309330),\n",
       " ((1510328189, 'O', 'C=O', 1), 307152)]"
      ]
     },
     "execution_count": 5,
     "metadata": {},
     "output_type": "execute_result"
    }
   ],
   "source": [
    "list(reversed(sorted_counts[-10:]))"
   ]
  },
  {
   "cell_type": "code",
   "execution_count": 6,
   "metadata": {},
   "outputs": [],
   "source": [
    "from collections import defaultdict\n",
    "map_bit_to_details = defaultdict(list)\n",
    "\n",
    "for bit_id, atom_symbol, frag_smiles, radius in hashes_count:\n",
    "    map_bit_to_details[bit_id].append((atom_symbol, frag_smiles, radius))"
   ]
  },
  {
   "cell_type": "code",
   "execution_count": 7,
   "metadata": {},
   "outputs": [
    {
     "data": {
      "text/plain": [
       "11590902"
      ]
     },
     "execution_count": 7,
     "metadata": {},
     "output_type": "execute_result"
    }
   ],
   "source": [
    "len(map_bit_to_details)"
   ]
  },
  {
   "cell_type": "code",
   "execution_count": 8,
   "metadata": {},
   "outputs": [],
   "source": [
    "# for same bit/fragement combo, is it possible to have different radius?\n",
    "\n",
    "map_bit_and_frag_to_radius = defaultdict(set)\n",
    "for bit_id, atom_symbol, frag_smiles, radius in hashes_count:\n",
    "    map_bit_and_frag_to_radius[(bit_id, frag_smiles)].add(radius)\n",
    "\n",
    "for (bit_id, frag_smiles), radius_set in map_bit_and_frag_to_radius.items():\n",
    "    if len(radius_set) > 1:\n",
    "        print(f\"bit_id: {bit_id}, frag_smiles: {frag_smiles}, radius_set: {radius_set}\")\n",
    "        break"
   ]
  },
  {
   "cell_type": "code",
   "execution_count": 9,
   "metadata": {},
   "outputs": [
    {
     "data": {
      "text/plain": [
       "11752963"
      ]
     },
     "execution_count": 9,
     "metadata": {},
     "output_type": "execute_result"
    }
   ],
   "source": [
    "len(map_bit_and_frag_to_radius)"
   ]
  },
  {
   "cell_type": "code",
   "execution_count": null,
   "metadata": {},
   "outputs": [],
   "source": []
  },
  {
   "cell_type": "code",
   "execution_count": 10,
   "metadata": {},
   "outputs": [
    {
     "data": {
      "text/plain": [
       "[(0, 522),\n",
       " (1, 18158),\n",
       " (2, 428507),\n",
       " (3, 1389511),\n",
       " (4, 1944019),\n",
       " (5, 1982946),\n",
       " (6, 1788556),\n",
       " (7, 1482004),\n",
       " (8, 1154811),\n",
       " (9, 883497),\n",
       " (10, 680432)]"
      ]
     },
     "execution_count": 10,
     "metadata": {},
     "output_type": "execute_result"
    }
   ],
   "source": [
    "count_radius = defaultdict(int)\n",
    "for bit_id, atom_symbol, frag_smiles, radius in hashes_count:\n",
    "    count_radius[radius] += 1\n",
    "sorted(count_radius.items(), key=lambda x: x[0])"
   ]
  },
  {
   "cell_type": "code",
   "execution_count": null,
   "metadata": {},
   "outputs": [],
   "source": []
  },
  {
   "cell_type": "code",
   "execution_count": 11,
   "metadata": {},
   "outputs": [
    {
     "name": "stdout",
     "output_type": "stream",
     "text": [
      "choosing Hash_Entropy_FP_loader\n"
     ]
    }
   ],
   "source": [
    "import numpy as np\n",
    "import sys\n",
    "sys.path.insert(0,\"/root/gurusmart/MorganFP_prediction/reproduce_previous_works/Spectre\")\n",
    "\n",
    "from datasets.dataset_utils import  fp_loader_configer\n",
    "\n",
    "fp_loader_configer.select_version(\"Hash_Entropy\")\n",
    "fp_loader = fp_loader_configer.fp_loader"
   ]
  },
  {
   "cell_type": "code",
   "execution_count": 12,
   "metadata": {},
   "outputs": [],
   "source": [
    "fp_loader.out_dim = None"
   ]
  },
  {
   "cell_type": "code",
   "execution_count": null,
   "metadata": {},
   "outputs": [
    {
     "name": "stdout",
     "output_type": "stream",
     "text": [
      "finish entropy list\n",
      "Hash_Entropy_FP_loader is setup, out_dim=16384, max_radius=6\n"
     ]
    },
    {
     "data": {
      "image/png": "[encoded data removed]",
      "text/plain": [
       "<Figure size 640x480 with 1 Axes>"
      ]
     },
     "metadata": {},
     "output_type": "display_data"
    }
   ],
   "source": [
    "# from matplotlib import pyplot as plt\n",
    "# import numpy as np\n",
    "# # for radius in range(2, 11):\n",
    "# for radius in [6]:\n",
    "#     fp_loader.setup(out_dim=16384, max_radius=radius)\n",
    "#     bitInfos_to_keep = fp_loader.bitInfos_to_fp_index_map.keys()\n",
    "#     radius_collection = [bitInfo[3] for bitInfo in bitInfos_to_keep]\n",
    "#     plt.figure()\n",
    "#     plt.xticks(range(1, 11), labels=[f\"r{r}\" for r in range(1,11)])\n",
    "#     plt.hist(radius_collection, bins=np.arange(1, 12) - 0.5, alpha=0.5, label='radius up to {}'.format(radius))\n",
    "    \n",
    "#     # Add text to show the counts\n",
    "#     for i in range(1, 11):\n",
    "#         count = radius_collection.count(i)\n",
    "#         plt.text(i, count, str(count), ha='center', va='bottom')\n",
    "    \n",
    "#     plt.legend()\n",
    "#     plt.show()"
   ]
  },
  {
   "cell_type": "code",
   "execution_count": 25,
   "metadata": {},
   "outputs": [
    {
     "name": "stdout",
     "output_type": "stream",
     "text": [
      "Hash_Entropy_FP_loader is already setup\n"
     ]
    },
    {
     "data": {
      "image/png": "[encoded data removed]",
      "text/plain": [
       "<Figure size 640x480 with 1 Axes>"
      ]
     },
     "metadata": {},
     "output_type": "display_data"
    }
   ],
   "source": [
    "from matplotlib import pyplot as plt\n",
    "import numpy as np\n",
    "\n",
    "# Example for a single radius value (can extend to loop over more)\n",
    "for radius in [6]:\n",
    "    fp_loader.setup(out_dim=16384, max_radius=radius)\n",
    "    bitInfos_to_keep = fp_loader.bitInfos_to_fp_index_map.keys()\n",
    "    \n",
    "    # Collect radius values (assuming radius is at index 3)\n",
    "    radius_collection = [bitInfo[3] for bitInfo in bitInfos_to_keep]\n",
    "\n",
    "    # Count frequencies for each radius (0–6)\n",
    "    radius_and_count = [(r, radius_collection.count(r)) for r in range(7)]\n",
    "    x = [r for r, c in radius_and_count]\n",
    "    y = [c for r, c in radius_and_count]\n",
    "\n",
    "    # Plot as bar chart\n",
    "    plt.figure()\n",
    "    plt.bar(x, y, tick_label=[f\"r{r}\" for r in x], alpha=0.7, label=f'radius up to {radius}')\n",
    "\n",
    "    # Annotate counts on bars\n",
    "    for i, count in enumerate(y):\n",
    "        plt.text(x[i], count, str(count), ha='center', va='bottom')\n",
    "\n",
    "    plt.xlabel('Radius')\n",
    "    plt.ylabel('Count')\n",
    "    # plt.legend()\n",
    "    plt.tight_layout()\n",
    "    plt.show()\n"
   ]
  },
  {
   "cell_type": "code",
   "execution_count": 22,
   "metadata": {},
   "outputs": [
    {
     "data": {
      "text/plain": [
       "1971"
      ]
     },
     "execution_count": 22,
     "metadata": {},
     "output_type": "execute_result"
    }
   ],
   "source": [
    "len(list(filter(lambda x: x==4, radius_collection)))"
   ]
  },
  {
   "cell_type": "code",
   "execution_count": null,
   "metadata": {},
   "outputs": [],
   "source": [
    "# for k,v in map_bit_to_details.items():\n",
    "#     if len(v) > 1:\n",
    "#         print(k, v)\n",
    "#         # print()\n",
    "#     # else:\n",
    "#     #     print(k, v[0])"
   ]
  }
 ],
 "metadata": {
  "kernelspec": {
   "display_name": "base",
   "language": "python",
   "name": "python3"
  },
  "language_info": {
   "codemirror_mode": {
    "name": "ipython",
    "version": 3
   },
   "file_extension": ".py",
   "mimetype": "text/x-python",
   "name": "python",
   "nbconvert_exporter": "python",
   "pygments_lexer": "ipython3",
   "version": "3.11.10"
  }
 },
 "nbformat": 4,
 "nbformat_minor": 2
}
