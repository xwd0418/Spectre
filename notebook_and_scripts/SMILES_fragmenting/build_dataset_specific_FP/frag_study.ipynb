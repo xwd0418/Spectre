{
 "cells": [
  {
   "cell_type": "code",
   "execution_count": 21,
   "metadata": {},
   "outputs": [],
   "source": [
    "\n",
    "from rdkit import Chem\n",
    "from rdkit.Chem import rdMolDescriptors\n",
    "import pathlib, pickle, os, tqdm, torch\n",
    "import multiprocessing, collections\n",
    "\n",
    "from collections import defaultdict  \n",
    "\n",
    "RADIUS_UPPER_LIMIT = 10\n",
    "DATASET_root_path = pathlib.Path(\"/workspace/\")\n",
    "DATASETS = [\"OneD_Only_Dataset\", \"SMILES_dataset\"]\n",
    "DATASET_INDEX_SOURCE = [\"oneD_NMR\" , \"HSQC\"]\n",
    "\n",
    "from rdkit.Chem import rdFingerprintGenerator\n",
    "gen = rdFingerprintGenerator.GetMorganGenerator(radius=RADIUS_UPPER_LIMIT)\n",
    "ao = rdFingerprintGenerator.AdditionalOutput()\n",
    "ao.AllocateBitInfoMap()\n",
    "\n",
    "from rdkit import RDLogger\n",
    "\n",
    "RDLogger.DisableLog('rdApp.*')  # Disable all RDKit warnings\n",
    "\n",
    "\n",
    "def isomeric_to_canonical_smiles(isomeric_smiles):\n",
    "    try:\n",
    "        mol = Chem.MolFromSmiles(isomeric_smiles)\n",
    "        Chem.RemoveStereochemistry( mol ) \n",
    "    except:\n",
    "        # print(isomeric_smiles)\n",
    "        return None\n",
    "\n",
    "    canonical_smiles = Chem.MolToSmiles(mol, canonical=True)\n",
    "    \n",
    "    return canonical_smiles\n"
   ]
  },
  {
   "cell_type": "code",
   "execution_count": null,
   "metadata": {},
   "outputs": [],
   "source": []
  },
  {
   "cell_type": "code",
   "execution_count": 30,
   "metadata": {},
   "outputs": [],
   "source": [
    "RADIUS_UPPER_LIMIT = 3\n",
    "from rdkit.Chem import rdFingerprintGenerator\n",
    "gen = rdFingerprintGenerator.GetMorganGenerator(radius=RADIUS_UPPER_LIMIT)\n",
    "ao = rdFingerprintGenerator.AdditionalOutput()\n",
    "ao.AllocateBitInfoMap()\n",
    "\n",
    "\n",
    "def get_fragments_v1(SMILES):\n",
    "    # get fragments from bits from mfp\n",
    "    mol = Chem.MolFromSmiles(SMILES)\n",
    "    if mol is None:\n",
    "        print(f\"Failed to parse {SMILES}\")\n",
    "        # raise ValueError(f\"Failed to parse {SMILES}\")\n",
    "        return None\n",
    "    Chem.Kekulize(mol, clearAromaticFlags=True)\n",
    "    mol = Chem.AddHs(mol)\n",
    "\n",
    "    # Compute Morgan fingerprint with radius \n",
    "    fp = gen.GetFingerprint(mol, additionalOutput=ao)\n",
    "    info = ao.GetBitInfoMap()\n",
    "    \n",
    "    # Extract circular subgraphs\n",
    "    # display(info)\n",
    "    frags = set()\n",
    "    for bit_id, atom_envs in info.items():\n",
    "        for atom_idx, curr_radius in atom_envs:\n",
    "            # Get the circular environment as a subgraph\n",
    "            env = Chem.FindAtomEnvironmentOfRadiusN(mol, curr_radius, atom_idx)\n",
    "            submol = Chem.PathToSubmol(mol, env)\n",
    "            smiles = Chem.MolToSmiles(submol, canonical=True) # this is canonical in terms of fragment, so it is related to the bond/atom index mapping\n",
    "            smiles = Chem.MolToSmiles(Chem.MolFromSmiles(smiles), canonical=True) # so, let's treat it as a independent molecule, instead of a fragment\n",
    "            frags.add(smiles)\n",
    "    \n",
    "    frags.discard(\"\")\n",
    "    return frags"
   ]
  },
  {
   "cell_type": "code",
   "execution_count": 31,
   "metadata": {},
   "outputs": [],
   "source": [
    "\n",
    "\n",
    "def get_fragments_v2(SMILES):\n",
    "    # get fragments from each index and a given radius\n",
    "    mol = Chem.MolFromSmiles(SMILES)\n",
    "    if mol is None:\n",
    "        print(f\"Failed to parse {SMILES}\")\n",
    "        # raise ValueError(f\"Failed to parse {SMILES}\")\n",
    "        return None\n",
    "    Chem.Kekulize(mol, clearAromaticFlags=True)\n",
    "    mol = Chem.AddHs(mol)\n",
    "\n",
    "    frags = set()\n",
    "    for atom_idx in range(mol.GetNumAtoms()):\n",
    "        for radius in range(1, RADIUS_UPPER_LIMIT + 1):\n",
    "            env = Chem.FindAtomEnvironmentOfRadiusN(mol, radius, atom_idx)\n",
    "            submol = Chem.PathToSubmol(mol, env)\n",
    "            smiles = Chem.MolToSmiles(submol, canonical=True)\n",
    "            smiles = Chem.MolToSmiles(Chem.MolFromSmiles(smiles), canonical=True)\n",
    "\n",
    "            frags.add(smiles)\n",
    "    frags.discard(\"\")\n",
    "    return frags"
   ]
  },
  {
   "cell_type": "code",
   "execution_count": 32,
   "metadata": {},
   "outputs": [],
   "source": [
    "Kavaratamide_A_SMILES = \"CCCCCCC[C@H](O)CC(=O)N[C@@H](C(C)C)C(=O)N(C)[C@@H](C)C(=O)O[C@@H](C(C)C)C(=O)N1[C@@H](C(C)C)C(OC)=CC1=O\"\n",
    "Kavaratamide_A_SMILES = isomeric_to_canonical_smiles(Kavaratamide_A_SMILES)\n",
    "s_old = \"CCCCCCCC(CC=CCCC(=O)N(C)C(C)C(=O)NC(C)C(O)C(C)C(=O)N1C(=O)C=C(OC)C1C(C)C)OC\"\n",
    "s_new = \"CCCCCCC(O)CC(=O)NC1CCOC1=O\"\n",
    "\n",
    "Kav_mol = Chem.MolFromSmiles(Kavaratamide_A_SMILES)\n",
    "s_old_mol = Chem.MolFromSmiles(s_old)\n",
    "s_new_mol = Chem.MolFromSmiles(s_new)"
   ]
  },
  {
   "cell_type": "code",
   "execution_count": 33,
   "metadata": {},
   "outputs": [
    {
     "data": {
      "image/png": "[encoded data removed]",
      "text/plain": [
       "<PIL.Image.Image image mode=RGBA size=600x200>"
      ]
     },
     "execution_count": 33,
     "metadata": {},
     "output_type": "execute_result"
    }
   ],
   "source": [
    "Chem.Draw.MolsToImage([Kav_mol, s_old_mol, s_new_mol ])"
   ]
  },
  {
   "cell_type": "code",
   "execution_count": 34,
   "metadata": {},
   "outputs": [],
   "source": [
    "kav_frags = get_fragments_v1(Kavaratamide_A_SMILES)\n",
    "new_frags = get_fragments_v1(s_new)\n",
    "old_frags = get_fragments_v1(s_old)"
   ]
  },
  {
   "cell_type": "code",
   "execution_count": 35,
   "metadata": {},
   "outputs": [
    {
     "name": "stdout",
     "output_type": "stream",
     "text": [
      "IoU kav and old: 0.391304347826087\n",
      "IoU kav and new: 0.39436619718309857\n"
     ]
    }
   ],
   "source": [
    "print(f\"IoU kav and old: {len(kav_frags & old_frags) / len(kav_frags | old_frags)}\")\n",
    "print(f\"IoU kav and new: {len(kav_frags & new_frags) / len(kav_frags | new_frags)}\")"
   ]
  },
  {
   "cell_type": "code",
   "execution_count": 36,
   "metadata": {},
   "outputs": [],
   "source": [
    "from visualize_frags import highlight_fragments, display_images\n"
   ]
  },
  {
   "cell_type": "code",
   "execution_count": 29,
   "metadata": {},
   "outputs": [],
   "source": [
    "# images = highlight_fragments(Kavaratamide_A_SMILES, kav_frags)\n",
    "# display_images(images, kav_frags)"
   ]
  },
  {
   "cell_type": "code",
   "execution_count": null,
   "metadata": {},
   "outputs": [],
   "source": []
  }
 ],
 "metadata": {
  "kernelspec": {
   "display_name": ".venv",
   "language": "python",
   "name": "python3"
  },
  "language_info": {
   "codemirror_mode": {
    "name": "ipython",
    "version": 3
   },
   "file_extension": ".py",
   "mimetype": "text/x-python",
   "name": "python",
   "nbconvert_exporter": "python",
   "pygments_lexer": "ipython3",
   "version": "3.12.3"
  }
 },
 "nbformat": 4,
 "nbformat_minor": 2
}
