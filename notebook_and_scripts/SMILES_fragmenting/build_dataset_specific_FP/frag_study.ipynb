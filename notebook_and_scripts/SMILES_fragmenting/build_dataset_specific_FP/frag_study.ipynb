{
 "cells": [
  {
   "cell_type": "code",
   "execution_count": 2,
   "metadata": {},
   "outputs": [],
   "source": [
    "\n",
    "from rdkit import Chem\n",
    "from rdkit.Chem import rdMolDescriptors\n",
    "import pathlib, pickle, os, tqdm, torch\n",
    "import multiprocessing, collections\n",
    "\n",
    "from collections import defaultdict  \n",
    "\n",
    "RADIUS_UPPER_LIMIT = 10\n",
    "DATASET_root_path = pathlib.Path(\"/workspace/\")\n",
    "DATASETS = [\"OneD_Only_Dataset\", \"SMILES_dataset\"]\n",
    "DATASET_INDEX_SOURCE = [\"oneD_NMR\" , \"HSQC\"]\n",
    "\n",
    "from rdkit.Chem import rdFingerprintGenerator\n",
    "gen = rdFingerprintGenerator.GetMorganGenerator(radius=RADIUS_UPPER_LIMIT)\n",
    "ao = rdFingerprintGenerator.AdditionalOutput()\n",
    "ao.AllocateBitInfoMap()\n",
    "\n",
    "from rdkit import RDLogger\n",
    "\n",
    "RDLogger.DisableLog('rdApp.*')  # Disable all RDKit warnings\n",
    "\n",
    "\n",
    "def isomeric_to_canonical_smiles(isomeric_smiles):\n",
    "    try:\n",
    "        mol = Chem.MolFromSmiles(isomeric_smiles)\n",
    "        Chem.RemoveStereochemistry( mol ) \n",
    "    except:\n",
    "        # print(isomeric_smiles)\n",
    "        return None\n",
    "\n",
    "    canonical_smiles = Chem.MolToSmiles(mol, canonical=True)\n",
    "    \n",
    "    return canonical_smiles\n",
    "\n",
    "# step 1: find all fragments of the entire training set\n",
    "def circular_substructures_method_compare(smiles):\n",
    "    circular_substructures_counts = defaultdict(int) # radius to smiles\n",
    "    substrucure_radius = {}\n",
    "    mol = Chem.MolFromSmiles(smiles)\n",
    "    if mol is None:\n",
    "        print(f\"Failed to parse {smiles}\")\n",
    "        # raise ValueError(f\"Failed to parse {smiles}\")\n",
    "        return circular_substructures_counts, substrucure_radius\n",
    "    mol = Chem.AddHs(mol)\n",
    "    Chem.Kekulize(mol, clearAromaticFlags=True)\n",
    "\n",
    "    # Compute Morgan fingerprint with radius \n",
    "    fp = gen.GetFingerprint(mol, additionalOutput=ao)\n",
    "    info = ao.GetBitInfoMap()  \n",
    "\n",
    "    # Extract circular subgraphs\n",
    "    # display(info)\n",
    "    for bit_id, atom_envs in info.items():\n",
    "        for atom_idx, curr_radius in atom_envs:\n",
    "            # Get the circular environment as a subgraph\n",
    "            env = Chem.FindAtomEnvironmentOfRadiusN(mol, curr_radius, atom_idx)\n",
    "            submol = Chem.PathToSubmol(mol, env)\n",
    "            smiles_from_submol = Chem.MolToSmiles(submol, canonical=True)\n",
    "            if isomeric_to_canonical_smiles(smiles_from_submol) is None:\n",
    "                print(\"failed to convert smiles_from_submol back to canonical smiles\", smiles_from_submol)\n",
    "                continue\n",
    "            \n",
    "            atom_indices = set()\n",
    "            for bond_idx in env:\n",
    "                bond = mol.GetBondWithIdx(bond_idx)\n",
    "                atom_indices.add(bond.GetBeginAtomIdx())\n",
    "                atom_indices.add(bond.GetEndAtomIdx())\n",
    "            if len(atom_indices) == 0:\n",
    "                # print(f\"Empty atom indices for {smiles}\")\n",
    "                # print(f\"{smiles_from_submol=}\")\n",
    "                continue\n",
    "            smiles_from_fragments = Chem.MolFragmentToSmiles(mol, atom_indices, canonical=True)\n",
    "            if isomeric_to_canonical_smiles(smiles_from_submol) is None:\n",
    "                continue\n",
    "            print(f\"{smiles_from_fragments == isomeric_to_canonical_smiles(smiles_from_fragments)=}\")\n",
    "            print(f\"{smiles_from_submol == isomeric_to_canonical_smiles(smiles_from_submol)=}\")\n",
    "            # print()\n",
    "            # # if isomeric_to_canonical_smiles(smiles_from_fragments) != isomeric_to_canonical_smiles(smiles_from_submol):\n",
    "            # #     print(f\"{smiles_from_fragments=}, {smiles_from_submol=}\")\n",
    "            # #     print(f\"{isomeric_to_canonical_smiles(smiles_from_fragments)},           {isomeric_to_canonical_smiles(smiles_from_submol)}\")\n",
    "            # #     print()\n",
    "            \n",
    "           "
   ]
  },
  {
   "cell_type": "code",
   "execution_count": null,
   "metadata": {},
   "outputs": [],
   "source": []
  },
  {
   "cell_type": "code",
   "execution_count": 3,
   "metadata": {},
   "outputs": [],
   "source": [
    "RADIUS_UPPER_LIMIT = 10\n",
    "from rdkit.Chem import rdFingerprintGenerator\n",
    "gen = rdFingerprintGenerator.GetMorganGenerator(radius=RADIUS_UPPER_LIMIT)\n",
    "ao = rdFingerprintGenerator.AdditionalOutput()\n",
    "ao.AllocateBitInfoMap()\n",
    "\n",
    "\n",
    "def get_fragments_v1(SMILES):\n",
    "    mol = Chem.MolFromSmiles(SMILES)\n",
    "    if mol is None:\n",
    "        print(f\"Failed to parse {SMILES}\")\n",
    "        # raise ValueError(f\"Failed to parse {SMILES}\")\n",
    "        return None\n",
    "    Chem.Kekulize(mol, clearAromaticFlags=True)\n",
    "    mol = Chem.AddHs(mol)\n",
    "\n",
    "    # Compute Morgan fingerprint with radius \n",
    "    fp = gen.GetFingerprint(mol, additionalOutput=ao)\n",
    "    info = ao.GetBitInfoMap()\n",
    "    \n",
    "    # Extract circular subgraphs\n",
    "    # display(info)\n",
    "    frags = set()\n",
    "    for bit_id, atom_envs in info.items():\n",
    "        for atom_idx, curr_radius in atom_envs:\n",
    "            # Get the circular environment as a subgraph\n",
    "            env = Chem.FindAtomEnvironmentOfRadiusN(mol, curr_radius, atom_idx)\n",
    "            submol = Chem.PathToSubmol(mol, env)\n",
    "            smiles = Chem.MolToSmiles(submol, canonical=True) # this is canonical in terms of fragment, so it is related to the bond/atom index mapping\n",
    "            smiles = Chem.MolToSmiles(Chem.MolFromSmiles(smiles), canonical=True) # so, let's treat it as a independent molecule, instead of a fragment\n",
    "            frags.add(smiles)\n",
    "    \n",
    "    frags.discard(\"\")\n",
    "    return frags"
   ]
  },
  {
   "cell_type": "code",
   "execution_count": 5,
   "metadata": {},
   "outputs": [
    {
     "name": "stdout",
     "output_type": "stream",
     "text": [
      "Help on built-in function GetMorganGenerator in module rdkit.Chem.rdFingerprintGenerator:\n",
      "\n",
      "GetMorganGenerator(...)\n",
      "    GetMorganGenerator([  (int)radius=3 [, (bool)countSimulation=False [, (bool)includeChirality=False [, (bool)useBondTypes=True [, (bool)onlyNonzeroInvariants=False [, (bool)includeRingMembership=True [, (AtomPairsParameters)countBounds=None [, (int)fpSize=2048 [, (AtomPairsParameters)atomInvariantsGenerator=None [, (AtomPairsParameters)bondInvariantsGenerator=None [, (bool)includeRedundantEnvironments=False]]]]]]]]]]]) -> FingerprintGenerator64 :\n",
      "        Get a morgan fingerprint generator\n",
      "        \n",
      "          ARGUMENTS:\n",
      "            - radius:  the number of iterations to grow the fingerprint\n",
      "            - countSimulation: if set, use count simulation while generating the fingerprint\n",
      "            - includeChirality: if set, chirality information will be added to the generated fingerprint\n",
      "            - useBondTypes: if set, bond types will be included as a part of the default bond invariants\n",
      "            - countBounds: boundaries for count simulation, corresponding bit will be  set if the count is higher than the number provided for that spot\n",
      "            - fpSize: size of the generated fingerprint, does not affect the sparse versions\n",
      "            - atomInvariantsGenerator: atom invariants to be used during fingerprint generation\n",
      "        \n",
      "        This generator supports the following AdditionalOutput types:\n",
      "            - atomToBits: which bits each atom is the center of\n",
      "            - atomCounts: how many bits each atom sets\n",
      "            - bitInfoMap: map from bitId to (atomId1, radius) pairs\n",
      "        \n",
      "          RETURNS: FingerprintGenerator\n",
      "        \n",
      "        \n",
      "    \n",
      "        C++ signature :\n",
      "            RDKit::FingerprintGenerator<unsigned long>* GetMorganGenerator([ unsigned int=3 [,bool=False [,bool=False [,bool=True [,bool=False [,bool=True [,boost::python::api::object {lvalue}=None [,unsigned int=2048 [,boost::python::api::object {lvalue}=None [,boost::python::api::object {lvalue}=None [,bool=False]]]]]]]]]]])\n",
      "\n"
     ]
    }
   ],
   "source": [
    "help(rdFingerprintGenerator.GetMorganGenerator)"
   ]
  },
  {
   "cell_type": "code",
   "execution_count": 58,
   "metadata": {},
   "outputs": [],
   "source": [
    "\n",
    "\n",
    "def get_fragments_v2(SMILES):\n",
    "    mol = Chem.MolFromSmiles(SMILES)\n",
    "    if mol is None:\n",
    "        print(f\"Failed to parse {SMILES}\")\n",
    "        # raise ValueError(f\"Failed to parse {SMILES}\")\n",
    "        return None\n",
    "    Chem.Kekulize(mol, clearAromaticFlags=True)\n",
    "    mol = Chem.AddHs(mol)\n",
    "\n",
    "    frags = set()\n",
    "    for atom_idx in range(mol.GetNumAtoms()):\n",
    "        for radius in range(1, RADIUS_UPPER_LIMIT + 1):\n",
    "            env = Chem.FindAtomEnvironmentOfRadiusN(mol, radius, atom_idx)\n",
    "            submol = Chem.PathToSubmol(mol, env)\n",
    "            smiles = Chem.MolToSmiles(submol, canonical=True)\n",
    "            smiles = Chem.MolToSmiles(Chem.MolFromSmiles(smiles), canonical=True)\n",
    "\n",
    "            frags.add(smiles)\n",
    "    frags.discard(\"\")\n",
    "    return frags"
   ]
  },
  {
   "cell_type": "code",
   "execution_count": 59,
   "metadata": {},
   "outputs": [],
   "source": [
    "import pickle\n",
    "path = \"/workspace/SMILES_dataset/val/SMILES/index.pkl\"\n",
    "with open(path, \"rb\") as f:\n",
    "    sone_smiles = pickle.load(f).values()"
   ]
  },
  {
   "cell_type": "code",
   "execution_count": 60,
   "metadata": {},
   "outputs": [
    {
     "name": "stdout",
     "output_type": "stream",
     "text": [
      "True\n",
      "True\n",
      "True\n",
      "True\n",
      "True\n",
      "True\n",
      "True\n",
      "True\n",
      "True\n",
      "False\n"
     ]
    }
   ],
   "source": [
    "for s in list(sone_smiles)[:10]:\n",
    "    x= get_fragments_v1(s)\n",
    "    y = get_fragments_v2(s)\n",
    "    print(x==y)"
   ]
  },
  {
   "cell_type": "code",
   "execution_count": 49,
   "metadata": {},
   "outputs": [
    {
     "data": {
      "text/plain": [
       "set()"
      ]
     },
     "execution_count": 49,
     "metadata": {},
     "output_type": "execute_result"
    }
   ],
   "source": [
    "x-y"
   ]
  },
  {
   "cell_type": "code",
   "execution_count": 50,
   "metadata": {},
   "outputs": [
    {
     "data": {
      "text/plain": [
       "{'C#CC(Br)C1CC2OC3(CCC(C(Br)CC)O3)C(Br)C2O1',\n",
       " 'C#CC(Br)C1CC2OC3(CCC(C(C)Br)O3)C(Br)C2O1',\n",
       " 'CCC(Br)C1CCC2(O1)OC1CC(C(C)Br)OC1C2Br'}"
      ]
     },
     "execution_count": 50,
     "metadata": {},
     "output_type": "execute_result"
    }
   ],
   "source": [
    "y-x"
   ]
  },
  {
   "cell_type": "code",
   "execution_count": 51,
   "metadata": {},
   "outputs": [
    {
     "data": {
      "text/plain": [
       "(50, 53)"
      ]
     },
     "execution_count": 51,
     "metadata": {},
     "output_type": "execute_result"
    }
   ],
   "source": [
    "len(x), len(y)"
   ]
  },
  {
   "cell_type": "code",
   "execution_count": null,
   "metadata": {},
   "outputs": [],
   "source": []
  }
 ],
 "metadata": {
  "kernelspec": {
   "display_name": "base",
   "language": "python",
   "name": "python3"
  },
  "language_info": {
   "codemirror_mode": {
    "name": "ipython",
    "version": 3
   },
   "file_extension": ".py",
   "mimetype": "text/x-python",
   "name": "python",
   "nbconvert_exporter": "python",
   "pygments_lexer": "ipython3",
   "version": "3.11.10"
  }
 },
 "nbformat": 4,
 "nbformat_minor": 2
}
