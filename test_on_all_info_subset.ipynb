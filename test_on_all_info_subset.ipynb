{
 "cells": [
  {
   "cell_type": "code",
   "execution_count": 1,
   "metadata": {},
   "outputs": [],
   "source": [
    "%load_ext autoreload\n",
    "%autoreload 2\n",
    "\n",
    "from pathlib import Path\n",
    "import torch\n",
    "torch.set_printoptions(precision=10)\n",
    "\n",
    "from pytorch_lightning import Trainer\n",
    "from pytorch_lightning.callbacks import ModelCheckpoint\n",
    "from models.ranked_transformer import HsqcRankedTransformer\n",
    "\n",
    "from models.optional_input_ranked_transformer import OptionalInputRankedTransformer\n",
    "from datasets.oneD_dataset import OneDDataModule\n",
    "\n",
    "from datasets.optional_2d_folder_dataset import OptionalInputDataModule\n",
    "import yaml\n",
    "from pytorch_lightning.loggers import TensorBoardLogger\n",
    "torch.set_float32_matmul_precision('medium')"
   ]
  },
  {
   "cell_type": "code",
   "execution_count": 11,
   "metadata": {},
   "outputs": [],
   "source": [
    "import warnings\n",
    "warnings.filterwarnings(\"ignore\", category=FutureWarning, message=\"You are using `torch.load` with `weights_only=False`\")\n",
    "warnings.filterwarnings(\"ignore\", category=UserWarning, message=\"The PyTorch API of nested tensors is in prototype stage and will change in the near future.\")\n"
   ]
  },
  {
   "cell_type": "code",
   "execution_count": 3,
   "metadata": {},
   "outputs": [],
   "source": [
    "from datasets.dataset_utils import  fp_loader_configer\n",
    "fp_loader_configer.select_version(\"MFP_Specific_Radius\")\n",
    "fp_loader = fp_loader_configer.fp_loader\n"
   ]
  },
  {
   "cell_type": "markdown",
   "metadata": {},
   "source": [
    "Here we compare models' performance over 7 kinds of inputs\n"
   ]
  },
  {
   "cell_type": "code",
   "execution_count": 36,
   "metadata": {},
   "outputs": [
    {
     "name": "stdout",
     "output_type": "stream",
     "text": [
      "loading time: 124.77609610557556\n",
      "counting time: 10.722865104675293\n",
      "finish entropy list\n"
     ]
    }
   ],
   "source": [
    "# load model \n",
    "\n",
    "checkpoint_path = Path(\"/root/gurusmart/MorganFP_prediction/reproduce_previous_works/stable_argsort/flexible_models_best_FP/r0_r2_FP_trial_1/checkpoints/epoch=32-all_inputs.ckpt\")\n",
    "model_path = checkpoint_path.parents[1]\n",
    "\n",
    "\n",
    "hyperpaerameters_path = model_path / \"hparams.yaml\"\n",
    "\n",
    "with open(hyperpaerameters_path, 'r') as file:\n",
    "    hparams = yaml.safe_load(file)\n",
    "    \n",
    "FP_building_type = hparams['FP_building_type'].split(\"_\")[-1]\n",
    "only_2d = not hparams['use_oneD_NMR_no_solvent']\n",
    "fp_loader.setup(only_2d=only_2d,FP_building_type=FP_building_type)\n",
    "fp_loader.set_max_radius(int(hparams['FP_choice'].split(\"_\")[-1][1:]), only_2d=only_2d)\n",
    "\n",
    "\n",
    "del hparams['checkpoint_path'] # prevent double defition of checkpoint_path\n",
    "# hparams['use_peak_values'] = False\n",
    "\n",
    "\n"
   ]
  },
  {
   "cell_type": "code",
   "execution_count": 37,
   "metadata": {},
   "outputs": [
    {
     "name": "stderr",
     "output_type": "stream",
     "text": [
      "Initialized SignCoordinateEncoder[384] with dims [180, 180, 24] and 2 positional encoders. 24 bits are reserved for encoding the final bit\n"
     ]
    },
    {
     "name": "stdout",
     "output_type": "stream",
     "text": [
      "HsqcRankedTransformer saving args\n"
     ]
    },
    {
     "data": {
      "text/plain": [
       "device(type='cuda', index=0)"
      ]
     },
     "execution_count": 37,
     "metadata": {},
     "output_type": "execute_result"
    }
   ],
   "source": [
    "model = HsqcRankedTransformer.load_from_checkpoint(checkpoint_path, **hparams)\n",
    "# model = HsqcRankedTransformer(**hparams)\n",
    "model.change_ranker_for_testing()\n",
    "# model.change_ranker_for_testing(test_ranking_set_path = \"/workspace/ranking_sets_cleaned_by_inchi/SMILES_R0_to_R4_reduced_FP_ranking_sets_only_all_info_molecules/test/rankingset.pt\")\n",
    "# model=model.to(\"cuda\")\n",
    "model.device"
   ]
  },
  {
   "cell_type": "code",
   "execution_count": 38,
   "metadata": {},
   "outputs": [],
   "source": [
    "datamodule = OptionalInputDataModule(dir=\"/workspace/SMILES_dataset\", FP_choice=hparams[\"FP_choice\"], input_src=[\"HSQC\", \"oneD_NMR\"], batch_size=hparams['bs'], parser_args=hparams)\n",
    "datamodule.setup(\"test\")\n",
    "loader_all_inputs, loader_HSQC_H_NMR, loader_HSQC_C_NMR, loader_only_hsqc, loader_only_1d, loader_only_H_NMR, loader_only_C_NMR = \\\n",
    "    datamodule.test_dataloader()\n",
    "    \n",
    "    \n",
    "# datamodule = OneDDataModule(dir=\"/workspace/SMILES_dataset\", FP_choice=hparams[\"FP_choice\"], batch_size=hparams['bs'], parser_args=hparams) \n",
    "# datamodule.setup(\"test\")\n",
    "# loader_only_C_NMR = datamodule.test_dataloader()\n",
    "    \n"
   ]
  },
  {
   "cell_type": "code",
   "execution_count": 39,
   "metadata": {},
   "outputs": [
    {
     "name": "stderr",
     "output_type": "stream",
     "text": [
      "GPU available: True (cuda), used: True\n",
      "TPU available: False, using: 0 TPU cores\n",
      "HPU available: False, using: 0 HPUs\n"
     ]
    }
   ],
   "source": [
    "trainer = Trainer()\n",
    "metric_to_focus = [\n",
    "    'rank_1',\n",
    "    'rank_5',\n",
    "    \"mean_rank\",\n",
    "    'cos',\n",
    "    'f1'    \n",
    "]\n",
    "def show_model_performance(model, out_file =\"temp_model_show.txt\"):\n",
    "    # loaders = [loader_all_inputs, loader_HSQC_H_NMR, loader_HSQC_C_NMR, loader_only_hsqc, loader_only_1d, loader_only_H_NMR, loader_only_C_NMR]\n",
    "    # names = [\"all_inputs\", \"HSQC_H_NMR\", \"HSQC_C_NMR\", \"only_hsqc\", \"only_1d\", \"only_H_NMR\", \"only_C_NMR\"]\n",
    "    # loaders = [ loader_only_1d]\n",
    "    # names = [ \"only_1d\"]\n",
    "    loaders = [loader_all_inputs]\n",
    "    names = [\"all_inputs\"]\n",
    "    # names = [\"only_hsqc\"]\n",
    "    with open(out_file, \"w\") as file:\n",
    "        for loader, name in zip(loaders, names):\n",
    "            result =  trainer.test(model, dataloaders=loader) \n",
    "            # result = trainer.test(model, datamodule, ckpt_path = checkpoint_path)\n",
    "            file.write(f\"\\n{name:10}: \")\n",
    "            for m in metric_to_focus:\n",
    "                file.write(f\"{m}: {result[0]['test/mean_'+m]:.4f}, \")\n",
    "    return result"
   ]
  },
  {
   "cell_type": "code",
   "execution_count": 40,
   "metadata": {},
   "outputs": [
    {
     "name": "stderr",
     "output_type": "stream",
     "text": [
      "LOCAL_RANK: 0 - CUDA_VISIBLE_DEVICES: [0]\n"
     ]
    },
    {
     "data": {
      "application/vnd.jupyter.widget-view+json": {
       "model_id": "43114e96e835493295c34f1fc5587dc7",
       "version_major": 2,
       "version_minor": 0
      },
      "text/plain": [
       "Testing: |          | 0/? [00:00<?, ?it/s]"
      ]
     },
     "metadata": {},
     "output_type": "display_data"
    },
    {
     "name": "stdout",
     "output_type": "stream",
     "text": [
      "torch.Size([64])\n",
      "torch.Size([64])\n",
      "torch.Size([64])\n",
      "torch.Size([64])\n",
      "torch.Size([64])\n",
      "torch.Size([64])\n",
      "torch.Size([64])\n",
      "torch.Size([64])\n",
      "torch.Size([64])\n",
      "torch.Size([64])\n",
      "torch.Size([64])\n",
      "torch.Size([64])\n",
      "torch.Size([64])\n",
      "torch.Size([64])\n",
      "torch.Size([64])\n",
      "torch.Size([64])\n",
      "torch.Size([64])\n",
      "torch.Size([64])\n",
      "torch.Size([64])\n",
      "torch.Size([64])\n",
      "torch.Size([64])\n",
      "torch.Size([64])\n",
      "torch.Size([64])\n",
      "torch.Size([64])\n",
      "torch.Size([64])\n",
      "torch.Size([64])\n",
      "torch.Size([64])\n",
      "torch.Size([64])\n",
      "torch.Size([64])\n",
      "torch.Size([64])\n",
      "torch.Size([64])\n",
      "torch.Size([64])\n",
      "torch.Size([64])\n",
      "torch.Size([64])\n",
      "torch.Size([64])\n",
      "torch.Size([64])\n",
      "torch.Size([64])\n",
      "torch.Size([64])\n",
      "torch.Size([64])\n",
      "torch.Size([64])\n",
      "torch.Size([64])\n",
      "torch.Size([64])\n",
      "torch.Size([64])\n",
      "torch.Size([64])\n",
      "torch.Size([64])\n",
      "torch.Size([64])\n",
      "torch.Size([64])\n",
      "torch.Size([64])\n",
      "torch.Size([64])\n",
      "torch.Size([64])\n",
      "torch.Size([64])\n",
      "torch.Size([64])\n",
      "torch.Size([64])\n",
      "torch.Size([64])\n",
      "torch.Size([64])\n",
      "torch.Size([64])\n",
      "torch.Size([64])\n",
      "torch.Size([64])\n",
      "torch.Size([64])\n",
      "torch.Size([64])\n",
      "torch.Size([64])\n",
      "torch.Size([64])\n",
      "torch.Size([64])\n",
      "torch.Size([24])\n",
      "{'on_epoch': True, 'sync_dist': False} \n",
      "\n",
      "\n"
     ]
    },
    {
     "data": {
      "text/html": [
       "<pre style=\"white-space:pre;overflow-x:auto;line-height:normal;font-family:Menlo,'DejaVu Sans Mono',consolas,'Courier New',monospace\">┏━━━━━━━━━━━━━━━━━━━━━━━━━━━━━━━━━━━━━━━━━━━━━━━━━━━━━━━━┳━━━━━━━━━━━━━━━━━━━━━━━━━━━━━━━━━━━━━━━━━━━━━━━━━━━━━━━━┓\n",
       "┃<span style=\"font-weight: bold\">                      Test metric                       </span>┃<span style=\"font-weight: bold\">                      DataLoader 0                      </span>┃\n",
       "┡━━━━━━━━━━━━━━━━━━━━━━━━━━━━━━━━━━━━━━━━━━━━━━━━━━━━━━━━╇━━━━━━━━━━━━━━━━━━━━━━━━━━━━━━━━━━━━━━━━━━━━━━━━━━━━━━━━┩\n",
       "│<span style=\"color: #008080; text-decoration-color: #008080\">                   test/mean_accuracy                   </span>│<span style=\"color: #800080; text-decoration-color: #800080\">                   0.9969945549964905                   </span>│\n",
       "│<span style=\"color: #008080; text-decoration-color: #008080\">                 test/mean_active_bits                  </span>│<span style=\"color: #800080; text-decoration-color: #800080\">                   97.28133392333984                    </span>│\n",
       "│<span style=\"color: #008080; text-decoration-color: #008080\">                   test/mean_ce_loss                    </span>│<span style=\"color: #800080; text-decoration-color: #800080\">                  0.011952337808907032                  </span>│\n",
       "│<span style=\"color: #008080; text-decoration-color: #008080\">                     test/mean_cos                      </span>│<span style=\"color: #800080; text-decoration-color: #800080\">                   0.9030303955078125                   </span>│\n",
       "│<span style=\"color: #008080; text-decoration-color: #008080\">                      test/mean_f1                      </span>│<span style=\"color: #800080; text-decoration-color: #800080\">                   0.9077176451683044                   </span>│\n",
       "│<span style=\"color: #008080; text-decoration-color: #008080\">                   test/mean_jaccard                    </span>│<span style=\"color: #800080; text-decoration-color: #800080\">                   0.8319511413574219                   </span>│\n",
       "│<span style=\"color: #008080; text-decoration-color: #008080\">                  test/mean_mean_rank                   </span>│<span style=\"color: #800080; text-decoration-color: #800080\">                      1.388671875                       </span>│\n",
       "│<span style=\"color: #008080; text-decoration-color: #008080\">                   test/mean_neg_loss                   </span>│<span style=\"color: #800080; text-decoration-color: #800080\">                  0.003288800595328212                  </span>│\n",
       "│<span style=\"color: #008080; text-decoration-color: #008080\">                   test/mean_pos_loss                   </span>│<span style=\"color: #800080; text-decoration-color: #800080\">                  0.008663536980748177                  </span>│\n",
       "│<span style=\"color: #008080; text-decoration-color: #008080\">                 test/mean_pos_neg_loss                 </span>│<span style=\"color: #800080; text-decoration-color: #800080\">                  0.011952337808907032                  </span>│\n",
       "│<span style=\"color: #008080; text-decoration-color: #008080\">                  test/mean_precision                   </span>│<span style=\"color: #800080; text-decoration-color: #800080\">                   0.9420560002326965                   </span>│\n",
       "│<span style=\"color: #008080; text-decoration-color: #008080\">                    test/mean_rank_1                    </span>│<span style=\"color: #800080; text-decoration-color: #800080\">                      0.947265625                       </span>│\n",
       "│<span style=\"color: #008080; text-decoration-color: #008080\">                   test/mean_rank_10                    </span>│<span style=\"color: #800080; text-decoration-color: #800080\">                     0.994873046875                     </span>│\n",
       "│<span style=\"color: #008080; text-decoration-color: #008080\">                    test/mean_rank_5                    </span>│<span style=\"color: #800080; text-decoration-color: #800080\">                     0.99365234375                      </span>│\n",
       "│<span style=\"color: #008080; text-decoration-color: #008080\">                    test/mean_recall                    </span>│<span style=\"color: #800080; text-decoration-color: #800080\">                   0.8759701251983643                   </span>│\n",
       "│<span style=\"color: #008080; text-decoration-color: #008080\">        test/rank_1_of_NP_class/Alkylresorcinols        </span>│<span style=\"color: #800080; text-decoration-color: #800080\">                          1.0                           </span>│\n",
       "│<span style=\"color: #008080; text-decoration-color: #008080\">     test/rank_1_of_NP_class/Amino acid glycosides      </span>│<span style=\"color: #800080; text-decoration-color: #800080\">                          1.0                           </span>│\n",
       "│<span style=\"color: #008080; text-decoration-color: #008080\">        test/rank_1_of_NP_class/Aminosugars and         </span>│<span style=\"color: #800080; text-decoration-color: #800080\">                          1.0                           </span>│\n",
       "│<span style=\"color: #008080; text-decoration-color: #008080\">                    aminoglycosides                     </span>│<span style=\"color: #800080; text-decoration-color: #800080\">                                                        </span>│\n",
       "│<span style=\"color: #008080; text-decoration-color: #008080\">   test/rank_1_of_NP_class/Anthranilic acid alkaloids   </span>│<span style=\"color: #800080; text-decoration-color: #800080\">                         0.9375                         </span>│\n",
       "│<span style=\"color: #008080; text-decoration-color: #008080\">         test/rank_1_of_NP_class/Apocarotenoids         </span>│<span style=\"color: #800080; text-decoration-color: #800080\">                          1.0                           </span>│\n",
       "│<span style=\"color: #008080; text-decoration-color: #008080\">      test/rank_1_of_NP_class/Aromatic polyketides      </span>│<span style=\"color: #800080; text-decoration-color: #800080\">                   0.9215686321258545                   </span>│\n",
       "│<span style=\"color: #008080; text-decoration-color: #008080\">       test/rank_1_of_NP_class/Carotenoids (C40)        </span>│<span style=\"color: #800080; text-decoration-color: #800080\">                          1.0                           </span>│\n",
       "│<span style=\"color: #008080; text-decoration-color: #008080\">       test/rank_1_of_NP_class/Carotenoids (C50)        </span>│<span style=\"color: #800080; text-decoration-color: #800080\">                          1.0                           </span>│\n",
       "│<span style=\"color: #008080; text-decoration-color: #008080\">           test/rank_1_of_NP_class/Chromanes            </span>│<span style=\"color: #800080; text-decoration-color: #800080\">                          1.0                           </span>│\n",
       "│<span style=\"color: #008080; text-decoration-color: #008080\">           test/rank_1_of_NP_class/Coumarins            </span>│<span style=\"color: #800080; text-decoration-color: #800080\">                   0.9666666388511658                   </span>│\n",
       "│<span style=\"color: #008080; text-decoration-color: #008080\">       test/rank_1_of_NP_class/Cyclic polyketides       </span>│<span style=\"color: #800080; text-decoration-color: #800080\">                   0.9622641801834106                   </span>│\n",
       "│<span style=\"color: #008080; text-decoration-color: #008080\">        test/rank_1_of_NP_class/Diarylheptanoids        </span>│<span style=\"color: #800080; text-decoration-color: #800080\">                          1.0                           </span>│\n",
       "│<span style=\"color: #008080; text-decoration-color: #008080\">    test/rank_1_of_NP_class/Diazotetronic acids and     </span>│<span style=\"color: #800080; text-decoration-color: #800080\">                   0.800000011920929                    </span>│\n",
       "│<span style=\"color: #008080; text-decoration-color: #008080\">                      derivatives                       </span>│<span style=\"color: #800080; text-decoration-color: #800080\">                                                        </span>│\n",
       "│<span style=\"color: #008080; text-decoration-color: #008080\">     test/rank_1_of_NP_class/Diphenyl ethers (DPEs)     </span>│<span style=\"color: #800080; text-decoration-color: #800080\">                          1.0                           </span>│\n",
       "│<span style=\"color: #008080; text-decoration-color: #008080\">          test/rank_1_of_NP_class/Diterpenoids          </span>│<span style=\"color: #800080; text-decoration-color: #800080\">                   0.9672489166259766                   </span>│\n",
       "│<span style=\"color: #008080; text-decoration-color: #008080\">          test/rank_1_of_NP_class/Docosanoids           </span>│<span style=\"color: #800080; text-decoration-color: #800080\">                          1.0                           </span>│\n",
       "│<span style=\"color: #008080; text-decoration-color: #008080\">          test/rank_1_of_NP_class/Eicosanoids           </span>│<span style=\"color: #800080; text-decoration-color: #800080\">                   0.9166666865348816                   </span>│\n",
       "│<span style=\"color: #008080; text-decoration-color: #008080\">   test/rank_1_of_NP_class/Fatty Acids and Conjugates   </span>│<span style=\"color: #800080; text-decoration-color: #800080\">                   0.7916666865348816                   </span>│\n",
       "│<span style=\"color: #008080; text-decoration-color: #008080\">     test/rank_1_of_NP_class/Fatty acyl glycosides      </span>│<span style=\"color: #800080; text-decoration-color: #800080\">                          1.0                           </span>│\n",
       "│<span style=\"color: #008080; text-decoration-color: #008080\">          test/rank_1_of_NP_class/Fatty acyls           </span>│<span style=\"color: #800080; text-decoration-color: #800080\">                   0.978723406791687                    </span>│\n",
       "│<span style=\"color: #008080; text-decoration-color: #008080\">          test/rank_1_of_NP_class/Fatty amides          </span>│<span style=\"color: #800080; text-decoration-color: #800080\">                          1.0                           </span>│\n",
       "│<span style=\"color: #008080; text-decoration-color: #008080\">          test/rank_1_of_NP_class/Fatty esters          </span>│<span style=\"color: #800080; text-decoration-color: #800080\">                   0.9444444179534912                   </span>│\n",
       "│<span style=\"color: #008080; text-decoration-color: #008080\">           test/rank_1_of_NP_class/Flavonoids           </span>│<span style=\"color: #800080; text-decoration-color: #800080\">                   0.9723076820373535                   </span>│\n",
       "│<span style=\"color: #008080; text-decoration-color: #008080\">         test/rank_1_of_NP_class/Glycerolipids          </span>│<span style=\"color: #800080; text-decoration-color: #800080\">                   0.7857142686843872                   </span>│\n",
       "│<span style=\"color: #008080; text-decoration-color: #008080\">      test/rank_1_of_NP_class/Glycerophospholipids      </span>│<span style=\"color: #800080; text-decoration-color: #800080\">                          1.0                           </span>│\n",
       "│<span style=\"color: #008080; text-decoration-color: #008080\">      test/rank_1_of_NP_class/Guanidine alkaloids       </span>│<span style=\"color: #800080; text-decoration-color: #800080\">                          1.0                           </span>│\n",
       "│<span style=\"color: #008080; text-decoration-color: #008080\">      test/rank_1_of_NP_class/Histidine alkaloids       </span>│<span style=\"color: #800080; text-decoration-color: #800080\">                   0.8333333134651184                   </span>│\n",
       "│<span style=\"color: #008080; text-decoration-color: #008080\">         test/rank_1_of_NP_class/Isoflavonoids          </span>│<span style=\"color: #800080; text-decoration-color: #800080\">                          1.0                           </span>│\n",
       "│<span style=\"color: #008080; text-decoration-color: #008080\">            test/rank_1_of_NP_class/Lignans             </span>│<span style=\"color: #800080; text-decoration-color: #800080\">                   0.9252336621284485                   </span>│\n",
       "│<span style=\"color: #008080; text-decoration-color: #008080\">       test/rank_1_of_NP_class/Linear polyketides       </span>│<span style=\"color: #800080; text-decoration-color: #800080\">                   0.8292682766914368                   </span>│\n",
       "│<span style=\"color: #008080; text-decoration-color: #008080\">        test/rank_1_of_NP_class/Lysine alkaloids        </span>│<span style=\"color: #800080; text-decoration-color: #800080\">                   0.9459459185600281                   </span>│\n",
       "│<span style=\"color: #008080; text-decoration-color: #008080\">           test/rank_1_of_NP_class/Macrolides           </span>│<span style=\"color: #800080; text-decoration-color: #800080\">                   0.9333333373069763                   </span>│\n",
       "│<span style=\"color: #008080; text-decoration-color: #008080\">         test/rank_1_of_NP_class/Meroterpenoids         </span>│<span style=\"color: #800080; text-decoration-color: #800080\">                   0.9714285731315613                   </span>│\n",
       "│<span style=\"color: #008080; text-decoration-color: #008080\">   test/rank_1_of_NP_class/Miscellaneous polyketides    </span>│<span style=\"color: #800080; text-decoration-color: #800080\">                          1.0                           </span>│\n",
       "│<span style=\"color: #008080; text-decoration-color: #008080\">         test/rank_1_of_NP_class/Monoterpenoids         </span>│<span style=\"color: #800080; text-decoration-color: #800080\">                   0.9469026327133179                   </span>│\n",
       "│<span style=\"color: #008080; text-decoration-color: #008080\">          test/rank_1_of_NP_class/Naphthalenes          </span>│<span style=\"color: #800080; text-decoration-color: #800080\">                   0.9750000238418579                   </span>│\n",
       "│<span style=\"color: #008080; text-decoration-color: #008080\">    test/rank_1_of_NP_class/Nicotinic acid alkaloids    </span>│<span style=\"color: #800080; text-decoration-color: #800080\">                   0.8275862336158752                   </span>│\n",
       "│<span style=\"color: #008080; text-decoration-color: #008080\">          test/rank_1_of_NP_class/Nucleosides           </span>│<span style=\"color: #800080; text-decoration-color: #800080\">                          1.0                           </span>│\n",
       "│<span style=\"color: #008080; text-decoration-color: #008080\">         test/rank_1_of_NP_class/Octadecanoids          </span>│<span style=\"color: #800080; text-decoration-color: #800080\">                          1.0                           </span>│\n",
       "│<span style=\"color: #008080; text-decoration-color: #008080\">         test/rank_1_of_NP_class/Oligopeptides          </span>│<span style=\"color: #800080; text-decoration-color: #800080\">                   0.9366196990013123                   </span>│\n",
       "│<span style=\"color: #008080; text-decoration-color: #008080\">      test/rank_1_of_NP_class/Ornithine alkaloids       </span>│<span style=\"color: #800080; text-decoration-color: #800080\">                          1.0                           </span>│\n",
       "│<span style=\"color: #008080; text-decoration-color: #008080\">       test/rank_1_of_NP_class/Peptide alkaloids        </span>│<span style=\"color: #800080; text-decoration-color: #800080\">                   0.9142857193946838                   </span>│\n",
       "│<span style=\"color: #008080; text-decoration-color: #008080\">        test/rank_1_of_NP_class/Phenanthrenoids         </span>│<span style=\"color: #800080; text-decoration-color: #800080\">                          1.0                           </span>│\n",
       "│<span style=\"color: #008080; text-decoration-color: #008080\">     test/rank_1_of_NP_class/Phenolic acids (C6-C1)     </span>│<span style=\"color: #800080; text-decoration-color: #800080\">                   0.9473684430122375                   </span>│\n",
       "│<span style=\"color: #008080; text-decoration-color: #008080\">    test/rank_1_of_NP_class/Phenylethanoids (C6-C2)     </span>│<span style=\"color: #800080; text-decoration-color: #800080\">                   0.8888888955116272                   </span>│\n",
       "│<span style=\"color: #008080; text-decoration-color: #008080\">    test/rank_1_of_NP_class/Phenylpropanoids (C6-C3)    </span>│<span style=\"color: #800080; text-decoration-color: #800080\">                   0.9591836929321289                   </span>│\n",
       "│<span style=\"color: #008080; text-decoration-color: #008080\">        test/rank_1_of_NP_class/Phloroglucinols         </span>│<span style=\"color: #800080; text-decoration-color: #800080\">                   0.8799999952316284                   </span>│\n",
       "│<span style=\"color: #008080; text-decoration-color: #008080\">      test/rank_1_of_NP_class/Polycyclic aromatic       </span>│<span style=\"color: #800080; text-decoration-color: #800080\">                          1.0                           </span>│\n",
       "│<span style=\"color: #008080; text-decoration-color: #008080\">                      polyketides                       </span>│<span style=\"color: #800080; text-decoration-color: #800080\">                                                        </span>│\n",
       "│<span style=\"color: #008080; text-decoration-color: #008080\">           test/rank_1_of_NP_class/Polyethers           </span>│<span style=\"color: #800080; text-decoration-color: #800080\">                   0.800000011920929                    </span>│\n",
       "│<span style=\"color: #008080; text-decoration-color: #008080\">            test/rank_1_of_NP_class/Polyols             </span>│<span style=\"color: #800080; text-decoration-color: #800080\">                          1.0                           </span>│\n",
       "│<span style=\"color: #008080; text-decoration-color: #008080\">          test/rank_1_of_NP_class/Polyprenols           </span>│<span style=\"color: #800080; text-decoration-color: #800080\">                          1.0                           </span>│\n",
       "│<span style=\"color: #008080; text-decoration-color: #008080\">       test/rank_1_of_NP_class/Proline alkaloids        </span>│<span style=\"color: #800080; text-decoration-color: #800080\">                          0.5                           </span>│\n",
       "│<span style=\"color: #008080; text-decoration-color: #008080\">        test/rank_1_of_NP_class/Pseudoalkaloids         </span>│<span style=\"color: #800080; text-decoration-color: #800080\">                   0.931034505367279                    </span>│\n",
       "│<span style=\"color: #008080; text-decoration-color: #008080\">          test/rank_1_of_NP_class/Saccharides           </span>│<span style=\"color: #800080; text-decoration-color: #800080\">                   0.8999999761581421                   </span>│\n",
       "│<span style=\"color: #008080; text-decoration-color: #008080\">        test/rank_1_of_NP_class/Serine alkaloids        </span>│<span style=\"color: #800080; text-decoration-color: #800080\">                          1.0                           </span>│\n",
       "│<span style=\"color: #008080; text-decoration-color: #008080\">        test/rank_1_of_NP_class/Sesquiterpenoids        </span>│<span style=\"color: #800080; text-decoration-color: #800080\">                   0.9810298085212708                   </span>│\n",
       "│<span style=\"color: #008080; text-decoration-color: #008080\">        test/rank_1_of_NP_class/Sesterterpenoids        </span>│<span style=\"color: #800080; text-decoration-color: #800080\">                   0.9677419066429138                   </span>│\n",
       "│<span style=\"color: #008080; text-decoration-color: #008080\">         test/rank_1_of_NP_class/Small peptides         </span>│<span style=\"color: #800080; text-decoration-color: #800080\">                   0.9200000166893005                   </span>│\n",
       "│<span style=\"color: #008080; text-decoration-color: #008080\">         test/rank_1_of_NP_class/Sphingolipids          </span>│<span style=\"color: #800080; text-decoration-color: #800080\">                   0.8947368264198303                   </span>│\n",
       "│<span style=\"color: #008080; text-decoration-color: #008080\">            test/rank_1_of_NP_class/Steroids            </span>│<span style=\"color: #800080; text-decoration-color: #800080\">                   0.9720670580863953                   </span>│\n",
       "│<span style=\"color: #008080; text-decoration-color: #008080\">          test/rank_1_of_NP_class/Stilbenoids           </span>│<span style=\"color: #800080; text-decoration-color: #800080\">                   0.9259259104728699                   </span>│\n",
       "│<span style=\"color: #008080; text-decoration-color: #008080\">         test/rank_1_of_NP_class/Styrylpyrones          </span>│<span style=\"color: #800080; text-decoration-color: #800080\">                   0.8333333134651184                   </span>│\n",
       "│<span style=\"color: #008080; text-decoration-color: #008080\">           test/rank_1_of_NP_class/Terphenyls           </span>│<span style=\"color: #800080; text-decoration-color: #800080\">                          1.0                           </span>│\n",
       "│<span style=\"color: #008080; text-decoration-color: #008080\">      test/rank_1_of_NP_class/Tetramate alkaloids       </span>│<span style=\"color: #800080; text-decoration-color: #800080\">                          1.0                           </span>│\n",
       "│<span style=\"color: #008080; text-decoration-color: #008080\">         test/rank_1_of_NP_class/Triterpenoids          </span>│<span style=\"color: #800080; text-decoration-color: #800080\">                   0.979411780834198                    </span>│\n",
       "│<span style=\"color: #008080; text-decoration-color: #008080\">      test/rank_1_of_NP_class/Tryptophan alkaloids      </span>│<span style=\"color: #800080; text-decoration-color: #800080\">                   0.8850574493408203                   </span>│\n",
       "│<span style=\"color: #008080; text-decoration-color: #008080\">       test/rank_1_of_NP_class/Tyrosine alkaloids       </span>│<span style=\"color: #800080; text-decoration-color: #800080\">                   0.8720930218696594                   </span>│\n",
       "│<span style=\"color: #008080; text-decoration-color: #008080\">           test/rank_1_of_NP_class/Xanthones            </span>│<span style=\"color: #800080; text-decoration-color: #800080\">                          1.0                           </span>│\n",
       "│<span style=\"color: #008080; text-decoration-color: #008080\">            test/rank_1_of_NP_class/unknown             </span>│<span style=\"color: #800080; text-decoration-color: #800080\">                   0.9002695679664612                   </span>│\n",
       "│<span style=\"color: #008080; text-decoration-color: #008080\">           test/rank_1_of_NP_class/β-lactams            </span>│<span style=\"color: #800080; text-decoration-color: #800080\">                          0.75                          </span>│\n",
       "└────────────────────────────────────────────────────────┴────────────────────────────────────────────────────────┘\n",
       "</pre>\n"
      ],
      "text/plain": [
       "┏━━━━━━━━━━━━━━━━━━━━━━━━━━━━━━━━━━━━━━━━━━━━━━━━━━━━━━━━┳━━━━━━━━━━━━━━━━━━━━━━━━━━━━━━━━━━━━━━━━━━━━━━━━━━━━━━━━┓\n",
       "┃\u001b[1m \u001b[0m\u001b[1m                     Test metric                      \u001b[0m\u001b[1m \u001b[0m┃\u001b[1m \u001b[0m\u001b[1m                     DataLoader 0                     \u001b[0m\u001b[1m \u001b[0m┃\n",
       "┡━━━━━━━━━━━━━━━━━━━━━━━━━━━━━━━━━━━━━━━━━━━━━━━━━━━━━━━━╇━━━━━━━━━━━━━━━━━━━━━━━━━━━━━━━━━━━━━━━━━━━━━━━━━━━━━━━━┩\n",
       "│\u001b[36m \u001b[0m\u001b[36m                  test/mean_accuracy                  \u001b[0m\u001b[36m \u001b[0m│\u001b[35m \u001b[0m\u001b[35m                  0.9969945549964905                  \u001b[0m\u001b[35m \u001b[0m│\n",
       "│\u001b[36m \u001b[0m\u001b[36m                test/mean_active_bits                 \u001b[0m\u001b[36m \u001b[0m│\u001b[35m \u001b[0m\u001b[35m                  97.28133392333984                   \u001b[0m\u001b[35m \u001b[0m│\n",
       "│\u001b[36m \u001b[0m\u001b[36m                  test/mean_ce_loss                   \u001b[0m\u001b[36m \u001b[0m│\u001b[35m \u001b[0m\u001b[35m                 0.011952337808907032                 \u001b[0m\u001b[35m \u001b[0m│\n",
       "│\u001b[36m \u001b[0m\u001b[36m                    test/mean_cos                     \u001b[0m\u001b[36m \u001b[0m│\u001b[35m \u001b[0m\u001b[35m                  0.9030303955078125                  \u001b[0m\u001b[35m \u001b[0m│\n",
       "│\u001b[36m \u001b[0m\u001b[36m                     test/mean_f1                     \u001b[0m\u001b[36m \u001b[0m│\u001b[35m \u001b[0m\u001b[35m                  0.9077176451683044                  \u001b[0m\u001b[35m \u001b[0m│\n",
       "│\u001b[36m \u001b[0m\u001b[36m                  test/mean_jaccard                   \u001b[0m\u001b[36m \u001b[0m│\u001b[35m \u001b[0m\u001b[35m                  0.8319511413574219                  \u001b[0m\u001b[35m \u001b[0m│\n",
       "│\u001b[36m \u001b[0m\u001b[36m                 test/mean_mean_rank                  \u001b[0m\u001b[36m \u001b[0m│\u001b[35m \u001b[0m\u001b[35m                     1.388671875                      \u001b[0m\u001b[35m \u001b[0m│\n",
       "│\u001b[36m \u001b[0m\u001b[36m                  test/mean_neg_loss                  \u001b[0m\u001b[36m \u001b[0m│\u001b[35m \u001b[0m\u001b[35m                 0.003288800595328212                 \u001b[0m\u001b[35m \u001b[0m│\n",
       "│\u001b[36m \u001b[0m\u001b[36m                  test/mean_pos_loss                  \u001b[0m\u001b[36m \u001b[0m│\u001b[35m \u001b[0m\u001b[35m                 0.008663536980748177                 \u001b[0m\u001b[35m \u001b[0m│\n",
       "│\u001b[36m \u001b[0m\u001b[36m                test/mean_pos_neg_loss                \u001b[0m\u001b[36m \u001b[0m│\u001b[35m \u001b[0m\u001b[35m                 0.011952337808907032                 \u001b[0m\u001b[35m \u001b[0m│\n",
       "│\u001b[36m \u001b[0m\u001b[36m                 test/mean_precision                  \u001b[0m\u001b[36m \u001b[0m│\u001b[35m \u001b[0m\u001b[35m                  0.9420560002326965                  \u001b[0m\u001b[35m \u001b[0m│\n",
       "│\u001b[36m \u001b[0m\u001b[36m                   test/mean_rank_1                   \u001b[0m\u001b[36m \u001b[0m│\u001b[35m \u001b[0m\u001b[35m                     0.947265625                      \u001b[0m\u001b[35m \u001b[0m│\n",
       "│\u001b[36m \u001b[0m\u001b[36m                  test/mean_rank_10                   \u001b[0m\u001b[36m \u001b[0m│\u001b[35m \u001b[0m\u001b[35m                    0.994873046875                    \u001b[0m\u001b[35m \u001b[0m│\n",
       "│\u001b[36m \u001b[0m\u001b[36m                   test/mean_rank_5                   \u001b[0m\u001b[36m \u001b[0m│\u001b[35m \u001b[0m\u001b[35m                    0.99365234375                     \u001b[0m\u001b[35m \u001b[0m│\n",
       "│\u001b[36m \u001b[0m\u001b[36m                   test/mean_recall                   \u001b[0m\u001b[36m \u001b[0m│\u001b[35m \u001b[0m\u001b[35m                  0.8759701251983643                  \u001b[0m\u001b[35m \u001b[0m│\n",
       "│\u001b[36m \u001b[0m\u001b[36m       test/rank_1_of_NP_class/Alkylresorcinols       \u001b[0m\u001b[36m \u001b[0m│\u001b[35m \u001b[0m\u001b[35m                         1.0                          \u001b[0m\u001b[35m \u001b[0m│\n",
       "│\u001b[36m \u001b[0m\u001b[36m    test/rank_1_of_NP_class/Amino acid glycosides     \u001b[0m\u001b[36m \u001b[0m│\u001b[35m \u001b[0m\u001b[35m                         1.0                          \u001b[0m\u001b[35m \u001b[0m│\n",
       "│\u001b[36m \u001b[0m\u001b[36m       test/rank_1_of_NP_class/Aminosugars and        \u001b[0m\u001b[36m \u001b[0m│\u001b[35m \u001b[0m\u001b[35m                         1.0                          \u001b[0m\u001b[35m \u001b[0m│\n",
       "│\u001b[36m \u001b[0m\u001b[36m                   aminoglycosides                    \u001b[0m\u001b[36m \u001b[0m│\u001b[35m                                                        \u001b[0m│\n",
       "│\u001b[36m \u001b[0m\u001b[36m  test/rank_1_of_NP_class/Anthranilic acid alkaloids  \u001b[0m\u001b[36m \u001b[0m│\u001b[35m \u001b[0m\u001b[35m                        0.9375                        \u001b[0m\u001b[35m \u001b[0m│\n",
       "│\u001b[36m \u001b[0m\u001b[36m        test/rank_1_of_NP_class/Apocarotenoids        \u001b[0m\u001b[36m \u001b[0m│\u001b[35m \u001b[0m\u001b[35m                         1.0                          \u001b[0m\u001b[35m \u001b[0m│\n",
       "│\u001b[36m \u001b[0m\u001b[36m     test/rank_1_of_NP_class/Aromatic polyketides     \u001b[0m\u001b[36m \u001b[0m│\u001b[35m \u001b[0m\u001b[35m                  0.9215686321258545                  \u001b[0m\u001b[35m \u001b[0m│\n",
       "│\u001b[36m \u001b[0m\u001b[36m      test/rank_1_of_NP_class/Carotenoids (C40)       \u001b[0m\u001b[36m \u001b[0m│\u001b[35m \u001b[0m\u001b[35m                         1.0                          \u001b[0m\u001b[35m \u001b[0m│\n",
       "│\u001b[36m \u001b[0m\u001b[36m      test/rank_1_of_NP_class/Carotenoids (C50)       \u001b[0m\u001b[36m \u001b[0m│\u001b[35m \u001b[0m\u001b[35m                         1.0                          \u001b[0m\u001b[35m \u001b[0m│\n",
       "│\u001b[36m \u001b[0m\u001b[36m          test/rank_1_of_NP_class/Chromanes           \u001b[0m\u001b[36m \u001b[0m│\u001b[35m \u001b[0m\u001b[35m                         1.0                          \u001b[0m\u001b[35m \u001b[0m│\n",
       "│\u001b[36m \u001b[0m\u001b[36m          test/rank_1_of_NP_class/Coumarins           \u001b[0m\u001b[36m \u001b[0m│\u001b[35m \u001b[0m\u001b[35m                  0.9666666388511658                  \u001b[0m\u001b[35m \u001b[0m│\n",
       "│\u001b[36m \u001b[0m\u001b[36m      test/rank_1_of_NP_class/Cyclic polyketides      \u001b[0m\u001b[36m \u001b[0m│\u001b[35m \u001b[0m\u001b[35m                  0.9622641801834106                  \u001b[0m\u001b[35m \u001b[0m│\n",
       "│\u001b[36m \u001b[0m\u001b[36m       test/rank_1_of_NP_class/Diarylheptanoids       \u001b[0m\u001b[36m \u001b[0m│\u001b[35m \u001b[0m\u001b[35m                         1.0                          \u001b[0m\u001b[35m \u001b[0m│\n",
       "│\u001b[36m \u001b[0m\u001b[36m   test/rank_1_of_NP_class/Diazotetronic acids and    \u001b[0m\u001b[36m \u001b[0m│\u001b[35m \u001b[0m\u001b[35m                  0.800000011920929                   \u001b[0m\u001b[35m \u001b[0m│\n",
       "│\u001b[36m \u001b[0m\u001b[36m                     derivatives                      \u001b[0m\u001b[36m \u001b[0m│\u001b[35m                                                        \u001b[0m│\n",
       "│\u001b[36m \u001b[0m\u001b[36m    test/rank_1_of_NP_class/Diphenyl ethers (DPEs)    \u001b[0m\u001b[36m \u001b[0m│\u001b[35m \u001b[0m\u001b[35m                         1.0                          \u001b[0m\u001b[35m \u001b[0m│\n",
       "│\u001b[36m \u001b[0m\u001b[36m         test/rank_1_of_NP_class/Diterpenoids         \u001b[0m\u001b[36m \u001b[0m│\u001b[35m \u001b[0m\u001b[35m                  0.9672489166259766                  \u001b[0m\u001b[35m \u001b[0m│\n",
       "│\u001b[36m \u001b[0m\u001b[36m         test/rank_1_of_NP_class/Docosanoids          \u001b[0m\u001b[36m \u001b[0m│\u001b[35m \u001b[0m\u001b[35m                         1.0                          \u001b[0m\u001b[35m \u001b[0m│\n",
       "│\u001b[36m \u001b[0m\u001b[36m         test/rank_1_of_NP_class/Eicosanoids          \u001b[0m\u001b[36m \u001b[0m│\u001b[35m \u001b[0m\u001b[35m                  0.9166666865348816                  \u001b[0m\u001b[35m \u001b[0m│\n",
       "│\u001b[36m \u001b[0m\u001b[36m  test/rank_1_of_NP_class/Fatty Acids and Conjugates  \u001b[0m\u001b[36m \u001b[0m│\u001b[35m \u001b[0m\u001b[35m                  0.7916666865348816                  \u001b[0m\u001b[35m \u001b[0m│\n",
       "│\u001b[36m \u001b[0m\u001b[36m    test/rank_1_of_NP_class/Fatty acyl glycosides     \u001b[0m\u001b[36m \u001b[0m│\u001b[35m \u001b[0m\u001b[35m                         1.0                          \u001b[0m\u001b[35m \u001b[0m│\n",
       "│\u001b[36m \u001b[0m\u001b[36m         test/rank_1_of_NP_class/Fatty acyls          \u001b[0m\u001b[36m \u001b[0m│\u001b[35m \u001b[0m\u001b[35m                  0.978723406791687                   \u001b[0m\u001b[35m \u001b[0m│\n",
       "│\u001b[36m \u001b[0m\u001b[36m         test/rank_1_of_NP_class/Fatty amides         \u001b[0m\u001b[36m \u001b[0m│\u001b[35m \u001b[0m\u001b[35m                         1.0                          \u001b[0m\u001b[35m \u001b[0m│\n",
       "│\u001b[36m \u001b[0m\u001b[36m         test/rank_1_of_NP_class/Fatty esters         \u001b[0m\u001b[36m \u001b[0m│\u001b[35m \u001b[0m\u001b[35m                  0.9444444179534912                  \u001b[0m\u001b[35m \u001b[0m│\n",
       "│\u001b[36m \u001b[0m\u001b[36m          test/rank_1_of_NP_class/Flavonoids          \u001b[0m\u001b[36m \u001b[0m│\u001b[35m \u001b[0m\u001b[35m                  0.9723076820373535                  \u001b[0m\u001b[35m \u001b[0m│\n",
       "│\u001b[36m \u001b[0m\u001b[36m        test/rank_1_of_NP_class/Glycerolipids         \u001b[0m\u001b[36m \u001b[0m│\u001b[35m \u001b[0m\u001b[35m                  0.7857142686843872                  \u001b[0m\u001b[35m \u001b[0m│\n",
       "│\u001b[36m \u001b[0m\u001b[36m     test/rank_1_of_NP_class/Glycerophospholipids     \u001b[0m\u001b[36m \u001b[0m│\u001b[35m \u001b[0m\u001b[35m                         1.0                          \u001b[0m\u001b[35m \u001b[0m│\n",
       "│\u001b[36m \u001b[0m\u001b[36m     test/rank_1_of_NP_class/Guanidine alkaloids      \u001b[0m\u001b[36m \u001b[0m│\u001b[35m \u001b[0m\u001b[35m                         1.0                          \u001b[0m\u001b[35m \u001b[0m│\n",
       "│\u001b[36m \u001b[0m\u001b[36m     test/rank_1_of_NP_class/Histidine alkaloids      \u001b[0m\u001b[36m \u001b[0m│\u001b[35m \u001b[0m\u001b[35m                  0.8333333134651184                  \u001b[0m\u001b[35m \u001b[0m│\n",
       "│\u001b[36m \u001b[0m\u001b[36m        test/rank_1_of_NP_class/Isoflavonoids         \u001b[0m\u001b[36m \u001b[0m│\u001b[35m \u001b[0m\u001b[35m                         1.0                          \u001b[0m\u001b[35m \u001b[0m│\n",
       "│\u001b[36m \u001b[0m\u001b[36m           test/rank_1_of_NP_class/Lignans            \u001b[0m\u001b[36m \u001b[0m│\u001b[35m \u001b[0m\u001b[35m                  0.9252336621284485                  \u001b[0m\u001b[35m \u001b[0m│\n",
       "│\u001b[36m \u001b[0m\u001b[36m      test/rank_1_of_NP_class/Linear polyketides      \u001b[0m\u001b[36m \u001b[0m│\u001b[35m \u001b[0m\u001b[35m                  0.8292682766914368                  \u001b[0m\u001b[35m \u001b[0m│\n",
       "│\u001b[36m \u001b[0m\u001b[36m       test/rank_1_of_NP_class/Lysine alkaloids       \u001b[0m\u001b[36m \u001b[0m│\u001b[35m \u001b[0m\u001b[35m                  0.9459459185600281                  \u001b[0m\u001b[35m \u001b[0m│\n",
       "│\u001b[36m \u001b[0m\u001b[36m          test/rank_1_of_NP_class/Macrolides          \u001b[0m\u001b[36m \u001b[0m│\u001b[35m \u001b[0m\u001b[35m                  0.9333333373069763                  \u001b[0m\u001b[35m \u001b[0m│\n",
       "│\u001b[36m \u001b[0m\u001b[36m        test/rank_1_of_NP_class/Meroterpenoids        \u001b[0m\u001b[36m \u001b[0m│\u001b[35m \u001b[0m\u001b[35m                  0.9714285731315613                  \u001b[0m\u001b[35m \u001b[0m│\n",
       "│\u001b[36m \u001b[0m\u001b[36m  test/rank_1_of_NP_class/Miscellaneous polyketides   \u001b[0m\u001b[36m \u001b[0m│\u001b[35m \u001b[0m\u001b[35m                         1.0                          \u001b[0m\u001b[35m \u001b[0m│\n",
       "│\u001b[36m \u001b[0m\u001b[36m        test/rank_1_of_NP_class/Monoterpenoids        \u001b[0m\u001b[36m \u001b[0m│\u001b[35m \u001b[0m\u001b[35m                  0.9469026327133179                  \u001b[0m\u001b[35m \u001b[0m│\n",
       "│\u001b[36m \u001b[0m\u001b[36m         test/rank_1_of_NP_class/Naphthalenes         \u001b[0m\u001b[36m \u001b[0m│\u001b[35m \u001b[0m\u001b[35m                  0.9750000238418579                  \u001b[0m\u001b[35m \u001b[0m│\n",
       "│\u001b[36m \u001b[0m\u001b[36m   test/rank_1_of_NP_class/Nicotinic acid alkaloids   \u001b[0m\u001b[36m \u001b[0m│\u001b[35m \u001b[0m\u001b[35m                  0.8275862336158752                  \u001b[0m\u001b[35m \u001b[0m│\n",
       "│\u001b[36m \u001b[0m\u001b[36m         test/rank_1_of_NP_class/Nucleosides          \u001b[0m\u001b[36m \u001b[0m│\u001b[35m \u001b[0m\u001b[35m                         1.0                          \u001b[0m\u001b[35m \u001b[0m│\n",
       "│\u001b[36m \u001b[0m\u001b[36m        test/rank_1_of_NP_class/Octadecanoids         \u001b[0m\u001b[36m \u001b[0m│\u001b[35m \u001b[0m\u001b[35m                         1.0                          \u001b[0m\u001b[35m \u001b[0m│\n",
       "│\u001b[36m \u001b[0m\u001b[36m        test/rank_1_of_NP_class/Oligopeptides         \u001b[0m\u001b[36m \u001b[0m│\u001b[35m \u001b[0m\u001b[35m                  0.9366196990013123                  \u001b[0m\u001b[35m \u001b[0m│\n",
       "│\u001b[36m \u001b[0m\u001b[36m     test/rank_1_of_NP_class/Ornithine alkaloids      \u001b[0m\u001b[36m \u001b[0m│\u001b[35m \u001b[0m\u001b[35m                         1.0                          \u001b[0m\u001b[35m \u001b[0m│\n",
       "│\u001b[36m \u001b[0m\u001b[36m      test/rank_1_of_NP_class/Peptide alkaloids       \u001b[0m\u001b[36m \u001b[0m│\u001b[35m \u001b[0m\u001b[35m                  0.9142857193946838                  \u001b[0m\u001b[35m \u001b[0m│\n",
       "│\u001b[36m \u001b[0m\u001b[36m       test/rank_1_of_NP_class/Phenanthrenoids        \u001b[0m\u001b[36m \u001b[0m│\u001b[35m \u001b[0m\u001b[35m                         1.0                          \u001b[0m\u001b[35m \u001b[0m│\n",
       "│\u001b[36m \u001b[0m\u001b[36m    test/rank_1_of_NP_class/Phenolic acids (C6-C1)    \u001b[0m\u001b[36m \u001b[0m│\u001b[35m \u001b[0m\u001b[35m                  0.9473684430122375                  \u001b[0m\u001b[35m \u001b[0m│\n",
       "│\u001b[36m \u001b[0m\u001b[36m   test/rank_1_of_NP_class/Phenylethanoids (C6-C2)    \u001b[0m\u001b[36m \u001b[0m│\u001b[35m \u001b[0m\u001b[35m                  0.8888888955116272                  \u001b[0m\u001b[35m \u001b[0m│\n",
       "│\u001b[36m \u001b[0m\u001b[36m   test/rank_1_of_NP_class/Phenylpropanoids (C6-C3)   \u001b[0m\u001b[36m \u001b[0m│\u001b[35m \u001b[0m\u001b[35m                  0.9591836929321289                  \u001b[0m\u001b[35m \u001b[0m│\n",
       "│\u001b[36m \u001b[0m\u001b[36m       test/rank_1_of_NP_class/Phloroglucinols        \u001b[0m\u001b[36m \u001b[0m│\u001b[35m \u001b[0m\u001b[35m                  0.8799999952316284                  \u001b[0m\u001b[35m \u001b[0m│\n",
       "│\u001b[36m \u001b[0m\u001b[36m     test/rank_1_of_NP_class/Polycyclic aromatic      \u001b[0m\u001b[36m \u001b[0m│\u001b[35m \u001b[0m\u001b[35m                         1.0                          \u001b[0m\u001b[35m \u001b[0m│\n",
       "│\u001b[36m \u001b[0m\u001b[36m                     polyketides                      \u001b[0m\u001b[36m \u001b[0m│\u001b[35m                                                        \u001b[0m│\n",
       "│\u001b[36m \u001b[0m\u001b[36m          test/rank_1_of_NP_class/Polyethers          \u001b[0m\u001b[36m \u001b[0m│\u001b[35m \u001b[0m\u001b[35m                  0.800000011920929                   \u001b[0m\u001b[35m \u001b[0m│\n",
       "│\u001b[36m \u001b[0m\u001b[36m           test/rank_1_of_NP_class/Polyols            \u001b[0m\u001b[36m \u001b[0m│\u001b[35m \u001b[0m\u001b[35m                         1.0                          \u001b[0m\u001b[35m \u001b[0m│\n",
       "│\u001b[36m \u001b[0m\u001b[36m         test/rank_1_of_NP_class/Polyprenols          \u001b[0m\u001b[36m \u001b[0m│\u001b[35m \u001b[0m\u001b[35m                         1.0                          \u001b[0m\u001b[35m \u001b[0m│\n",
       "│\u001b[36m \u001b[0m\u001b[36m      test/rank_1_of_NP_class/Proline alkaloids       \u001b[0m\u001b[36m \u001b[0m│\u001b[35m \u001b[0m\u001b[35m                         0.5                          \u001b[0m\u001b[35m \u001b[0m│\n",
       "│\u001b[36m \u001b[0m\u001b[36m       test/rank_1_of_NP_class/Pseudoalkaloids        \u001b[0m\u001b[36m \u001b[0m│\u001b[35m \u001b[0m\u001b[35m                  0.931034505367279                   \u001b[0m\u001b[35m \u001b[0m│\n",
       "│\u001b[36m \u001b[0m\u001b[36m         test/rank_1_of_NP_class/Saccharides          \u001b[0m\u001b[36m \u001b[0m│\u001b[35m \u001b[0m\u001b[35m                  0.8999999761581421                  \u001b[0m\u001b[35m \u001b[0m│\n",
       "│\u001b[36m \u001b[0m\u001b[36m       test/rank_1_of_NP_class/Serine alkaloids       \u001b[0m\u001b[36m \u001b[0m│\u001b[35m \u001b[0m\u001b[35m                         1.0                          \u001b[0m\u001b[35m \u001b[0m│\n",
       "│\u001b[36m \u001b[0m\u001b[36m       test/rank_1_of_NP_class/Sesquiterpenoids       \u001b[0m\u001b[36m \u001b[0m│\u001b[35m \u001b[0m\u001b[35m                  0.9810298085212708                  \u001b[0m\u001b[35m \u001b[0m│\n",
       "│\u001b[36m \u001b[0m\u001b[36m       test/rank_1_of_NP_class/Sesterterpenoids       \u001b[0m\u001b[36m \u001b[0m│\u001b[35m \u001b[0m\u001b[35m                  0.9677419066429138                  \u001b[0m\u001b[35m \u001b[0m│\n",
       "│\u001b[36m \u001b[0m\u001b[36m        test/rank_1_of_NP_class/Small peptides        \u001b[0m\u001b[36m \u001b[0m│\u001b[35m \u001b[0m\u001b[35m                  0.9200000166893005                  \u001b[0m\u001b[35m \u001b[0m│\n",
       "│\u001b[36m \u001b[0m\u001b[36m        test/rank_1_of_NP_class/Sphingolipids         \u001b[0m\u001b[36m \u001b[0m│\u001b[35m \u001b[0m\u001b[35m                  0.8947368264198303                  \u001b[0m\u001b[35m \u001b[0m│\n",
       "│\u001b[36m \u001b[0m\u001b[36m           test/rank_1_of_NP_class/Steroids           \u001b[0m\u001b[36m \u001b[0m│\u001b[35m \u001b[0m\u001b[35m                  0.9720670580863953                  \u001b[0m\u001b[35m \u001b[0m│\n",
       "│\u001b[36m \u001b[0m\u001b[36m         test/rank_1_of_NP_class/Stilbenoids          \u001b[0m\u001b[36m \u001b[0m│\u001b[35m \u001b[0m\u001b[35m                  0.9259259104728699                  \u001b[0m\u001b[35m \u001b[0m│\n",
       "│\u001b[36m \u001b[0m\u001b[36m        test/rank_1_of_NP_class/Styrylpyrones         \u001b[0m\u001b[36m \u001b[0m│\u001b[35m \u001b[0m\u001b[35m                  0.8333333134651184                  \u001b[0m\u001b[35m \u001b[0m│\n",
       "│\u001b[36m \u001b[0m\u001b[36m          test/rank_1_of_NP_class/Terphenyls          \u001b[0m\u001b[36m \u001b[0m│\u001b[35m \u001b[0m\u001b[35m                         1.0                          \u001b[0m\u001b[35m \u001b[0m│\n",
       "│\u001b[36m \u001b[0m\u001b[36m     test/rank_1_of_NP_class/Tetramate alkaloids      \u001b[0m\u001b[36m \u001b[0m│\u001b[35m \u001b[0m\u001b[35m                         1.0                          \u001b[0m\u001b[35m \u001b[0m│\n",
       "│\u001b[36m \u001b[0m\u001b[36m        test/rank_1_of_NP_class/Triterpenoids         \u001b[0m\u001b[36m \u001b[0m│\u001b[35m \u001b[0m\u001b[35m                  0.979411780834198                   \u001b[0m\u001b[35m \u001b[0m│\n",
       "│\u001b[36m \u001b[0m\u001b[36m     test/rank_1_of_NP_class/Tryptophan alkaloids     \u001b[0m\u001b[36m \u001b[0m│\u001b[35m \u001b[0m\u001b[35m                  0.8850574493408203                  \u001b[0m\u001b[35m \u001b[0m│\n",
       "│\u001b[36m \u001b[0m\u001b[36m      test/rank_1_of_NP_class/Tyrosine alkaloids      \u001b[0m\u001b[36m \u001b[0m│\u001b[35m \u001b[0m\u001b[35m                  0.8720930218696594                  \u001b[0m\u001b[35m \u001b[0m│\n",
       "│\u001b[36m \u001b[0m\u001b[36m          test/rank_1_of_NP_class/Xanthones           \u001b[0m\u001b[36m \u001b[0m│\u001b[35m \u001b[0m\u001b[35m                         1.0                          \u001b[0m\u001b[35m \u001b[0m│\n",
       "│\u001b[36m \u001b[0m\u001b[36m           test/rank_1_of_NP_class/unknown            \u001b[0m\u001b[36m \u001b[0m│\u001b[35m \u001b[0m\u001b[35m                  0.9002695679664612                  \u001b[0m\u001b[35m \u001b[0m│\n",
       "│\u001b[36m \u001b[0m\u001b[36m          test/rank_1_of_NP_class/β-lactams           \u001b[0m\u001b[36m \u001b[0m│\u001b[35m \u001b[0m\u001b[35m                         0.75                         \u001b[0m\u001b[35m \u001b[0m│\n",
       "└────────────────────────────────────────────────────────┴────────────────────────────────────────────────────────┘\n"
      ]
     },
     "metadata": {},
     "output_type": "display_data"
    }
   ],
   "source": [
    "result = show_model_performance(model)\n"
   ]
  },
  {
   "cell_type": "code",
   "execution_count": 35,
   "metadata": {},
   "outputs": [
    {
     "data": {
      "text/plain": [
       "[{'test/mean_ce_loss': 0.015217501670122147,\n",
       "  'test/mean_pos_loss': 0.011341625824570656,\n",
       "  'test/mean_neg_loss': 0.003875875845551491,\n",
       "  'test/mean_pos_neg_loss': 0.015217501670122147,\n",
       "  'test/mean_cos': 0.9062198400497437,\n",
       "  'test/mean_jaccard': 0.8406772017478943,\n",
       "  'test/mean_active_bits': 100.24747467041016,\n",
       "  'test/mean_f1': 0.9135006070137024,\n",
       "  'test/mean_precision': 0.9334216117858887,\n",
       "  'test/mean_recall': 0.8945155739784241,\n",
       "  'test/mean_accuracy': 0.9971511960029602,\n",
       "  'test/mean_mean_rank': 0.79052734375,\n",
       "  'test/mean_rank_1': 0.9566243290901184,\n",
       "  'test/mean_rank_5': 0.9890950322151184,\n",
       "  'test/mean_rank_10': 0.9917805790901184,\n",
       "  'test/rank_1_of_NP_class/Saccharides': 0.8999999761581421,\n",
       "  'test/rank_1_of_NP_class/Diterpenoids': 0.9890829920768738,\n",
       "  'test/rank_1_of_NP_class/Monoterpenoids': 0.9469026327133179,\n",
       "  'test/rank_1_of_NP_class/Sesquiterpenoids': 0.9837398529052734,\n",
       "  'test/rank_1_of_NP_class/unknown': 0.8975741267204285,\n",
       "  'test/rank_1_of_NP_class/Coumarins': 0.9666666388511658,\n",
       "  'test/rank_1_of_NP_class/Isoflavonoids': 0.9893617033958435,\n",
       "  'test/rank_1_of_NP_class/Phenolic acids (C6-C1)': 0.9210526347160339,\n",
       "  'test/rank_1_of_NP_class/Macrolides': 0.9200000166893005,\n",
       "  'test/rank_1_of_NP_class/Lignans': 0.9439252614974976,\n",
       "  'test/rank_1_of_NP_class/Tryptophan alkaloids': 0.9195402264595032,\n",
       "  'test/rank_1_of_NP_class/Pseudoalkaloids': 0.9482758641242981,\n",
       "  'test/rank_1_of_NP_class/Oligopeptides': 0.9507042169570923,\n",
       "  'test/rank_1_of_NP_class/Triterpenoids': 0.9882352948188782,\n",
       "  'test/rank_1_of_NP_class/Nicotinic acid alkaloids': 0.931034505367279,\n",
       "  'test/rank_1_of_NP_class/Fatty acyls': 0.914893627166748,\n",
       "  'test/rank_1_of_NP_class/Flavonoids': 0.9784615635871887,\n",
       "  'test/rank_1_of_NP_class/Ornithine alkaloids': 1.0,\n",
       "  'test/rank_1_of_NP_class/Polycyclic aromatic polyketides': 0.9863013625144958,\n",
       "  'test/rank_1_of_NP_class/Cyclic polyketides': 0.9056603908538818,\n",
       "  'test/rank_1_of_NP_class/Phloroglucinols': 0.8799999952316284,\n",
       "  'test/rank_1_of_NP_class/Aromatic polyketides': 0.9411764740943909,\n",
       "  'test/rank_1_of_NP_class/Meroterpenoids': 0.9571428298950195,\n",
       "  'test/rank_1_of_NP_class/Terphenyls': 1.0,\n",
       "  'test/rank_1_of_NP_class/Naphthalenes': 1.0,\n",
       "  'test/rank_1_of_NP_class/Xanthones': 1.0,\n",
       "  'test/rank_1_of_NP_class/Phenanthrenoids': 1.0,\n",
       "  'test/rank_1_of_NP_class/Tyrosine alkaloids': 0.9651162624359131,\n",
       "  'test/rank_1_of_NP_class/Phenylpropanoids (C6-C3)': 0.9795918464660645,\n",
       "  'test/rank_1_of_NP_class/Anthranilic acid alkaloids': 0.90625,\n",
       "  'test/rank_1_of_NP_class/Lysine alkaloids': 0.9459459185600281,\n",
       "  'test/rank_1_of_NP_class/Chromanes': 1.0,\n",
       "  'test/rank_1_of_NP_class/Diarylheptanoids': 1.0,\n",
       "  'test/rank_1_of_NP_class/Linear polyketides': 0.8658536672592163,\n",
       "  'test/rank_1_of_NP_class/Diphenyl ethers (DPEs)': 1.0,\n",
       "  'test/rank_1_of_NP_class/Phenylethanoids (C6-C2)': 1.0,\n",
       "  'test/rank_1_of_NP_class/Histidine alkaloids': 1.0,\n",
       "  'test/rank_1_of_NP_class/Steroids': 0.9888268113136292,\n",
       "  'test/rank_1_of_NP_class/Stilbenoids': 1.0,\n",
       "  'test/rank_1_of_NP_class/Carotenoids (C40)': 0.9696969985961914,\n",
       "  'test/rank_1_of_NP_class/Sesterterpenoids': 0.9354838728904724,\n",
       "  'test/rank_1_of_NP_class/Peptide alkaloids': 0.9714285731315613,\n",
       "  'test/rank_1_of_NP_class/Small peptides': 0.9066666960716248,\n",
       "  'test/rank_1_of_NP_class/Amino acid glycosides': 0.8571428656578064,\n",
       "  'test/rank_1_of_NP_class/Tetramate alkaloids': 1.0,\n",
       "  'test/rank_1_of_NP_class/Nucleosides': 1.0,\n",
       "  'test/rank_1_of_NP_class/Guanidine alkaloids': 0.5,\n",
       "  'test/rank_1_of_NP_class/Proline alkaloids': 1.0,\n",
       "  'test/rank_1_of_NP_class/Aminosugars and aminoglycosides': 0.6666666865348816,\n",
       "  'test/rank_1_of_NP_class/Polyols': 0.8333333134651184,\n",
       "  'test/rank_1_of_NP_class/Fatty amides': 1.0,\n",
       "  'test/rank_1_of_NP_class/Fatty Acids and Conjugates': 0.9166666865348816,\n",
       "  'test/rank_1_of_NP_class/Diazotetronic acids and derivatives': 0.800000011920929,\n",
       "  'test/rank_1_of_NP_class/Styrylpyrones': 1.0,\n",
       "  'test/rank_1_of_NP_class/Fatty esters': 0.8888888955116272,\n",
       "  'test/rank_1_of_NP_class/β-lactams': 0.75,\n",
       "  'test/rank_1_of_NP_class/Miscellaneous polyketides': 1.0,\n",
       "  'test/rank_1_of_NP_class/Polyprenols': 1.0,\n",
       "  'test/rank_1_of_NP_class/Sphingolipids': 0.8947368264198303,\n",
       "  'test/rank_1_of_NP_class/Apocarotenoids': 1.0,\n",
       "  'test/rank_1_of_NP_class/Polyethers': 0.8999999761581421,\n",
       "  'test/rank_1_of_NP_class/Carotenoids (C50)': 1.0,\n",
       "  'test/rank_1_of_NP_class/Serine alkaloids': 1.0,\n",
       "  'test/rank_1_of_NP_class/Alkylresorcinols': 0.75,\n",
       "  'test/rank_1_of_NP_class/Glycerolipids': 0.8571428656578064,\n",
       "  'test/rank_1_of_NP_class/Eicosanoids': 1.0,\n",
       "  'test/rank_1_of_NP_class/Docosanoids': 1.0,\n",
       "  'test/rank_1_of_NP_class/Octadecanoids': 1.0,\n",
       "  'test/rank_1_of_NP_class/Glycerophospholipids': 1.0,\n",
       "  'test/rank_1_of_NP_class/Fatty acyl glycosides': 1.0}]"
      ]
     },
     "execution_count": 35,
     "metadata": {},
     "output_type": "execute_result"
    }
   ],
   "source": [
    "result"
   ]
  },
  {
   "cell_type": "code",
   "execution_count": null,
   "metadata": {},
   "outputs": [],
   "source": []
  },
  {
   "cell_type": "markdown",
   "metadata": {},
   "source": []
  },
  {
   "cell_type": "code",
   "execution_count": null,
   "metadata": {},
   "outputs": [],
   "source": []
  },
  {
   "cell_type": "code",
   "execution_count": null,
   "metadata": {},
   "outputs": [],
   "source": []
  },
  {
   "cell_type": "code",
   "execution_count": null,
   "metadata": {},
   "outputs": [],
   "source": []
  },
  {
   "cell_type": "code",
   "execution_count": 8,
   "metadata": {},
   "outputs": [
    {
     "ename": "FileNotFoundError",
     "evalue": "[Errno 2] No such file or directory: '/root/gurusmart/MorganFP_prediction/reproduce_previous_works/average_3/model_sizes/flexible_384_trail1/hparams.yaml'",
     "output_type": "error",
     "traceback": [
      "\u001b[0;31m---------------------------------------------------------------------------\u001b[0m",
      "\u001b[0;31mFileNotFoundError\u001b[0m                         Traceback (most recent call last)",
      "Cell \u001b[0;32mIn[8], line 10\u001b[0m\n\u001b[1;32m      7\u001b[0m hyperpaerameters_path \u001b[38;5;241m=\u001b[39m model_path \u001b[38;5;241m/\u001b[39m \u001b[38;5;124m\"\u001b[39m\u001b[38;5;124mhparams.yaml\u001b[39m\u001b[38;5;124m\"\u001b[39m\n\u001b[1;32m      9\u001b[0m checkpoint_path \u001b[38;5;241m=\u001b[39m model_path \u001b[38;5;241m/\u001b[39m \u001b[38;5;124m\"\u001b[39m\u001b[38;5;124mcheckpoints/epoch=41-step=35994.ckpt\u001b[39m\u001b[38;5;124m\"\u001b[39m\n\u001b[0;32m---> 10\u001b[0m \u001b[38;5;28;01mwith\u001b[39;00m \u001b[38;5;28;43mopen\u001b[39;49m\u001b[43m(\u001b[49m\u001b[43mhyperpaerameters_path\u001b[49m\u001b[43m,\u001b[49m\u001b[43m \u001b[49m\u001b[38;5;124;43m'\u001b[39;49m\u001b[38;5;124;43mr\u001b[39;49m\u001b[38;5;124;43m'\u001b[39;49m\u001b[43m)\u001b[49m \u001b[38;5;28;01mas\u001b[39;00m file:\n\u001b[1;32m     11\u001b[0m     hparams \u001b[38;5;241m=\u001b[39m yaml\u001b[38;5;241m.\u001b[39msafe_load(file)\n\u001b[1;32m     12\u001b[0m \u001b[38;5;28;01mdel\u001b[39;00m hparams[\u001b[38;5;124m'\u001b[39m\u001b[38;5;124mcheckpoint_path\u001b[39m\u001b[38;5;124m'\u001b[39m] \u001b[38;5;66;03m# prevent double defition of checkpoint_path\u001b[39;00m\n",
      "File \u001b[0;32m/opt/conda/lib/python3.11/site-packages/IPython/core/interactiveshell.py:324\u001b[0m, in \u001b[0;36m_modified_open\u001b[0;34m(file, *args, **kwargs)\u001b[0m\n\u001b[1;32m    317\u001b[0m \u001b[38;5;28;01mif\u001b[39;00m file \u001b[38;5;129;01min\u001b[39;00m {\u001b[38;5;241m0\u001b[39m, \u001b[38;5;241m1\u001b[39m, \u001b[38;5;241m2\u001b[39m}:\n\u001b[1;32m    318\u001b[0m     \u001b[38;5;28;01mraise\u001b[39;00m \u001b[38;5;167;01mValueError\u001b[39;00m(\n\u001b[1;32m    319\u001b[0m         \u001b[38;5;124mf\u001b[39m\u001b[38;5;124m\"\u001b[39m\u001b[38;5;124mIPython won\u001b[39m\u001b[38;5;124m'\u001b[39m\u001b[38;5;124mt let you open fd=\u001b[39m\u001b[38;5;132;01m{\u001b[39;00mfile\u001b[38;5;132;01m}\u001b[39;00m\u001b[38;5;124m by default \u001b[39m\u001b[38;5;124m\"\u001b[39m\n\u001b[1;32m    320\u001b[0m         \u001b[38;5;124m\"\u001b[39m\u001b[38;5;124mas it is likely to crash IPython. If you know what you are doing, \u001b[39m\u001b[38;5;124m\"\u001b[39m\n\u001b[1;32m    321\u001b[0m         \u001b[38;5;124m\"\u001b[39m\u001b[38;5;124myou can use builtins\u001b[39m\u001b[38;5;124m'\u001b[39m\u001b[38;5;124m open.\u001b[39m\u001b[38;5;124m\"\u001b[39m\n\u001b[1;32m    322\u001b[0m     )\n\u001b[0;32m--> 324\u001b[0m \u001b[38;5;28;01mreturn\u001b[39;00m \u001b[43mio_open\u001b[49m\u001b[43m(\u001b[49m\u001b[43mfile\u001b[49m\u001b[43m,\u001b[49m\u001b[43m \u001b[49m\u001b[38;5;241;43m*\u001b[39;49m\u001b[43margs\u001b[49m\u001b[43m,\u001b[49m\u001b[43m \u001b[49m\u001b[38;5;241;43m*\u001b[39;49m\u001b[38;5;241;43m*\u001b[39;49m\u001b[43mkwargs\u001b[49m\u001b[43m)\u001b[49m\n",
      "\u001b[0;31mFileNotFoundError\u001b[0m: [Errno 2] No such file or directory: '/root/gurusmart/MorganFP_prediction/reproduce_previous_works/average_3/model_sizes/flexible_384_trail1/hparams.yaml'"
     ]
    }
   ],
   "source": [
    "# spectra-flexible model\n",
    "# usually not gonna use it because it tests right away after training \n",
    "\n",
    "# load model \n",
    "\n",
    "model_path = Path(\"/root/gurusmart/MorganFP_prediction/reproduce_previous_works/average_3/model_sizes/flexible_384_trail1\")\n",
    "hyperpaerameters_path = model_path / \"hparams.yaml\"\n",
    "\n",
    "checkpoint_path = model_path / \"checkpoints/epoch=41-step=35994.ckpt\"\n",
    "with open(hyperpaerameters_path, 'r') as file:\n",
    "    hparams = yaml.safe_load(file)\n",
    "del hparams['checkpoint_path'] # prevent double defition of checkpoint_path\n",
    "hparams['use_peak_values'] = False\n",
    "\n",
    "model = OptionalInputRankedTransformer.load_from_checkpoint(checkpoint_path, **hparams)\n",
    "model.change_ranker_for_testing()\n",
    "\n",
    "flexible_model_result = trainer.test(model, datamodule)\n"
   ]
  },
  {
   "cell_type": "code",
   "execution_count": null,
   "metadata": {},
   "outputs": [],
   "source": [
    "\n",
    "names = [\"all_inputs\", \"HSQC_H_NMR\", \"HSQC_C_NMR\", \"only_hsqc\", \"only_1d\", \"only_H_NMR\", \"only_C_NMR\"]\n",
    "out_file = \"temp_model_show.txt\"\n",
    "with open(out_file, \"w\") as file:\n",
    "    for name in  names:\n",
    "        file.write(f\"\\n{name:10}: \")\n",
    "        for m in metric_to_focus:\n",
    "            file.write(f\"{m}: {flexible_model_result[0]['test_mean_'+m+'_'+name]:.4f}, \")\n"
   ]
  },
  {
   "cell_type": "code",
   "execution_count": null,
   "metadata": {},
   "outputs": [
    {
     "data": {
      "text/plain": [
       "dict_keys(['test_mean_ce_loss_all_inputs', 'test_mean_pos_loss_all_inputs', 'test_mean_neg_loss_all_inputs', 'test_mean_pos_neg_loss_all_inputs', 'test_mean_cos_all_inputs', 'test_mean_active_bits_all_inputs', 'test_mean_f1_all_inputs', 'test_mean_precision_all_inputs', 'test_mean_recall_all_inputs', 'test_mean_accuracy_all_inputs', 'test_mean_mean_rank_all_inputs', 'test_mean_rank_1_all_inputs', 'test_mean_rank_5_all_inputs', 'test_mean_rank_10_all_inputs', 'test_mean_ce_loss_HSQC_H_NMR', 'test_mean_pos_loss_HSQC_H_NMR', 'test_mean_neg_loss_HSQC_H_NMR', 'test_mean_pos_neg_loss_HSQC_H_NMR', 'test_mean_cos_HSQC_H_NMR', 'test_mean_active_bits_HSQC_H_NMR', 'test_mean_f1_HSQC_H_NMR', 'test_mean_precision_HSQC_H_NMR', 'test_mean_recall_HSQC_H_NMR', 'test_mean_accuracy_HSQC_H_NMR', 'test_mean_mean_rank_HSQC_H_NMR', 'test_mean_rank_1_HSQC_H_NMR', 'test_mean_rank_5_HSQC_H_NMR', 'test_mean_rank_10_HSQC_H_NMR', 'test_mean_ce_loss_HSQC_C_NMR', 'test_mean_pos_loss_HSQC_C_NMR', 'test_mean_neg_loss_HSQC_C_NMR', 'test_mean_pos_neg_loss_HSQC_C_NMR', 'test_mean_cos_HSQC_C_NMR', 'test_mean_active_bits_HSQC_C_NMR', 'test_mean_f1_HSQC_C_NMR', 'test_mean_precision_HSQC_C_NMR', 'test_mean_recall_HSQC_C_NMR', 'test_mean_accuracy_HSQC_C_NMR', 'test_mean_mean_rank_HSQC_C_NMR', 'test_mean_rank_1_HSQC_C_NMR', 'test_mean_rank_5_HSQC_C_NMR', 'test_mean_rank_10_HSQC_C_NMR', 'test_mean_ce_loss_only_hsqc', 'test_mean_pos_loss_only_hsqc', 'test_mean_neg_loss_only_hsqc', 'test_mean_pos_neg_loss_only_hsqc', 'test_mean_cos_only_hsqc', 'test_mean_active_bits_only_hsqc', 'test_mean_f1_only_hsqc', 'test_mean_precision_only_hsqc', 'test_mean_recall_only_hsqc', 'test_mean_accuracy_only_hsqc', 'test_mean_mean_rank_only_hsqc', 'test_mean_rank_1_only_hsqc', 'test_mean_rank_5_only_hsqc', 'test_mean_rank_10_only_hsqc', 'test_mean_ce_loss_only_1d', 'test_mean_pos_loss_only_1d', 'test_mean_neg_loss_only_1d', 'test_mean_pos_neg_loss_only_1d', 'test_mean_cos_only_1d', 'test_mean_active_bits_only_1d', 'test_mean_f1_only_1d', 'test_mean_precision_only_1d', 'test_mean_recall_only_1d', 'test_mean_accuracy_only_1d', 'test_mean_mean_rank_only_1d', 'test_mean_rank_1_only_1d', 'test_mean_rank_5_only_1d', 'test_mean_rank_10_only_1d', 'test_mean_ce_loss_only_H_NMR', 'test_mean_pos_loss_only_H_NMR', 'test_mean_neg_loss_only_H_NMR', 'test_mean_pos_neg_loss_only_H_NMR', 'test_mean_cos_only_H_NMR', 'test_mean_active_bits_only_H_NMR', 'test_mean_f1_only_H_NMR', 'test_mean_precision_only_H_NMR', 'test_mean_recall_only_H_NMR', 'test_mean_accuracy_only_H_NMR', 'test_mean_mean_rank_only_H_NMR', 'test_mean_rank_1_only_H_NMR', 'test_mean_rank_5_only_H_NMR', 'test_mean_rank_10_only_H_NMR', 'test_mean_ce_loss_only_C_NMR', 'test_mean_pos_loss_only_C_NMR', 'test_mean_neg_loss_only_C_NMR', 'test_mean_pos_neg_loss_only_C_NMR', 'test_mean_cos_only_C_NMR', 'test_mean_active_bits_only_C_NMR', 'test_mean_f1_only_C_NMR', 'test_mean_precision_only_C_NMR', 'test_mean_recall_only_C_NMR', 'test_mean_accuracy_only_C_NMR', 'test_mean_mean_rank_only_C_NMR', 'test_mean_rank_1_only_C_NMR', 'test_mean_rank_5_only_C_NMR', 'test_mean_rank_10_only_C_NMR'])"
      ]
     },
     "execution_count": 44,
     "metadata": {},
     "output_type": "execute_result"
    }
   ],
   "source": [
    "flexible_model_result[0] .keys()    \n"
   ]
  },
  {
   "cell_type": "code",
   "execution_count": null,
   "metadata": {},
   "outputs": [],
   "source": []
  }
 ],
 "metadata": {
  "kernelspec": {
   "display_name": "base",
   "language": "python",
   "name": "python3"
  },
  "language_info": {
   "codemirror_mode": {
    "name": "ipython",
    "version": 3
   },
   "file_extension": ".py",
   "mimetype": "text/x-python",
   "name": "python",
   "nbconvert_exporter": "python",
   "pygments_lexer": "ipython3",
   "version": "3.11.10"
  }
 },
 "nbformat": 4,
 "nbformat_minor": 2
}
