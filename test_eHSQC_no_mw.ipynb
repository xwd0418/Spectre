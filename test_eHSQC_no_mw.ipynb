{
 "cells": [
  {
   "cell_type": "code",
   "execution_count": 1,
   "metadata": {},
   "outputs": [],
   "source": [
    "%load_ext autoreload\n",
    "%autoreload 2\n",
    "\n",
    "from pathlib import Path\n",
    "import torch\n",
    "torch.set_printoptions(precision=10)\n",
    "\n",
    "from pytorch_lightning import Trainer\n",
    "from models.ranked_transformer import HsqcRankedTransformer\n",
    "\n",
    "from models.optional_input_ranked_transformer import OptionalInputRankedTransformer\n",
    "from datasets.oneD_dataset import OneDDataModule\n",
    "from datasets.hsqc_folder_dataset import FolderDataModule\n",
    "\n",
    "from datasets.optional_2d_folder_dataset import OptionalInputDataModule\n",
    "import yaml\n",
    "from pytorch_lightning.loggers import TensorBoardLogger\n",
    "torch.set_float32_matmul_precision('medium')"
   ]
  },
  {
   "cell_type": "code",
   "execution_count": 2,
   "metadata": {},
   "outputs": [],
   "source": [
    "import warnings\n",
    "warnings.filterwarnings(\"ignore\", category=FutureWarning, message=\"You are using `torch.load` with `weights_only=False`\")\n",
    "warnings.filterwarnings(\"ignore\", category=UserWarning, message=\"The PyTorch API of nested tensors is in prototype stage and will change in the near future.\")\n"
   ]
  },
  {
   "cell_type": "code",
   "execution_count": 3,
   "metadata": {},
   "outputs": [
    {
     "name": "stdout",
     "output_type": "stream",
     "text": [
      "choosing Hash_Entropy_FP_loader\n"
     ]
    }
   ],
   "source": [
    "from datasets.dataset_utils import  fp_loader_configer\n",
    "fp_loader_configer.select_version(\"Hash_Entropy\")  #(\"MFP_Specific_Radius\")\n",
    "fp_loader = fp_loader_configer.fp_loader\n"
   ]
  },
  {
   "cell_type": "markdown",
   "metadata": {},
   "source": [
    "Here we compare models' performance over 7 kinds of inputs\n"
   ]
  },
  {
   "cell_type": "code",
   "execution_count": 4,
   "metadata": {},
   "outputs": [
    {
     "name": "stdout",
     "output_type": "stream",
     "text": [
      "finish entropy list\n",
      "Hash_Entropy_FP_loader is setup, out_dim=16384, max_radius=6\n"
     ]
    }
   ],
   "source": [
    "# load model \n",
    "\n",
    "# checkpoint_path = Path(\"/root/gurusmart/MorganFP_prediction/reproduce_previous_works/stable_argsort/flexible_models_best_FP/r0_r2_FP_trial_1/checkpoints/epoch=32-all_inputs.ckpt\")\n",
    "checkpoint_path = Path(\"/root/gurusmart/MorganFP_prediction/reproduce_previous_works/more_specialized_models/train_on_all_data_possible_with_jittering/no_mw_only_hsqc_trial_2/checkpoints/epoch=132-step=17290.ckpt\")\n",
    "\n",
    "model_path = checkpoint_path.parents[1]\n",
    "\n",
    "\n",
    "hyperpaerameters_path = model_path / \"hparams.yaml\"\n",
    "\n",
    "with open(hyperpaerameters_path, 'r') as file:\n",
    "    hparams = yaml.safe_load(file)\n",
    "    \n",
    "FP_building_type = hparams['FP_building_type'].split(\"_\")[-1]\n",
    "# only_2d = not hparams['use_oneD_NMR_no_solvent']\n",
    "\n",
    "radius = int(hparams['FP_choice'].split(\"_\")[-1])\n",
    "fp_loader.setup(out_dim=hparams['out_dim'], max_radius=radius)\n",
    "\n",
    "\n",
    "del hparams['checkpoint_path'] # prevent double defition of checkpoint_path\n",
    "# hparams['use_peak_values'] = False\n",
    "\n",
    "\n"
   ]
  },
  {
   "cell_type": "code",
   "execution_count": 25,
   "metadata": {},
   "outputs": [
    {
     "name": "stderr",
     "output_type": "stream",
     "text": [
      "Trainer will use only 1 of 2 GPUs because it is running inside an interactive / notebook environment. You may try to set `Trainer(devices=2)` but please note that multi-GPU inside interactive / notebook environments is considered experimental and unstable. Your mileage may vary.\n",
      "GPU available: True (cuda), used: True\n",
      "TPU available: False, using: 0 TPU cores\n",
      "HPU available: False, using: 0 HPUs\n",
      "Initialized SignCoordinateEncoder[784] with dims [365, 365, 54] and 2 positional encoders. 54 bits are reserved for encoding the final bit\n"
     ]
    },
    {
     "name": "stdout",
     "output_type": "stream",
     "text": [
      "HsqcRankedTransformer saving args\n",
      "loading /root/gurusmart/MorganFP_prediction/inference_data/inference_rankingset_with_stable_sort/non_collision_FP_rankingset_max_radius_6_dim_16384_stacked_together/FP.pt\n"
     ]
    }
   ],
   "source": [
    "args = hparams\n",
    "datamodule = FolderDataModule(f\"/workspace/SMILES_dataset\", FP_choice=args[\"FP_choice\"], input_src=[\"HSQC\", ], batch_size=2, parser_args=args, fp_loader=fp_loader,) \n",
    "# data_module = data_mux(parser, args[\"modelname\"], args[\"datasrc\"], args[\"FP_choice\"], args[\"bs\"], args[\"ds\"], args)\n",
    "trainer = Trainer( accelerator=\"auto\", accumulate_grad_batches=args[\"accumulate_grad_batches_num\"])\n",
    "model = HsqcRankedTransformer.load_from_checkpoint(checkpoint_path, fp_loader=fp_loader, **hparams)\n",
    "\n",
    "model.setup_ranker()\n"
   ]
  },
  {
   "cell_type": "code",
   "execution_count": 12,
   "metadata": {},
   "outputs": [
    {
     "name": "stderr",
     "output_type": "stream",
     "text": [
      "LOCAL_RANK: 0 - CUDA_VISIBLE_DEVICES: [0,1]\n"
     ]
    },
    {
     "name": "stdout",
     "output_type": "stream",
     "text": [
      "loaded full info indices\n",
      "\n",
      "\n",
      "\n"
     ]
    },
    {
     "data": {
      "application/vnd.jupyter.widget-view+json": {
       "model_id": "bd9cb2690b8343b29f2f41be253a4617",
       "version_major": 2,
       "version_minor": 0
      },
      "text/plain": [
       "Testing: |          | 0/? [00:00<?, ?it/s]"
      ]
     },
     "metadata": {},
     "output_type": "display_data"
    },
    {
     "data": {
      "text/html": [
       "<pre style=\"white-space:pre;overflow-x:auto;line-height:normal;font-family:Menlo,'DejaVu Sans Mono',consolas,'Courier New',monospace\">┏━━━━━━━━━━━━━━━━━━━━━━━━━━━┳━━━━━━━━━━━━━━━━━━━━━━━━━━━┓\n",
       "┃<span style=\"font-weight: bold\">        Test metric        </span>┃<span style=\"font-weight: bold\">       DataLoader 0        </span>┃\n",
       "┡━━━━━━━━━━━━━━━━━━━━━━━━━━━╇━━━━━━━━━━━━━━━━━━━━━━━━━━━┩\n",
       "│<span style=\"color: #008080; text-decoration-color: #008080\">    test/mean_accuracy     </span>│<span style=\"color: #800080; text-decoration-color: #800080\">      0.998291015625       </span>│\n",
       "│<span style=\"color: #008080; text-decoration-color: #008080\">   test/mean_active_bits   </span>│<span style=\"color: #800080; text-decoration-color: #800080\">            2.0            </span>│\n",
       "│<span style=\"color: #008080; text-decoration-color: #008080\">     test/mean_ce_loss     </span>│<span style=\"color: #800080; text-decoration-color: #800080\">   0.015541097149252892    </span>│\n",
       "│<span style=\"color: #008080; text-decoration-color: #008080\">       test/mean_cos       </span>│<span style=\"color: #800080; text-decoration-color: #800080\">            0.0            </span>│\n",
       "│<span style=\"color: #008080; text-decoration-color: #008080\">       test/mean_f1        </span>│<span style=\"color: #800080; text-decoration-color: #800080\">            0.0            </span>│\n",
       "│<span style=\"color: #008080; text-decoration-color: #008080\">     test/mean_jaccard     </span>│<span style=\"color: #800080; text-decoration-color: #800080\">            0.0            </span>│\n",
       "│<span style=\"color: #008080; text-decoration-color: #008080\">    test/mean_mean_rank    </span>│<span style=\"color: #800080; text-decoration-color: #800080\">         275518.0          </span>│\n",
       "│<span style=\"color: #008080; text-decoration-color: #008080\">    test/mean_neg_loss     </span>│<span style=\"color: #800080; text-decoration-color: #800080\">  0.00023753655841574073   </span>│\n",
       "│<span style=\"color: #008080; text-decoration-color: #008080\">    test/mean_pos_loss     </span>│<span style=\"color: #800080; text-decoration-color: #800080\">   0.015303561463952065    </span>│\n",
       "│<span style=\"color: #008080; text-decoration-color: #008080\">  test/mean_pos_neg_loss   </span>│<span style=\"color: #800080; text-decoration-color: #800080\">   0.015541098080575466    </span>│\n",
       "│<span style=\"color: #008080; text-decoration-color: #008080\">    test/mean_precision    </span>│<span style=\"color: #800080; text-decoration-color: #800080\">            0.0            </span>│\n",
       "│<span style=\"color: #008080; text-decoration-color: #008080\">     test/mean_rank_1      </span>│<span style=\"color: #800080; text-decoration-color: #800080\">            0.0            </span>│\n",
       "│<span style=\"color: #008080; text-decoration-color: #008080\">     test/mean_rank_10     </span>│<span style=\"color: #800080; text-decoration-color: #800080\">            0.0            </span>│\n",
       "│<span style=\"color: #008080; text-decoration-color: #008080\">     test/mean_rank_5      </span>│<span style=\"color: #800080; text-decoration-color: #800080\">            0.0            </span>│\n",
       "│<span style=\"color: #008080; text-decoration-color: #008080\">     test/mean_recall      </span>│<span style=\"color: #800080; text-decoration-color: #800080\">            0.0            </span>│\n",
       "└───────────────────────────┴───────────────────────────┘\n",
       "</pre>\n"
      ],
      "text/plain": [
       "┏━━━━━━━━━━━━━━━━━━━━━━━━━━━┳━━━━━━━━━━━━━━━━━━━━━━━━━━━┓\n",
       "┃\u001b[1m \u001b[0m\u001b[1m       Test metric       \u001b[0m\u001b[1m \u001b[0m┃\u001b[1m \u001b[0m\u001b[1m      DataLoader 0       \u001b[0m\u001b[1m \u001b[0m┃\n",
       "┡━━━━━━━━━━━━━━━━━━━━━━━━━━━╇━━━━━━━━━━━━━━━━━━━━━━━━━━━┩\n",
       "│\u001b[36m \u001b[0m\u001b[36m   test/mean_accuracy    \u001b[0m\u001b[36m \u001b[0m│\u001b[35m \u001b[0m\u001b[35m     0.998291015625      \u001b[0m\u001b[35m \u001b[0m│\n",
       "│\u001b[36m \u001b[0m\u001b[36m  test/mean_active_bits  \u001b[0m\u001b[36m \u001b[0m│\u001b[35m \u001b[0m\u001b[35m           2.0           \u001b[0m\u001b[35m \u001b[0m│\n",
       "│\u001b[36m \u001b[0m\u001b[36m    test/mean_ce_loss    \u001b[0m\u001b[36m \u001b[0m│\u001b[35m \u001b[0m\u001b[35m  0.015541097149252892   \u001b[0m\u001b[35m \u001b[0m│\n",
       "│\u001b[36m \u001b[0m\u001b[36m      test/mean_cos      \u001b[0m\u001b[36m \u001b[0m│\u001b[35m \u001b[0m\u001b[35m           0.0           \u001b[0m\u001b[35m \u001b[0m│\n",
       "│\u001b[36m \u001b[0m\u001b[36m      test/mean_f1       \u001b[0m\u001b[36m \u001b[0m│\u001b[35m \u001b[0m\u001b[35m           0.0           \u001b[0m\u001b[35m \u001b[0m│\n",
       "│\u001b[36m \u001b[0m\u001b[36m    test/mean_jaccard    \u001b[0m\u001b[36m \u001b[0m│\u001b[35m \u001b[0m\u001b[35m           0.0           \u001b[0m\u001b[35m \u001b[0m│\n",
       "│\u001b[36m \u001b[0m\u001b[36m   test/mean_mean_rank   \u001b[0m\u001b[36m \u001b[0m│\u001b[35m \u001b[0m\u001b[35m        275518.0         \u001b[0m\u001b[35m \u001b[0m│\n",
       "│\u001b[36m \u001b[0m\u001b[36m   test/mean_neg_loss    \u001b[0m\u001b[36m \u001b[0m│\u001b[35m \u001b[0m\u001b[35m 0.00023753655841574073  \u001b[0m\u001b[35m \u001b[0m│\n",
       "│\u001b[36m \u001b[0m\u001b[36m   test/mean_pos_loss    \u001b[0m\u001b[36m \u001b[0m│\u001b[35m \u001b[0m\u001b[35m  0.015303561463952065   \u001b[0m\u001b[35m \u001b[0m│\n",
       "│\u001b[36m \u001b[0m\u001b[36m test/mean_pos_neg_loss  \u001b[0m\u001b[36m \u001b[0m│\u001b[35m \u001b[0m\u001b[35m  0.015541098080575466   \u001b[0m\u001b[35m \u001b[0m│\n",
       "│\u001b[36m \u001b[0m\u001b[36m   test/mean_precision   \u001b[0m\u001b[36m \u001b[0m│\u001b[35m \u001b[0m\u001b[35m           0.0           \u001b[0m\u001b[35m \u001b[0m│\n",
       "│\u001b[36m \u001b[0m\u001b[36m    test/mean_rank_1     \u001b[0m\u001b[36m \u001b[0m│\u001b[35m \u001b[0m\u001b[35m           0.0           \u001b[0m\u001b[35m \u001b[0m│\n",
       "│\u001b[36m \u001b[0m\u001b[36m    test/mean_rank_10    \u001b[0m\u001b[36m \u001b[0m│\u001b[35m \u001b[0m\u001b[35m           0.0           \u001b[0m\u001b[35m \u001b[0m│\n",
       "│\u001b[36m \u001b[0m\u001b[36m    test/mean_rank_5     \u001b[0m\u001b[36m \u001b[0m│\u001b[35m \u001b[0m\u001b[35m           0.0           \u001b[0m\u001b[35m \u001b[0m│\n",
       "│\u001b[36m \u001b[0m\u001b[36m    test/mean_recall     \u001b[0m\u001b[36m \u001b[0m│\u001b[35m \u001b[0m\u001b[35m           0.0           \u001b[0m\u001b[35m \u001b[0m│\n",
       "└───────────────────────────┴───────────────────────────┘\n"
      ]
     },
     "metadata": {},
     "output_type": "display_data"
    }
   ],
   "source": [
    "test_result = trainer.test(model, datamodule)"
   ]
  },
  {
   "cell_type": "code",
   "execution_count": 26,
   "metadata": {},
   "outputs": [
    {
     "name": "stdout",
     "output_type": "stream",
     "text": [
      "loading /root/gurusmart/MorganFP_prediction/inference_data/inference_rankingset_with_stable_sort/non_collision_FP_rankingset_max_radius_6_dim_16384_stacked_together/FP.pt\n"
     ]
    },
    {
     "name": "stderr",
     "output_type": "stream",
     "text": [
      "GPU available: True (cuda), used: True\n",
      "TPU available: False, using: 0 TPU cores\n",
      "HPU available: False, using: 0 HPUs\n",
      "Restoring states from the checkpoint path at /root/gurusmart/MorganFP_prediction/reproduce_previous_works/more_specialized_models/train_on_all_data_possible_with_jittering/no_mw_only_hsqc_trial_2/checkpoints/epoch=132-step=17290.ckpt\n"
     ]
    },
    {
     "name": "stdout",
     "output_type": "stream",
     "text": [
      "loaded full info indices\n",
      "\n",
      "\n",
      "\n"
     ]
    },
    {
     "name": "stderr",
     "output_type": "stream",
     "text": [
      "LOCAL_RANK: 0 - CUDA_VISIBLE_DEVICES: [0,1]\n",
      "Loaded model weights from the checkpoint at /root/gurusmart/MorganFP_prediction/reproduce_previous_works/more_specialized_models/train_on_all_data_possible_with_jittering/no_mw_only_hsqc_trial_2/checkpoints/epoch=132-step=17290.ckpt\n"
     ]
    },
    {
     "data": {
      "application/vnd.jupyter.widget-view+json": {
       "model_id": "99637396f180441783bcbc03a4d63575",
       "version_major": 2,
       "version_minor": 0
      },
      "text/plain": [
       "Testing: |          | 0/? [00:00<?, ?it/s]"
      ]
     },
     "metadata": {},
     "output_type": "display_data"
    },
    {
     "data": {
      "text/html": [
       "<pre style=\"white-space:pre;overflow-x:auto;line-height:normal;font-family:Menlo,'DejaVu Sans Mono',consolas,'Courier New',monospace\">┏━━━━━━━━━━━━━━━━━━━━━━━━━━━━━━━━━━━━━━━━━━━━━━━━━━━━━━━━┳━━━━━━━━━━━━━━━━━━━━━━━━━━━━━━━━━━━━━━━━━━━━━━━━━━━━━━━━┓\n",
       "┃<span style=\"font-weight: bold\">                      Test metric                       </span>┃<span style=\"font-weight: bold\">                      DataLoader 0                      </span>┃\n",
       "┡━━━━━━━━━━━━━━━━━━━━━━━━━━━━━━━━━━━━━━━━━━━━━━━━━━━━━━━━╇━━━━━━━━━━━━━━━━━━━━━━━━━━━━━━━━━━━━━━━━━━━━━━━━━━━━━━━━┩\n",
       "│<span style=\"color: #008080; text-decoration-color: #008080\">                   test/mean_accuracy                   </span>│<span style=\"color: #800080; text-decoration-color: #800080\">                   0.9965030550956726                   </span>│\n",
       "│<span style=\"color: #008080; text-decoration-color: #008080\">                 test/mean_active_bits                  </span>│<span style=\"color: #800080; text-decoration-color: #800080\">                   6.642751693725586                    </span>│\n",
       "│<span style=\"color: #008080; text-decoration-color: #008080\">                   test/mean_ce_loss                    </span>│<span style=\"color: #800080; text-decoration-color: #800080\">                  0.042543765157461166                  </span>│\n",
       "│<span style=\"color: #008080; text-decoration-color: #008080\">                     test/mean_cos                      </span>│<span style=\"color: #800080; text-decoration-color: #800080\">                  0.07873775064945221                   </span>│\n",
       "│<span style=\"color: #008080; text-decoration-color: #008080\">                      test/mean_f1                      </span>│<span style=\"color: #800080; text-decoration-color: #800080\">                  0.05050705745816231                   </span>│\n",
       "│<span style=\"color: #008080; text-decoration-color: #008080\">                   test/mean_jaccard                    </span>│<span style=\"color: #800080; text-decoration-color: #800080\">                  0.026904432103037834                  </span>│\n",
       "│<span style=\"color: #008080; text-decoration-color: #008080\">                  test/mean_mean_rank                   </span>│<span style=\"color: #800080; text-decoration-color: #800080\">                      223103.0625                       </span>│\n",
       "│<span style=\"color: #008080; text-decoration-color: #008080\">                   test/mean_neg_loss                   </span>│<span style=\"color: #800080; text-decoration-color: #800080\">                 0.0009390884661115706                  </span>│\n",
       "│<span style=\"color: #008080; text-decoration-color: #008080\">                   test/mean_pos_loss                   </span>│<span style=\"color: #800080; text-decoration-color: #800080\">                  0.04160467907786369                   </span>│\n",
       "│<span style=\"color: #008080; text-decoration-color: #008080\">                 test/mean_pos_neg_loss                 </span>│<span style=\"color: #800080; text-decoration-color: #800080\">                  0.042543765157461166                  </span>│\n",
       "│<span style=\"color: #008080; text-decoration-color: #008080\">                  test/mean_precision                   </span>│<span style=\"color: #800080; text-decoration-color: #800080\">                   0.2185247838497162                   </span>│\n",
       "│<span style=\"color: #008080; text-decoration-color: #008080\">                    test/mean_rank_1                    </span>│<span style=\"color: #800080; text-decoration-color: #800080\">                          0.0                           </span>│\n",
       "│<span style=\"color: #008080; text-decoration-color: #008080\">                   test/mean_rank_10                    </span>│<span style=\"color: #800080; text-decoration-color: #800080\">                 0.00024654832668602467                 </span>│\n",
       "│<span style=\"color: #008080; text-decoration-color: #008080\">                    test/mean_rank_5                    </span>│<span style=\"color: #800080; text-decoration-color: #800080\">                          0.0                           </span>│\n",
       "│<span style=\"color: #008080; text-decoration-color: #008080\">                    test/mean_recall                    </span>│<span style=\"color: #800080; text-decoration-color: #800080\">                  0.028939727693796158                  </span>│\n",
       "│<span style=\"color: #008080; text-decoration-color: #008080\">        test/rank_1_of_NP_class/Alkylresorcinols        </span>│<span style=\"color: #800080; text-decoration-color: #800080\">                          0.0                           </span>│\n",
       "│<span style=\"color: #008080; text-decoration-color: #008080\">     test/rank_1_of_NP_class/Amino acid glycosides      </span>│<span style=\"color: #800080; text-decoration-color: #800080\">                          0.0                           </span>│\n",
       "│<span style=\"color: #008080; text-decoration-color: #008080\">        test/rank_1_of_NP_class/Aminosugars and         </span>│<span style=\"color: #800080; text-decoration-color: #800080\">                          0.0                           </span>│\n",
       "│<span style=\"color: #008080; text-decoration-color: #008080\">                    aminoglycosides                     </span>│<span style=\"color: #800080; text-decoration-color: #800080\">                                                        </span>│\n",
       "│<span style=\"color: #008080; text-decoration-color: #008080\">   test/rank_1_of_NP_class/Anthranilic acid alkaloids   </span>│<span style=\"color: #800080; text-decoration-color: #800080\">                          0.0                           </span>│\n",
       "│<span style=\"color: #008080; text-decoration-color: #008080\">         test/rank_1_of_NP_class/Apocarotenoids         </span>│<span style=\"color: #800080; text-decoration-color: #800080\">                          0.0                           </span>│\n",
       "│<span style=\"color: #008080; text-decoration-color: #008080\">      test/rank_1_of_NP_class/Aromatic polyketides      </span>│<span style=\"color: #800080; text-decoration-color: #800080\">                          0.0                           </span>│\n",
       "│<span style=\"color: #008080; text-decoration-color: #008080\">       test/rank_1_of_NP_class/Carotenoids (C40)        </span>│<span style=\"color: #800080; text-decoration-color: #800080\">                          0.0                           </span>│\n",
       "│<span style=\"color: #008080; text-decoration-color: #008080\">       test/rank_1_of_NP_class/Carotenoids (C50)        </span>│<span style=\"color: #800080; text-decoration-color: #800080\">                          0.0                           </span>│\n",
       "│<span style=\"color: #008080; text-decoration-color: #008080\">           test/rank_1_of_NP_class/Chromanes            </span>│<span style=\"color: #800080; text-decoration-color: #800080\">                          0.0                           </span>│\n",
       "│<span style=\"color: #008080; text-decoration-color: #008080\">           test/rank_1_of_NP_class/Coumarins            </span>│<span style=\"color: #800080; text-decoration-color: #800080\">                          0.0                           </span>│\n",
       "│<span style=\"color: #008080; text-decoration-color: #008080\">       test/rank_1_of_NP_class/Cyclic polyketides       </span>│<span style=\"color: #800080; text-decoration-color: #800080\">                          0.0                           </span>│\n",
       "│<span style=\"color: #008080; text-decoration-color: #008080\">        test/rank_1_of_NP_class/Diarylheptanoids        </span>│<span style=\"color: #800080; text-decoration-color: #800080\">                          0.0                           </span>│\n",
       "│<span style=\"color: #008080; text-decoration-color: #008080\">    test/rank_1_of_NP_class/Diazotetronic acids and     </span>│<span style=\"color: #800080; text-decoration-color: #800080\">                          0.0                           </span>│\n",
       "│<span style=\"color: #008080; text-decoration-color: #008080\">                      derivatives                       </span>│<span style=\"color: #800080; text-decoration-color: #800080\">                                                        </span>│\n",
       "│<span style=\"color: #008080; text-decoration-color: #008080\">     test/rank_1_of_NP_class/Diphenyl ethers (DPEs)     </span>│<span style=\"color: #800080; text-decoration-color: #800080\">                          0.0                           </span>│\n",
       "│<span style=\"color: #008080; text-decoration-color: #008080\">          test/rank_1_of_NP_class/Diterpenoids          </span>│<span style=\"color: #800080; text-decoration-color: #800080\">                          0.0                           </span>│\n",
       "│<span style=\"color: #008080; text-decoration-color: #008080\">          test/rank_1_of_NP_class/Docosanoids           </span>│<span style=\"color: #800080; text-decoration-color: #800080\">                          0.0                           </span>│\n",
       "│<span style=\"color: #008080; text-decoration-color: #008080\">          test/rank_1_of_NP_class/Eicosanoids           </span>│<span style=\"color: #800080; text-decoration-color: #800080\">                          0.0                           </span>│\n",
       "│<span style=\"color: #008080; text-decoration-color: #008080\">   test/rank_1_of_NP_class/Fatty Acids and Conjugates   </span>│<span style=\"color: #800080; text-decoration-color: #800080\">                          0.0                           </span>│\n",
       "│<span style=\"color: #008080; text-decoration-color: #008080\">     test/rank_1_of_NP_class/Fatty acyl glycosides      </span>│<span style=\"color: #800080; text-decoration-color: #800080\">                          0.0                           </span>│\n",
       "│<span style=\"color: #008080; text-decoration-color: #008080\">          test/rank_1_of_NP_class/Fatty acyls           </span>│<span style=\"color: #800080; text-decoration-color: #800080\">                          0.0                           </span>│\n",
       "│<span style=\"color: #008080; text-decoration-color: #008080\">          test/rank_1_of_NP_class/Fatty amides          </span>│<span style=\"color: #800080; text-decoration-color: #800080\">                          0.0                           </span>│\n",
       "│<span style=\"color: #008080; text-decoration-color: #008080\">          test/rank_1_of_NP_class/Fatty esters          </span>│<span style=\"color: #800080; text-decoration-color: #800080\">                          0.0                           </span>│\n",
       "│<span style=\"color: #008080; text-decoration-color: #008080\">           test/rank_1_of_NP_class/Flavonoids           </span>│<span style=\"color: #800080; text-decoration-color: #800080\">                          0.0                           </span>│\n",
       "│<span style=\"color: #008080; text-decoration-color: #008080\">         test/rank_1_of_NP_class/Glycerolipids          </span>│<span style=\"color: #800080; text-decoration-color: #800080\">                          0.0                           </span>│\n",
       "│<span style=\"color: #008080; text-decoration-color: #008080\">      test/rank_1_of_NP_class/Glycerophospholipids      </span>│<span style=\"color: #800080; text-decoration-color: #800080\">                          0.0                           </span>│\n",
       "│<span style=\"color: #008080; text-decoration-color: #008080\">      test/rank_1_of_NP_class/Guanidine alkaloids       </span>│<span style=\"color: #800080; text-decoration-color: #800080\">                          0.0                           </span>│\n",
       "│<span style=\"color: #008080; text-decoration-color: #008080\">      test/rank_1_of_NP_class/Histidine alkaloids       </span>│<span style=\"color: #800080; text-decoration-color: #800080\">                          0.0                           </span>│\n",
       "│<span style=\"color: #008080; text-decoration-color: #008080\">         test/rank_1_of_NP_class/Isoflavonoids          </span>│<span style=\"color: #800080; text-decoration-color: #800080\">                          0.0                           </span>│\n",
       "│<span style=\"color: #008080; text-decoration-color: #008080\">            test/rank_1_of_NP_class/Lignans             </span>│<span style=\"color: #800080; text-decoration-color: #800080\">                          0.0                           </span>│\n",
       "│<span style=\"color: #008080; text-decoration-color: #008080\">       test/rank_1_of_NP_class/Linear polyketides       </span>│<span style=\"color: #800080; text-decoration-color: #800080\">                          0.0                           </span>│\n",
       "│<span style=\"color: #008080; text-decoration-color: #008080\">        test/rank_1_of_NP_class/Lysine alkaloids        </span>│<span style=\"color: #800080; text-decoration-color: #800080\">                          0.0                           </span>│\n",
       "│<span style=\"color: #008080; text-decoration-color: #008080\">           test/rank_1_of_NP_class/Macrolides           </span>│<span style=\"color: #800080; text-decoration-color: #800080\">                          0.0                           </span>│\n",
       "│<span style=\"color: #008080; text-decoration-color: #008080\">         test/rank_1_of_NP_class/Meroterpenoids         </span>│<span style=\"color: #800080; text-decoration-color: #800080\">                          0.0                           </span>│\n",
       "│<span style=\"color: #008080; text-decoration-color: #008080\">   test/rank_1_of_NP_class/Miscellaneous polyketides    </span>│<span style=\"color: #800080; text-decoration-color: #800080\">                          0.0                           </span>│\n",
       "│<span style=\"color: #008080; text-decoration-color: #008080\">         test/rank_1_of_NP_class/Monoterpenoids         </span>│<span style=\"color: #800080; text-decoration-color: #800080\">                          0.0                           </span>│\n",
       "│<span style=\"color: #008080; text-decoration-color: #008080\">          test/rank_1_of_NP_class/Naphthalenes          </span>│<span style=\"color: #800080; text-decoration-color: #800080\">                          0.0                           </span>│\n",
       "│<span style=\"color: #008080; text-decoration-color: #008080\">    test/rank_1_of_NP_class/Nicotinic acid alkaloids    </span>│<span style=\"color: #800080; text-decoration-color: #800080\">                          0.0                           </span>│\n",
       "│<span style=\"color: #008080; text-decoration-color: #008080\">          test/rank_1_of_NP_class/Nucleosides           </span>│<span style=\"color: #800080; text-decoration-color: #800080\">                          0.0                           </span>│\n",
       "│<span style=\"color: #008080; text-decoration-color: #008080\">         test/rank_1_of_NP_class/Octadecanoids          </span>│<span style=\"color: #800080; text-decoration-color: #800080\">                          0.0                           </span>│\n",
       "│<span style=\"color: #008080; text-decoration-color: #008080\">         test/rank_1_of_NP_class/Oligopeptides          </span>│<span style=\"color: #800080; text-decoration-color: #800080\">                          0.0                           </span>│\n",
       "│<span style=\"color: #008080; text-decoration-color: #008080\">      test/rank_1_of_NP_class/Ornithine alkaloids       </span>│<span style=\"color: #800080; text-decoration-color: #800080\">                          0.0                           </span>│\n",
       "│<span style=\"color: #008080; text-decoration-color: #008080\">       test/rank_1_of_NP_class/Peptide alkaloids        </span>│<span style=\"color: #800080; text-decoration-color: #800080\">                          0.0                           </span>│\n",
       "│<span style=\"color: #008080; text-decoration-color: #008080\">        test/rank_1_of_NP_class/Phenanthrenoids         </span>│<span style=\"color: #800080; text-decoration-color: #800080\">                          0.0                           </span>│\n",
       "│<span style=\"color: #008080; text-decoration-color: #008080\">     test/rank_1_of_NP_class/Phenolic acids (C6-C1)     </span>│<span style=\"color: #800080; text-decoration-color: #800080\">                          0.0                           </span>│\n",
       "│<span style=\"color: #008080; text-decoration-color: #008080\">    test/rank_1_of_NP_class/Phenylethanoids (C6-C2)     </span>│<span style=\"color: #800080; text-decoration-color: #800080\">                          0.0                           </span>│\n",
       "│<span style=\"color: #008080; text-decoration-color: #008080\">    test/rank_1_of_NP_class/Phenylpropanoids (C6-C3)    </span>│<span style=\"color: #800080; text-decoration-color: #800080\">                          0.0                           </span>│\n",
       "│<span style=\"color: #008080; text-decoration-color: #008080\">        test/rank_1_of_NP_class/Phloroglucinols         </span>│<span style=\"color: #800080; text-decoration-color: #800080\">                          0.0                           </span>│\n",
       "│<span style=\"color: #008080; text-decoration-color: #008080\">      test/rank_1_of_NP_class/Polycyclic aromatic       </span>│<span style=\"color: #800080; text-decoration-color: #800080\">                          0.0                           </span>│\n",
       "│<span style=\"color: #008080; text-decoration-color: #008080\">                      polyketides                       </span>│<span style=\"color: #800080; text-decoration-color: #800080\">                                                        </span>│\n",
       "│<span style=\"color: #008080; text-decoration-color: #008080\">           test/rank_1_of_NP_class/Polyethers           </span>│<span style=\"color: #800080; text-decoration-color: #800080\">                          0.0                           </span>│\n",
       "│<span style=\"color: #008080; text-decoration-color: #008080\">            test/rank_1_of_NP_class/Polyols             </span>│<span style=\"color: #800080; text-decoration-color: #800080\">                          0.0                           </span>│\n",
       "│<span style=\"color: #008080; text-decoration-color: #008080\">          test/rank_1_of_NP_class/Polyprenols           </span>│<span style=\"color: #800080; text-decoration-color: #800080\">                          0.0                           </span>│\n",
       "│<span style=\"color: #008080; text-decoration-color: #008080\">       test/rank_1_of_NP_class/Proline alkaloids        </span>│<span style=\"color: #800080; text-decoration-color: #800080\">                          0.0                           </span>│\n",
       "│<span style=\"color: #008080; text-decoration-color: #008080\">        test/rank_1_of_NP_class/Pseudoalkaloids         </span>│<span style=\"color: #800080; text-decoration-color: #800080\">                          0.0                           </span>│\n",
       "│<span style=\"color: #008080; text-decoration-color: #008080\">          test/rank_1_of_NP_class/Saccharides           </span>│<span style=\"color: #800080; text-decoration-color: #800080\">                          0.0                           </span>│\n",
       "│<span style=\"color: #008080; text-decoration-color: #008080\">        test/rank_1_of_NP_class/Serine alkaloids        </span>│<span style=\"color: #800080; text-decoration-color: #800080\">                          0.0                           </span>│\n",
       "│<span style=\"color: #008080; text-decoration-color: #008080\">        test/rank_1_of_NP_class/Sesquiterpenoids        </span>│<span style=\"color: #800080; text-decoration-color: #800080\">                          0.0                           </span>│\n",
       "│<span style=\"color: #008080; text-decoration-color: #008080\">        test/rank_1_of_NP_class/Sesterterpenoids        </span>│<span style=\"color: #800080; text-decoration-color: #800080\">                          0.0                           </span>│\n",
       "│<span style=\"color: #008080; text-decoration-color: #008080\">         test/rank_1_of_NP_class/Small peptides         </span>│<span style=\"color: #800080; text-decoration-color: #800080\">                          0.0                           </span>│\n",
       "│<span style=\"color: #008080; text-decoration-color: #008080\">         test/rank_1_of_NP_class/Sphingolipids          </span>│<span style=\"color: #800080; text-decoration-color: #800080\">                          0.0                           </span>│\n",
       "│<span style=\"color: #008080; text-decoration-color: #008080\">            test/rank_1_of_NP_class/Steroids            </span>│<span style=\"color: #800080; text-decoration-color: #800080\">                          0.0                           </span>│\n",
       "│<span style=\"color: #008080; text-decoration-color: #008080\">          test/rank_1_of_NP_class/Stilbenoids           </span>│<span style=\"color: #800080; text-decoration-color: #800080\">                          0.0                           </span>│\n",
       "│<span style=\"color: #008080; text-decoration-color: #008080\">         test/rank_1_of_NP_class/Styrylpyrones          </span>│<span style=\"color: #800080; text-decoration-color: #800080\">                          0.0                           </span>│\n",
       "│<span style=\"color: #008080; text-decoration-color: #008080\">           test/rank_1_of_NP_class/Terphenyls           </span>│<span style=\"color: #800080; text-decoration-color: #800080\">                          0.0                           </span>│\n",
       "│<span style=\"color: #008080; text-decoration-color: #008080\">      test/rank_1_of_NP_class/Tetramate alkaloids       </span>│<span style=\"color: #800080; text-decoration-color: #800080\">                          0.0                           </span>│\n",
       "│<span style=\"color: #008080; text-decoration-color: #008080\">         test/rank_1_of_NP_class/Triterpenoids          </span>│<span style=\"color: #800080; text-decoration-color: #800080\">                          0.0                           </span>│\n",
       "│<span style=\"color: #008080; text-decoration-color: #008080\">      test/rank_1_of_NP_class/Tryptophan alkaloids      </span>│<span style=\"color: #800080; text-decoration-color: #800080\">                          0.0                           </span>│\n",
       "│<span style=\"color: #008080; text-decoration-color: #008080\">       test/rank_1_of_NP_class/Tyrosine alkaloids       </span>│<span style=\"color: #800080; text-decoration-color: #800080\">                          0.0                           </span>│\n",
       "│<span style=\"color: #008080; text-decoration-color: #008080\">           test/rank_1_of_NP_class/Xanthones            </span>│<span style=\"color: #800080; text-decoration-color: #800080\">                          0.0                           </span>│\n",
       "│<span style=\"color: #008080; text-decoration-color: #008080\">            test/rank_1_of_NP_class/unknown             </span>│<span style=\"color: #800080; text-decoration-color: #800080\">                          0.0                           </span>│\n",
       "│<span style=\"color: #008080; text-decoration-color: #008080\">           test/rank_1_of_NP_class/β-lactams            </span>│<span style=\"color: #800080; text-decoration-color: #800080\">                          0.0                           </span>│\n",
       "└────────────────────────────────────────────────────────┴────────────────────────────────────────────────────────┘\n",
       "</pre>\n"
      ],
      "text/plain": [
       "┏━━━━━━━━━━━━━━━━━━━━━━━━━━━━━━━━━━━━━━━━━━━━━━━━━━━━━━━━┳━━━━━━━━━━━━━━━━━━━━━━━━━━━━━━━━━━━━━━━━━━━━━━━━━━━━━━━━┓\n",
       "┃\u001b[1m \u001b[0m\u001b[1m                     Test metric                      \u001b[0m\u001b[1m \u001b[0m┃\u001b[1m \u001b[0m\u001b[1m                     DataLoader 0                     \u001b[0m\u001b[1m \u001b[0m┃\n",
       "┡━━━━━━━━━━━━━━━━━━━━━━━━━━━━━━━━━━━━━━━━━━━━━━━━━━━━━━━━╇━━━━━━━━━━━━━━━━━━━━━━━━━━━━━━━━━━━━━━━━━━━━━━━━━━━━━━━━┩\n",
       "│\u001b[36m \u001b[0m\u001b[36m                  test/mean_accuracy                  \u001b[0m\u001b[36m \u001b[0m│\u001b[35m \u001b[0m\u001b[35m                  0.9965030550956726                  \u001b[0m\u001b[35m \u001b[0m│\n",
       "│\u001b[36m \u001b[0m\u001b[36m                test/mean_active_bits                 \u001b[0m\u001b[36m \u001b[0m│\u001b[35m \u001b[0m\u001b[35m                  6.642751693725586                   \u001b[0m\u001b[35m \u001b[0m│\n",
       "│\u001b[36m \u001b[0m\u001b[36m                  test/mean_ce_loss                   \u001b[0m\u001b[36m \u001b[0m│\u001b[35m \u001b[0m\u001b[35m                 0.042543765157461166                 \u001b[0m\u001b[35m \u001b[0m│\n",
       "│\u001b[36m \u001b[0m\u001b[36m                    test/mean_cos                     \u001b[0m\u001b[36m \u001b[0m│\u001b[35m \u001b[0m\u001b[35m                 0.07873775064945221                  \u001b[0m\u001b[35m \u001b[0m│\n",
       "│\u001b[36m \u001b[0m\u001b[36m                     test/mean_f1                     \u001b[0m\u001b[36m \u001b[0m│\u001b[35m \u001b[0m\u001b[35m                 0.05050705745816231                  \u001b[0m\u001b[35m \u001b[0m│\n",
       "│\u001b[36m \u001b[0m\u001b[36m                  test/mean_jaccard                   \u001b[0m\u001b[36m \u001b[0m│\u001b[35m \u001b[0m\u001b[35m                 0.026904432103037834                 \u001b[0m\u001b[35m \u001b[0m│\n",
       "│\u001b[36m \u001b[0m\u001b[36m                 test/mean_mean_rank                  \u001b[0m\u001b[36m \u001b[0m│\u001b[35m \u001b[0m\u001b[35m                     223103.0625                      \u001b[0m\u001b[35m \u001b[0m│\n",
       "│\u001b[36m \u001b[0m\u001b[36m                  test/mean_neg_loss                  \u001b[0m\u001b[36m \u001b[0m│\u001b[35m \u001b[0m\u001b[35m                0.0009390884661115706                 \u001b[0m\u001b[35m \u001b[0m│\n",
       "│\u001b[36m \u001b[0m\u001b[36m                  test/mean_pos_loss                  \u001b[0m\u001b[36m \u001b[0m│\u001b[35m \u001b[0m\u001b[35m                 0.04160467907786369                  \u001b[0m\u001b[35m \u001b[0m│\n",
       "│\u001b[36m \u001b[0m\u001b[36m                test/mean_pos_neg_loss                \u001b[0m\u001b[36m \u001b[0m│\u001b[35m \u001b[0m\u001b[35m                 0.042543765157461166                 \u001b[0m\u001b[35m \u001b[0m│\n",
       "│\u001b[36m \u001b[0m\u001b[36m                 test/mean_precision                  \u001b[0m\u001b[36m \u001b[0m│\u001b[35m \u001b[0m\u001b[35m                  0.2185247838497162                  \u001b[0m\u001b[35m \u001b[0m│\n",
       "│\u001b[36m \u001b[0m\u001b[36m                   test/mean_rank_1                   \u001b[0m\u001b[36m \u001b[0m│\u001b[35m \u001b[0m\u001b[35m                         0.0                          \u001b[0m\u001b[35m \u001b[0m│\n",
       "│\u001b[36m \u001b[0m\u001b[36m                  test/mean_rank_10                   \u001b[0m\u001b[36m \u001b[0m│\u001b[35m \u001b[0m\u001b[35m                0.00024654832668602467                \u001b[0m\u001b[35m \u001b[0m│\n",
       "│\u001b[36m \u001b[0m\u001b[36m                   test/mean_rank_5                   \u001b[0m\u001b[36m \u001b[0m│\u001b[35m \u001b[0m\u001b[35m                         0.0                          \u001b[0m\u001b[35m \u001b[0m│\n",
       "│\u001b[36m \u001b[0m\u001b[36m                   test/mean_recall                   \u001b[0m\u001b[36m \u001b[0m│\u001b[35m \u001b[0m\u001b[35m                 0.028939727693796158                 \u001b[0m\u001b[35m \u001b[0m│\n",
       "│\u001b[36m \u001b[0m\u001b[36m       test/rank_1_of_NP_class/Alkylresorcinols       \u001b[0m\u001b[36m \u001b[0m│\u001b[35m \u001b[0m\u001b[35m                         0.0                          \u001b[0m\u001b[35m \u001b[0m│\n",
       "│\u001b[36m \u001b[0m\u001b[36m    test/rank_1_of_NP_class/Amino acid glycosides     \u001b[0m\u001b[36m \u001b[0m│\u001b[35m \u001b[0m\u001b[35m                         0.0                          \u001b[0m\u001b[35m \u001b[0m│\n",
       "│\u001b[36m \u001b[0m\u001b[36m       test/rank_1_of_NP_class/Aminosugars and        \u001b[0m\u001b[36m \u001b[0m│\u001b[35m \u001b[0m\u001b[35m                         0.0                          \u001b[0m\u001b[35m \u001b[0m│\n",
       "│\u001b[36m \u001b[0m\u001b[36m                   aminoglycosides                    \u001b[0m\u001b[36m \u001b[0m│\u001b[35m                                                        \u001b[0m│\n",
       "│\u001b[36m \u001b[0m\u001b[36m  test/rank_1_of_NP_class/Anthranilic acid alkaloids  \u001b[0m\u001b[36m \u001b[0m│\u001b[35m \u001b[0m\u001b[35m                         0.0                          \u001b[0m\u001b[35m \u001b[0m│\n",
       "│\u001b[36m \u001b[0m\u001b[36m        test/rank_1_of_NP_class/Apocarotenoids        \u001b[0m\u001b[36m \u001b[0m│\u001b[35m \u001b[0m\u001b[35m                         0.0                          \u001b[0m\u001b[35m \u001b[0m│\n",
       "│\u001b[36m \u001b[0m\u001b[36m     test/rank_1_of_NP_class/Aromatic polyketides     \u001b[0m\u001b[36m \u001b[0m│\u001b[35m \u001b[0m\u001b[35m                         0.0                          \u001b[0m\u001b[35m \u001b[0m│\n",
       "│\u001b[36m \u001b[0m\u001b[36m      test/rank_1_of_NP_class/Carotenoids (C40)       \u001b[0m\u001b[36m \u001b[0m│\u001b[35m \u001b[0m\u001b[35m                         0.0                          \u001b[0m\u001b[35m \u001b[0m│\n",
       "│\u001b[36m \u001b[0m\u001b[36m      test/rank_1_of_NP_class/Carotenoids (C50)       \u001b[0m\u001b[36m \u001b[0m│\u001b[35m \u001b[0m\u001b[35m                         0.0                          \u001b[0m\u001b[35m \u001b[0m│\n",
       "│\u001b[36m \u001b[0m\u001b[36m          test/rank_1_of_NP_class/Chromanes           \u001b[0m\u001b[36m \u001b[0m│\u001b[35m \u001b[0m\u001b[35m                         0.0                          \u001b[0m\u001b[35m \u001b[0m│\n",
       "│\u001b[36m \u001b[0m\u001b[36m          test/rank_1_of_NP_class/Coumarins           \u001b[0m\u001b[36m \u001b[0m│\u001b[35m \u001b[0m\u001b[35m                         0.0                          \u001b[0m\u001b[35m \u001b[0m│\n",
       "│\u001b[36m \u001b[0m\u001b[36m      test/rank_1_of_NP_class/Cyclic polyketides      \u001b[0m\u001b[36m \u001b[0m│\u001b[35m \u001b[0m\u001b[35m                         0.0                          \u001b[0m\u001b[35m \u001b[0m│\n",
       "│\u001b[36m \u001b[0m\u001b[36m       test/rank_1_of_NP_class/Diarylheptanoids       \u001b[0m\u001b[36m \u001b[0m│\u001b[35m \u001b[0m\u001b[35m                         0.0                          \u001b[0m\u001b[35m \u001b[0m│\n",
       "│\u001b[36m \u001b[0m\u001b[36m   test/rank_1_of_NP_class/Diazotetronic acids and    \u001b[0m\u001b[36m \u001b[0m│\u001b[35m \u001b[0m\u001b[35m                         0.0                          \u001b[0m\u001b[35m \u001b[0m│\n",
       "│\u001b[36m \u001b[0m\u001b[36m                     derivatives                      \u001b[0m\u001b[36m \u001b[0m│\u001b[35m                                                        \u001b[0m│\n",
       "│\u001b[36m \u001b[0m\u001b[36m    test/rank_1_of_NP_class/Diphenyl ethers (DPEs)    \u001b[0m\u001b[36m \u001b[0m│\u001b[35m \u001b[0m\u001b[35m                         0.0                          \u001b[0m\u001b[35m \u001b[0m│\n",
       "│\u001b[36m \u001b[0m\u001b[36m         test/rank_1_of_NP_class/Diterpenoids         \u001b[0m\u001b[36m \u001b[0m│\u001b[35m \u001b[0m\u001b[35m                         0.0                          \u001b[0m\u001b[35m \u001b[0m│\n",
       "│\u001b[36m \u001b[0m\u001b[36m         test/rank_1_of_NP_class/Docosanoids          \u001b[0m\u001b[36m \u001b[0m│\u001b[35m \u001b[0m\u001b[35m                         0.0                          \u001b[0m\u001b[35m \u001b[0m│\n",
       "│\u001b[36m \u001b[0m\u001b[36m         test/rank_1_of_NP_class/Eicosanoids          \u001b[0m\u001b[36m \u001b[0m│\u001b[35m \u001b[0m\u001b[35m                         0.0                          \u001b[0m\u001b[35m \u001b[0m│\n",
       "│\u001b[36m \u001b[0m\u001b[36m  test/rank_1_of_NP_class/Fatty Acids and Conjugates  \u001b[0m\u001b[36m \u001b[0m│\u001b[35m \u001b[0m\u001b[35m                         0.0                          \u001b[0m\u001b[35m \u001b[0m│\n",
       "│\u001b[36m \u001b[0m\u001b[36m    test/rank_1_of_NP_class/Fatty acyl glycosides     \u001b[0m\u001b[36m \u001b[0m│\u001b[35m \u001b[0m\u001b[35m                         0.0                          \u001b[0m\u001b[35m \u001b[0m│\n",
       "│\u001b[36m \u001b[0m\u001b[36m         test/rank_1_of_NP_class/Fatty acyls          \u001b[0m\u001b[36m \u001b[0m│\u001b[35m \u001b[0m\u001b[35m                         0.0                          \u001b[0m\u001b[35m \u001b[0m│\n",
       "│\u001b[36m \u001b[0m\u001b[36m         test/rank_1_of_NP_class/Fatty amides         \u001b[0m\u001b[36m \u001b[0m│\u001b[35m \u001b[0m\u001b[35m                         0.0                          \u001b[0m\u001b[35m \u001b[0m│\n",
       "│\u001b[36m \u001b[0m\u001b[36m         test/rank_1_of_NP_class/Fatty esters         \u001b[0m\u001b[36m \u001b[0m│\u001b[35m \u001b[0m\u001b[35m                         0.0                          \u001b[0m\u001b[35m \u001b[0m│\n",
       "│\u001b[36m \u001b[0m\u001b[36m          test/rank_1_of_NP_class/Flavonoids          \u001b[0m\u001b[36m \u001b[0m│\u001b[35m \u001b[0m\u001b[35m                         0.0                          \u001b[0m\u001b[35m \u001b[0m│\n",
       "│\u001b[36m \u001b[0m\u001b[36m        test/rank_1_of_NP_class/Glycerolipids         \u001b[0m\u001b[36m \u001b[0m│\u001b[35m \u001b[0m\u001b[35m                         0.0                          \u001b[0m\u001b[35m \u001b[0m│\n",
       "│\u001b[36m \u001b[0m\u001b[36m     test/rank_1_of_NP_class/Glycerophospholipids     \u001b[0m\u001b[36m \u001b[0m│\u001b[35m \u001b[0m\u001b[35m                         0.0                          \u001b[0m\u001b[35m \u001b[0m│\n",
       "│\u001b[36m \u001b[0m\u001b[36m     test/rank_1_of_NP_class/Guanidine alkaloids      \u001b[0m\u001b[36m \u001b[0m│\u001b[35m \u001b[0m\u001b[35m                         0.0                          \u001b[0m\u001b[35m \u001b[0m│\n",
       "│\u001b[36m \u001b[0m\u001b[36m     test/rank_1_of_NP_class/Histidine alkaloids      \u001b[0m\u001b[36m \u001b[0m│\u001b[35m \u001b[0m\u001b[35m                         0.0                          \u001b[0m\u001b[35m \u001b[0m│\n",
       "│\u001b[36m \u001b[0m\u001b[36m        test/rank_1_of_NP_class/Isoflavonoids         \u001b[0m\u001b[36m \u001b[0m│\u001b[35m \u001b[0m\u001b[35m                         0.0                          \u001b[0m\u001b[35m \u001b[0m│\n",
       "│\u001b[36m \u001b[0m\u001b[36m           test/rank_1_of_NP_class/Lignans            \u001b[0m\u001b[36m \u001b[0m│\u001b[35m \u001b[0m\u001b[35m                         0.0                          \u001b[0m\u001b[35m \u001b[0m│\n",
       "│\u001b[36m \u001b[0m\u001b[36m      test/rank_1_of_NP_class/Linear polyketides      \u001b[0m\u001b[36m \u001b[0m│\u001b[35m \u001b[0m\u001b[35m                         0.0                          \u001b[0m\u001b[35m \u001b[0m│\n",
       "│\u001b[36m \u001b[0m\u001b[36m       test/rank_1_of_NP_class/Lysine alkaloids       \u001b[0m\u001b[36m \u001b[0m│\u001b[35m \u001b[0m\u001b[35m                         0.0                          \u001b[0m\u001b[35m \u001b[0m│\n",
       "│\u001b[36m \u001b[0m\u001b[36m          test/rank_1_of_NP_class/Macrolides          \u001b[0m\u001b[36m \u001b[0m│\u001b[35m \u001b[0m\u001b[35m                         0.0                          \u001b[0m\u001b[35m \u001b[0m│\n",
       "│\u001b[36m \u001b[0m\u001b[36m        test/rank_1_of_NP_class/Meroterpenoids        \u001b[0m\u001b[36m \u001b[0m│\u001b[35m \u001b[0m\u001b[35m                         0.0                          \u001b[0m\u001b[35m \u001b[0m│\n",
       "│\u001b[36m \u001b[0m\u001b[36m  test/rank_1_of_NP_class/Miscellaneous polyketides   \u001b[0m\u001b[36m \u001b[0m│\u001b[35m \u001b[0m\u001b[35m                         0.0                          \u001b[0m\u001b[35m \u001b[0m│\n",
       "│\u001b[36m \u001b[0m\u001b[36m        test/rank_1_of_NP_class/Monoterpenoids        \u001b[0m\u001b[36m \u001b[0m│\u001b[35m \u001b[0m\u001b[35m                         0.0                          \u001b[0m\u001b[35m \u001b[0m│\n",
       "│\u001b[36m \u001b[0m\u001b[36m         test/rank_1_of_NP_class/Naphthalenes         \u001b[0m\u001b[36m \u001b[0m│\u001b[35m \u001b[0m\u001b[35m                         0.0                          \u001b[0m\u001b[35m \u001b[0m│\n",
       "│\u001b[36m \u001b[0m\u001b[36m   test/rank_1_of_NP_class/Nicotinic acid alkaloids   \u001b[0m\u001b[36m \u001b[0m│\u001b[35m \u001b[0m\u001b[35m                         0.0                          \u001b[0m\u001b[35m \u001b[0m│\n",
       "│\u001b[36m \u001b[0m\u001b[36m         test/rank_1_of_NP_class/Nucleosides          \u001b[0m\u001b[36m \u001b[0m│\u001b[35m \u001b[0m\u001b[35m                         0.0                          \u001b[0m\u001b[35m \u001b[0m│\n",
       "│\u001b[36m \u001b[0m\u001b[36m        test/rank_1_of_NP_class/Octadecanoids         \u001b[0m\u001b[36m \u001b[0m│\u001b[35m \u001b[0m\u001b[35m                         0.0                          \u001b[0m\u001b[35m \u001b[0m│\n",
       "│\u001b[36m \u001b[0m\u001b[36m        test/rank_1_of_NP_class/Oligopeptides         \u001b[0m\u001b[36m \u001b[0m│\u001b[35m \u001b[0m\u001b[35m                         0.0                          \u001b[0m\u001b[35m \u001b[0m│\n",
       "│\u001b[36m \u001b[0m\u001b[36m     test/rank_1_of_NP_class/Ornithine alkaloids      \u001b[0m\u001b[36m \u001b[0m│\u001b[35m \u001b[0m\u001b[35m                         0.0                          \u001b[0m\u001b[35m \u001b[0m│\n",
       "│\u001b[36m \u001b[0m\u001b[36m      test/rank_1_of_NP_class/Peptide alkaloids       \u001b[0m\u001b[36m \u001b[0m│\u001b[35m \u001b[0m\u001b[35m                         0.0                          \u001b[0m\u001b[35m \u001b[0m│\n",
       "│\u001b[36m \u001b[0m\u001b[36m       test/rank_1_of_NP_class/Phenanthrenoids        \u001b[0m\u001b[36m \u001b[0m│\u001b[35m \u001b[0m\u001b[35m                         0.0                          \u001b[0m\u001b[35m \u001b[0m│\n",
       "│\u001b[36m \u001b[0m\u001b[36m    test/rank_1_of_NP_class/Phenolic acids (C6-C1)    \u001b[0m\u001b[36m \u001b[0m│\u001b[35m \u001b[0m\u001b[35m                         0.0                          \u001b[0m\u001b[35m \u001b[0m│\n",
       "│\u001b[36m \u001b[0m\u001b[36m   test/rank_1_of_NP_class/Phenylethanoids (C6-C2)    \u001b[0m\u001b[36m \u001b[0m│\u001b[35m \u001b[0m\u001b[35m                         0.0                          \u001b[0m\u001b[35m \u001b[0m│\n",
       "│\u001b[36m \u001b[0m\u001b[36m   test/rank_1_of_NP_class/Phenylpropanoids (C6-C3)   \u001b[0m\u001b[36m \u001b[0m│\u001b[35m \u001b[0m\u001b[35m                         0.0                          \u001b[0m\u001b[35m \u001b[0m│\n",
       "│\u001b[36m \u001b[0m\u001b[36m       test/rank_1_of_NP_class/Phloroglucinols        \u001b[0m\u001b[36m \u001b[0m│\u001b[35m \u001b[0m\u001b[35m                         0.0                          \u001b[0m\u001b[35m \u001b[0m│\n",
       "│\u001b[36m \u001b[0m\u001b[36m     test/rank_1_of_NP_class/Polycyclic aromatic      \u001b[0m\u001b[36m \u001b[0m│\u001b[35m \u001b[0m\u001b[35m                         0.0                          \u001b[0m\u001b[35m \u001b[0m│\n",
       "│\u001b[36m \u001b[0m\u001b[36m                     polyketides                      \u001b[0m\u001b[36m \u001b[0m│\u001b[35m                                                        \u001b[0m│\n",
       "│\u001b[36m \u001b[0m\u001b[36m          test/rank_1_of_NP_class/Polyethers          \u001b[0m\u001b[36m \u001b[0m│\u001b[35m \u001b[0m\u001b[35m                         0.0                          \u001b[0m\u001b[35m \u001b[0m│\n",
       "│\u001b[36m \u001b[0m\u001b[36m           test/rank_1_of_NP_class/Polyols            \u001b[0m\u001b[36m \u001b[0m│\u001b[35m \u001b[0m\u001b[35m                         0.0                          \u001b[0m\u001b[35m \u001b[0m│\n",
       "│\u001b[36m \u001b[0m\u001b[36m         test/rank_1_of_NP_class/Polyprenols          \u001b[0m\u001b[36m \u001b[0m│\u001b[35m \u001b[0m\u001b[35m                         0.0                          \u001b[0m\u001b[35m \u001b[0m│\n",
       "│\u001b[36m \u001b[0m\u001b[36m      test/rank_1_of_NP_class/Proline alkaloids       \u001b[0m\u001b[36m \u001b[0m│\u001b[35m \u001b[0m\u001b[35m                         0.0                          \u001b[0m\u001b[35m \u001b[0m│\n",
       "│\u001b[36m \u001b[0m\u001b[36m       test/rank_1_of_NP_class/Pseudoalkaloids        \u001b[0m\u001b[36m \u001b[0m│\u001b[35m \u001b[0m\u001b[35m                         0.0                          \u001b[0m\u001b[35m \u001b[0m│\n",
       "│\u001b[36m \u001b[0m\u001b[36m         test/rank_1_of_NP_class/Saccharides          \u001b[0m\u001b[36m \u001b[0m│\u001b[35m \u001b[0m\u001b[35m                         0.0                          \u001b[0m\u001b[35m \u001b[0m│\n",
       "│\u001b[36m \u001b[0m\u001b[36m       test/rank_1_of_NP_class/Serine alkaloids       \u001b[0m\u001b[36m \u001b[0m│\u001b[35m \u001b[0m\u001b[35m                         0.0                          \u001b[0m\u001b[35m \u001b[0m│\n",
       "│\u001b[36m \u001b[0m\u001b[36m       test/rank_1_of_NP_class/Sesquiterpenoids       \u001b[0m\u001b[36m \u001b[0m│\u001b[35m \u001b[0m\u001b[35m                         0.0                          \u001b[0m\u001b[35m \u001b[0m│\n",
       "│\u001b[36m \u001b[0m\u001b[36m       test/rank_1_of_NP_class/Sesterterpenoids       \u001b[0m\u001b[36m \u001b[0m│\u001b[35m \u001b[0m\u001b[35m                         0.0                          \u001b[0m\u001b[35m \u001b[0m│\n",
       "│\u001b[36m \u001b[0m\u001b[36m        test/rank_1_of_NP_class/Small peptides        \u001b[0m\u001b[36m \u001b[0m│\u001b[35m \u001b[0m\u001b[35m                         0.0                          \u001b[0m\u001b[35m \u001b[0m│\n",
       "│\u001b[36m \u001b[0m\u001b[36m        test/rank_1_of_NP_class/Sphingolipids         \u001b[0m\u001b[36m \u001b[0m│\u001b[35m \u001b[0m\u001b[35m                         0.0                          \u001b[0m\u001b[35m \u001b[0m│\n",
       "│\u001b[36m \u001b[0m\u001b[36m           test/rank_1_of_NP_class/Steroids           \u001b[0m\u001b[36m \u001b[0m│\u001b[35m \u001b[0m\u001b[35m                         0.0                          \u001b[0m\u001b[35m \u001b[0m│\n",
       "│\u001b[36m \u001b[0m\u001b[36m         test/rank_1_of_NP_class/Stilbenoids          \u001b[0m\u001b[36m \u001b[0m│\u001b[35m \u001b[0m\u001b[35m                         0.0                          \u001b[0m\u001b[35m \u001b[0m│\n",
       "│\u001b[36m \u001b[0m\u001b[36m        test/rank_1_of_NP_class/Styrylpyrones         \u001b[0m\u001b[36m \u001b[0m│\u001b[35m \u001b[0m\u001b[35m                         0.0                          \u001b[0m\u001b[35m \u001b[0m│\n",
       "│\u001b[36m \u001b[0m\u001b[36m          test/rank_1_of_NP_class/Terphenyls          \u001b[0m\u001b[36m \u001b[0m│\u001b[35m \u001b[0m\u001b[35m                         0.0                          \u001b[0m\u001b[35m \u001b[0m│\n",
       "│\u001b[36m \u001b[0m\u001b[36m     test/rank_1_of_NP_class/Tetramate alkaloids      \u001b[0m\u001b[36m \u001b[0m│\u001b[35m \u001b[0m\u001b[35m                         0.0                          \u001b[0m\u001b[35m \u001b[0m│\n",
       "│\u001b[36m \u001b[0m\u001b[36m        test/rank_1_of_NP_class/Triterpenoids         \u001b[0m\u001b[36m \u001b[0m│\u001b[35m \u001b[0m\u001b[35m                         0.0                          \u001b[0m\u001b[35m \u001b[0m│\n",
       "│\u001b[36m \u001b[0m\u001b[36m     test/rank_1_of_NP_class/Tryptophan alkaloids     \u001b[0m\u001b[36m \u001b[0m│\u001b[35m \u001b[0m\u001b[35m                         0.0                          \u001b[0m\u001b[35m \u001b[0m│\n",
       "│\u001b[36m \u001b[0m\u001b[36m      test/rank_1_of_NP_class/Tyrosine alkaloids      \u001b[0m\u001b[36m \u001b[0m│\u001b[35m \u001b[0m\u001b[35m                         0.0                          \u001b[0m\u001b[35m \u001b[0m│\n",
       "│\u001b[36m \u001b[0m\u001b[36m          test/rank_1_of_NP_class/Xanthones           \u001b[0m\u001b[36m \u001b[0m│\u001b[35m \u001b[0m\u001b[35m                         0.0                          \u001b[0m\u001b[35m \u001b[0m│\n",
       "│\u001b[36m \u001b[0m\u001b[36m           test/rank_1_of_NP_class/unknown            \u001b[0m\u001b[36m \u001b[0m│\u001b[35m \u001b[0m\u001b[35m                         0.0                          \u001b[0m\u001b[35m \u001b[0m│\n",
       "│\u001b[36m \u001b[0m\u001b[36m          test/rank_1_of_NP_class/β-lactams           \u001b[0m\u001b[36m \u001b[0m│\u001b[35m \u001b[0m\u001b[35m                         0.0                          \u001b[0m\u001b[35m \u001b[0m│\n",
       "└────────────────────────────────────────────────────────┴────────────────────────────────────────────────────────┘\n"
      ]
     },
     "metadata": {},
     "output_type": "display_data"
    }
   ],
   "source": [
    "model.setup_ranker()\n",
    "model.logger_should_sync_dist = False\n",
    "\n",
    "# my_logger.info(f\"[Main] my process rank: {os.getpid()}\")\n",
    "trainer = Trainer( devices = 1, accumulate_grad_batches=args[\"accumulate_grad_batches_num\"])\n",
    "\n",
    "test_result = trainer.test(model, datamodule,ckpt_path=checkpoint_path)"
   ]
  },
  {
   "cell_type": "code",
   "execution_count": null,
   "metadata": {},
   "outputs": [],
   "source": []
  }
 ],
 "metadata": {
  "kernelspec": {
   "display_name": "base",
   "language": "python",
   "name": "python3"
  },
  "language_info": {
   "codemirror_mode": {
    "name": "ipython",
    "version": 3
   },
   "file_extension": ".py",
   "mimetype": "text/x-python",
   "name": "python",
   "nbconvert_exporter": "python",
   "pygments_lexer": "ipython3",
   "version": "3.11.10"
  }
 },
 "nbformat": 4,
 "nbformat_minor": 2
}
