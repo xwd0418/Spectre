{
 "cells": [
  {
   "cell_type": "code",
   "execution_count": 1,
   "metadata": {},
   "outputs": [
    {
     "name": "stderr",
     "output_type": "stream",
     "text": [
      "/opt/conda/lib/python3.10/site-packages/tqdm/auto.py:21: TqdmWarning: IProgress not found. Please update jupyter and ipywidgets. See https://ipywidgets.readthedocs.io/en/stable/user_install.html\n",
      "  from .autonotebook import tqdm as notebook_tqdm\n"
     ]
    }
   ],
   "source": [
    "''' mainly used to make sure that C nmr works better than HSQC'''\n",
    "\n",
    "import torch\n",
    "torch.set_printoptions(precision=10)\n",
    "\n",
    "from pytorch_lightning import Trainer\n",
    "from pytorch_lightning.callbacks import ModelCheckpoint\n",
    "from models.optional_input_ranked_transformer import OptionalInputRankedTransformer\n",
    "from datasets.optional_2d_folder_dataset import OptionalInputDataModule\n",
    "from datasets.hsqc_folder_dataset import FolderDataModule\n",
    "import yaml\n",
    "from pytorch_lightning.loggers import TensorBoardLogger\n",
    "torch.set_float32_matmul_precision('medium')\n",
    "from pathlib import Path\n",
    "\n",
    "from rdkit import Chem\n",
    "from rdkit.Chem import Draw\n"
   ]
  },
  {
   "cell_type": "code",
   "execution_count": 2,
   "metadata": {},
   "outputs": [
    {
     "name": "stderr",
     "output_type": "stream",
     "text": [
      "Initialized SignCoordinateEncoder[384] with dims [180, 180, 24] and 2 positional encoders. 24 bits are reserved for encoding the final bit\n"
     ]
    },
    {
     "name": "stdout",
     "output_type": "stream",
     "text": [
      "HsqcRankedTransformer saving args\n"
     ]
    }
   ],
   "source": [
    "# load model \n",
    "from datasets import dataset_utils\n",
    "from datasets.dataset_utils import specific_radius_mfp_loader\n",
    "\n",
    "            \n",
    "# model_path = Path(\"/root/MorganFP_prediction/reproduce_previous_works/all_info_datasets/train_on_all_data_possible/only_1d_trial_2/\")\n",
    "model_path = Path(\"/root/MorganFP_prediction/reproduce_previous_works/all_info_datasets/train_on_all_data_possible/only_hsqc_trial_2/\")\n",
    "\n",
    "hyperpaerameters_path = model_path / \"hparams.yaml\"\n",
    "\n",
    "# checkpoint_path = model_path / \"checkpoints/epoch=14-step=43515.ckpt\"\n",
    "checkpoint_path = model_path / \"checkpoints/epoch=26-step=46278.ckpt\"\n",
    "\n",
    "with open(hyperpaerameters_path, 'r') as file:\n",
    "    hparams = yaml.safe_load(file)\n",
    "    \n",
    "FP_building_type = hparams['FP_building_type'].split(\"_\")[-1]\n",
    "specific_radius_mfp_loader.setup(only_2d=False,FP_building_type=FP_building_type)\n",
    "specific_radius_mfp_loader.set_max_radius(int(hparams['FP_choice'].split(\"_\")[-1][1:]), only_2d=False)\n",
    "\n",
    "\n",
    "del hparams['checkpoint_path'] # prevent double defition of checkpoint_path\n",
    "hparams['use_peak_values'] = False\n",
    "\n",
    "model = OptionalInputRankedTransformer.load_from_checkpoint(checkpoint_path, **hparams)\n",
    "model.change_ranker_for_testing()\n"
   ]
  },
  {
   "cell_type": "code",
   "execution_count": 3,
   "metadata": {},
   "outputs": [],
   "source": [
    "datamodule = OptionalInputDataModule(dir=\"/workspace/SMILES_dataset\", FP_choice=hparams[\"FP_choice\"], input_src=[\"HSQC\", \"oneD_NMR\"], batch_size=1, parser_args=hparams)\n",
    "# datamodule = FolderDataModule(dir=\"/workspace/SMILES_dataset\", FP_choice=hparams[\"FP_choice\"], input_src=[\"HSQC\"], batch_size=1, parser_args=hparams)"
   ]
  },
  {
   "cell_type": "code",
   "execution_count": 4,
   "metadata": {},
   "outputs": [],
   "source": [
    "datamodule.setup(\"predict\")\n",
    "\n",
    "loader_all_inputs, loader_HSQC_H_NMR, loader_HSQC_C_NMR, loader_only_hsqc, loader_only_1d, loader_only_H_NMR, loader_only_C_NMR = \\\n",
    "    datamodule.predict_dataloader()\n",
    "\n",
    "# datamodule.setup(\"test\")\n",
    "# loader_only_hsqc = datamodule.test_dataloader()\n",
    "    \n",
    "model=model.to(\"cuda\")"
   ]
  },
  {
   "cell_type": "code",
   "execution_count": 5,
   "metadata": {},
   "outputs": [
    {
     "data": {
      "text/plain": [
       "1"
      ]
     },
     "execution_count": 5,
     "metadata": {},
     "output_type": "execute_result"
    }
   ],
   "source": [
    "1"
   ]
  },
  {
   "cell_type": "code",
   "execution_count": 6,
   "metadata": {},
   "outputs": [
    {
     "data": {
      "text/plain": [
       "3930"
      ]
     },
     "execution_count": 6,
     "metadata": {},
     "output_type": "execute_result"
    }
   ],
   "source": [
    "# set up ranking set\n",
    "\n",
    "import pickle \n",
    "choice = \"test\"\n",
    "index_to_smiles = pickle.load(open(f'/workspace/SMILES_dataset/{choice}/SMILES/index.pkl', 'rb'))\n",
    "folder_base = Path(\"/workspace/SMILES_dataset\")\n",
    "\n",
    "\n",
    "\n",
    "all_FP_indices_in_folder = pickle.load(open(f'/root/MorganFP_prediction/reproduce_previous_works/smart4.5/datasets/{choice}_indices_of_full_info_NMRs.pkl', 'rb'))\n",
    "all_added_smiles = set()\n",
    "all_FP_indices_to_be_added = []\n",
    "for i in all_FP_indices_in_folder:\n",
    "    smile = index_to_smiles [int(i.split(\".\")[0])]\n",
    "    if smile not in all_added_smiles:\n",
    "        all_added_smiles.add(smile)\n",
    "        all_FP_indices_to_be_added.append(i)\n",
    "        \n",
    "sorted_file_indices  = [int(file.split(\".\")[0]) for file in sorted(all_FP_indices_to_be_added)]\n",
    "index_to_chemical_names = pickle.load(open(f'/workspace/SMILES_dataset/{choice}/Chemical/index.pkl', 'rb'))\n",
    "\n",
    "smiles_and_names = [(index_to_smiles[file_index], index_to_chemical_names[file_index]) for file_index in sorted_file_indices]\n",
    "len(smiles_and_names)\n"
   ]
  },
  {
   "cell_type": "code",
   "execution_count": 7,
   "metadata": {},
   "outputs": [
    {
     "data": {
      "text/plain": [
       "(3930, 3930, 3930)"
      ]
     },
     "execution_count": 7,
     "metadata": {},
     "output_type": "execute_result"
    }
   ],
   "source": [
    "len(all_FP_indices_in_folder), len(all_added_smiles), len(all_FP_indices_to_be_added)"
   ]
  },
  {
   "cell_type": "code",
   "execution_count": 8,
   "metadata": {},
   "outputs": [],
   "source": [
    "# visualize the all input one \n",
    "import os \n",
    "\n",
    "chemical_names_lookup = pickle.load(open(f'/workspace/SMILES_dataset/test/Chemical/index.pkl', 'rb'))\n",
    "# chemical_names_lookup[2288]"
   ]
  },
  {
   "cell_type": "code",
   "execution_count": null,
   "metadata": {},
   "outputs": [],
   "source": []
  },
  {
   "cell_type": "code",
   "execution_count": 9,
   "metadata": {},
   "outputs": [],
   "source": [
    "all_file_indices = [int(i.split(\".\")[0]) for i in loader_only_hsqc.dataset.files]\n",
    "all_chemicals = [chemical_names_lookup[file_idx] for file_idx in all_file_indices]\n",
    "# for i, chemical in enumerate(all_chemicals):\n",
    "#     print(i, chemical)"
   ]
  },
  {
   "cell_type": "code",
   "execution_count": 10,
   "metadata": {},
   "outputs": [
    {
     "name": "stdout",
     "output_type": "stream",
     "text": [
      "Chemspider_Pyristriatin A\n",
      "COC1OC2c3c(cnc(C(=O)CO)c31)CC(O)C1C3=C(C(C)C)CCC3(C)CCC21C\n",
      "10022.pt\n"
     ]
    }
   ],
   "source": [
    "which_compound = 5\n",
    "filename = loader_all_inputs.dataset.files[which_compound]\n",
    "\n",
    "f_path = os.path.join(loader_all_inputs.dataset.dir, \"oneD_NMR\", filename)\n",
    "if os.path.exists(f_path):\n",
    "    c_tensor, h_tensor = torch.load(f_path)\n",
    "    \n",
    "hsqc = torch.load(f_path.replace(\"oneD_NMR\", \"HSQC\"))\n",
    "\n",
    "# print(f_path)\n",
    "chemical_names_lookup = pickle.load(open(f'/workspace/SMILES_dataset/test/Chemical/index.pkl', 'rb'))\n",
    "print(chemical_names_lookup[int(filename.split(\".\")[0])] + \"\\n\" +index_to_smiles[int(filename.split(\".\")[0])])\n",
    "print(filename)"
   ]
  },
  {
   "cell_type": "code",
   "execution_count": 11,
   "metadata": {},
   "outputs": [
    {
     "data": {
      "text/plain": [
       "('COC1OC2c3c(cnc(C(=O)CO)c31)CC(O)C1C3=C(C(C)C)CCC3(C)CCC21C',\n",
       " 'Chemspider_Pyristriatin A')"
      ]
     },
     "execution_count": 11,
     "metadata": {},
     "output_type": "execute_result"
    }
   ],
   "source": [
    "(index_to_smiles[int(filename.split(\".\")[0])], index_to_chemical_names[int(filename.split(\".\")[0])])"
   ]
  },
  {
   "cell_type": "code",
   "execution_count": 12,
   "metadata": {},
   "outputs": [
    {
     "data": {
      "image/png": "[encoded data removed]",
      "text/plain": [
       "<Figure size 600x480 with 3 Axes>"
      ]
     },
     "metadata": {},
     "output_type": "display_data"
    }
   ],
   "source": [
    "import matplotlib.pyplot as plt\n",
    "\n",
    "\n",
    "\n",
    "\n",
    "# \n",
    "import matplotlib.gridspec as gridspec\n",
    "\n",
    "\n",
    "# Create a 2x2 grid for subplots\n",
    "fig = plt.figure(figsize=(6, 4.8))  # Overall figure size\n",
    "gs = gridspec.GridSpec(2, 2, height_ratios=[1, 20], width_ratios=[1, 20])\n",
    "\n",
    "# Create subplots in different locations and sizes\n",
    "pos = hsqc[hsqc[:,2]>0]\n",
    "neg = hsqc[hsqc[:,2]<0]\n",
    "ax1 = fig.add_subplot(gs[1, 1])  # Takes up the first row\n",
    "ax1.scatter(pos[:,1], pos[:,0], c=\"blue\", label=\"1 or 3 H bond\", s=5)\n",
    "ax1.scatter(neg[:,1], neg[:,0], c=\"red\", label=\"2 H bond\", s=5)\n",
    "ax1.set_title(\"HSQC\")\n",
    "ax1.set_xlabel('Proton Shift (H)')  # X-axis label\n",
    "ax1.set_xlim([0, 7.5])\n",
    "ax1.set_ylim([0, 180])\n",
    "ax1.legend()\n",
    "\n",
    "\n",
    "ax2 = fig.add_subplot(gs[1, 0])  # Smaller subplot\n",
    "ax2.scatter( torch.ones(len(c_tensor)), c_tensor, c=\"black\", s=2)\n",
    "ax2.set_ylim([0, 180])\n",
    "ax2.set_title(\"C-NMR\")\n",
    "ax2.set_ylabel('Carbon Shift (C)')\n",
    "ax2.set_xticks([])\n",
    "\n",
    "ax3 = fig.add_subplot(gs[0, 1])  # Smaller subplot\n",
    "ax3.scatter(h_tensor, torch.ones(len(h_tensor)),c=\"black\", s=2)\n",
    "ax3.set_xlim([0, 7.5])\n",
    "ax3.set_title(\"H-NMR\")\n",
    "ax3.set_yticks([])\n",
    "\n",
    "# Adjust layout to prevent overlapping\n",
    "plt.tight_layout()\n",
    "\n",
    "# Show the plot\n",
    "plt.show()\n",
    "\n"
   ]
  },
  {
   "cell_type": "code",
   "execution_count": 19,
   "metadata": {},
   "outputs": [
    {
     "name": "stdout",
     "output_type": "stream",
     "text": [
      "Chemical name Chemspider_Pyristriatin A\n",
      "Ground truth smiles COC1OC2c3c(cnc(C(=O)CO)c31)CC(O)C1C3=C(C(C)C)CCC3(C)CCC21C\n"
     ]
    },
    {
     "data": {
      "image/jpeg": "[encoded data removed]",
      "image/png": "[encoded data removed]",
      "text/plain": [
       "<PIL.PngImagePlugin.PngImageFile image mode=RGB size=300x300>"
      ]
     },
     "metadata": {},
     "output_type": "display_data"
    },
    {
     "name": "stdout",
     "output_type": "stream",
     "text": [
      "retival #1\n",
      "HSQC smiles CC1CCC2(CO)CCC3(C)C(=CCC4C5(C)CCC(OC(=O)C=Cc6ccc(O)c(O)c6)C(C)(C)C5CCC43C)C2C1C\n",
      "HSQC name Uvaol-3-Caffeate\n"
     ]
    },
    {
     "data": {
      "image/jpeg": "[encoded data removed]",
      "image/png": "[encoded data removed]",
      "text/plain": [
       "<PIL.PngImagePlugin.PngImageFile image mode=RGB size=300x300>"
      ]
     },
     "metadata": {},
     "output_type": "display_data"
    }
   ],
   "source": [
    "'''for a single model, show top-5'''\n",
    "\n",
    "for  which_compound in [5]:  \n",
    "\n",
    "\n",
    "    \n",
    "    for idx, batch in enumerate(loader_only_hsqc):\n",
    "        if idx < which_compound:\n",
    "            continue\n",
    "        inputs, (smiles_chemical_name) = batch\n",
    "        \n",
    "        batch[0] = batch[0].to(\"cuda\")\n",
    "        topk_idx = model.predict_step(batch, idx, dataloader_idx=3)\n",
    "        break\n",
    "    \n",
    "    # ground truth\n",
    "    smiles, names = zip(*smiles_chemical_name)\n",
    "    mol = Chem.MolFromSmiles(smiles[0])\n",
    "    print(f\"Chemical name {names[0]}\")\n",
    "    print(f\"Ground truth smiles {smiles[0]}\")\n",
    "    img = Draw.MolToImage(mol)\n",
    "    img.show()\n",
    "    \n",
    "    \n",
    "    for topk in range(1):\n",
    "        pred_smile, pred_name = smiles_and_names[topk_idx[topk][0]]\n",
    "        mol = Chem.MolFromSmiles(pred_smile)\n",
    "        print(f\"retival #{topk+1}\")\n",
    "        print(f\"HSQC smiles {pred_smile}\")\n",
    "        print(f\"HSQC name {pred_name}\")\n",
    "        img = Draw.MolToImage(mol)\n",
    "        img.show()\n",
    "        \n"
   ]
  },
  {
   "cell_type": "code",
   "execution_count": 20,
   "metadata": {},
   "outputs": [
    {
     "data": {
      "text/plain": [
       "tensor([[[-1.0000000000e+00, -1.0000000000e+00, -1.0000000000e+00],\n",
       "         [ 1.5195999146e+02,  8.4174079895e+00,  7.0012636719e+03],\n",
       "         [ 1.0703000641e+02,  6.3062500954e+00,  6.0723881836e+03],\n",
       "         [ 9.0119995117e+01,  4.6437244415e+00,  6.2024873047e+03],\n",
       "         [ 7.2059997559e+01,  4.3290147781e+00,  4.4014873047e+03],\n",
       "         [ 6.5589996338e+01,  4.9892263412e+00, -1.9327648438e+04],\n",
       "         [ 5.3930000305e+01,  3.4280686378e+00,  1.2197421875e+04],\n",
       "         [ 4.7429996490e+01,  2.7613184452e+00,  6.9702373047e+03],\n",
       "         [ 3.8220001221e+01,  3.0394577980e+00, -6.2024873047e+03],\n",
       "         [ 3.8220001221e+01,  2.7769277096e+00, -7.8004257812e+03],\n",
       "         [ 3.7560001373e+01,  1.5768891573e+00, -8.7660390625e+03],\n",
       "         [ 3.7560001373e+01,  1.2707774639e+00, -5.1745043945e+03],\n",
       "         [ 3.6869998932e+01,  1.5707473755e+00, -5.3333198242e+03],\n",
       "         [ 3.6869998932e+01,  1.5074244738e+00, -4.7073588867e+03],\n",
       "         [ 3.1759998322e+01,  2.0393445492e+00, -5.8693095703e+03],\n",
       "         [ 3.1759998322e+01,  1.5518461466e+00, -4.6669291992e+03],\n",
       "         [ 2.8230001450e+01,  2.3035094738e+00, -2.8946386719e+03],\n",
       "         [ 2.8230001450e+01,  2.1478700638e+00, -5.4060278320e+03],\n",
       "         [ 2.6270000458e+01,  2.9435968399e+00,  4.4014873047e+03],\n",
       "         [ 2.4139999390e+01,  1.0576497316e+00,  2.6298113281e+04],\n",
       "         [ 2.1729999542e+01,  9.8845762014e-01,  5.2408742188e+04],\n",
       "         [ 2.0270000458e+01,  1.1327517033e+00,  2.2604898438e+04],\n",
       "         [-2.0000000000e+00, -2.0000000000e+00, -2.0000000000e+00],\n",
       "         [-3.0000000000e+00, -3.0000000000e+00, -3.0000000000e+00],\n",
       "         [-4.0000000000e+00, -4.0000000000e+00, -4.0000000000e+00],\n",
       "         [-5.0000000000e+00, -5.0000000000e+00, -5.0000000000e+00],\n",
       "         [-6.0000000000e+00, -6.0000000000e+00, -6.0000000000e+00],\n",
       "         [-1.2000000000e+01, -1.2000000000e+01, -1.2000000000e+01],\n",
       "         [ 4.4125149536e+02,  0.0000000000e+00,  0.0000000000e+00],\n",
       "         [-1.3000000000e+01, -1.3000000000e+01, -1.3000000000e+01]]])"
      ]
     },
     "execution_count": 20,
     "metadata": {},
     "output_type": "execute_result"
    }
   ],
   "source": [
    "inputs"
   ]
  },
  {
   "cell_type": "code",
   "execution_count": 14,
   "metadata": {},
   "outputs": [],
   "source": [
    "# pred_smile_HSQC, pred_name_HSQC, pred_smile_C, pred_name_C"
   ]
  },
  {
   "cell_type": "code",
   "execution_count": 15,
   "metadata": {},
   "outputs": [],
   "source": [
    "# '''for a flexible model , show C vs HSQC'''\n",
    "# occurence = 0\n",
    "# for  which_compound in range(80):  \n",
    "\n",
    "\n",
    "    \n",
    "#     for idx, batch in enumerate(loader_only_hsqc):\n",
    "#         if idx < which_compound:\n",
    "#             continue\n",
    "#         inputs, (smiles_chemical_name) = batch\n",
    "        \n",
    "#         batch[0] = batch[0].to(\"cuda\")\n",
    "#         topk_idx_HSQC = model.predict_step(batch, idx, dataloader_idx=3)\n",
    "#         break\n",
    "#     pred_smile_HSQC, pred_name_HSQC = smiles_and_names[topk_idx_HSQC[0][0]]\n",
    "\n",
    "\n",
    "#     for idx, batch in enumerate(loader_only_C_NMR):\n",
    "#         if idx < which_compound:\n",
    "#             continue\n",
    "#         inputs, (smiles_chemical_name) = batch\n",
    "        \n",
    "#         batch[0] = batch[0].to(\"cuda\")\n",
    "#         topk_idx_C_nmr = model.predict_step(batch, idx, dataloader_idx=6)\n",
    "#         # if idx <= 1: continue\n",
    "#         break\n",
    "#     pred_smile_C, pred_name_C = smiles_and_names[topk_idx_C_nmr[0][0]]\n",
    "    \n",
    "   \n",
    "\n",
    "\n",
    "#     if pred_smile_C!=pred_smile_HSQC:\n",
    "#         occurence+=1\n",
    "#         print(f\"Occurence {occurence}\")\n",
    "#         smiles, names = zip(*smiles_chemical_name)\n",
    "#         mol = Chem.MolFromSmiles(smiles[0])\n",
    "#         print(f\"Ground truth smiles {smiles[0]}\")\n",
    "#         print(f\"Chemical name {names[0]}\")\n",
    "#         img = Draw.MolToImage(mol)\n",
    "#         img.show()\n",
    "#         mol = Chem.MolFromSmiles(pred_smile_C)\n",
    "#         print(f\"C smiles {pred_smile_C}\")\n",
    "#         print(f\"C name {pred_name_C}\")\n",
    "#         img = Draw.MolToImage(mol)\n",
    "#         img.show()\n",
    "#         mol = Chem.MolFromSmiles(pred_smile_HSQC)\n",
    "#         print(f\"HSQC smiles {pred_smile_HSQC}\")\n",
    "#         print(f\"HSQC name {pred_name_HSQC}\")\n",
    "#         img = Draw.MolToImage(mol)\n",
    "#         img.show()\n"
   ]
  },
  {
   "cell_type": "code",
   "execution_count": 16,
   "metadata": {},
   "outputs": [
    {
     "ename": "NameError",
     "evalue": "name 'topk_idx_HSQC' is not defined",
     "output_type": "error",
     "traceback": [
      "\u001b[0;31m---------------------------------------------------------------------------\u001b[0m",
      "\u001b[0;31mNameError\u001b[0m                                 Traceback (most recent call last)",
      "Cell \u001b[0;32mIn[16], line 1\u001b[0m\n\u001b[0;32m----> 1\u001b[0m \u001b[38;5;28mlen\u001b[39m(\u001b[43mtopk_idx_HSQC\u001b[49m[\u001b[38;5;241m0\u001b[39m])\n",
      "\u001b[0;31mNameError\u001b[0m: name 'topk_idx_HSQC' is not defined"
     ]
    }
   ],
   "source": [
    "len(topk_idx_HSQC[0])"
   ]
  },
  {
   "cell_type": "code",
   "execution_count": null,
   "metadata": {},
   "outputs": [
    {
     "data": {
      "text/plain": [
       "'demo all inputs'"
      ]
     },
     "execution_count": 12,
     "metadata": {},
     "output_type": "execute_result"
    }
   ],
   "source": [
    "'''demo all inputs'''\n",
    "# for idx, batch in enumerate(loader_all_inputs):\n",
    "#     inputs, (smiles_chemical_name) = batch\n",
    "    \n",
    "#     batch[0] = batch[0].to(\"cuda\")\n",
    "#     topk_idx_all_spec = model.predict_step(batch, idx, dataloader_idx=0)\n",
    "#     # if idx <= 1: continue\n",
    "#     break"
   ]
  },
  {
   "cell_type": "code",
   "execution_count": null,
   "metadata": {},
   "outputs": [
    {
     "data": {
      "text/plain": [
       "'demo C'"
      ]
     },
     "execution_count": 13,
     "metadata": {},
     "output_type": "execute_result"
    }
   ],
   "source": [
    "'''demo C'''\n",
    "\n",
    "# for idx, batch in enumerate(loader_only_C_NMR):\n",
    "#     inputs, (smiles_chemical_name) = batch\n",
    "    \n",
    "#     batch[0] = batch[0].to(\"cuda\")\n",
    "#     topk_idx_C_nmr = model.predict_step(batch, idx, dataloader_idx=6)\n",
    "#     # if idx <= 1: continue\n",
    "#     break"
   ]
  },
  {
   "cell_type": "code",
   "execution_count": null,
   "metadata": {},
   "outputs": [
    {
     "data": {
      "text/plain": [
       "'demo hsqc'"
      ]
     },
     "execution_count": 14,
     "metadata": {},
     "output_type": "execute_result"
    }
   ],
   "source": [
    "'''demo hsqc'''\n",
    "\n",
    "# for idx, batch in enumerate(loader_only_hsqc):\n",
    "#     inputs, (smiles_chemical_name) = batch\n",
    "    \n",
    "#     batch[0] = batch[0].to(\"cuda\")\n",
    "#     topk_idx_HSQC = model.predict_step(batch, idx, dataloader_idx=3)\n",
    "#     # if idx <= 1: continue\n",
    "#     break"
   ]
  },
  {
   "cell_type": "code",
   "execution_count": null,
   "metadata": {},
   "outputs": [],
   "source": [
    "# \"\"\"demo day: trying to show some results\"\"\"\n",
    "\n",
    "# smiles, names = zip(*smiles_chemical_name)\n",
    "# for i in range(len(smiles)):\n",
    "#     print()\n",
    "#     mol = Chem.MolFromSmiles(smiles[i])\n",
    "\n",
    "#     # print(\"compound number\", i+1)\n",
    "#     print(f\"Ground truth smiles {smiles[i]}\")\n",
    "#     print(f\"Chemical name {names[i]}\")\n",
    "#     img = Draw.MolToImage(mol)\n",
    "#     img.show()\n",
    "    \n",
    "#     for idx in range(2):\n",
    "#         # pred_smile, pred_name = smiles_and_names[topk_idx_all_spec[idx][i]]\n",
    "#         # print(f\"Following is top-{idx+1} prediction using all three spectra: {pred_name}, smiles: {pred_smile}\")\n",
    "#         # mol = Chem.MolFromSmiles(pred_smile)\n",
    "#         # img = Draw.MolToImage(mol)\n",
    "#         # img.show()\n",
    "        \n",
    "#         pred_smile, pred_name = smiles_and_names[topk_idx_C_nmr[idx][i]]\n",
    "#         print(f\"Following is top-{idx+1} prediction using only C NMR: {pred_name}, smiles: {pred_smile}\")\n",
    "#         mol = Chem.MolFromSmiles(pred_smile)\n",
    "#         img = Draw.MolToImage(mol)\n",
    "#         img.show()\n",
    "        \n",
    "#         # pred_smile, pred_name = smiles_and_names[topk_idx_HSQC[idx][i]]\n",
    "#         # print(f\"Following is top-{idx+1} prediction using only HSQC: {pred_name}, smiles: {pred_smile}\")\n",
    "#         # mol = Chem.MolFromSmiles(pred_smile)\n",
    "#         # img = Draw.MolToImage(mol)\n",
    "#         # img.show()\n",
    "        \n",
    "#     print(\"===\")"
   ]
  },
  {
   "cell_type": "code",
   "execution_count": null,
   "metadata": {},
   "outputs": [],
   "source": []
  },
  {
   "cell_type": "code",
   "execution_count": null,
   "metadata": {},
   "outputs": [],
   "source": [
    "# k = 5\n",
    "\n",
    "# for idx, batch in enumerate(loader_all_inputs):\n",
    "#     inputs, (smiles_chemical_name) = batch\n",
    "    \n",
    "#     batch[0] = batch[0].to(\"cuda\")\n",
    "#     topk_idx_all_spec = model.predict_step(batch, idx, dataloader_idx=0)\n",
    "#     if idx <= k: continue\n",
    "#     break\n",
    "\n",
    "# for idx, batch in enumerate(loader_only_C_NMR):\n",
    "#     inputs, (smiles_chemical_name) = batch\n",
    "    \n",
    "#     batch[0] = batch[0].to(\"cuda\")\n",
    "#     topk_idx_C_nmr = model.predict_step(batch, idx, dataloader_idx=6)\n",
    "#     if idx <= k: continue\n",
    "#     break\n",
    "\n",
    "# for idx, batch in enumerate(loader_only_hsqc):\n",
    "#     inputs, (smiles_chemical_name) = batch\n",
    "    \n",
    "#     batch[0] = batch[0].to(\"cuda\")\n",
    "#     topk_idx_HSQC = model.predict_step(batch, idx, dataloader_idx=3)\n",
    "#     if idx <= k: continue\n",
    "#     break\n",
    "\n",
    "\n",
    "# smiles, names = zip(*smiles_chemical_name)\n",
    "# for i in range(len(smiles)):\n",
    "#     print()\n",
    "#     mol = Chem.MolFromSmiles(smiles[i])\n",
    "\n",
    "#     print(\"compound number\", i+1)\n",
    "#     print(f\"Ground truth smiles {smiles[i]}\")\n",
    "#     print(f\"Chemical name {names[i]}\")\n",
    "#     img = Draw.MolToImage(mol)\n",
    "#     img.show()\n",
    "    \n",
    "#     for idx in range(1):\n",
    "#         pred_smile, pred_name = smiles_and_names[topk_idx_all_spec[idx][i]]\n",
    "#         print(f\"Following is top-{idx+1} prediction using all three spectra: {pred_name}, smiles: {pred_smile}\")\n",
    "#         mol = Chem.MolFromSmiles(pred_smile)\n",
    "#         img = Draw.MolToImage(mol)\n",
    "#         img.show()\n",
    "        \n",
    "#         pred_smile, pred_name = smiles_and_names[topk_idx_C_nmr[idx][i]]\n",
    "#         print(f\"Following is top-{idx+1} prediction using only C NMR: {pred_name}, smiles: {pred_smile}\")\n",
    "#         mol = Chem.MolFromSmiles(pred_smile)\n",
    "#         img = Draw.MolToImage(mol)\n",
    "#         img.show()\n",
    "        \n",
    "#         pred_smile, pred_name = smiles_and_names[topk_idx_HSQC[idx][i]]\n",
    "#         print(f\"Following is top-{idx+1} prediction using only HSQC: {pred_name}, smiles: {pred_smile}\")\n",
    "#         mol = Chem.MolFromSmiles(pred_smile)\n",
    "#         img = Draw.MolToImage(mol)\n",
    "#         img.show()\n",
    "        \n",
    "#     print(\"===\")"
   ]
  },
  {
   "cell_type": "code",
   "execution_count": null,
   "metadata": {},
   "outputs": [],
   "source": []
  }
 ],
 "metadata": {
  "kernelspec": {
   "display_name": "base",
   "language": "python",
   "name": "python3"
  },
  "language_info": {
   "codemirror_mode": {
    "name": "ipython",
    "version": 3
   },
   "file_extension": ".py",
   "mimetype": "text/x-python",
   "name": "python",
   "nbconvert_exporter": "python",
   "pygments_lexer": "ipython3",
   "version": "3.10.13"
  }
 },
 "nbformat": 4,
 "nbformat_minor": 2
}
