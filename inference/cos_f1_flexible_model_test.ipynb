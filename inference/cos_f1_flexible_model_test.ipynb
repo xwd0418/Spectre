{
 "cells": [
  {
   "cell_type": "code",
   "execution_count": 10,
   "id": "2e61a689",
   "metadata": {},
   "outputs": [
    {
     "name": "stdout",
     "output_type": "stream",
     "text": [
      "choosing Hash_Entropy_FP_loader\n",
      "526316\n"
     ]
    }
   ],
   "source": [
    "# %%\n",
    "import warnings\n",
    "warnings.filterwarnings(\"ignore\", category=FutureWarning, message=\"You are using `torch.load` with `weights_only=False`\")\n",
    "warnings.filterwarnings(\"ignore\", category=UserWarning, message=\"The PyTorch API of nested tensors is in prototype stage and will change in the near future.\")\n",
    "\n",
    "\n",
    "\n",
    "import sys, os\n",
    "\n",
    "model_number = os.environ.get(\"MODEL_NUMBER\")\n",
    "sys.path.insert(0,\"/root/gurusmart/MorganFP_prediction/reproduce_previous_works/Spectre\")\n",
    "            \n",
    "import torch\n",
    "torch.set_printoptions(precision=10)\n",
    "\n",
    "\n",
    "import yaml\n",
    "torch.set_float32_matmul_precision('high')\n",
    "from pathlib import Path\n",
    "\n",
    "from rdkit import Chem\n",
    "from rdkit.Chem import Draw\n",
    "# load model \n",
    "from datasets.dataset_utils import  fp_loader_configer\n",
    "\n",
    "fp_loader_configer.select_version(\"Hash_Entropy\")\n",
    "fp_loader = fp_loader_configer.fp_loader\n",
    "\n",
    "import numpy as np \n",
    "import random\n",
    "seed=2\n",
    "torch.cuda.manual_seed_all(seed) \n",
    "np.random.seed(seed)\n",
    "random.seed(seed)\n",
    "\n",
    "\n",
    "\n",
    "# %%\n",
    "import pickle\n",
    "with open(f'/root/gurusmart/MorganFP_prediction/inference_data/coconut_loutus_hyun_training/inference_metadata_latest_RDkit.pkl', 'rb') as file:\n",
    "    smiles_and_names = pickle.load(file)\n",
    "print(len(smiles_and_names))\n",
    "\n",
    "# %%\n",
    "from inference.inference_utils import choose_model , plot_topk_accuracy\n",
    "from inference.inference_utils import retrieve_top_k_by_rankingset, compute_cos_sim, unpack_inputs_no_delimiter, build_input, inference_topK\n",
    "\n",
    "\n",
    "old_loader_idx_to_name_mapping = {\n",
    "    0: \"All Inputs\",\n",
    "    1: \"HSQC and H NMR\",\n",
    "    2: \"HSQC and C NMR\",\n",
    "    3: \"HSQC Only\",\n",
    "    4: \"C NMR and H NMR\",\n",
    "    5: \"H NMR Only\",\n",
    "    6: \"C NMR Only\",\n",
    "    7: \"Standard HSQC (Non-Multiplicity-Edited)\",\n",
    "}\n",
    "\n",
    "\n",
    "loader_idx_to_name_mapping = {\n",
    "    0: \"eHSQC, H NMR, and C NMR\",\n",
    "    1: \"eHSQC and H NMR\",\n",
    "    2: \"eHSQC and C NMR\",\n",
    "    3: \"eHSQC Only\",\n",
    "    4: \"C NMR and H NMR\",\n",
    "    5: \"H NMR Only\",\n",
    "    6: \"C NMR Only\",\n",
    "    7: \"Standard HSQC only\",\n",
    "    8: \"Standard HSQC, H NMR, and C NMR\",\n",
    "    9: \"Standard HSQC and H NMR\",\n",
    "    10: \"Standard HSQC and C NMR\",\n",
    "    \n",
    "    \n",
    "}\n",
    "import tqdm\n"
   ]
  },
  {
   "cell_type": "code",
   "execution_count": 11,
   "id": "20abbd9e",
   "metadata": {},
   "outputs": [],
   "source": [
    "from torchmetrics.classification import BinaryRecall, BinaryPrecision, BinaryF1Score, BinaryAccuracy\n",
    "import torch.nn as nn\n",
    "\n",
    "do_f1 = BinaryF1Score().to('cuda')\n",
    "do_cos = nn.CosineSimilarity(dim=1)\n"
   ]
  },
  {
   "cell_type": "code",
   "execution_count": 12,
   "id": "aee7bc37",
   "metadata": {},
   "outputs": [
    {
     "name": "stdout",
     "output_type": "stream",
     "text": [
      "loading model from:  /root/gurusmart/MorganFP_prediction/reproduce_previous_works/entropy_on_hashes/flexible_models_jittering_flexible_MW_flexible_normal_hsqc/r0_r6_trial_1/checkpoints/epoch=95-step=21696.ckpt\n"
     ]
    },
    {
     "name": "stderr",
     "output_type": "stream",
     "text": [
      "Initialized SignCoordinateEncoder[784] with dims [365, 365, 54] and 2 positional encoders. 54 bits are reserved for encoding the final bit\n"
     ]
    },
    {
     "name": "stdout",
     "output_type": "stream",
     "text": [
      "HsqcRankedTransformer saving args\n",
      "finish entropy list\n",
      "Hash_Entropy_FP_loader is setup, out_dim=16384, max_radius=6\n"
     ]
    },
    {
     "name": "stderr",
     "output_type": "stream",
     "text": [
      "/opt/conda/lib/python3.11/site-packages/torch/_utils.py:315: UserWarning: Sparse CSR tensor support is in beta state. If you miss a functionality in the sparse tensor support, please submit a feature request to https://github.com/pytorch/pytorch/issues. (Triggered internally at ../aten/src/ATen/SparseCsrTensorImpl.cpp:53.)\n",
      "  result = torch.sparse_compressed_tensor(\n",
      "100%|██████████| 4056/4056 [02:56<00:00, 22.99it/s]\n",
      "100%|██████████| 4056/4056 [02:52<00:00, 23.45it/s]\n",
      "100%|██████████| 4056/4056 [02:53<00:00, 23.43it/s]\n",
      "100%|██████████| 4056/4056 [02:51<00:00, 23.70it/s]\n",
      "100%|██████████| 4056/4056 [02:51<00:00, 23.68it/s]\n",
      "100%|██████████| 4056/4056 [02:50<00:00, 23.79it/s]\n",
      "100%|██████████| 4056/4056 [02:51<00:00, 23.72it/s]\n",
      "100%|██████████| 4056/4056 [02:50<00:00, 23.76it/s]\n",
      "100%|██████████| 4056/4056 [02:52<00:00, 23.46it/s]\n",
      "100%|██████████| 4056/4056 [02:52<00:00, 23.55it/s]\n",
      "100%|██████████| 4056/4056 [02:59<00:00, 22.60it/s]\n"
     ]
    },
    {
     "name": "stdout",
     "output_type": "stream",
     "text": [
      "({'eHSQC, H NMR, and C NMR': np.float64(0.8900947686306824), 'eHSQC and H NMR': np.float64(0.8714055479219445), 'eHSQC and C NMR': np.float64(0.8899843302358831), 'eHSQC Only': np.float64(0.8617075555195529), 'C NMR and H NMR': np.float64(0.7920915895716619), 'H NMR Only': np.float64(0.5712378312782174), 'C NMR Only': np.float64(0.751633372876051), 'Standard HSQC only': np.float64(0.8463803654283109), 'Standard HSQC, H NMR, and C NMR': np.float64(0.8818996660999174), 'Standard HSQC and H NMR': np.float64(0.8570857234776784), 'Standard HSQC and C NMR': np.float64(0.8806804617686855)}, {'eHSQC, H NMR, and C NMR': np.float64(0.8887914696256437), 'eHSQC and H NMR': np.float64(0.8698878948350807), 'eHSQC and C NMR': np.float64(0.8887090204279922), 'eHSQC Only': np.float64(0.8599379794999105), 'C NMR and H NMR': np.float64(0.7890107151326637), 'H NMR Only': np.float64(0.5536399972827138), 'C NMR Only': np.float64(0.7476477456835688), 'Standard HSQC only': np.float64(0.8442393184163749), 'Standard HSQC, H NMR, and C NMR': np.float64(0.8804733893619134), 'Standard HSQC and H NMR': np.float64(0.8552888174205137), 'Standard HSQC and C NMR': np.float64(0.8792800672859307)}, {'eHSQC, H NMR, and C NMR': np.float64(0.8888881102468841), 'eHSQC and H NMR': np.float64(0.8688689575032781), 'eHSQC and C NMR': np.float64(0.888753185776123), 'eHSQC Only': np.float64(0.8590258746325264), 'C NMR and H NMR': np.float64(0.7895210037279793), 'H NMR Only': np.float64(0.5517704527617544), 'C NMR Only': np.float64(0.748347176530966), 'Standard HSQC only': np.float64(0.8427829644192723), 'Standard HSQC, H NMR, and C NMR': np.float64(0.8807248585605791), 'Standard HSQC and H NMR': np.float64(0.854446379083927), 'Standard HSQC and C NMR': np.float64(0.879776378856564)}, {'eHSQC, H NMR, and C NMR': np.float64(0.8875209611621951), 'eHSQC and H NMR': np.float64(0.8672397464892186), 'eHSQC and C NMR': np.float64(0.8874316771296119), 'eHSQC Only': np.float64(0.8571896916677848), 'C NMR and H NMR': np.float64(0.7860780936708083), 'H NMR Only': np.float64(0.5318810002441119), 'C NMR Only': np.float64(0.7440629227544296), 'Standard HSQC only': np.float64(0.8404832672110999), 'Standard HSQC, H NMR, and C NMR': np.float64(0.8792332958823155), 'Standard HSQC and H NMR': np.float64(0.8525165675016932), 'Standard HSQC and C NMR': np.float64(0.8783310773200126)})\n",
      "loading model from:  /root/gurusmart/MorganFP_prediction/reproduce_previous_works/entropy_on_hashes/flexible_models_jittering_flexible_MW_flexible_normal_hsqc/r0_r6_trial_2/checkpoints/epoch=91-step=20792.ckpt\n"
     ]
    },
    {
     "name": "stderr",
     "output_type": "stream",
     "text": [
      "Initialized SignCoordinateEncoder[784] with dims [365, 365, 54] and 2 positional encoders. 54 bits are reserved for encoding the final bit\n"
     ]
    },
    {
     "name": "stdout",
     "output_type": "stream",
     "text": [
      "HsqcRankedTransformer saving args\n",
      "Hash_Entropy_FP_loader is already setup\n"
     ]
    },
    {
     "name": "stderr",
     "output_type": "stream",
     "text": [
      "100%|██████████| 4056/4056 [03:25<00:00, 19.75it/s]\n",
      "100%|██████████| 4056/4056 [03:19<00:00, 20.29it/s]\n",
      "100%|██████████| 4056/4056 [03:21<00:00, 20.10it/s]\n",
      "100%|██████████| 4056/4056 [03:29<00:00, 19.39it/s]\n",
      "100%|██████████| 4056/4056 [03:21<00:00, 20.11it/s]\n",
      "100%|██████████| 4056/4056 [03:21<00:00, 20.18it/s]\n",
      "100%|██████████| 4056/4056 [03:24<00:00, 19.85it/s]\n",
      "100%|██████████| 4056/4056 [03:26<00:00, 19.63it/s]\n",
      "100%|██████████| 4056/4056 [03:25<00:00, 19.73it/s]\n",
      "100%|██████████| 4056/4056 [03:24<00:00, 19.83it/s]\n",
      "100%|██████████| 4056/4056 [03:24<00:00, 19.79it/s]\n"
     ]
    },
    {
     "name": "stdout",
     "output_type": "stream",
     "text": [
      "({'eHSQC, H NMR, and C NMR': np.float64(0.8889294178234285), 'eHSQC and H NMR': np.float64(0.8697971186510616), 'eHSQC and C NMR': np.float64(0.8879961659194979), 'eHSQC Only': np.float64(0.8616186414608324), 'C NMR and H NMR': np.float64(0.7911482885685663), 'H NMR Only': np.float64(0.5721578005052868), 'C NMR Only': np.float64(0.7508689140720951), 'Standard HSQC only': np.float64(0.8444591284650552), 'Standard HSQC, H NMR, and C NMR': np.float64(0.880735588643913), 'Standard HSQC and H NMR': np.float64(0.8569074457537023), 'Standard HSQC and C NMR': np.float64(0.8791822096483536)}, {'eHSQC, H NMR, and C NMR': np.float64(0.8875884082135276), 'eHSQC and H NMR': np.float64(0.8681378507935231), 'eHSQC and C NMR': np.float64(0.8866452447008305), 'eHSQC Only': np.float64(0.8599235818719517), 'C NMR and H NMR': np.float64(0.787592051855676), 'H NMR Only': np.float64(0.5523670217843407), 'C NMR Only': np.float64(0.7463889247563317), 'Standard HSQC only': np.float64(0.8422342306664269), 'Standard HSQC, H NMR, and C NMR': np.float64(0.8792663637835246), 'Standard HSQC and H NMR': np.float64(0.855000689653294), 'Standard HSQC and C NMR': np.float64(0.8776558400912456)}, {'eHSQC, H NMR, and C NMR': np.float64(0.8881584966933646), 'eHSQC and H NMR': np.float64(0.8673117410307071), 'eHSQC and C NMR': np.float64(0.8872910607642911), 'eHSQC Only': np.float64(0.8590316039655188), 'C NMR and H NMR': np.float64(0.7885119624847373), 'H NMR Only': np.float64(0.549808187496571), 'C NMR Only': np.float64(0.7469346570549074), 'Standard HSQC only': np.float64(0.8407067134553894), 'Standard HSQC, H NMR, and C NMR': np.float64(0.8798982655625842), 'Standard HSQC and H NMR': np.float64(0.854084655168582), 'Standard HSQC and C NMR': np.float64(0.8784963494163058)}, {'eHSQC, H NMR, and C NMR': np.float64(0.8867923427075588), 'eHSQC and H NMR': np.float64(0.8655306976380404), 'eHSQC and C NMR': np.float64(0.885905511297021), 'eHSQC Only': np.float64(0.8572221474769788), 'C NMR and H NMR': np.float64(0.7847420710122445), 'H NMR Only': np.float64(0.5280042493319106), 'C NMR Only': np.float64(0.7421876153664358), 'Standard HSQC only': np.float64(0.8382231300986965), 'Standard HSQC, H NMR, and C NMR': np.float64(0.8783730265998541), 'Standard HSQC and H NMR': np.float64(0.8520880172036486), 'Standard HSQC and C NMR': np.float64(0.876898011894386)})\n",
      "loading model from:  /root/gurusmart/MorganFP_prediction/reproduce_previous_works/entropy_on_hashes/flexible_models_jittering_flexible_MW_flexible_normal_hsqc/r0_r6_trial_3/checkpoints/epoch=67-step=46104.ckpt\n"
     ]
    },
    {
     "name": "stderr",
     "output_type": "stream",
     "text": [
      "Initialized SignCoordinateEncoder[784] with dims [365, 365, 54] and 2 positional encoders. 54 bits are reserved for encoding the final bit\n"
     ]
    },
    {
     "name": "stdout",
     "output_type": "stream",
     "text": [
      "HsqcRankedTransformer saving args\n",
      "Hash_Entropy_FP_loader is already setup\n"
     ]
    },
    {
     "name": "stderr",
     "output_type": "stream",
     "text": [
      "  8%|▊         | 317/4056 [00:13<02:37, 23.70it/s]\n"
     ]
    },
    {
     "ename": "KeyboardInterrupt",
     "evalue": "",
     "output_type": "error",
     "traceback": [
      "\u001b[0;31m---------------------------------------------------------------------------\u001b[0m",
      "\u001b[0;31mKeyboardInterrupt\u001b[0m                         Traceback (most recent call last)",
      "Cell \u001b[0;32mIn[12], line 83\u001b[0m\n\u001b[1;32m     79\u001b[0m     \u001b[38;5;28;01mreturn\u001b[39;00m get_mean(mean_rank_records_cos_with_mw), get_mean(mean_rank_records_f1_with_mw), get_mean(mean_rank_records_cos_without_mw), get_mean(mean_rank_records_f1_without_mw)\n\u001b[1;32m     82\u001b[0m \u001b[38;5;28;01mfor\u001b[39;00m model_select \u001b[38;5;129;01min\u001b[39;00m [\u001b[38;5;124m'\u001b[39m\u001b[38;5;124moptional\u001b[39m\u001b[38;5;124m'\u001b[39m, \u001b[38;5;124m\"\u001b[39m\u001b[38;5;124moptional2\u001b[39m\u001b[38;5;124m\"\u001b[39m,\u001b[38;5;124m\"\u001b[39m\u001b[38;5;124moptional3\u001b[39m\u001b[38;5;124m\"\u001b[39m, ]:\n\u001b[0;32m---> 83\u001b[0m     dat \u001b[38;5;241m=\u001b[39m \u001b[43mget_single_model_cos_f1\u001b[49m\u001b[43m(\u001b[49m\u001b[43mmodel_select\u001b[49m\u001b[43m)\u001b[49m\n\u001b[1;32m     84\u001b[0m     \u001b[38;5;28mprint\u001b[39m(dat)\n\u001b[1;32m     85\u001b[0m     save_dir \u001b[38;5;241m=\u001b[39m \u001b[38;5;124m\"\u001b[39m\u001b[38;5;124m/root/gurusmart/MorganFP_prediction/reproduce_previous_works/Spectre/inference\u001b[39m\u001b[38;5;124m\"\u001b[39m\n",
      "Cell \u001b[0;32mIn[12], line 62\u001b[0m, in \u001b[0;36mget_single_model_cos_f1\u001b[0;34m(model_select)\u001b[0m\n\u001b[1;32m     60\u001b[0m inputs \u001b[38;5;241m=\u001b[39m inputs\u001b[38;5;241m.\u001b[39mto(model\u001b[38;5;241m.\u001b[39mdevice)\n\u001b[1;32m     61\u001b[0m NMR_type_indicator \u001b[38;5;241m=\u001b[39m NMR_type_indicator[\u001b[38;5;241m0\u001b[39m]\u001b[38;5;241m.\u001b[39mto(model\u001b[38;5;241m.\u001b[39mdevice)\n\u001b[0;32m---> 62\u001b[0m pred \u001b[38;5;241m=\u001b[39m \u001b[43mmodel\u001b[49m\u001b[43m(\u001b[49m\u001b[43minputs\u001b[49m\u001b[43m,\u001b[49m\u001b[43m \u001b[49m\u001b[43mNMR_type_indicator\u001b[49m\u001b[43m)\u001b[49m\n\u001b[1;32m     64\u001b[0m fp_pred \u001b[38;5;241m=\u001b[39m (pred \u001b[38;5;241m>\u001b[39m\u001b[38;5;241m=\u001b[39m \u001b[38;5;241m0\u001b[39m)\u001b[38;5;241m.\u001b[39mfloat()\n\u001b[1;32m     65\u001b[0m \u001b[38;5;66;03m# print(fp_label.shape)\u001b[39;00m\n\u001b[1;32m     66\u001b[0m \u001b[38;5;66;03m# print(fp_pred.shape)\u001b[39;00m\n",
      "File \u001b[0;32m/opt/conda/lib/python3.11/site-packages/torch/nn/modules/module.py:1736\u001b[0m, in \u001b[0;36mModule._wrapped_call_impl\u001b[0;34m(self, *args, **kwargs)\u001b[0m\n\u001b[1;32m   1734\u001b[0m     \u001b[38;5;28;01mreturn\u001b[39;00m \u001b[38;5;28mself\u001b[39m\u001b[38;5;241m.\u001b[39m_compiled_call_impl(\u001b[38;5;241m*\u001b[39margs, \u001b[38;5;241m*\u001b[39m\u001b[38;5;241m*\u001b[39mkwargs)  \u001b[38;5;66;03m# type: ignore[misc]\u001b[39;00m\n\u001b[1;32m   1735\u001b[0m \u001b[38;5;28;01melse\u001b[39;00m:\n\u001b[0;32m-> 1736\u001b[0m     \u001b[38;5;28;01mreturn\u001b[39;00m \u001b[38;5;28;43mself\u001b[39;49m\u001b[38;5;241;43m.\u001b[39;49m\u001b[43m_call_impl\u001b[49m\u001b[43m(\u001b[49m\u001b[38;5;241;43m*\u001b[39;49m\u001b[43margs\u001b[49m\u001b[43m,\u001b[49m\u001b[43m \u001b[49m\u001b[38;5;241;43m*\u001b[39;49m\u001b[38;5;241;43m*\u001b[39;49m\u001b[43mkwargs\u001b[49m\u001b[43m)\u001b[49m\n",
      "File \u001b[0;32m/opt/conda/lib/python3.11/site-packages/torch/nn/modules/module.py:1747\u001b[0m, in \u001b[0;36mModule._call_impl\u001b[0;34m(self, *args, **kwargs)\u001b[0m\n\u001b[1;32m   1742\u001b[0m \u001b[38;5;66;03m# If we don't have any hooks, we want to skip the rest of the logic in\u001b[39;00m\n\u001b[1;32m   1743\u001b[0m \u001b[38;5;66;03m# this function, and just call forward.\u001b[39;00m\n\u001b[1;32m   1744\u001b[0m \u001b[38;5;28;01mif\u001b[39;00m \u001b[38;5;129;01mnot\u001b[39;00m (\u001b[38;5;28mself\u001b[39m\u001b[38;5;241m.\u001b[39m_backward_hooks \u001b[38;5;129;01mor\u001b[39;00m \u001b[38;5;28mself\u001b[39m\u001b[38;5;241m.\u001b[39m_backward_pre_hooks \u001b[38;5;129;01mor\u001b[39;00m \u001b[38;5;28mself\u001b[39m\u001b[38;5;241m.\u001b[39m_forward_hooks \u001b[38;5;129;01mor\u001b[39;00m \u001b[38;5;28mself\u001b[39m\u001b[38;5;241m.\u001b[39m_forward_pre_hooks\n\u001b[1;32m   1745\u001b[0m         \u001b[38;5;129;01mor\u001b[39;00m _global_backward_pre_hooks \u001b[38;5;129;01mor\u001b[39;00m _global_backward_hooks\n\u001b[1;32m   1746\u001b[0m         \u001b[38;5;129;01mor\u001b[39;00m _global_forward_hooks \u001b[38;5;129;01mor\u001b[39;00m _global_forward_pre_hooks):\n\u001b[0;32m-> 1747\u001b[0m     \u001b[38;5;28;01mreturn\u001b[39;00m \u001b[43mforward_call\u001b[49m\u001b[43m(\u001b[49m\u001b[38;5;241;43m*\u001b[39;49m\u001b[43margs\u001b[49m\u001b[43m,\u001b[49m\u001b[43m \u001b[49m\u001b[38;5;241;43m*\u001b[39;49m\u001b[38;5;241;43m*\u001b[39;49m\u001b[43mkwargs\u001b[49m\u001b[43m)\u001b[49m\n\u001b[1;32m   1749\u001b[0m result \u001b[38;5;241m=\u001b[39m \u001b[38;5;28;01mNone\u001b[39;00m\n\u001b[1;32m   1750\u001b[0m called_always_called_hooks \u001b[38;5;241m=\u001b[39m \u001b[38;5;28mset\u001b[39m()\n",
      "File \u001b[0;32m~/gurusmart/MorganFP_prediction/reproduce_previous_works/Spectre/models/ranked_transformer.py:312\u001b[0m, in \u001b[0;36mHsqcRankedTransformer.forward\u001b[0;34m(self, hsqc, NMR_type_indicator, return_representations)\u001b[0m\n\u001b[1;32m    301\u001b[0m \u001b[38;5;28;01mdef\u001b[39;00m \u001b[38;5;21mforward\u001b[39m(\u001b[38;5;28mself\u001b[39m, hsqc, NMR_type_indicator, return_representations\u001b[38;5;241m=\u001b[39m\u001b[38;5;28;01mFalse\u001b[39;00m):\n\u001b[1;32m    302\u001b[0m \u001b[38;5;250m    \u001b[39m\u001b[38;5;124;03m\"\"\"The forward pass.\u001b[39;00m\n\u001b[1;32m    303\u001b[0m \u001b[38;5;124;03m    Parameters\u001b[39;00m\n\u001b[1;32m    304\u001b[0m \u001b[38;5;124;03m    ----------\u001b[39;00m\n\u001b[0;32m   (...)\u001b[0m\n\u001b[1;32m    310\u001b[0m \u001b[38;5;124;03m        are the same length.\u001b[39;00m\n\u001b[1;32m    311\u001b[0m \u001b[38;5;124;03m    \"\"\"\u001b[39;00m\n\u001b[0;32m--> 312\u001b[0m     out, _ \u001b[38;5;241m=\u001b[39m \u001b[38;5;28;43mself\u001b[39;49m\u001b[38;5;241;43m.\u001b[39;49m\u001b[43mencode\u001b[49m\u001b[43m(\u001b[49m\u001b[43mhsqc\u001b[49m\u001b[43m,\u001b[49m\u001b[43m \u001b[49m\u001b[43mNMR_type_indicator\u001b[49m\u001b[43m)\u001b[49m  \u001b[38;5;66;03m# (b_s, seq_len, dim_model)\u001b[39;00m\n\u001b[1;32m    313\u001b[0m     out_cls \u001b[38;5;241m=\u001b[39m \u001b[38;5;28mself\u001b[39m\u001b[38;5;241m.\u001b[39mfc(out[:, :\u001b[38;5;241m1\u001b[39m, :]\u001b[38;5;241m.\u001b[39msqueeze(\u001b[38;5;241m1\u001b[39m))  \u001b[38;5;66;03m# extracts cls token : (b_s, dim_model) -> (b_s, out_dim)\u001b[39;00m\n\u001b[1;32m    314\u001b[0m     \u001b[38;5;28;01mif\u001b[39;00m return_representations:\n",
      "File \u001b[0;32m~/gurusmart/MorganFP_prediction/reproduce_previous_works/Spectre/models/ranked_transformer.py:298\u001b[0m, in \u001b[0;36mHsqcRankedTransformer.encode\u001b[0;34m(self, hsqc, NMR_type_indicator, mask)\u001b[0m\n\u001b[1;32m    294\u001b[0m \u001b[38;5;66;03m# print(latent.device, points.device)\u001b[39;00m\n\u001b[1;32m    296\u001b[0m points \u001b[38;5;241m=\u001b[39m torch\u001b[38;5;241m.\u001b[39mcat([latent, points], dim\u001b[38;5;241m=\u001b[39m\u001b[38;5;241m1\u001b[39m)\n\u001b[0;32m--> 298\u001b[0m out \u001b[38;5;241m=\u001b[39m \u001b[38;5;28;43mself\u001b[39;49m\u001b[38;5;241;43m.\u001b[39;49m\u001b[43mtransformer_encoder\u001b[49m\u001b[43m(\u001b[49m\u001b[43mpoints\u001b[49m\u001b[43m,\u001b[49m\u001b[43m \u001b[49m\u001b[43msrc_key_padding_mask\u001b[49m\u001b[38;5;241;43m=\u001b[39;49m\u001b[43mmask\u001b[49m\u001b[43m)\u001b[49m\n\u001b[1;32m    299\u001b[0m \u001b[38;5;28;01mreturn\u001b[39;00m out, mask\n",
      "File \u001b[0;32m/opt/conda/lib/python3.11/site-packages/torch/nn/modules/module.py:1736\u001b[0m, in \u001b[0;36mModule._wrapped_call_impl\u001b[0;34m(self, *args, **kwargs)\u001b[0m\n\u001b[1;32m   1734\u001b[0m     \u001b[38;5;28;01mreturn\u001b[39;00m \u001b[38;5;28mself\u001b[39m\u001b[38;5;241m.\u001b[39m_compiled_call_impl(\u001b[38;5;241m*\u001b[39margs, \u001b[38;5;241m*\u001b[39m\u001b[38;5;241m*\u001b[39mkwargs)  \u001b[38;5;66;03m# type: ignore[misc]\u001b[39;00m\n\u001b[1;32m   1735\u001b[0m \u001b[38;5;28;01melse\u001b[39;00m:\n\u001b[0;32m-> 1736\u001b[0m     \u001b[38;5;28;01mreturn\u001b[39;00m \u001b[38;5;28;43mself\u001b[39;49m\u001b[38;5;241;43m.\u001b[39;49m\u001b[43m_call_impl\u001b[49m\u001b[43m(\u001b[49m\u001b[38;5;241;43m*\u001b[39;49m\u001b[43margs\u001b[49m\u001b[43m,\u001b[49m\u001b[43m \u001b[49m\u001b[38;5;241;43m*\u001b[39;49m\u001b[38;5;241;43m*\u001b[39;49m\u001b[43mkwargs\u001b[49m\u001b[43m)\u001b[49m\n",
      "File \u001b[0;32m/opt/conda/lib/python3.11/site-packages/torch/nn/modules/module.py:1747\u001b[0m, in \u001b[0;36mModule._call_impl\u001b[0;34m(self, *args, **kwargs)\u001b[0m\n\u001b[1;32m   1742\u001b[0m \u001b[38;5;66;03m# If we don't have any hooks, we want to skip the rest of the logic in\u001b[39;00m\n\u001b[1;32m   1743\u001b[0m \u001b[38;5;66;03m# this function, and just call forward.\u001b[39;00m\n\u001b[1;32m   1744\u001b[0m \u001b[38;5;28;01mif\u001b[39;00m \u001b[38;5;129;01mnot\u001b[39;00m (\u001b[38;5;28mself\u001b[39m\u001b[38;5;241m.\u001b[39m_backward_hooks \u001b[38;5;129;01mor\u001b[39;00m \u001b[38;5;28mself\u001b[39m\u001b[38;5;241m.\u001b[39m_backward_pre_hooks \u001b[38;5;129;01mor\u001b[39;00m \u001b[38;5;28mself\u001b[39m\u001b[38;5;241m.\u001b[39m_forward_hooks \u001b[38;5;129;01mor\u001b[39;00m \u001b[38;5;28mself\u001b[39m\u001b[38;5;241m.\u001b[39m_forward_pre_hooks\n\u001b[1;32m   1745\u001b[0m         \u001b[38;5;129;01mor\u001b[39;00m _global_backward_pre_hooks \u001b[38;5;129;01mor\u001b[39;00m _global_backward_hooks\n\u001b[1;32m   1746\u001b[0m         \u001b[38;5;129;01mor\u001b[39;00m _global_forward_hooks \u001b[38;5;129;01mor\u001b[39;00m _global_forward_pre_hooks):\n\u001b[0;32m-> 1747\u001b[0m     \u001b[38;5;28;01mreturn\u001b[39;00m \u001b[43mforward_call\u001b[49m\u001b[43m(\u001b[49m\u001b[38;5;241;43m*\u001b[39;49m\u001b[43margs\u001b[49m\u001b[43m,\u001b[49m\u001b[43m \u001b[49m\u001b[38;5;241;43m*\u001b[39;49m\u001b[38;5;241;43m*\u001b[39;49m\u001b[43mkwargs\u001b[49m\u001b[43m)\u001b[49m\n\u001b[1;32m   1749\u001b[0m result \u001b[38;5;241m=\u001b[39m \u001b[38;5;28;01mNone\u001b[39;00m\n\u001b[1;32m   1750\u001b[0m called_always_called_hooks \u001b[38;5;241m=\u001b[39m \u001b[38;5;28mset\u001b[39m()\n",
      "File \u001b[0;32m/opt/conda/lib/python3.11/site-packages/torch/nn/modules/transformer.py:511\u001b[0m, in \u001b[0;36mTransformerEncoder.forward\u001b[0;34m(self, src, mask, src_key_padding_mask, is_causal)\u001b[0m\n\u001b[1;32m    508\u001b[0m is_causal \u001b[38;5;241m=\u001b[39m _detect_is_causal_mask(mask, is_causal, seq_len)\n\u001b[1;32m    510\u001b[0m \u001b[38;5;28;01mfor\u001b[39;00m mod \u001b[38;5;129;01min\u001b[39;00m \u001b[38;5;28mself\u001b[39m\u001b[38;5;241m.\u001b[39mlayers:\n\u001b[0;32m--> 511\u001b[0m     output \u001b[38;5;241m=\u001b[39m \u001b[43mmod\u001b[49m\u001b[43m(\u001b[49m\n\u001b[1;32m    512\u001b[0m \u001b[43m        \u001b[49m\u001b[43moutput\u001b[49m\u001b[43m,\u001b[49m\n\u001b[1;32m    513\u001b[0m \u001b[43m        \u001b[49m\u001b[43msrc_mask\u001b[49m\u001b[38;5;241;43m=\u001b[39;49m\u001b[43mmask\u001b[49m\u001b[43m,\u001b[49m\n\u001b[1;32m    514\u001b[0m \u001b[43m        \u001b[49m\u001b[43mis_causal\u001b[49m\u001b[38;5;241;43m=\u001b[39;49m\u001b[43mis_causal\u001b[49m\u001b[43m,\u001b[49m\n\u001b[1;32m    515\u001b[0m \u001b[43m        \u001b[49m\u001b[43msrc_key_padding_mask\u001b[49m\u001b[38;5;241;43m=\u001b[39;49m\u001b[43msrc_key_padding_mask_for_layers\u001b[49m\u001b[43m,\u001b[49m\n\u001b[1;32m    516\u001b[0m \u001b[43m    \u001b[49m\u001b[43m)\u001b[49m\n\u001b[1;32m    518\u001b[0m \u001b[38;5;28;01mif\u001b[39;00m convert_to_nested:\n\u001b[1;32m    519\u001b[0m     output \u001b[38;5;241m=\u001b[39m output\u001b[38;5;241m.\u001b[39mto_padded_tensor(\u001b[38;5;241m0.0\u001b[39m, src\u001b[38;5;241m.\u001b[39msize())\n",
      "File \u001b[0;32m/opt/conda/lib/python3.11/site-packages/torch/nn/modules/module.py:1736\u001b[0m, in \u001b[0;36mModule._wrapped_call_impl\u001b[0;34m(self, *args, **kwargs)\u001b[0m\n\u001b[1;32m   1734\u001b[0m     \u001b[38;5;28;01mreturn\u001b[39;00m \u001b[38;5;28mself\u001b[39m\u001b[38;5;241m.\u001b[39m_compiled_call_impl(\u001b[38;5;241m*\u001b[39margs, \u001b[38;5;241m*\u001b[39m\u001b[38;5;241m*\u001b[39mkwargs)  \u001b[38;5;66;03m# type: ignore[misc]\u001b[39;00m\n\u001b[1;32m   1735\u001b[0m \u001b[38;5;28;01melse\u001b[39;00m:\n\u001b[0;32m-> 1736\u001b[0m     \u001b[38;5;28;01mreturn\u001b[39;00m \u001b[38;5;28;43mself\u001b[39;49m\u001b[38;5;241;43m.\u001b[39;49m\u001b[43m_call_impl\u001b[49m\u001b[43m(\u001b[49m\u001b[38;5;241;43m*\u001b[39;49m\u001b[43margs\u001b[49m\u001b[43m,\u001b[49m\u001b[43m \u001b[49m\u001b[38;5;241;43m*\u001b[39;49m\u001b[38;5;241;43m*\u001b[39;49m\u001b[43mkwargs\u001b[49m\u001b[43m)\u001b[49m\n",
      "File \u001b[0;32m/opt/conda/lib/python3.11/site-packages/torch/nn/modules/module.py:1747\u001b[0m, in \u001b[0;36mModule._call_impl\u001b[0;34m(self, *args, **kwargs)\u001b[0m\n\u001b[1;32m   1742\u001b[0m \u001b[38;5;66;03m# If we don't have any hooks, we want to skip the rest of the logic in\u001b[39;00m\n\u001b[1;32m   1743\u001b[0m \u001b[38;5;66;03m# this function, and just call forward.\u001b[39;00m\n\u001b[1;32m   1744\u001b[0m \u001b[38;5;28;01mif\u001b[39;00m \u001b[38;5;129;01mnot\u001b[39;00m (\u001b[38;5;28mself\u001b[39m\u001b[38;5;241m.\u001b[39m_backward_hooks \u001b[38;5;129;01mor\u001b[39;00m \u001b[38;5;28mself\u001b[39m\u001b[38;5;241m.\u001b[39m_backward_pre_hooks \u001b[38;5;129;01mor\u001b[39;00m \u001b[38;5;28mself\u001b[39m\u001b[38;5;241m.\u001b[39m_forward_hooks \u001b[38;5;129;01mor\u001b[39;00m \u001b[38;5;28mself\u001b[39m\u001b[38;5;241m.\u001b[39m_forward_pre_hooks\n\u001b[1;32m   1745\u001b[0m         \u001b[38;5;129;01mor\u001b[39;00m _global_backward_pre_hooks \u001b[38;5;129;01mor\u001b[39;00m _global_backward_hooks\n\u001b[1;32m   1746\u001b[0m         \u001b[38;5;129;01mor\u001b[39;00m _global_forward_hooks \u001b[38;5;129;01mor\u001b[39;00m _global_forward_pre_hooks):\n\u001b[0;32m-> 1747\u001b[0m     \u001b[38;5;28;01mreturn\u001b[39;00m \u001b[43mforward_call\u001b[49m\u001b[43m(\u001b[49m\u001b[38;5;241;43m*\u001b[39;49m\u001b[43margs\u001b[49m\u001b[43m,\u001b[49m\u001b[43m \u001b[49m\u001b[38;5;241;43m*\u001b[39;49m\u001b[38;5;241;43m*\u001b[39;49m\u001b[43mkwargs\u001b[49m\u001b[43m)\u001b[49m\n\u001b[1;32m   1749\u001b[0m result \u001b[38;5;241m=\u001b[39m \u001b[38;5;28;01mNone\u001b[39;00m\n\u001b[1;32m   1750\u001b[0m called_always_called_hooks \u001b[38;5;241m=\u001b[39m \u001b[38;5;28mset\u001b[39m()\n",
      "File \u001b[0;32m/opt/conda/lib/python3.11/site-packages/torch/nn/modules/transformer.py:871\u001b[0m, in \u001b[0;36mTransformerEncoderLayer.forward\u001b[0;34m(self, src, src_mask, src_key_padding_mask, is_causal)\u001b[0m\n\u001b[1;32m    867\u001b[0m     \u001b[38;5;28;01mif\u001b[39;00m \u001b[38;5;129;01mnot\u001b[39;00m why_not_sparsity_fast_path:\n\u001b[1;32m    868\u001b[0m         merged_mask, mask_type \u001b[38;5;241m=\u001b[39m \u001b[38;5;28mself\u001b[39m\u001b[38;5;241m.\u001b[39mself_attn\u001b[38;5;241m.\u001b[39mmerge_masks(\n\u001b[1;32m    869\u001b[0m             src_mask, src_key_padding_mask, src\n\u001b[1;32m    870\u001b[0m         )\n\u001b[0;32m--> 871\u001b[0m         \u001b[38;5;28;01mreturn\u001b[39;00m \u001b[43mtorch\u001b[49m\u001b[38;5;241;43m.\u001b[39;49m\u001b[43m_transformer_encoder_layer_fwd\u001b[49m\u001b[43m(\u001b[49m\n\u001b[1;32m    872\u001b[0m \u001b[43m            \u001b[49m\u001b[43msrc\u001b[49m\u001b[43m,\u001b[49m\n\u001b[1;32m    873\u001b[0m \u001b[43m            \u001b[49m\u001b[38;5;28;43mself\u001b[39;49m\u001b[38;5;241;43m.\u001b[39;49m\u001b[43mself_attn\u001b[49m\u001b[38;5;241;43m.\u001b[39;49m\u001b[43membed_dim\u001b[49m\u001b[43m,\u001b[49m\n\u001b[1;32m    874\u001b[0m \u001b[43m            \u001b[49m\u001b[38;5;28;43mself\u001b[39;49m\u001b[38;5;241;43m.\u001b[39;49m\u001b[43mself_attn\u001b[49m\u001b[38;5;241;43m.\u001b[39;49m\u001b[43mnum_heads\u001b[49m\u001b[43m,\u001b[49m\n\u001b[1;32m    875\u001b[0m \u001b[43m            \u001b[49m\u001b[38;5;28;43mself\u001b[39;49m\u001b[38;5;241;43m.\u001b[39;49m\u001b[43mself_attn\u001b[49m\u001b[38;5;241;43m.\u001b[39;49m\u001b[43min_proj_weight\u001b[49m\u001b[43m,\u001b[49m\n\u001b[1;32m    876\u001b[0m \u001b[43m            \u001b[49m\u001b[38;5;28;43mself\u001b[39;49m\u001b[38;5;241;43m.\u001b[39;49m\u001b[43mself_attn\u001b[49m\u001b[38;5;241;43m.\u001b[39;49m\u001b[43min_proj_bias\u001b[49m\u001b[43m,\u001b[49m\n\u001b[1;32m    877\u001b[0m \u001b[43m            \u001b[49m\u001b[38;5;28;43mself\u001b[39;49m\u001b[38;5;241;43m.\u001b[39;49m\u001b[43mself_attn\u001b[49m\u001b[38;5;241;43m.\u001b[39;49m\u001b[43mout_proj\u001b[49m\u001b[38;5;241;43m.\u001b[39;49m\u001b[43mweight\u001b[49m\u001b[43m,\u001b[49m\n\u001b[1;32m    878\u001b[0m \u001b[43m            \u001b[49m\u001b[38;5;28;43mself\u001b[39;49m\u001b[38;5;241;43m.\u001b[39;49m\u001b[43mself_attn\u001b[49m\u001b[38;5;241;43m.\u001b[39;49m\u001b[43mout_proj\u001b[49m\u001b[38;5;241;43m.\u001b[39;49m\u001b[43mbias\u001b[49m\u001b[43m,\u001b[49m\n\u001b[1;32m    879\u001b[0m \u001b[43m            \u001b[49m\u001b[38;5;28;43mself\u001b[39;49m\u001b[38;5;241;43m.\u001b[39;49m\u001b[43mactivation_relu_or_gelu\u001b[49m\u001b[43m \u001b[49m\u001b[38;5;241;43m==\u001b[39;49m\u001b[43m \u001b[49m\u001b[38;5;241;43m2\u001b[39;49m\u001b[43m,\u001b[49m\n\u001b[1;32m    880\u001b[0m \u001b[43m            \u001b[49m\u001b[38;5;28;43mself\u001b[39;49m\u001b[38;5;241;43m.\u001b[39;49m\u001b[43mnorm_first\u001b[49m\u001b[43m,\u001b[49m\n\u001b[1;32m    881\u001b[0m \u001b[43m            \u001b[49m\u001b[38;5;28;43mself\u001b[39;49m\u001b[38;5;241;43m.\u001b[39;49m\u001b[43mnorm1\u001b[49m\u001b[38;5;241;43m.\u001b[39;49m\u001b[43meps\u001b[49m\u001b[43m,\u001b[49m\n\u001b[1;32m    882\u001b[0m \u001b[43m            \u001b[49m\u001b[38;5;28;43mself\u001b[39;49m\u001b[38;5;241;43m.\u001b[39;49m\u001b[43mnorm1\u001b[49m\u001b[38;5;241;43m.\u001b[39;49m\u001b[43mweight\u001b[49m\u001b[43m,\u001b[49m\n\u001b[1;32m    883\u001b[0m \u001b[43m            \u001b[49m\u001b[38;5;28;43mself\u001b[39;49m\u001b[38;5;241;43m.\u001b[39;49m\u001b[43mnorm1\u001b[49m\u001b[38;5;241;43m.\u001b[39;49m\u001b[43mbias\u001b[49m\u001b[43m,\u001b[49m\n\u001b[1;32m    884\u001b[0m \u001b[43m            \u001b[49m\u001b[38;5;28;43mself\u001b[39;49m\u001b[38;5;241;43m.\u001b[39;49m\u001b[43mnorm2\u001b[49m\u001b[38;5;241;43m.\u001b[39;49m\u001b[43mweight\u001b[49m\u001b[43m,\u001b[49m\n\u001b[1;32m    885\u001b[0m \u001b[43m            \u001b[49m\u001b[38;5;28;43mself\u001b[39;49m\u001b[38;5;241;43m.\u001b[39;49m\u001b[43mnorm2\u001b[49m\u001b[38;5;241;43m.\u001b[39;49m\u001b[43mbias\u001b[49m\u001b[43m,\u001b[49m\n\u001b[1;32m    886\u001b[0m \u001b[43m            \u001b[49m\u001b[38;5;28;43mself\u001b[39;49m\u001b[38;5;241;43m.\u001b[39;49m\u001b[43mlinear1\u001b[49m\u001b[38;5;241;43m.\u001b[39;49m\u001b[43mweight\u001b[49m\u001b[43m,\u001b[49m\n\u001b[1;32m    887\u001b[0m \u001b[43m            \u001b[49m\u001b[38;5;28;43mself\u001b[39;49m\u001b[38;5;241;43m.\u001b[39;49m\u001b[43mlinear1\u001b[49m\u001b[38;5;241;43m.\u001b[39;49m\u001b[43mbias\u001b[49m\u001b[43m,\u001b[49m\n\u001b[1;32m    888\u001b[0m \u001b[43m            \u001b[49m\u001b[38;5;28;43mself\u001b[39;49m\u001b[38;5;241;43m.\u001b[39;49m\u001b[43mlinear2\u001b[49m\u001b[38;5;241;43m.\u001b[39;49m\u001b[43mweight\u001b[49m\u001b[43m,\u001b[49m\n\u001b[1;32m    889\u001b[0m \u001b[43m            \u001b[49m\u001b[38;5;28;43mself\u001b[39;49m\u001b[38;5;241;43m.\u001b[39;49m\u001b[43mlinear2\u001b[49m\u001b[38;5;241;43m.\u001b[39;49m\u001b[43mbias\u001b[49m\u001b[43m,\u001b[49m\n\u001b[1;32m    890\u001b[0m \u001b[43m            \u001b[49m\u001b[43mmerged_mask\u001b[49m\u001b[43m,\u001b[49m\n\u001b[1;32m    891\u001b[0m \u001b[43m            \u001b[49m\u001b[43mmask_type\u001b[49m\u001b[43m,\u001b[49m\n\u001b[1;32m    892\u001b[0m \u001b[43m        \u001b[49m\u001b[43m)\u001b[49m\n\u001b[1;32m    894\u001b[0m \u001b[38;5;66;03m# see Fig. 1 of https://arxiv.org/pdf/2002.04745v1.pdf\u001b[39;00m\n\u001b[1;32m    895\u001b[0m x \u001b[38;5;241m=\u001b[39m src\n",
      "\u001b[0;31mKeyboardInterrupt\u001b[0m: "
     ]
    }
   ],
   "source": [
    "\n",
    "def get_mean(x):\n",
    "    return {k:np.mean(v) for k,v in x.items()}\n",
    "\n",
    "    \n",
    "def get_single_model_cos_f1(model_select):\n",
    "    hparams, model = choose_model(model_select, return_data_loader=False)\n",
    "    from datasets.optional_2d_folder_dataset import OptionalInputDataModule\n",
    "\n",
    "    datamodule = OptionalInputDataModule(dir=\"/workspace/SMILES_dataset\", FP_choice=hparams[\"FP_choice\"], input_src=[\"HSQC\", \"oneD_NMR\"], fp_loader = fp_loader_configer.fp_loader, batch_size=1, parser_args=hparams)\n",
    "\n",
    "\n",
    "    # %%\n",
    "    datamodule.setup(\"predict\")\n",
    "    # loader_all_inputs, loader_HSQC_H_NMR, loader_HSQC_C_NMR, loader_only_hsqc, loader_only_1d, loader_only_H_NMR, loader_only_C_NMR = datamodule.test_dataloader()\n",
    "    test_dataloaders = datamodule.predict_dataloader()\n",
    "\n",
    "    # %%\n",
    "    max_radius = fp_loader.max_radius\n",
    "    rankingset_path = f\"/root/gurusmart/MorganFP_prediction/inference_data/inference_rankingset_with_stable_sort/non_collision_FP_rankingset_max_radius_{max_radius}_dim_{hparams['out_dim']}_stacked_together/FP.pt\"\n",
    "\n",
    "    rankingset_data = torch.load(rankingset_path)#.to(\"cuda\")\n",
    "    rankingset_data = rankingset_data.to(model.device)\n",
    "\n",
    "\n",
    "    # %%\n",
    "\n",
    "\n",
    "    # %%\n",
    "    from collections import defaultdict\n",
    "\n",
    "    ## with MW\n",
    "    mean_rank_records_cos_with_mw = defaultdict(list)\n",
    "    mean_rank_records_f1_with_mw = defaultdict(list)\n",
    "    \n",
    "    mean_rank_records_cos_without_mw = defaultdict(list)\n",
    "    mean_rank_records_f1_without_mw = defaultdict(list)\n",
    "    for i in range(11):\n",
    "   \n",
    "        loader_idx = i\n",
    "        if i == 7: # Standard HSQC only\n",
    "            loader_idx = 3\n",
    "        if i == 8: # Standard HSQC, H NMR, and C NMR\n",
    "            loader_idx = 0\n",
    "        if i == 9: # Standard HSQC and H NMR\n",
    "            loader_idx = 1\n",
    "        if i == 10: # Standard HSQC and C NMR\n",
    "            loader_idx = 2\n",
    "            \n",
    "        for idx, batch in enumerate(tqdm.tqdm(test_dataloaders[loader_idx])):\n",
    "            \n",
    "            if i >= 7:\n",
    "                # last column all zeros\n",
    "                batch[0][:, :, -1] = 0\n",
    "            with torch.no_grad():\n",
    "                inputs, extra_info = batch\n",
    "                (ground_smiles, names, NMR_type_indicator, path, superclasses) = zip(*extra_info)\n",
    "                fp_label = torch.unsqueeze(fp_loader.build_mfp_for_new_SMILES(ground_smiles[0]), dim=0).to(model.device)\n",
    "                \n",
    "                # with mw\n",
    "                inputs = inputs.to(model.device)\n",
    "                NMR_type_indicator = NMR_type_indicator[0].to(model.device)\n",
    "                pred = model(inputs, NMR_type_indicator)\n",
    "            \n",
    "                fp_pred = (pred >= 0).float()\n",
    "                # print(fp_label.shape)\n",
    "                # print(fp_pred.shape)\n",
    "                mean_rank_records_cos_with_mw[loader_idx_to_name_mapping[i]].append(do_cos(fp_label, fp_pred).cpu().item())\n",
    "                mean_rank_records_f1_with_mw[loader_idx_to_name_mapping[i]].append(do_f1(fp_label, fp_pred).item())\n",
    "\n",
    "   \n",
    "                # remove mw\n",
    "                inputs = inputs[:, :-1]\n",
    "                # remove mw\n",
    "                NMR_type_indicator = NMR_type_indicator[:-1]\n",
    "                pred = model(inputs, NMR_type_indicator)\n",
    "                fp_pred = (pred >= 0).float()\n",
    "                mean_rank_records_cos_without_mw[loader_idx_to_name_mapping[i]].append(do_cos(fp_label, fp_pred).cpu().item())\n",
    "                mean_rank_records_f1_without_mw[loader_idx_to_name_mapping[i]].append(do_f1(fp_label, fp_pred).cpu().item())\n",
    "    return get_mean(mean_rank_records_cos_with_mw), get_mean(mean_rank_records_f1_with_mw), get_mean(mean_rank_records_cos_without_mw), get_mean(mean_rank_records_f1_without_mw)\n",
    "\n",
    "    \n",
    "for model_select in ['optional', \"optional2\",\"optional3\", ]:\n",
    "    dat = get_single_model_cos_f1(model_select)\n",
    "    print(dat)\n",
    "    save_dir = \"/root/gurusmart/MorganFP_prediction/reproduce_previous_works/Spectre/inference\"\n",
    "    with open(save_dir + f\"cos_f1_{model_select}.pkl\", 'wb') as file:\n",
    "        pickle.dump(dat, file)"
   ]
  },
  {
   "cell_type": "code",
   "execution_count": null,
   "id": "8aec3887",
   "metadata": {},
   "outputs": [],
   "source": []
  },
  {
   "cell_type": "code",
   "execution_count": null,
   "id": "932784ee",
   "metadata": {},
   "outputs": [],
   "source": []
  },
  {
   "cell_type": "markdown",
   "id": "4799bed8",
   "metadata": {},
   "source": [
    "load data"
   ]
  },
  {
   "cell_type": "code",
   "execution_count": 13,
   "id": "544938b5",
   "metadata": {},
   "outputs": [],
   "source": [
    "import pickle\n",
    "for model_select in ['optional', \"optional2\",\"optional3\", ]:\n",
    "   \n",
    "    save_dir = \"/root/gurusmart/MorganFP_prediction/reproduce_previous_works/Spectre/inference\"\n",
    "    with open(save_dir + f\"cos_f1_{model_select}.pkl\", 'rb') as file:\n",
    "        dat = pickle.load(file)\n",
    "        \n",
    "    mean_rank_records_cos_with_mw, mean_rank_records_f1_with_mw, mean_rank_records_cos_without_mw, mean_rank_records_f1_without_mw = dat\n"
   ]
  },
  {
   "cell_type": "code",
   "execution_count": 14,
   "id": "5406b015",
   "metadata": {},
   "outputs": [
    {
     "name": "stdout",
     "output_type": "stream",
     "text": [
      "without MW\n",
      "cosine_flexible = [89.11, 89.02, 87.11, 86.24, 79.24, 75.16, 55.12, 84.43, 88.09, 85.67, 88.26]\n",
      "cosine_flexible_err = [0.37, 0.32, 0.43, 0.48, 0.48, 0.57, 0.1, 0.37, 0.25, 0.34, 0.33]\n",
      "f1_flexible = [88.97, 88.88, 86.94, 86.05, 78.86, 74.68, 52.95, 84.18, 87.93, 85.47, 88.11]\n",
      "f1_flexible_err = [0.36, 0.31, 0.43, 0.47, 0.45, 0.53, 0.17, 0.36, 0.25, 0.34, 0.33]\n",
      "\n",
      "with MW\n",
      "\n",
      "cosine_flexible = [89.2, 89.11, 87.34, 86.49, 79.47, 75.48, 56.91, 84.78, 88.17, 85.94, 88.34]\n",
      "cosine_flexible_err = [0.36, 0.31, 0.41, 0.46, 0.44, 0.51, 0.36, 0.34, 0.25, 0.34, 0.31]\n",
      "f1_flexible = [89.07, 88.98, 87.18, 86.31, 79.11, 75.02, 54.95, 84.55, 88.01, 85.75, 88.2]\n",
      "f1_flexible_err = [0.35, 0.31, 0.4, 0.45, 0.41, 0.46, 0.5, 0.33, 0.25, 0.33, 0.3]\n"
     ]
    }
   ],
   "source": [
    "import pickle\n",
    "import numpy as np\n",
    "\n",
    "# Ordered keys (these define the desired output order)\n",
    "ordered_keys = [\n",
    "    \"eHSQC, H NMR, and C NMR\",\n",
    "    \"eHSQC and C NMR\",\n",
    "    \"eHSQC and H NMR\",\n",
    "    \"eHSQC Only\",\n",
    "    \"C NMR and H NMR\",\n",
    "    \"C NMR Only\",\n",
    "    \"H NMR Only\",\n",
    "    \"Standard HSQC only\",\n",
    "    \"Standard HSQC and C NMR\",\n",
    "    \"Standard HSQC and H NMR\",\n",
    "    \"Standard HSQC, H NMR, and C NMR\"\n",
    "]\n",
    "\n",
    "# Container to collect values\n",
    "all_cos_with, all_cos_without = [], []\n",
    "all_f1_with, all_f1_without = [], []\n",
    "\n",
    "# Load and collect values from each model\n",
    "for model_select in ['optional', \"optional2\", \"optional3\"]:\n",
    "    save_dir = \"/root/gurusmart/MorganFP_prediction/reproduce_previous_works/Spectre/inference\"\n",
    "    with open(save_dir + f\"cos_f1_{model_select}.pkl\", 'rb') as file:\n",
    "        dat = pickle.load(file)\n",
    "\n",
    "    mean_rank_cos_with, mean_rank_f1_with, mean_rank_cos_without, mean_rank_f1_without = dat\n",
    "\n",
    "    # Collect in the correct order\n",
    "    all_cos_with.append([mean_rank_cos_with[k] for k in ordered_keys])\n",
    "    all_f1_with.append([mean_rank_f1_with[k] for k in ordered_keys])\n",
    "    all_cos_without.append([mean_rank_cos_without[k] for k in ordered_keys])\n",
    "    all_f1_without.append([mean_rank_f1_without[k] for k in ordered_keys])\n",
    "\n",
    "# Convert to numpy arrays for easy mean/std computation\n",
    "all_cos_with = np.array(all_cos_with)\n",
    "all_f1_with = np.array(all_f1_with)\n",
    "all_cos_without = np.array(all_cos_without)\n",
    "all_f1_without = np.array(all_f1_without)\n",
    "\n",
    "# Final lists\n",
    "cosine_flexible = np.round(all_cos_without.mean(axis=0) * 100, 2).tolist()\n",
    "cosine_flexible_err = np.round(all_cos_without.std(axis=0) * 100, 2).tolist()\n",
    "\n",
    "f1_flexible = np.round(all_f1_without.mean(axis=0) * 100, 2).tolist()\n",
    "f1_flexible_err = np.round(all_f1_without.std(axis=0) * 100, 2).tolist()\n",
    "\n",
    "# Also compute _with_mw variants if needed\n",
    "cosine_flexible_with_mw = np.round(all_cos_with.mean(axis=0) * 100, 2).tolist()\n",
    "cosine_flexible_err_with_mw = np.round(all_cos_with.std(axis=0) * 100, 2).tolist()\n",
    "\n",
    "f1_flexible_with_mw = np.round(all_f1_with.mean(axis=0) * 100, 2).tolist()\n",
    "f1_flexible_err_with_mw = np.round(all_f1_with.std(axis=0) * 100, 2).tolist()\n",
    "\n",
    "# Print results\n",
    "print(\"without MW\")\n",
    "print(\"cosine_flexible =\", cosine_flexible)\n",
    "print(\"cosine_flexible_err =\", cosine_flexible_err)\n",
    "print(\"f1_flexible =\", f1_flexible)\n",
    "print(\"f1_flexible_err =\", f1_flexible_err)\n",
    "\n",
    "print(\"\\nwith MW\")\n",
    "print(\"\\ncosine_flexible =\", cosine_flexible_with_mw)\n",
    "print(\"cosine_flexible_err =\", cosine_flexible_err_with_mw)\n",
    "print(\"f1_flexible =\", f1_flexible_with_mw)\n",
    "print(\"f1_flexible_err =\", f1_flexible_err_with_mw)\n"
   ]
  },
  {
   "cell_type": "code",
   "execution_count": 7,
   "id": "1fc0d514",
   "metadata": {},
   "outputs": [
    {
     "data": {
      "text/plain": [
       "{'eHSQC, H NMR, and C NMR': np.float64(0.897035877031129),\n",
       " 'eHSQC and H NMR': np.float64(0.8791289882444183),\n",
       " 'eHSQC and C NMR': np.float64(0.8953874333958184),\n",
       " 'eHSQC Only': np.float64(0.8714794737086641),\n",
       " 'C NMR and H NMR': np.float64(0.8009897376864384),\n",
       " 'H NMR Only': np.float64(0.564067937980665),\n",
       " 'C NMR Only': np.float64(0.7620080567848606),\n",
       " 'Standard HSQC only': np.float64(0.8524294680855155),\n",
       " 'Standard HSQC, H NMR, and C NMR': np.float64(0.887700769517578),\n",
       " 'Standard HSQC and H NMR': np.float64(0.8641958430710688),\n",
       " 'Standard HSQC and C NMR': np.float64(0.8851275568041781)}"
      ]
     },
     "execution_count": 7,
     "metadata": {},
     "output_type": "execute_result"
    }
   ],
   "source": [
    "mean_rank_cos_with"
   ]
  },
  {
   "cell_type": "code",
   "execution_count": 8,
   "id": "030730ee",
   "metadata": {},
   "outputs": [
    {
     "data": {
      "text/plain": [
       "{'eHSQC, H NMR, and C NMR': np.float64(0.897035877031129),\n",
       " 'eHSQC and H NMR': np.float64(0.8791289882444183),\n",
       " 'eHSQC and C NMR': np.float64(0.8953874333958184),\n",
       " 'eHSQC Only': np.float64(0.8714794737086641),\n",
       " 'C NMR and H NMR': np.float64(0.8009897376864384),\n",
       " 'H NMR Only': np.float64(0.564067937980665),\n",
       " 'C NMR Only': np.float64(0.7620080567848606),\n",
       " 'Standard HSQC only': np.float64(0.8524294680855155),\n",
       " 'Standard HSQC, H NMR, and C NMR': np.float64(0.887700769517578),\n",
       " 'Standard HSQC and H NMR': np.float64(0.8641958430710688),\n",
       " 'Standard HSQC and C NMR': np.float64(0.8851275568041781)}"
      ]
     },
     "execution_count": 8,
     "metadata": {},
     "output_type": "execute_result"
    }
   ],
   "source": [
    "mean_rank_cos_without"
   ]
  },
  {
   "cell_type": "code",
   "execution_count": null,
   "id": "1f9d4c3f",
   "metadata": {},
   "outputs": [],
   "source": []
  }
 ],
 "metadata": {
  "kernelspec": {
   "display_name": "base",
   "language": "python",
   "name": "python3"
  },
  "language_info": {
   "codemirror_mode": {
    "name": "ipython",
    "version": 3
   },
   "file_extension": ".py",
   "mimetype": "text/x-python",
   "name": "python",
   "nbconvert_exporter": "python",
   "pygments_lexer": "ipython3",
   "version": "3.11.10"
  }
 },
 "nbformat": 4,
 "nbformat_minor": 5
}
