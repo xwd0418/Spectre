{
 "cells": [
  {
   "cell_type": "code",
   "execution_count": 1,
   "metadata": {},
   "outputs": [
    {
     "name": "stdout",
     "output_type": "stream",
     "text": [
      "loading time: 34.45398283004761\n",
      "counting time: 3.727567434310913\n",
      "finish entropy list\n"
     ]
    }
   ],
   "source": [
    "\n",
    "import sys\n",
    "sys.path.insert(0,\"/root/MorganFP_prediction/reproduce_previous_works/Spectre\")\n",
    "\n",
    "from datasets.dataset_utils import fp_loader_configer, plot_NMR\n",
    "\n",
    "fp_loader_configer.select_version(\"MFP_Specific_Radius\")\n",
    "specific_radius_mfp_loader = fp_loader_configer.fp_loader\n",
    "\n",
    "specific_radius_mfp_loader.setup(only_2d=False,FP_building_type=\"Normal\")\n",
    "specific_radius_mfp_loader.set_max_radius(3, only_2d=False)"
   ]
  },
  {
   "cell_type": "code",
   "execution_count": 14,
   "metadata": {},
   "outputs": [
    {
     "data": {
      "text/plain": [
       "[0,\n",
       " 5,\n",
       " 9,\n",
       " 13,\n",
       " 18,\n",
       " 22,\n",
       " 27,\n",
       " 31,\n",
       " 37,\n",
       " 41,\n",
       " 44,\n",
       " 50,\n",
       " 66,\n",
       " 70,\n",
       " 123,\n",
       " 146,\n",
       " 182,\n",
       " 192,\n",
       " 236,\n",
       " 266,\n",
       " 298,\n",
       " 302,\n",
       " 704,\n",
       " 742,\n",
       " 818,\n",
       " 841,\n",
       " 1073,\n",
       " 1084,\n",
       " 1120,\n",
       " 1156,\n",
       " 1205,\n",
       " 1417,\n",
       " 2930,\n",
       " 3323,\n",
       " 3443,\n",
       " 3621,\n",
       " 4077,\n",
       " 4201,\n",
       " 4339,\n",
       " 4817,\n",
       " 4889,\n",
       " 5123,\n",
       " 5232]"
      ]
     },
     "execution_count": 14,
     "metadata": {},
     "output_type": "execute_result"
    }
   ],
   "source": [
    "# [ x for x in specific_radius_mfp_loader.indices_kept if x <6144]\n",
    "import numpy as np\n",
    "r0_indices = np.where(specific_radius_mfp_loader.indices_kept < 6144)[0].tolist()\n",
    "r0_indices"
   ]
  },
  {
   "cell_type": "code",
   "execution_count": 15,
   "metadata": {},
   "outputs": [
    {
     "name": "stdout",
     "output_type": "stream",
     "text": [
      "dict_keys([2704, 3067, 3105, 4176, 4791, 4903])\n"
     ]
    }
   ],
   "source": [
    "from rdkit.Chem import rdFingerprintGenerator\n",
    "from rdkit import Chem\n",
    "radius = 0\n",
    "length = 6144\n",
    "mol = Chem.MolFromSmiles(\"COC1OC(CO)C(O)C(O)C1O\")\n",
    "gen = rdFingerprintGenerator.GetMorganGenerator(radius=radius, fpSize=length)\n",
    "ao = rdFingerprintGenerator.AdditionalOutput()\n",
    "ao.AllocateBitInfoMap()\n",
    "fp = gen.GetFingerprint(mol, additionalOutput=ao)\n",
    "bitInfo = ao.GetBitInfoMap()\n",
    "\n",
    "print(bitInfo.keys())"
   ]
  },
  {
   "cell_type": "code",
   "execution_count": 3,
   "metadata": {},
   "outputs": [
    {
     "data": {
      "text/plain": [
       "array([ 5748, 18036, 11892, ..., 15621, 11238, 13356])"
      ]
     },
     "execution_count": 3,
     "metadata": {},
     "output_type": "execute_result"
    }
   ],
   "source": [
    "specific_radius_mfp_loader.indices_kept"
   ]
  },
  {
   "cell_type": "code",
   "execution_count": null,
   "metadata": {},
   "outputs": [
    {
     "data": {
      "text/plain": [
       "[0,\n",
       " 1,\n",
       " 24,\n",
       " 27,\n",
       " 39,\n",
       " 40,\n",
       " 41,\n",
       " 42,\n",
       " 43,\n",
       " 44,\n",
       " 45,\n",
       " 46,\n",
       " 47,\n",
       " 48,\n",
       " 49,\n",
       " 50,\n",
       " 51,\n",
       " 66,\n",
       " 67,\n",
       " 68,\n",
       " 69,\n",
       " 70,\n",
       " 89,\n",
       " 90,\n",
       " 103,\n",
       " 105,\n",
       " 114,\n",
       " 118,\n",
       " 121,\n",
       " 122,\n",
       " 124,\n",
       " 126,\n",
       " 128,\n",
       " 137,\n",
       " 138,\n",
       " 139,\n",
       " 140,\n",
       " 141,\n",
       " 150,\n",
       " 162,\n",
       " 213,\n",
       " 214,\n",
       " 378,\n",
       " 385,\n",
       " 395,\n",
       " 535,\n",
       " 536,\n",
       " 537,\n",
       " 539,\n",
       " 540,\n",
       " 598,\n",
       " 599,\n",
       " 600,\n",
       " 3707]"
      ]
     },
     "execution_count": 2,
     "metadata": {},
     "output_type": "execute_result"
    }
   ],
   "source": [
    "specific_radius_mfp_loader.build_mfp_for_new_SMILES(\"COC1OC(CO)C(O)C(O)C1O\").nonzero().squeeze().tolist()"
   ]
  },
  {
   "cell_type": "code",
   "execution_count": 5,
   "metadata": {},
   "outputs": [
    {
     "name": "stderr",
     "output_type": "stream",
     "text": [
      "/tmp/ipykernel_1072/3551964010.py:3: FutureWarning: You are using `torch.load` with `weights_only=False` (the current default value), which uses the default pickle module implicitly. It is possible to construct malicious pickle data which will execute arbitrary code during unpickling (See https://github.com/pytorch/pytorch/blob/main/SECURITY.md#untrusted-models for more details). In a future release, the default value for `weights_only` will be flipped to `True`. This limits the functions that could be executed during unpickling. Arbitrary objects will no longer be allowed to be loaded via this mode unless they are explicitly allowlisted by the user via `torch.serialization.add_safe_globals`. We recommend you start setting `weights_only=True` for any use case where you don't have full control of the loaded file. Please open an issue on GitHub for any issues related to this experimental feature.\n",
      "  rk_set = torch.load(rk_set_path)\n"
     ]
    }
   ],
   "source": [
    "rk_set_path = \"/root/MorganFP_prediction/inference_data/coconut_loutus_hyun_training/max_radius_2_stacked_together/FP.pt\"\n",
    "import torch\n",
    "rk_set = torch.load(rk_set_path)"
   ]
  },
  {
   "cell_type": "code",
   "execution_count": 8,
   "metadata": {},
   "outputs": [
    {
     "data": {
      "text/plain": [
       "[1,\n",
       " 2,\n",
       " 26,\n",
       " 27,\n",
       " 39,\n",
       " 40,\n",
       " 41,\n",
       " 42,\n",
       " 43,\n",
       " 44,\n",
       " 45,\n",
       " 46,\n",
       " 47,\n",
       " 48,\n",
       " 49,\n",
       " 50,\n",
       " 51,\n",
       " 67,\n",
       " 68,\n",
       " 69,\n",
       " 70,\n",
       " 71,\n",
       " 86,\n",
       " 88,\n",
       " 94,\n",
       " 96,\n",
       " 115,\n",
       " 118,\n",
       " 119,\n",
       " 120,\n",
       " 121,\n",
       " 122,\n",
       " 123,\n",
       " 132,\n",
       " 145,\n",
       " 167,\n",
       " 168,\n",
       " 169,\n",
       " 171,\n",
       " 172,\n",
       " 216,\n",
       " 219,\n",
       " 370,\n",
       " 378,\n",
       " 384,\n",
       " 573,\n",
       " 574,\n",
       " 575,\n",
       " 577,\n",
       " 578,\n",
       " 635,\n",
       " 636,\n",
       " 637,\n",
       " 3625]"
      ]
     },
     "execution_count": 8,
     "metadata": {},
     "output_type": "execute_result"
    }
   ],
   "source": [
    "rk_set[2551].nonzero().squeeze().tolist()"
   ]
  },
  {
   "cell_type": "code",
   "execution_count": null,
   "metadata": {},
   "outputs": [],
   "source": []
  }
 ],
 "metadata": {
  "kernelspec": {
   "display_name": "base",
   "language": "python",
   "name": "python3"
  },
  "language_info": {
   "codemirror_mode": {
    "name": "ipython",
    "version": 3
   },
   "file_extension": ".py",
   "mimetype": "text/x-python",
   "name": "python",
   "nbconvert_exporter": "python",
   "pygments_lexer": "ipython3",
   "version": "3.11.10"
  }
 },
 "nbformat": 4,
 "nbformat_minor": 2
}
