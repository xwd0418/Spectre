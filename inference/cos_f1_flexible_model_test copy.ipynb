{
 "cells": [
  {
   "cell_type": "code",
   "execution_count": 1,
   "id": "2e61a689",
   "metadata": {},
   "outputs": [
    {
     "name": "stdout",
     "output_type": "stream",
     "text": [
      "choosing Hash_Entropy_FP_loader\n",
      "526316\n"
     ]
    }
   ],
   "source": [
    "# %%\n",
    "import warnings\n",
    "warnings.filterwarnings(\"ignore\", category=FutureWarning, message=\"You are using `torch.load` with `weights_only=False`\")\n",
    "warnings.filterwarnings(\"ignore\", category=UserWarning, message=\"The PyTorch API of nested tensors is in prototype stage and will change in the near future.\")\n",
    "\n",
    "\n",
    "\n",
    "import sys, os\n",
    "\n",
    "model_number = os.environ.get(\"MODEL_NUMBER\")\n",
    "sys.path.insert(0,\"/root/gurusmart/MorganFP_prediction/reproduce_previous_works/Spectre\")\n",
    "            \n",
    "import torch\n",
    "torch.set_printoptions(precision=10)\n",
    "\n",
    "\n",
    "import yaml\n",
    "torch.set_float32_matmul_precision('high')\n",
    "from pathlib import Path\n",
    "\n",
    "from rdkit import Chem\n",
    "from rdkit.Chem import Draw\n",
    "# load model \n",
    "from datasets.dataset_utils import  fp_loader_configer\n",
    "\n",
    "fp_loader_configer.select_version(\"Hash_Entropy\")\n",
    "fp_loader = fp_loader_configer.fp_loader\n",
    "\n",
    "import numpy as np \n",
    "import random\n",
    "seed=2\n",
    "torch.cuda.manual_seed_all(seed) \n",
    "np.random.seed(seed)\n",
    "random.seed(seed)\n",
    "\n",
    "\n",
    "\n",
    "# %%\n",
    "import pickle\n",
    "with open(f'/root/gurusmart/MorganFP_prediction/inference_data/coconut_loutus_hyun_training/inference_metadata_latest_RDkit.pkl', 'rb') as file:\n",
    "    smiles_and_names = pickle.load(file)\n",
    "print(len(smiles_and_names))\n",
    "\n",
    "# %%\n",
    "from inference.inference_utils import choose_model , plot_topk_accuracy\n",
    "from inference.inference_utils import retrieve_top_k_by_rankingset, compute_cos_sim, unpack_inputs_no_delimiter, build_input, inference_topK\n",
    "\n",
    "\n",
    "old_loader_idx_to_name_mapping = {\n",
    "    0: \"All Inputs\",\n",
    "    1: \"HSQC and H NMR\",\n",
    "    2: \"HSQC and C NMR\",\n",
    "    3: \"HSQC Only\",\n",
    "    4: \"C NMR and H NMR\",\n",
    "    5: \"H NMR Only\",\n",
    "    6: \"C NMR Only\",\n",
    "    7: \"Standard HSQC (Non-Multiplicity-Edited)\",\n",
    "}\n",
    "\n",
    "\n",
    "loader_idx_to_name_mapping = {\n",
    "    0: \"eHSQC, H NMR, and C NMR\",\n",
    "    1: \"eHSQC and H NMR\",\n",
    "    2: \"eHSQC and C NMR\",\n",
    "    3: \"eHSQC Only\",\n",
    "    4: \"C NMR and H NMR\",\n",
    "    5: \"H NMR Only\",\n",
    "    6: \"C NMR Only\",\n",
    "    7: \"Standard HSQC only\",\n",
    "    8: \"Standard HSQC, H NMR, and C NMR\",\n",
    "    9: \"Standard HSQC and H NMR\",\n",
    "    10: \"Standard HSQC and C NMR\",\n",
    "    \n",
    "    \n",
    "}\n",
    "import tqdm\n"
   ]
  },
  {
   "cell_type": "code",
   "execution_count": 2,
   "id": "20abbd9e",
   "metadata": {},
   "outputs": [],
   "source": [
    "from torchmetrics.classification import BinaryRecall, BinaryPrecision, BinaryF1Score, BinaryAccuracy\n",
    "import torch.nn as nn\n",
    "\n",
    "do_f1 = BinaryF1Score().to('cuda')\n",
    "do_cos = nn.CosineSimilarity(dim=1)\n"
   ]
  },
  {
   "cell_type": "code",
   "execution_count": 3,
   "id": "aee7bc37",
   "metadata": {},
   "outputs": [
    {
     "name": "stdout",
     "output_type": "stream",
     "text": [
      "loading model from:  /root/gurusmart/MorganFP_prediction/reproduce_previous_works/entropy_on_hashes/flexible_models_jittering_flexible_MW_flexible_normal_hsqc/r0_r6_trial_3/checkpoints/epoch=67-step=46104.ckpt\n"
     ]
    },
    {
     "name": "stderr",
     "output_type": "stream",
     "text": [
      "Initialized SignCoordinateEncoder[784] with dims [365, 365, 54] and 2 positional encoders. 54 bits are reserved for encoding the final bit\n"
     ]
    },
    {
     "name": "stdout",
     "output_type": "stream",
     "text": [
      "HsqcRankedTransformer saving args\n",
      "finish entropy list\n",
      "Hash_Entropy_FP_loader is setup, out_dim=16384, max_radius=6\n"
     ]
    },
    {
     "name": "stderr",
     "output_type": "stream",
     "text": [
      "/opt/conda/lib/python3.11/site-packages/torch/_utils.py:315: UserWarning: Sparse CSR tensor support is in beta state. If you miss a functionality in the sparse tensor support, please submit a feature request to https://github.com/pytorch/pytorch/issues. (Triggered internally at ../aten/src/ATen/SparseCsrTensorImpl.cpp:53.)\n",
      "  result = torch.sparse_compressed_tensor(\n",
      "100%|██████████| 4056/4056 [03:28<00:00, 19.41it/s]\n",
      "100%|██████████| 4056/4056 [03:25<00:00, 19.76it/s]\n",
      "100%|██████████| 4056/4056 [03:27<00:00, 19.59it/s]\n",
      "100%|██████████| 4056/4056 [03:34<00:00, 18.92it/s]\n",
      "100%|██████████| 4056/4056 [03:27<00:00, 19.57it/s]\n",
      "100%|██████████| 4056/4056 [03:26<00:00, 19.67it/s]\n",
      "100%|██████████| 4056/4056 [03:30<00:00, 19.30it/s]\n",
      "100%|██████████| 4056/4056 [03:32<00:00, 19.07it/s]\n",
      "100%|██████████| 4056/4056 [03:31<00:00, 19.20it/s]\n",
      "100%|██████████| 4056/4056 [03:29<00:00, 19.39it/s]\n",
      "100%|██████████| 4056/4056 [03:24<00:00, 19.85it/s]\n"
     ]
    },
    {
     "name": "stdout",
     "output_type": "stream",
     "text": [
      "({'eHSQC, H NMR, and C NMR': np.float64(0.8970229703477443), 'eHSQC and H NMR': np.float64(0.8791183323601235), 'eHSQC and C NMR': np.float64(0.8954051761966956), 'eHSQC Only': np.float64(0.871503987470807), 'C NMR and H NMR': np.float64(0.80099688388804), 'H NMR Only': np.float64(0.5640236688975274), 'C NMR Only': np.float64(0.7620332616802004), 'Standard HSQC only': np.float64(0.8524614887411249), 'Standard HSQC, H NMR, and C NMR': np.float64(0.887710772649453), 'Standard HSQC and H NMR': np.float64(0.8641952941014158), 'Standard HSQC and C NMR': np.float64(0.8850914266316819)}, {'eHSQC, H NMR, and C NMR': np.float64(0.8956385006250068), 'eHSQC and H NMR': np.float64(0.8773942493339468), 'eHSQC and C NMR': np.float64(0.8939942494034767), 'eHSQC Only': np.float64(0.869539353439926), 'C NMR and H NMR': np.float64(0.7968193151100853), 'H NMR Only': np.float64(0.5423581875994787), 'C NMR Only': np.float64(0.7566894247055171), 'Standard HSQC only': np.float64(0.8499520587251767), 'Standard HSQC, H NMR, and C NMR': np.float64(0.8861577702021223), 'Standard HSQC and H NMR': np.float64(0.8621415473755882), 'Standard HSQC and C NMR': np.float64(0.8834888204340722)}, {'eHSQC, H NMR, and C NMR': np.float64(0.8962538657302158), 'eHSQC and H NMR': np.float64(0.8771600378640511), 'eHSQC and C NMR': np.float64(0.8946116633375251), 'eHSQC Only': np.float64(0.8691960703746895), 'C NMR and H NMR': np.float64(0.7992410502879636), 'H NMR Only': np.float64(0.5518822615834861), 'C NMR Only': np.float64(0.7595889523691504), 'Standard HSQC only': np.float64(0.8493881502594703), 'Standard HSQC, H NMR, and C NMR': np.float64(0.8872623896902276), 'Standard HSQC and H NMR': np.float64(0.8615579197231011), 'Standard HSQC and C NMR': np.float64(0.884338238945183)}, {'eHSQC, H NMR, and C NMR': np.float64(0.8948556898084618), 'eHSQC and H NMR': np.float64(0.8754523326688735), 'eHSQC and C NMR': np.float64(0.8931640222764168), 'eHSQC Only': np.float64(0.8671611747419723), 'C NMR and H NMR': np.float64(0.7949905671818546), 'H NMR Only': np.float64(0.5285148395650655), 'C NMR Only': np.float64(0.754219716343169), 'Standard HSQC only': np.float64(0.8468105325023451), 'Standard HSQC, H NMR, and C NMR': np.float64(0.8857061946048186), 'Standard HSQC and H NMR': np.float64(0.8595029023150809), 'Standard HSQC and C NMR': np.float64(0.882726256169849)})\n"
     ]
    }
   ],
   "source": [
    "\n",
    "def get_mean(x):\n",
    "    return {k:np.mean(v) for k,v in x.items()}\n",
    "\n",
    "    \n",
    "def get_single_model_cos_f1(model_select):\n",
    "    hparams, model = choose_model(model_select, return_data_loader=False)\n",
    "    from datasets.optional_2d_folder_dataset import OptionalInputDataModule\n",
    "\n",
    "    datamodule = OptionalInputDataModule(dir=\"/workspace/SMILES_dataset\", FP_choice=hparams[\"FP_choice\"], input_src=[\"HSQC\", \"oneD_NMR\"], fp_loader = fp_loader_configer.fp_loader, batch_size=1, parser_args=hparams)\n",
    "\n",
    "\n",
    "    # %%\n",
    "    datamodule.setup(\"predict\")\n",
    "    # loader_all_inputs, loader_HSQC_H_NMR, loader_HSQC_C_NMR, loader_only_hsqc, loader_only_1d, loader_only_H_NMR, loader_only_C_NMR = datamodule.test_dataloader()\n",
    "    test_dataloaders = datamodule.predict_dataloader()\n",
    "\n",
    "    # %%\n",
    "    max_radius = fp_loader.max_radius\n",
    "    rankingset_path = f\"/root/gurusmart/MorganFP_prediction/inference_data/inference_rankingset_with_stable_sort/non_collision_FP_rankingset_max_radius_{max_radius}_dim_{hparams['out_dim']}_stacked_together/FP.pt\"\n",
    "\n",
    "    rankingset_data = torch.load(rankingset_path)#.to(\"cuda\")\n",
    "    rankingset_data = rankingset_data.to(model.device)\n",
    "\n",
    "\n",
    "    # %%\n",
    "\n",
    "\n",
    "    # %%\n",
    "    from collections import defaultdict\n",
    "\n",
    "    ## with MW\n",
    "    mean_rank_records_cos_with_mw = defaultdict(list)\n",
    "    mean_rank_records_f1_with_mw = defaultdict(list)\n",
    "    \n",
    "    mean_rank_records_cos_without_mw = defaultdict(list)\n",
    "    mean_rank_records_f1_without_mw = defaultdict(list)\n",
    "    for i in range(11):\n",
    "   \n",
    "        loader_idx = i\n",
    "        if i == 7: # Standard HSQC only\n",
    "            loader_idx = 3\n",
    "        if i == 8: # Standard HSQC, H NMR, and C NMR\n",
    "            loader_idx = 0\n",
    "        if i == 9: # Standard HSQC and H NMR\n",
    "            loader_idx = 1\n",
    "        if i == 10: # Standard HSQC and C NMR\n",
    "            loader_idx = 2\n",
    "            \n",
    "        for idx, batch in enumerate(tqdm.tqdm(test_dataloaders[loader_idx])):\n",
    "            \n",
    "            if i >= 7:\n",
    "                # last column all zeros\n",
    "                batch[0][:, :, -1] = 0\n",
    "            with torch.no_grad():\n",
    "                inputs, extra_info = batch\n",
    "                (ground_smiles, names, NMR_type_indicator, path, superclasses) = zip(*extra_info)\n",
    "                fp_label = torch.unsqueeze(fp_loader.build_mfp_for_new_SMILES(ground_smiles[0]), dim=0).to(model.device)\n",
    "                \n",
    "                # with mw\n",
    "                inputs = inputs.to(model.device)\n",
    "                NMR_type_indicator = NMR_type_indicator[0].to(model.device)\n",
    "                pred = model(inputs, NMR_type_indicator)\n",
    "            \n",
    "                fp_pred = (pred >= 0).float()\n",
    "                # print(fp_label.shape)\n",
    "                # print(fp_pred.shape)\n",
    "                mean_rank_records_cos_with_mw[loader_idx_to_name_mapping[i]].append(do_cos(fp_label, fp_pred).cpu().item())\n",
    "                mean_rank_records_f1_with_mw[loader_idx_to_name_mapping[i]].append(do_f1(fp_label, fp_pred).item())\n",
    "\n",
    "   \n",
    "                # remove mw\n",
    "                inputs = inputs[:, :-1]\n",
    "                # remove mw\n",
    "                NMR_type_indicator = NMR_type_indicator[:-1]\n",
    "                pred = model(inputs, NMR_type_indicator)\n",
    "                fp_pred = (pred >= 0).float()\n",
    "                mean_rank_records_cos_without_mw[loader_idx_to_name_mapping[i]].append(do_cos(fp_label, fp_pred).cpu().item())\n",
    "                mean_rank_records_f1_without_mw[loader_idx_to_name_mapping[i]].append(do_f1(fp_label, fp_pred).cpu().item())\n",
    "    return get_mean(mean_rank_records_cos_with_mw), get_mean(mean_rank_records_f1_with_mw), get_mean(mean_rank_records_cos_without_mw), get_mean(mean_rank_records_f1_without_mw)\n",
    "\n",
    "    \n",
    "for model_select in [\"optional3\", ]:\n",
    "    dat = get_single_model_cos_f1(model_select)\n",
    "    print(dat) \n",
    "    save_dir = \"/root/gurusmart/MorganFP_prediction/reproduce_previous_works/Spectre/inference\"\n",
    "    with open(save_dir + f\"cos_f1_{model_select}.pkl\", 'wb') as file:\n",
    "        pickle.dump(dat, file)"
   ]
  },
  {
   "cell_type": "code",
   "execution_count": null,
   "id": "8aec3887",
   "metadata": {},
   "outputs": [],
   "source": []
  },
  {
   "cell_type": "code",
   "execution_count": null,
   "id": "932784ee",
   "metadata": {},
   "outputs": [],
   "source": []
  },
  {
   "cell_type": "markdown",
   "id": "4799bed8",
   "metadata": {},
   "source": [
    "load data"
   ]
  },
  {
   "cell_type": "code",
   "execution_count": 1,
   "id": "544938b5",
   "metadata": {},
   "outputs": [],
   "source": [
    "import pickle\n",
    "for model_select in ['optional', \"optional2\",\"optional3\", ]:\n",
    "   \n",
    "    save_dir = \"/root/gurusmart/MorganFP_prediction/reproduce_previous_works/Spectre/inference\"\n",
    "    with open(save_dir + f\"cos_f1_{model_select}.pkl\", 'rb') as file:\n",
    "        dat = pickle.load(file)\n",
    "        \n",
    "    mean_rank_records_cos_with_mw, mean_rank_records_f1_with_mw, mean_rank_records_cos_without_mw, mean_rank_records_f1_without_mw = dat\n"
   ]
  },
  {
   "cell_type": "code",
   "execution_count": null,
   "id": "5406b015",
   "metadata": {},
   "outputs": [
    {
     "name": "stdout",
     "output_type": "stream",
     "text": [
      "without MW\n",
      "cosine_flexible = [89.2, 89.11, 87.34, 86.49, 79.47, 75.48, 56.91, 84.78, 88.17, 85.94, 88.34]\n",
      "cosine_flexible_err = [0.36, 0.31, 0.41, 0.46, 0.44, 0.51, 0.36, 0.34, 0.25, 0.34, 0.3]\n",
      "f1_flexible = [89.07, 88.98, 87.18, 86.31, 79.11, 75.02, 54.94, 84.55, 88.02, 85.75, 88.2]\n",
      "f1_flexible_err = [0.36, 0.31, 0.4, 0.45, 0.41, 0.46, 0.5, 0.33, 0.25, 0.33, 0.3]\n",
      "\n",
      "with MW\n",
      "\n",
      "cosine_flexible = [89.2, 89.11, 87.34, 86.49, 79.47, 75.48, 56.91, 84.78, 88.17, 85.94, 88.34]\n",
      "cosine_flexible_err = [0.36, 0.31, 0.41, 0.46, 0.44, 0.51, 0.36, 0.34, 0.25, 0.34, 0.3]\n",
      "f1_flexible = [89.07, 88.98, 87.18, 86.31, 79.11, 75.02, 54.94, 84.55, 88.02, 85.75, 88.2]\n",
      "f1_flexible = [0.36, 0.31, 0.4, 0.45, 0.41, 0.46, 0.5, 0.33, 0.25, 0.33, 0.3]\n"
     ]
    }
   ],
   "source": [
    "import pickle\n",
    "import numpy as np\n",
    "\n",
    "# Ordered keys (these define the desired output order)\n",
    "ordered_keys = [\n",
    "    \"eHSQC, H NMR, and C NMR\",\n",
    "    \"eHSQC and C NMR\",\n",
    "    \"eHSQC and H NMR\",\n",
    "    \"eHSQC Only\",\n",
    "    \"C NMR and H NMR\",\n",
    "    \"C NMR Only\",\n",
    "    \"H NMR Only\",\n",
    "    \"Standard HSQC only\",\n",
    "    \"Standard HSQC and C NMR\",\n",
    "    \"Standard HSQC and H NMR\",\n",
    "    \"Standard HSQC, H NMR, and C NMR\"\n",
    "]\n",
    "\n",
    "# Container to collect values\n",
    "all_cos_with, all_cos_without = [], []\n",
    "all_f1_with, all_f1_without = [], []\n",
    "\n",
    "# Load and collect values from each model\n",
    "for model_select in ['optional', \"optional2\", \"optional3\"]:\n",
    "    save_dir = \"/root/gurusmart/MorganFP_prediction/reproduce_previous_works/Spectre/inference\"\n",
    "    with open(save_dir + f\"cos_f1_{model_select}.pkl\", 'rb') as file:\n",
    "        dat = pickle.load(file)\n",
    "\n",
    "    mean_rank_cos_with, mean_rank_f1_with, mean_rank_cos_without, mean_rank_f1_without = dat\n",
    "\n",
    "    # Collect in the correct order\n",
    "    all_cos_with.append([mean_rank_cos_with[k] for k in ordered_keys])\n",
    "    all_f1_with.append([mean_rank_f1_with[k] for k in ordered_keys])\n",
    "    all_cos_without.append([mean_rank_cos_without[k] for k in ordered_keys])\n",
    "    all_f1_without.append([mean_rank_f1_without[k] for k in ordered_keys])\n",
    "\n",
    "# Convert to numpy arrays for easy mean/std computation\n",
    "all_cos_with = np.array(all_cos_with)\n",
    "all_f1_with = np.array(all_f1_with)\n",
    "all_cos_without = np.array(all_cos_without)\n",
    "all_f1_without = np.array(all_f1_without)\n",
    "\n",
    "# Final lists\n",
    "cosine_flexible = np.round(all_cos_without.mean(axis=0) * 100, 2).tolist()\n",
    "cosine_flexible_err = np.round(all_cos_without.std(axis=0) * 100, 2).tolist()\n",
    "\n",
    "f1_flexible = np.round(all_f1_without.mean(axis=0) * 100, 2).tolist()\n",
    "f1_flexible_err = np.round(all_f1_without.std(axis=0) * 100, 2).tolist()\n",
    "\n",
    "# Also compute _with_mw variants if needed\n",
    "cosine_flexible_with_mw = np.round(all_cos_with.mean(axis=0) * 100, 2).tolist()\n",
    "cosine_flexible_err_with_mw = np.round(all_cos_with.std(axis=0) * 100, 2).tolist()\n",
    "\n",
    "f1_flexible_with_mw = np.round(all_f1_with.mean(axis=0) * 100, 2).tolist()\n",
    "f1_flexible_err_with_mw = np.round(all_f1_with.std(axis=0) * 100, 2).tolist()\n",
    "\n",
    "# Print results\n",
    "print(\"without MW\")\n",
    "print(\"cosine_flexible =\", cosine_flexible)\n",
    "print(\"cosine_flexible_err =\", cosine_flexible_err)\n",
    "print(\"f1_flexible =\", f1_flexible)\n",
    "print(\"f1_flexible_err =\", f1_flexible_err)\n",
    "\n",
    "print(\"\\nwith MW\")\n",
    "print(\"\\ncosine_flexible =\", cosine_flexible_with_mw)\n",
    "print(\"cosine_flexible_err =\", cosine_flexible_err_with_mw)\n",
    "print(\"f1_flexible =\", f1_flexible_with_mw)\n",
    "print(\"f1_flexible_err =\", f1_flexible_err_with_mw)\n"
   ]
  },
  {
   "cell_type": "code",
   "execution_count": 5,
   "id": "99d2e4e9",
   "metadata": {},
   "outputs": [
    {
     "data": {
      "text/plain": [
       "[89.2, 89.11, 87.34, 86.49, 79.47, 75.48, 56.91, 84.78, 88.17, 85.94, 88.34]"
      ]
     },
     "execution_count": 5,
     "metadata": {},
     "output_type": "execute_result"
    }
   ],
   "source": [
    "cosine_specialized_with_mw"
   ]
  },
  {
   "cell_type": "code",
   "execution_count": 7,
   "id": "1fc0d514",
   "metadata": {},
   "outputs": [
    {
     "data": {
      "text/plain": [
       "{'eHSQC, H NMR, and C NMR': np.float64(0.897035877031129),\n",
       " 'eHSQC and H NMR': np.float64(0.8791289882444183),\n",
       " 'eHSQC and C NMR': np.float64(0.8953874333958184),\n",
       " 'eHSQC Only': np.float64(0.8714794737086641),\n",
       " 'C NMR and H NMR': np.float64(0.8009897376864384),\n",
       " 'H NMR Only': np.float64(0.564067937980665),\n",
       " 'C NMR Only': np.float64(0.7620080567848606),\n",
       " 'Standard HSQC only': np.float64(0.8524294680855155),\n",
       " 'Standard HSQC, H NMR, and C NMR': np.float64(0.887700769517578),\n",
       " 'Standard HSQC and H NMR': np.float64(0.8641958430710688),\n",
       " 'Standard HSQC and C NMR': np.float64(0.8851275568041781)}"
      ]
     },
     "execution_count": 7,
     "metadata": {},
     "output_type": "execute_result"
    }
   ],
   "source": [
    "mean_rank_cos_with"
   ]
  },
  {
   "cell_type": "code",
   "execution_count": 8,
   "id": "030730ee",
   "metadata": {},
   "outputs": [
    {
     "data": {
      "text/plain": [
       "{'eHSQC, H NMR, and C NMR': np.float64(0.897035877031129),\n",
       " 'eHSQC and H NMR': np.float64(0.8791289882444183),\n",
       " 'eHSQC and C NMR': np.float64(0.8953874333958184),\n",
       " 'eHSQC Only': np.float64(0.8714794737086641),\n",
       " 'C NMR and H NMR': np.float64(0.8009897376864384),\n",
       " 'H NMR Only': np.float64(0.564067937980665),\n",
       " 'C NMR Only': np.float64(0.7620080567848606),\n",
       " 'Standard HSQC only': np.float64(0.8524294680855155),\n",
       " 'Standard HSQC, H NMR, and C NMR': np.float64(0.887700769517578),\n",
       " 'Standard HSQC and H NMR': np.float64(0.8641958430710688),\n",
       " 'Standard HSQC and C NMR': np.float64(0.8851275568041781)}"
      ]
     },
     "execution_count": 8,
     "metadata": {},
     "output_type": "execute_result"
    }
   ],
   "source": [
    "mean_rank_cos_without"
   ]
  },
  {
   "cell_type": "code",
   "execution_count": null,
   "id": "1f9d4c3f",
   "metadata": {},
   "outputs": [],
   "source": []
  }
 ],
 "metadata": {
  "kernelspec": {
   "display_name": "base",
   "language": "python",
   "name": "python3"
  },
  "language_info": {
   "codemirror_mode": {
    "name": "ipython",
    "version": 3
   },
   "file_extension": ".py",
   "mimetype": "text/x-python",
   "name": "python",
   "nbconvert_exporter": "python",
   "pygments_lexer": "ipython3",
   "version": "3.11.10"
  }
 },
 "nbformat": 4,
 "nbformat_minor": 5
}
