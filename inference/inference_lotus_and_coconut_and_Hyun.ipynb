{
 "cells": [
  {
   "cell_type": "code",
   "execution_count": 2,
   "metadata": {},
   "outputs": [],
   "source": [
    "import warnings\n",
    "warnings.filterwarnings(\"ignore\", category=FutureWarning, message=\"You are using `torch.load` with `weights_only=False`\")\n",
    "warnings.filterwarnings(\"ignore\", category=UserWarning, message=\"The PyTorch API of nested tensors is in prototype stage and will change in the near future.\")\n",
    "\n",
    "%load_ext autoreload\n",
    "%autoreload 2\n",
    "\n",
    "import sys, os\n",
    "sys.path.insert(0,\"/root/gurusmart/MorganFP_prediction/reproduce_previous_works/Spectre\")\n",
    "            \n",
    "import torch\n",
    "torch.set_printoptions(precision=10)\n",
    "\n",
    "\n",
    "import yaml\n",
    "torch.set_float32_matmul_precision('medium')\n",
    "from pathlib import Path\n",
    "\n",
    "from rdkit import Chem\n",
    "from rdkit.Chem import Draw\n",
    "# load model \n",
    "from datasets.dataset_utils import fp_loader_configer\n",
    "\n",
    "fp_loader_configer.select_version(\"MFP_Specific_Radius\")\n",
    "specific_radius_mfp_loader = fp_loader_configer.fp_loader\n",
    "\n",
    "import pickle     \n",
    "\n",
    "import numpy as np \n",
    "import random\n",
    "seed=2\n",
    "torch.cuda.manual_seed_all(seed) \n",
    "np.random.seed(seed)\n",
    "random.seed(seed)\n"
   ]
  },
  {
   "cell_type": "code",
   "execution_count": 3,
   "metadata": {},
   "outputs": [
    {
     "name": "stdout",
     "output_type": "stream",
     "text": [
      "526316\n"
     ]
    }
   ],
   "source": [
    "with open(f'/root/gurusmart/MorganFP_prediction/inference_data/coconut_loutus_hyun_training/inference_metadata_latest_RDkit.pkl', 'rb') as file:\n",
    "    smiles_and_names = pickle.load(file)\n",
    "print(len(smiles_and_names))"
   ]
  },
  {
   "cell_type": "code",
   "execution_count": 4,
   "metadata": {},
   "outputs": [],
   "source": [
    "from inference.inference_utils import choose_model\n",
    "from inference.inference_utils import save_molecule_inference\n",
    "from inference.inference_utils import retrieve_top_k_by_rankingset, compute_cos_sim, unpack_inputs_no_delimiter, build_input, inference_topK\n"
   ]
  },
  {
   "cell_type": "code",
   "execution_count": 5,
   "metadata": {},
   "outputs": [
    {
     "name": "stdout",
     "output_type": "stream",
     "text": [
      "Normal\n",
      "max_radius:  3\n",
      "loading time: 32.59941482543945\n",
      "counting time: 13.975774049758911\n",
      "finish entropy list\n"
     ]
    },
    {
     "name": "stderr",
     "output_type": "stream",
     "text": [
      "Initialized SignCoordinateEncoder[384] with dims [180, 180, 24] and 2 positional encoders. 24 bits are reserved for encoding the final bit\n"
     ]
    },
    {
     "name": "stdout",
     "output_type": "stream",
     "text": [
      "HsqcRankedTransformer saving args\n"
     ]
    }
   ],
   "source": [
    "\n",
    "hparams, model , test_loader = choose_model(\"C-NMR\")\n"
   ]
  },
  {
   "cell_type": "code",
   "execution_count": 6,
   "metadata": {},
   "outputs": [
    {
     "data": {
      "text/plain": [
       "'Normal'"
      ]
     },
     "execution_count": 6,
     "metadata": {},
     "output_type": "execute_result"
    }
   ],
   "source": [
    "hparams['FP_building_type'].split(\"_\")[-1]"
   ]
  },
  {
   "cell_type": "code",
   "execution_count": 7,
   "metadata": {},
   "outputs": [],
   "source": [
    "# model = OptionalInputRankedTransformer.load_from_checkpoint(Path(\"/root/gurusmart/MorganFP_prediction/reproduce_previous_works/fix_combining_dataset_load_mfp_bug/train_on_all_data_possible/only_c_trial_1/checkpoints/epoch=16-step=27472.ckpt\"), **hparams)"
   ]
  },
  {
   "cell_type": "code",
   "execution_count": 8,
   "metadata": {},
   "outputs": [],
   "source": [
    "\n",
    "\n",
    "# datamodule.setup(\"test\")\n",
    "# loader_only_hsqc = datamodule.test_dataloader()\n",
    "    \n",
    "# model=model.to(\"cuda\")"
   ]
  },
  {
   "cell_type": "code",
   "execution_count": 9,
   "metadata": {},
   "outputs": [
    {
     "data": {
      "text/plain": [
       "device(type='cuda', index=0)"
      ]
     },
     "execution_count": 9,
     "metadata": {},
     "output_type": "execute_result"
    }
   ],
   "source": [
    "model.device"
   ]
  },
  {
   "cell_type": "code",
   "execution_count": 10,
   "metadata": {},
   "outputs": [],
   "source": [
    "# set up ranking set\n",
    "\n",
    "choice = \"test\"\n",
    "index_to_smiles = pickle.load(open(f'/workspace/SMILES_dataset/{choice}/SMILES/index.pkl', 'rb'))\n",
    "\n",
    "\n",
    "all_FP_indices_in_folder = pickle.load(open(f'/root/gurusmart/MorganFP_prediction/reproduce_previous_works/Spectre/datasets/{choice}_indices_of_full_info_NMRs.pkl', 'rb'))\n",
    "all_added_smiles = set()\n",
    "all_FP_indices_to_be_added = []\n",
    "for i in all_FP_indices_in_folder:\n",
    "    smile = index_to_smiles [int(i.split(\".\")[0])]\n",
    "    if smile not in all_added_smiles:\n",
    "        all_added_smiles.add(smile)\n",
    "        all_FP_indices_to_be_added.append(i)\n",
    "        \n",
    "sorted_file_indices  = [int(file.split(\".\")[0]) for file in sorted(all_FP_indices_to_be_added)]\n",
    "index_to_chemical_names = pickle.load(open(f'/workspace/SMILES_dataset/{choice}/Chemical/index.pkl', 'rb'))\n",
    "\n"
   ]
  },
  {
   "cell_type": "code",
   "execution_count": 11,
   "metadata": {},
   "outputs": [
    {
     "name": "stdout",
     "output_type": "stream",
     "text": [
      "9995\n"
     ]
    }
   ],
   "source": [
    "for k,v in index_to_smiles.items():\n",
    "    if v == \"COC1OC(CO)C(O)C(O)C1O\":\n",
    "        print(k)\n",
    "        break"
   ]
  },
  {
   "cell_type": "code",
   "execution_count": null,
   "metadata": {},
   "outputs": [],
   "source": []
  },
  {
   "cell_type": "code",
   "execution_count": 12,
   "metadata": {},
   "outputs": [
    {
     "name": "stderr",
     "output_type": "stream",
     "text": [
      "/opt/conda/lib/python3.11/site-packages/torch/_utils.py:315: UserWarning: Sparse CSR tensor support is in beta state. If you miss a functionality in the sparse tensor support, please submit a feature request to https://github.com/pytorch/pytorch/issues. (Triggered internally at ../aten/src/ATen/SparseCsrTensorImpl.cpp:53.)\n",
      "  result = torch.sparse_compressed_tensor(\n"
     ]
    }
   ],
   "source": [
    "max_radius = specific_radius_mfp_loader.max_radius\n",
    "rankingset_path = f\"/root/gurusmart/MorganFP_prediction/inference_data/inference_rankingset_with_stable_sort/max_radius_{max_radius}_stacked_together_sparse/FP.pt\"\n",
    "\n",
    "rankingset_data = torch.load(rankingset_path)#.to(\"cuda\")\n",
    "\n"
   ]
  },
  {
   "cell_type": "code",
   "execution_count": 13,
   "metadata": {},
   "outputs": [
    {
     "data": {
      "text/plain": [
       "(526316, 526316)"
      ]
     },
     "execution_count": 13,
     "metadata": {},
     "output_type": "execute_result"
    }
   ],
   "source": [
    "rankingset_data = rankingset_data.to(model.device)\n",
    "len(rankingset_data), len(smiles_and_names)"
   ]
  },
  {
   "cell_type": "code",
   "execution_count": null,
   "metadata": {},
   "outputs": [],
   "source": [
    "\n",
    "\n"
   ]
  },
  {
   "cell_type": "code",
   "execution_count": 14,
   "metadata": {},
   "outputs": [
    {
     "name": "stdout",
     "output_type": "stream",
     "text": [
      "############################################### compound number: 1##############################################################\n",
      "Ground Truth NMR\n",
      "Chemical name METHYL GALACTOSIDE\n",
      "Ground truth smiles COC1OC(CO)C(O)C(O)C1O\n"
     ]
    },
    {
     "data": {
      "image/jpeg": "[encoded data removed]",
      "image/png": "[encoded data removed]",
      "text/plain": [
       "<PIL.PngImagePlugin.PngImageFile image mode=RGB size=300x300>"
      ]
     },
     "metadata": {},
     "output_type": "display_data"
    },
    {
     "name": "stdout",
     "output_type": "stream",
     "text": [
      "Prediction's cosine similarity to ground truth:  0.8996251821517944\n",
      "________retival #1, cosine similarity to prediction: 0.9044914841651917_________________\n",
      "SMILES: COC1OC(CO)C(O)C1O\n",
      "Name \"(2~{S},3~{R},4~{R},5~{R})-2-(hydroxymethyl)-5-methoxy-tetrahydrofuran-3,4-diol\"\n"
     ]
    },
    {
     "data": {
      "image/jpeg": "[encoded data removed]",
      "image/png": "[encoded data removed]",
      "text/plain": [
       "<PIL.PngImagePlugin.PngImageFile image mode=RGB size=300x300>"
      ]
     },
     "metadata": {},
     "output_type": "display_data"
    },
    {
     "name": "stdout",
     "output_type": "stream",
     "text": [
      "________retival #2, cosine similarity to prediction: 0.8996242880821228_________________\n",
      "SMILES: COC1OC(CO)C(O)C(O)C1O\n",
      "Name \"(2~{S},3~{R},4~{R},5~{S},6~{S})-2-(hydroxymethyl)-6-methoxy-tetrahydropyran-3,4,5-triol\"\n"
     ]
    },
    {
     "data": {
      "image/jpeg": "[encoded data removed]",
      "image/png": "[encoded data removed]",
      "text/plain": [
       "<PIL.PngImagePlugin.PngImageFile image mode=RGB size=300x300>"
      ]
     },
     "metadata": {},
     "output_type": "display_data"
    },
    {
     "name": "stdout",
     "output_type": "stream",
     "text": [
      "________retival #3, cosine similarity to prediction: 0.8621717095375061_________________\n",
      "SMILES: CC(C)OC1OC(CO)C(O)C(O)C1O\n",
      "Name \"(2~{R},3~{S},4~{S},5~{R},6~{R})-2-(hydroxymethyl)-6-isopropoxy-tetrahydropyran-3,4,5-triol\"\n"
     ]
    },
    {
     "data": {
      "image/jpeg": "[encoded data removed]",
      "image/png": "[encoded data removed]",
      "text/plain": [
       "<PIL.PngImagePlugin.PngImageFile image mode=RGB size=300x300>"
      ]
     },
     "metadata": {},
     "output_type": "display_data"
    },
    {
     "name": "stdout",
     "output_type": "stream",
     "text": [
      "DONE\n",
      "\n",
      "\n",
      "\n",
      "\n"
     ]
    }
   ],
   "source": [
    "'''\n",
    "show some examples from my dataset to check sanity\n",
    "for a single model, show top-5\n",
    "'''\n",
    "\n",
    "# for  which_compound in  random.sample(range(len(test_loader.dataset)), k=1):# range(0, 1):  \n",
    "for which_compound in range(0, 1):\n",
    "    \n",
    "    print(f\"############################################### compound number: {which_compound+1}##############################################################\")\n",
    "    \n",
    "    for idx, batch in enumerate(test_loader):\n",
    "        if idx < which_compound:\n",
    "            continue\n",
    "        inputs, extra_info = batch\n",
    "        (smiles, names, NMR_type_indicator, path) = zip(*extra_info)\n",
    "        # print(inputs.shape, inputs)\n",
    "        # print(inputs, smiles_chemical_name)\n",
    "        \n",
    "        # batch[0] = batch[0].to(\"cuda\")\n",
    "        # hsqc, c_tensor, h_tensor = unpack_inputs_no_delimiter(inputs[0], NMR_type_indicator[0])\n",
    "  \n",
    "        inputs = inputs.to(model.device)\n",
    "        NMR_type_indicator = NMR_type_indicator[0].to(model.device)\n",
    "        pred = model(inputs, NMR_type_indicator)\n",
    "        pred=torch.sigmoid(pred) # sigmoid\n",
    "        pred_FP = torch.where(pred.squeeze()>0.5, 1, 0)\n",
    "        # print(pred_FP.nonzero().squeeze().tolist())\n",
    "        break\n",
    "    # print(f\"dataloader: {loader_all_inputs.dataset.latest_element_got}\")\n",
    "    \n",
    "    # print(inputs)\n",
    "    \n",
    "    print(\"Ground Truth NMR\")\n",
    "    # plot_NMR(hsqc, c_tensor, h_tensor)\n",
    "    \n",
    "    topk = retrieve_top_k_by_rankingset(rankingset_data, pred, smiles_and_names, k=3)\n",
    "    # ground truth\n",
    "    # smiles, names, path = zip(*smiles_chemical_name)\n",
    "    mol = Chem.MolFromSmiles(smiles[0])\n",
    "    print(f\"Chemical name {names[0]}\")\n",
    "    print(f\"Ground truth smiles {smiles[0]}\")\n",
    "    # print(f\"Ground truth NMR path {path[0]}\")\n",
    "    img = Draw.MolToImage(mol)\n",
    "    img.show()\n",
    "    \n",
    "    ground_truth_FP = specific_radius_mfp_loader.build_mfp_for_new_SMILES(smiles[0])\n",
    "    print(\"Prediction's cosine similarity to ground truth: \", compute_cos_sim(ground_truth_FP, pred.to(\"cpu\").T.float()).item())\n",
    "    # \n",
    "    i=0\n",
    "    for value, (smile, name, _, _), retrieved_FP in topk:\n",
    "        print(f\"________retival #{i+1}, cosine similarity to prediction: {value.item()}_________________\")\n",
    "        mol = Chem.MolFromSmiles(smile)\n",
    "        # print(\"retrived FP\", retrieved_FP.squeeze().tolist())\n",
    "\n",
    "        print(f\"SMILES: {smile}\") \n",
    "        print(f\"Name {name}\")\n",
    "        img = Draw.MolToImage(mol)\n",
    "        img.show()\n",
    "        i+=1\n",
    "        \n",
    "print(\"DONE\\n\\n\\n\\n\")\n",
    "        \n",
    "\n"
   ]
  },
  {
   "cell_type": "code",
   "execution_count": 15,
   "metadata": {},
   "outputs": [],
   "source": [
    "# '''\n",
    "# temp feature:\n",
    "# compute rank-1 on inference set\n",
    "# '''\n",
    "# from tqdm import tqdm\n",
    "\n",
    "# rankingset_data = rankingset_data.to(model.device)\n",
    "# # for  which_compound in  random.sample(range(len(test_loader.dataset)), k=1):# range(0, 1):  \n",
    "# accu = [] \n",
    "    \n",
    "# for idx, batch in tqdm(enumerate(test_loader)):\n",
    "        \n",
    "#     inputs, extra_info = batch\n",
    "#     (smiles, names, NMR_type_indicator, path) = zip(*extra_info)\n",
    "#     # print(inputs.shape, inputs)\n",
    "#     # print(inputs, smiles_chemical_name)\n",
    "    \n",
    "#     # batch[0] = batch[0].to(\"cuda\")\n",
    "#     # hsqc, c_tensor, h_tensor = unpack_inputs_no_delimiter(inputs[0], NMR_type_indicator[0])\n",
    "\n",
    "#     inputs = inputs.to(model.device)\n",
    "#     NMR_type_indicator = NMR_type_indicator[0].to(model.device)\n",
    "#     pred = model(inputs, NMR_type_indicator)\n",
    "#     pred=torch.sigmoid(pred) # sigmoid\n",
    "#     pred_FP = torch.where(pred.squeeze()>0.5, 1, 0)\n",
    "\n",
    "    \n",
    "#     topk = retrieve_top_k_by_rankingset(rankingset_data, pred, smiles_and_names, k=1)\n",
    "#     # ground truth\n",
    "    \n",
    "#     ground_truth_FP = specific_radius_mfp_loader.build_mfp_for_new_SMILES(smiles[0])\n",
    "#     # print(\"Prediction's cosine similarity to ground truth: \", compute_cos_sim(ground_truth_FP, pred.to(\"cpu\").T.float()).item())\n",
    "#     # \n",
    "#     i=0\n",
    "#     for value, (smile, name, _, _), retrieved_FP in topk:\n",
    "#         # print(f\"________retival #{i+1}, cosine similarity to prediction: {value.item()}_________________\")\n",
    "#         # mol = Chem.MolFromSmiles(smile)\n",
    "#         # # print(\"retrived FP\", retrieved_FP.squeeze().tolist())\n",
    "\n",
    "#         # print(f\"SMILES: {smile}\") \n",
    "#         # print(f\"Name {name}\")\n",
    "#         # img = Draw.MolToImage(mol)\n",
    "#         # img.show()\n",
    "#         # i+=1\n",
    "#         # accu.append(smile == smiles[0])\n",
    "#         # accu.append(pred_FP.nonzero().squeeze().tolist() == retrieved_FP.to_dense().nonzero().squeeze().tolist())\n",
    "#         accu.append(ground_truth_FP.nonzero().squeeze().tolist() == retrieved_FP.to_dense().nonzero().squeeze().tolist())\n",
    "#     # if smile == smiles[0]:\n",
    "#     #     break\n",
    "    \n",
    "# print(\"DONE\\n\\n\\n\\n\")\n",
    "\n",
    "# np.mean(accu)        \n",
    "\n"
   ]
  },
  {
   "cell_type": "code",
   "execution_count": null,
   "metadata": {},
   "outputs": [],
   "source": []
  },
  {
   "cell_type": "code",
   "execution_count": 16,
   "metadata": {},
   "outputs": [
    {
     "data": {
      "text/plain": [
       "'\\nStart  unkown compound\\n'"
      ]
     },
     "execution_count": 16,
     "metadata": {},
     "output_type": "execute_result"
    }
   ],
   "source": [
    "\"\"\"\n",
    "Start  unkown compound\n",
    "\"\"\""
   ]
  },
  {
   "cell_type": "code",
   "execution_count": 17,
   "metadata": {},
   "outputs": [],
   "source": [
    "# look for the higher cos_sim possible in our dataset\n",
    "def  retrieve_based_on_groudth(groud_truth_FP, k=5):\n",
    "    topk = retrieve_top_k_by_rankingset(rankingset_data, groud_truth_FP, smiles_and_names, k=k) \n",
    "    \n",
    "    i=0\n",
    "    for ite, (value, (smile, name, _, _), retrieved_FP) in enumerate(topk):\n",
    "        print(f\"____________________________retival #{i+1}, cosine similarity: {value.item()}_____________________________\")\n",
    "        mol = Chem.MolFromSmiles(smile)\n",
    "        print(\"retrived FP\", retrieved_FP.to_dense().squeeze().tolist())\n",
    "        print(f\"SMILES: {smile}\")\n",
    "        print(f\"Name {name}\")\n",
    "        #check is path file exists\n",
    "        # plot_NMR(hsqc, c_tensor, h_tensor)\n",
    "        img = Draw.MolToImage(mol)\n",
    "        img.show()\n",
    "        i+=1"
   ]
  },
  {
   "cell_type": "code",
   "execution_count": 18,
   "metadata": {},
   "outputs": [],
   "source": [
    "Kavaratamide_A_SMILES = \"CCCCCCC[C@H](O)CC(=O)N[C@@H](C(C)C)C(=O)N(C)[C@@H](C)C(=O)O[C@@H](C(C)C)C(=O)N1[C@@H](C(C)C)C(OC)=CC1=O\"\n",
    "Kavaratamide_A_FP = specific_radius_mfp_loader.build_mfp_for_new_SMILES(Kavaratamide_A_SMILES)\n",
    "\n",
    "newCompoundA_SMILES = \"O=C1C(NC2=O)CCC(O)N1C(CC3=CC=CC=C3)C(N(C)C(CC4=CC(Br)=C(O)C=C4)C(NC(C(CC)C)C(OC(C)C(C(NC2CCCC[NH3+])=O)NC(C(NC(C(COS(=O)([O-])=O)OC)=O)CC5=CC=CC=C5)=O)=O)=O)=O\"\n",
    "newCompoundA_FP = specific_radius_mfp_loader.build_mfp_for_new_SMILES(newCompoundA_SMILES)"
   ]
  },
  {
   "cell_type": "code",
   "execution_count": 19,
   "metadata": {},
   "outputs": [
    {
     "name": "stdout",
     "output_type": "stream",
     "text": [
      "Kavaratamide_A\n"
     ]
    },
    {
     "data": {
      "image/jpeg": "[encoded data removed]",
      "image/png": "[encoded data removed]",
      "text/plain": [
       "<PIL.PngImagePlugin.PngImageFile image mode=RGB size=300x300>"
      ]
     },
     "metadata": {},
     "output_type": "display_data"
    }
   ],
   "source": [
    "print(\"Kavaratamide_A\")\n",
    "mol = Chem.MolFromSmiles(Kavaratamide_A_SMILES)\n",
    "img = Draw.MolToImage(mol)\n",
    "img.show()"
   ]
  },
  {
   "cell_type": "code",
   "execution_count": null,
   "metadata": {},
   "outputs": [],
   "source": []
  },
  {
   "cell_type": "code",
   "execution_count": 20,
   "metadata": {},
   "outputs": [],
   "source": [
    "# retrieve_based_on_groudth(Kavaratamide_A_FP.unsqueeze(dim=0).to(\"cuda\"), k=5)"
   ]
  },
  {
   "cell_type": "code",
   "execution_count": 21,
   "metadata": {},
   "outputs": [
    {
     "data": {
      "text/plain": [
       "tensor(0.5710234046)"
      ]
     },
     "execution_count": 21,
     "metadata": {},
     "output_type": "execute_result"
    }
   ],
   "source": [
    "deepSAT_sintokamide_B_FP = specific_radius_mfp_loader.build_mfp_for_new_SMILES(\"CCC(=O)N[C@H](C[C@H](C)C(Cl)(Cl)Cl)C(=O)N1[C@H](C(=CC1=O)OC)C[C@H](C)C(Cl)(Cl)Cl\")\n",
    "compute_cos_sim(deepSAT_sintokamide_B_FP, Kavaratamide_A_FP)"
   ]
  },
  {
   "cell_type": "code",
   "execution_count": 22,
   "metadata": {},
   "outputs": [
    {
     "name": "stdout",
     "output_type": "stream",
     "text": [
      "\n",
      "\n",
      "\n",
      "Kavaratamide A\n",
      "\n",
      "\n",
      "_________________________________________________________\n",
      "Prediction's cosine similarity to ground truth:  tensor(0.4746380150)\n",
      "\n",
      "\n",
      "\n",
      "________retival #1, cosine similarity to prediction: 0.644216775894165_________________\n",
      "SMILES: CCCCC(=O)OC1CC(C)CCC1C(C)C\n",
      "Name (2-isopropyl-5-methyl-cyclohexyl) pentanoate\n"
     ]
    },
    {
     "data": {
      "image/jpeg": "[encoded data removed]",
      "image/png": "[encoded data removed]",
      "text/plain": [
       "<PIL.PngImagePlugin.PngImageFile image mode=RGB size=300x300>"
      ]
     },
     "metadata": {},
     "output_type": "display_data"
    },
    {
     "name": "stdout",
     "output_type": "stream",
     "text": [
      "________retival #2, cosine similarity to prediction: 0.6438631415367126_________________\n",
      "SMILES: CCCCCC(O)CC(=O)NC1CCOC1=O\n",
      "Name (3~{S})-3-hydroxy-~{N}-[(3~{S})-2-oxotetrahydrofuran-3-yl]octanamide\n"
     ]
    },
    {
     "data": {
      "image/jpeg": "[encoded data removed]",
      "image/png": "[encoded data removed]",
      "text/plain": [
       "<PIL.PngImagePlugin.PngImageFile image mode=RGB size=300x300>"
      ]
     },
     "metadata": {},
     "output_type": "display_data"
    },
    {
     "name": "stdout",
     "output_type": "stream",
     "text": [
      "________retival #3, cosine similarity to prediction: 0.6415068507194519_________________\n",
      "SMILES: CCCCCCCCCCCCCCCCOC(=O)C(CC(C)C)NC(=O)C1CC1\n",
      "Name hexadecyl 2-(cyclopropanecarbonylamino)-4-methyl-pentanoate\n"
     ]
    },
    {
     "data": {
      "image/jpeg": "[encoded data removed]",
      "image/png": "[encoded data removed]",
      "text/plain": [
       "<PIL.PngImagePlugin.PngImageFile image mode=RGB size=300x300>"
      ]
     },
     "metadata": {},
     "output_type": "display_data"
    },
    {
     "data": {
      "text/plain": [
       "['CCCCC(=O)OC1CC(C)CCC1C(C)C',\n",
       " 'CCCCCC(O)CC(=O)NC1CCOC1=O',\n",
       " 'CCCCCCCCCCCCCCCCOC(=O)C(CC(C)C)NC(=O)C1CC1']"
      ]
     },
     "execution_count": 22,
     "metadata": {},
     "output_type": "execute_result"
    }
   ],
   "source": [
    "compound_dir = \"/root/gurusmart/MorganFP_prediction/inference_data/testing_compounds/Kavaratamide A\"\n",
    "mode = None#\"flip_sign\"\n",
    "inputs, NMR_type_indicator = build_input(compound_dir, mode=mode,\n",
    "                     include_h_nmr=False, include_c_nmr=True, include_hsqc=False,\n",
    "                     )\n",
    "inference_topK(inputs, NMR_type_indicator, model, rankingset_data, smiles_and_names, \n",
    "                   k=3, mode = None, ground_truth_FP=Kavaratamide_A_FP,\n",
    "                   fp_type = \"MFP_Specific_Radius\")\n",
    "                   "
   ]
  },
  {
   "cell_type": "code",
   "execution_count": 23,
   "metadata": {},
   "outputs": [],
   "source": [
    "# inputs"
   ]
  },
  {
   "cell_type": "code",
   "execution_count": null,
   "metadata": {},
   "outputs": [],
   "source": []
  },
  {
   "cell_type": "code",
   "execution_count": 24,
   "metadata": {},
   "outputs": [],
   "source": [
    "def investigate_new_molecule(compound_dir, SMILES):\n",
    "    mode = None#\"flip_sign\"\n",
    "\n",
    "    # for model_type in [\"only_1d_DTD\", \"only_C-NMR_DTD\"]:\n",
    "    for model_type in ['All-NMR', 'HSQC', 'C-NMR', 'H-NMR', 'HSQC_C-NMR', 'HSQC_H-NMR', 'only_1d', \"only_1d_DTD\", \"only_C-NMR_DTD\"]:\n",
    "    # for model_type in ['C-NMR', ]:\n",
    "        \n",
    "        kwargs = {\n",
    "            \"include_h_nmr\" : model_type in ['All-NMR', 'H-NMR', 'HSQC_H-NMR', 'only_1d', \"only_1d_DTD\"],\n",
    "            \"include_c_nmr\" : model_type in ['All-NMR', 'C-NMR', 'HSQC_C-NMR', 'only_1d', \"only_1d_DTD\", \"only_C-NMR_DTD\"],\n",
    "            \"include_hsqc\" : model_type in ['All-NMR', 'HSQC', 'HSQC_C-NMR', 'HSQC_H-NMR', ]\n",
    "        }\n",
    "        \n",
    "        inputs, NMR_type_indicator = build_input(compound_dir, mode=mode, **kwargs)\n",
    "        \n",
    "        hparams, model, test_loader = choose_model(model_type)\n",
    "        max_radius = specific_radius_mfp_loader.max_radius\n",
    "        print(f\"Model type: {model_type}, max_radius: {max_radius}\")\n",
    "        rankingset_path = f\"/root/gurusmart/MorganFP_prediction/inference_data/inference_rankingset_with_stable_sort/max_radius_{max_radius}_stacked_together_sparse/FP.pt\"\n",
    "        rankingset_data = torch.load(rankingset_path)#.to(\"cuda\")\n",
    "        \n",
    "        save_molecule_inference(SMILES, compound_dir.split(\"/\")[-1], None, model, model_type, inputs, NMR_type_indicator, rankingset_data, smiles_and_names)"
   ]
  },
  {
   "cell_type": "code",
   "execution_count": null,
   "metadata": {},
   "outputs": [],
   "source": []
  },
  {
   "cell_type": "code",
   "execution_count": 25,
   "metadata": {},
   "outputs": [
    {
     "name": "stdout",
     "output_type": "stream",
     "text": [
      "\n",
      "\n",
      "\n",
      "Kavaratamide A\n",
      "\n",
      "\n",
      "Normal\n",
      "max_radius:  2\n",
      "loading time: 3.1270158290863037\n",
      "counting time: 13.155852317810059\n",
      "finish entropy list\n"
     ]
    },
    {
     "name": "stderr",
     "output_type": "stream",
     "text": [
      "Initialized SignCoordinateEncoder[384] with dims [180, 180, 24] and 2 positional encoders. 24 bits are reserved for encoding the final bit\n"
     ]
    },
    {
     "name": "stdout",
     "output_type": "stream",
     "text": [
      "HsqcRankedTransformer saving args\n",
      "Model type: All-NMR, max_radius: 2\n",
      "\n",
      "\n",
      "\n",
      "Kavaratamide A\n",
      "\n",
      "\n",
      "Normal\n",
      "max_radius:  4\n",
      "loading time: 2.6699538230895996\n",
      "counting time: 8.320643424987793\n",
      "finish entropy list\n"
     ]
    },
    {
     "name": "stderr",
     "output_type": "stream",
     "text": [
      "Initialized SignCoordinateEncoder[384] with dims [180, 180, 24] and 2 positional encoders. 24 bits are reserved for encoding the final bit\n"
     ]
    },
    {
     "name": "stdout",
     "output_type": "stream",
     "text": [
      "HsqcRankedTransformer saving args\n",
      "Model type: HSQC, max_radius: 4\n",
      "\n",
      "\n",
      "\n",
      "Kavaratamide A\n",
      "\n",
      "\n",
      "Normal\n",
      "max_radius:  3\n",
      "loading time: 2.13169264793396\n",
      "counting time: 13.260138511657715\n",
      "finish entropy list\n"
     ]
    },
    {
     "name": "stderr",
     "output_type": "stream",
     "text": [
      "Initialized SignCoordinateEncoder[384] with dims [180, 180, 24] and 2 positional encoders. 24 bits are reserved for encoding the final bit\n"
     ]
    },
    {
     "name": "stdout",
     "output_type": "stream",
     "text": [
      "HsqcRankedTransformer saving args\n",
      "Model type: C-NMR, max_radius: 3\n",
      "\n",
      "\n",
      "\n",
      "Kavaratamide A\n",
      "\n",
      "\n",
      "Normal\n",
      "max_radius:  3\n"
     ]
    },
    {
     "name": "stderr",
     "output_type": "stream",
     "text": [
      "Initialized SignCoordinateEncoder[384] with dims [180, 180, 24] and 2 positional encoders. 24 bits are reserved for encoding the final bit\n"
     ]
    },
    {
     "name": "stdout",
     "output_type": "stream",
     "text": [
      "HsqcRankedTransformer saving args\n",
      "Model type: H-NMR, max_radius: 3\n",
      "\n",
      "\n",
      "\n",
      "Kavaratamide A\n",
      "\n",
      "\n",
      "Normal\n",
      "max_radius:  2\n",
      "loading time: 2.235123634338379\n",
      "counting time: 13.37441349029541\n",
      "finish entropy list\n"
     ]
    },
    {
     "name": "stderr",
     "output_type": "stream",
     "text": [
      "Initialized SignCoordinateEncoder[384] with dims [180, 180, 24] and 2 positional encoders. 24 bits are reserved for encoding the final bit\n"
     ]
    },
    {
     "name": "stdout",
     "output_type": "stream",
     "text": [
      "HsqcRankedTransformer saving args\n",
      "Model type: HSQC_C-NMR, max_radius: 2\n",
      "\n",
      "\n",
      "\n",
      "Kavaratamide A\n",
      "\n",
      "\n",
      "Normal\n",
      "max_radius:  2\n"
     ]
    },
    {
     "name": "stderr",
     "output_type": "stream",
     "text": [
      "Initialized SignCoordinateEncoder[384] with dims [180, 180, 24] and 2 positional encoders. 24 bits are reserved for encoding the final bit\n"
     ]
    },
    {
     "name": "stdout",
     "output_type": "stream",
     "text": [
      "HsqcRankedTransformer saving args\n",
      "Model type: HSQC_H-NMR, max_radius: 2\n",
      "\n",
      "\n",
      "\n",
      "Kavaratamide A\n",
      "\n",
      "\n",
      "Normal\n",
      "max_radius:  2\n"
     ]
    },
    {
     "name": "stderr",
     "output_type": "stream",
     "text": [
      "Initialized SignCoordinateEncoder[384] with dims [180, 180, 24] and 2 positional encoders. 24 bits are reserved for encoding the final bit\n"
     ]
    },
    {
     "name": "stdout",
     "output_type": "stream",
     "text": [
      "HsqcRankedTransformer saving args\n",
      "Model type: only_1d, max_radius: 2\n",
      "\n",
      "\n",
      "\n",
      "Kavaratamide A\n",
      "\n",
      "\n",
      "Normal\n",
      "max_radius:  2\n"
     ]
    },
    {
     "name": "stderr",
     "output_type": "stream",
     "text": [
      "Initialized SignCoordinateEncoder[384] with dims [180, 180, 24] and 2 positional encoders. 24 bits are reserved for encoding the final bit\n"
     ]
    },
    {
     "name": "stdout",
     "output_type": "stream",
     "text": [
      "HsqcRankedTransformer saving args\n",
      "Model type: only_1d_DTD, max_radius: 2\n",
      "\n",
      "\n",
      "\n",
      "Kavaratamide A\n",
      "\n",
      "\n",
      "Normal\n",
      "max_radius:  2\n"
     ]
    },
    {
     "name": "stderr",
     "output_type": "stream",
     "text": [
      "Initialized SignCoordinateEncoder[384] with dims [180, 180, 24] and 2 positional encoders. 24 bits are reserved for encoding the final bit\n"
     ]
    },
    {
     "name": "stdout",
     "output_type": "stream",
     "text": [
      "HsqcRankedTransformer saving args\n",
      "Model type: only_C-NMR_DTD, max_radius: 2\n"
     ]
    }
   ],
   "source": [
    "compound_dir = \"/root/gurusmart/MorganFP_prediction/inference_data/testing_compounds/Kavaratamide A\"\n",
    "Kavaratamide_A_SMILES = \"CCCCCCC[C@H](O)CC(=O)N[C@@H](C(C)C)C(=O)N(C)[C@@H](C)C(=O)O[C@@H](C(C)C)C(=O)N1[C@@H](C(C)C)C(OC)=CC1=O\"\n",
    "\n",
    "investigate_new_molecule(compound_dir, Kavaratamide_A_SMILES)"
   ]
  },
  {
   "cell_type": "code",
   "execution_count": null,
   "metadata": {},
   "outputs": [],
   "source": []
  },
  {
   "cell_type": "code",
   "execution_count": 26,
   "metadata": {},
   "outputs": [],
   "source": [
    "# retrieve_based_on_groudth(newCompoundA_FP.unsqueeze(dim=0).to(\"cuda\"), k=5)"
   ]
  },
  {
   "cell_type": "code",
   "execution_count": 27,
   "metadata": {},
   "outputs": [
    {
     "name": "stdout",
     "output_type": "stream",
     "text": [
      "\n",
      "\n",
      "\n",
      "new_compound_A\n",
      "\n",
      "\n",
      "Normal\n",
      "max_radius:  2\n"
     ]
    },
    {
     "name": "stderr",
     "output_type": "stream",
     "text": [
      "Initialized SignCoordinateEncoder[384] with dims [180, 180, 24] and 2 positional encoders. 24 bits are reserved for encoding the final bit\n"
     ]
    },
    {
     "name": "stdout",
     "output_type": "stream",
     "text": [
      "HsqcRankedTransformer saving args\n",
      "Model type: All-NMR, max_radius: 2\n",
      "\n",
      "\n",
      "\n",
      "new_compound_A\n",
      "\n",
      "\n",
      "Normal\n",
      "max_radius:  4\n",
      "loading time: 2.2971246242523193\n",
      "counting time: 8.339228868484497\n",
      "finish entropy list\n"
     ]
    },
    {
     "name": "stderr",
     "output_type": "stream",
     "text": [
      "Initialized SignCoordinateEncoder[384] with dims [180, 180, 24] and 2 positional encoders. 24 bits are reserved for encoding the final bit\n"
     ]
    },
    {
     "name": "stdout",
     "output_type": "stream",
     "text": [
      "HsqcRankedTransformer saving args\n",
      "Model type: HSQC, max_radius: 4\n",
      "\n",
      "\n",
      "\n",
      "new_compound_A\n",
      "\n",
      "\n",
      "Normal\n",
      "max_radius:  3\n",
      "loading time: 2.1836564540863037\n",
      "counting time: 13.570495843887329\n",
      "finish entropy list\n"
     ]
    },
    {
     "name": "stderr",
     "output_type": "stream",
     "text": [
      "Initialized SignCoordinateEncoder[384] with dims [180, 180, 24] and 2 positional encoders. 24 bits are reserved for encoding the final bit\n"
     ]
    },
    {
     "name": "stdout",
     "output_type": "stream",
     "text": [
      "HsqcRankedTransformer saving args\n",
      "Model type: C-NMR, max_radius: 3\n",
      "\n",
      "\n",
      "\n",
      "new_compound_A\n",
      "\n",
      "\n",
      "Normal\n",
      "max_radius:  3\n"
     ]
    },
    {
     "name": "stderr",
     "output_type": "stream",
     "text": [
      "Initialized SignCoordinateEncoder[384] with dims [180, 180, 24] and 2 positional encoders. 24 bits are reserved for encoding the final bit\n"
     ]
    },
    {
     "name": "stdout",
     "output_type": "stream",
     "text": [
      "HsqcRankedTransformer saving args\n",
      "Model type: H-NMR, max_radius: 3\n",
      "\n",
      "\n",
      "\n",
      "new_compound_A\n",
      "\n",
      "\n",
      "Normal\n",
      "max_radius:  2\n",
      "loading time: 2.2139968872070312\n",
      "counting time: 13.5121431350708\n",
      "finish entropy list\n"
     ]
    },
    {
     "name": "stderr",
     "output_type": "stream",
     "text": [
      "Initialized SignCoordinateEncoder[384] with dims [180, 180, 24] and 2 positional encoders. 24 bits are reserved for encoding the final bit\n"
     ]
    },
    {
     "name": "stdout",
     "output_type": "stream",
     "text": [
      "HsqcRankedTransformer saving args\n",
      "Model type: HSQC_C-NMR, max_radius: 2\n",
      "\n",
      "\n",
      "\n",
      "new_compound_A\n",
      "\n",
      "\n",
      "Normal\n",
      "max_radius:  2\n"
     ]
    },
    {
     "name": "stderr",
     "output_type": "stream",
     "text": [
      "Initialized SignCoordinateEncoder[384] with dims [180, 180, 24] and 2 positional encoders. 24 bits are reserved for encoding the final bit\n"
     ]
    },
    {
     "name": "stdout",
     "output_type": "stream",
     "text": [
      "HsqcRankedTransformer saving args\n",
      "Model type: HSQC_H-NMR, max_radius: 2\n",
      "\n",
      "\n",
      "\n",
      "new_compound_A\n",
      "\n",
      "\n",
      "Normal\n",
      "max_radius:  2\n"
     ]
    },
    {
     "name": "stderr",
     "output_type": "stream",
     "text": [
      "Initialized SignCoordinateEncoder[384] with dims [180, 180, 24] and 2 positional encoders. 24 bits are reserved for encoding the final bit\n"
     ]
    },
    {
     "name": "stdout",
     "output_type": "stream",
     "text": [
      "HsqcRankedTransformer saving args\n",
      "Model type: only_1d, max_radius: 2\n",
      "\n",
      "\n",
      "\n",
      "new_compound_A\n",
      "\n",
      "\n",
      "Normal\n",
      "max_radius:  2\n"
     ]
    },
    {
     "name": "stderr",
     "output_type": "stream",
     "text": [
      "Initialized SignCoordinateEncoder[384] with dims [180, 180, 24] and 2 positional encoders. 24 bits are reserved for encoding the final bit\n"
     ]
    },
    {
     "name": "stdout",
     "output_type": "stream",
     "text": [
      "HsqcRankedTransformer saving args\n",
      "Model type: only_1d_DTD, max_radius: 2\n",
      "\n",
      "\n",
      "\n",
      "new_compound_A\n",
      "\n",
      "\n",
      "Normal\n",
      "max_radius:  2\n"
     ]
    },
    {
     "name": "stderr",
     "output_type": "stream",
     "text": [
      "Initialized SignCoordinateEncoder[384] with dims [180, 180, 24] and 2 positional encoders. 24 bits are reserved for encoding the final bit\n"
     ]
    },
    {
     "name": "stdout",
     "output_type": "stream",
     "text": [
      "HsqcRankedTransformer saving args\n",
      "Model type: only_C-NMR_DTD, max_radius: 2\n"
     ]
    }
   ],
   "source": [
    "compound_dir = \"/root/gurusmart/MorganFP_prediction/inference_data/testing_compounds/new_compound_A\"\n",
    "newCompoundA_SMILES = \"O=C1C(NC2=O)CCC(O)N1C(CC3=CC=CC=C3)C(N(C)C(CC4=CC(Br)=C(O)C=C4)C(NC(C(CC)C)C(OC(C)C(C(NC2CCCC[NH3+])=O)NC(C(NC(C(COS(=O)([O-])=O)OC)=O)CC5=CC=CC=C5)=O)=O)=O)=O\"\n",
    "\n",
    "# inputs, NMR_type_indicator = build_input(compound_dir,\n",
    "#                      mode=mode,\n",
    "#                      include_h_nmr=False, include_c_nmr=False\n",
    "#                      )\n",
    "# show_topK(inputs, k=3, ground_truth_FP=newCompoundA_FP)\n",
    "\n",
    "investigate_new_molecule(compound_dir, newCompoundA_SMILES)"
   ]
  },
  {
   "cell_type": "code",
   "execution_count": 28,
   "metadata": {},
   "outputs": [
    {
     "name": "stdout",
     "output_type": "stream",
     "text": [
      "\n",
      "\n",
      "\n",
      "new_compound_B1\n",
      "\n",
      "\n",
      "Normal\n",
      "max_radius:  2\n"
     ]
    },
    {
     "name": "stderr",
     "output_type": "stream",
     "text": [
      "Initialized SignCoordinateEncoder[384] with dims [180, 180, 24] and 2 positional encoders. 24 bits are reserved for encoding the final bit\n"
     ]
    },
    {
     "name": "stdout",
     "output_type": "stream",
     "text": [
      "HsqcRankedTransformer saving args\n",
      "Model type: All-NMR, max_radius: 2\n",
      "\n",
      "\n",
      "\n",
      "new_compound_B1\n",
      "\n",
      "\n",
      "Normal\n",
      "max_radius:  4\n",
      "loading time: 2.3334407806396484\n",
      "counting time: 8.340882539749146\n",
      "finish entropy list\n"
     ]
    },
    {
     "name": "stderr",
     "output_type": "stream",
     "text": [
      "Initialized SignCoordinateEncoder[384] with dims [180, 180, 24] and 2 positional encoders. 24 bits are reserved for encoding the final bit\n"
     ]
    },
    {
     "name": "stdout",
     "output_type": "stream",
     "text": [
      "HsqcRankedTransformer saving args\n",
      "Model type: HSQC, max_radius: 4\n",
      "\n",
      "\n",
      "\n",
      "new_compound_B1\n",
      "\n",
      "\n",
      "Normal\n",
      "max_radius:  3\n",
      "loading time: 2.160229444503784\n",
      "counting time: 14.182291746139526\n",
      "finish entropy list\n"
     ]
    },
    {
     "name": "stderr",
     "output_type": "stream",
     "text": [
      "Initialized SignCoordinateEncoder[384] with dims [180, 180, 24] and 2 positional encoders. 24 bits are reserved for encoding the final bit\n"
     ]
    },
    {
     "name": "stdout",
     "output_type": "stream",
     "text": [
      "HsqcRankedTransformer saving args\n",
      "Model type: C-NMR, max_radius: 3\n",
      "\n",
      "\n",
      "\n",
      "new_compound_B1\n",
      "\n",
      "\n",
      "Normal\n",
      "max_radius:  3\n"
     ]
    },
    {
     "name": "stderr",
     "output_type": "stream",
     "text": [
      "Initialized SignCoordinateEncoder[384] with dims [180, 180, 24] and 2 positional encoders. 24 bits are reserved for encoding the final bit\n"
     ]
    },
    {
     "name": "stdout",
     "output_type": "stream",
     "text": [
      "HsqcRankedTransformer saving args\n",
      "Model type: H-NMR, max_radius: 3\n",
      "\n",
      "\n",
      "\n",
      "new_compound_B1\n",
      "\n",
      "\n",
      "Normal\n",
      "max_radius:  2\n",
      "loading time: 2.3113319873809814\n",
      "counting time: 13.597426652908325\n",
      "finish entropy list\n"
     ]
    },
    {
     "name": "stderr",
     "output_type": "stream",
     "text": [
      "Initialized SignCoordinateEncoder[384] with dims [180, 180, 24] and 2 positional encoders. 24 bits are reserved for encoding the final bit\n"
     ]
    },
    {
     "name": "stdout",
     "output_type": "stream",
     "text": [
      "HsqcRankedTransformer saving args\n",
      "Model type: HSQC_C-NMR, max_radius: 2\n",
      "\n",
      "\n",
      "\n",
      "new_compound_B1\n",
      "\n",
      "\n",
      "Normal\n",
      "max_radius:  2\n"
     ]
    },
    {
     "name": "stderr",
     "output_type": "stream",
     "text": [
      "Initialized SignCoordinateEncoder[384] with dims [180, 180, 24] and 2 positional encoders. 24 bits are reserved for encoding the final bit\n"
     ]
    },
    {
     "name": "stdout",
     "output_type": "stream",
     "text": [
      "HsqcRankedTransformer saving args\n",
      "Model type: HSQC_H-NMR, max_radius: 2\n",
      "\n",
      "\n",
      "\n",
      "new_compound_B1\n",
      "\n",
      "\n",
      "Normal\n",
      "max_radius:  2\n"
     ]
    },
    {
     "name": "stderr",
     "output_type": "stream",
     "text": [
      "Initialized SignCoordinateEncoder[384] with dims [180, 180, 24] and 2 positional encoders. 24 bits are reserved for encoding the final bit\n"
     ]
    },
    {
     "name": "stdout",
     "output_type": "stream",
     "text": [
      "HsqcRankedTransformer saving args\n",
      "Model type: only_1d, max_radius: 2\n",
      "\n",
      "\n",
      "\n",
      "new_compound_B1\n",
      "\n",
      "\n",
      "Normal\n",
      "max_radius:  2\n"
     ]
    },
    {
     "name": "stderr",
     "output_type": "stream",
     "text": [
      "Initialized SignCoordinateEncoder[384] with dims [180, 180, 24] and 2 positional encoders. 24 bits are reserved for encoding the final bit\n"
     ]
    },
    {
     "name": "stdout",
     "output_type": "stream",
     "text": [
      "HsqcRankedTransformer saving args\n",
      "Model type: only_1d_DTD, max_radius: 2\n",
      "\n",
      "\n",
      "\n",
      "new_compound_B1\n",
      "\n",
      "\n",
      "Normal\n",
      "max_radius:  2\n"
     ]
    },
    {
     "name": "stderr",
     "output_type": "stream",
     "text": [
      "Initialized SignCoordinateEncoder[384] with dims [180, 180, 24] and 2 positional encoders. 24 bits are reserved for encoding the final bit\n"
     ]
    },
    {
     "name": "stdout",
     "output_type": "stream",
     "text": [
      "HsqcRankedTransformer saving args\n",
      "Model type: only_C-NMR_DTD, max_radius: 2\n"
     ]
    }
   ],
   "source": [
    "compound_dir = \"/root/gurusmart/MorganFP_prediction/inference_data/testing_compounds/new_compound_B1\"\n",
    "# inputs, NMR_type_indicator = build_input(compound_dir,\n",
    "#                      mode=mode,\n",
    "#                      include_h_nmr=False, include_c_nmr=False\n",
    "#                      )\n",
    "# show_topK(inputs, k=3)\n",
    "\n",
    "investigate_new_molecule(compound_dir, None)"
   ]
  },
  {
   "cell_type": "code",
   "execution_count": 29,
   "metadata": {},
   "outputs": [
    {
     "name": "stdout",
     "output_type": "stream",
     "text": [
      "\n",
      "\n",
      "\n",
      "new_compound_B2\n",
      "\n",
      "\n"
     ]
    },
    {
     "name": "stdout",
     "output_type": "stream",
     "text": [
      "Normal\n",
      "max_radius:  2\n"
     ]
    },
    {
     "name": "stderr",
     "output_type": "stream",
     "text": [
      "Initialized SignCoordinateEncoder[384] with dims [180, 180, 24] and 2 positional encoders. 24 bits are reserved for encoding the final bit\n"
     ]
    },
    {
     "name": "stdout",
     "output_type": "stream",
     "text": [
      "HsqcRankedTransformer saving args\n",
      "Model type: All-NMR, max_radius: 2\n",
      "\n",
      "\n",
      "\n",
      "new_compound_B2\n",
      "\n",
      "\n",
      "Normal\n",
      "max_radius:  4\n",
      "loading time: 2.30220365524292\n",
      "counting time: 8.402037858963013\n",
      "finish entropy list\n"
     ]
    },
    {
     "name": "stderr",
     "output_type": "stream",
     "text": [
      "Initialized SignCoordinateEncoder[384] with dims [180, 180, 24] and 2 positional encoders. 24 bits are reserved for encoding the final bit\n"
     ]
    },
    {
     "name": "stdout",
     "output_type": "stream",
     "text": [
      "HsqcRankedTransformer saving args\n",
      "Model type: HSQC, max_radius: 4\n",
      "\n",
      "\n",
      "\n",
      "new_compound_B2\n",
      "\n",
      "\n",
      "Normal\n",
      "max_radius:  3\n",
      "loading time: 2.1696791648864746\n",
      "counting time: 13.725626945495605\n",
      "finish entropy list\n"
     ]
    },
    {
     "name": "stderr",
     "output_type": "stream",
     "text": [
      "Initialized SignCoordinateEncoder[384] with dims [180, 180, 24] and 2 positional encoders. 24 bits are reserved for encoding the final bit\n"
     ]
    },
    {
     "name": "stdout",
     "output_type": "stream",
     "text": [
      "HsqcRankedTransformer saving args\n",
      "Model type: C-NMR, max_radius: 3\n",
      "\n",
      "\n",
      "\n",
      "new_compound_B2\n",
      "\n",
      "\n",
      "Normal\n",
      "max_radius:  3\n"
     ]
    },
    {
     "name": "stderr",
     "output_type": "stream",
     "text": [
      "Initialized SignCoordinateEncoder[384] with dims [180, 180, 24] and 2 positional encoders. 24 bits are reserved for encoding the final bit\n"
     ]
    },
    {
     "name": "stdout",
     "output_type": "stream",
     "text": [
      "HsqcRankedTransformer saving args\n",
      "Model type: H-NMR, max_radius: 3\n",
      "\n",
      "\n",
      "\n",
      "new_compound_B2\n",
      "\n",
      "\n",
      "Normal\n",
      "max_radius:  2\n",
      "loading time: 2.3592278957366943\n",
      "counting time: 13.718299627304077\n",
      "finish entropy list\n"
     ]
    },
    {
     "name": "stderr",
     "output_type": "stream",
     "text": [
      "Initialized SignCoordinateEncoder[384] with dims [180, 180, 24] and 2 positional encoders. 24 bits are reserved for encoding the final bit\n"
     ]
    },
    {
     "name": "stdout",
     "output_type": "stream",
     "text": [
      "HsqcRankedTransformer saving args\n",
      "Model type: HSQC_C-NMR, max_radius: 2\n",
      "\n",
      "\n",
      "\n",
      "new_compound_B2\n",
      "\n",
      "\n",
      "Normal\n",
      "max_radius:  2\n"
     ]
    },
    {
     "name": "stderr",
     "output_type": "stream",
     "text": [
      "Initialized SignCoordinateEncoder[384] with dims [180, 180, 24] and 2 positional encoders. 24 bits are reserved for encoding the final bit\n"
     ]
    },
    {
     "name": "stdout",
     "output_type": "stream",
     "text": [
      "HsqcRankedTransformer saving args\n",
      "Model type: HSQC_H-NMR, max_radius: 2\n",
      "\n",
      "\n",
      "\n",
      "new_compound_B2\n",
      "\n",
      "\n",
      "Normal\n",
      "max_radius:  2\n"
     ]
    },
    {
     "name": "stderr",
     "output_type": "stream",
     "text": [
      "Initialized SignCoordinateEncoder[384] with dims [180, 180, 24] and 2 positional encoders. 24 bits are reserved for encoding the final bit\n"
     ]
    },
    {
     "name": "stdout",
     "output_type": "stream",
     "text": [
      "HsqcRankedTransformer saving args\n",
      "Model type: only_1d, max_radius: 2\n",
      "\n",
      "\n",
      "\n",
      "new_compound_B2\n",
      "\n",
      "\n",
      "Normal\n",
      "max_radius:  2\n"
     ]
    },
    {
     "name": "stderr",
     "output_type": "stream",
     "text": [
      "Initialized SignCoordinateEncoder[384] with dims [180, 180, 24] and 2 positional encoders. 24 bits are reserved for encoding the final bit\n"
     ]
    },
    {
     "name": "stdout",
     "output_type": "stream",
     "text": [
      "HsqcRankedTransformer saving args\n",
      "Model type: only_1d_DTD, max_radius: 2\n",
      "\n",
      "\n",
      "\n",
      "new_compound_B2\n",
      "\n",
      "\n",
      "Normal\n",
      "max_radius:  2\n"
     ]
    },
    {
     "name": "stderr",
     "output_type": "stream",
     "text": [
      "Initialized SignCoordinateEncoder[384] with dims [180, 180, 24] and 2 positional encoders. 24 bits are reserved for encoding the final bit\n"
     ]
    },
    {
     "name": "stdout",
     "output_type": "stream",
     "text": [
      "HsqcRankedTransformer saving args\n",
      "Model type: only_C-NMR_DTD, max_radius: 2\n"
     ]
    }
   ],
   "source": [
    "compound_dir = \"/root/gurusmart/MorganFP_prediction/inference_data/testing_compounds/new_compound_B2\"\n",
    "\n",
    "\n",
    "investigate_new_molecule(compound_dir, None)"
   ]
  },
  {
   "cell_type": "code",
   "execution_count": null,
   "metadata": {},
   "outputs": [],
   "source": []
  }
 ],
 "metadata": {
  "kernelspec": {
   "display_name": "base",
   "language": "python",
   "name": "python3"
  },
  "language_info": {
   "codemirror_mode": {
    "name": "ipython",
    "version": 3
   },
   "file_extension": ".py",
   "mimetype": "text/x-python",
   "name": "python",
   "nbconvert_exporter": "python",
   "pygments_lexer": "ipython3",
   "version": "3.11.10"
  }
 },
 "nbformat": 4,
 "nbformat_minor": 2
}
