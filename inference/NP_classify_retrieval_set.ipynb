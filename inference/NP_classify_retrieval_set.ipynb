{
 "cells": [
  {
   "cell_type": "code",
   "execution_count": 2,
   "metadata": {},
   "outputs": [
    {
     "data": {
      "text/plain": [
       "{'class_results': ['Linear peptides', 'Microcolins and mirabimids'],\n",
       " 'superclass_results': ['Oligopeptides'],\n",
       " 'pathway_results': ['Amino acids and Peptides'],\n",
       " 'isglycoside': False}"
      ]
     },
     "execution_count": 2,
     "metadata": {},
     "output_type": "execute_result"
    }
   ],
   "source": [
    "import requests\n",
    "def fetch_np_class(smile):\n",
    "    try:\n",
    "        np_url = f\"https://npclassifier.gnps2.org/classify?smiles={smile}\"\n",
    "        res = requests.get(np_url, timeout=5)\n",
    "        return res.json()\n",
    "    except Exception as e:\n",
    "        print(f\"[WARNING] NPClassifier failed for {smile}: {e}\")\n",
    "        return {\"error\": \"NPClassifier request failed\"}\n",
    "    \n",
    "fetch_np_class(\"CCC(C)C(OC(=O)C(CC(C)C)N(C)C)C(=O)N(C)C(C(=O)N1CCCC1C(=O)N1C(=O)C=C(OC)C1C(C)C)C(C)C\")"
   ]
  },
  {
   "cell_type": "code",
   "execution_count": 3,
   "metadata": {},
   "outputs": [
    {
     "name": "stdout",
     "output_type": "stream",
     "text": [
      "526316\n"
     ]
    }
   ],
   "source": [
    "import pickle\n",
    "with open(f'/root/gurusmart/MorganFP_prediction/inference_data/coconut_loutus_hyun_training/inference_metadata_latest_RDkit.pkl', 'rb') as file:\n",
    "    smiles_and_names = pickle.load(file)\n",
    "print(len(smiles_and_names))"
   ]
  },
  {
   "cell_type": "code",
   "execution_count": 4,
   "metadata": {},
   "outputs": [],
   "source": [
    "import pickle\n",
    "from concurrent.futures import ProcessPoolExecutor, as_completed\n",
    "from tqdm import tqdm\n",
    "\n",
    "# Define your fetch function and input list\n",
    "def fetch_with_key(smiles_entry):\n",
    "    smiles, _, _, _ = smiles_entry\n",
    "    result = fetch_np_class(smiles)\n",
    "    return smiles, result\n",
    "\n",
    "# Run multiprocessing\n",
    "def run_parallel(smiles_and_names, num_workers=8):\n",
    "    smiles_to_np_classes = {}\n",
    "    with ProcessPoolExecutor(max_workers=num_workers) as executor:\n",
    "        futures = {executor.submit(fetch_with_key, entry): entry for entry in smiles_and_names}\n",
    "        for future in tqdm(as_completed(futures), total=len(futures)):\n",
    "            smiles, result = future.result()\n",
    "            smiles_to_np_classes[smiles] = result\n",
    "    return smiles_to_np_classes\n",
    "\n",
    "\n"
   ]
  },
  {
   "cell_type": "code",
   "execution_count": null,
   "metadata": {},
   "outputs": [
    {
     "name": "stderr",
     "output_type": "stream",
     "text": [
      "  0%|          | 0/10 [00:00<?, ?it/s]"
     ]
    },
    {
     "name": "stderr",
     "output_type": "stream",
     "text": [
      "100%|██████████| 10/10 [00:00<00:00, 26.80it/s]\n"
     ]
    }
   ],
   "source": [
    "# Run and save\n",
    "smiles_to_np_classes = run_parallel(smiles_and_names, num_workers=8)\n",
    "\n",
    "with open('/root/gurusmart/MorganFP_prediction/inference_data/coconut_loutus_hyun_training/smiles_to_np_classes.pkl', 'wb') as file:\n",
    "    pickle.dump(smiles_to_np_classes, file)"
   ]
  }
 ],
 "metadata": {
  "kernelspec": {
   "display_name": "base",
   "language": "python",
   "name": "python3"
  },
  "language_info": {
   "codemirror_mode": {
    "name": "ipython",
    "version": 3
   },
   "file_extension": ".py",
   "mimetype": "text/x-python",
   "name": "python",
   "nbconvert_exporter": "python",
   "pygments_lexer": "ipython3",
   "version": "3.11.10"
  }
 },
 "nbformat": 4,
 "nbformat_minor": 2
}
