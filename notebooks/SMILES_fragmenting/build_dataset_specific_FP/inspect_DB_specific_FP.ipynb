{
 "cells": [
  {
   "cell_type": "code",
   "execution_count": 7,
   "metadata": {},
   "outputs": [],
   "source": [
    "import pathlib, pickle, os, tqdm\n",
    "import torch\n",
    "\n",
    "from rdkit import Chem\n",
    "from rdkit.Chem import rdMolDescriptors\n",
    "from rdkit.Chem import AllChem\n",
    "from rdkit.Chem import Draw\n",
    "\n",
    "DATASET_root_path = pathlib.Path(\"/workspace/\")\n",
    "DATASETS = [\"OneD_Only_Dataset\", \"SMILES_dataset\"]\n",
    "DATASET_INDEX_SOURCE = [\"oneD_NMR\" , \"HSQC\"]\n"
   ]
  },
  {
   "cell_type": "code",
   "execution_count": 9,
   "metadata": {},
   "outputs": [
    {
     "name": "stdout",
     "output_type": "stream",
     "text": [
      "tensor(56.)\n",
      "101\n",
      "OCC1OC(OC2C(CO)OC(OC3C(CO)OC(OC4C(CO)OC(O)C(O)C4O)C(O)C3O)C(O)C2O)C(O)C(O)C1O\n",
      "\n",
      "tensor(81.)\n",
      "141\n",
      "CCCC=[N+]([O-])CCCCCNC(=O)CCC(=O)N(O)CCCCCNC(=O)CCC(=O)N(O)CCCCCN\n",
      "\n",
      "tensor(248.)\n",
      "139\n",
      "COc1cc(O)c2c(=O)oc3c(OC4(C)Oc5cccc(C)c5C4=O)c(OC)cc(C)c3c2c1\n",
      "\n",
      "tensor(87.)\n",
      "69\n",
      "O=CC1=CC(=NO)C(O)C=C1.O=CC1=CC(=NO)C(O)C=C1.OCC1=CC(=NO)C(O)C=C1.[Fe]\n",
      "\n",
      "tensor(141.)\n",
      "162\n",
      "CC(=O)OC1C2OC3(OCC45CC6C(C)CCC6C6(C=O)CC4C=C(C(C)C)C65C(=O)O)OC2OC1C3O\n",
      "\n"
     ]
    }
   ],
   "source": [
    "count = 0\n",
    "for dataset, index_souce in zip(DATASETS, DATASET_INDEX_SOURCE):\n",
    "    for split in [\"train\"]:\n",
    "        smiles_dict = pickle.load(open( DATASET_root_path / f\"{dataset}/{split}/SMILES/index.pkl\", \"rb\"))\n",
    "        file_names = os.listdir( DATASET_root_path / f\"{dataset}/{split}/{index_souce}\")\n",
    "        for f in (file_names):\n",
    "            idx = int(f.split(\".\")[0])\n",
    "            smile = smiles_dict[idx]\n",
    "            \n",
    "            output_FP = torch.load( DATASET_root_path / f\"{dataset}/{split}/DB_specific_FP/{idx}.pt\")\n",
    "            count += 1\n",
    "            mol = Chem.MolFromSmiles(smile)\n",
    "            mol = Chem.AddHs(mol) # add implicit Hs to the molecule\n",
    "            morganFP = AllChem.GetMorganFingerprintAsBitVect(mol,radius=6,nBits=6144)\n",
    "   \n",
    "            if count <= 5:\n",
    "                print(torch.sum(output_FP))\n",
    "                print(morganFP.GetNumOnBits())\n",
    "                print(smile)\n",
    "                print()\n",
    "            else:\n",
    "                break\n",
    "    break"
   ]
  },
  {
   "cell_type": "code",
   "execution_count": 4,
   "metadata": {},
   "outputs": [
    {
     "data": {
      "text/plain": [
       "'CCC(C)C1NC(=O)CNC(=O)C(C(C)C)NC(=O)C(Cc2ccccc2)NC(=O)C(Cc2ccc(O)cc2)NC(=O)C(CCC(=O)O)NC(=O)C2CCCN2C(=O)C(C(C)C)NC(=O)C(Cc2cnc[nH]2)NC(=O)CNC(=O)C(C)NC(=O)CNC(=O)CNC(=O)CNC(=O)C(Cc2ccc(O)cc2)NC(=O)C(Cc2ccccc2)NC(=O)C(CO)NC(=O)C(C(C)CC)NC(=O)C2CCCN2C(=O)C(C(C)O)NC(=O)CNC1=O'"
      ]
     },
     "execution_count": 4,
     "metadata": {},
     "output_type": "execute_result"
    }
   ],
   "source": [
    "smile"
   ]
  },
  {
   "cell_type": "code",
   "execution_count": null,
   "metadata": {},
   "outputs": [],
   "source": []
  }
 ],
 "metadata": {
  "kernelspec": {
   "display_name": "base",
   "language": "python",
   "name": "python3"
  },
  "language_info": {
   "codemirror_mode": {
    "name": "ipython",
    "version": 3
   },
   "file_extension": ".py",
   "mimetype": "text/x-python",
   "name": "python",
   "nbconvert_exporter": "python",
   "pygments_lexer": "ipython3",
   "version": "3.10.13"
  }
 },
 "nbformat": 4,
 "nbformat_minor": 2
}
