{
 "cells": [
  {
   "cell_type": "code",
   "execution_count": 24,
   "metadata": {},
   "outputs": [],
   "source": [
    "\n",
    "from rdkit import Chem\n",
    "from rdkit.Chem import rdMolDescriptors\n",
    "from rdkit.Chem import AllChem\n",
    "from rdkit.Chem import Draw\n",
    "import pathlib, pickle, os, tqdm\n",
    "import torch\n",
    "from collections import defaultdict  \n",
    "\n",
    "RADIUS_UPPER_LIMIT = 4\n",
    "DATASET_root_path = pathlib.Path(\"/workspace/\")\n",
    "DATASETS = [\"OneD_Only_Dataset\", \"SMILES_dataset\"]\n",
    "DATASET_INDEX_SOURCE = [\"oneD_NMR\" , \"HSQC\"]\n",
    "\n",
    "save_path = DATASET_root_path / f\"all_train_set_fragments_radius_under_{RADIUS_UPPER_LIMIT}_to_smiles.pkl\"\n",
    "with open(save_path, \"rb\") as f:\n",
    "    all_train_set_fragments = pickle.load(f)\n",
    "\n",
    "gen_FP_save_path = DATASET_root_path / f\"all_train_set_fragments_radius_to_smiles_to_index.pkl\" # used for generating FP\n",
    "with open(gen_FP_save_path, \"rb\") as f: \n",
    "    radius_to_smiles_to_index = pickle.load(f)\n",
    "\n",
    "interpret_FP_save_path = DATASET_root_path / f\"all_train_set_fragments_index_to_smiles.pkl\" # used for interpreting FP\n",
    "with open(interpret_FP_save_path, \"rb\") as f: \n",
    "    index_to_smiles = pickle.load(f)"
   ]
  },
  {
   "cell_type": "code",
   "execution_count": 26,
   "metadata": {},
   "outputs": [
    {
     "name": "stdout",
     "output_type": "stream",
     "text": [
      "2\n",
      "36428\n",
      "3\n",
      "289259\n",
      "4\n",
      "609914\n",
      "1\n",
      "1289\n",
      "0\n",
      "1\n"
     ]
    }
   ],
   "source": [
    "for k,v in all_train_set_fragments.items():\n",
    "    print(k)\n",
    "    print(len(v))\n",
    "    "
   ]
  },
  {
   "cell_type": "code",
   "execution_count": 20,
   "metadata": {},
   "outputs": [
    {
     "data": {
      "text/plain": [
       "set()"
      ]
     },
     "execution_count": 20,
     "metadata": {},
     "output_type": "execute_result"
    }
   ],
   "source": [
    "all_train_set_fragments[2].intersection(all_train_set_fragments[3])"
   ]
  },
  {
   "cell_type": "code",
   "execution_count": 21,
   "metadata": {},
   "outputs": [
    {
     "data": {
      "text/plain": [
       "2270"
      ]
     },
     "execution_count": 21,
     "metadata": {},
     "output_type": "execute_result"
    }
   ],
   "source": [
    "len(all_train_set_fragments[2])"
   ]
  },
  {
   "cell_type": "code",
   "execution_count": 22,
   "metadata": {},
   "outputs": [
    {
     "data": {
      "text/plain": [
       "5779"
      ]
     },
     "execution_count": 22,
     "metadata": {},
     "output_type": "execute_result"
    }
   ],
   "source": [
    "len(all_train_set_fragments[3])"
   ]
  },
  {
   "cell_type": "code",
   "execution_count": 23,
   "metadata": {},
   "outputs": [
    {
     "data": {
      "text/plain": [
       "0"
      ]
     },
     "execution_count": 23,
     "metadata": {},
     "output_type": "execute_result"
    }
   ],
   "source": [
    "len(all_train_set_fragments[2].intersection(all_train_set_fragments[3]))"
   ]
  },
  {
   "cell_type": "code",
   "execution_count": 27,
   "metadata": {},
   "outputs": [
    {
     "name": "stdout",
     "output_type": "stream",
     "text": [
      "tensor([10,  0, 30,  0, 50])\n"
     ]
    }
   ],
   "source": [
    "import torch\n",
    "\n",
    "# Original tensor\n",
    "x = torch.tensor([10, 20, 30, 40, 50])\n",
    "\n",
    "# Indices to set to zero\n",
    "zeros = torch.tensor([1, 3])  # Indices to be zeroed\n",
    "\n",
    "# Set the elements at specified indices to zero\n",
    "x[zeros] = 0\n",
    "\n",
    "print(x)  # Output: tensor([10,  0, 30,  0, 50])\n"
   ]
  },
  {
   "cell_type": "code",
   "execution_count": 29,
   "metadata": {},
   "outputs": [
    {
     "data": {
      "text/plain": [
       "torch.int64"
      ]
     },
     "execution_count": 29,
     "metadata": {},
     "output_type": "execute_result"
    }
   ],
   "source": [
    "zeros.dtype"
   ]
  },
  {
   "cell_type": "code",
   "execution_count": null,
   "metadata": {},
   "outputs": [],
   "source": []
  }
 ],
 "metadata": {
  "kernelspec": {
   "display_name": "base",
   "language": "python",
   "name": "python3"
  },
  "language_info": {
   "codemirror_mode": {
    "name": "ipython",
    "version": 3
   },
   "file_extension": ".py",
   "mimetype": "text/x-python",
   "name": "python",
   "nbconvert_exporter": "python",
   "pygments_lexer": "ipython3",
   "version": "undefined.undefined.undefined"
  }
 },
 "nbformat": 4,
 "nbformat_minor": 2
}
