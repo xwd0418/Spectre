{
 "cells": [
  {
   "cell_type": "code",
   "execution_count": 1,
   "metadata": {},
   "outputs": [],
   "source": [
    "import sys, torch\n",
    "sys.path.insert(0, '../../utils')\n",
    "import ranker"
   ]
  },
  {
   "cell_type": "code",
   "execution_count": 2,
   "metadata": {},
   "outputs": [],
   "source": [
    "data = torch.tensor([\n",
    "    [0, 0, 0, 0, 0, 0],\n",
    "    [0, 0, 0, 0, 1, 1],\n",
    "    [0, 0, 1, 1, 1, 1],\n",
    "    [1, 1, 1, 1, 1, 1],\n",
    "], dtype=torch.float)\n",
    "rs = ranker.RankingSet(store=data, debug=True)"
   ]
  },
  {
   "cell_type": "code",
   "execution_count": 3,
   "metadata": {},
   "outputs": [
    {
     "name": "stdout",
     "output_type": "stream",
     "text": [
      "tensor([[0.0000],\n",
      "        [0.7071],\n",
      "        [0.5000],\n",
      "        [0.4082]])\n",
      "tensor([[0.0000],\n",
      "        [0.7071],\n",
      "        [1.0000],\n",
      "        [0.8165]])\n",
      "tensor([0.5000])\n",
      "tensor([False, False,  True, False])\n",
      "tensor([False,  True,  True, False])\n",
      "tensor([1.])\n"
     ]
    }
   ],
   "source": [
    "queries = torch.tensor([[0, 0, 0, 0, 0, 1]], dtype=torch.float)\n",
    "truth = torch.tensor([[0, 0, 1, 1, 1, 1]], dtype=torch.float)\n",
    "\n",
    "out = rs.batched_rank(queries, truth)\n",
    "print(out)"
   ]
  },
  {
   "cell_type": "code",
   "execution_count": 10,
   "metadata": {},
   "outputs": [
    {
     "name": "stdout",
     "output_type": "stream",
     "text": [
      "tensor([1205.])\n"
     ]
    }
   ],
   "source": [
    "import numpy as np\n",
    "ct_flip = 20\n",
    "rs = ranker.RankingSet(file_path=\"../../tempdata/hyun_pair_ranking_set_07_22/test_pair.pt\")\n",
    "query = torch.zeros((1, 6144), dtype=torch.float)\n",
    "true = torch.zeros((1, 6144), dtype=torch.float)\n",
    "\n",
    "idxs = np.random.choice(range(6144), ct_flip, replace=False)\n",
    "idxs2 = np.random.choice(range(6144), ct_flip, replace=False)\n",
    "query[0,idxs] = 1- query[0,idxs]\n",
    "true[0,idxs2] = 1- true[0,idxs2]\n",
    "out = rs.batched_rank(query, true)\n",
    "print(out)"
   ]
  }
 ],
 "metadata": {
  "kernelspec": {
   "display_name": "Python 3.8.12 ('base')",
   "language": "python",
   "name": "python3"
  },
  "language_info": {
   "codemirror_mode": {
    "name": "ipython",
    "version": 3
   },
   "file_extension": ".py",
   "mimetype": "text/x-python",
   "name": "python",
   "nbconvert_exporter": "python",
   "pygments_lexer": "ipython3",
   "version": "3.8.12"
  },
  "orig_nbformat": 4,
  "vscode": {
   "interpreter": {
    "hash": "d4d1e4263499bec80672ea0156c357c1ee493ec2b1c70f0acce89fc37c4a6abe"
   }
  }
 },
 "nbformat": 4,
 "nbformat_minor": 2
}
