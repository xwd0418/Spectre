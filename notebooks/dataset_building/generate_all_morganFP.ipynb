{
 "cells": [
  {
   "cell_type": "markdown",
   "metadata": {},
   "source": [
    "2024/4/19\n",
    "\n",
    "build r0-r'n' Fingerprint with exact FP and normal FP\n",
    "with n in [1,15]\n",
    "\n",
    "In the end, we will (usually) pick the 6144 positions with the highest entropy   \n"
   ]
  },
  {
   "cell_type": "code",
   "execution_count": 1,
   "metadata": {},
   "outputs": [],
   "source": [
    "\n",
    "import pickle\n",
    "from pathlib import Path\n",
    "import time, torch, os\n",
    "from fingerprint_utils import FP_generator\n",
    "batch_size=64\n",
    "import tqdm\n",
    "import numpy as np\n",
    "from matplotlib import pyplot as plt\n",
    "from rdkit.Chem import AllChem\n",
    "from rdkit import Chem\n",
    "\n",
    "\n"
   ]
  },
  {
   "cell_type": "code",
   "execution_count": 5,
   "metadata": {},
   "outputs": [],
   "source": [
    "from rdkit import Chem\n",
    "from rdkit.Chem import rdMolDescriptors\n",
    "\n",
    "def generate_FP_with_exact_radius(mol, radius=2, length=6144):\n",
    "\n",
    "    # Dictionary to store information about which substructures contribute to setting which bits\n",
    "    bitInfo = {}\n",
    "    \n",
    "    # Generate the fingerprint with bitInfo to track the substructures contributing to each bit\n",
    "    fp = rdMolDescriptors.GetMorganFingerprintAsBitVect(mol, radius=radius, nBits=length, bitInfo=bitInfo)\n",
    "    \n",
    "    # Create an array of zeros to represent the new fingerprint\n",
    "    new_fp = [0] * length\n",
    "    \n",
    "    # Filter bitInfo to keep only entries where substructures have the exact radius\n",
    "    for bit, atoms in bitInfo.items():\n",
    "        # Check if any substructure at this bit has the exact specified radius\n",
    "        if any(radius_tuple[1] == radius for radius_tuple in atoms):\n",
    "            # Set the corresponding bit in the new fingerprint\n",
    "            new_fp[bit] = 1\n",
    "    \n",
    "    # Return the new filtered fingerprint as a list of bits\n",
    "    return new_fp\n",
    "\n",
    "\n",
    "def generate_normal_FP(mol, radius=2, length=6144):\n",
    "\n",
    "    # Dictionary to store information about which substructures contribute to setting which bits\n",
    "    bitInfo = {}\n",
    "    \n",
    "    # Generate the fingerprint with bitInfo to track the substructures contributing to each bit\n",
    "    fp = rdMolDescriptors.GetMorganFingerprintAsBitVect(mol, radius=radius, nBits=length, bitInfo=bitInfo)\n",
    "    new_fp = [0] * length\n",
    "    for bit, atoms in bitInfo.items():\n",
    "            new_fp[bit] = 1\n",
    "            \n",
    "    return new_fp\n",
    "   \n"
   ]
  },
  {
   "cell_type": "code",
   "execution_count": 6,
   "metadata": {},
   "outputs": [],
   "source": [
    "\n",
    "def generate_FP_on_bits_with_exact_radius(mol, radius=2, length=6144):\n",
    "\n",
    "    # Dictionary to store information about which substructures contribute to setting which bits\n",
    "    bitInfo = {}\n",
    "    on_bits = []\n",
    "    fp = rdMolDescriptors.GetMorganFingerprintAsBitVect(mol, radius=radius, nBits=length, bitInfo=bitInfo)\n",
    "    # Filter bitInfo to keep only entries where substructures have the exact radius\n",
    "    for bit, atoms in bitInfo.items():\n",
    "        # Check if any substructure at this bit has the exact specified radius\n",
    "        if any(radius_tuple[1] == radius for radius_tuple in atoms):\n",
    "            # Set the corresponding bit in the new fingerprint\n",
    "            on_bits.append(bit)\n",
    "    \n",
    "    # Return the new filtered fingerprint as a list of bits\n",
    "    return np.array(on_bits)\n",
    "\n",
    "\n",
    "def generate_normal_FP_on_bits(mol, radius=2, length=6144):\n",
    "\n",
    "    # Dictionary to store information about which substructures contribute to setting which bits\n",
    "    bitInfo = {}\n",
    "    \n",
    "    # Generate the fingerprint with bitInfo to track the substructures contributing to each bit\n",
    "    fp = rdMolDescriptors.GetMorganFingerprintAsBitVect(mol, radius=radius, nBits=length, bitInfo=bitInfo)\n",
    "    on_bits = np.array(fp.GetOnBits())\n",
    "    return on_bits"
   ]
  },
  {
   "cell_type": "code",
   "execution_count": 10,
   "metadata": {},
   "outputs": [],
   "source": [
    "'''This generates exact-r FP and save the count at each position !!!\n",
    "Gonna take you a few minutes \n",
    "'''\n",
    "\n",
    "os.makedirs(Path('/root/MorganFP_prediction/reproduce_previous_works/Spectre/notebooks/dataset_building/FP_on_bits_pickles'), exist_ok=True)\n",
    "def generate_FP_indices_of_r0_r15(split, FP_length, generation_method, dataset=\"2d\"):\n",
    "    num_plain_FPs = 16\n",
    "    if generation_method == \"exact\":\n",
    "        generate_FP_on_bis = generate_FP_on_bits_with_exact_radius\n",
    "        save_name = f\"Exact_FP_on_bits_r0_r15_len_{FP_length}_{dataset}_{split}.pkl\"\n",
    "    elif generation_method == \"normal\":\n",
    "        generate_FP_on_bis = generate_normal_FP_on_bits\n",
    "        save_name = f\"Normal_FP_on_bits_r0_r15_len_{FP_length}_{dataset}_{split}.pkl\"\n",
    "    else:\n",
    "        raise ValueError(\"generation_method should be exact or normal\")\n",
    "    if dataset==\"2d\":\n",
    "        path_dir = Path(\"/workspace/SMILES_dataset/\")\n",
    "    elif dataset==\"1d\":\n",
    "        path_dir = Path(\"/workspace/OneD_Only_Dataset/\")\n",
    "    else:\n",
    "        raise ValueError(\"dataset should be 2d or 1d\")    \n",
    "    smile_nmr = pickle.load(open(path_dir / split/ \"SMILES/index.pkl\", \"rb\"))\n",
    "\n",
    "    FP_on_bits = {}\n",
    "    for file_idx, smile_str in tqdm.tqdm(smile_nmr.items()):\n",
    "        mol = Chem.MolFromSmiles(smile_str)\n",
    "        mol_H = Chem.AddHs(mol) # add implicit Hs to the molecule\n",
    "        all_plain_fps = []\n",
    "        for radius in range(num_plain_FPs):\n",
    "            all_plain_fps.append(generate_FP_on_bis(mol_H, radius=radius, length=FP_length) + radius*FP_length)\n",
    "        concated_FP = np.concatenate(all_plain_fps)\n",
    "\n",
    "        FP_on_bits[file_idx] = concated_FP\n",
    "\n",
    "    save_dir = Path('/root/MorganFP_prediction/reproduce_previous_works/Spectre/notebooks/dataset_building/FP_on_bits_pickles')\n",
    "    \n",
    "    FP_on_bits_path = save_dir / save_name \n",
    "    with open(FP_on_bits_path, 'wb') as f:\n",
    "        pickle.dump(FP_on_bits, f)\n",
    "        \n",
    "    return FP_on_bits\n",
    "\n",
    "# count = np.zeros(6144*num_plain_FPs)\n",
    "    \n",
    "    \n",
    "    \n",
    "    # count+= concated_FP\n",
    "# np.save(f\"count_exact_r0_to_r{num_plain_FPs-1}_FP.npy\", count)"
   ]
  },
  {
   "cell_type": "code",
   "execution_count": 11,
   "metadata": {},
   "outputs": [
    {
     "name": "stderr",
     "output_type": "stream",
     "text": [
      " 58%|█████▊    | 7888/13718 [01:07<00:58, 98.84it/s] [11:14:46] WARNING: not removing hydrogen atom without neighbors\n",
      " 97%|█████████▋| 13274/13718 [01:51<00:02, 175.04it/s][11:15:30] WARNING: not removing hydrogen atom without neighbors\n",
      "100%|██████████| 13718/13718 [01:54<00:00, 119.97it/s]\n",
      " 31%|███▏      | 4312/13756 [00:35<01:25, 110.78it/s][11:16:09] WARNING: not removing hydrogen atom without neighbors\n",
      " 32%|███▏      | 4388/13756 [00:35<01:17, 120.80it/s][11:16:09] WARNING: not removing hydrogen atom without neighbors\n",
      " 59%|█████▉    | 8134/13756 [01:10<01:09, 81.17it/s] [11:16:44] WARNING: not removing hydrogen atom without neighbors\n",
      "100%|██████████| 13756/13756 [01:54<00:00, 119.78it/s]\n",
      "100%|██████████| 22001/22001 [02:54<00:00, 125.90it/s]\n",
      " 34%|███▍      | 7561/22157 [01:04<01:53, 128.22it/s][11:21:28] WARNING: not removing hydrogen atom without neighbors\n",
      "100%|██████████| 22157/22157 [02:54<00:00, 127.03it/s]\n",
      " 58%|█████▊    | 7889/13718 [00:49<00:47, 122.25it/s][11:24:10] WARNING: not removing hydrogen atom without neighbors\n",
      " 97%|█████████▋| 13280/13718 [01:22<00:01, 252.91it/s][11:24:42] WARNING: not removing hydrogen atom without neighbors\n",
      "100%|██████████| 13718/13718 [01:24<00:00, 162.81it/s]\n",
      " 31%|███▏      | 4320/13756 [00:25<01:05, 145.13it/s][11:25:11] WARNING: not removing hydrogen atom without neighbors\n",
      " 32%|███▏      | 4388/13756 [00:26<00:56, 165.56it/s][11:25:11] WARNING: not removing hydrogen atom without neighbors\n",
      " 59%|█████▉    | 8133/13756 [00:52<00:57, 97.60it/s] [11:25:37] WARNING: not removing hydrogen atom without neighbors\n",
      "100%|██████████| 13756/13756 [01:24<00:00, 161.94it/s]\n",
      "100%|██████████| 22001/22001 [02:07<00:00, 173.06it/s]\n",
      " 34%|███▍      | 7551/22157 [00:47<01:25, 170.31it/s][11:29:05] WARNING: not removing hydrogen atom without neighbors\n",
      "100%|██████████| 22157/22157 [02:07<00:00, 173.42it/s]\n"
     ]
    },
    {
     "name": "stdout",
     "output_type": "stream",
     "text": [
      "done\n"
     ]
    }
   ],
   "source": [
    "generate_FP_indices_of_r0_r15(\"test\", 6144, \"normal\", dataset=\"2d\")\n",
    "generate_FP_indices_of_r0_r15(\"val\", 6144, \"normal\", dataset=\"2d\")\n",
    "generate_FP_indices_of_r0_r15(\"test\", 6144, \"normal\", dataset=\"1d\")\n",
    "generate_FP_indices_of_r0_r15(\"val\", 6144, \"normal\", dataset=\"1d\")\n",
    "\n",
    "\n",
    "generate_FP_indices_of_r0_r15(\"test\", 1024, \"exact\", dataset=\"2d\")\n",
    "generate_FP_indices_of_r0_r15(\"val\", 1024, \"exact\", dataset=\"2d\")\n",
    "generate_FP_indices_of_r0_r15(\"test\", 1024, \"exact\", dataset=\"1d\")\n",
    "generate_FP_indices_of_r0_r15(\"val\", 1024, \"exact\", dataset=\"1d\")\n",
    "\n",
    "print(\"done\")\n",
    "# DONE"
   ]
  },
  {
   "cell_type": "code",
   "execution_count": 12,
   "metadata": {},
   "outputs": [
    {
     "name": "stderr",
     "output_type": "stream",
     "text": [
      "  0%|          | 180/177662 [00:01<23:28, 126.02it/s]"
     ]
    },
    {
     "name": "stderr",
     "output_type": "stream",
     "text": [
      "100%|██████████| 177662/177662 [23:56<00:00, 123.71it/s]\n",
      "  1%|▏         | 1483/109793 [00:12<15:55, 113.33it/s][11:54:39] WARNING: not removing hydrogen atom without neighbors\n",
      "  9%|▉         | 10051/109793 [01:23<11:07, 149.33it/s][11:55:50] WARNING: not removing hydrogen atom without neighbors\n",
      "[11:55:50] WARNING: not removing hydrogen atom without neighbors\n",
      " 33%|███▎      | 36010/109793 [05:02<16:59, 72.35it/s] [11:59:29] WARNING: not removing hydrogen atom without neighbors\n",
      " 33%|███▎      | 36020/109793 [05:02<16:07, 76.24it/s][11:59:29] WARNING: not removing hydrogen atom without neighbors\n",
      " 58%|█████▊    | 64188/109793 [09:18<08:14, 92.16it/s] [12:03:45] WARNING: not removing hydrogen atom without neighbors\n",
      "[12:03:45] WARNING: not removing hydrogen atom without neighbors\n",
      " 63%|██████▎   | 69691/109793 [10:21<04:53, 136.52it/s][12:04:48] WARNING: not removing hydrogen atom without neighbors\n",
      " 72%|███████▏  | 78563/109793 [11:32<10:48, 48.17it/s] [12:05:59] WARNING: not removing hydrogen atom without neighbors\n",
      " 90%|█████████ | 98877/109793 [14:06<01:10, 155.10it/s][12:08:33] WARNING: not removing hydrogen atom without neighbors\n",
      "100%|██████████| 109793/109793 [15:18<00:00, 119.48it/s]\n"
     ]
    }
   ],
   "source": [
    "FP_on_bits_6144_1d_train_normal = generate_FP_indices_of_r0_r15(\"train\", 6144, \"normal\", dataset=\"1d\")\n",
    "FP_on_bits_6144_2d_train_normal = generate_FP_indices_of_r0_r15(\"train\", 6144, \"normal\", dataset=\"2d\")\n",
    "# DONE \n",
    "\n",
    "\n",
    "\n"
   ]
  },
  {
   "cell_type": "code",
   "execution_count": 6,
   "metadata": {},
   "outputs": [],
   "source": [
    "# Done\n",
    "# FP_on_bits_1024_2d_train_exact = generate_FP_indices_of_r0_r15(\"train\", 1024, \"exact\", dataset=\"2d\")\n",
    "# FP_on_bits_1024_1d_train_exact = generate_FP_indices_of_r0_r15(\"train\", 1024, \"exact\", dataset=\"1d\")"
   ]
  }
 ],
 "metadata": {
  "kernelspec": {
   "display_name": "base",
   "language": "python",
   "name": "python3"
  },
  "language_info": {
   "codemirror_mode": {
    "name": "ipython",
    "version": 3
   },
   "file_extension": ".py",
   "mimetype": "text/x-python",
   "name": "python",
   "nbconvert_exporter": "python",
   "pygments_lexer": "ipython3",
   "version": "3.10.13"
  }
 },
 "nbformat": 4,
 "nbformat_minor": 2
}
