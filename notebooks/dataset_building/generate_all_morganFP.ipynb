{
 "cells": [
  {
   "cell_type": "markdown",
   "metadata": {},
   "source": [
    "2024/4/19\n",
    "\n",
    "build r0-r'n' Fingerprint with exact FP and normal FP\n",
    "with n in [1,15]\n",
    "\n",
    "In the end, we will (usually) pick the 6144 positions with the highest entropy   \n"
   ]
  },
  {
   "cell_type": "code",
   "execution_count": 1,
   "metadata": {},
   "outputs": [
    {
     "data": {
      "text/plain": [
       "PosixPath('/root/MorganFP_prediction/reproduce_previous_works')"
      ]
     },
     "execution_count": 1,
     "metadata": {},
     "output_type": "execute_result"
    }
   ],
   "source": [
    "\n",
    "import pickle\n",
    "from pathlib import Path\n",
    "import time, torch, os\n",
    "from fingerprint_utils import FP_generator\n",
    "batch_size=64\n",
    "import tqdm\n",
    "import numpy as np\n",
    "from matplotlib import pyplot as plt\n",
    "from rdkit.Chem import AllChem\n",
    "from rdkit import Chem\n",
    "\n",
    "import sys, pathlib\n",
    "repo_path = pathlib.Path.cwd().parents[2]\n",
    "repo_path"
   ]
  },
  {
   "cell_type": "code",
   "execution_count": 2,
   "metadata": {},
   "outputs": [],
   "source": [
    "from rdkit import Chem\n",
    "from rdkit.Chem import rdMolDescriptors\n",
    "\n",
    "def generate_FP_with_exact_radius(mol, radius=2, length=6144):\n",
    "\n",
    "    # Dictionary to store information about which substructures contribute to setting which bits\n",
    "    bitInfo = {}\n",
    "    \n",
    "    # Generate the fingerprint with bitInfo to track the substructures contributing to each bit\n",
    "    fp = rdMolDescriptors.GetMorganFingerprintAsBitVect(mol, radius=radius, nBits=length, bitInfo=bitInfo)\n",
    "    \n",
    "    # Create an array of zeros to represent the new fingerprint\n",
    "    new_fp = [0] * length\n",
    "    \n",
    "    # Filter bitInfo to keep only entries where substructures have the exact radius\n",
    "    for bit, atoms in bitInfo.items():\n",
    "        # Check if any substructure at this bit has the exact specified radius\n",
    "        if any(radius_tuple[1] == radius for radius_tuple in atoms):\n",
    "            # Set the corresponding bit in the new fingerprint\n",
    "            new_fp[bit] = 1\n",
    "    \n",
    "    # Return the new filtered fingerprint as a list of bits\n",
    "    return new_fp\n",
    "\n",
    "\n",
    "def generate_normal_FP(mol, radius=2, length=6144):\n",
    "\n",
    "    # Dictionary to store information about which substructures contribute to setting which bits\n",
    "    bitInfo = {}\n",
    "    \n",
    "    # Generate the fingerprint with bitInfo to track the substructures contributing to each bit\n",
    "    fp = rdMolDescriptors.GetMorganFingerprintAsBitVect(mol, radius=radius, nBits=length, bitInfo=bitInfo)\n",
    "    new_fp = [0] * length\n",
    "    for bit, atoms in bitInfo.items():\n",
    "            new_fp[bit] = 1\n",
    "            \n",
    "    return new_fp\n",
    "   \n"
   ]
  },
  {
   "cell_type": "code",
   "execution_count": 3,
   "metadata": {},
   "outputs": [],
   "source": [
    "\n",
    "def generate_FP_on_bits_with_exact_radius(mol, radius=2, length=6144):\n",
    "\n",
    "    # Dictionary to store information about which substructures contribute to setting which bits\n",
    "    bitInfo = {}\n",
    "    on_bits = []\n",
    "    fp = rdMolDescriptors.GetMorganFingerprintAsBitVect(mol, radius=radius, nBits=length, bitInfo=bitInfo)\n",
    "    # Filter bitInfo to keep only entries where substructures have the exact radius\n",
    "    for bit, atoms in bitInfo.items():\n",
    "        # Check if any substructure at this bit has the exact specified radius\n",
    "        if any(radius_tuple[1] == radius for radius_tuple in atoms):\n",
    "            # Set the corresponding bit in the new fingerprint\n",
    "            on_bits.append(bit)\n",
    "    \n",
    "    # Return the new filtered fingerprint as a list of bits\n",
    "    return np.array(on_bits)\n",
    "\n",
    "\n",
    "def generate_normal_FP_on_bits(mol, radius=2, length=6144):\n",
    "\n",
    "    # Dictionary to store information about which substructures contribute to setting which bits\n",
    "    bitInfo = {}\n",
    "    \n",
    "    # Generate the fingerprint with bitInfo to track the substructures contributing to each bit\n",
    "    fp = rdMolDescriptors.GetMorganFingerprintAsBitVect(mol, radius=radius, nBits=length, bitInfo=bitInfo)\n",
    "    on_bits = np.array(fp.GetOnBits())\n",
    "    return on_bits"
   ]
  },
  {
   "cell_type": "code",
   "execution_count": 4,
   "metadata": {},
   "outputs": [],
   "source": [
    "'''This generates exact-r FP and save the count at each position !!!\n",
    "Gonna take you a few minutes \n",
    "'''\n",
    "\n",
    "os.makedirs(Path(f'{repo_path}/notebooks/dataset_building/FP_on_bits_pickles'), exist_ok=True)\n",
    "def generate_FP_indices_of_r0_r15(split, FP_length, generation_method, dataset=\"2d\"):\n",
    "    num_plain_FPs = 16\n",
    "    if generation_method == \"exact\":\n",
    "        generate_FP_on_bis = generate_FP_on_bits_with_exact_radius\n",
    "        save_name = f\"Exact_FP_on_bits_r0_r15_len_{FP_length}_{dataset}_{split}.pkl\"\n",
    "    elif generation_method == \"normal\":\n",
    "        generate_FP_on_bis = generate_normal_FP_on_bits\n",
    "        save_name = f\"Normal_FP_on_bits_r0_r15_len_{FP_length}_{dataset}_{split}.pkl\"\n",
    "    else:\n",
    "        raise ValueError(\"generation_method should be exact or normal\")\n",
    "    if dataset==\"2d\":\n",
    "        path_dir = Path(\"/workspace/SMILES_dataset/\")\n",
    "    elif dataset==\"1d\":\n",
    "        path_dir = Path(\"/workspace/OneD_Only_Dataset/\")\n",
    "    else:\n",
    "        raise ValueError(\"dataset should be 2d or 1d\")    \n",
    "    smile_nmr = pickle.load(open(path_dir / split/ \"SMILES/index.pkl\", \"rb\"))\n",
    "\n",
    "    FP_on_bits = {}\n",
    "    for file_idx, smile_str in tqdm.tqdm(smile_nmr.items()):\n",
    "        mol = Chem.MolFromSmiles(smile_str)\n",
    "        mol_H = Chem.AddHs(mol) # add implicit Hs to the molecule\n",
    "        all_plain_fps = []\n",
    "        for radius in range(num_plain_FPs):\n",
    "            all_plain_fps.append(generate_FP_on_bis(mol_H, radius=radius, length=FP_length) + radius*FP_length)\n",
    "        concated_FP = np.concatenate(all_plain_fps)\n",
    "\n",
    "        FP_on_bits[file_idx] = concated_FP\n",
    "\n",
    "    save_dir = Path(f'{repo_path}/notebooks/dataset_building/FP_on_bits_pickles')\n",
    "    \n",
    "    FP_on_bits_path = save_dir / save_name \n",
    "    with open(FP_on_bits_path, 'wb') as f:\n",
    "        pickle.dump(FP_on_bits, f)\n",
    "        \n",
    "    return FP_on_bits\n",
    "\n",
    "# count = np.zeros(6144*num_plain_FPs)\n",
    "    \n",
    "    \n",
    "    \n",
    "    # count+= concated_FP\n",
    "# np.save(f\"count_exact_r0_to_r{num_plain_FPs-1}_FP.npy\", count)"
   ]
  },
  {
   "cell_type": "code",
   "execution_count": 5,
   "metadata": {},
   "outputs": [
    {
     "name": "stderr",
     "output_type": "stream",
     "text": [
      " 58%|█████▊    | 7892/13718 [01:35<01:21, 71.12it/s] [04:03:04] WARNING: not removing hydrogen atom without neighbors\n",
      " 97%|█████████▋| 13284/13718 [02:37<00:03, 130.83it/s][04:04:06] WARNING: not removing hydrogen atom without neighbors\n",
      "100%|██████████| 13718/13718 [02:41<00:00, 84.84it/s] \n",
      " 31%|███▏      | 4314/13756 [00:49<02:01, 77.86it/s] [04:05:02] WARNING: not removing hydrogen atom without neighbors\n",
      " 32%|███▏      | 4391/13756 [00:50<01:52, 82.88it/s] [04:05:02] WARNING: not removing hydrogen atom without neighbors\n",
      " 59%|█████▉    | 8136/13756 [01:39<01:34, 59.55it/s] [04:05:51] WARNING: not removing hydrogen atom without neighbors\n",
      "100%|██████████| 13756/13756 [02:41<00:00, 85.05it/s] \n",
      "100%|██████████| 8390/8390 [01:35<00:00, 87.90it/s] \n",
      "100%|██████████| 8337/8337 [01:34<00:00, 87.91it/s] \n",
      " 58%|█████▊    | 7889/13718 [01:10<01:05, 89.49it/s] [04:11:16] WARNING: not removing hydrogen atom without neighbors\n",
      " 97%|█████████▋| 13265/13718 [01:57<00:02, 160.97it/s][04:12:03] WARNING: not removing hydrogen atom without neighbors\n",
      "100%|██████████| 13718/13718 [01:59<00:00, 114.35it/s]\n",
      " 31%|███▏      | 4312/13756 [00:36<01:30, 104.49it/s][04:12:42] WARNING: not removing hydrogen atom without neighbors\n",
      " 32%|███▏      | 4391/13756 [00:36<01:21, 114.26it/s][04:12:43] WARNING: not removing hydrogen atom without neighbors\n",
      " 59%|█████▉    | 8135/13756 [01:14<01:23, 67.15it/s] [04:13:20] WARNING: not removing hydrogen atom without neighbors\n",
      "100%|██████████| 13756/13756 [02:00<00:00, 114.14it/s]\n",
      "100%|██████████| 8390/8390 [01:10<00:00, 119.36it/s]\n",
      "100%|██████████| 8337/8337 [01:09<00:00, 120.29it/s]\n"
     ]
    },
    {
     "name": "stdout",
     "output_type": "stream",
     "text": [
      "done\n"
     ]
    }
   ],
   "source": [
    "generate_FP_indices_of_r0_r15(\"test\", 6144, \"normal\", dataset=\"2d\")\n",
    "generate_FP_indices_of_r0_r15(\"val\", 6144, \"normal\", dataset=\"2d\")\n",
    "generate_FP_indices_of_r0_r15(\"test\", 6144, \"normal\", dataset=\"1d\")\n",
    "generate_FP_indices_of_r0_r15(\"val\", 6144, \"normal\", dataset=\"1d\")\n",
    "\n",
    "\n",
    "generate_FP_indices_of_r0_r15(\"test\", 1024, \"exact\", dataset=\"2d\")\n",
    "generate_FP_indices_of_r0_r15(\"val\", 1024, \"exact\", dataset=\"2d\")\n",
    "generate_FP_indices_of_r0_r15(\"test\", 1024, \"exact\", dataset=\"1d\")\n",
    "generate_FP_indices_of_r0_r15(\"val\", 1024, \"exact\", dataset=\"1d\")\n",
    "\n",
    "print(\"done\")\n",
    "# DONE"
   ]
  },
  {
   "cell_type": "code",
   "execution_count": 6,
   "metadata": {},
   "outputs": [
    {
     "name": "stderr",
     "output_type": "stream",
     "text": [
      "  0%|          | 26/66951 [00:00<09:24, 118.64it/s]"
     ]
    },
    {
     "name": "stderr",
     "output_type": "stream",
     "text": [
      " 40%|████      | 26949/66951 [05:46<08:25, 79.12it/s] [04:22:13] WARNING: not removing hydrogen atom without neighbors\n",
      "100%|██████████| 66951/66951 [13:14<00:00, 84.32it/s] \n",
      "  1%|▏         | 1477/109793 [00:17<25:38, 70.39it/s] [04:30:01] WARNING: not removing hydrogen atom without neighbors\n",
      "  9%|▉         | 10054/109793 [02:01<15:30, 107.15it/s][04:31:44] WARNING: not removing hydrogen atom without neighbors\n",
      "[04:31:45] WARNING: not removing hydrogen atom without neighbors\n",
      " 33%|███▎      | 36018/109793 [07:16<19:48, 62.08it/s]  [04:37:00] WARNING: not removing hydrogen atom without neighbors\n",
      "[04:37:00] WARNING: not removing hydrogen atom without neighbors\n",
      " 58%|█████▊    | 64193/109793 [13:27<12:37, 60.24it/s] [04:43:11] WARNING: not removing hydrogen atom without neighbors\n",
      "[04:43:11] WARNING: not removing hydrogen atom without neighbors\n",
      " 63%|██████▎   | 69699/109793 [15:00<06:52, 97.16it/s] [04:44:44] WARNING: not removing hydrogen atom without neighbors\n",
      " 72%|███████▏  | 78564/109793 [16:44<16:18, 31.92it/s] [04:46:27] WARNING: not removing hydrogen atom without neighbors\n",
      " 90%|█████████ | 98886/109793 [20:29<01:39, 110.05it/s][04:50:13] WARNING: not removing hydrogen atom without neighbors\n",
      "100%|██████████| 109793/109793 [22:14<00:00, 82.30it/s] \n"
     ]
    }
   ],
   "source": [
    "FP_on_bits_6144_1d_train_normal = generate_FP_indices_of_r0_r15(\"train\", 6144, \"normal\", dataset=\"1d\")\n",
    "FP_on_bits_6144_2d_train_normal = generate_FP_indices_of_r0_r15(\"train\", 6144, \"normal\", dataset=\"2d\")\n",
    "# DONE \n",
    "\n",
    "\n",
    "\n"
   ]
  },
  {
   "cell_type": "code",
   "execution_count": 7,
   "metadata": {},
   "outputs": [],
   "source": [
    "# Done\n",
    "# FP_on_bits_1024_2d_train_exact = generate_FP_indices_of_r0_r15(\"train\", 1024, \"exact\", dataset=\"2d\")\n",
    "# FP_on_bits_1024_1d_train_exact = generate_FP_indices_of_r0_r15(\"train\", 1024, \"exact\", dataset=\"1d\")"
   ]
  },
  {
   "cell_type": "code",
   "execution_count": 11,
   "metadata": {},
   "outputs": [],
   "source": [
    "import torch\n",
    "a = torch.load(\"/workspace/SMILES_dataset/train/HSQC/10.pt\")"
   ]
  },
  {
   "cell_type": "code",
   "execution_count": 12,
   "metadata": {},
   "outputs": [
    {
     "data": {
      "text/plain": [
       "tensor([[ 1.1858e+02,  6.6889e+00,  5.1766e+03],\n",
       "        [ 1.1525e+02,  6.6885e+00,  3.4739e+03],\n",
       "        [ 1.1416e+02,  6.4485e+00,  5.7442e+03],\n",
       "        [ 1.1269e+02,  7.4327e+00,  5.2823e+03],\n",
       "        [ 5.8650e+01,  3.3635e+00,  5.4089e+03],\n",
       "        [ 5.6020e+01,  2.8700e+00, -3.4106e+03],\n",
       "        [ 5.6020e+01,  2.4000e+00, -4.4193e+03],\n",
       "        [ 4.9340e+01,  3.1400e+00, -4.6795e+03],\n",
       "        [ 4.9340e+01,  2.4500e+00, -5.8852e+03],\n",
       "        [ 3.6460e+01,  3.1278e+00, -5.4089e+03],\n",
       "        [ 3.6460e+01,  2.4146e+00, -8.6082e+03],\n",
       "        [ 2.8980e+01,  3.1750e+00, -6.1454e+03],\n",
       "        [ 2.8980e+01,  2.7850e+00, -7.5481e+03],\n",
       "        [ 1.9100e+01,  1.5700e+00, -1.2291e+04],\n",
       "        [ 1.2000e+01,  9.4000e-01,  1.7656e+04]], dtype=torch.float64)"
      ]
     },
     "execution_count": 12,
     "metadata": {},
     "output_type": "execute_result"
    }
   ],
   "source": [
    "a"
   ]
  },
  {
   "cell_type": "code",
   "execution_count": null,
   "metadata": {},
   "outputs": [],
   "source": []
  }
 ],
 "metadata": {
  "kernelspec": {
   "display_name": "base",
   "language": "python",
   "name": "python3"
  },
  "language_info": {
   "codemirror_mode": {
    "name": "ipython",
    "version": 3
   },
   "file_extension": ".py",
   "mimetype": "text/x-python",
   "name": "python",
   "nbconvert_exporter": "python",
   "pygments_lexer": "ipython3",
   "version": "3.10.13"
  }
 },
 "nbformat": 4,
 "nbformat_minor": 2
}
