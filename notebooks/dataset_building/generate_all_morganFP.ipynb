{
 "cells": [
  {
   "cell_type": "markdown",
   "metadata": {},
   "source": [
    "2024/4/19\n",
    "\n",
    "build r0-r'n' Fingerprint with exact FP and normal FP\n",
    "with n in [1,15]\n",
    "\n",
    "In the end, we will (usually) pick the 6144 positions with the highest entropy   \n"
   ]
  },
  {
   "cell_type": "code",
   "execution_count": null,
   "metadata": {},
   "outputs": [],
   "source": [
    "\n",
    "import pickle\n",
    "from pathlib import Path\n",
    "import time, torch, os\n",
    "from fingerprint_utils import FP_generator\n",
    "batch_size=64\n",
    "import tqdm\n",
    "import numpy as np\n",
    "from matplotlib import pyplot as plt\n",
    "from rdkit.Chem import AllChem\n",
    "from rdkit import Chem\n",
    "\n",
    "import sys, pathlib\n",
    "repo_path = pathlib.Path.cwd().parents[2]\n",
    "repo_path"
   ]
  },
  {
   "cell_type": "code",
   "execution_count": 2,
   "metadata": {},
   "outputs": [],
   "source": [
    "from rdkit import Chem\n",
    "from rdkit.Chem import rdMolDescriptors\n",
    "\n",
    "def generate_FP_with_exact_radius(mol, radius=2, length=6144):\n",
    "\n",
    "    # Dictionary to store information about which substructures contribute to setting which bits\n",
    "    bitInfo = {}\n",
    "    \n",
    "    # Generate the fingerprint with bitInfo to track the substructures contributing to each bit\n",
    "    fp = rdMolDescriptors.GetMorganFingerprintAsBitVect(mol, radius=radius, nBits=length, bitInfo=bitInfo)\n",
    "    \n",
    "    # Create an array of zeros to represent the new fingerprint\n",
    "    new_fp = [0] * length\n",
    "    \n",
    "    # Filter bitInfo to keep only entries where substructures have the exact radius\n",
    "    for bit, atoms in bitInfo.items():\n",
    "        # Check if any substructure at this bit has the exact specified radius\n",
    "        if any(radius_tuple[1] == radius for radius_tuple in atoms):\n",
    "            # Set the corresponding bit in the new fingerprint\n",
    "            new_fp[bit] = 1\n",
    "    \n",
    "    # Return the new filtered fingerprint as a list of bits\n",
    "    return new_fp\n",
    "\n",
    "\n",
    "def generate_normal_FP(mol, radius=2, length=6144):\n",
    "\n",
    "    # Dictionary to store information about which substructures contribute to setting which bits\n",
    "    bitInfo = {}\n",
    "    \n",
    "    # Generate the fingerprint with bitInfo to track the substructures contributing to each bit\n",
    "    fp = rdMolDescriptors.GetMorganFingerprintAsBitVect(mol, radius=radius, nBits=length, bitInfo=bitInfo)\n",
    "    new_fp = [0] * length\n",
    "    for bit, atoms in bitInfo.items():\n",
    "            new_fp[bit] = 1\n",
    "            \n",
    "    return new_fp\n",
    "   \n"
   ]
  },
  {
   "cell_type": "code",
   "execution_count": 3,
   "metadata": {},
   "outputs": [],
   "source": [
    "\n",
    "def generate_FP_on_bits_with_exact_radius(mol, radius=2, length=6144):\n",
    "\n",
    "    # Dictionary to store information about which substructures contribute to setting which bits\n",
    "    bitInfo = {}\n",
    "    on_bits = []\n",
    "    fp = rdMolDescriptors.GetMorganFingerprintAsBitVect(mol, radius=radius, nBits=length, bitInfo=bitInfo)\n",
    "    # Filter bitInfo to keep only entries where substructures have the exact radius\n",
    "    for bit, atoms in bitInfo.items():\n",
    "        # Check if any substructure at this bit has the exact specified radius\n",
    "        if any(radius_tuple[1] == radius for radius_tuple in atoms):\n",
    "            # Set the corresponding bit in the new fingerprint\n",
    "            on_bits.append(bit)\n",
    "    \n",
    "    # Return the new filtered fingerprint as a list of bits\n",
    "    return np.array(on_bits)\n",
    "\n",
    "\n",
    "def generate_normal_FP_on_bits(mol, radius=2, length=6144):\n",
    "\n",
    "    # Dictionary to store information about which substructures contribute to setting which bits\n",
    "    bitInfo = {}\n",
    "    \n",
    "    # Generate the fingerprint with bitInfo to track the substructures contributing to each bit\n",
    "    fp = rdMolDescriptors.GetMorganFingerprintAsBitVect(mol, radius=radius, nBits=length, bitInfo=bitInfo)\n",
    "    on_bits = np.array(fp.GetOnBits())\n",
    "    return on_bits"
   ]
  },
  {
   "cell_type": "code",
   "execution_count": 4,
   "metadata": {},
   "outputs": [],
   "source": [
    "'''This generates exact-r FP and save the count at each position !!!\n",
    "Gonna take you a few minutes \n",
    "'''\n",
    "\n",
    "os.makedirs(Path(f'{repo_path}/notebooks/dataset_building/FP_on_bits_pickles'), exist_ok=True)\n",
    "def generate_FP_indices_of_r0_r15(split, FP_length, generation_method, dataset=\"2d\"):\n",
    "    num_plain_FPs = 16\n",
    "    if generation_method == \"exact\":\n",
    "        generate_FP_on_bis = generate_FP_on_bits_with_exact_radius\n",
    "        save_name = f\"Exact_FP_on_bits_r0_r15_len_{FP_length}_{dataset}_{split}.pkl\"\n",
    "    elif generation_method == \"normal\":\n",
    "        generate_FP_on_bis = generate_normal_FP_on_bits\n",
    "        save_name = f\"Normal_FP_on_bits_r0_r15_len_{FP_length}_{dataset}_{split}.pkl\"\n",
    "    else:\n",
    "        raise ValueError(\"generation_method should be exact or normal\")\n",
    "    if dataset==\"2d\":\n",
    "        path_dir = Path(\"/workspace/SMILES_dataset/\")\n",
    "    elif dataset==\"1d\":\n",
    "        path_dir = Path(\"/workspace/OneD_Only_Dataset/\")\n",
    "    else:\n",
    "        raise ValueError(\"dataset should be 2d or 1d\")    \n",
    "    smile_nmr = pickle.load(open(path_dir / split/ \"SMILES/index.pkl\", \"rb\"))\n",
    "\n",
    "    FP_on_bits = {}\n",
    "    for file_idx, smile_str in tqdm.tqdm(smile_nmr.items()):\n",
    "        mol = Chem.MolFromSmiles(smile_str)\n",
    "        mol_H = Chem.AddHs(mol) # add implicit Hs to the molecule\n",
    "        all_plain_fps = []\n",
    "        for radius in range(num_plain_FPs):\n",
    "            all_plain_fps.append(generate_FP_on_bis(mol_H, radius=radius, length=FP_length) + radius*FP_length)\n",
    "        concated_FP = np.concatenate(all_plain_fps)\n",
    "\n",
    "        FP_on_bits[file_idx] = concated_FP\n",
    "\n",
    "    save_dir = Path(f'{repo_path}/notebooks/dataset_building/FP_on_bits_pickles')\n",
    "    \n",
    "    FP_on_bits_path = save_dir / save_name \n",
    "    with open(FP_on_bits_path, 'wb') as f:\n",
    "        pickle.dump(FP_on_bits, f)\n",
    "        \n",
    "    return FP_on_bits\n",
    "\n",
    "# count = np.zeros(6144*num_plain_FPs)\n",
    "    \n",
    "    \n",
    "    \n",
    "    # count+= concated_FP\n",
    "# np.save(f\"count_exact_r0_to_r{num_plain_FPs-1}_FP.npy\", count)"
   ]
  },
  {
   "cell_type": "code",
   "execution_count": 5,
   "metadata": {},
   "outputs": [
    {
     "name": "stderr",
     "output_type": "stream",
     "text": [
      "  0%|          | 23/13718 [00:00<01:06, 205.62it/s]"
     ]
    },
    {
     "name": "stderr",
     "output_type": "stream",
     "text": [
      " 58%|█████▊    | 7891/13718 [00:55<00:48, 119.85it/s][10:22:10] WARNING: not removing hydrogen atom without neighbors\n",
      " 97%|█████████▋| 13280/13718 [01:31<00:02, 205.29it/s][10:22:47] WARNING: not removing hydrogen atom without neighbors\n",
      "100%|██████████| 13718/13718 [01:33<00:00, 146.67it/s]\n",
      " 31%|███▏      | 4310/13756 [00:28<01:11, 132.78it/s][10:23:18] WARNING: not removing hydrogen atom without neighbors\n",
      " 32%|███▏      | 4400/13756 [00:29<01:01, 151.98it/s][10:23:19] WARNING: not removing hydrogen atom without neighbors\n",
      " 59%|█████▉    | 8132/13756 [00:57<00:57, 98.51it/s] [10:23:47] WARNING: not removing hydrogen atom without neighbors\n",
      "100%|██████████| 13756/13756 [01:33<00:00, 146.86it/s]\n",
      "100%|██████████| 8390/8390 [00:55<00:00, 151.43it/s]\n",
      "100%|██████████| 8337/8337 [00:54<00:00, 151.89it/s]\n",
      " 58%|█████▊    | 7891/13718 [00:40<00:39, 146.86it/s][10:26:56] WARNING: not removing hydrogen atom without neighbors\n",
      " 97%|█████████▋| 13247/13718 [01:07<00:01, 242.28it/s][10:27:23] WARNING: not removing hydrogen atom without neighbors\n",
      "100%|██████████| 13718/13718 [01:09<00:00, 197.84it/s]\n",
      " 31%|███▏      | 4323/13756 [00:20<00:53, 176.62it/s][10:27:46] WARNING: not removing hydrogen atom without neighbors\n",
      " 32%|███▏      | 4400/13756 [00:21<00:45, 204.21it/s][10:27:46] WARNING: not removing hydrogen atom without neighbors\n",
      " 59%|█████▉    | 8129/13756 [00:42<00:46, 121.10it/s][10:28:08] WARNING: not removing hydrogen atom without neighbors\n",
      "100%|██████████| 13756/13756 [01:09<00:00, 197.80it/s]\n",
      "100%|██████████| 8390/8390 [00:40<00:00, 207.26it/s]\n",
      "100%|██████████| 8337/8337 [00:39<00:00, 209.03it/s]\n"
     ]
    },
    {
     "name": "stdout",
     "output_type": "stream",
     "text": [
      "done\n"
     ]
    }
   ],
   "source": [
    "generate_FP_indices_of_r0_r15(\"test\", 6144, \"normal\", dataset=\"2d\")\n",
    "generate_FP_indices_of_r0_r15(\"val\", 6144, \"normal\", dataset=\"2d\")\n",
    "generate_FP_indices_of_r0_r15(\"test\", 6144, \"normal\", dataset=\"1d\")\n",
    "generate_FP_indices_of_r0_r15(\"val\", 6144, \"normal\", dataset=\"1d\")\n",
    "\n",
    "\n",
    "generate_FP_indices_of_r0_r15(\"test\", 1024, \"exact\", dataset=\"2d\")\n",
    "generate_FP_indices_of_r0_r15(\"val\", 1024, \"exact\", dataset=\"2d\")\n",
    "generate_FP_indices_of_r0_r15(\"test\", 1024, \"exact\", dataset=\"1d\")\n",
    "generate_FP_indices_of_r0_r15(\"val\", 1024, \"exact\", dataset=\"1d\")\n",
    "\n",
    "print(\"done\")\n",
    "# DONE"
   ]
  },
  {
   "cell_type": "code",
   "execution_count": 6,
   "metadata": {},
   "outputs": [
    {
     "name": "stderr",
     "output_type": "stream",
     "text": [
      "  0%|          | 20/66951 [00:00<05:35, 199.39it/s]"
     ]
    },
    {
     "name": "stderr",
     "output_type": "stream",
     "text": [
      " 40%|████      | 26945/66951 [03:23<05:06, 130.39it/s][10:33:20] WARNING: not removing hydrogen atom without neighbors\n",
      "100%|██████████| 66951/66951 [07:48<00:00, 142.93it/s]\n",
      "  1%|▏         | 1476/109793 [00:10<14:27, 124.86it/s][10:37:57] WARNING: not removing hydrogen atom without neighbors\n",
      "  9%|▉         | 10060/109793 [01:11<08:55, 186.29it/s][10:38:58] WARNING: not removing hydrogen atom without neighbors\n",
      "[10:38:58] WARNING: not removing hydrogen atom without neighbors\n",
      " 33%|███▎      | 36012/109793 [04:16<14:30, 84.72it/s] [10:42:03] WARNING: not removing hydrogen atom without neighbors\n",
      "[10:42:03] WARNING: not removing hydrogen atom without neighbors\n",
      " 58%|█████▊    | 64194/109793 [07:53<06:54, 109.92it/s][10:45:40] WARNING: not removing hydrogen atom without neighbors\n",
      "[10:45:40] WARNING: not removing hydrogen atom without neighbors\n",
      " 63%|██████▎   | 69696/109793 [08:48<04:06, 162.63it/s][10:46:35] WARNING: not removing hydrogen atom without neighbors\n",
      " 72%|███████▏  | 78563/109793 [09:48<09:24, 55.35it/s] [10:47:35] WARNING: not removing hydrogen atom without neighbors\n",
      " 90%|█████████ | 98875/109793 [11:59<00:59, 184.12it/s][10:49:46] WARNING: not removing hydrogen atom without neighbors\n",
      "100%|██████████| 109793/109793 [13:00<00:00, 140.68it/s]\n"
     ]
    }
   ],
   "source": [
    "FP_on_bits_6144_1d_train_normal = generate_FP_indices_of_r0_r15(\"train\", 6144, \"normal\", dataset=\"1d\")\n",
    "FP_on_bits_6144_2d_train_normal = generate_FP_indices_of_r0_r15(\"train\", 6144, \"normal\", dataset=\"2d\")\n",
    "# DONE \n",
    "\n",
    "\n",
    "\n"
   ]
  },
  {
   "cell_type": "code",
   "execution_count": 7,
   "metadata": {},
   "outputs": [],
   "source": [
    "# Done\n",
    "# FP_on_bits_1024_2d_train_exact = generate_FP_indices_of_r0_r15(\"train\", 1024, \"exact\", dataset=\"2d\")\n",
    "# FP_on_bits_1024_1d_train_exact = generate_FP_indices_of_r0_r15(\"train\", 1024, \"exact\", dataset=\"1d\")"
   ]
  }
 ],
 "metadata": {
  "kernelspec": {
   "display_name": "base",
   "language": "python",
   "name": "python3"
  },
  "language_info": {
   "codemirror_mode": {
    "name": "ipython",
    "version": 3
   },
   "file_extension": ".py",
   "mimetype": "text/x-python",
   "name": "python",
   "nbconvert_exporter": "python",
   "pygments_lexer": "ipython3",
   "version": "3.10.12"
  }
 },
 "nbformat": 4,
 "nbformat_minor": 2
}
