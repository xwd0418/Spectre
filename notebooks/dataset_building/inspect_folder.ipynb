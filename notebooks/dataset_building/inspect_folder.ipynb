{
 "cells": [
  {
   "cell_type": "code",
   "execution_count": 32,
   "metadata": {},
   "outputs": [],
   "source": [
    "import os, glob, torch, numpy as np\n",
    "from functools import reduce"
   ]
  },
  {
   "cell_type": "code",
   "execution_count": 40,
   "metadata": {},
   "outputs": [
    {
     "name": "stdout",
     "output_type": "stream",
     "text": [
      "Inspecting: ../../tempdata/new_split\n",
      " new_split (3)\n",
      "--|-- train (3)\n",
      "--|--|-- HSQC_2ch (9794)\n",
      "--|--|--|-- mol_217.npy (t=ndarray) (128, 128, 2)\n",
      "--|--|--|-- mol_2935.npy (t=ndarray) (128, 128, 2)\n",
      "--|--|-- mass_spec_scaled (9794)\n",
      "--|--|--|-- mol_217.npy (t=ndarray) (150, 2)\n",
      "--|--|--|-- mol_2935.npy (t=ndarray) (12, 2)\n",
      "--|--|-- fingerprint (9794)\n",
      "--|--|--|-- mol_217.npy (t=ndarray) (6144,)\n",
      "--|--|--|-- mol_2935.npy (t=ndarray) (6144,)\n",
      "--|-- val (3)\n",
      "--|--|-- HSQC_2ch (1224)\n",
      "--|--|--|-- mol_9353.npy (t=ndarray) (128, 128, 2)\n",
      "--|--|--|-- mol_4244.npy (t=ndarray) (128, 128, 2)\n",
      "--|--|-- mass_spec_scaled (1224)\n",
      "--|--|--|-- mol_9353.npy (t=ndarray) (24, 2)\n",
      "--|--|--|-- mol_4244.npy (t=ndarray) (8, 2)\n",
      "--|--|-- fingerprint (1224)\n",
      "--|--|--|-- mol_9353.npy (t=ndarray) (6144,)\n",
      "--|--|--|-- mol_4244.npy (t=ndarray) (6144,)\n",
      "--|-- test (3)\n",
      "--|--|-- HSQC_2ch (1224)\n",
      "--|--|--|-- mol_8809.npy (t=ndarray) (128, 128, 2)\n",
      "--|--|--|-- mol_7350.npy (t=ndarray) (128, 128, 2)\n",
      "--|--|-- mass_spec_scaled (1224)\n",
      "--|--|--|-- mol_8809.npy (t=ndarray) (61, 2)\n",
      "--|--|--|-- mol_7350.npy (t=ndarray) (14, 2)\n",
      "--|--|-- fingerprint (1224)\n",
      "--|--|--|-- mol_8809.npy (t=ndarray) (6144,)\n",
      "--|--|--|-- mol_7350.npy (t=ndarray) (6144,)\n"
     ]
    },
    {
     "data": {
      "text/plain": [
       "False"
      ]
     },
     "execution_count": 40,
     "metadata": {},
     "output_type": "execute_result"
    }
   ],
   "source": [
    "def prefix(depth):\n",
    "    return \" \" if depth == 0 else reduce(lambda acc, item: acc + \"|--\", range(depth), \"--\") + \" \"\n",
    "\n",
    "def dfs(path, depth=0):\n",
    "    if os.path.isdir(path):\n",
    "        f = os.listdir(path)\n",
    "        print(prefix(depth) + os.path.basename(path) + f\" ({len(f)})\")\n",
    "        ct_fi = 0\n",
    "        for v in f:\n",
    "            if dfs(os.path.join(path, v), depth + 1):\n",
    "                ct_fi += 1\n",
    "            if ct_fi == 2:\n",
    "                break\n",
    "        return False\n",
    "    else:\n",
    "        obj = None\n",
    "        size = None\n",
    "        if path.endswith(\"npy\"):\n",
    "            obj = np.load(path)\n",
    "            size = obj.shape\n",
    "        elif path.endswith(\"pt\"):\n",
    "            obj = torch.load(path)\n",
    "            size = obj.size()\n",
    "        print(prefix(depth) + os.path.basename(path) +  f\" (t={type(obj).__name__})\" + (\"\" if size is None else f\" {size}\"))\n",
    "        return True\n",
    "\n",
    "path = \"../../tempdata/new_split\"\n",
    "print(f\"Inspecting: {path}\")\n",
    "dfs(path)"
   ]
  },
  {
   "cell_type": "code",
   "execution_count": null,
   "metadata": {},
   "outputs": [],
   "source": []
  }
 ],
 "metadata": {
  "kernelspec": {
   "display_name": "Python 3.8.12 ('base')",
   "language": "python",
   "name": "python3"
  },
  "language_info": {
   "codemirror_mode": {
    "name": "ipython",
    "version": 3
   },
   "file_extension": ".py",
   "mimetype": "text/x-python",
   "name": "python",
   "nbconvert_exporter": "python",
   "pygments_lexer": "ipython3",
   "version": "3.8.12"
  },
  "orig_nbformat": 4,
  "vscode": {
   "interpreter": {
    "hash": "d4d1e4263499bec80672ea0156c357c1ee493ec2b1c70f0acce89fc37c4a6abe"
   }
  }
 },
 "nbformat": 4,
 "nbformat_minor": 2
}
