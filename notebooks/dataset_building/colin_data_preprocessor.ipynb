{
 "cells": [
  {
   "cell_type": "code",
   "execution_count": null,
   "metadata": {},
   "outputs": [],
   "source": [
    "# This file takes in colin's data.zip from 05/03 and adds hyunwoo's fingerprint."
   ]
  },
  {
   "cell_type": "code",
   "execution_count": 11,
   "metadata": {},
   "outputs": [],
   "source": [
    "import glob, numpy as np, os, shutil, pickle, rdkit, sys, tqdm, fingerprint_utils, torch\n",
    "\n",
    "assert(os.path.exists(\"../../tempdata/data\"))"
   ]
  },
  {
   "cell_type": "code",
   "execution_count": 14,
   "metadata": {},
   "outputs": [
    {
     "name": "stdout",
     "output_type": "stream",
     "text": [
      "asdf <class 'str'>\n"
     ]
    }
   ],
   "source": [
    "torch.save(\"asdf\", f\"ex.pt\")\n",
    "v = torch.load(\"ex.pt\")\n",
    "print(v, type(v))"
   ]
  },
  {
   "cell_type": "code",
   "execution_count": 19,
   "metadata": {},
   "outputs": [],
   "source": [
    "def shatter(shatter_dir, obj, id, keys):\n",
    "    '''\n",
    "        Saves an object as individual files\n",
    "    '''\n",
    "    for key in keys:\n",
    "        elem = obj[key]\n",
    "        if type(elem) == np.ndarray:\n",
    "            torch.save(torch.tensor(elem, dtype=torch.float), f\"{shatter_dir}/{key}/{id}.pt\")\n",
    "        elif type(elem) == str:\n",
    "            torch.save(elem, f\"{shatter_dir}/{key}/{id}.pt\")\n"
   ]
  },
  {
   "cell_type": "code",
   "execution_count": 22,
   "metadata": {},
   "outputs": [
    {
     "name": "stdout",
     "output_type": "stream",
     "text": [
      "../../tempdata/data/hsqc_ms_pairs/train.pkl hsqc_ms_pairs\n"
     ]
    },
    {
     "name": "stderr",
     "output_type": "stream",
     "text": [
      "[07:53:57] WARNING: not removing hydrogen atom without neighbors\n"
     ]
    },
    {
     "name": "stdout",
     "output_type": "stream",
     "text": [
      "../../tempdata/data/hsqc_ms_pairs/val.pkl hsqc_ms_pairs\n",
      "../../tempdata/data/hsqc_ms_pairs/test.pkl hsqc_ms_pairs\n",
      "../../tempdata/data/hsqc_pretrain/train.pkl hsqc_pretrain\n"
     ]
    },
    {
     "ename": "KeyError",
     "evalue": "'MS'",
     "output_type": "error",
     "traceback": [
      "\u001b[0;31m---------------------------------------------------------------------------\u001b[0m",
      "\u001b[0;31mKeyError\u001b[0m                                  Traceback (most recent call last)",
      "\u001b[0;32m/tmp/ipykernel_11049/2025463533.py\u001b[0m in \u001b[0;36m<module>\u001b[0;34m\u001b[0m\n\u001b[1;32m     15\u001b[0m         \u001b[0mv\u001b[0m \u001b[0;34m=\u001b[0m \u001b[0mobj\u001b[0m\u001b[0;34m[\u001b[0m\u001b[0mk\u001b[0m\u001b[0;34m]\u001b[0m\u001b[0;34m\u001b[0m\u001b[0;34m\u001b[0m\u001b[0m\n\u001b[1;32m     16\u001b[0m         \u001b[0mv\u001b[0m\u001b[0;34m[\u001b[0m\u001b[0;34m\"HYUN_FP\"\u001b[0m\u001b[0;34m]\u001b[0m \u001b[0;34m=\u001b[0m \u001b[0mfingerprint_utils\u001b[0m\u001b[0;34m.\u001b[0m\u001b[0mFP_generator\u001b[0m\u001b[0;34m(\u001b[0m\u001b[0mv\u001b[0m\u001b[0;34m[\u001b[0m\u001b[0;34m\"SMILES\"\u001b[0m\u001b[0;34m]\u001b[0m\u001b[0;34m,\u001b[0m \u001b[0;36m2\u001b[0m\u001b[0;34m)\u001b[0m\u001b[0;34m\u001b[0m\u001b[0;34m\u001b[0m\u001b[0m\n\u001b[0;32m---> 17\u001b[0;31m         \u001b[0mshatter\u001b[0m\u001b[0;34m(\u001b[0m\u001b[0;34mf\"{out_dir}/{subdivision}\"\u001b[0m\u001b[0;34m,\u001b[0m \u001b[0mv\u001b[0m\u001b[0;34m,\u001b[0m \u001b[0mk\u001b[0m\u001b[0;34m,\u001b[0m \u001b[0msave_attrs\u001b[0m\u001b[0;34m)\u001b[0m\u001b[0;34m\u001b[0m\u001b[0;34m\u001b[0m\u001b[0m\n\u001b[0m\u001b[1;32m     18\u001b[0m         \u001b[0;32mdel\u001b[0m \u001b[0mobj\u001b[0m\u001b[0;34m[\u001b[0m\u001b[0mk\u001b[0m\u001b[0;34m]\u001b[0m\u001b[0;34m\u001b[0m\u001b[0;34m\u001b[0m\u001b[0m\n\u001b[1;32m     19\u001b[0m \u001b[0;34m\u001b[0m\u001b[0m\n",
      "\u001b[0;32m/tmp/ipykernel_11049/2111085785.py\u001b[0m in \u001b[0;36mshatter\u001b[0;34m(shatter_dir, obj, id, keys)\u001b[0m\n\u001b[1;32m      4\u001b[0m     '''\n\u001b[1;32m      5\u001b[0m     \u001b[0;32mfor\u001b[0m \u001b[0mkey\u001b[0m \u001b[0;32min\u001b[0m \u001b[0mkeys\u001b[0m\u001b[0;34m:\u001b[0m\u001b[0;34m\u001b[0m\u001b[0;34m\u001b[0m\u001b[0m\n\u001b[0;32m----> 6\u001b[0;31m         \u001b[0melem\u001b[0m \u001b[0;34m=\u001b[0m \u001b[0mobj\u001b[0m\u001b[0;34m[\u001b[0m\u001b[0mkey\u001b[0m\u001b[0;34m]\u001b[0m\u001b[0;34m\u001b[0m\u001b[0;34m\u001b[0m\u001b[0m\n\u001b[0m\u001b[1;32m      7\u001b[0m         \u001b[0;32mif\u001b[0m \u001b[0mtype\u001b[0m\u001b[0;34m(\u001b[0m\u001b[0melem\u001b[0m\u001b[0;34m)\u001b[0m \u001b[0;34m==\u001b[0m \u001b[0mnp\u001b[0m\u001b[0;34m.\u001b[0m\u001b[0mndarray\u001b[0m\u001b[0;34m:\u001b[0m\u001b[0;34m\u001b[0m\u001b[0;34m\u001b[0m\u001b[0m\n\u001b[1;32m      8\u001b[0m             \u001b[0mtorch\u001b[0m\u001b[0;34m.\u001b[0m\u001b[0msave\u001b[0m\u001b[0;34m(\u001b[0m\u001b[0mtorch\u001b[0m\u001b[0;34m.\u001b[0m\u001b[0mtensor\u001b[0m\u001b[0;34m(\u001b[0m\u001b[0melem\u001b[0m\u001b[0;34m,\u001b[0m \u001b[0mdtype\u001b[0m\u001b[0;34m=\u001b[0m\u001b[0mtorch\u001b[0m\u001b[0;34m.\u001b[0m\u001b[0mfloat\u001b[0m\u001b[0;34m)\u001b[0m\u001b[0;34m,\u001b[0m \u001b[0;34mf\"{shatter_dir}/{key}/{id}.pt\"\u001b[0m\u001b[0;34m)\u001b[0m\u001b[0;34m\u001b[0m\u001b[0;34m\u001b[0m\u001b[0m\n",
      "\u001b[0;31mKeyError\u001b[0m: 'MS'"
     ]
    }
   ],
   "source": [
    "files = glob.glob(\"../../tempdata/data/*/*.pkl\")\n",
    "out_dir = \"../../tempdata/hyun_fp_data\"\n",
    "os.makedirs(out_dir, exist_ok=True)\n",
    "save_attrs = {\n",
    "    \"hsqc_ms_pairs\": [\"SMILES\", \"FP\", \"HYUN_FP\", \"HSQC\", \"MS\"],\n",
    "    \"hsqc_pretrain\": [\"SMILES\", \"FP\", \"HYUN_FP\", \"HSQC\"],\n",
    "    \"ms_pretrain\": [\"SMILES\", \"FP\", \"HYUN_FP\", \"MS\"]\n",
    "}\n",
    "for file_path in files:\n",
    "    subdivision = file_path.split(\"/\")[-2]\n",
    "    for my_attr in save_attrs[subdivision]:\n",
    "        os.makedirs(f\"{out_dir}/{subdivision}/{my_attr}\", exist_ok=True)\n",
    "\n",
    "    print(file_path, subdivision)\n",
    "    with open(file_path, \"rb\") as f:\n",
    "        obj = pickle.load(f)\n",
    "    keys = set(obj.keys())\n",
    "    for k in keys:\n",
    "        v = obj[k]\n",
    "        v[\"HYUN_FP\"] = fingerprint_utils.FP_generator(v[\"SMILES\"], 2)\n",
    "        shatter(f\"{out_dir}/{subdivision}\", v, k, save_attrs[subdivision])\n",
    "        del obj[k]\n",
    "\n"
   ]
  },
  {
   "cell_type": "code",
   "execution_count": null,
   "metadata": {},
   "outputs": [],
   "source": []
  }
 ],
 "metadata": {
  "kernelspec": {
   "display_name": "Python 3.8.12 ('base')",
   "language": "python",
   "name": "python3"
  },
  "language_info": {
   "codemirror_mode": {
    "name": "ipython",
    "version": 3
   },
   "file_extension": ".py",
   "mimetype": "text/x-python",
   "name": "python",
   "nbconvert_exporter": "python",
   "pygments_lexer": "ipython3",
   "version": "3.8.12"
  },
  "orig_nbformat": 4,
  "vscode": {
   "interpreter": {
    "hash": "d4d1e4263499bec80672ea0156c357c1ee493ec2b1c70f0acce89fc37c4a6abe"
   }
  }
 },
 "nbformat": 4,
 "nbformat_minor": 2
}
