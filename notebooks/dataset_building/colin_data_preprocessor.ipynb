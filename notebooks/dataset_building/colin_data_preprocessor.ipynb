{
 "cells": [
  {
   "cell_type": "code",
   "execution_count": 3,
   "metadata": {},
   "outputs": [],
   "source": [
    "# This file takes in colin's data.zip from 05/03 and adds hyunwoo's fingerprint."
   ]
  },
  {
   "cell_type": "code",
   "execution_count": 4,
   "metadata": {},
   "outputs": [],
   "source": [
    "import glob, numpy as np, os, shutil, pickle, rdkit, sys, tqdm, fingerprint_utils, torch\n",
    "\n",
    "assert(os.path.exists(\"../../tempdata/data\"))"
   ]
  },
  {
   "cell_type": "code",
   "execution_count": 5,
   "metadata": {},
   "outputs": [],
   "source": [
    "def shatter(shatter_dir, obj, id, keys):\n",
    "    '''\n",
    "        Saves an object as individual files\n",
    "    '''\n",
    "    for key in keys:\n",
    "        elem = obj[key]\n",
    "        if type(elem) == np.ndarray:\n",
    "            torch.save(torch.tensor(elem, dtype=torch.float), f\"{shatter_dir}/{key}/{id}.pt\")\n",
    "        elif type(elem) == str:\n",
    "            torch.save(elem, f\"{shatter_dir}/{key}/{id}.pt\")\n"
   ]
  },
  {
   "cell_type": "code",
   "execution_count": 6,
   "metadata": {},
   "outputs": [
    {
     "name": "stdout",
     "output_type": "stream",
     "text": [
      "../../tempdata/data/hsqc_ms_pairs/train.pkl hsqc_ms_pairs train\n"
     ]
    },
    {
     "name": "stderr",
     "output_type": "stream",
     "text": [
      "[06:02:49] WARNING: not removing hydrogen atom without neighbors\n"
     ]
    },
    {
     "name": "stdout",
     "output_type": "stream",
     "text": [
      "../../tempdata/data/hsqc_ms_pairs/val.pkl hsqc_ms_pairs val\n",
      "../../tempdata/data/hsqc_ms_pairs/test.pkl hsqc_ms_pairs test\n",
      "../../tempdata/data/hsqc_pretrain/train.pkl hsqc_pretrain train\n"
     ]
    },
    {
     "name": "stderr",
     "output_type": "stream",
     "text": [
      "[06:03:34] WARNING: not removing hydrogen atom without neighbors\n",
      "[06:03:37] WARNING: not removing hydrogen atom without neighbors\n",
      "[06:03:39] WARNING: not removing hydrogen atom without neighbors\n",
      "[06:03:50] WARNING: not removing hydrogen atom without neighbors\n",
      "[06:03:57] WARNING: not removing hydrogen atom without neighbors\n",
      "[06:04:34] WARNING: not removing hydrogen atom without neighbors\n",
      "[06:04:57] WARNING: not removing hydrogen atom without neighbors\n",
      "[06:05:44] WARNING: not removing hydrogen atom without neighbors\n",
      "[06:06:08] WARNING: not removing hydrogen atom without neighbors\n",
      "[06:06:51] WARNING: not removing hydrogen atom without neighbors\n"
     ]
    },
    {
     "name": "stdout",
     "output_type": "stream",
     "text": [
      "../../tempdata/data/hsqc_pretrain/val.pkl hsqc_pretrain val\n"
     ]
    },
    {
     "name": "stderr",
     "output_type": "stream",
     "text": [
      "[06:07:38] WARNING: not removing hydrogen atom without neighbors\n",
      "[06:07:46] WARNING: not removing hydrogen atom without neighbors\n"
     ]
    },
    {
     "name": "stdout",
     "output_type": "stream",
     "text": [
      "../../tempdata/data/hsqc_pretrain/test.pkl hsqc_pretrain test\n"
     ]
    },
    {
     "name": "stderr",
     "output_type": "stream",
     "text": [
      "[06:08:06] WARNING: not removing hydrogen atom without neighbors\n",
      "[06:08:07] WARNING: not removing hydrogen atom without neighbors\n"
     ]
    },
    {
     "name": "stdout",
     "output_type": "stream",
     "text": [
      "../../tempdata/data/ms_pretrain/train.pkl ms_pretrain train\n",
      "../../tempdata/data/ms_pretrain/val.pkl ms_pretrain val\n",
      "../../tempdata/data/ms_pretrain/test.pkl ms_pretrain test\n"
     ]
    }
   ],
   "source": [
    "files = glob.glob(\"../../tempdata/data/*/*.pkl\")\n",
    "out_dir = \"../../tempdata/hyun_fp_data\"\n",
    "os.makedirs(out_dir, exist_ok=True)\n",
    "save_attrs = {\n",
    "    \"hsqc_ms_pairs\": [\"SMILES\", \"FP\", \"HYUN_FP\", \"HSQC\", \"MS\"],\n",
    "    \"hsqc_pretrain\": [\"SMILES\", \"FP\", \"HYUN_FP\", \"HSQC\"],\n",
    "    \"ms_pretrain\": [\"SMILES\", \"FP\", \"HYUN_FP\", \"MS\"]\n",
    "}\n",
    "for file_path in files:\n",
    "    subdivision = file_path.split(\"/\")[-2]\n",
    "    split = file_path.split(\"/\")[-1]\n",
    "    split = split[:split.index(\".\")]\n",
    "\n",
    "    for my_attr in save_attrs[subdivision]:\n",
    "        os.makedirs(f\"{out_dir}/{subdivision}/{split}/{my_attr}\", exist_ok=True)\n",
    "\n",
    "    print(file_path, subdivision, split)\n",
    "    with open(file_path, \"rb\") as f:\n",
    "        obj = pickle.load(f)\n",
    "\n",
    "    keys = set(obj.keys())\n",
    "    for k in keys:\n",
    "        v = obj[k]\n",
    "        v[\"HYUN_FP\"] = fingerprint_utils.FP_generator(v[\"SMILES\"], 2)\n",
    "        shatter(f\"{out_dir}/{subdivision}/{split}\", v, k, save_attrs[subdivision])\n",
    "        del obj[k]\n",
    "\n"
   ]
  },
  {
   "cell_type": "code",
   "execution_count": 7,
   "metadata": {},
   "outputs": [
    {
     "name": "stdout",
     "output_type": "stream",
     "text": [
      "hsqc_ms_pairs/train/9794\n",
      "hsqc_ms_pairs/val/1224\n",
      "hsqc_ms_pairs/test/1224\n",
      "hsqc_pretrain/train/100021\n",
      "hsqc_pretrain/val/12502\n",
      "hsqc_pretrain/test/12502\n",
      "ms_pretrain/train/36558\n",
      "ms_pretrain/val/4569\n",
      "ms_pretrain/test/4569\n"
     ]
    }
   ],
   "source": [
    "for f in os.listdir(out_dir):\n",
    "    for g in os.listdir(os.path.join(out_dir, f)):\n",
    "        print(f\"{f}/{g}/{len(os.listdir(os.path.join(out_dir, f, g, 'FP')))}\")"
   ]
  }
 ],
 "metadata": {
  "kernelspec": {
   "display_name": "Python 3.8.12 ('base')",
   "language": "python",
   "name": "python3"
  },
  "language_info": {
   "codemirror_mode": {
    "name": "ipython",
    "version": 3
   },
   "file_extension": ".py",
   "mimetype": "text/x-python",
   "name": "python",
   "nbconvert_exporter": "python",
   "pygments_lexer": "ipython3",
   "version": "3.8.12"
  },
  "orig_nbformat": 4,
  "vscode": {
   "interpreter": {
    "hash": "d4d1e4263499bec80672ea0156c357c1ee493ec2b1c70f0acce89fc37c4a6abe"
   }
  }
 },
 "nbformat": 4,
 "nbformat_minor": 2
}
