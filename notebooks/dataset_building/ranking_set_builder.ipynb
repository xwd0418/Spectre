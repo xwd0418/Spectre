{
 "cells": [
  {
   "cell_type": "code",
   "execution_count": 1,
   "metadata": {},
   "outputs": [],
   "source": [
    "# The purpose of this file is to take colin's data and build a ranking set. 07/05/22\n",
    "import numpy as np, pickle, os, torch, tqdm, glob\n",
    "from collections import defaultdict\n",
    "import fingerprint_utils"
   ]
  },
  {
   "cell_type": "code",
   "execution_count": 2,
   "metadata": {},
   "outputs": [],
   "source": [
    "def fp_to_nonzero(fp):\n",
    "    return np.nonzero(fp)[0]\n",
    "def nonzero_to_fp(nonzero):\n",
    "    new_fp = np.zeros(6144, dtype=np.byte)\n",
    "    new_fp[np.array(nonzero)] = 1\n",
    "    return new_fp"
   ]
  },
  {
   "cell_type": "code",
   "execution_count": 3,
   "metadata": {},
   "outputs": [
    {
     "name": "stdout",
     "output_type": "stream",
     "text": [
      "Key: train\n"
     ]
    },
    {
     "name": "stderr",
     "output_type": "stream",
     "text": [
      "[04:35:24] WARNING: not removing hydrogen atom without neighbors\n"
     ]
    },
    {
     "name": "stdout",
     "output_type": "stream",
     "text": [
      "Original size: 9794\n"
     ]
    },
    {
     "name": "stderr",
     "output_type": "stream",
     "text": [
      "6323it [00:01, 3444.41it/s][04:35:30] WARNING: not removing hydrogen atom without neighbors\n",
      "9794it [00:02, 3473.19it/s]\n"
     ]
    },
    {
     "name": "stdout",
     "output_type": "stream",
     "text": [
      "Size after converting to set: 8704\n",
      "Key: val\n",
      "Original size: 1224\n"
     ]
    },
    {
     "name": "stderr",
     "output_type": "stream",
     "text": [
      "1224it [00:00, 3475.48it/s]\n"
     ]
    },
    {
     "name": "stdout",
     "output_type": "stream",
     "text": [
      "Size after converting to set: 1203\n",
      "Key: test\n",
      "Original size: 1224\n"
     ]
    },
    {
     "name": "stderr",
     "output_type": "stream",
     "text": [
      "1224it [00:00, 3696.08it/s]"
     ]
    },
    {
     "name": "stdout",
     "output_type": "stream",
     "text": [
      "Size after converting to set: 1205\n"
     ]
    },
    {
     "name": "stderr",
     "output_type": "stream",
     "text": [
      "\n"
     ]
    }
   ],
   "source": [
    "# using colin's pickle files\n",
    "pairs_path = \"../../tempdata/data/hsqc_ms_pairs\"\n",
    "sets = {}\n",
    "for f in os.listdir(pairs_path):\n",
    "    key = f[:f.index(\".\")] # test, train, or val\n",
    "    print(f\"Key: {key}\")\n",
    "    with open(os.path.join(pairs_path, f), \"rb\") as f:\n",
    "        val = pickle.load(f)\n",
    "    # fps = [tuple(v[\"FP\"]) for v in val.values()] # for colin fingerprint\n",
    "    smiles, nonzero_fp = zip(*[(v[\"SMILES\"], tuple(fp_to_nonzero(fingerprint_utils.FP_generator(v[\"SMILES\"], 2)))) for v in val.values()]) # for hyunwoo fp\n",
    "    print(f\"Original size: {len(nonzero_fp)}\")\n",
    "    fp_to_smiles = defaultdict(set)\n",
    "    for my_sm, my_fp in tqdm.tqdm(zip(smiles, nonzero_fp)):\n",
    "        my_sm = fingerprint_utils.canonical(my_sm)\n",
    "        fp_to_smiles[my_fp].add(my_sm)\n",
    "    print(f\"Size after converting to set: {len(fp_to_smiles.keys())}\")\n",
    "    sets[key] = fp_to_smiles"
   ]
  },
  {
   "cell_type": "code",
   "execution_count": 4,
   "metadata": {},
   "outputs": [
    {
     "name": "stdout",
     "output_type": "stream",
     "text": [
      "Number of unique fp's in ranking library: 10663,     compared to if you added uniques(tr) + uniques(va) + uniques(test): 11112\n"
     ]
    }
   ],
   "source": [
    "super_set = set(sets[\"train\"].keys()).union(set(sets[\"val\"].keys())).union(set(sets[\"test\"].keys()))\n",
    "print(f\"Number of unique fp's in ranking library: {len(super_set)}, \\\n",
    "    compared to if you added uniques(tr) + uniques(va) + uniques(test): {sum(len(v) for v in sets.values())}\")\n"
   ]
  },
  {
   "cell_type": "code",
   "execution_count": 5,
   "metadata": {},
   "outputs": [
    {
     "name": "stdout",
     "output_type": "stream",
     "text": [
      "Num keys: 10663\n",
      "Max number of collisions: 14\n"
     ]
    }
   ],
   "source": [
    "identity_map = defaultdict(set)\n",
    "for fp_to_smiles in sets.values():\n",
    "    for fp, smiles in fp_to_smiles.items():\n",
    "        identity_map[fp] = identity_map[fp].union(smiles)\n",
    "print(f\"Num keys: {len(identity_map.keys())}\")\n",
    "print(f\"Max number of collisions: {max([len(v) for k,v in identity_map.items()])}\")"
   ]
  },
  {
   "cell_type": "code",
   "execution_count": 6,
   "metadata": {},
   "outputs": [],
   "source": [
    "out_dir = \"../../tempdata/hyun_pair_ranking_set_07_22\"\n",
    "os.makedirs(out_dir, exist_ok=True)"
   ]
  },
  {
   "cell_type": "code",
   "execution_count": 7,
   "metadata": {},
   "outputs": [
    {
     "name": "stdout",
     "output_type": "stream",
     "text": [
      "torch.Size([1205, 6144])\n",
      "torch.Size([10663, 6144])\n"
     ]
    }
   ],
   "source": [
    "just_test = torch.stack([torch.tensor(nonzero_to_fp(v)) for v in sets[\"test\"]])\n",
    "just_val = torch.stack([torch.tensor(nonzero_to_fp(v)) for v in sets[\"val\"]])\n",
    "all = torch.stack([torch.tensor(nonzero_to_fp(v)) for v in super_set])\n",
    "print(just_test.size())\n",
    "print(all.size())"
   ]
  },
  {
   "cell_type": "code",
   "execution_count": null,
   "metadata": {},
   "outputs": [],
   "source": [
    "torch.save(just_test, os.path.join(out_dir, \"test_pair.pt\"))\n",
    "torch.save(just_val, os.path.join(out_dir, \"val_pair.pt\"))\n",
    "torch.save(all, os.path.join(out_dir, \"all_pair.pt\"))"
   ]
  },
  {
   "cell_type": "code",
   "execution_count": 11,
   "metadata": {},
   "outputs": [],
   "source": [
    "with open(os.path.join(out_dir, \"fp_lookup.pkl\"), \"wb\") as f:\n",
    "    pickle.dump(dict(identity_map), f)"
   ]
  }
 ],
 "metadata": {
  "kernelspec": {
   "display_name": "Python 3.8.12 ('base')",
   "language": "python",
   "name": "python3"
  },
  "language_info": {
   "codemirror_mode": {
    "name": "ipython",
    "version": 3
   },
   "file_extension": ".py",
   "mimetype": "text/x-python",
   "name": "python",
   "nbconvert_exporter": "python",
   "pygments_lexer": "ipython3",
   "version": "3.8.12"
  },
  "orig_nbformat": 4,
  "vscode": {
   "interpreter": {
    "hash": "d4d1e4263499bec80672ea0156c357c1ee493ec2b1c70f0acce89fc37c4a6abe"
   }
  }
 },
 "nbformat": 4,
 "nbformat_minor": 2
}
