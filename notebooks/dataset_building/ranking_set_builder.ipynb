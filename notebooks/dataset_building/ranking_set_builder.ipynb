{
 "cells": [
  {
   "cell_type": "code",
   "execution_count": 1,
   "metadata": {},
   "outputs": [],
   "source": [
    "# The purpose of this file is to take colin's data and build a ranking set. 07/05/22"
   ]
  },
  {
   "cell_type": "code",
   "execution_count": 13,
   "metadata": {},
   "outputs": [
    {
     "name": "stdout",
     "output_type": "stream",
     "text": [
      "Key: train\n",
      "Original size: 9794\n",
      "Size after converting to set: 8775\n",
      "Key: val\n",
      "Original size: 1224\n",
      "Size after converting to set: 1204\n",
      "Key: test\n",
      "Original size: 1224\n",
      "Size after converting to set: 1208\n"
     ]
    }
   ],
   "source": [
    "import numpy as np, pickle, os\n",
    "\n",
    "pairs_path = \"../../tempdata/data/hsqc_ms_pairs\"\n",
    "sets = {}\n",
    "for f in os.listdir(pairs_path):\n",
    "    key = f[:f.index(\".\")] # test, train, or val\n",
    "    print(f\"Key: {key}\")\n",
    "    with open(os.path.join(pairs_path, f), \"rb\") as f:\n",
    "        val = pickle.load(f)\n",
    "    fps = [tuple(v[\"FP\"]) for v in val.values()]\n",
    "    print(f\"Original size: {len(fps)}\")\n",
    "    fps_set = set(fps)\n",
    "    print(f\"Size after converting to set: {len(fps_set)}\")\n",
    "    sets[key] = fps_set"
   ]
  },
  {
   "cell_type": "code",
   "execution_count": 14,
   "metadata": {},
   "outputs": [
    {
     "name": "stdout",
     "output_type": "stream",
     "text": [
      "Number of unique fp's in ranking library: 10759,     compared to if you added uniques(tr) + uniques(va) + uniques(test): 11187\n"
     ]
    }
   ],
   "source": [
    "super_set = sets[\"train\"].union(sets[\"val\"]).union(sets[\"test\"])\n",
    "print(f\"Number of unique fp's in ranking library: {len(super_set)}, \\\n",
    "    compared to if you added uniques(tr) + uniques(va) + uniques(test): {sum(len(v) for v in sets.values())}\")\n",
    "just_test = np.stack([np.array(v) for v in sets[\"test\"]])\n",
    "all = np.stack([np.array(v) for v in super_set])"
   ]
  },
  {
   "cell_type": "code",
   "execution_count": null,
   "metadata": {},
   "outputs": [],
   "source": [
    "out_dir = \"../../tempdata/pair_ranking_set_07_22\"\n",
    "os.makedirs(out_dir, exist_ok=True)\n",
    "\n",
    "with open(os.path.join(out_dir, \"test_pair.pkl\"), \"wb\") as f:\n",
    "    pickle.dump(just_test, f)\n",
    "\n",
    "with open(os.path.join(out_dir, \"all_pair.pkl\"), \"wb\") as f:\n",
    "    pickle.dump(all, f)"
   ]
  }
 ],
 "metadata": {
  "kernelspec": {
   "display_name": "Python 3.8.12 ('base')",
   "language": "python",
   "name": "python3"
  },
  "language_info": {
   "codemirror_mode": {
    "name": "ipython",
    "version": 3
   },
   "file_extension": ".py",
   "mimetype": "text/x-python",
   "name": "python",
   "nbconvert_exporter": "python",
   "pygments_lexer": "ipython3",
   "version": "3.8.12"
  },
  "orig_nbformat": 4,
  "vscode": {
   "interpreter": {
    "hash": "d4d1e4263499bec80672ea0156c357c1ee493ec2b1c70f0acce89fc37c4a6abe"
   }
  }
 },
 "nbformat": 4,
 "nbformat_minor": 2
}
