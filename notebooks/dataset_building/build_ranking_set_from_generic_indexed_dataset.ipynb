{
 "cells": [
  {
   "attachments": {},
   "cell_type": "markdown",
   "metadata": {},
   "source": [
    "# 02/15/23\n",
    "\n",
    "Builds a ranking set from a fragmented/split datasets (train/test/val) (feature features)\n",
    "\n",
    "Notes on 2024/1/16: the script is prviously used generate ranking set of r2-6144fp. Now  hyun-fp "
   ]
  },
  {
   "cell_type": "code",
   "execution_count": 1,
   "metadata": {},
   "outputs": [],
   "source": [
    "import torch, numpy as np, os, pickle, tqdm\n",
    "from pathlib import Path"
   ]
  },
  {
   "cell_type": "code",
   "execution_count": 5,
   "metadata": {},
   "outputs": [
    {
     "data": {
      "text/plain": [
       "13756"
      ]
     },
     "execution_count": 5,
     "metadata": {},
     "output_type": "execute_result"
    }
   ],
   "source": []
  },
  {
   "cell_type": "code",
   "execution_count": 6,
   "metadata": {},
   "outputs": [
    {
     "data": {
      "text/plain": [
       "13718"
      ]
     },
     "execution_count": 6,
     "metadata": {},
     "output_type": "execute_result"
    }
   ],
   "source": []
  },
  {
   "cell_type": "code",
   "execution_count": 7,
   "metadata": {},
   "outputs": [
    {
     "name": "stdout",
     "output_type": "stream",
     "text": [
      "=== /root/MorganFP_prediction/James_dataset_zips/SMILES_dataset/val/HYUN_FP\n",
      "\tGenerating from list of files...\n"
     ]
    },
    {
     "name": "stderr",
     "output_type": "stream",
     "text": [
      "100%|██████████| 13756/13756 [24:01<00:00,  9.54it/s]\n"
     ]
    },
    {
     "name": "stdout",
     "output_type": "stream",
     "text": [
      "=== /root/MorganFP_prediction/James_dataset_zips/SMILES_dataset/test/HYUN_FP\n",
      "\tGenerating from list of files...\n"
     ]
    },
    {
     "name": "stderr",
     "output_type": "stream",
     "text": [
      "100%|██████████| 13718/13718 [22:23<00:00, 10.21it/s]\n"
     ]
    }
   ],
   "source": [
    "folder_base = Path(\"/root/MorganFP_prediction/James_dataset_zips/SMILES_dataset\")\n",
    "choice_split = [\"val\", \"test\"]\n",
    "fp_path = \"HYUN_FP\" #\"R2-6144FP\"\n",
    "\n",
    "output_path = Path(\"/root/MorganFP_prediction/reproduce_previous_works/smart4.5/ranking_sets/SMILES_HYUN_FP_ranking_sets\")\n",
    "os.makedirs(output_path, exist_ok=True)\n",
    "\n",
    "for choice in choice_split:\n",
    "  # tempdata/SMILES_dataset/<split>\n",
    "  choice_path = folder_base / choice / fp_path\n",
    "  print(f\"=== {choice_path}\")\n",
    "\n",
    "  if \"index.pkl\" in os.listdir(choice_path):\n",
    "    print(\"\\tGenerating ranking set from pickle index...\")\n",
    "    raise NotImplementedError(\"Building Ranking Set from index file not supported...\")\n",
    "  else:\n",
    "    print(\"\\tGenerating from list of files...\")\n",
    "    files = [torch.load(choice_path / file) for file in tqdm.tqdm(os.listdir(choice_path))]\n",
    "    out = torch.vstack(files)\n",
    "    out_path = output_path / choice\n",
    "    os.makedirs(out_path, exist_ok=True)\n",
    "    torch.save(out, out_path / \"rankingset.pt\")"
   ]
  },
  {
   "cell_type": "code",
   "execution_count": null,
   "metadata": {},
   "outputs": [],
   "source": []
  }
 ],
 "metadata": {
  "kernelspec": {
   "display_name": "base",
   "language": "python",
   "name": "python3"
  },
  "language_info": {
   "codemirror_mode": {
    "name": "ipython",
    "version": 3
   },
   "file_extension": ".py",
   "mimetype": "text/x-python",
   "name": "python",
   "nbconvert_exporter": "python",
   "pygments_lexer": "ipython3",
   "version": "3.10.13"
  },
  "orig_nbformat": 4,
  "vscode": {
   "interpreter": {
    "hash": "d4d1e4263499bec80672ea0156c357c1ee493ec2b1c70f0acce89fc37c4a6abe"
   }
  }
 },
 "nbformat": 4,
 "nbformat_minor": 2
}
