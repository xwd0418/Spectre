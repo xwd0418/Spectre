{
 "cells": [
  {
   "attachments": {},
   "cell_type": "markdown",
   "metadata": {},
   "source": [
    "# 02/15/23\n",
    "\n",
    "Builds a ranking set from a fragmented/split datasets (train/test/val) (feature features)\n",
    "\n",
    "Notes on 2024/1/16: the script is prviously used generate ranking set of r2-6144fp. Now  hyun-fp \n",
    "\n",
    "Notes on 2024/2/8:\n",
    "Now generating both fp with cleaned dataset (cleaned by inchi)\n",
    "\n",
    "Notes on 2024/2/22:\n",
    "Now generate r2-r10 fp, still in the cleaned dataset"
   ]
  },
  {
   "cell_type": "code",
   "execution_count": 2,
   "metadata": {},
   "outputs": [],
   "source": [
    "import torch, numpy as np, os, pickle, tqdm\n",
    "from pathlib import Path"
   ]
  },
  {
   "cell_type": "code",
   "execution_count": 2,
   "metadata": {},
   "outputs": [],
   "source": [
    "# "
   ]
  },
  {
   "cell_type": "code",
   "execution_count": 3,
   "metadata": {},
   "outputs": [
    {
     "data": {
      "text/plain": [
       "['R2-6144FP', 'HYUN_FP', 'R0_to_R4_reduced_FP']"
      ]
     },
     "execution_count": 3,
     "metadata": {},
     "output_type": "execute_result"
    }
   ],
   "source": [
    "folder_base = Path(\"/workspace/SMILES_dataset\")\n",
    "choice_split = [\"val\", \"test\"]\n",
    "\n",
    "output_path = Path(\"/workspace/ranking_sets_cleaned_by_inchi\")\n",
    "os.makedirs(output_path, exist_ok=True)\n",
    "# fp_paths = [ f\"R{i}-6144FP\" for i in range(3,11)]\n",
    "# fp_paths+=[]\n",
    "fp_paths = os.listdir(folder_base / \"test\")\n",
    "\n",
    "fp_paths = list(filter(lambda x: \"FP\"  in x , fp_paths))\n",
    "fp_paths"
   ]
  },
  {
   "cell_type": "code",
   "execution_count": 4,
   "metadata": {},
   "outputs": [],
   "source": [
    "import pickle"
   ]
  },
  {
   "cell_type": "code",
   "execution_count": 5,
   "metadata": {},
   "outputs": [],
   "source": [
    "# fp_paths = ['R2-6144-count-based-FP']\n"
   ]
  },
  {
   "cell_type": "code",
   "execution_count": 1,
   "metadata": {},
   "outputs": [
    {
     "ename": "NameError",
     "evalue": "name 'choice_split' is not defined",
     "output_type": "error",
     "traceback": [
      "\u001b[0;31m---------------------------------------------------------------------------\u001b[0m",
      "\u001b[0;31mNameError\u001b[0m                                 Traceback (most recent call last)",
      "Cell \u001b[0;32mIn[1], line 2\u001b[0m\n\u001b[1;32m      1\u001b[0m fp_path \u001b[38;5;241m=\u001b[39m \u001b[38;5;124m\"\u001b[39m\u001b[38;5;124mR0_to_R4_reduced_FP\u001b[39m\u001b[38;5;124m\"\u001b[39m\n\u001b[0;32m----> 2\u001b[0m \u001b[38;5;28;01mfor\u001b[39;00m choice \u001b[38;5;129;01min\u001b[39;00m \u001b[43mchoice_split\u001b[49m:\n\u001b[1;32m      3\u001b[0m \u001b[38;5;66;03m# tempdata/SMILES_dataset/<split>\u001b[39;00m\n\u001b[1;32m      4\u001b[0m     \u001b[38;5;66;03m# STEP1: open pickle file (dict) to know all kinds of smiles\u001b[39;00m\n\u001b[1;32m      6\u001b[0m     choice_path \u001b[38;5;241m=\u001b[39m folder_base \u001b[38;5;241m/\u001b[39m choice \u001b[38;5;241m/\u001b[39m fp_path\n\u001b[1;32m      7\u001b[0m     \u001b[38;5;28mprint\u001b[39m(\u001b[38;5;124mf\u001b[39m\u001b[38;5;124m\"\u001b[39m\u001b[38;5;124m=== \u001b[39m\u001b[38;5;132;01m{\u001b[39;00mchoice_path\u001b[38;5;132;01m}\u001b[39;00m\u001b[38;5;124m\"\u001b[39m)\n",
      "\u001b[0;31mNameError\u001b[0m: name 'choice_split' is not defined"
     ]
    }
   ],
   "source": [
    "\n",
    "for fp_path in fp_paths:\n",
    "    for choice in choice_split:\n",
    "    # tempdata/SMILES_dataset/<split>\n",
    "        # STEP1: open pickle file (dict) to know all kinds of smiles\n",
    "        index_to_smiles = pickle.load(open(f'/workspace/SMILES_dataset/{choice}/SMILES/index.pkl', 'rb'))\n",
    "        \n",
    "        choice_path = folder_base / choice / fp_path\n",
    "        print(f\"=== {choice_path}\")\n",
    "\n",
    "        if \"index.pkl\" in os.listdir(choice_path):\n",
    "            print(\"\\tGenerating ranking set from pickle index...\")\n",
    "            raise NotImplementedError(\"Building Ranking Set from index file not supported...\")\n",
    "        else:\n",
    "            print(\"\\tGenerating from list of files...\")\n",
    "            all_FP_indices_in_folder = os.listdir(choice_path)\n",
    "            all_added_smiles = set()\n",
    "            all_FP_indices_to_be_added = []\n",
    "            for i in all_FP_indices_in_folder:\n",
    "                smile = index_to_smiles [int(i.split(\".\")[0])]\n",
    "                if smile not in all_added_smiles:\n",
    "                    all_added_smiles.add(smile)\n",
    "                    all_FP_indices_to_be_added.append(i)\n",
    "            \n",
    "            files = [torch.load(choice_path / file) for file in tqdm.tqdm(sorted(all_FP_indices_to_be_added))]\n",
    "            out = torch.vstack(files)\n",
    "            out_path = output_path  / f\"SMILES_{fp_path}_ranking_sets\" / choice\n",
    "            os.makedirs(out_path, exist_ok=True)\n",
    "            torch.save(out, out_path / \"rankingset.pt\")"
   ]
  },
  {
   "cell_type": "code",
   "execution_count": null,
   "metadata": {},
   "outputs": [],
   "source": []
  },
  {
   "cell_type": "code",
   "execution_count": null,
   "metadata": {},
   "outputs": [],
   "source": []
  },
  {
   "cell_type": "code",
   "execution_count": 5,
   "metadata": {},
   "outputs": [
    {
     "name": "stdout",
     "output_type": "stream",
     "text": [
      "=== /workspace/SMILES_dataset/val/R0_to_R4_reduced_FP\n",
      "\tGenerating from list of files...\n"
     ]
    },
    {
     "name": "stderr",
     "output_type": "stream",
     "text": [
      "100%|██████████| 5657/5657 [00:05<00:00, 1000.45it/s]\n"
     ]
    },
    {
     "name": "stdout",
     "output_type": "stream",
     "text": [
      "=== /workspace/SMILES_dataset/test/R0_to_R4_reduced_FP\n",
      "\tGenerating from list of files...\n"
     ]
    },
    {
     "name": "stderr",
     "output_type": "stream",
     "text": [
      "100%|██████████| 5463/5463 [00:03<00:00, 1792.53it/s]\n"
     ]
    }
   ],
   "source": [
    "fp_path = \"R0_to_R4_reduced_FP\"\n",
    "for choice in choice_split:\n",
    "# tempdata/SMILES_dataset/<split>\n",
    "    # STEP1: open pickle file (dict) to know all kinds of smiles\n",
    "    \n",
    "    choice_path = folder_base / choice / fp_path\n",
    "    print(f\"=== {choice_path}\")\n",
    "\n",
    "    if \"index.pkl\" in os.listdir(choice_path):\n",
    "        print(\"\\tGenerating ranking set from pickle index...\")\n",
    "        raise NotImplementedError(\"Building Ranking Set from index file not supported...\")\n",
    "    else:\n",
    "        print(\"\\tGenerating from list of files...\")\n",
    "        all_FP_indices_to_be_added = pickle.load(open(f'/root/MorganFP_prediction/reproduce_previous_works/smart4.5/datasets/{choice}_indices_of_full_info_NMRs.pkl', 'rb'))\n",
    "        \n",
    "        files = [torch.load(choice_path / file) for file in tqdm.tqdm(sorted(all_FP_indices_to_be_added))]\n",
    "        out = torch.vstack(files)\n",
    "        out_path = output_path  / f\"SMILES_{fp_path}_ranking_sets_only_all_info_molecules\" / choice\n",
    "        os.makedirs(out_path, exist_ok=True)\n",
    "        torch.save(out, out_path / \"rankingset.pt\")"
   ]
  },
  {
   "cell_type": "code",
   "execution_count": 22,
   "metadata": {},
   "outputs": [
    {
     "data": {
      "text/plain": [
       "tensor([0., 0., 0.,  ..., 0., 0., 0.])"
      ]
     },
     "execution_count": 22,
     "metadata": {},
     "output_type": "execute_result"
    }
   ],
   "source": [
    "k"
   ]
  },
  {
   "cell_type": "code",
   "execution_count": null,
   "metadata": {},
   "outputs": [],
   "source": []
  }
 ],
 "metadata": {
  "kernelspec": {
   "display_name": "base",
   "language": "python",
   "name": "python3"
  },
  "language_info": {
   "codemirror_mode": {
    "name": "ipython",
    "version": 3
   },
   "file_extension": ".py",
   "mimetype": "text/x-python",
   "name": "python",
   "nbconvert_exporter": "python",
   "pygments_lexer": "ipython3",
   "version": "3.10.13"
  },
  "orig_nbformat": 4,
  "vscode": {
   "interpreter": {
    "hash": "d4d1e4263499bec80672ea0156c357c1ee493ec2b1c70f0acce89fc37c4a6abe"
   }
  }
 },
 "nbformat": 4,
 "nbformat_minor": 2
}
