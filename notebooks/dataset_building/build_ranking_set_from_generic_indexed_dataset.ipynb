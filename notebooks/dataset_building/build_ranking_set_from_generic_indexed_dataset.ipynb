{
 "cells": [
  {
   "attachments": {},
   "cell_type": "markdown",
   "metadata": {},
   "source": [
    "# 02/15/23\n",
    "\n",
    "Builds a ranking set from a fragmented/split datasets (train/test/val) (feature features)\n",
    "\n",
    "Notes on 2024/1/16: the script is prviously used generate ranking set of r2-6144fp. Now  hyun-fp \n",
    "\n",
    "Notes on 2024/2/8:\n",
    "Now generating both fp with cleaned dataset (cleaned by inchi)"
   ]
  },
  {
   "cell_type": "code",
   "execution_count": 2,
   "metadata": {},
   "outputs": [],
   "source": [
    "import torch, numpy as np, os, pickle, tqdm\n",
    "from pathlib import Path"
   ]
  },
  {
   "cell_type": "code",
   "execution_count": null,
   "metadata": {},
   "outputs": [],
   "source": []
  },
  {
   "cell_type": "code",
   "execution_count": null,
   "metadata": {},
   "outputs": [],
   "source": []
  },
  {
   "cell_type": "code",
   "execution_count": 5,
   "metadata": {},
   "outputs": [
    {
     "name": "stdout",
     "output_type": "stream",
     "text": [
      "=== /workspace/SMILES_dataset/val/HYUN_FP\n",
      "\tGenerating from list of files...\n"
     ]
    },
    {
     "name": "stderr",
     "output_type": "stream",
     "text": [
      "100%|██████████| 13738/13738 [00:02<00:00, 5531.04it/s]\n"
     ]
    },
    {
     "name": "stdout",
     "output_type": "stream",
     "text": [
      "=== /workspace/SMILES_dataset/test/HYUN_FP\n",
      "\tGenerating from list of files...\n"
     ]
    },
    {
     "name": "stderr",
     "output_type": "stream",
     "text": [
      "100%|██████████| 13630/13630 [00:02<00:00, 5748.81it/s]\n"
     ]
    },
    {
     "name": "stdout",
     "output_type": "stream",
     "text": [
      "=== /workspace/SMILES_dataset/val/R2-6144FP\n",
      "\tGenerating from list of files...\n"
     ]
    },
    {
     "name": "stderr",
     "output_type": "stream",
     "text": [
      "100%|██████████| 13738/13738 [00:02<00:00, 5599.63it/s]\n"
     ]
    },
    {
     "name": "stdout",
     "output_type": "stream",
     "text": [
      "=== /workspace/SMILES_dataset/test/R2-6144FP\n",
      "\tGenerating from list of files...\n"
     ]
    },
    {
     "name": "stderr",
     "output_type": "stream",
     "text": [
      "100%|██████████| 13630/13630 [00:02<00:00, 5370.17it/s]\n"
     ]
    }
   ],
   "source": [
    "folder_base = Path(\"/workspace/SMILES_dataset\")\n",
    "choice_split = [\"val\", \"test\"]\n",
    "\n",
    "output_path = Path(\"/workspace/ranking_sets_cleaned_by_inchi\")\n",
    "os.makedirs(output_path, exist_ok=True)\n",
    "\n",
    "for fp_path in [\"HYUN_FP\" ,\"R2-6144FP\"]:\n",
    "    for choice in choice_split:\n",
    "    # tempdata/SMILES_dataset/<split>\n",
    "        choice_path = folder_base / choice / fp_path\n",
    "        print(f\"=== {choice_path}\")\n",
    "\n",
    "        if \"index.pkl\" in os.listdir(choice_path):\n",
    "            print(\"\\tGenerating ranking set from pickle index...\")\n",
    "            raise NotImplementedError(\"Building Ranking Set from index file not supported...\")\n",
    "        else:\n",
    "            print(\"\\tGenerating from list of files...\")\n",
    "            files = [torch.load(choice_path / file) for file in tqdm.tqdm(os.listdir(choice_path))]\n",
    "            out = torch.vstack(files)\n",
    "            out_path = output_path  / f\"SMILES_{fp_path}_ranking_sets\" / choice\n",
    "            os.makedirs(out_path, exist_ok=True)\n",
    "            torch.save(out, out_path / \"rankingset.pt\")"
   ]
  },
  {
   "cell_type": "code",
   "execution_count": null,
   "metadata": {},
   "outputs": [],
   "source": []
  }
 ],
 "metadata": {
  "kernelspec": {
   "display_name": "base",
   "language": "python",
   "name": "python3"
  },
  "language_info": {
   "codemirror_mode": {
    "name": "ipython",
    "version": 3
   },
   "file_extension": ".py",
   "mimetype": "text/x-python",
   "name": "python",
   "nbconvert_exporter": "python",
   "pygments_lexer": "ipython3",
   "version": "3.10.13"
  },
  "orig_nbformat": 4,
  "vscode": {
   "interpreter": {
    "hash": "d4d1e4263499bec80672ea0156c357c1ee493ec2b1c70f0acce89fc37c4a6abe"
   }
  }
 },
 "nbformat": 4,
 "nbformat_minor": 2
}
