{
 "cells": [
  {
   "attachments": {},
   "cell_type": "markdown",
   "metadata": {},
   "source": [
    "# 02/15/23\n",
    "\n",
    "Builds a ranking set from a fragmented/split datasets (train/test/val) (feature features)\n",
    "\n",
    "Notes on 2024/1/16: the script is prviously used generate ranking set of r2-6144fp. Now  hyun-fp \n",
    "\n",
    "Notes on 2024/2/8:\n",
    "Now generating both fp with cleaned dataset (cleaned by inchi)\n",
    "\n",
    "Notes on 2024/2/22:\n",
    "Now generate r2-r10 fp, still in the cleaned dataset"
   ]
  },
  {
   "cell_type": "code",
   "execution_count": 1,
   "metadata": {},
   "outputs": [],
   "source": [
    "import torch, numpy as np, os, pickle, tqdm\n",
    "from pathlib import Path"
   ]
  },
  {
   "cell_type": "code",
   "execution_count": null,
   "metadata": {},
   "outputs": [],
   "source": []
  },
  {
   "cell_type": "code",
   "execution_count": 3,
   "metadata": {},
   "outputs": [
    {
     "data": {
      "text/plain": [
       "['R3-6144FP',\n",
       " 'R4-6144FP',\n",
       " 'R5-6144FP',\n",
       " 'R6-6144FP',\n",
       " 'R7-6144FP',\n",
       " 'R8-6144FP',\n",
       " 'R9-6144FP',\n",
       " 'R10-6144FP']"
      ]
     },
     "execution_count": 3,
     "metadata": {},
     "output_type": "execute_result"
    }
   ],
   "source": [
    "folder_base = Path(\"/workspace/SMILES_dataset\")\n",
    "choice_split = [\"val\", \"test\"]\n",
    "\n",
    "output_path = Path(\"/workspace/ranking_sets_cleaned_by_inchi\")\n",
    "os.makedirs(output_path, exist_ok=True)\n",
    "fp_paths = [ f\"R{i}-6144FP\" for i in range(3,11)]\n",
    "fp_paths"
   ]
  },
  {
   "cell_type": "code",
   "execution_count": 23,
   "metadata": {},
   "outputs": [
    {
     "name": "stdout",
     "output_type": "stream",
     "text": [
      "=== /workspace/SMILES_dataset/val/R3-6144FP\n",
      "\tGenerating from list of files...\n"
     ]
    },
    {
     "name": "stderr",
     "output_type": "stream",
     "text": [
      "100%|██████████| 13738/13738 [00:05<00:00, 2621.13it/s]\n"
     ]
    },
    {
     "name": "stdout",
     "output_type": "stream",
     "text": [
      "=== /workspace/SMILES_dataset/test/R3-6144FP\n",
      "\tGenerating from list of files...\n"
     ]
    },
    {
     "name": "stderr",
     "output_type": "stream",
     "text": [
      "100%|██████████| 13630/13630 [00:05<00:00, 2479.47it/s]\n"
     ]
    },
    {
     "name": "stdout",
     "output_type": "stream",
     "text": [
      "=== /workspace/SMILES_dataset/val/R4-6144FP\n",
      "\tGenerating from list of files...\n"
     ]
    },
    {
     "name": "stderr",
     "output_type": "stream",
     "text": [
      "100%|██████████| 13738/13738 [00:05<00:00, 2728.46it/s]\n"
     ]
    },
    {
     "name": "stdout",
     "output_type": "stream",
     "text": [
      "=== /workspace/SMILES_dataset/test/R4-6144FP\n",
      "\tGenerating from list of files...\n"
     ]
    },
    {
     "name": "stderr",
     "output_type": "stream",
     "text": [
      "100%|██████████| 13630/13630 [00:05<00:00, 2348.12it/s]\n"
     ]
    },
    {
     "name": "stdout",
     "output_type": "stream",
     "text": [
      "=== /workspace/SMILES_dataset/val/R5-6144FP\n",
      "\tGenerating from list of files...\n"
     ]
    },
    {
     "name": "stderr",
     "output_type": "stream",
     "text": [
      "100%|██████████| 13738/13738 [00:05<00:00, 2716.67it/s]\n"
     ]
    },
    {
     "name": "stdout",
     "output_type": "stream",
     "text": [
      "=== /workspace/SMILES_dataset/test/R5-6144FP\n",
      "\tGenerating from list of files...\n"
     ]
    },
    {
     "name": "stderr",
     "output_type": "stream",
     "text": [
      "100%|██████████| 13630/13630 [00:05<00:00, 2502.53it/s]\n"
     ]
    },
    {
     "name": "stdout",
     "output_type": "stream",
     "text": [
      "=== /workspace/SMILES_dataset/val/R6-6144FP\n",
      "\tGenerating from list of files...\n"
     ]
    },
    {
     "name": "stderr",
     "output_type": "stream",
     "text": [
      "100%|██████████| 13738/13738 [00:05<00:00, 2720.79it/s]\n"
     ]
    },
    {
     "name": "stdout",
     "output_type": "stream",
     "text": [
      "=== /workspace/SMILES_dataset/test/R6-6144FP\n",
      "\tGenerating from list of files...\n"
     ]
    },
    {
     "name": "stderr",
     "output_type": "stream",
     "text": [
      "100%|██████████| 13630/13630 [00:05<00:00, 2359.88it/s]\n"
     ]
    },
    {
     "name": "stdout",
     "output_type": "stream",
     "text": [
      "=== /workspace/SMILES_dataset/val/R7-6144FP\n",
      "\tGenerating from list of files...\n"
     ]
    },
    {
     "name": "stderr",
     "output_type": "stream",
     "text": [
      "100%|██████████| 13738/13738 [00:06<00:00, 2194.07it/s]\n"
     ]
    },
    {
     "name": "stdout",
     "output_type": "stream",
     "text": [
      "=== /workspace/SMILES_dataset/test/R7-6144FP\n",
      "\tGenerating from list of files...\n"
     ]
    },
    {
     "name": "stderr",
     "output_type": "stream",
     "text": [
      "100%|██████████| 13630/13630 [00:05<00:00, 2431.51it/s]\n"
     ]
    },
    {
     "name": "stdout",
     "output_type": "stream",
     "text": [
      "=== /workspace/SMILES_dataset/val/R8-6144FP\n",
      "\tGenerating from list of files...\n"
     ]
    },
    {
     "name": "stderr",
     "output_type": "stream",
     "text": [
      "100%|██████████| 13738/13738 [00:05<00:00, 2735.75it/s]\n"
     ]
    },
    {
     "name": "stdout",
     "output_type": "stream",
     "text": [
      "=== /workspace/SMILES_dataset/test/R8-6144FP\n",
      "\tGenerating from list of files...\n"
     ]
    },
    {
     "name": "stderr",
     "output_type": "stream",
     "text": [
      "100%|██████████| 13630/13630 [00:05<00:00, 2465.04it/s]\n"
     ]
    },
    {
     "name": "stdout",
     "output_type": "stream",
     "text": [
      "=== /workspace/SMILES_dataset/val/R9-6144FP\n",
      "\tGenerating from list of files...\n"
     ]
    },
    {
     "name": "stderr",
     "output_type": "stream",
     "text": [
      "100%|██████████| 13738/13738 [00:05<00:00, 2606.11it/s]\n"
     ]
    },
    {
     "name": "stdout",
     "output_type": "stream",
     "text": [
      "=== /workspace/SMILES_dataset/test/R9-6144FP\n",
      "\tGenerating from list of files...\n"
     ]
    },
    {
     "name": "stderr",
     "output_type": "stream",
     "text": [
      "100%|██████████| 13630/13630 [00:05<00:00, 2412.99it/s]\n"
     ]
    },
    {
     "name": "stdout",
     "output_type": "stream",
     "text": [
      "=== /workspace/SMILES_dataset/val/R10-6144FP\n",
      "\tGenerating from list of files...\n"
     ]
    },
    {
     "name": "stderr",
     "output_type": "stream",
     "text": [
      "100%|██████████| 13738/13738 [00:05<00:00, 2643.13it/s]\n"
     ]
    },
    {
     "name": "stdout",
     "output_type": "stream",
     "text": [
      "=== /workspace/SMILES_dataset/test/R10-6144FP\n",
      "\tGenerating from list of files...\n"
     ]
    },
    {
     "name": "stderr",
     "output_type": "stream",
     "text": [
      "100%|██████████| 13630/13630 [00:05<00:00, 2375.59it/s]\n"
     ]
    }
   ],
   "source": [
    "\n",
    "for fp_path in fp_paths:\n",
    "    for choice in choice_split:\n",
    "    # tempdata/SMILES_dataset/<split>\n",
    "        choice_path = folder_base / choice / fp_path\n",
    "        print(f\"=== {choice_path}\")\n",
    "\n",
    "        if \"index.pkl\" in os.listdir(choice_path):\n",
    "            print(\"\\tGenerating ranking set from pickle index...\")\n",
    "            raise NotImplementedError(\"Building Ranking Set from index file not supported...\")\n",
    "        else:\n",
    "            print(\"\\tGenerating from list of files...\")\n",
    "            files = [torch.load(choice_path / file) for file in tqdm.tqdm(os.listdir(choice_path))]\n",
    "            out = torch.vstack(files)\n",
    "            out_path = output_path  / f\"SMILES_{fp_path}_ranking_sets\" / choice\n",
    "            os.makedirs(out_path, exist_ok=True)\n",
    "            torch.save(out, out_path / \"rankingset.pt\")"
   ]
  },
  {
   "cell_type": "code",
   "execution_count": 21,
   "metadata": {},
   "outputs": [],
   "source": [
    "import torch\n",
    "k = torch.load(\"/workspace/SMILES_dataset/val/R5-6144FP/0.pt\")"
   ]
  },
  {
   "cell_type": "code",
   "execution_count": 22,
   "metadata": {},
   "outputs": [
    {
     "data": {
      "text/plain": [
       "tensor([0., 0., 0.,  ..., 0., 0., 0.])"
      ]
     },
     "execution_count": 22,
     "metadata": {},
     "output_type": "execute_result"
    }
   ],
   "source": [
    "k"
   ]
  },
  {
   "cell_type": "code",
   "execution_count": null,
   "metadata": {},
   "outputs": [],
   "source": []
  }
 ],
 "metadata": {
  "kernelspec": {
   "display_name": "base",
   "language": "python",
   "name": "python3"
  },
  "language_info": {
   "codemirror_mode": {
    "name": "ipython",
    "version": 3
   },
   "file_extension": ".py",
   "mimetype": "text/x-python",
   "name": "python",
   "nbconvert_exporter": "python",
   "pygments_lexer": "ipython3",
   "version": "3.10.13"
  },
  "orig_nbformat": 4,
  "vscode": {
   "interpreter": {
    "hash": "d4d1e4263499bec80672ea0156c357c1ee493ec2b1c70f0acce89fc37c4a6abe"
   }
  }
 },
 "nbformat": 4,
 "nbformat_minor": 2
}
