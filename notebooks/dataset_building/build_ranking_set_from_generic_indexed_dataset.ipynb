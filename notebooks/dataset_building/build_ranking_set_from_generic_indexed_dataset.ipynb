{
 "cells": [
  {
   "attachments": {},
   "cell_type": "markdown",
   "metadata": {},
   "source": [
    "# 02/15/23\n",
    "\n",
    "Builds a ranking set from a fragmented/split datasets (train/test/val) (feature features)\n",
    "\n",
    "Notes on 2024/1/16: the script is prviously used generate ranking set of r2-6144fp. Now  hyun-fp \n",
    "\n",
    "Notes on 2024/2/8:\n",
    "Now generating both fp with cleaned dataset (cleaned by inchi)\n",
    "\n",
    "Notes on 2024/2/22:\n",
    "Now generate r2-r10 fp, still in the cleaned dataset"
   ]
  },
  {
   "cell_type": "code",
   "execution_count": 1,
   "metadata": {},
   "outputs": [],
   "source": [
    "import torch, numpy as np, os, pickle, tqdm\n",
    "from pathlib import Path"
   ]
  },
  {
   "cell_type": "code",
   "execution_count": 2,
   "metadata": {},
   "outputs": [],
   "source": [
    "# "
   ]
  },
  {
   "cell_type": "code",
   "execution_count": 8,
   "metadata": {},
   "outputs": [
    {
     "data": {
      "text/plain": [
       "['R2-6144FP',\n",
       " 'HYUN_FP',\n",
       " 'R0_to_R4_30720_FP',\n",
       " 'R0_to_R4_reduced_FP',\n",
       " 'R3-6144FP',\n",
       " 'R4-6144FP',\n",
       " 'R5-6144FP',\n",
       " 'R6-6144FP',\n",
       " 'R7-6144FP',\n",
       " 'R8-6144FP',\n",
       " 'R9-6144FP',\n",
       " 'R10-6144FP',\n",
       " 'R2-6144-count-based-FP']"
      ]
     },
     "execution_count": 8,
     "metadata": {},
     "output_type": "execute_result"
    }
   ],
   "source": [
    "folder_base = Path(\"/workspace/SMILES_dataset\")\n",
    "choice_split = [\"val\", \"test\"]\n",
    "\n",
    "output_path = Path(\"/workspace/ranking_sets_cleaned_by_inchi\")\n",
    "os.makedirs(output_path, exist_ok=True)\n",
    "# fp_paths = [ f\"R{i}-6144FP\" for i in range(3,11)]\n",
    "# fp_paths+=[]\n",
    "fp_paths = os.listdir(folder_base / \"test\")\n",
    "\n",
    "fp_paths = list(filter(lambda x: \"FP\"  in x , fp_paths))\n",
    "fp_paths"
   ]
  },
  {
   "cell_type": "code",
   "execution_count": 4,
   "metadata": {},
   "outputs": [],
   "source": [
    "import pickle"
   ]
  },
  {
   "cell_type": "code",
   "execution_count": 5,
   "metadata": {},
   "outputs": [],
   "source": [
    "# fp_paths = ['R2-6144-count-based-FP']\n"
   ]
  },
  {
   "cell_type": "code",
   "execution_count": 9,
   "metadata": {},
   "outputs": [
    {
     "name": "stdout",
     "output_type": "stream",
     "text": [
      "=== /workspace/SMILES_dataset/val/R2-6144FP\n",
      "\tGenerating from list of files...\n"
     ]
    },
    {
     "name": "stderr",
     "output_type": "stream",
     "text": [
      "  0%|          | 0/11151 [00:00<?, ?it/s]"
     ]
    },
    {
     "name": "stderr",
     "output_type": "stream",
     "text": [
      "100%|██████████| 11151/11151 [00:10<00:00, 1036.24it/s]\n"
     ]
    },
    {
     "name": "stdout",
     "output_type": "stream",
     "text": [
      "=== /workspace/SMILES_dataset/test/R2-6144FP\n",
      "\tGenerating from list of files...\n"
     ]
    },
    {
     "name": "stderr",
     "output_type": "stream",
     "text": [
      "100%|██████████| 11077/11077 [00:02<00:00, 4496.87it/s]\n"
     ]
    },
    {
     "name": "stdout",
     "output_type": "stream",
     "text": [
      "=== /workspace/SMILES_dataset/val/HYUN_FP\n",
      "\tGenerating from list of files...\n"
     ]
    },
    {
     "name": "stderr",
     "output_type": "stream",
     "text": [
      "100%|██████████| 11151/11151 [00:10<00:00, 1050.51it/s]\n"
     ]
    },
    {
     "name": "stdout",
     "output_type": "stream",
     "text": [
      "=== /workspace/SMILES_dataset/test/HYUN_FP\n",
      "\tGenerating from list of files...\n"
     ]
    },
    {
     "name": "stderr",
     "output_type": "stream",
     "text": [
      "100%|██████████| 11077/11077 [00:02<00:00, 4033.41it/s]\n"
     ]
    },
    {
     "name": "stdout",
     "output_type": "stream",
     "text": [
      "=== /workspace/SMILES_dataset/val/R0_to_R4_30720_FP\n",
      "\tGenerating from list of files...\n"
     ]
    },
    {
     "name": "stderr",
     "output_type": "stream",
     "text": [
      "100%|██████████| 11151/11151 [00:13<00:00, 819.43it/s] \n"
     ]
    },
    {
     "name": "stdout",
     "output_type": "stream",
     "text": [
      "=== /workspace/SMILES_dataset/test/R0_to_R4_30720_FP\n",
      "\tGenerating from list of files...\n"
     ]
    },
    {
     "name": "stderr",
     "output_type": "stream",
     "text": [
      "100%|██████████| 11077/11077 [00:04<00:00, 2698.32it/s]\n"
     ]
    },
    {
     "name": "stdout",
     "output_type": "stream",
     "text": [
      "=== /workspace/SMILES_dataset/val/R0_to_R4_reduced_FP\n",
      "\tGenerating from list of files...\n"
     ]
    },
    {
     "name": "stderr",
     "output_type": "stream",
     "text": [
      "100%|██████████| 11151/11151 [00:06<00:00, 1858.00it/s]\n"
     ]
    },
    {
     "name": "stdout",
     "output_type": "stream",
     "text": [
      "=== /workspace/SMILES_dataset/test/R0_to_R4_reduced_FP\n",
      "\tGenerating from list of files...\n"
     ]
    },
    {
     "name": "stderr",
     "output_type": "stream",
     "text": [
      "100%|██████████| 11077/11077 [00:02<00:00, 3879.85it/s]\n"
     ]
    },
    {
     "name": "stdout",
     "output_type": "stream",
     "text": [
      "=== /workspace/SMILES_dataset/val/R3-6144FP\n",
      "\tGenerating from list of files...\n"
     ]
    },
    {
     "name": "stderr",
     "output_type": "stream",
     "text": [
      "100%|██████████| 11151/11151 [00:09<00:00, 1163.44it/s]\n"
     ]
    },
    {
     "name": "stdout",
     "output_type": "stream",
     "text": [
      "=== /workspace/SMILES_dataset/test/R3-6144FP\n",
      "\tGenerating from list of files...\n"
     ]
    },
    {
     "name": "stderr",
     "output_type": "stream",
     "text": [
      "100%|██████████| 11077/11077 [00:03<00:00, 3686.27it/s]\n"
     ]
    },
    {
     "name": "stdout",
     "output_type": "stream",
     "text": [
      "=== /workspace/SMILES_dataset/val/R4-6144FP\n",
      "\tGenerating from list of files...\n"
     ]
    },
    {
     "name": "stderr",
     "output_type": "stream",
     "text": [
      "100%|██████████| 11151/11151 [00:08<00:00, 1253.71it/s]\n"
     ]
    },
    {
     "name": "stdout",
     "output_type": "stream",
     "text": [
      "=== /workspace/SMILES_dataset/test/R4-6144FP\n",
      "\tGenerating from list of files...\n"
     ]
    },
    {
     "name": "stderr",
     "output_type": "stream",
     "text": [
      "100%|██████████| 11077/11077 [00:03<00:00, 3030.37it/s]\n"
     ]
    },
    {
     "name": "stdout",
     "output_type": "stream",
     "text": [
      "=== /workspace/SMILES_dataset/val/R5-6144FP\n",
      "\tGenerating from list of files...\n"
     ]
    },
    {
     "name": "stderr",
     "output_type": "stream",
     "text": [
      "100%|██████████| 11151/11151 [00:08<00:00, 1318.67it/s]\n"
     ]
    },
    {
     "name": "stdout",
     "output_type": "stream",
     "text": [
      "=== /workspace/SMILES_dataset/test/R5-6144FP\n",
      "\tGenerating from list of files...\n"
     ]
    },
    {
     "name": "stderr",
     "output_type": "stream",
     "text": [
      "100%|██████████| 11077/11077 [00:03<00:00, 3517.34it/s]\n"
     ]
    },
    {
     "name": "stdout",
     "output_type": "stream",
     "text": [
      "=== /workspace/SMILES_dataset/val/R6-6144FP\n",
      "\tGenerating from list of files...\n"
     ]
    },
    {
     "name": "stderr",
     "output_type": "stream",
     "text": [
      "100%|██████████| 11151/11151 [00:08<00:00, 1357.07it/s]\n"
     ]
    },
    {
     "name": "stdout",
     "output_type": "stream",
     "text": [
      "=== /workspace/SMILES_dataset/test/R6-6144FP\n",
      "\tGenerating from list of files...\n"
     ]
    },
    {
     "name": "stderr",
     "output_type": "stream",
     "text": [
      "100%|██████████| 11077/11077 [00:03<00:00, 3152.79it/s]\n"
     ]
    },
    {
     "name": "stdout",
     "output_type": "stream",
     "text": [
      "=== /workspace/SMILES_dataset/val/R7-6144FP\n",
      "\tGenerating from list of files...\n"
     ]
    },
    {
     "name": "stderr",
     "output_type": "stream",
     "text": [
      "100%|██████████| 11151/11151 [00:08<00:00, 1292.86it/s]\n"
     ]
    },
    {
     "name": "stdout",
     "output_type": "stream",
     "text": [
      "=== /workspace/SMILES_dataset/test/R7-6144FP\n",
      "\tGenerating from list of files...\n"
     ]
    },
    {
     "name": "stderr",
     "output_type": "stream",
     "text": [
      "100%|██████████| 11077/11077 [00:03<00:00, 2991.74it/s]\n"
     ]
    },
    {
     "name": "stdout",
     "output_type": "stream",
     "text": [
      "=== /workspace/SMILES_dataset/val/R8-6144FP\n",
      "\tGenerating from list of files...\n"
     ]
    },
    {
     "name": "stderr",
     "output_type": "stream",
     "text": [
      "100%|██████████| 11151/11151 [00:09<00:00, 1200.29it/s]\n"
     ]
    },
    {
     "name": "stdout",
     "output_type": "stream",
     "text": [
      "=== /workspace/SMILES_dataset/test/R8-6144FP\n",
      "\tGenerating from list of files...\n"
     ]
    },
    {
     "name": "stderr",
     "output_type": "stream",
     "text": [
      "100%|██████████| 11077/11077 [00:08<00:00, 1349.29it/s]\n"
     ]
    },
    {
     "name": "stdout",
     "output_type": "stream",
     "text": [
      "=== /workspace/SMILES_dataset/val/R9-6144FP\n",
      "\tGenerating from list of files...\n"
     ]
    },
    {
     "name": "stderr",
     "output_type": "stream",
     "text": [
      "100%|██████████| 11151/11151 [00:08<00:00, 1336.87it/s]\n"
     ]
    },
    {
     "name": "stdout",
     "output_type": "stream",
     "text": [
      "=== /workspace/SMILES_dataset/test/R9-6144FP\n",
      "\tGenerating from list of files...\n"
     ]
    },
    {
     "name": "stderr",
     "output_type": "stream",
     "text": [
      "100%|██████████| 11077/11077 [00:08<00:00, 1258.89it/s]\n"
     ]
    },
    {
     "name": "stdout",
     "output_type": "stream",
     "text": [
      "=== /workspace/SMILES_dataset/val/R10-6144FP\n",
      "\tGenerating from list of files...\n"
     ]
    },
    {
     "name": "stderr",
     "output_type": "stream",
     "text": [
      "100%|██████████| 11151/11151 [00:08<00:00, 1352.60it/s]\n"
     ]
    },
    {
     "name": "stdout",
     "output_type": "stream",
     "text": [
      "=== /workspace/SMILES_dataset/test/R10-6144FP\n",
      "\tGenerating from list of files...\n"
     ]
    },
    {
     "name": "stderr",
     "output_type": "stream",
     "text": [
      "100%|██████████| 11077/11077 [00:08<00:00, 1310.05it/s]\n"
     ]
    },
    {
     "name": "stdout",
     "output_type": "stream",
     "text": [
      "=== /workspace/SMILES_dataset/val/R2-6144-count-based-FP\n",
      "\tGenerating from list of files...\n"
     ]
    },
    {
     "name": "stderr",
     "output_type": "stream",
     "text": [
      "100%|██████████| 11151/11151 [00:07<00:00, 1512.08it/s]\n"
     ]
    },
    {
     "name": "stdout",
     "output_type": "stream",
     "text": [
      "=== /workspace/SMILES_dataset/test/R2-6144-count-based-FP\n",
      "\tGenerating from list of files...\n"
     ]
    },
    {
     "name": "stderr",
     "output_type": "stream",
     "text": [
      "100%|██████████| 11077/11077 [00:02<00:00, 4164.56it/s]\n"
     ]
    }
   ],
   "source": [
    "\n",
    "for fp_path in fp_paths:\n",
    "    for choice in choice_split:\n",
    "    # tempdata/SMILES_dataset/<split>\n",
    "        # STEP1: open pickle file (dict) to know all kinds of smiles\n",
    "        index_to_smiles = pickle.load(open(f'/workspace/SMILES_dataset/{choice}/SMILES/index.pkl', 'rb'))\n",
    "        \n",
    "        choice_path = folder_base / choice / fp_path\n",
    "        print(f\"=== {choice_path}\")\n",
    "\n",
    "        if \"index.pkl\" in os.listdir(choice_path):\n",
    "            print(\"\\tGenerating ranking set from pickle index...\")\n",
    "            raise NotImplementedError(\"Building Ranking Set from index file not supported...\")\n",
    "        else:\n",
    "            print(\"\\tGenerating from list of files...\")\n",
    "            all_FP_indices_in_folder = os.listdir(choice_path)\n",
    "            all_added_smiles = set()\n",
    "            all_FP_indices_to_be_added = []\n",
    "            for i in all_FP_indices_in_folder:\n",
    "                smile = index_to_smiles [int(i.split(\".\")[0])]\n",
    "                if smile not in all_added_smiles:\n",
    "                    all_added_smiles.add(smile)\n",
    "                    all_FP_indices_to_be_added.append(i)\n",
    "            \n",
    "            files = [torch.load(choice_path / file) for file in tqdm.tqdm(sorted(all_FP_indices_to_be_added))]\n",
    "            out = torch.vstack(files)\n",
    "            out_path = output_path  / f\"SMILES_{fp_path}_ranking_sets\" / choice\n",
    "            os.makedirs(out_path, exist_ok=True)\n",
    "            torch.save(out, out_path / \"rankingset.pt\")"
   ]
  },
  {
   "cell_type": "code",
   "execution_count": 21,
   "metadata": {},
   "outputs": [],
   "source": [
    "import torch\n",
    "k = torch.load(\"/workspace/SMILES_dataset/val/R5-6144FP/0.pt\")"
   ]
  },
  {
   "cell_type": "code",
   "execution_count": 22,
   "metadata": {},
   "outputs": [
    {
     "data": {
      "text/plain": [
       "tensor([0., 0., 0.,  ..., 0., 0., 0.])"
      ]
     },
     "execution_count": 22,
     "metadata": {},
     "output_type": "execute_result"
    }
   ],
   "source": [
    "k"
   ]
  },
  {
   "cell_type": "code",
   "execution_count": null,
   "metadata": {},
   "outputs": [],
   "source": []
  }
 ],
 "metadata": {
  "kernelspec": {
   "display_name": "base",
   "language": "python",
   "name": "python3"
  },
  "language_info": {
   "codemirror_mode": {
    "name": "ipython",
    "version": 3
   },
   "file_extension": ".py",
   "mimetype": "text/x-python",
   "name": "python",
   "nbconvert_exporter": "python",
   "pygments_lexer": "ipython3",
   "version": "3.10.13"
  },
  "orig_nbformat": 4,
  "vscode": {
   "interpreter": {
    "hash": "d4d1e4263499bec80672ea0156c357c1ee493ec2b1c70f0acce89fc37c4a6abe"
   }
  }
 },
 "nbformat": 4,
 "nbformat_minor": 2
}
