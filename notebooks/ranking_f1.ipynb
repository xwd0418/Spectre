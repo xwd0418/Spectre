{
 "cells": [
  {
   "cell_type": "code",
   "execution_count": 1,
   "metadata": {},
   "outputs": [],
   "source": [
    "# 05/31/22\n",
    "\n",
    "import os, torch, torch.nn as nn, torch.utils as utils, tqdm, numpy as np, random"
   ]
  },
  {
   "cell_type": "code",
   "execution_count": 2,
   "metadata": {},
   "outputs": [
    {
     "name": "stdout",
     "output_type": "stream",
     "text": [
      "Num molecules to rank against: 9794\n"
     ]
    }
   ],
   "source": [
    "folder = \"../tempdata/new_split/train/fingerprint\"\n",
    "\n",
    "print(f\"Num molecules to rank against: {len(os.listdir(folder))}\")"
   ]
  },
  {
   "cell_type": "code",
   "execution_count": 3,
   "metadata": {},
   "outputs": [
    {
     "name": "stderr",
     "output_type": "stream",
     "text": [
      "100%|██████████| 9794/9794 [00:02<00:00, 4164.17it/s]\n"
     ]
    },
    {
     "name": "stdout",
     "output_type": "stream",
     "text": [
      "Done Loading\n"
     ]
    }
   ],
   "source": [
    "mols = []\n",
    "for f in tqdm.tqdm(os.listdir(folder)):\n",
    "    mols.append(np.load(os.path.join(folder, f)))\n",
    "print(f\"Done Loading\")\n",
    "ar = np.stack(mols)"
   ]
  },
  {
   "cell_type": "code",
   "execution_count": 4,
   "metadata": {},
   "outputs": [
    {
     "data": {
      "text/plain": [
       "(9794, 6144)"
      ]
     },
     "execution_count": 4,
     "metadata": {},
     "output_type": "execute_result"
    }
   ],
   "source": [
    "ar.shape"
   ]
  },
  {
   "cell_type": "code",
   "execution_count": 5,
   "metadata": {},
   "outputs": [],
   "source": [
    "from numpy import dot\n",
    "from numpy.linalg import norm\n",
    "query = np.load(\"../tempdata/new_split/val/fingerprint/mol_6.npy\").reshape((1,-1))\n",
    "\n",
    "def cossim(a, b):\n",
    "    cos_sim = dot(a, b)/(norm(a)*norm(b))\n",
    "    return cos_sim\n",
    "# get dot product of query with everything in library [library size, 1]\n",
    "dots = ar @ np.transpose(query)\n",
    "# get norm of query\n",
    "norm_q = norm(query)\n",
    "# get all norms in the array [library size, 1]\n",
    "norm_ar = norm(ar, axis=1).reshape((-1, 1))"
   ]
  },
  {
   "cell_type": "code",
   "execution_count": 15,
   "metadata": {},
   "outputs": [
    {
     "name": "stdout",
     "output_type": "stream",
     "text": [
      "(9794, 1) 8.54400374531753 (9794, 1)\n"
     ]
    }
   ],
   "source": [
    "print(dots.shape, norm_q, norm_ar.shape)"
   ]
  },
  {
   "cell_type": "code",
   "execution_count": 13,
   "metadata": {},
   "outputs": [],
   "source": [
    "cossims = dots / (norm_ar * norm_q)"
   ]
  },
  {
   "cell_type": "code",
   "execution_count": 14,
   "metadata": {},
   "outputs": [
    {
     "name": "stdout",
     "output_type": "stream",
     "text": [
      "Thresh: 0.3354233446943441\n",
      "Ct greater: 15\n"
     ]
    }
   ],
   "source": [
    "# sanity check: make sure that altering fp would change the ranking\n",
    "\n",
    "q2 = np.copy(query)\n",
    "ct_flip = 500\n",
    "# generate 500 random indices\n",
    "idxs = np.random.choice(range(6144), ct_flip, replace=False)\n",
    "# for each of those indices in the query, invert them : 1->0 0->1\n",
    "q2[0,idxs] = 1- q2[0,idxs]\n",
    "# get the cosine similarity between the original query and the query \n",
    "# with inverted values\n",
    "thresh = cossim(q2.flatten(), query.flatten())\n",
    "print(f\"Thresh: {thresh}\")\n",
    "\n",
    "# the number of cosine similarities greater than this threhshold\n",
    "ct_greater = np.sum(cossims >= thresh)\n",
    "print(f\"Ct greater: {ct_greater}\")"
   ]
  },
  {
   "cell_type": "code",
   "execution_count": 28,
   "metadata": {},
   "outputs": [
    {
     "ename": "IndexError",
     "evalue": "index 5475 is out of bounds for axis 0 with size 1",
     "output_type": "error",
     "traceback": [
      "\u001b[0;31m---------------------------------------------------------------------------\u001b[0m",
      "\u001b[0;31mIndexError\u001b[0m                                Traceback (most recent call last)",
      "\u001b[0;32m/tmp/ipykernel_1661/85377003.py\u001b[0m in \u001b[0;36m<module>\u001b[0;34m\u001b[0m\n\u001b[1;32m      1\u001b[0m \u001b[0;32mfor\u001b[0m \u001b[0mi\u001b[0m \u001b[0;32min\u001b[0m \u001b[0mrange\u001b[0m\u001b[0;34m(\u001b[0m\u001b[0;36m10\u001b[0m\u001b[0;34m)\u001b[0m\u001b[0;34m:\u001b[0m\u001b[0;34m\u001b[0m\u001b[0;34m\u001b[0m\u001b[0m\n\u001b[1;32m      2\u001b[0m     \u001b[0mrd_idx\u001b[0m \u001b[0;34m=\u001b[0m \u001b[0mrandom\u001b[0m\u001b[0;34m.\u001b[0m\u001b[0mrandint\u001b[0m\u001b[0;34m(\u001b[0m\u001b[0;36m0\u001b[0m\u001b[0;34m,\u001b[0m \u001b[0;36m6143\u001b[0m\u001b[0;34m)\u001b[0m\u001b[0;34m\u001b[0m\u001b[0;34m\u001b[0m\u001b[0m\n\u001b[0;32m----> 3\u001b[0;31m     \u001b[0mquery\u001b[0m\u001b[0;34m[\u001b[0m\u001b[0mrd_idx\u001b[0m\u001b[0;34m]\u001b[0m \u001b[0;34m=\u001b[0m \u001b[0;32mnot\u001b[0m \u001b[0mquery\u001b[0m\u001b[0;34m[\u001b[0m\u001b[0mrd_idx\u001b[0m\u001b[0;34m]\u001b[0m\u001b[0;34m\u001b[0m\u001b[0;34m\u001b[0m\u001b[0m\n\u001b[0m\u001b[1;32m      4\u001b[0m \u001b[0mprint\u001b[0m\u001b[0;34m(\u001b[0m\u001b[0mnp\u001b[0m\u001b[0;34m.\u001b[0m\u001b[0mcos\u001b[0m\u001b[0;34m)\u001b[0m\u001b[0;34m\u001b[0m\u001b[0;34m\u001b[0m\u001b[0m\n",
      "\u001b[0;31mIndexError\u001b[0m: index 5475 is out of bounds for axis 0 with size 1"
     ]
    }
   ],
   "source": [
    "for i in range(10):\n",
    "    rd_idx = random.randint(0, 6143)\n",
    "    query[rd_idx] = not query[rd_idx]\n",
    "print(np.cos)"
   ]
  }
 ],
 "metadata": {
  "interpreter": {
   "hash": "d4d1e4263499bec80672ea0156c357c1ee493ec2b1c70f0acce89fc37c4a6abe"
  },
  "kernelspec": {
   "display_name": "Python 3.8.12 ('base')",
   "language": "python",
   "name": "python3"
  },
  "language_info": {
   "codemirror_mode": {
    "name": "ipython",
    "version": 3
   },
   "file_extension": ".py",
   "mimetype": "text/x-python",
   "name": "python",
   "nbconvert_exporter": "python",
   "pygments_lexer": "ipython3",
   "version": "3.8.12"
  },
  "orig_nbformat": 4
 },
 "nbformat": 4,
 "nbformat_minor": 2
}
