{
 "cells": [
  {
   "cell_type": "code",
   "execution_count": 2,
   "metadata": {},
   "outputs": [],
   "source": [
    "# 05/31/22\n",
    "\n",
    "import os, torch, torch.nn as nn, torch.utils as utils, tqdm, numpy as np, random"
   ]
  },
  {
   "cell_type": "code",
   "execution_count": 5,
   "metadata": {},
   "outputs": [
    {
     "name": "stdout",
     "output_type": "stream",
     "text": [
      "Num molecules to rank against: 9794\n"
     ]
    }
   ],
   "source": [
    "folder = \"../tempdata/new_split/train/fingerprint\"\n",
    "\n",
    "print(f\"Num molecules to rank against: {len(os.listdir(folder))}\")"
   ]
  },
  {
   "cell_type": "code",
   "execution_count": 6,
   "metadata": {},
   "outputs": [
    {
     "name": "stderr",
     "output_type": "stream",
     "text": [
      "100%|██████████| 9794/9794 [00:03<00:00, 2974.06it/s]\n"
     ]
    },
    {
     "name": "stdout",
     "output_type": "stream",
     "text": [
      "Done Loading\n"
     ]
    }
   ],
   "source": [
    "mols = []\n",
    "for f in tqdm.tqdm(os.listdir(folder)):\n",
    "    mols.append(np.load(os.path.join(folder, f)))\n",
    "print(f\"Done Loading\")\n",
    "ar = np.stack(mols)"
   ]
  },
  {
   "cell_type": "code",
   "execution_count": 13,
   "metadata": {},
   "outputs": [],
   "source": [
    "from numpy import dot\n",
    "from numpy.linalg import norm\n",
    "query = np.load(\"../tempdata/new_split/val/fingerprint/mol_6.npy\").reshape((1,-1))\n",
    "\n",
    "def cossim(a, b):\n",
    "    cos_sim = dot(a, b)/(norm(a)*norm(b))\n",
    "    return cos_sim\n",
    "dots = ar @ np.transpose(query)\n",
    "norm_q = norm(query)\n",
    "norm_ar = norm(ar, axis=1).reshape((-1, 1))"
   ]
  },
  {
   "cell_type": "code",
   "execution_count": 15,
   "metadata": {},
   "outputs": [
    {
     "name": "stdout",
     "output_type": "stream",
     "text": [
      "(9794, 1) 8.54400374531753 (9794, 1)\n"
     ]
    }
   ],
   "source": [
    "print(dots.shape, norm_q, norm_ar.shape)"
   ]
  },
  {
   "cell_type": "code",
   "execution_count": 16,
   "metadata": {},
   "outputs": [],
   "source": [
    "cossims = dots / norm_ar / norm_q"
   ]
  },
  {
   "cell_type": "code",
   "execution_count": 28,
   "metadata": {},
   "outputs": [
    {
     "name": "stdout",
     "output_type": "stream",
     "text": [
      "Thresh: 0.5171066305891537\n",
      "Ct greater: 3\n"
     ]
    }
   ],
   "source": [
    "q2 = np.copy(query)\n",
    "ct_flip = 500\n",
    "idxs = np.random.choice(range(6144), ct_flip, replace=False)\n",
    "q2[0,idxs] = 1- q2[0,idxs]\n",
    "thresh = cossim(q2.flatten(), query.flatten())\n",
    "print(f\"Thresh: {thresh}\")\n",
    "\n",
    "ct_greater = np.sum(cossims >= thresh)\n",
    "print(f\"Ct greater: {ct_greater}\")"
   ]
  },
  {
   "cell_type": "code",
   "execution_count": null,
   "metadata": {},
   "outputs": [],
   "source": [
    "for i in range(10):\n",
    "    rd_idx = random.randint(0, 6143)\n",
    "    query[rd_idx] = not query[rd_idx]\n",
    "print(np.cos)"
   ]
  }
 ],
 "metadata": {
  "interpreter": {
   "hash": "d4d1e4263499bec80672ea0156c357c1ee493ec2b1c70f0acce89fc37c4a6abe"
  },
  "kernelspec": {
   "display_name": "Python 3.8.12 ('base')",
   "language": "python",
   "name": "python3"
  },
  "language_info": {
   "codemirror_mode": {
    "name": "ipython",
    "version": 3
   },
   "file_extension": ".py",
   "mimetype": "text/x-python",
   "name": "python",
   "nbconvert_exporter": "python",
   "pygments_lexer": "ipython3",
   "version": "3.8.12"
  },
  "orig_nbformat": 4
 },
 "nbformat": 4,
 "nbformat_minor": 2
}
