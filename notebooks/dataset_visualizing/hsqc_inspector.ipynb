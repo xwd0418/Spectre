{
 "cells": [
  {
   "cell_type": "markdown",
   "metadata": {},
   "source": [
    "The purpose of this file is to inspect the HSQC to see if the positional encoding is working properly"
   ]
  },
  {
   "cell_type": "code",
   "execution_count": 2,
   "metadata": {},
   "outputs": [],
   "source": [
    "import os\n",
    "from matplotlib import pyplot as plt\n",
    "%matplotlib inline "
   ]
  },
  {
   "cell_type": "code",
   "execution_count": 3,
   "metadata": {},
   "outputs": [],
   "source": [
    "from datasets.hsqc_folder_dataset import FolderDataset\n",
    "from utils.ranker import RankingSet\n",
    "from models.compute_metrics import cm\n",
    "import encoder as p"
   ]
  },
  {
   "cell_type": "markdown",
   "metadata": {},
   "source": [
    "SignCoordinateEncoder"
   ]
  },
  {
   "cell_type": "code",
   "execution_count": 4,
   "metadata": {},
   "outputs": [],
   "source": [
    "path = \"/workspace/smart4.5/tempdata/bounded_hyun_fp_data/hsqc_ms_pairs\"\n",
    "val = FolderDataset(dir = path, split=\"val\", input_src=[\"HSQC\"])"
   ]
  },
  {
   "cell_type": "code",
   "execution_count": 5,
   "metadata": {},
   "outputs": [
    {
     "name": "stdout",
     "output_type": "stream",
     "text": [
      "torch.Size([24, 3]) torch.Size([6144])\n",
      "torch.Size([1, 24, 128])\n"
     ]
    }
   ],
   "source": [
    "hsqc, fp = val[0]\n",
    "hsqc, fp = hsqc.cuda(), fp.cuda()\n",
    "print(hsqc.size(), fp.size())\n",
    "ce = p.SignCoordinateEncoder(128, (50, 50, 28), wavelength_bounds=[(0.001, 300)]*2).cuda()\n",
    "res = ce(hsqc.unsqueeze(0))\n",
    "print(res.size())"
   ]
  },
  {
   "cell_type": "code",
   "execution_count": 6,
   "metadata": {},
   "outputs": [
    {
     "name": "stdout",
     "output_type": "stream",
     "text": [
      "input tensor([ 1.,  1.,  1.,  1., -1., -1.,  1., -1., -1.,  1.,  1.,  1., -1., -1.,\n",
      "        -1., -1.,  1.,  1.,  1., -1.,  1.,  1.,  1.,  1.], device='cuda:0')\n",
      "res tensor([1., 1., 1., 1., 0., 0., 1., 0., 0., 1., 1., 1., 0., 0., 0., 0., 1., 1.,\n",
      "        1., 0., 1., 1., 1., 1.], device='cuda:0')\n"
     ]
    },
    {
     "data": {
      "image/png": "[encoded data removed]",
      "text/plain": [
       "<Figure size 864x864 with 1 Axes>"
      ]
     },
     "metadata": {
      "needs_background": "light"
     },
     "output_type": "display_data"
    },
    {
     "ename": "",
     "evalue": "",
     "output_type": "error",
     "traceback": [
      "\u001b[1;31mThe Kernel crashed while executing code in the the current cell or a previous cell. Please review the code in the cell(s) to identify a possible cause of the failure. Click <a href='https://aka.ms/vscodeJupyterKernelCrash'>here</a> for more info. View Jupyter <a href='command:jupyter.viewOutput'>log</a> for further details."
     ]
    }
   ],
   "source": [
    "res_squeezed = res.squeeze(0)\n",
    "fig = plt.figure(figsize=(12,12))\n",
    "ax = fig.add_subplot(111)\n",
    "ax.set_xlabel(\"encoding dimension\")\n",
    "ax.set_ylabel(\"encoded value\")\n",
    "ax.imshow(res_squeezed.cpu(), cmap='hot')\n",
    "print(\"input\", hsqc[:,-1])\n",
    "print(\"res\", res_squeezed[:,-1])\n",
    "fig.show()"
   ]
  },
  {
   "cell_type": "code",
   "execution_count": null,
   "metadata": {},
   "outputs": [],
   "source": []
  }
 ],
 "metadata": {
  "kernelspec": {
   "display_name": "Python 3.8.12 ('base')",
   "language": "python",
   "name": "python3"
  },
  "language_info": {
   "codemirror_mode": {
    "name": "ipython",
    "version": 3
   },
   "file_extension": ".py",
   "mimetype": "text/x-python",
   "name": "python",
   "nbconvert_exporter": "python",
   "pygments_lexer": "ipython3",
   "version": "3.8.12"
  },
  "orig_nbformat": 4,
  "vscode": {
   "interpreter": {
    "hash": "d4d1e4263499bec80672ea0156c357c1ee493ec2b1c70f0acce89fc37c4a6abe"
   }
  }
 },
 "nbformat": 4,
 "nbformat_minor": 2
}
