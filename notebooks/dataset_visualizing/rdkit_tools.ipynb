{
 "cells": [
  {
   "cell_type": "code",
   "execution_count": 25,
   "metadata": {},
   "outputs": [],
   "source": [
    "from rdkit import Chem\n",
    "from rdkit.Chem import AllChem, Draw\n",
    "from rdkit.Chem.Draw import IPythonConsole\n",
    "IPythonConsole.ipython_useSVG=True"
   ]
  },
  {
   "cell_type": "markdown",
   "metadata": {},
   "source": [
    "Draw a Molecule"
   ]
  },
  {
   "cell_type": "code",
   "execution_count": 28,
   "metadata": {},
   "outputs": [
    {
     "data": {
      "image/png": "[encoded data removed]",
      "image/svg+xml": "<?xml version='1.0' encoding='iso-8859-1'?>\n<svg version='1.1' baseProfile='full'\n              xmlns='http://www.w3.org/2000/svg'\n                      xmlns:rdkit='http://www.rdkit.org/xml'\n                      xmlns:xlink='http://www.w3.org/1999/xlink'\n                  xml:space='preserve'\nwidth='450px' height='150px' viewBox='0 0 450 150'>\n<!-- END OF HEADER -->\n<rect style='opacity:1.0;fill:#FFFFFF;stroke:none' width='450.0' height='150.0' x='0.0' y='0.0'> </rect>\n<path class='bond-0 atom-0 atom-1' d='M 385.0,92.3 L 359.2,80.4' style='fill:none;fill-rule:evenodd;stroke:#0000FF;stroke-width:2.0px;stroke-linecap:butt;stroke-linejoin:miter;stroke-opacity:1' />\n<path class='bond-0 atom-0 atom-1' d='M 359.2,80.4 L 333.4,68.4' style='fill:none;fill-rule:evenodd;stroke:#000000;stroke-width:2.0px;stroke-linecap:butt;stroke-linejoin:miter;stroke-opacity:1' />\n<path class='bond-1 atom-1 atom-2' d='M 333.4,68.4 L 278.4,107.0' style='fill:none;fill-rule:evenodd;stroke:#000000;stroke-width:2.0px;stroke-linecap:butt;stroke-linejoin:miter;stroke-opacity:1' />\n<path class='bond-2 atom-2 atom-3' d='M 278.4,107.0 L 217.4,78.7' style='fill:none;fill-rule:evenodd;stroke:#000000;stroke-width:2.0px;stroke-linecap:butt;stroke-linejoin:miter;stroke-opacity:1' />\n<path class='bond-3 atom-3 atom-4' d='M 217.4,78.7 L 162.4,117.4' style='fill:none;fill-rule:evenodd;stroke:#000000;stroke-width:2.0px;stroke-linecap:butt;stroke-linejoin:miter;stroke-opacity:1' />\n<path class='bond-4 atom-4 atom-5' d='M 162.4,117.4 L 101.4,89.0' style='fill:none;fill-rule:evenodd;stroke:#000000;stroke-width:2.0px;stroke-linecap:butt;stroke-linejoin:miter;stroke-opacity:1' />\n<path class='bond-5 atom-5 atom-6' d='M 94.7,89.6 L 92.3,62.2' style='fill:none;fill-rule:evenodd;stroke:#000000;stroke-width:2.0px;stroke-linecap:butt;stroke-linejoin:miter;stroke-opacity:1' />\n<path class='bond-5 atom-5 atom-6' d='M 92.3,62.2 L 89.8,34.8' style='fill:none;fill-rule:evenodd;stroke:#FF0000;stroke-width:2.0px;stroke-linecap:butt;stroke-linejoin:miter;stroke-opacity:1' />\n<path class='bond-5 atom-5 atom-6' d='M 108.1,88.4 L 105.7,61.0' style='fill:none;fill-rule:evenodd;stroke:#000000;stroke-width:2.0px;stroke-linecap:butt;stroke-linejoin:miter;stroke-opacity:1' />\n<path class='bond-5 atom-5 atom-6' d='M 105.7,61.0 L 103.2,33.6' style='fill:none;fill-rule:evenodd;stroke:#FF0000;stroke-width:2.0px;stroke-linecap:butt;stroke-linejoin:miter;stroke-opacity:1' />\n<path class='bond-6 atom-5 atom-7' d='M 101.4,89.0 L 79.4,104.5' style='fill:none;fill-rule:evenodd;stroke:#000000;stroke-width:2.0px;stroke-linecap:butt;stroke-linejoin:miter;stroke-opacity:1' />\n<path class='bond-6 atom-5 atom-7' d='M 79.4,104.5 L 57.3,120.0' style='fill:none;fill-rule:evenodd;stroke:#FF0000;stroke-width:2.0px;stroke-linecap:butt;stroke-linejoin:miter;stroke-opacity:1' />\n<path class='atom-0' d='M 390.2 87.2\nL 396.5 97.3\nQ 397.1 98.3, 398.1 100.1\nQ 399.1 101.9, 399.1 102.0\nL 399.1 87.2\nL 401.7 87.2\nL 401.7 106.3\nL 399.0 106.3\nL 392.3 95.2\nQ 391.6 93.9, 390.7 92.5\nQ 389.9 91.0, 389.7 90.5\nL 389.7 106.3\nL 387.2 106.3\nL 387.2 87.2\nL 390.2 87.2\n' fill='#0000FF'/>\n<path class='atom-0' d='M 403.9 87.2\nL 406.5 87.2\nL 406.5 95.3\nL 416.2 95.3\nL 416.2 87.2\nL 418.8 87.2\nL 418.8 106.3\nL 416.2 106.3\nL 416.2 97.5\nL 406.5 97.5\nL 406.5 106.3\nL 403.9 106.3\nL 403.9 87.2\n' fill='#0000FF'/>\n<path class='atom-0' d='M 421.1 105.6\nQ 421.6 104.4, 422.7 103.7\nQ 423.8 103.1, 425.3 103.1\nQ 427.2 103.1, 428.3 104.1\nQ 429.3 105.1, 429.3 107.0\nQ 429.3 108.8, 427.9 110.6\nQ 426.6 112.3, 423.7 114.4\nL 429.5 114.4\nL 429.5 115.8\nL 421.1 115.8\nL 421.1 114.6\nQ 423.4 112.9, 424.8 111.7\nQ 426.2 110.4, 426.9 109.3\nQ 427.6 108.2, 427.6 107.0\nQ 427.6 105.8, 427.0 105.2\nQ 426.3 104.5, 425.3 104.5\nQ 424.3 104.5, 423.6 104.9\nQ 422.9 105.3, 422.5 106.2\nL 421.1 105.6\n' fill='#0000FF'/>\n<path class='atom-6' d='M 86.7 22.1\nQ 86.7 17.5, 89.0 15.0\nQ 91.2 12.4, 95.5 12.4\nQ 99.7 12.4, 101.9 15.0\nQ 104.2 17.5, 104.2 22.1\nQ 104.2 26.7, 101.9 29.4\nQ 99.6 32.0, 95.5 32.0\nQ 91.3 32.0, 89.0 29.4\nQ 86.7 26.7, 86.7 22.1\nM 95.5 29.8\nQ 98.4 29.8, 99.9 27.9\nQ 101.5 25.9, 101.5 22.1\nQ 101.5 18.4, 99.9 16.5\nQ 98.4 14.6, 95.5 14.6\nQ 92.6 14.6, 91.0 16.4\nQ 89.4 18.3, 89.4 22.1\nQ 89.4 25.9, 91.0 27.9\nQ 92.6 29.8, 95.5 29.8\n' fill='#FF0000'/>\n<path class='atom-7' d='M 20.5 118.3\nL 23.0 118.3\nL 23.0 126.3\nL 32.8 126.3\nL 32.8 118.3\nL 35.4 118.3\nL 35.4 137.3\nL 32.8 137.3\nL 32.8 128.5\nL 23.0 128.5\nL 23.0 137.3\nL 20.5 137.3\nL 20.5 118.3\n' fill='#FF0000'/>\n<path class='atom-7' d='M 37.6 127.7\nQ 37.6 123.1, 39.9 120.6\nQ 42.2 118.0, 46.4 118.0\nQ 50.6 118.0, 52.9 120.6\nQ 55.1 123.1, 55.1 127.7\nQ 55.1 132.3, 52.8 135.0\nQ 50.6 137.6, 46.4 137.6\nQ 42.2 137.6, 39.9 135.0\nQ 37.6 132.4, 37.6 127.7\nM 46.4 135.4\nQ 49.3 135.4, 50.8 133.5\nQ 52.4 131.5, 52.4 127.7\nQ 52.4 124.0, 50.8 122.1\nQ 49.3 120.2, 46.4 120.2\nQ 43.5 120.2, 41.9 122.1\nQ 40.3 124.0, 40.3 127.7\nQ 40.3 131.6, 41.9 133.5\nQ 43.5 135.4, 46.4 135.4\n' fill='#FF0000'/>\n</svg>\n",
      "text/html": [
       "<?xml version='1.0' encoding='iso-8859-1'?>\n",
       "<svg version='1.1' baseProfile='full'\n",
       "              xmlns='http://www.w3.org/2000/svg'\n",
       "                      xmlns:rdkit='http://www.rdkit.org/xml'\n",
       "                      xmlns:xlink='http://www.w3.org/1999/xlink'\n",
       "                  xml:space='preserve'\n",
       "width='450px' height='150px' viewBox='0 0 450 150'>\n",
       "<!-- END OF HEADER -->\n",
       "<rect style='opacity:1.0;fill:#FFFFFF;stroke:none' width='450.0' height='150.0' x='0.0' y='0.0'> </rect>\n",
       "<path class='bond-0 atom-0 atom-1' d='M 385.0,92.3 L 359.2,80.4' style='fill:none;fill-rule:evenodd;stroke:#0000FF;stroke-width:2.0px;stroke-linecap:butt;stroke-linejoin:miter;stroke-opacity:1' />\n",
       "<path class='bond-0 atom-0 atom-1' d='M 359.2,80.4 L 333.4,68.4' style='fill:none;fill-rule:evenodd;stroke:#000000;stroke-width:2.0px;stroke-linecap:butt;stroke-linejoin:miter;stroke-opacity:1' />\n",
       "<path class='bond-1 atom-1 atom-2' d='M 333.4,68.4 L 278.4,107.0' style='fill:none;fill-rule:evenodd;stroke:#000000;stroke-width:2.0px;stroke-linecap:butt;stroke-linejoin:miter;stroke-opacity:1' />\n",
       "<path class='bond-2 atom-2 atom-3' d='M 278.4,107.0 L 217.4,78.7' style='fill:none;fill-rule:evenodd;stroke:#000000;stroke-width:2.0px;stroke-linecap:butt;stroke-linejoin:miter;stroke-opacity:1' />\n",
       "<path class='bond-3 atom-3 atom-4' d='M 217.4,78.7 L 162.4,117.4' style='fill:none;fill-rule:evenodd;stroke:#000000;stroke-width:2.0px;stroke-linecap:butt;stroke-linejoin:miter;stroke-opacity:1' />\n",
       "<path class='bond-4 atom-4 atom-5' d='M 162.4,117.4 L 101.4,89.0' style='fill:none;fill-rule:evenodd;stroke:#000000;stroke-width:2.0px;stroke-linecap:butt;stroke-linejoin:miter;stroke-opacity:1' />\n",
       "<path class='bond-5 atom-5 atom-6' d='M 94.7,89.6 L 92.3,62.2' style='fill:none;fill-rule:evenodd;stroke:#000000;stroke-width:2.0px;stroke-linecap:butt;stroke-linejoin:miter;stroke-opacity:1' />\n",
       "<path class='bond-5 atom-5 atom-6' d='M 92.3,62.2 L 89.8,34.8' style='fill:none;fill-rule:evenodd;stroke:#FF0000;stroke-width:2.0px;stroke-linecap:butt;stroke-linejoin:miter;stroke-opacity:1' />\n",
       "<path class='bond-5 atom-5 atom-6' d='M 108.1,88.4 L 105.7,61.0' style='fill:none;fill-rule:evenodd;stroke:#000000;stroke-width:2.0px;stroke-linecap:butt;stroke-linejoin:miter;stroke-opacity:1' />\n",
       "<path class='bond-5 atom-5 atom-6' d='M 105.7,61.0 L 103.2,33.6' style='fill:none;fill-rule:evenodd;stroke:#FF0000;stroke-width:2.0px;stroke-linecap:butt;stroke-linejoin:miter;stroke-opacity:1' />\n",
       "<path class='bond-6 atom-5 atom-7' d='M 101.4,89.0 L 79.4,104.5' style='fill:none;fill-rule:evenodd;stroke:#000000;stroke-width:2.0px;stroke-linecap:butt;stroke-linejoin:miter;stroke-opacity:1' />\n",
       "<path class='bond-6 atom-5 atom-7' d='M 79.4,104.5 L 57.3,120.0' style='fill:none;fill-rule:evenodd;stroke:#FF0000;stroke-width:2.0px;stroke-linecap:butt;stroke-linejoin:miter;stroke-opacity:1' />\n",
       "<path class='atom-0' d='M 390.2 87.2\n",
       "L 396.5 97.3\n",
       "Q 397.1 98.3, 398.1 100.1\n",
       "Q 399.1 101.9, 399.1 102.0\n",
       "L 399.1 87.2\n",
       "L 401.7 87.2\n",
       "L 401.7 106.3\n",
       "L 399.0 106.3\n",
       "L 392.3 95.2\n",
       "Q 391.6 93.9, 390.7 92.5\n",
       "Q 389.9 91.0, 389.7 90.5\n",
       "L 389.7 106.3\n",
       "L 387.2 106.3\n",
       "L 387.2 87.2\n",
       "L 390.2 87.2\n",
       "' fill='#0000FF'/>\n",
       "<path class='atom-0' d='M 403.9 87.2\n",
       "L 406.5 87.2\n",
       "L 406.5 95.3\n",
       "L 416.2 95.3\n",
       "L 416.2 87.2\n",
       "L 418.8 87.2\n",
       "L 418.8 106.3\n",
       "L 416.2 106.3\n",
       "L 416.2 97.5\n",
       "L 406.5 97.5\n",
       "L 406.5 106.3\n",
       "L 403.9 106.3\n",
       "L 403.9 87.2\n",
       "' fill='#0000FF'/>\n",
       "<path class='atom-0' d='M 421.1 105.6\n",
       "Q 421.6 104.4, 422.7 103.7\n",
       "Q 423.8 103.1, 425.3 103.1\n",
       "Q 427.2 103.1, 428.3 104.1\n",
       "Q 429.3 105.1, 429.3 107.0\n",
       "Q 429.3 108.8, 427.9 110.6\n",
       "Q 426.6 112.3, 423.7 114.4\n",
       "L 429.5 114.4\n",
       "L 429.5 115.8\n",
       "L 421.1 115.8\n",
       "L 421.1 114.6\n",
       "Q 423.4 112.9, 424.8 111.7\n",
       "Q 426.2 110.4, 426.9 109.3\n",
       "Q 427.6 108.2, 427.6 107.0\n",
       "Q 427.6 105.8, 427.0 105.2\n",
       "Q 426.3 104.5, 425.3 104.5\n",
       "Q 424.3 104.5, 423.6 104.9\n",
       "Q 422.9 105.3, 422.5 106.2\n",
       "L 421.1 105.6\n",
       "' fill='#0000FF'/>\n",
       "<path class='atom-6' d='M 86.7 22.1\n",
       "Q 86.7 17.5, 89.0 15.0\n",
       "Q 91.2 12.4, 95.5 12.4\n",
       "Q 99.7 12.4, 101.9 15.0\n",
       "Q 104.2 17.5, 104.2 22.1\n",
       "Q 104.2 26.7, 101.9 29.4\n",
       "Q 99.6 32.0, 95.5 32.0\n",
       "Q 91.3 32.0, 89.0 29.4\n",
       "Q 86.7 26.7, 86.7 22.1\n",
       "M 95.5 29.8\n",
       "Q 98.4 29.8, 99.9 27.9\n",
       "Q 101.5 25.9, 101.5 22.1\n",
       "Q 101.5 18.4, 99.9 16.5\n",
       "Q 98.4 14.6, 95.5 14.6\n",
       "Q 92.6 14.6, 91.0 16.4\n",
       "Q 89.4 18.3, 89.4 22.1\n",
       "Q 89.4 25.9, 91.0 27.9\n",
       "Q 92.6 29.8, 95.5 29.8\n",
       "' fill='#FF0000'/>\n",
       "<path class='atom-7' d='M 20.5 118.3\n",
       "L 23.0 118.3\n",
       "L 23.0 126.3\n",
       "L 32.8 126.3\n",
       "L 32.8 118.3\n",
       "L 35.4 118.3\n",
       "L 35.4 137.3\n",
       "L 32.8 137.3\n",
       "L 32.8 128.5\n",
       "L 23.0 128.5\n",
       "L 23.0 137.3\n",
       "L 20.5 137.3\n",
       "L 20.5 118.3\n",
       "' fill='#FF0000'/>\n",
       "<path class='atom-7' d='M 37.6 127.7\n",
       "Q 37.6 123.1, 39.9 120.6\n",
       "Q 42.2 118.0, 46.4 118.0\n",
       "Q 50.6 118.0, 52.9 120.6\n",
       "Q 55.1 123.1, 55.1 127.7\n",
       "Q 55.1 132.3, 52.8 135.0\n",
       "Q 50.6 137.6, 46.4 137.6\n",
       "Q 42.2 137.6, 39.9 135.0\n",
       "Q 37.6 132.4, 37.6 127.7\n",
       "M 46.4 135.4\n",
       "Q 49.3 135.4, 50.8 133.5\n",
       "Q 52.4 131.5, 52.4 127.7\n",
       "Q 52.4 124.0, 50.8 122.1\n",
       "Q 49.3 120.2, 46.4 120.2\n",
       "Q 43.5 120.2, 41.9 122.1\n",
       "Q 40.3 124.0, 40.3 127.7\n",
       "Q 40.3 131.6, 41.9 133.5\n",
       "Q 43.5 135.4, 46.4 135.4\n",
       "' fill='#FF0000'/>\n",
       "</svg>\n"
      ],
      "text/plain": [
       "<rdkit.Chem.rdchem.Mol at 0x7f4522666fa0>"
      ]
     },
     "execution_count": 28,
     "metadata": {},
     "output_type": "execute_result"
    }
   ],
   "source": [
    "SMILES = \"C[C@H]1C/C=C/[C@H]2[C@@H]3O[C@]3(C)[C@@H](C)[C@H]3[C@H](Cc4ccccc4)NC(=O)[C@@]23OC(=O)O/C=C/[C@@](C)(O)C1=O\"\n",
    "mol = Chem.MolFromSmiles(SMILES)\n",
    "mol"
   ]
  },
  {
   "cell_type": "code",
   "execution_count": null,
   "metadata": {},
   "outputs": [],
   "source": []
  }
 ],
 "metadata": {
  "kernelspec": {
   "display_name": "Python 3.8.12 ('base')",
   "language": "python",
   "name": "python3"
  },
  "language_info": {
   "codemirror_mode": {
    "name": "ipython",
    "version": 3
   },
   "file_extension": ".py",
   "mimetype": "text/x-python",
   "name": "python",
   "nbconvert_exporter": "python",
   "pygments_lexer": "ipython3",
   "version": "3.8.12"
  },
  "orig_nbformat": 4,
  "vscode": {
   "interpreter": {
    "hash": "d4d1e4263499bec80672ea0156c357c1ee493ec2b1c70f0acce89fc37c4a6abe"
   }
  }
 },
 "nbformat": 4,
 "nbformat_minor": 2
}
