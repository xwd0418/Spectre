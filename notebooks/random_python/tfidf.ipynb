{
 "cells": [
  {
   "cell_type": "markdown",
   "metadata": {},
   "source": [
    "09/14/22 The purpose of this file is to see if weighting the ranking will perform better (like tfidf). "
   ]
  },
  {
   "cell_type": "code",
   "execution_count": 1,
   "metadata": {},
   "outputs": [],
   "source": [
    "import os\n",
    "from matplotlib import pyplot as plt\n",
    "%matplotlib inline \n",
    "os.chdir(\"../..\")\n",
    "from datasets.hsqc_folder_dataset import FolderDataset\n",
    "from models.compute_metrics import cm\n",
    "from models.ranked_transformer import HsqcRankedTransformer\n",
    "from models.ranked_double_transformer import DoubleTransformer\n",
    "from datasets.hsqc_folder_dataset import FolderDataModule\n",
    "import re"
   ]
  },
  {
   "cell_type": "code",
   "execution_count": 36,
   "metadata": {},
   "outputs": [],
   "source": [
    "import importlib\n",
    "import utils.ranker\n",
    "importlib.reload(utils.ranker)\n",
    "from utils.ranker import RankingSet"
   ]
  },
  {
   "cell_type": "code",
   "execution_count": 2,
   "metadata": {},
   "outputs": [],
   "source": [
    "path = \"/workspace/smart4.5/tempdata/hyun_fp_data/hsqc_ms_pairs\"\n",
    "train = FolderDataset(dir = path, split=\"train\", input_src=[\"HSQC\"])"
   ]
  },
  {
   "cell_type": "code",
   "execution_count": 3,
   "metadata": {},
   "outputs": [
    {
     "name": "stderr",
     "output_type": "stream",
     "text": [
      "100%|██████████| 9794/9794 [00:07<00:00, 1377.02it/s]\n"
     ]
    }
   ],
   "source": [
    "import torch\n",
    "from tqdm import tqdm\n",
    "def accumulate_fp(store,ds):\n",
    "    ds_len = len(ds)\n",
    "    for i in tqdm(range(ds_len)):\n",
    "        hsqc, fp = ds[i]\n",
    "        store[:] += fp\n",
    "base = torch.zeros(6144)\n",
    "accumulate_fp(base, train)"
   ]
  },
  {
   "cell_type": "code",
   "execution_count": 4,
   "metadata": {},
   "outputs": [
    {
     "data": {
      "text/plain": [
       "(array([3166.,  243.,   69.,  113.,  199.,    0.,    0.,    0.,    0.,\n",
       "        2354.]),\n",
       " array([1.02092905e-04, 1.00091882e-01, 2.00081676e-01, 3.00071478e-01,\n",
       "        4.00061250e-01, 5.00051022e-01, 6.00040853e-01, 7.00030625e-01,\n",
       "        8.00020397e-01, 9.00010228e-01, 1.00000000e+00], dtype=float32),\n",
       " <BarContainer object of 10 artists>)"
      ]
     },
     "execution_count": 4,
     "metadata": {},
     "output_type": "execute_result"
    },
    {
     "data": {
      "image/png": "[encoded data removed]",
      "text/plain": [
       "<Figure size 432x288 with 1 Axes>"
      ]
     },
     "metadata": {
      "needs_background": "light"
     },
     "output_type": "display_data"
    }
   ],
   "source": [
    "idf = 1/(base + 1)\n",
    "from matplotlib import pyplot as plt\n",
    "plt.hist(idf.numpy())"
   ]
  },
  {
   "cell_type": "code",
   "execution_count": 5,
   "metadata": {},
   "outputs": [
    {
     "name": "stdout",
     "output_type": "stream",
     "text": [
      "/data/smart4.5/pre_exp_v2/j1_both_pair_[09_07_2022_06:23]_[bs=128_epochs=300_lr=1e-05_hsqc_heads=8_hsqc_layers=8_ms_heads=8_ms_layers=8_dropout=0.3_fc_dim=256_hsqc_dim_coords=112,112,32_hsqc_dim_model=256_hsqc_dropout=0_hsqc_ff_dim=1024_hsqc_lr=0.001_hsqc_out_dim=6144]/checkpoints/epoch=299-step=23100.ckpt\n"
     ]
    }
   ],
   "source": [
    "folder = \"/data/smart4.5/pre_exp_v2/\"\n",
    "path = \"j1_both_pair_[09_07_2022_06:23]_[bs=128_epochs=300_lr=1e-05_hsqc_heads=8_hsqc_layers=8_ms_heads=8_ms_layers=8_dropout=0.3_fc_dim=256_hsqc_dim_coords=112,112,32_hsqc_dim_model=256_hsqc_dropout=0_hsqc_ff_dim=1024_hsqc_lr=0.001_hsqc_out_dim=6144]\"\n",
    "chkpt = next((f for f in os.listdir(os.path.join(folder, path, \"checkpoints\")) if re.search(\"epoch\", f)), None)\n",
    "full_path = os.path.join(folder, path, \"checkpoints\", chkpt) if chkpt is not None else None\n",
    "print(full_path)"
   ]
  },
  {
   "cell_type": "code",
   "execution_count": 37,
   "metadata": {},
   "outputs": [
    {
     "name": "stdout",
     "output_type": "stream",
     "text": [
      "True tensor([1.0000e+00, 3.3568e-04, 1.0000e+00,  ..., 4.0000e-02, 3.1250e-02,\n",
      "        2.1739e-02])\n"
     ]
    }
   ],
   "source": [
    "print(idf is not None, idf)\n",
    "ranker = RankingSet(file_path=\"./tempdata/hyun_pair_ranking_set_07_22/val_pair.pt\", idf_weights=idf)"
   ]
  },
  {
   "cell_type": "code",
   "execution_count": 19,
   "metadata": {},
   "outputs": [],
   "source": [
    "model = DoubleTransformer.load_from_checkpoint(full_path).cuda()\n",
    "model.eval()"
   ]
  },
  {
   "cell_type": "code",
   "execution_count": 21,
   "metadata": {},
   "outputs": [],
   "source": [
    "my_dir = f\"/workspace/smart4.5/tempdata/hyun_fp_data/hsqc_ms_pairs\"\n",
    "dm = FolderDataModule(dir=my_dir, do_hyun_fp=True, input_src=[\"HSQC\", \"MS\"], batch_size=128)\n",
    "dm.setup(\"fit\")\n",
    "val_dl = dm.val_dataloader()"
   ]
  },
  {
   "cell_type": "code",
   "execution_count": 40,
   "metadata": {},
   "outputs": [
    {
     "name": "stderr",
     "output_type": "stream",
     "text": [
      " 10%|█         | 1/10 [00:02<00:19,  2.19s/it]"
     ]
    },
    {
     "name": "stdout",
     "output_type": "stream",
     "text": [
      "torch.Size([128, 6144]) torch.Size([6144])\n"
     ]
    },
    {
     "name": "stderr",
     "output_type": "stream",
     "text": [
      " 20%|██        | 2/10 [00:03<00:11,  1.43s/it]"
     ]
    },
    {
     "name": "stdout",
     "output_type": "stream",
     "text": [
      "torch.Size([128, 6144]) torch.Size([6144])\n"
     ]
    },
    {
     "name": "stderr",
     "output_type": "stream",
     "text": [
      " 30%|███       | 3/10 [00:03<00:08,  1.19s/it]"
     ]
    },
    {
     "name": "stdout",
     "output_type": "stream",
     "text": [
      "torch.Size([128, 6144]) torch.Size([6144])\n"
     ]
    },
    {
     "name": "stderr",
     "output_type": "stream",
     "text": [
      " 40%|████      | 4/10 [00:04<00:05,  1.00it/s]"
     ]
    },
    {
     "name": "stdout",
     "output_type": "stream",
     "text": [
      "torch.Size([128, 6144]) torch.Size([6144])\n"
     ]
    },
    {
     "name": "stderr",
     "output_type": "stream",
     "text": [
      " 50%|█████     | 5/10 [00:05<00:04,  1.08it/s]"
     ]
    },
    {
     "name": "stdout",
     "output_type": "stream",
     "text": [
      "torch.Size([128, 6144]) torch.Size([6144])\n"
     ]
    },
    {
     "name": "stderr",
     "output_type": "stream",
     "text": [
      " 60%|██████    | 6/10 [00:05<00:03,  1.28it/s]"
     ]
    },
    {
     "name": "stdout",
     "output_type": "stream",
     "text": [
      "torch.Size([128, 6144]) torch.Size([6144])\n"
     ]
    },
    {
     "name": "stderr",
     "output_type": "stream",
     "text": [
      " 70%|███████   | 7/10 [00:06<00:02,  1.45it/s]"
     ]
    },
    {
     "name": "stdout",
     "output_type": "stream",
     "text": [
      "torch.Size([128, 6144]) torch.Size([6144])\n"
     ]
    },
    {
     "name": "stderr",
     "output_type": "stream",
     "text": [
      " 80%|████████  | 8/10 [00:07<00:01,  1.51it/s]"
     ]
    },
    {
     "name": "stdout",
     "output_type": "stream",
     "text": [
      "torch.Size([128, 6144]) torch.Size([6144])\n",
      "torch.Size([128, 6144]) torch.Size([6144])\n"
     ]
    },
    {
     "name": "stderr",
     "output_type": "stream",
     "text": [
      "100%|██████████| 10/10 [00:08<00:00,  1.65it/s]"
     ]
    },
    {
     "name": "stdout",
     "output_type": "stream",
     "text": [
      "torch.Size([72, 6144]) torch.Size([6144])\n"
     ]
    },
    {
     "name": "stderr",
     "output_type": "stream",
     "text": [
      "100%|██████████| 10/10 [00:08<00:00,  1.18it/s]\n"
     ]
    }
   ],
   "source": [
    "import tqdm\n",
    "ranks = []\n",
    "ranks_idf = []\n",
    "with torch.no_grad():\n",
    "  for batch in tqdm.tqdm(val_dl):\n",
    "    hsqc, ms, fp = batch\n",
    "    hsqc, ms, fp = hsqc.cuda(), ms.cuda(), fp.cuda()\n",
    "    out = torch.sigmoid(model.forward(hsqc, ms))\n",
    "    out = (out >= 0.5).type(torch.FloatTensor)\n",
    "\n",
    "    cts = [1, 5, 10]\n",
    "    rank_res = ranker.batched_rank(out, fp)\n",
    "    rank_res_idf = ranker.batched_rank_tfidf(out, fp)\n",
    "    ranks.append(rank_res.float().mean().item())\n",
    "    ranks_idf.append(rank_res_idf.float().mean().item())\n"
   ]
  },
  {
   "cell_type": "code",
   "execution_count": 42,
   "metadata": {},
   "outputs": [
    {
     "name": "stdout",
     "output_type": "stream",
     "text": [
      "mean_rank tensor(106.8411)\n",
      "ranks_idf tensor(239.6143)\n"
     ]
    }
   ],
   "source": [
    "print(\"mean_rank\", torch.mean(torch.tensor(ranks)))\n",
    "print(\"ranks_idf\", torch.mean(torch.tensor(ranks_idf)))"
   ]
  },
  {
   "cell_type": "code",
   "execution_count": null,
   "metadata": {},
   "outputs": [],
   "source": []
  }
 ],
 "metadata": {
  "kernelspec": {
   "display_name": "Python 3.8.12 ('base')",
   "language": "python",
   "name": "python3"
  },
  "language_info": {
   "codemirror_mode": {
    "name": "ipython",
    "version": 3
   },
   "file_extension": ".py",
   "mimetype": "text/x-python",
   "name": "python",
   "nbconvert_exporter": "python",
   "pygments_lexer": "ipython3",
   "version": "3.8.12"
  },
  "orig_nbformat": 4,
  "vscode": {
   "interpreter": {
    "hash": "d4d1e4263499bec80672ea0156c357c1ee493ec2b1c70f0acce89fc37c4a6abe"
   }
  }
 },
 "nbformat": 4,
 "nbformat_minor": 2
}
