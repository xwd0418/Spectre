{
 "cells": [
  {
   "cell_type": "markdown",
   "metadata": {},
   "source": [
    "09/14/22 The purpose of this file is to see if weighting the ranking will perform better (like tfidf). "
   ]
  },
  {
   "cell_type": "code",
   "execution_count": 1,
   "metadata": {},
   "outputs": [],
   "source": [
    "import os\n",
    "from matplotlib import pyplot as plt\n",
    "%matplotlib inline \n",
    "os.chdir(\"../..\")\n",
    "from datasets.hsqc_folder_dataset import FolderDataset\n",
    "from models.compute_metrics import cm\n",
    "from models.ranked_transformer import HsqcRankedTransformer\n",
    "from models.ranked_double_transformer import DoubleTransformer\n",
    "from datasets.hsqc_folder_dataset import FolderDataModule\n",
    "import re"
   ]
  },
  {
   "cell_type": "code",
   "execution_count": 3,
   "metadata": {},
   "outputs": [],
   "source": [
    "import importlib\n",
    "import utils.ranker\n",
    "importlib.reload(utils.ranker)\n",
    "importlib.reload(utils.subtracted_ranker)\n",
    "from utils.ranker import RankingSet\n",
    "from utils.subtracted_ranker import SubtractingRankingSet"
   ]
  },
  {
   "cell_type": "code",
   "execution_count": 5,
   "metadata": {},
   "outputs": [],
   "source": [
    "path = \"/workspace/Spectre/tempdata/hyun_fp_data/hsqc_ms_pairs\"\n",
    "train = FolderDataset(dir = path, split=\"train\", input_src=[\"HSQC\"])"
   ]
  },
  {
   "cell_type": "code",
   "execution_count": 6,
   "metadata": {},
   "outputs": [
    {
     "name": "stderr",
     "output_type": "stream",
     "text": [
      "100%|██████████| 9794/9794 [00:04<00:00, 1962.40it/s]\n"
     ]
    }
   ],
   "source": [
    "import torch\n",
    "from tqdm import tqdm\n",
    "def accumulate_fp(store,ds):\n",
    "    ds_len = len(ds)\n",
    "    for i in tqdm(range(ds_len)):\n",
    "        hsqc, fp = ds[i]\n",
    "        store[:] += fp\n",
    "base = torch.zeros(6144)\n",
    "accumulate_fp(base, train)"
   ]
  },
  {
   "cell_type": "code",
   "execution_count": 10,
   "metadata": {},
   "outputs": [
    {
     "data": {
      "image/png": "[encoded data removed]",
      "text/plain": [
       "<Figure size 432x288 with 1 Axes>"
      ]
     },
     "metadata": {
      "needs_background": "light"
     },
     "output_type": "display_data"
    },
    {
     "data": {
      "image/png": "[encoded data removed]",
      "text/plain": [
       "<Figure size 432x288 with 1 Axes>"
      ]
     },
     "metadata": {
      "needs_background": "light"
     },
     "output_type": "display_data"
    },
    {
     "data": {
      "image/png": "[encoded data removed]",
      "text/plain": [
       "<Figure size 432x288 with 1 Axes>"
      ]
     },
     "metadata": {
      "needs_background": "light"
     },
     "output_type": "display_data"
    },
    {
     "name": "stdout",
     "output_type": "stream",
     "text": [
      "False False False\n"
     ]
    }
   ],
   "source": [
    "idf = 1/(base + 1)\n",
    "log_idf = 1/torch.clamp(torch.log(base + 1 + 1e-6), min = 1, max = 100)\n",
    "sqrt_idf = 1/torch.sqrt(base + 1)\n",
    "avg_fp = base / len(train)\n",
    "\n",
    "from matplotlib import pyplot as plt\n",
    "plt.hist(idf.numpy())\n",
    "plt.show()\n",
    "plt.hist(log_idf.numpy())\n",
    "plt.show()\n",
    "plt.hist(sqrt_idf.numpy())\n",
    "plt.show()\n",
    "\n",
    "print(any(idf < 0), any(log_idf) < 0, any(sqrt_idf < 0))"
   ]
  },
  {
   "cell_type": "code",
   "execution_count": 22,
   "metadata": {},
   "outputs": [
    {
     "name": "stdout",
     "output_type": "stream",
     "text": [
      "/data/Spectre/pre_exp_v2/j2_hsqc_pre_[09_11_2022_10:32]_[bs=128_epochs=300_lr=0.0001_heads=8_layers=8_dim_coords=112,112,32_dim_model=256_dropout=0.3_ff_dim=256_out_dim=6144_pos_weight=1.0_wavelength_bounds=None_weight_decay=0.0]/checkpoints/epoch=298-step=233818.ckpt\n"
     ]
    }
   ],
   "source": [
    "import glob\n",
    "folder = \"/data/Spectre/pre_exp_v2/\"\n",
    "path = \"j2_hsqc_pre*\"\n",
    "globs = glob.glob(os.path.join(folder, path))\n",
    "assert(len(globs) == 1)\n",
    "chkpt = glob.glob(os.path.join(folder, path, \"checkpoints\", \"epoch=*\"))\n",
    "assert(len(globs) == 1)\n",
    "full_path = chkpt[0]\n",
    "print(full_path)"
   ]
  },
  {
   "cell_type": "code",
   "execution_count": 12,
   "metadata": {},
   "outputs": [
    {
     "name": "stdout",
     "output_type": "stream",
     "text": [
      "True tensor([1.0000e+00, 3.3568e-04, 1.0000e+00,  ..., 4.0000e-02, 3.1250e-02,\n",
      "        2.1739e-02])\n"
     ]
    }
   ],
   "source": [
    "print(idf is not None, idf)\n",
    "ranker = RankingSet(file_path=\"./tempdata/hyun_pair_ranking_set_07_22/val_pair.pt\", idf_weights=idf)\n",
    "ranker_log = RankingSet(file_path=\"./tempdata/hyun_pair_ranking_set_07_22/val_pair.pt\", idf_weights=log_idf)\n",
    "ranker_sqrt = RankingSet(file_path=\"./tempdata/hyun_pair_ranking_set_07_22/val_pair.pt\", idf_weights=sqrt_idf)\n",
    "ranker_sub = SubtractingRankingSet(file_path=\"./tempdata/hyun_pair_ranking_set_07_22/val_pair.pt\", idf_weights=avg_fp)"
   ]
  },
  {
   "cell_type": "code",
   "execution_count": 13,
   "metadata": {},
   "outputs": [
    {
     "data": {
      "text/plain": [
       "DoubleTransformer(\n",
       "  (hsqc): HsqcRankedTransformer(\n",
       "    (enc): CoordinateEncoder()\n",
       "    (fc): Linear(in_features=256, out_features=6144, bias=True)\n",
       "    (transformer_encoder): TransformerEncoder(\n",
       "      (layers): ModuleList(\n",
       "        (0): TransformerEncoderLayer(\n",
       "          (self_attn): MultiheadAttention(\n",
       "            (out_proj): NonDynamicallyQuantizableLinear(in_features=256, out_features=256, bias=True)\n",
       "          )\n",
       "          (linear1): Linear(in_features=256, out_features=1024, bias=True)\n",
       "          (dropout): Dropout(p=0, inplace=False)\n",
       "          (linear2): Linear(in_features=1024, out_features=256, bias=True)\n",
       "          (norm1): LayerNorm((256,), eps=1e-05, elementwise_affine=True)\n",
       "          (norm2): LayerNorm((256,), eps=1e-05, elementwise_affine=True)\n",
       "          (dropout1): Dropout(p=0, inplace=False)\n",
       "          (dropout2): Dropout(p=0, inplace=False)\n",
       "        )\n",
       "        (1): TransformerEncoderLayer(\n",
       "          (self_attn): MultiheadAttention(\n",
       "            (out_proj): NonDynamicallyQuantizableLinear(in_features=256, out_features=256, bias=True)\n",
       "          )\n",
       "          (linear1): Linear(in_features=256, out_features=1024, bias=True)\n",
       "          (dropout): Dropout(p=0, inplace=False)\n",
       "          (linear2): Linear(in_features=1024, out_features=256, bias=True)\n",
       "          (norm1): LayerNorm((256,), eps=1e-05, elementwise_affine=True)\n",
       "          (norm2): LayerNorm((256,), eps=1e-05, elementwise_affine=True)\n",
       "          (dropout1): Dropout(p=0, inplace=False)\n",
       "          (dropout2): Dropout(p=0, inplace=False)\n",
       "        )\n",
       "        (2): TransformerEncoderLayer(\n",
       "          (self_attn): MultiheadAttention(\n",
       "            (out_proj): NonDynamicallyQuantizableLinear(in_features=256, out_features=256, bias=True)\n",
       "          )\n",
       "          (linear1): Linear(in_features=256, out_features=1024, bias=True)\n",
       "          (dropout): Dropout(p=0, inplace=False)\n",
       "          (linear2): Linear(in_features=1024, out_features=256, bias=True)\n",
       "          (norm1): LayerNorm((256,), eps=1e-05, elementwise_affine=True)\n",
       "          (norm2): LayerNorm((256,), eps=1e-05, elementwise_affine=True)\n",
       "          (dropout1): Dropout(p=0, inplace=False)\n",
       "          (dropout2): Dropout(p=0, inplace=False)\n",
       "        )\n",
       "        (3): TransformerEncoderLayer(\n",
       "          (self_attn): MultiheadAttention(\n",
       "            (out_proj): NonDynamicallyQuantizableLinear(in_features=256, out_features=256, bias=True)\n",
       "          )\n",
       "          (linear1): Linear(in_features=256, out_features=1024, bias=True)\n",
       "          (dropout): Dropout(p=0, inplace=False)\n",
       "          (linear2): Linear(in_features=1024, out_features=256, bias=True)\n",
       "          (norm1): LayerNorm((256,), eps=1e-05, elementwise_affine=True)\n",
       "          (norm2): LayerNorm((256,), eps=1e-05, elementwise_affine=True)\n",
       "          (dropout1): Dropout(p=0, inplace=False)\n",
       "          (dropout2): Dropout(p=0, inplace=False)\n",
       "        )\n",
       "        (4): TransformerEncoderLayer(\n",
       "          (self_attn): MultiheadAttention(\n",
       "            (out_proj): NonDynamicallyQuantizableLinear(in_features=256, out_features=256, bias=True)\n",
       "          )\n",
       "          (linear1): Linear(in_features=256, out_features=1024, bias=True)\n",
       "          (dropout): Dropout(p=0, inplace=False)\n",
       "          (linear2): Linear(in_features=1024, out_features=256, bias=True)\n",
       "          (norm1): LayerNorm((256,), eps=1e-05, elementwise_affine=True)\n",
       "          (norm2): LayerNorm((256,), eps=1e-05, elementwise_affine=True)\n",
       "          (dropout1): Dropout(p=0, inplace=False)\n",
       "          (dropout2): Dropout(p=0, inplace=False)\n",
       "        )\n",
       "        (5): TransformerEncoderLayer(\n",
       "          (self_attn): MultiheadAttention(\n",
       "            (out_proj): NonDynamicallyQuantizableLinear(in_features=256, out_features=256, bias=True)\n",
       "          )\n",
       "          (linear1): Linear(in_features=256, out_features=1024, bias=True)\n",
       "          (dropout): Dropout(p=0, inplace=False)\n",
       "          (linear2): Linear(in_features=1024, out_features=256, bias=True)\n",
       "          (norm1): LayerNorm((256,), eps=1e-05, elementwise_affine=True)\n",
       "          (norm2): LayerNorm((256,), eps=1e-05, elementwise_affine=True)\n",
       "          (dropout1): Dropout(p=0, inplace=False)\n",
       "          (dropout2): Dropout(p=0, inplace=False)\n",
       "        )\n",
       "        (6): TransformerEncoderLayer(\n",
       "          (self_attn): MultiheadAttention(\n",
       "            (out_proj): NonDynamicallyQuantizableLinear(in_features=256, out_features=256, bias=True)\n",
       "          )\n",
       "          (linear1): Linear(in_features=256, out_features=1024, bias=True)\n",
       "          (dropout): Dropout(p=0, inplace=False)\n",
       "          (linear2): Linear(in_features=1024, out_features=256, bias=True)\n",
       "          (norm1): LayerNorm((256,), eps=1e-05, elementwise_affine=True)\n",
       "          (norm2): LayerNorm((256,), eps=1e-05, elementwise_affine=True)\n",
       "          (dropout1): Dropout(p=0, inplace=False)\n",
       "          (dropout2): Dropout(p=0, inplace=False)\n",
       "        )\n",
       "        (7): TransformerEncoderLayer(\n",
       "          (self_attn): MultiheadAttention(\n",
       "            (out_proj): NonDynamicallyQuantizableLinear(in_features=256, out_features=256, bias=True)\n",
       "          )\n",
       "          (linear1): Linear(in_features=256, out_features=1024, bias=True)\n",
       "          (dropout): Dropout(p=0, inplace=False)\n",
       "          (linear2): Linear(in_features=1024, out_features=256, bias=True)\n",
       "          (norm1): LayerNorm((256,), eps=1e-05, elementwise_affine=True)\n",
       "          (norm2): LayerNorm((256,), eps=1e-05, elementwise_affine=True)\n",
       "          (dropout1): Dropout(p=0, inplace=False)\n",
       "          (dropout2): Dropout(p=0, inplace=False)\n",
       "        )\n",
       "      )\n",
       "    )\n",
       "    (loss): BCEWithLogitsLoss()\n",
       "  )\n",
       "  (spec): HsqcRankedTransformer(\n",
       "    (enc): CoordinateEncoder()\n",
       "    (fc): Linear(in_features=256, out_features=6144, bias=True)\n",
       "    (transformer_encoder): TransformerEncoder(\n",
       "      (layers): ModuleList(\n",
       "        (0): TransformerEncoderLayer(\n",
       "          (self_attn): MultiheadAttention(\n",
       "            (out_proj): NonDynamicallyQuantizableLinear(in_features=256, out_features=256, bias=True)\n",
       "          )\n",
       "          (linear1): Linear(in_features=256, out_features=1024, bias=True)\n",
       "          (dropout): Dropout(p=0, inplace=False)\n",
       "          (linear2): Linear(in_features=1024, out_features=256, bias=True)\n",
       "          (norm1): LayerNorm((256,), eps=1e-05, elementwise_affine=True)\n",
       "          (norm2): LayerNorm((256,), eps=1e-05, elementwise_affine=True)\n",
       "          (dropout1): Dropout(p=0, inplace=False)\n",
       "          (dropout2): Dropout(p=0, inplace=False)\n",
       "        )\n",
       "        (1): TransformerEncoderLayer(\n",
       "          (self_attn): MultiheadAttention(\n",
       "            (out_proj): NonDynamicallyQuantizableLinear(in_features=256, out_features=256, bias=True)\n",
       "          )\n",
       "          (linear1): Linear(in_features=256, out_features=1024, bias=True)\n",
       "          (dropout): Dropout(p=0, inplace=False)\n",
       "          (linear2): Linear(in_features=1024, out_features=256, bias=True)\n",
       "          (norm1): LayerNorm((256,), eps=1e-05, elementwise_affine=True)\n",
       "          (norm2): LayerNorm((256,), eps=1e-05, elementwise_affine=True)\n",
       "          (dropout1): Dropout(p=0, inplace=False)\n",
       "          (dropout2): Dropout(p=0, inplace=False)\n",
       "        )\n",
       "        (2): TransformerEncoderLayer(\n",
       "          (self_attn): MultiheadAttention(\n",
       "            (out_proj): NonDynamicallyQuantizableLinear(in_features=256, out_features=256, bias=True)\n",
       "          )\n",
       "          (linear1): Linear(in_features=256, out_features=1024, bias=True)\n",
       "          (dropout): Dropout(p=0, inplace=False)\n",
       "          (linear2): Linear(in_features=1024, out_features=256, bias=True)\n",
       "          (norm1): LayerNorm((256,), eps=1e-05, elementwise_affine=True)\n",
       "          (norm2): LayerNorm((256,), eps=1e-05, elementwise_affine=True)\n",
       "          (dropout1): Dropout(p=0, inplace=False)\n",
       "          (dropout2): Dropout(p=0, inplace=False)\n",
       "        )\n",
       "        (3): TransformerEncoderLayer(\n",
       "          (self_attn): MultiheadAttention(\n",
       "            (out_proj): NonDynamicallyQuantizableLinear(in_features=256, out_features=256, bias=True)\n",
       "          )\n",
       "          (linear1): Linear(in_features=256, out_features=1024, bias=True)\n",
       "          (dropout): Dropout(p=0, inplace=False)\n",
       "          (linear2): Linear(in_features=1024, out_features=256, bias=True)\n",
       "          (norm1): LayerNorm((256,), eps=1e-05, elementwise_affine=True)\n",
       "          (norm2): LayerNorm((256,), eps=1e-05, elementwise_affine=True)\n",
       "          (dropout1): Dropout(p=0, inplace=False)\n",
       "          (dropout2): Dropout(p=0, inplace=False)\n",
       "        )\n",
       "        (4): TransformerEncoderLayer(\n",
       "          (self_attn): MultiheadAttention(\n",
       "            (out_proj): NonDynamicallyQuantizableLinear(in_features=256, out_features=256, bias=True)\n",
       "          )\n",
       "          (linear1): Linear(in_features=256, out_features=1024, bias=True)\n",
       "          (dropout): Dropout(p=0, inplace=False)\n",
       "          (linear2): Linear(in_features=1024, out_features=256, bias=True)\n",
       "          (norm1): LayerNorm((256,), eps=1e-05, elementwise_affine=True)\n",
       "          (norm2): LayerNorm((256,), eps=1e-05, elementwise_affine=True)\n",
       "          (dropout1): Dropout(p=0, inplace=False)\n",
       "          (dropout2): Dropout(p=0, inplace=False)\n",
       "        )\n",
       "        (5): TransformerEncoderLayer(\n",
       "          (self_attn): MultiheadAttention(\n",
       "            (out_proj): NonDynamicallyQuantizableLinear(in_features=256, out_features=256, bias=True)\n",
       "          )\n",
       "          (linear1): Linear(in_features=256, out_features=1024, bias=True)\n",
       "          (dropout): Dropout(p=0, inplace=False)\n",
       "          (linear2): Linear(in_features=1024, out_features=256, bias=True)\n",
       "          (norm1): LayerNorm((256,), eps=1e-05, elementwise_affine=True)\n",
       "          (norm2): LayerNorm((256,), eps=1e-05, elementwise_affine=True)\n",
       "          (dropout1): Dropout(p=0, inplace=False)\n",
       "          (dropout2): Dropout(p=0, inplace=False)\n",
       "        )\n",
       "        (6): TransformerEncoderLayer(\n",
       "          (self_attn): MultiheadAttention(\n",
       "            (out_proj): NonDynamicallyQuantizableLinear(in_features=256, out_features=256, bias=True)\n",
       "          )\n",
       "          (linear1): Linear(in_features=256, out_features=1024, bias=True)\n",
       "          (dropout): Dropout(p=0, inplace=False)\n",
       "          (linear2): Linear(in_features=1024, out_features=256, bias=True)\n",
       "          (norm1): LayerNorm((256,), eps=1e-05, elementwise_affine=True)\n",
       "          (norm2): LayerNorm((256,), eps=1e-05, elementwise_affine=True)\n",
       "          (dropout1): Dropout(p=0, inplace=False)\n",
       "          (dropout2): Dropout(p=0, inplace=False)\n",
       "        )\n",
       "        (7): TransformerEncoderLayer(\n",
       "          (self_attn): MultiheadAttention(\n",
       "            (out_proj): NonDynamicallyQuantizableLinear(in_features=256, out_features=256, bias=True)\n",
       "          )\n",
       "          (linear1): Linear(in_features=256, out_features=1024, bias=True)\n",
       "          (dropout): Dropout(p=0, inplace=False)\n",
       "          (linear2): Linear(in_features=1024, out_features=256, bias=True)\n",
       "          (norm1): LayerNorm((256,), eps=1e-05, elementwise_affine=True)\n",
       "          (norm2): LayerNorm((256,), eps=1e-05, elementwise_affine=True)\n",
       "          (dropout1): Dropout(p=0, inplace=False)\n",
       "          (dropout2): Dropout(p=0, inplace=False)\n",
       "        )\n",
       "      )\n",
       "    )\n",
       "    (loss): BCEWithLogitsLoss()\n",
       "  )\n",
       "  (fc): Sequential(\n",
       "    (0): Linear(in_features=512, out_features=256, bias=True)\n",
       "    (1): ReLU()\n",
       "    (2): Dropout(p=0.3, inplace=False)\n",
       "    (3): Linear(in_features=256, out_features=256, bias=True)\n",
       "    (4): ReLU()\n",
       "    (5): Dropout(p=0.3, inplace=False)\n",
       "    (6): Linear(in_features=256, out_features=256, bias=True)\n",
       "    (7): ReLU()\n",
       "    (8): Dropout(p=0.3, inplace=False)\n",
       "    (9): Linear(in_features=256, out_features=6144, bias=True)\n",
       "  )\n",
       "  (loss): BCEWithLogitsLoss()\n",
       ")"
      ]
     },
     "execution_count": 13,
     "metadata": {},
     "output_type": "execute_result"
    }
   ],
   "source": [
    "model = DoubleTransformer.load_from_checkpoint(full_path).cuda()\n",
    "model.eval()"
   ]
  },
  {
   "cell_type": "code",
   "execution_count": 14,
   "metadata": {},
   "outputs": [],
   "source": [
    "my_dir = f\"/workspace/Spectre/tempdata/hyun_fp_data/hsqc_ms_pairs\"\n",
    "dm = FolderDataModule(dir=my_dir, do_hyun_fp=True, input_src=[\"HSQC\", \"MS\"], batch_size=128)\n",
    "dm.setup(\"fit\")\n",
    "val_dl = dm.val_dataloader()"
   ]
  },
  {
   "cell_type": "code",
   "execution_count": 15,
   "metadata": {},
   "outputs": [
    {
     "name": "stderr",
     "output_type": "stream",
     "text": [
      "100%|██████████| 10/10 [00:18<00:00,  1.83s/it]\n"
     ]
    }
   ],
   "source": [
    "import tqdm\n",
    "ranks = []\n",
    "ranks_idf = []\n",
    "ranks_idf_log = []\n",
    "ranks_idf_sqrt = []\n",
    "ranks_idf_sub = []\n",
    "rankers = [\n",
    "  (ranker, \"default\", ranks_idf), \n",
    "  (ranker_log, \"log\", ranks_idf_log), \n",
    "  (ranker_sqrt, \"sqrt\", ranks_idf_sqrt),\n",
    "  (ranker_sub, \"sub\", ranks_idf_sub)\n",
    "]\n",
    "with torch.no_grad():\n",
    "  for batch in tqdm.tqdm(val_dl):\n",
    "    hsqc, ms, fp = batch\n",
    "    hsqc, ms, fp = hsqc.cuda(), ms.cuda(), fp.cuda()\n",
    "    out = torch.sigmoid(model.forward(hsqc, ms))\n",
    "    out = (out >= 0.5).type(torch.FloatTensor)\n",
    "\n",
    "    cts = [1, 5, 10]\n",
    "    rank_res = ranker.batched_rank(out, fp)\n",
    "    for r, name, li in rankers:\n",
    "      rank_res_idf = r.batched_rank_tfidf(out, fp)\n",
    "      li.append(rank_res_idf.float().mean().item())\n",
    "    ranks.append(rank_res.float().mean().item())"
   ]
  },
  {
   "cell_type": "code",
   "execution_count": 19,
   "metadata": {},
   "outputs": [
    {
     "name": "stdout",
     "output_type": "stream",
     "text": [
      "mean_rank tensor(109.5725)\n",
      "ranks_idf tensor(244.7964)\n",
      "ranks_log tensor(166.4336)\n",
      "ranks_sub tensor(297.8703)\n",
      "ranks_sqrt tensor(202.6117)\n"
     ]
    }
   ],
   "source": [
    "print(\"mean_rank\", torch.mean(torch.tensor(ranks)))\n",
    "print(\"ranks_idf\", torch.mean(torch.tensor(ranks_idf)))\n",
    "print(\"ranks_log\", torch.mean(torch.tensor(ranks_idf_log)))\n",
    "print(\"ranks_sub\", torch.mean(torch.tensor(ranks_idf_sub)))\n",
    "print(\"ranks_sqrt\", torch.mean(torch.tensor(ranks_idf_sqrt)))"
   ]
  },
  {
   "cell_type": "code",
   "execution_count": null,
   "metadata": {},
   "outputs": [],
   "source": []
  }
 ],
 "metadata": {
  "kernelspec": {
   "display_name": "Python 3.8.12 ('base')",
   "language": "python",
   "name": "python3"
  },
  "language_info": {
   "codemirror_mode": {
    "name": "ipython",
    "version": 3
   },
   "file_extension": ".py",
   "mimetype": "text/x-python",
   "name": "python",
   "nbconvert_exporter": "python",
   "pygments_lexer": "ipython3",
   "version": "3.8.12"
  },
  "orig_nbformat": 4,
  "vscode": {
   "interpreter": {
    "hash": "d4d1e4263499bec80672ea0156c357c1ee493ec2b1c70f0acce89fc37c4a6abe"
   }
  }
 },
 "nbformat": 4,
 "nbformat_minor": 2
}
