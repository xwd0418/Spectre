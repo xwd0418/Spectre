{
 "cells": [
  {
   "cell_type": "code",
   "execution_count": 2,
   "metadata": {},
   "outputs": [],
   "source": [
    "import torch, torch.nn as nn"
   ]
  },
  {
   "cell_type": "code",
   "execution_count": 14,
   "metadata": {},
   "outputs": [
    {
     "name": "stdout",
     "output_type": "stream",
     "text": [
      "computed [-0.0, 2.3025851249694824, -0.0]\n",
      "pytorch tensor([[-0.0000, 2.3026, -0.0000]])\n"
     ]
    }
   ],
   "source": [
    "bce = nn.BCELoss(reduction=\"none\")\n",
    "\n",
    "target = torch.tensor([[1, 1, 1]], dtype=torch.float)\n",
    "out = torch.tensor([[1, 0.1, 1]], dtype=torch.float)\n",
    "output = bce(out, target)\n",
    "\n",
    "# [y * log(x) + (1-y) * log(1-x)]\n",
    "for batch in zip(out, target):\n",
    "    x, y = batch\n",
    "    v = []\n",
    "    for bit_x, bit_y in zip(x, y):\n",
    "        v.append(-(torch.log(bit_x) if bit_y == 1 else torch.log(1 - bit_x)).item())\n",
    "    print(\"computed\", v)\n",
    "print(\"pytorch\", output)"
   ]
  },
  {
   "cell_type": "code",
   "execution_count": 18,
   "metadata": {},
   "outputs": [
    {
     "name": "stdout",
     "output_type": "stream",
     "text": [
      "[0.6346403360366821, 15.242937088012695, 2.126927614212036]\n",
      "tensor([[ 0.6346, 15.2429,  2.1269]])\n"
     ]
    }
   ],
   "source": [
    "p_w = 5.0\n",
    "sig = nn.Sigmoid()\n",
    "bce = nn.BCEWithLogitsLoss(reduction='none', pos_weight=torch.ones(3)*p_w)\n",
    "\n",
    "target = torch.tensor([[1, 1, 0]], dtype=torch.float)\n",
    "out = torch.tensor([[2.0, -3.0, 2.0]], dtype=torch.float)\n",
    "output = bce(out, target)\n",
    "\n",
    "for batch in zip(out, target):\n",
    "    x, y = batch\n",
    "    v = []\n",
    "    for bit_x, bit_y in zip(x, y):\n",
    "        v.append(-(p_w*torch.log(sig(bit_x)) if bit_y == 1 else torch.log(1 - sig(bit_x))).item())\n",
    "    print(v)\n",
    "print(output)"
   ]
  }
 ],
 "metadata": {
  "kernelspec": {
   "display_name": "Python 3.8.12 ('base')",
   "language": "python",
   "name": "python3"
  },
  "language_info": {
   "codemirror_mode": {
    "name": "ipython",
    "version": 3
   },
   "file_extension": ".py",
   "mimetype": "text/x-python",
   "name": "python",
   "nbconvert_exporter": "python",
   "pygments_lexer": "ipython3",
   "version": "3.8.12"
  },
  "orig_nbformat": 4,
  "vscode": {
   "interpreter": {
    "hash": "d4d1e4263499bec80672ea0156c357c1ee493ec2b1c70f0acce89fc37c4a6abe"
   }
  }
 },
 "nbformat": 4,
 "nbformat_minor": 2
}
