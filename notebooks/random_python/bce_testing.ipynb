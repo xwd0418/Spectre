{
 "cells": [
  {
   "cell_type": "code",
   "execution_count": 1,
   "metadata": {},
   "outputs": [],
   "source": [
    "import torch, torch.nn as nn"
   ]
  },
  {
   "cell_type": "code",
   "execution_count": 16,
   "metadata": {},
   "outputs": [
    {
     "name": "stdout",
     "output_type": "stream",
     "text": [
      "[tensor(0.), tensor(-2.3026), tensor(0.)]\n",
      "tensor([[-0.0000, 2.3026, -0.0000]])\n"
     ]
    }
   ],
   "source": [
    "bce = nn.BCELoss(reduce=False)\n",
    "\n",
    "target = torch.tensor([[1, 1, 1]], dtype=torch.float)\n",
    "out = torch.tensor([[1, 0.1, 1]], dtype=torch.float)\n",
    "output = bce(out, target)\n",
    "\n",
    "# [y * log(x) + (1-y) * log(1-x)]\n",
    "for batch in zip(out, target):\n",
    "    x, y = batch\n",
    "    v = []\n",
    "    for bit_x, bit_y in zip(x, y):\n",
    "        v += [torch.log(bit_x) if bit_y == 1 else torch.log(1 - bit_x)]\n",
    "    print(v)\n",
    "print(output)"
   ]
  }
 ],
 "metadata": {
  "kernelspec": {
   "display_name": "Python 3.8.12 ('base')",
   "language": "python",
   "name": "python3"
  },
  "language_info": {
   "codemirror_mode": {
    "name": "ipython",
    "version": 3
   },
   "file_extension": ".py",
   "mimetype": "text/x-python",
   "name": "python",
   "nbconvert_exporter": "python",
   "pygments_lexer": "ipython3",
   "version": "3.8.12"
  },
  "orig_nbformat": 4,
  "vscode": {
   "interpreter": {
    "hash": "d4d1e4263499bec80672ea0156c357c1ee493ec2b1c70f0acce89fc37c4a6abe"
   }
  }
 },
 "nbformat": 4,
 "nbformat_minor": 2
}
