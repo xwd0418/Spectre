{
 "cells": [
  {
   "cell_type": "code",
   "execution_count": 1,
   "metadata": {},
   "outputs": [],
   "source": [
    "import torch, torch.nn.functional as F, pickle, os\n",
    "os.chdir(\"../..\")\n",
    "from utils.ranker import RankingSet"
   ]
  },
  {
   "cell_type": "code",
   "execution_count": null,
   "metadata": {},
   "outputs": [],
   "source": [
    "# testing threshes\n",
    "v = torch.tensor([[1, 1, 1], [1, 2, 1], [2, 1, 2], [3, 2, 4]])\n",
    "threshes = torch.tensor([2, 2, 2])\n",
    "res = v >= threshes\n",
    "print(res)"
   ]
  },
  {
   "cell_type": "code",
   "execution_count": null,
   "metadata": {},
   "outputs": [],
   "source": [
    "data_store = torch.tensor([\n",
    "    [1, 1, 1, 1],\n",
    "    [1, 1, 1, 0],\n",
    "    [1, 1, 0, 0],\n",
    "    [1, 0, 1, 1],\n",
    "], dtype = torch.float)\n",
    "sample_label = torch.tensor([\n",
    "    [1, 0, 1, 1],\n",
    "], dtype = torch.float).cuda()\n",
    "sample_query = torch.tensor([\n",
    "    [1, 0, 0, 0],\n",
    "], dtype = torch.float).cuda()\n",
    "rs = RankingSet(store = data_store)\n",
    "v = rs.batched_rank(sample_query, sample_label)\n",
    "print(v)"
   ]
  },
  {
   "cell_type": "code",
   "execution_count": 13,
   "metadata": {},
   "outputs": [
    {
     "name": "stdout",
     "output_type": "stream",
     "text": [
      "4.0\n"
     ]
    }
   ],
   "source": [
    "lookup = \"../../tempdata/hyun_pair_ranking_set_07_22/fp_lookup.pkl\"\n",
    "with open(lookup, \"rb\") as f:\n",
    "    file = pickle.load(f)"
   ]
  },
  {
   "cell_type": "code",
   "execution_count": 23,
   "metadata": {},
   "outputs": [
    {
     "name": "stdout",
     "output_type": "stream",
     "text": [
      "tensor([7, 6, 5]) tensor([1, 0, 2])\n"
     ]
    }
   ],
   "source": [
    "# topk for retrieval\n",
    "val, idxs = torch.topk(torch.tensor([6, 7, 5, 4, 3, 2, 1]), 3)\n",
    "print(val, idxs)"
   ]
  },
  {
   "cell_type": "code",
   "execution_count": null,
   "metadata": {},
   "outputs": [],
   "source": []
  }
 ],
 "metadata": {
  "kernelspec": {
   "display_name": "Python 3.8.12 ('base')",
   "language": "python",
   "name": "python3"
  },
  "language_info": {
   "codemirror_mode": {
    "name": "ipython",
    "version": 3
   },
   "file_extension": ".py",
   "mimetype": "text/x-python",
   "name": "python",
   "nbconvert_exporter": "python",
   "pygments_lexer": "ipython3",
   "version": "3.8.12"
  },
  "orig_nbformat": 4,
  "vscode": {
   "interpreter": {
    "hash": "d4d1e4263499bec80672ea0156c357c1ee493ec2b1c70f0acce89fc37c4a6abe"
   }
  }
 },
 "nbformat": 4,
 "nbformat_minor": 2
}
