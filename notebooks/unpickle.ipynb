{
 "cells": [
  {
   "cell_type": "code",
   "execution_count": 95,
   "metadata": {},
   "outputs": [],
   "source": [
    "import os, json, numpy as np, pickle, rdkit, tqdm\n",
    "from rdkit import Chem\n",
    "from matplotlib import pyplot as plt\n"
   ]
  },
  {
   "cell_type": "code",
   "execution_count": 2,
   "metadata": {},
   "outputs": [],
   "source": [
    "!cp /data/data/colin_split_05_23_22.zip ../tempdata"
   ]
  },
  {
   "cell_type": "code",
   "execution_count": 3,
   "metadata": {},
   "outputs": [
    {
     "name": "stdout",
     "output_type": "stream",
     "text": [
      "Archive:  ../tempdata/colin_split_05_23_22.zip\n",
      "   creating: ../tempdata/data/\n",
      "   creating: ../tempdata/data/hsqc_ms_pairs/\n",
      "  inflating: ../tempdata/data/hsqc_ms_pairs/train.pkl  \n",
      "  inflating: ../tempdata/data/hsqc_ms_pairs/val.pkl  \n",
      "  inflating: ../tempdata/data/hsqc_ms_pairs/test.pkl  \n",
      "  inflating: ../tempdata/data/.DS_Store  \n",
      "   creating: ../tempdata/data/hsqc_pretrain/\n",
      "  inflating: ../tempdata/data/hsqc_pretrain/train.pkl  \n",
      "  inflating: ../tempdata/data/hsqc_pretrain/val.pkl  \n",
      "  inflating: ../tempdata/data/hsqc_pretrain/test.pkl  \n",
      "   creating: ../tempdata/data/ms_pretrain/\n",
      "  inflating: ../tempdata/data/ms_pretrain/train.pkl  \n",
      "  inflating: ../tempdata/data/ms_pretrain/val.pkl  \n",
      "  inflating: ../tempdata/data/ms_pretrain/test.pkl  \n"
     ]
    }
   ],
   "source": [
    "!unzip ../tempdata/colin_split_05_23_22.zip -d ../tempdata -q"
   ]
  },
  {
   "cell_type": "code",
   "execution_count": 81,
   "metadata": {},
   "outputs": [],
   "source": [
    "pairs = \"../tempdata/data\"\n",
    "dirs = [\"hsqc_ms_pairs\", \"hsqc_pretrain\"]\n",
    "dic = {}\n",
    "for dir in dirs:\n",
    "    path = os.path.join(pairs, dir)\n",
    "    for fi in os.listdir(path):\n",
    "        with open(f\"../tempdata/data/{dir}/{fi}\", \"rb\") as fp:\n",
    "            my_file = pickle.load(fp)\n",
    "        dic[f\"{dir}{fi}\"] = my_file"
   ]
  },
  {
   "cell_type": "code",
   "execution_count": 79,
   "metadata": {},
   "outputs": [
    {
     "name": "stdout",
     "output_type": "stream",
     "text": [
      "Nc1cc2nc3ccccc3oc2cc1=O Nc1cc2nc3ccccc3oc-2cc1=O\n"
     ]
    }
   ],
   "source": [
    "def get_canonical(smiles_orig):\n",
    "    mol = Chem.MolFromSmiles(smiles_orig)\n",
    "    smiles = Chem.MolToSmiles(mol, False) if mol is not None else None\n",
    "    return smiles\n",
    "example_sm = \"../tempdata/data/train/smiles/CCMSLIB00000079525.npy\"\n",
    "example_hsqc = \"../tempdata/data/train/HSQC_2ch/CCMSLIB00000079525.npy\"\n",
    "loaded_sm = str(np.load(example_sm))\n",
    "loaded_hsqc = np.load(example_hsqc)\n",
    "loaded_sm_canon = get_canonical(loaded_sm)\n",
    "print(loaded_sm, loaded_sm_canon)"
   ]
  },
  {
   "cell_type": "code",
   "execution_count": 82,
   "metadata": {},
   "outputs": [
    {
     "name": "stdout",
     "output_type": "stream",
     "text": [
      "Keys: dict_keys(['hsqc_ms_pairstrain.pkl', 'hsqc_ms_pairsval.pkl', 'hsqc_ms_pairstest.pkl', 'hsqc_pretraintrain.pkl', 'hsqc_pretrainval.pkl', 'hsqc_pretraintest.pkl'])\n",
      "=== hsqc_ms_pairstrain.pkl ===\n",
      "=== hsqc_ms_pairsval.pkl ===\n",
      "=== hsqc_ms_pairstest.pkl ===\n",
      "hsqc_ms_pairstest.pkl 8411\n",
      "=== hsqc_pretraintrain.pkl ===\n",
      "hsqc_pretraintrain.pkl 50197\n",
      "hsqc_pretraintrain.pkl 50198\n",
      "=== hsqc_pretrainval.pkl ===\n",
      "=== hsqc_pretraintest.pkl ===\n",
      "[2.26250000e+02 1.27500000e+01 3.63865375e+05] [-1.40350006e+02 -8.36666584e-01 -7.02454312e+05]\n"
     ]
    }
   ],
   "source": [
    "print(f\"Keys: {dic.keys()}\")\n",
    "keys = ['HSQC', 'MS', 'FP', 'SMILES', 'NAMES']\n",
    "my_max = [-np.inf, -np.inf, -np.inf]\n",
    "my_min = [np.inf, np.inf, np.inf]\n",
    "for k, v in dic.items():\n",
    "    print(f\"=== {k} ===\")\n",
    "    for k2, v2 in v.items():\n",
    "        maxes = np.max(v2[\"HSQC\"], axis=0)\n",
    "        mins = np.min(v2[\"HSQC\"], axis=0)\n",
    "        my_max = np.max(np.stack((my_max, maxes), axis=0), axis=0)\n",
    "        my_min = np.min(np.stack((my_min, mins), axis=0), axis=0)\n",
    "        if v2[\"SMILES\"] == loaded_sm_canon:\n",
    "            print(k, k2)\n",
    "        \n",
    "print(my_max, my_min)"
   ]
  },
  {
   "cell_type": "code",
   "execution_count": 59,
   "metadata": {},
   "outputs": [
    {
     "data": {
      "image/png": "[encoded data removed]",
      "text/plain": [
       "<Figure size 576x576 with 1 Axes>"
      ]
     },
     "metadata": {
      "needs_background": "light"
     },
     "output_type": "display_data"
    },
    {
     "name": "stdout",
     "output_type": "stream",
     "text": [
      "(array([55, 56, 61, 67, 69, 70]), array([58, 59, 43, 49, 45, 49]), array([0, 0, 0, 0, 0, 0]))\n"
     ]
    }
   ],
   "source": [
    "def plot(my_hsqc):\n",
    "    my_hsqc_2 = np.concatenate((my_hsqc, np.zeros((128, 128, 1))), axis=2)\n",
    "    my_hsqc_2[:,:,1] = my_hsqc_2[:,:,0]\n",
    "    my_hsqc_2[:,:,2] = my_hsqc_2[:,:,0]\n",
    "    fig, ax = plt.figure(figsize=(8, 8)), plt.axes()\n",
    "    ax = fig.axes[0]\n",
    "    ax.imshow(my_hsqc_2)\n",
    "    plt.show()\n",
    "    print(np.nonzero(my_hsqc))\n",
    "plot(loaded_hsqc)"
   ]
  },
  {
   "cell_type": "code",
   "execution_count": 94,
   "metadata": {},
   "outputs": [
    {
     "name": "stdout",
     "output_type": "stream",
     "text": [
      "['226.250000', '12.750000', '363865.375000'] ['-140.350000', '-0.837000', '-702454.312000']\n"
     ]
    },
    {
     "data": {
      "image/png": "[encoded data removed]",
      "text/plain": [
       "<Figure size 576x576 with 1 Axes>"
      ]
     },
     "metadata": {
      "needs_background": "light"
     },
     "output_type": "display_data"
    },
    {
     "name": "stdout",
     "output_type": "stream",
     "text": [
      "(array([85, 86, 90, 93, 94, 95]), array([69, 69, 82, 77, 81, 77]), array([0, 0, 0, 0, 0, 0]))\n"
     ]
    },
    {
     "data": {
      "image/png": "[encoded data removed]",
      "text/plain": [
       "<Figure size 576x576 with 1 Axes>"
      ]
     },
     "metadata": {
      "needs_background": "light"
     },
     "output_type": "display_data"
    },
    {
     "name": "stdout",
     "output_type": "stream",
     "text": [
      "(array([83, 85, 89, 93, 94, 94]), array([68, 68, 78, 77, 78, 80]), array([0, 0, 0, 0, 0, 0]))\n"
     ]
    },
    {
     "data": {
      "image/png": "[encoded data removed]",
      "text/plain": [
       "<Figure size 576x576 with 1 Axes>"
      ]
     },
     "metadata": {
      "needs_background": "light"
     },
     "output_type": "display_data"
    },
    {
     "name": "stdout",
     "output_type": "stream",
     "text": [
      "(array([83, 85, 89, 93, 94, 94]), array([68, 68, 78, 77, 78, 80]), array([0, 0, 0, 0, 0, 0]))\n"
     ]
    }
   ],
   "source": [
    "# test.pkl 8411\n",
    "# [2.10119995e+02 1.14187155e+01 1.62944672e+05] [-1.14399996e+01 -8.36666584e-01 -2.63618469e+05]\n",
    "hi, lo = my_max, my_min\n",
    "hi2, lo2 = np.round(hi, 3), np.round(lo, 3)\n",
    "print([f\"{v:2f}\" for v in hi2], [f\"{v:2f}\" for v in lo2])\n",
    "my_things = [(\"hsqc_pretraintrain.pkl\",50197), (\"hsqc_pretraintrain.pkl\",50198), (\"hsqc_ms_pairstest.pkl\",8411)]\n",
    "\n",
    "def process(my_hsqc):\n",
    "    new_hsqc = (my_hsqc - lo)/(hi - lo)*128\n",
    "    img = np.zeros((128, 128, 2))\n",
    "    for x,y,z in new_hsqc:\n",
    "        x,y = int(np.clip(np.round(x), 0, 127)), int(np.clip(np.round(y), 0, 127))\n",
    "        z = 0 if z >= 0 else 1\n",
    "        img[x,y,z] = 1\n",
    "    return img\n",
    "\n",
    "for k, id in my_things:\n",
    "    paired_sample = dic[k][id]\n",
    "    hsqc_img = process(paired_sample[\"HSQC\"])\n",
    "    plot(hsqc_img)"
   ]
  },
  {
   "cell_type": "code",
   "execution_count": 101,
   "metadata": {},
   "outputs": [
    {
     "name": "stderr",
     "output_type": "stream",
     "text": [
      "100%|██████████| 9794/9794 [00:12<00:00, 803.84it/s]\n",
      "100%|██████████| 1224/1224 [00:01<00:00, 804.90it/s]\n",
      "100%|██████████| 1224/1224 [00:01<00:00, 740.99it/s]\n"
     ]
    }
   ],
   "source": [
    "keys = [\"hsqc_ms_pairstrain.pkl\", \"hsqc_ms_pairsval.pkl\", \"hsqc_ms_pairstest.pkl\"]\n",
    "out_path = \"../tempdata/new_split\"\n",
    "outs = [\"train\", \"val\", \"test\"]\n",
    "dir_subnames = [\"HSQC_2ch\", \"mass_spec_scaled\", \"fingerprint\"]\n",
    "for k,o in zip(keys, outs):\n",
    "    items = dic[k]\n",
    "    join_path = os.path.join(out_path, o)\n",
    "    os.makedirs(join_path, exist_ok=True)\n",
    "    for subdir in dir_subnames:\n",
    "        os.makedirs(os.path.join(join_path, subdir), exist_ok=True)\n",
    "    for k2, v2 in tqdm.tqdm(items.items()):\n",
    "        name = f\"mol_{k2}.npy\"\n",
    "        hsqc = process(v2[\"HSQC\"])\n",
    "        ms = v2[\"MS\"]\n",
    "        fp = v2[\"FP\"]\n",
    "\n",
    "        np.save(os.path.join(join_path, \"HSQC_2ch\", name), hsqc)\n",
    "        np.save(os.path.join(join_path, \"mass_spec_scaled\", name), ms)\n",
    "        np.save(os.path.join(join_path, \"fingerprint\", name), fp)"
   ]
  },
  {
   "cell_type": "code",
   "execution_count": 100,
   "metadata": {},
   "outputs": [
    {
     "data": {
      "text/plain": [
       "(150, 2)"
      ]
     },
     "execution_count": 100,
     "metadata": {},
     "output_type": "execute_result"
    }
   ],
   "source": [
    "dic[\"hsqc_ms_pairstrain.pkl\"][0][\"MS\"].shape"
   ]
  }
 ],
 "metadata": {
  "interpreter": {
   "hash": "d4d1e4263499bec80672ea0156c357c1ee493ec2b1c70f0acce89fc37c4a6abe"
  },
  "kernelspec": {
   "display_name": "Python 3.8.12 ('base')",
   "language": "python",
   "name": "python3"
  },
  "language_info": {
   "codemirror_mode": {
    "name": "ipython",
    "version": 3
   },
   "file_extension": ".py",
   "mimetype": "text/x-python",
   "name": "python",
   "nbconvert_exporter": "python",
   "pygments_lexer": "ipython3",
   "version": "3.8.12"
  },
  "orig_nbformat": 4
 },
 "nbformat": 4,
 "nbformat_minor": 2
}
