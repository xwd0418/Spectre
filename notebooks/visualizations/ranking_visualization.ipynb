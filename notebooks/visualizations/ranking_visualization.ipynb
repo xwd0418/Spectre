{
 "cells": [
  {
   "cell_type": "markdown",
   "metadata": {},
   "source": [
    "The purpose of this file is to generate ranking visualizations with plotly/dash"
   ]
  },
  {
   "cell_type": "code",
   "execution_count": 1,
   "metadata": {},
   "outputs": [],
   "source": [
    "import os\n",
    "os.chdir(\"../..\")"
   ]
  },
  {
   "cell_type": "code",
   "execution_count": 2,
   "metadata": {},
   "outputs": [],
   "source": [
    "import torch, torch.nn as nn, torch.nn.functional as F\n",
    "import pytorch_lightning as pl\n",
    "import re, random\n",
    "from textwrap import wrap\n",
    "from matplotlib import pyplot as plt\n",
    "from models.ranked_transformer import HsqcRankedTransformer\n",
    "from models.ranked_double_transformer import DoubleTransformer\n",
    "from datasets.hsqc_folder_dataset import FolderDataModule\n",
    "from utils.ranker import RankingSet\n",
    "import glob\n",
    "\n",
    "from rdkit import Chem\n",
    "from rdkit.Chem import AllChem, Draw\n",
    "from rdkit.Chem.Draw import IPythonConsole, SimilarityMaps"
   ]
  },
  {
   "cell_type": "code",
   "execution_count": 3,
   "metadata": {},
   "outputs": [
    {
     "name": "stdout",
     "output_type": "stream",
     "text": [
      "/data/smart4.5/pre_exp_v2/j1_both_pair_[09_07_2022_06:23]_[bs=128_epochs=300_lr=1e-05_hsqc_heads=8_hsqc_layers=8_ms_heads=8_ms_layers=8_dropout=0.3_fc_dim=256_hsqc_dim_coords=112,112,32_hsqc_dim_model=256_hsqc_dropout=0_hsqc_ff_dim=1024_hsqc_lr=0.001_hsqc_out_dim=6144]/checkpoints/epoch=299-step=23100.ckpt\n"
     ]
    }
   ],
   "source": [
    "# model path\n",
    "folder = \"/data/smart4.5/pre_exp_v2\"\n",
    "path = \"j1_both_pair_*\"\n",
    "chkpt = glob.glob(os.path.join(folder, path, \"checkpoints\", \"epoch*\"))\n",
    "assert(len(chkpt) == 1)\n",
    "chkpt = chkpt[0]\n",
    "print(chkpt)"
   ]
  },
  {
   "cell_type": "code",
   "execution_count": 4,
   "metadata": {},
   "outputs": [],
   "source": [
    "ranks = \"/workspace/smart4.5/tempdata/hyun_pair_ranking_set_07_22/val_pair.pt\"\n",
    "lookup = \"/workspace/smart4.5/tempdata/hyun_pair_ranking_set_07_22/fp_lookup.pkl\"\n",
    "ranker = RankingSet(file_path=ranks, retrieve_path=lookup)"
   ]
  },
  {
   "cell_type": "code",
   "execution_count": 5,
   "metadata": {},
   "outputs": [],
   "source": [
    "model = DoubleTransformer.load_from_checkpoint(chkpt).cuda()\n",
    "model.eval()\n",
    "my_dir = f\"/workspace/smart4.5/tempdata/hyun_fp_data/hsqc_ms_pairs\"\n",
    "dm = FolderDataModule(dir=my_dir, do_hyun_fp=True, input_src=[\"HSQC\", \"MS\"], batch_size=64)\n",
    "dm.setup(\"fit\")\n",
    "val_dl = dm.val_dataloader()"
   ]
  },
  {
   "cell_type": "markdown",
   "metadata": {},
   "source": [
    "Choose samples to show"
   ]
  },
  {
   "cell_type": "code",
   "execution_count": 6,
   "metadata": {},
   "outputs": [],
   "source": [
    "num_samples = 10"
   ]
  },
  {
   "cell_type": "code",
   "execution_count": 7,
   "metadata": {},
   "outputs": [
    {
     "name": "stdout",
     "output_type": "stream",
     "text": [
      "[107, 548, 178, 834, 545, 220, 78, 776, 1098, 1151]\n"
     ]
    }
   ],
   "source": [
    "size_val = len(dm.val)\n",
    "import random\n",
    "random.seed(123)\n",
    "sample_idxs = random.sample(range(size_val), num_samples)\n",
    "print(sample_idxs)"
   ]
  },
  {
   "cell_type": "code",
   "execution_count": 8,
   "metadata": {},
   "outputs": [],
   "source": [
    "# extracting samples from the dataset\n",
    "def extract_sample(idx, src):\n",
    "    hsqc, ms, label = src[idx]\n",
    "    hsqc, ms, label = hsqc.cuda(), ms.cuda(), label.cuda()\n",
    "    out = model.forward(hsqc.unsqueeze(0), ms.unsqueeze(0))[0]\n",
    "    ds_out, ds_label = torch.sigmoid(out), label\n",
    "    ds_out = (ds_out >= 0.5).float()\n",
    "    return ds_out, ds_label\n",
    "def smiles_to_image(smiles):\n",
    "    mol = Chem.MolFromSmiles(smiles)\n",
    "    im = Chem.Draw.MolToImage(mol, size=(700,600))\n",
    "    return im\n",
    "from notebooks.dataset_building import fingerprint_utils\n",
    "def smiles_to_fp(smiles):\n",
    "    return fingerprint_utils.FP_generator(smiles, 2)"
   ]
  },
  {
   "cell_type": "code",
   "execution_count": 9,
   "metadata": {},
   "outputs": [],
   "source": [
    "def generate_retrieval_image(sample_idx):\n",
    "    ds_out, ds_label = extract_sample(sample_idx, dm.val)\n",
    "    nz_out, nz_label = ranker.normalized_to_nonzero(ds_out), ranker.normalized_to_nonzero(ds_label) # turn to tuple of nonzero indexes\n",
    "    similarity = F.cosine_similarity(ds_out.unsqueeze(0), ds_label.unsqueeze(0)) # cossine sim\n",
    "    original_smiles = ranker.lookup.get(nz_label, None)\n",
    "    single = list(original_smiles)[0] # \n",
    "    im = smiles_to_image(single) #\n",
    "    \n",
    "    results = ranker.retrieve(ds_out) # retrieves smiles strings\n",
    "    rank = ranker.batched_rank(ds_out.unsqueeze(0), ds_label.unsqueeze(0))[0].item() #\n",
    "    out_imgs = []\n",
    "    out_smiles = []\n",
    "    out_fps = []\n",
    "    for i, v in enumerate(results):\n",
    "        smiles = list(v)\n",
    "        images = [smiles_to_image(f) for f in smiles]\n",
    "        fps = [ranker.normalized_to_nonzero(torch.tensor(smiles_to_fp(f))) for f in smiles]\n",
    "        out_imgs.append(images)\n",
    "        out_smiles.append(smiles)\n",
    "        out_fps.append(fps)\n",
    "    return {\n",
    "        \"original_smiles\": list(original_smiles),\n",
    "        \"single_smiles\": single,\n",
    "        \"cossim\": similarity.item(),\n",
    "        \"out_fp\": nz_out,\n",
    "        \"label_fp\": nz_label,\n",
    "        \"rank\": rank,\n",
    "        \"base_image\": im, \n",
    "        \"imgs\": out_imgs,\n",
    "        \"smiles\": out_smiles,\n",
    "        \"fps\": out_fps,\n",
    "    }\n",
    "out_obj = {idx:generate_retrieval_image(idx) for idx in sample_idxs}"
   ]
  },
  {
   "cell_type": "code",
   "execution_count": 10,
   "metadata": {},
   "outputs": [],
   "source": [
    "# save obj\n",
    "import pickle, os\n",
    "out_path = \"/workspace/smart4.5/ignore\"\n",
    "file_name = \"dump.pkl\"\n",
    "os.makedirs(out_path, exist_ok=True)\n",
    "with open(os.path.join(out_path, file_name), \"wb\") as f:\n",
    "  pickle.dump(out_obj, f)"
   ]
  }
 ],
 "metadata": {
  "kernelspec": {
   "display_name": "Python 3.8.12 ('base')",
   "language": "python",
   "name": "python3"
  },
  "language_info": {
   "codemirror_mode": {
    "name": "ipython",
    "version": 3
   },
   "file_extension": ".py",
   "mimetype": "text/x-python",
   "name": "python",
   "nbconvert_exporter": "python",
   "pygments_lexer": "ipython3",
   "version": "3.8.12"
  },
  "orig_nbformat": 4,
  "vscode": {
   "interpreter": {
    "hash": "d4d1e4263499bec80672ea0156c357c1ee493ec2b1c70f0acce89fc37c4a6abe"
   }
  }
 },
 "nbformat": 4,
 "nbformat_minor": 2
}
