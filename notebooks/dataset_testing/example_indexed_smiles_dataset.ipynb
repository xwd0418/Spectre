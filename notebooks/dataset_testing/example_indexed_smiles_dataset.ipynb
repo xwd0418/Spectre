{
 "cells": [
  {
   "attachments": {},
   "cell_type": "markdown",
   "metadata": {},
   "source": [
    "### 02/08/2023\n",
    "\n",
    "This is a simple testing script to test the indexed dataset"
   ]
  },
  {
   "cell_type": "code",
   "execution_count": 1,
   "metadata": {},
   "outputs": [
    {
     "name": "stdout",
     "output_type": "stream",
     "text": [
      "['SMILES', 'Chemical', 'HSQC', 'HYUN_FP', 'R2-6144FP', 'MW']\n"
     ]
    }
   ],
   "source": [
    "from datasets.generic_index_dataset import GenericIndexedModule\n",
    "from datasets.dataset_utils import pad\n",
    "from models.identity_module import IdentityModule\n",
    "from pathlib import Path\n",
    "import os, pytorch_lightning as pl\n",
    "\n",
    "direct = Path(\"tempdata/SMILES_dataset\")\n",
    "print(os.listdir(direct / \"train\"))"
   ]
  },
  {
   "cell_type": "code",
   "execution_count": 2,
   "metadata": {},
   "outputs": [],
   "source": [
    "features = [\"HSQC\", \"HYUN_FP\"]\n",
    "feature_handlers = [pad, None]\n",
    "gim = GenericIndexedModule(direct, features, feature_handlers, len_override = 5)\n",
    "model = IdentityModule()"
   ]
  },
  {
   "cell_type": "code",
   "execution_count": 3,
   "metadata": {},
   "outputs": [
    {
     "name": "stderr",
     "output_type": "stream",
     "text": [
      "GPU available: True, used: True\n",
      "TPU available: False, using: 0 TPU cores\n",
      "IPU available: False, using: 0 IPUs\n",
      "HPU available: False, using: 0 HPUs\n",
      "LOCAL_RANK: 0 - CUDA_VISIBLE_DEVICES: [0]\n",
      "\n",
      "  | Name | Type   | Params\n",
      "--------------------------------\n",
      "0 | v    | Linear | 6     \n",
      "--------------------------------\n",
      "6         Trainable params\n",
      "0         Non-trainable params\n",
      "6         Total params\n",
      "0.000     Total estimated model params size (MB)\n"
     ]
    },
    {
     "name": "stdout",
     "output_type": "stream",
     "text": [
      "Sanity Checking DataLoader 0:   0%|          | 0/1 [00:02<?, ?it/s]\n",
      "------------------------------\n",
      "Val step with batch_idx 0\n",
      "                                                                           "
     ]
    },
    {
     "name": "stderr",
     "output_type": "stream",
     "text": [
      "/opt/conda/lib/python3.8/site-packages/pytorch_lightning/trainer/trainer.py:1927: PossibleUserWarning: The number of training batches (1) is smaller than the logging interval Trainer(log_every_n_steps=50). Set a lower value for log_every_n_steps if you want to see logs for the training epoch.\n",
      "  rank_zero_warn(\n"
     ]
    },
    {
     "name": "stdout",
     "output_type": "stream",
     "text": [
      "Epoch 0:   0%|          | 0/2 [00:00<?, ?it/s]\n",
      "------------------------------\n",
      "Train step with batch_idx 0\n",
      "Batch Length: 2\n",
      "\t['(tens: torch.Size([5, 21, 3]))', '(tens: torch.Size([5, 6144]))']\n",
      "\tself.device = cuda:0\n",
      "Epoch 0:  50%|█████     | 1/2 [00:06<00:06,  6.16s/it, loss=39.3, v_num=13]\n",
      "------------------------------\n",
      "Val step with batch_idx 0\n",
      "Epoch 1: 100%|██████████| 2/2 [00:08<00:00,  4.27s/it, loss=39.3, v_num=13]\n",
      "------------------------------\n",
      "Train step with batch_idx 0\n",
      "Batch Length: 2\n",
      "\t['(tens: torch.Size([5, 21, 3]))', '(tens: torch.Size([5, 6144]))']\n",
      "\tself.device = cuda:0\n",
      "Epoch 1:  50%|█████     | 1/2 [00:13<00:13, 13.16s/it, loss=-56.7, v_num=13]\n",
      "------------------------------\n",
      "Val step with batch_idx 0\n",
      "Epoch 1: 100%|██████████| 2/2 [00:17<00:00,  8.55s/it, loss=-56.7, v_num=13]\n"
     ]
    }
   ],
   "source": [
    "trainer = pl.Trainer(gpus=1, max_epochs=2)\n",
    "trainer.fit(model, gim)"
   ]
  }
 ],
 "metadata": {
  "kernelspec": {
   "display_name": "base",
   "language": "python",
   "name": "python3"
  },
  "language_info": {
   "codemirror_mode": {
    "name": "ipython",
    "version": 3
   },
   "file_extension": ".py",
   "mimetype": "text/x-python",
   "name": "python",
   "nbconvert_exporter": "python",
   "pygments_lexer": "ipython3",
   "version": "3.8.12"
  },
  "orig_nbformat": 4,
  "vscode": {
   "interpreter": {
    "hash": "d4d1e4263499bec80672ea0156c357c1ee493ec2b1c70f0acce89fc37c4a6abe"
   }
  }
 },
 "nbformat": 4,
 "nbformat_minor": 2
}
