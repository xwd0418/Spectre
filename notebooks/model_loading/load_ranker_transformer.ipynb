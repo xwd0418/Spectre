{
 "cells": [
  {
   "cell_type": "code",
   "execution_count": 1,
   "metadata": {},
   "outputs": [],
   "source": [
    "os.chdir(\"../..\")"
   ]
  },
  {
   "cell_type": "code",
   "execution_count": 2,
   "metadata": {},
   "outputs": [],
   "source": [
    "import torch, torch.nn as nn\n",
    "import pytorch_lightning as pl\n",
    "import os\n",
    "from models.ranked_transformer import HsqcRankedTransformer\n",
    "from datasets.hsqc_folder_dataset import FolderDataModule"
   ]
  },
  {
   "cell_type": "code",
   "execution_count": 6,
   "metadata": {},
   "outputs": [],
   "source": [
    "path = \"/data/smart4.5/summer_runs_pretrain/hsqc_pretrain_08_10_2022_00:35_epochs=200_bs=64/checkpoints/epoch=18-step=29697.ckpt\"\n",
    "model = HsqcRankedTransformer.load_from_checkpoint(path).cuda()\n",
    "my_dir = f\"/workspace/smart4.5/tempdata/hyun_fp_data/hsqc_ms_pairs\"\n",
    "dm = FolderDataModule(dir=my_dir, do_hyun_fp=True, input_src=[\"HSQC\"], batch_size=16)\n",
    "dm.setup(\"fit\")\n",
    "val_dl = dm.val_dataloader()"
   ]
  },
  {
   "cell_type": "code",
   "execution_count": 7,
   "metadata": {},
   "outputs": [
    {
     "name": "stdout",
     "output_type": "stream",
     "text": [
      "torch.Size([16, 49, 3]) torch.Size([16, 6144])\n",
      "torch.Size([16, 6144])\n"
     ]
    }
   ],
   "source": [
    "for idx, batch in enumerate(val_dl):\n",
    "    data, label = batch\n",
    "    data, label = data.cuda(), label.cuda()\n",
    "    out = model.forward(data)\n",
    "    print(data.size(), label.size())\n",
    "    print(out.size())\n",
    "    break"
   ]
  }
 ],
 "metadata": {
  "kernelspec": {
   "display_name": "Python 3.8.12 ('base')",
   "language": "python",
   "name": "python3"
  },
  "language_info": {
   "codemirror_mode": {
    "name": "ipython",
    "version": 3
   },
   "file_extension": ".py",
   "mimetype": "text/x-python",
   "name": "python",
   "nbconvert_exporter": "python",
   "pygments_lexer": "ipython3",
   "version": "3.8.12"
  },
  "orig_nbformat": 4,
  "vscode": {
   "interpreter": {
    "hash": "d4d1e4263499bec80672ea0156c357c1ee493ec2b1c70f0acce89fc37c4a6abe"
   }
  }
 },
 "nbformat": 4,
 "nbformat_minor": 2
}
