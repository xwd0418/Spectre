{
 "cells": [
  {
   "cell_type": "code",
   "execution_count": 1,
   "metadata": {},
   "outputs": [],
   "source": [
    "import os\n",
    "os.chdir(\"../..\")"
   ]
  },
  {
   "cell_type": "code",
   "execution_count": 2,
   "metadata": {},
   "outputs": [],
   "source": [
    "import torch, torch.nn as nn, torch.nn.functional as F\n",
    "import pytorch_lightning as pl\n",
    "import re, random\n",
    "from textwrap import wrap\n",
    "from matplotlib import pyplot as plt\n",
    "from models.ranked_transformer import HsqcRankedTransformer\n",
    "from models.ranked_double_transformer import DoubleTransformer\n",
    "from datasets.hsqc_folder_dataset import FolderDataModule\n",
    "from utils.ranker import RankingSet\n",
    "\n",
    "from rdkit import Chem\n",
    "from rdkit.Chem import AllChem, Draw\n",
    "from rdkit.Chem.Draw import IPythonConsole, SimilarityMaps"
   ]
  },
  {
   "cell_type": "code",
   "execution_count": 3,
   "metadata": {},
   "outputs": [
    {
     "name": "stdout",
     "output_type": "stream",
     "text": [
      "/data/smart4.5/pre_exp_v2/j1_both_pair_[09_07_2022_06:23]_[bs=128_epochs=300_lr=1e-05_hsqc_heads=8_hsqc_layers=8_ms_heads=8_ms_layers=8_dropout=0.3_fc_dim=256_hsqc_dim_coords=112,112,32_hsqc_dim_model=256_hsqc_dropout=0_hsqc_ff_dim=1024_hsqc_lr=0.001_hsqc_out_dim=6144]/checkpoints/epoch=299-step=23100.ckpt\n"
     ]
    }
   ],
   "source": [
    "# model path\n",
    "folder = \"/data/smart4.5/pre_exp_v2/\"\n",
    "path = \"j1_both_pair_[09_07_2022_06:23]_[bs=128_epochs=300_lr=1e-05_hsqc_heads=8_hsqc_layers=8_ms_heads=8_ms_layers=8_dropout=0.3_fc_dim=256_hsqc_dim_coords=112,112,32_hsqc_dim_model=256_hsqc_dropout=0_hsqc_ff_dim=1024_hsqc_lr=0.001_hsqc_out_dim=6144]\"\n",
    "chkpt = next((f for f in os.listdir(os.path.join(folder, path, \"checkpoints\")) if re.search(\"epoch\", f)), None)\n",
    "full_path = os.path.join(folder, path, \"checkpoints\", chkpt) if chkpt is not None else None\n",
    "print(full_path)"
   ]
  },
  {
   "cell_type": "code",
   "execution_count": 5,
   "metadata": {},
   "outputs": [],
   "source": [
    "# load model and data\n",
    "model = DoubleTransformer.load_from_checkpoint(full_path).cuda()\n",
    "model.eval()\n",
    "my_dir = f\"/workspace/smart4.5/tempdata/hyun_fp_data/hsqc_ms_pairs\"\n",
    "dm = FolderDataModule(dir=my_dir, do_hyun_fp=True, input_src=[\"HSQC\", \"MS\"], batch_size=64)\n",
    "dm.setup(\"fit\")\n",
    "val_dl = dm.val_dataloader()"
   ]
  },
  {
   "cell_type": "code",
   "execution_count": 6,
   "metadata": {},
   "outputs": [],
   "source": [
    "ranks = \"./tempdata/hyun_pair_ranking_set_07_22/val_pair.pt\"\n",
    "lookup = \"./tempdata/hyun_pair_ranking_set_07_22/fp_lookup.pkl\"\n",
    "ranker = RankingSet(file_path=ranks, retrieve_path=lookup)"
   ]
  },
  {
   "cell_type": "code",
   "execution_count": 7,
   "metadata": {},
   "outputs": [],
   "source": [
    "# extracting samples from the dataset\n",
    "def extract_sample(idx):\n",
    "    hsqc, ms, label = dm.train[idx]\n",
    "    hsqc, ms, label = hsqc.cuda(), ms.cuda(), label.cuda()\n",
    "    out = model.forward(hsqc.unsqueeze(0), ms.unsqueeze(0))[0]\n",
    "    ds_out, ds_label = torch.sigmoid(out), label\n",
    "    ds_out = (ds_out >= 0.5).float()\n",
    "    return ds_out, ds_label"
   ]
  },
  {
   "cell_type": "code",
   "execution_count": 8,
   "metadata": {},
   "outputs": [],
   "source": [
    "def molDiff(smiles1, smiles2):\n",
    "    mol_1 = Chem.MolFromSmiles(smiles1)\n",
    "    mol_2 = Chem.MolFromSmiles(smiles2)\n",
    "    return SimilarityMaps.GetSimilarityMapForFingerprint(mol_1, mol_2, SimilarityMaps.GetMorganFingerprint)"
   ]
  },
  {
   "cell_type": "code",
   "execution_count": 18,
   "metadata": {},
   "outputs": [],
   "source": [
    "def plot_smiles(smiles):\n",
    "    mol = Chem.MolFromSmiles(smiles)\n",
    "    im = Chem.Draw.MolToImage(mol, size=(700,600))\n",
    "    fig, axs = plt.subplots(1, 1, facecolor=\"white\")\n",
    "    axs.imshow(im)\n",
    "    axs.set_title(\"\\n\".join(wrap(smiles, width=35)))\n",
    "    display(fig)\n",
    "def smiles_to_image(smiles):\n",
    "    mol = Chem.MolFromSmiles(smiles)\n",
    "    im = Chem.Draw.MolToImage(mol, size=(700,600))\n",
    "    return im\n",
    "from notebooks.dataset_building import fingerprint_utils\n",
    "def smiles_to_fp(smiles):\n",
    "    return fingerprint_utils.FP_generator(smiles, 2)"
   ]
  },
  {
   "cell_type": "code",
   "execution_count": 25,
   "metadata": {},
   "outputs": [
    {
     "name": "stdout",
     "output_type": "stream",
     "text": [
      "{'out_fp': (650, 656, 695, 807, 1019, 1057, 1380, 1652, 1873, 2097, 2139, 2362, 2383, 2411, 2572, 2573, 2793, 3112, 3121, 3138, 3208, 3389, 3413, 3652, 3655, 3748, 3856, 3969, 4032, 4076, 4107, 4283, 4308, 4434, 4539, 4573, 4698, 4993, 5008, 5188, 5213, 5224, 5291, 5332, 5465, 5471, 5495, 5593, 5658, 5756, 5888, 6112), 'label_fp': (650, 656, 695, 807, 1019, 1057, 1380, 1652, 1873, 2086, 2097, 2139, 2193, 2250, 2362, 2381, 2383, 2411, 2572, 2573, 2793, 3112, 3121, 3138, 3167, 3174, 3208, 3389, 3413, 3433, 3652, 3655, 3748, 3856, 3932, 3965, 3969, 4032, 4076, 4308, 4316, 4370, 4390, 4434, 4448, 4484, 4539, 4573, 4656, 4692, 4697, 4698, 4993, 5008, 5053, 5188, 5211, 5213, 5224, 5291, 5332, 5465, 5471, 5593, 5629, 5658, 5732, 5756, 5962, 6071, 6112, 6116), 'cossim': 0.7844645380973816, 'original_smiles': ['CC1OC(Oc2c(-c3ccc(O)c(O)c3)oc3cc(O)cc(O)c3c2=O)C(O)C(OC(=O)c2cc(O)c(O)c(O)c2)C1O'], 'single_smiles': 'CC1OC(Oc2c(-c3ccc(O)c(O)c3)oc3cc(O)cc(O)c3c2=O)C(O)C(OC(=O)c2cc(O)c(O)c(O)c2)C1O', 'rank': 7, 'ranked_cts': [1, 1, 1, 1, 1, 1, 1, 1, 1, 1], 'ranked_smiles': [['CC1OC(Oc2c(-c3ccc(O)cc3)oc3cc(O)cc(O)c3c2=O)C(O)C(O)C1O'], ['O=C(O)C1OC(Oc2c(-c3ccc(O)cc3)oc3cc(O)cc(O)c3c2=O)C(O)C(O)C1O'], ['CC1OC(Oc2cc(O)c3c(=O)c(OC4OC(C)C(O)C(O)C4O)c(-c4ccc(O)c(O)c4)oc3c2)C(O)C(O)C1O'], ['CC(=O)OCC1OC(Oc2c(-c3ccc(O)c(O)c3)oc3cc(O)cc(O)c3c2=O)C(O)C(O)C1O'], ['CC1OC(OC2C(O)C(C)OC(OCC3OC(Oc4c(-c5ccc(O)cc5)oc5cc(O)cc(O)c5c4=O)C(O)C(O)C3O)C2O)C(O)C(O)C1O'], ['CC1OC(OCC2OC(Oc3c(-c4ccc(O)cc4)oc4cc(O)cc(O)c4c3=O)C(OC3OC(C)C(O)C(O)C3O)C(O)C2O)C(O)C(O)C1O'], ['COc1cc(-c2oc3cc(O)cc(O)c3c(=O)c2OC2OC(C(=O)O)C(O)C(O)C2O)ccc1O'], ['O=c1c(OC2OC(CO)C(O)C(O)C2O)c(-c2ccc(OC3OC(CO)C(O)C(O)C3O)c(O)c2)oc2cc(O)cc(O)c12'], ['COc1cc(-c2oc3cc(O)cc(O)c3c(=O)c2OC2OC(CO)C(O)C(O)C2OC2OC(C)C(O)C(O)C2O)ccc1O'], ['O=c1c(OC2OC(CO)C(O)C(O)C2O)c(-c2cc(O)c(O)c(O)c2)oc2cc(O)cc(O)c12']], 'ranked_fps': [[(650, 656, 695, 807, 1019, 1057, 1380, 1652, 1873, 2086, 2097, 2139, 2362, 2381, 2383, 2411, 2572, 2573, 2793, 3112, 3121, 3138, 3208, 3389, 3413, 3652, 3655, 3748, 3856, 3932, 3969, 4032, 4076, 4107, 4283, 4370, 4434, 4484, 4539, 4656, 4698, 4937, 4993, 5008, 5188, 5213, 5224, 5291, 5332, 5335, 5465, 5471, 5495, 5593, 5658, 5756, 5888, 6112)], [(650, 656, 695, 807, 1019, 1380, 1652, 1873, 2097, 2174, 2362, 2381, 2383, 2411, 2572, 2573, 2793, 3112, 3121, 3138, 3208, 3210, 3389, 3413, 3479, 3652, 3655, 3748, 3856, 3965, 3969, 4032, 4076, 4107, 4206, 4283, 4370, 4484, 4498, 4539, 4698, 4710, 4818, 4937, 4993, 5008, 5188, 5213, 5224, 5265, 5291, 5465, 5471, 5495, 5593, 5658, 5756, 5888, 6112)], [(650, 656, 695, 807, 1019, 1057, 1380, 1652, 1873, 2086, 2097, 2139, 2362, 2370, 2381, 2383, 2411, 2572, 2573, 3112, 3121, 3138, 3208, 3389, 3413, 3652, 3655, 3748, 3856, 3932, 3969, 4032, 4076, 4107, 4308, 4316, 4370, 4434, 4484, 4539, 4573, 4656, 4661, 4825, 4993, 5188, 5224, 5291, 5332, 5335, 5465, 5471, 5593, 5613, 5658, 5756, 5838, 5888, 5962, 6116)], [(80, 650, 656, 695, 807, 1019, 1057, 1380, 1652, 1873, 2097, 2139, 2195, 2205, 2320, 2333, 2362, 2381, 2383, 2411, 2572, 2573, 2793, 3083, 3112, 3121, 3138, 3196, 3208, 3389, 3413, 3652, 3655, 3748, 3856, 3965, 3969, 4032, 4076, 4107, 4308, 4316, 4370, 4421, 4484, 4539, 4573, 4698, 4716, 4781, 4993, 5008, 5171, 5188, 5213, 5224, 5291, 5465, 5471, 5521, 5563, 5593, 5600, 5658, 5756, 5888, 5962, 6112, 6116)], [(80, 650, 656, 695, 807, 1019, 1057, 1380, 1652, 1873, 2086, 2097, 2139, 2205, 2320, 2362, 2381, 2383, 2411, 2572, 2573, 2793, 2871, 3112, 3121, 3138, 3167, 3196, 3208, 3389, 3413, 3429, 3652, 3655, 3748, 3856, 3932, 3969, 4032, 4076, 4107, 4283, 4370, 4421, 4426, 4430, 4434, 4484, 4539, 4583, 4632, 4656, 4698, 4937, 4993, 5008, 5171, 5188, 5211, 5213, 5224, 5291, 5332, 5335, 5465, 5471, 5495, 5593, 5600, 5658, 5756, 5779, 5888, 6023, 6112)], [(80, 650, 656, 695, 807, 1019, 1057, 1380, 1652, 1873, 2086, 2097, 2139, 2205, 2320, 2362, 2381, 2383, 2411, 2572, 2573, 2793, 2871, 3112, 3121, 3138, 3167, 3196, 3208, 3389, 3413, 3429, 3652, 3655, 3748, 3856, 3932, 3969, 4032, 4076, 4107, 4238, 4283, 4421, 4426, 4430, 4434, 4484, 4539, 4583, 4632, 4656, 4698, 4937, 4948, 4993, 5008, 5171, 5188, 5213, 5224, 5291, 5332, 5335, 5376, 5465, 5471, 5495, 5593, 5600, 5658, 5756, 5779, 5888, 6112)], [(650, 656, 695, 807, 1019, 1057, 1380, 1652, 1873, 2097, 2139, 2174, 2362, 2381, 2383, 2411, 2572, 2573, 2793, 3112, 3121, 3138, 3208, 3210, 3389, 3413, 3479, 3584, 3652, 3655, 3748, 3805, 3856, 3965, 3969, 4018, 4032, 4076, 4107, 4206, 4257, 4316, 4370, 4484, 4498, 4539, 4573, 4595, 4606, 4698, 4710, 4818, 4993, 5008, 5188, 5213, 5224, 5265, 5291, 5450, 5465, 5471, 5586, 5593, 5658, 5756, 5888, 6112)], [(80, 650, 656, 695, 807, 1019, 1380, 1652, 1873, 2097, 2255, 2257, 2320, 2362, 2381, 2383, 2411, 2572, 2573, 2793, 3112, 3121, 3138, 3196, 3208, 3389, 3413, 3652, 3655, 3748, 3856, 3969, 4018, 4032, 4076, 4107, 4316, 4370, 4421, 4484, 4539, 4698, 4720, 4874, 4913, 4984, 4993, 5008, 5171, 5188, 5213, 5224, 5291, 5298, 5465, 5471, 5489, 5593, 5658, 5756, 5888, 6098, 6112, 6116)], [(80, 650, 656, 695, 807, 1019, 1057, 1380, 1652, 1873, 2086, 2097, 2139, 2255, 2257, 2320, 2362, 2381, 2383, 2411, 2572, 2573, 2793, 3112, 3121, 3138, 3167, 3196, 3208, 3389, 3413, 3429, 3584, 3652, 3655, 3748, 3805, 3856, 3932, 3969, 4018, 4032, 4076, 4107, 4238, 4257, 4316, 4421, 4426, 4434, 4484, 4539, 4573, 4595, 4606, 4632, 4656, 4698, 4720, 4913, 4948, 4993, 5008, 5171, 5188, 5213, 5224, 5291, 5332, 5335, 5376, 5450, 5465, 5471, 5586, 5593, 5658, 5756, 5888, 6098, 6112)], [(80, 650, 656, 695, 807, 1019, 1380, 1652, 1873, 2097, 2250, 2255, 2257, 2320, 2362, 2381, 2383, 2411, 2572, 2573, 2793, 3112, 3138, 3196, 3208, 3389, 3413, 3652, 3655, 3748, 3856, 3969, 4032, 4076, 4107, 4370, 4390, 4421, 4484, 4539, 4697, 4698, 4720, 4913, 4993, 5008, 5091, 5171, 5188, 5213, 5224, 5291, 5465, 5471, 5593, 5756, 5888, 6071, 6098, 6112, 6116)]]}\n"
     ]
    }
   ],
   "source": [
    "def generate_retrieval_image(sample_idx, out_folder):\n",
    "    ds_out, ds_label = extract_sample(sample_idx)\n",
    "    nz_out, nz_label = ranker.normalized_to_nonzero(ds_out), ranker.normalized_to_nonzero(ds_label) #\n",
    "    similarity = F.cosine_similarity(ds_out.unsqueeze(0), ds_label.unsqueeze(0))\n",
    "    original_smiles = ranker.lookup.get(nz_label, None)\n",
    "    single = list(original_smiles)[0] # \n",
    "    im = smiles_to_image(single) #\n",
    "    \n",
    "    results = ranker.retrieve(ds_out)\n",
    "    rank = ranker.batched_rank(ds_out.unsqueeze(0), ds_label.unsqueeze(0))[0].item() #\n",
    "    out_imgs = []\n",
    "    out_smiles = []\n",
    "    out_fps = []\n",
    "    for i, v in enumerate(results):\n",
    "        smiles= list(v)\n",
    "        images = [smiles_to_image(f) for f in smiles]\n",
    "        fps = [ranker.normalized_to_nonzero(torch.tensor(smiles_to_fp(f))) for f in smiles]\n",
    "        out_imgs.append(images)\n",
    "        out_smiles.append(smiles)\n",
    "        out_fps.append(fps)\n",
    "    \n",
    "    if not os.path.exists(out_folder):\n",
    "        os.makedirs(out_folder, exist_ok=True)\n",
    "    out_obj = {\n",
    "        \"out_fp\": nz_out,\n",
    "        \"label_fp\": nz_label,\n",
    "        \"cossim\": similarity.item(),\n",
    "        \"original_smiles\": list(original_smiles),\n",
    "        \"single_smiles\": single,\n",
    "        \"rank\": rank,\n",
    "        \"ranked_cts\": [len(v) for v in out_imgs],\n",
    "        \"ranked_smiles\": out_smiles,\n",
    "        \"ranked_fps\": out_fps\n",
    "    }\n",
    "    im.save(os.path.join(out_folder, \"img.png\"))\n",
    "    for i, v in enumerate(out_imgs):\n",
    "        for j, q in enumerate(v):\n",
    "            q.save(os.path.join(out_folder, f\"img_{i}_{j}.png\"))\n",
    "    import json\n",
    "    with open(os.path.join(out_folder, \"data.json\"), \"w\") as f:\n",
    "        json.dump(out_obj, f)\n",
    "generate_retrieval_image(2, \"/workspace/smart4.5/ignore/out\")"
   ]
  },
  {
   "cell_type": "code",
   "execution_count": null,
   "metadata": {},
   "outputs": [],
   "source": [
    "%matplotlib inline\n",
    "# visualizing label and retrieved molecules\n",
    "ds_out, ds_label = extract_sample(2)\n",
    "similarity = F.cosine_similarity(ds_out.unsqueeze(0), ds_label.unsqueeze(0))\n",
    "nz_pred, nz_label = ranker.normalized_to_nonzero(ds_out), ranker.normalized_to_nonzero(ds_label)\n",
    "\n",
    "original_smiles = ranker.lookup.get(nz_label, None)\n",
    "single = list(original_smiles)[0]\n",
    "\n",
    "results = ranker.retrieve(ds_out)\n",
    "rank = ranker.batched_rank(ds_out.unsqueeze(0), ds_label.unsqueeze(0))[0].item()\n",
    "print(\"Cossim of output and label\", similarity.item())\n",
    "print(\"Ground Truth:\", original_smiles)\n",
    "print(\"Rank:\", rank)\n",
    "\n",
    "plot_smiles(single)\n",
    "\n",
    "print(\"=== Retrieval ===\")\n",
    "for i, v in enumerate(results):\n",
    "    print(f\"*** Rank {i:3d} | {v} ***\")\n",
    "    first = list(v)[0]\n",
    "    plot_smiles(first)\n",
    "    \n",
    "    fig, sim = molDiff(list(original_smiles)[0], first)\n",
    "    display(fig)\n",
    "    print(\"*** ***\")"
   ]
  },
  {
   "cell_type": "code",
   "execution_count": null,
   "metadata": {},
   "outputs": [],
   "source": []
  }
 ],
 "metadata": {
  "kernelspec": {
   "display_name": "Python 3.8.12 ('base')",
   "language": "python",
   "name": "python3"
  },
  "language_info": {
   "codemirror_mode": {
    "name": "ipython",
    "version": 3
   },
   "file_extension": ".py",
   "mimetype": "text/x-python",
   "name": "python",
   "nbconvert_exporter": "python",
   "pygments_lexer": "ipython3",
   "version": "3.8.12"
  },
  "orig_nbformat": 4,
  "vscode": {
   "interpreter": {
    "hash": "d4d1e4263499bec80672ea0156c357c1ee493ec2b1c70f0acce89fc37c4a6abe"
   }
  }
 },
 "nbformat": 4,
 "nbformat_minor": 2
}
