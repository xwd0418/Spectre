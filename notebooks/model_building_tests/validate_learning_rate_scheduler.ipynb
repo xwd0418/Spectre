{
 "cells": [
  {
   "cell_type": "markdown",
   "metadata": {},
   "source": [
    "(09/11/22) The purpose of this file is to validate whether or not the Attention-Is-All-You-Need paper's learning rate scheduler is correct according to the formula (parsing tensorboard logs)"
   ]
  },
  {
   "cell_type": "code",
   "execution_count": 3,
   "metadata": {},
   "outputs": [],
   "source": [
    "import tensorboard as tb\n",
    "import tensorflow as tf\n",
    "from tensorflow.python.summary.summary_iterator import summary_iterator"
   ]
  },
  {
   "cell_type": "code",
   "execution_count": 13,
   "metadata": {},
   "outputs": [
    {
     "name": "stdout",
     "output_type": "stream",
     "text": [
      "[(49, 1.7119895346695557e-05), (99, 3.458917490206659e-05), (149, 5.205845809541643e-05), (199, 6.952774128876626e-05), (249, 8.699701720615849e-05), (299, 0.00010446630039950833), (349, 0.00012193558359285817), (399, 0.0001394048595102504), (449, 0.00015687414270360023), (499, 0.00017434342589695007), (549, 0.0001918127090902999), (599, 0.00020928199228364974), (649, 0.00022675127547699958), (699, 0.0002442205441184342), (749, 0.00026168982731178403)]\n"
     ]
    }
   ],
   "source": [
    "events = []\n",
    "for i, e in enumerate(summary_iterator(\"/data/smart4.5/debug/scheduler_5/events.out.tfevents.1662964631.j-pod-lightning.6132.0\")):\n",
    "    for v in e.summary.value:\n",
    "        if v.tag == 'lr-Adam':\n",
    "            events.append((e.step, v.simple_value))\n",
    "print(events)"
   ]
  },
  {
   "cell_type": "code",
   "execution_count": 29,
   "metadata": {},
   "outputs": [
    {
     "name": "stdout",
     "output_type": "stream",
     "text": [
      "step, computed, recorded\n",
      "49 1.7119895e-05 1.7119895e-05\n",
      "99 3.4589177e-05 3.4589175e-05\n",
      "149 5.2058458e-05 5.2058458e-05\n",
      "199 6.9527739e-05 6.9527741e-05\n",
      "249 8.699702e-05 8.6997017e-05\n",
      "299 0.000104466301 0.0001044663\n",
      "349 0.000121935582 0.000121935584\n",
      "399 0.000139404863 0.00013940486\n",
      "449 0.000156874144 0.000156874143\n",
      "499 0.000174343425 0.000174343426\n",
      "549 0.000191812706 0.000191812709\n",
      "599 0.000209281987 0.000209281992\n",
      "649 0.000226751268 0.000226751275\n",
      "699 0.000244220549 0.000244220544\n",
      "749 0.00026168983 0.000261689827\n"
     ]
    }
   ],
   "source": [
    "dim = 128\n",
    "wu = 4000\n",
    "def fn(step):\n",
    "    return dim ** (-0.5) * min(step ** (-0.5), step * wu ** (-1.5))\n",
    "print(\"step, computed, recorded\")\n",
    "for x, y in events:\n",
    "    print(x, round(fn(x), 12), round(y, 12))"
   ]
  },
  {
   "cell_type": "code",
   "execution_count": null,
   "metadata": {},
   "outputs": [],
   "source": []
  }
 ],
 "metadata": {
  "kernelspec": {
   "display_name": "Python 3.8.12 ('base')",
   "language": "python",
   "name": "python3"
  },
  "language_info": {
   "codemirror_mode": {
    "name": "ipython",
    "version": 3
   },
   "file_extension": ".py",
   "mimetype": "text/x-python",
   "name": "python",
   "nbconvert_exporter": "python",
   "pygments_lexer": "ipython3",
   "version": "3.8.12"
  },
  "orig_nbformat": 4,
  "vscode": {
   "interpreter": {
    "hash": "d4d1e4263499bec80672ea0156c357c1ee493ec2b1c70f0acce89fc37c4a6abe"
   }
  }
 },
 "nbformat": 4,
 "nbformat_minor": 2
}
