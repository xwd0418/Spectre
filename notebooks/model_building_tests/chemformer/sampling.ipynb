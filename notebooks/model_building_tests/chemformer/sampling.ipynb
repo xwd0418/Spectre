{
 "cells": [
  {
   "cell_type": "code",
   "execution_count": 1,
   "metadata": {},
   "outputs": [
    {
     "name": "stderr",
     "output_type": "stream",
     "text": [
      "/opt/conda/lib/python3.10/site-packages/tqdm/auto.py:22: TqdmWarning: IProgress not found. Please update jupyter and ipywidgets. See https://ipywidgets.readthedocs.io/en/stable/user_install.html\n",
      "  from .autonotebook import tqdm as notebook_tqdm\n"
     ]
    }
   ],
   "source": [
    "%load_ext autoreload\n",
    "%autoreload 2\n",
    "\n",
    "from models.ranked_transformer import Moonshot\n",
    "import torch, pytorch_lightning as pl"
   ]
  },
  {
   "cell_type": "code",
   "execution_count": 8,
   "metadata": {},
   "outputs": [
    {
     "name": "stderr",
     "output_type": "stream",
     "text": [
      "Initialized SignCoordinateEncoder[512] with dims [224, 224, 64] and 2 positional encoders. 64 bits are reserved for encoding the final bit\n"
     ]
    },
    {
     "name": "stdout",
     "output_type": "stream",
     "text": [
      "\n",
      "\n",
      "\n",
      "Ranked Transformer callin super\n"
     ]
    }
   ],
   "source": [
    "from models.chemformer.tokeniser import MolEncTokeniser\n",
    "from models.chemformer.utils import REGEX\n",
    "\n",
    "\n",
    "path = \"tempdata/chemformer/last.ckpt\"\n",
    "token_file = \"tempdata/chemformer/bart_vocab.txt\"\n",
    "\n",
    "tokeniser = MolEncTokeniser.from_vocab_file(\n",
    "  token_file, REGEX, 272\n",
    ")\n",
    "model = Moonshot.load_from_checkpoint(path, tokeniser=tokeniser).cuda()\n"
   ]
  },
  {
   "cell_type": "code",
   "execution_count": 9,
   "metadata": {},
   "outputs": [],
   "source": [
    "from utils.init_utils.data_init import data_mux\n",
    "\n",
    "\n",
    "feats = [\"HSQC\", \"SMILES\"]\n",
    "feat_handlers = [\"pad\", \"tokenise\"]\n",
    "ds_path = \"tempdata/SMILES_dataset/\"\n",
    "\n",
    "gim = data_mux(feats, feat_handlers, ds_path, token_file = token_file)"
   ]
  },
  {
   "cell_type": "code",
   "execution_count": 10,
   "metadata": {},
   "outputs": [],
   "source": [
    "gim.setup(\"fit\")\n",
    "val_dl = gim.val_dataloader()"
   ]
  },
  {
   "cell_type": "code",
   "execution_count": 11,
   "metadata": {},
   "outputs": [],
   "source": [
    "for batch in val_dl:\n",
    "  hsqc, collated_smiles = batch\n",
    "  hsqc = hsqc.cuda()\n",
    "  collated_smiles = {k:(v if type(v) is not torch.Tensor else v.cuda()) for k,v in collated_smiles.items()}\n",
    "  break"
   ]
  },
  {
   "cell_type": "code",
   "execution_count": 16,
   "metadata": {},
   "outputs": [
    {
     "name": "stdout",
     "output_type": "stream",
     "text": [
      "Max seq len: 512\n"
     ]
    },
    {
     "name": "stderr",
     "output_type": "stream",
     "text": [
      "100%|██████████| 511/511 [00:59<00:00,  8.60it/s]\n"
     ]
    }
   ],
   "source": [
    "out = model.sample_rdm(hsqc)"
   ]
  },
  {
   "cell_type": "code",
   "execution_count": 19,
   "metadata": {},
   "outputs": [],
   "source": [
    "raw = collated_smiles[\"raw_smiles\"]"
   ]
  },
  {
   "cell_type": "code",
   "execution_count": 20,
   "metadata": {},
   "outputs": [
    {
     "name": "stdout",
     "output_type": "stream",
     "text": [
      "c12cc(O)cc3c1C(N(C)CC3)Cc1ccc(O)c(O)c1-2.Br ^^^^^^^^^^^^^^^^^^^^^^^^^^^^^^^\n",
      "c12c(cc[nH]1)c(Br)cc(Br)c2 c1cccOCCOC(CNCC=CC=)()OC\n",
      "c1c2[nH]c3cnccc3c2cc(Br)c1 Oc1((BrOC(Cn=2CCC)(OC=C))O)\n",
      "c1c2cc[nH]c2ccc1Br Ccc))c)C)C=COCCCOCC)COCCCCCCC(C\n",
      "C(#CC#CC=CCO)C#C Cc21C((CC=1CC(#C=#(CCC=CCCC()O(C\n",
      "O=C1Cc2c(cccc2)C(C#CC#C)O1 O2C2O)C=(CCCN#CCO##)CCCCC##C(=\n",
      "C(CCC=CCCCCCCCCCC=CC(C#C)=O)CCCCCCCCC(C#CC#CCO)O 422c))OCC1COCC)CCOC#CCCCC\n",
      "C(C(C=CCCCCCCCCCCC=CC(C#C)=O)O)#C 4(C2cCCCCC1(cCCC=)CCCCCCCC#C(()(\n",
      "BrC(C1CC(O)C(CC2C(Br)CC(Br)C(CC)O2)O1)C#C 6(2cBrCCCO)OCCC(COCC=)COCCCCCcCCC\n",
      "C1(Br)C2(CCC(C(Br)CC)O2)OC2C1OC(C(Br)C#C)C2 OCCc()))CC)CCCCCC)C=#=(C(C=CCO=C\n",
      "c1c2c(ccc1)cc(C(C#C)C)oc2=O c12cBrc(#CC=C1CCO=CCC(CC\n",
      "C(CCCCC(=O)CCCCCC=CC(O)CCCCCCCCCCCCC(C(O)C(O)C#CC(O)=O)O)#CC(O)C#CC(O)C(CCCC(C=CC(O)C#C)O)O 2C\n",
      "C(#CC(O)C(O)CCCC(C=CC(C#C)O)O)C(C#CCCCCC(CCCCCC=CC(CCCCCCCCCCCCCC(O)C(O)C#CC(O)=O)O)=O)O 1(Ccc)(C)C\n",
      "C(C#C)(C=CC(CCCCCCCCCCCC=CCCCCCCCCC(O)C=CC(C#C)O)O)O cCc[nH]c\n",
      "C(CCCC(O)C=CC(C#C)O)CCCCCCCCC=CCCCCCCCCC(O)C=CC(C#C)O 1cO2\n",
      "OC(CCCC#CC=CC=CCCCCC=CC(O)C#C)C=C ))cCOcCC=(\n",
      "OC(C=CCCCCCCC#CC(C=CC(O)C#CCCCCCCC=CC(C#C)OC(C)=O)O)C#C \n",
      "C(CCCCCC#CCC=CCC=CCCCCCCCCC(O)C#C)C=CC(O)C#C ccc41)C#c=O#)CC(CC\n",
      "C(CCCCC(O)C#C)CCCC=CCC=CCC#CCCCCCCC=CC(C#C)O cC1cc(CC=)cCCCCC#CC\n",
      "OC(C=CCCCCCCC#CCCCC#CCCCCCCCCCC(O)C#C)C#C ccCcO1CC1((CCCC2CC)OC)CCC)CCC=2#\n",
      "C(=CCCCCCCC(=O)OC)C(O)C#C cC(3cO=C1CcOCCC)CC)CC=CCC#(#CCC#\n",
      "C(CCCCCC=CC(O)C#C)CCCC#CCCCCCCCCCCCCC=CC#CC(=O)O 3(cCC1C\n",
      "C(CCCCCC=CC#CC(O)=O)CCCCCCC#CCCCCCCCCCC=CC(C#C)O cc(3c21BrCOC(CCCOC#cC#=CCOC#)CC)C\n",
      "C(CCCCC=CC(C#C)O)CCCCC=CCCCCCCCCCC=CC(O)C#C cC(OOcC\n",
      "C(C=CCCCCCCCCCC=CC(O)C#C)CCCCCCCCC=CC(C#C)O 2cc(O)COO==C=CC=CC#C)\n",
      "C(CCCCCCCCCC=CCCCCCCCCCC=CC(O)C#C)=CC(O)C#C 121cCCCCCC)CC#C=C)C=CC(CCOCCOC()\n",
      "C(CCCCCCCCCC=CC(C#C)O)C(CCCCCCCCCCCC(O)C#CC#CCO)=O )CCc1OCCC2cCCC)1#1#CCOCC(#C))COC\n",
      "C(=CC(C#C)O)CCCCCCCCCCC=CC(O)C#C cc(c=OC)Cc[nH]#(CC1CCC(\n",
      "C(CCCCCCC(C)C)CCCCCCCCC(C#C)O cccn)(cCO)nCC#CCCCCCC=OC)(C#CCCC\n",
      "OC(C#C)C=CCCCCCCC=CCCCCC#CC(O)C#CC=CCCC=CC(C=CC#C)CCCCCCCCCCCCC COCcC\n",
      "C(CCCCCCCC)CCCCCCCCC(=O)OC1CC2OC1C(C(OCC(CO)O)=O)C2C(O)C=CC#C 1()CC(COCC)CCO#CC)OC##CCC=CCC(N)\n",
      "OC(CCCCCCCCC(C)CCCCCCCCCCCC=CC(O)C#C)C=CC#C cc\n"
     ]
    }
   ],
   "source": [
    "for r, o in zip(raw, out):\n",
    "  print(r, o)"
   ]
  }
 ],
 "metadata": {
  "kernelspec": {
   "display_name": "base",
   "language": "python",
   "name": "python3"
  },
  "language_info": {
   "codemirror_mode": {
    "name": "ipython",
    "version": 3
   },
   "file_extension": ".py",
   "mimetype": "text/x-python",
   "name": "python",
   "nbconvert_exporter": "python",
   "pygments_lexer": "ipython3",
   "version": "3.10.8"
  },
  "orig_nbformat": 4
 },
 "nbformat": 4,
 "nbformat_minor": 2
}
