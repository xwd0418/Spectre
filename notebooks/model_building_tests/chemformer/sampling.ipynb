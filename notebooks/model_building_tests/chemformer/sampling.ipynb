{
 "cells": [
  {
   "cell_type": "code",
   "execution_count": 9,
   "metadata": {},
   "outputs": [
    {
     "name": "stdout",
     "output_type": "stream",
     "text": [
      "The autoreload extension is already loaded. To reload it, use:\n",
      "  %reload_ext autoreload\n"
     ]
    }
   ],
   "source": [
    "%load_ext autoreload\n",
    "%autoreload 2\n",
    "\n",
    "from models.ranked_transformer import Moonshot\n",
    "import torch, pytorch_lightning as pl"
   ]
  },
  {
   "cell_type": "code",
   "execution_count": 10,
   "metadata": {},
   "outputs": [
    {
     "name": "stderr",
     "output_type": "stream",
     "text": [
      "Initialized SignCoordinateEncoder[512] with dims [224, 224, 64] and 2 positional encoders. 64 bits are reserved for encoding the final bit\n"
     ]
    },
    {
     "name": "stdout",
     "output_type": "stream",
     "text": [
      "\n",
      "\n",
      "\n",
      "Ranked Transformer callin super\n"
     ]
    }
   ],
   "source": [
    "from models.chemformer.tokeniser import MolEncTokeniser\n",
    "from models.chemformer.utils import REGEX\n",
    "\n",
    "\n",
    "path = \"tempdata/chemformer/ms_e6.ckpt\"\n",
    "token_file = \"tempdata/chemformer/bart_vocab.txt\"\n",
    "\n",
    "tokeniser = MolEncTokeniser.from_vocab_file(\n",
    "  token_file, REGEX, 272\n",
    ")\n",
    "model = Moonshot.load_from_checkpoint(path, tokeniser=tokeniser).cuda()\n"
   ]
  },
  {
   "cell_type": "code",
   "execution_count": 11,
   "metadata": {},
   "outputs": [],
   "source": [
    "from utils.init_utils.data_init import data_mux\n",
    "\n",
    "\n",
    "feats = [\"HSQC\", \"SMILES\"]\n",
    "feat_handlers = [\"pad\", \"tokenise\"]\n",
    "ds_path = \"tempdata/SMILES_dataset/\"\n",
    "\n",
    "gim = data_mux(feats, feat_handlers, ds_path, token_file = token_file)"
   ]
  },
  {
   "cell_type": "code",
   "execution_count": 12,
   "metadata": {},
   "outputs": [],
   "source": [
    "gim.setup(\"fit\")\n",
    "val_dl = gim.val_dataloader()"
   ]
  },
  {
   "cell_type": "code",
   "execution_count": 13,
   "metadata": {},
   "outputs": [],
   "source": [
    "from rdkit import Chem, RDLogger\n",
    "from rdkit.Chem.Draw import IPythonConsole\n",
    "from rdkit.Chem import Draw\n",
    "\n",
    "RDLogger.DisableLog(\"rdApp.*\")"
   ]
  },
  {
   "cell_type": "code",
   "execution_count": 21,
   "metadata": {},
   "outputs": [
    {
     "name": "stdout",
     "output_type": "stream",
     "text": [
      "Max seq len: 128\n"
     ]
    },
    {
     "name": "stderr",
     "output_type": "stream",
     "text": [
      "100%|██████████| 127/127 [00:02<00:00, 54.01it/s]\n"
     ]
    },
    {
     "name": "stdout",
     "output_type": "stream",
     "text": [
      "32\n",
      "tensor(9239.9336, device='cuda:0') False 127 c12ccc(O)c(O)c1-c1cc(O)cc3c1C(C2)N(C)CC3.Br ccccccccccccccccccccccccccccccccccccccccccccccccccccccccccccccccccccccccccccccccccccccccccccccccccccccccccccccccccccccccccccccc\n",
      "tensor(25262.3242, device='cuda:0') False 127 c12cc[nH]c1cc(Br)cc2Br ccccccccccccccccccccccccccccccccccccccccccccccccccccccccccccccccccccccccccccccccccccccccccccccccccccccccccccccccccccccccccccccc\n",
      "tensor(47867.4492, device='cuda:0') False 127 c12c(cncc1)[nH]c1ccc(Br)cc21 ccccccccccccccccccccccccccccccccccccccccccccccccccccccccccccccccccccccccccccccccccccccccccccccccccccccccccccccccccccccccccccccc\n",
      "tensor(35896.0391, device='cuda:0') False 127 c12c([nH]cc1)ccc(Br)c2 ccccccccccccccccccccccccccccccccccccccccccccccccccccccccccccccccccccccccccccccccccccccccccccccccccccccccccccccccccccccccccccccc\n",
      "tensor(-1252.0664, device='cuda:0') True 127 C(#CC#C)C#CC=CCO CCCCCCCCCCCCCCCCCCCCCCCCCCCCCCCCCCCCCCCCCCCCCCCCCCCCCCCCCCCCCCCCCCCCCCCCCCCCCCCCCCCCCCCCCCCCCCCCCCCCCCCCCCCCCCCCCCCCCCCCCCCCCCC\n",
      "tensor(26917.6543, device='cuda:0') False 127 C(C1c2ccccc2CC(=O)O1)#CC#C ccccccccccccccccccccccccccccccccccccccccccccccccccccccccccccccccccccccccccccccccccccccccccccccccccccccccccccccccccccccccccccccc\n",
      "tensor(-474954.9375, device='cuda:0') True 127 C(=CC(=O)C#C)CCCCCCCCCC=CCCCCCCCCCCCC(O)C#CC#CCO CCCCCCCCCCCCCCCCCCCCCCCCCCCCCCCCCCCCCCCCCCCCCCCCCCCCCCCCCCCCCCCCCCCCCCCCCCCCCCCCCCCCCCCCCCCCCCCCCCCCCCCCCCCCCCCCCCCCCCCCCCCCCCC\n",
      "tensor(-103315.5547, device='cuda:0') True 127 C(=CCCCCCCCCCCC=CC(C#C)=O)C(C#C)O CCCCCCCCCCCCCCCCCCCCCCCCCCCCCCCCCCCCCCCCCCCCCCCCCCCCCCCCCCCCCCCCCCCCCCCCCCCCCCCCCCCCCCCCCCCCCCCCCCCCCCCCCCCCCCCCCCCCCCCCCCCCCCC\n",
      "tensor(21518.8164, device='cuda:0') True 127 BrC(C#C)C1CC(O)C(CC2C(Br)CC(Br)C(CC)O2)O1 CCCCCCCCCCCCCCCCCCCCCCCCCCCCCCCCCCCCCCCCCCCCCCCCCCCCCCCCCCCCCCCCCCCCCCCCCCCCCCCCCCCCCCCCCCCCCCCCCCCCCCCCCCCCCCCCCCCCCCCCCCCCCCC\n",
      "tensor(15131.9785, device='cuda:0') True 127 BrC(CC)C1OC2(C(Br)C3C(CC(C(C#C)Br)O3)O2)CC1 CCCCCCCCCCCCCCCCCCCCCCCCCCCCCCCCCCCCCCCCCCCCCCCCCCCCCCCCCCCCCCCCCCCCCCCCCCCCCCCCCCCCCCCCCCCCCCCCCCCCCCCCCCCCCCCCCCCCCCCCCCCCCCC\n",
      "tensor(55856.8828, device='cuda:0') False 127 o1c(C(C#C)C)cc2ccccc2c1=O ccccccccccccccccccccccccccccccccccccccccccccccccccccccccccccccccccccccccccccccccccccccccccccccccccccccccccccccccccccccccccccccc\n",
      "tensor(-363356.7500, device='cuda:0') True 127 OC(C#CC(C(O)CCCC(C=CC(C#C)O)O)O)C#CCCCCC(=O)CCCCCC=CC(O)CCCCCCCCCCCCC(C(O)C(C#CC(O)=O)O)O CCCCCCCCCCCCCCCCCCCCCCCCCCCCCCCCCCCCCCCCCCCCCCCCCCCCCCCCCCCCCCCCCCCCCCCCCCCCCCCCCCCCCCCCCCCCCCCCCCCCCCCCCCCCCCCCCCCCCCCCCCCCCCC\n",
      "tensor(-521838.8750, device='cuda:0') True 127 O=C(CCCCC#CC(O)C#CC(C(O)CCCC(O)C=CC(C#C)O)O)CCCCCC=CC(CCCCCCCCCCCCCC(C(C#CC(O)=O)O)O)O CCCCCCCCCCCCCCCCCCCCCCCCCCCCCCCCCCCCCCCCCCCCCCCCCCCCCCCCCCCCCCCCCCCCCCCCCCCCCCCCCCCCCCCCCCCCCCCCCCCCCCCCCCCCCCCCCCCCCCCCCCCCCCC\n",
      "tensor(-310524., device='cuda:0') True 127 C(CCC(C=CC(O)C#C)O)CCCCCC=CCCCCCCCCCCCC(C=CC(C#C)O)O CCCCCCCCCCCCCCCCCCCCCCCCCCCCCCCCCCCCCCCCCCCCCCCCCCCCCCCCCCCCCCCCCCCCCCCCCCCCCCCCCCCCCCCCCCCCCCCCCCCCCCCCCCCCCCCCCCCCCCCCCCCCCCC\n",
      "tensor(-359081.0312, device='cuda:0') True 127 C(C(O)C=CC(O)CCCCCCCCC=CCCCCCCCCCCCCC(O)C=CC(C#C)O)#C CCCCCCCCCCCCCCCCCCCCCCCCCCCCCCCCCCCCCCCCCCCCCCCCCCCCCCCCCCCCCCCCCCCCCCCCCCCCCCCCCCCCCCCCCCCCCCCCCCCCCCCCCCCCCCCCCCCCCCCCCCCCCCC\n",
      "tensor(-39194.2383, device='cuda:0') True 127 C(=CCCCCC=CC=CC#CCCCC(O)C=C)C(C#C)O CCCCCCCCCCCCCCCCCCCCCCCCCCCCCCCCCCCCCCCCCCCCCCCCCCCCCCCCCCCCCCCCCCCCCCCCCCCCCCCCCCCCCCCCCCCCCCCCCCCCCCCCCCCCCCCCCCCCCCCCCCCCCCC\n",
      "tensor(-125103.8203, device='cuda:0') True 127 C(CCCC#CC(O)C=CC(C#CCCCCCCC=CC(C#C)O)O)CCC=CC(C#C)OC(C)=O CCCCCCCCCCCCCCCCCCCCCCCCCCCCCCCCCCCCCCCCCCCCCCCCCCCCCCCCCCCCCCCCCCCCCCCCCCCCCCCCCCCCCCCCCCCCCCCCCCCCCCCCCCCCCCCCCCCCCCCCCCCCCCC\n",
      "tensor(-194187.3438, device='cuda:0') True 127 C(CC=CCC=CCC#CCCCCCCC=CC(C#C)O)CCCCCCC(C#C)O CCCCCCCCCCCCCCCCCCCCCCCCCCCCCCCCCCCCCCCCCCCCCCCCCCCCCCCCCCCCCCCCCCCCCCCCCCCCCCCCCCCCCCCCCCCCCCCCCCCCCCCCCCCCCCCCCCCCCCCCCCCCCCC\n",
      "tensor(-167791.9062, device='cuda:0') True 127 C(C(O)C#C)=CCCCCCCC#CCC=CCC=CCCCCCCCCC(C#C)O CCCCCCCCCCCCCCCCCCCCCCCCCCCCCCCCCCCCCCCCCCCCCCCCCCCCCCCCCCCCCCCCCCCCCCCCCCCCCCCCCCCCCCCCCCCCCCCCCCCCCCCCCCCCCCCCCCCCCCCCCCCCCCC\n",
      "tensor(-202698.0938, device='cuda:0') True 127 C(#C)C(O)CCCCCCCCCC#CCCCC#CCCCCCCC=CC(O)C#C CCCCCCCCCCCCCCCCCCCCCCCCCCCCCCCCCCCCCCCCCCCCCCCCCCCCCCCCCCCCCCCCCCCCCCCCCCCCCCCCCCCCCCCCCCCCCCCCCCCCCCCCCCCCCCCCCCCCCCCCCCCCCCC\n",
      "tensor(-46060.0273, device='cuda:0') True 127 C#CC(O)C=CCCCCCCC(OC)=O CCCCCCCCCCCCCCCCCCCCCCCCCCCCCCCCCCCCCCCCCCCCCCCCCCCCCCCCCCCCCCCCCCCCCCCCCCCCCCCCCCCCCCCCCCCCCCCCCCCCCCCCCCCCCCCCCCCCCCCCCCCCCCC\n",
      "tensor(867.5600, device='cuda:0') True 127 C(CCCCCCCCC#CCCCCCCCCCC=CC(O)C#C)CCCC=CC#CC(=O)O CCCCCCCCCCCCCCCCCCCCCCCCCCCCCCCCCCCCCCCCCCCCCCCCCCCCCCCCCCCCCCCCCCCCCCCCCCCCCCCCCCCCCCCCCCCCCCCCCCCCCCCCCCCCCCCCCCCCCCCCCCCCCCC\n",
      "tensor(-473452.9062, device='cuda:0') True 127 C(CCCCCCC=CC#CC(=O)O)CCCCCC#CCCCCCCCCCC=CC(O)C#C CCCCCCCCCCCCCCCCCCCCCCCCCCCCCCCCCCCCCCCCCCCCCCCCCCCCCCCCCCCCCCCCCCCCCCCCCCCCCCCCCCCCCCCCCCCCCCCCCCCCCCCCCCCCCCCCCCCCCCCCCCCCCCC\n",
      "tensor(710.5800, device='cuda:0') True 127 C#CC(C=CCCCCCCCCCC=CCCCCCCCCCC=CC(O)C#C)O CCCCCCCCCCCCCCCCCCCCCCCCCCCCCCCCCCCCCCCCCCCCCCCCCCCCCCCCCCCCCCCCCCCCCCCCCCCCCCCCCCCCCCCCCCCCCCCCCCCCCCCCCCCCCCCCCCCCCCCCCCCCCCC\n",
      "tensor(-244671.4062, device='cuda:0') True 127 C(CCC=CC(C#C)O)CCCCCCC=CCCCCCCCCCC=CC(C#C)O CCCCCCCCCCCCCCCCCCCCCCCCCCCCCCCCCCCCCCCCCCCCCCCCCCCCCCCCCCCCCCCCCCCCCCCCCCCCCCCCCCCCCCCCCCCCCCCCCCCCCCCCCCCCCCCCCCCCCCCCCCCCCCC\n",
      "tensor(-284735.0625, device='cuda:0') True 127 C(C=CC(C#C)O)CCCCCCCCC=CCCCCCCCCCC=CC(O)C#C CCCCCCCCCCCCCCCCCCCCCCCCCCCCCCCCCCCCCCCCCCCCCCCCCCCCCCCCCCCCCCCCCCCCCCCCCCCCCCCCCCCCCCCCCCCCCCCCCCCCCCCCCCCCCCCCCCCCCCCCCCCCCCC\n",
      "tensor(-402244.7500, device='cuda:0') True 127 C(O)(C#CC#CCO)CCCCCCCCCCCC(=O)CCCCCCCCCCC=CC(C#C)O CCCCCCCCCCCCCCCCCCCCCCCCCCCCCCCCCCCCCCCCCCCCCCCCCCCCCCCCCCCCCCCCCCCCCCCCCCCCCCCCCCCCCCCCCCCCCCCCCCCCCCCCCCCCCCCCCCCCCCCCCCCCCCC\n",
      "tensor(-81754.7188, device='cuda:0') True 127 C(CCCCC=CC(O)C#C)CCCCCC=CC(O)C#C CCCCCCCCCCCCCCCCCCCCCCCCCCCCCCCCCCCCCCCCCCCCCCCCCCCCCCCCCCCCCCCCCCCCCCCCCCCCCCCCCCCCCCCCCCCCCCCCCCCCCCCCCCCCCCCCCCCCCCCCCCCCCCC\n",
      "tensor(-304948.5625, device='cuda:0') True 127 C(CCCCCCCCCCCC(C#C)O)CCCC(C)C CCCCCCCCCCCCCCCCCCCCCCCCCCCCCCCCCCCCCCCCCCCCCCCCCCCCCCCCCCCCCCCCCCCCCCCCCCCCCCCCCCCCCCCCCCCCCCCCCCCCCCCCCCCCCCCCCCCCCCCCCCCCCCC\n",
      "tensor(-583400.6875, device='cuda:0') True 127 C(=CC(C#C)O)CCCCCCC=CCCCCC#CC(O)C#CC=CCCC=CC(C=CC#C)CCCCCCCCCCCCC CCCCCCCCCCCCCCCCCCCCCCCCCCCCCCCCCCCCCCCCCCCCCCCCCCCCCCCCCCCCCCCCCCCCCCCCCCCCCCCCCCCCCCCCCCCCCCCCCCCCCCCCCCCCCCCCCCCCCCCCCCCCCCC\n",
      "tensor(-499551.7812, device='cuda:0') True 127 C(CC(OC1CC2OC1C(C(OCC(CO)O)=O)C2C(O)C=CC#C)=O)CCCCCCCCCCCCCCC CCCCCCCCCCCCCCCCCCCCCCCCCCCCCCCCCCCCCCCCCCCCCCCCCCCCCCCCCCCCCCCCCCCCCCCCCCCCCCCCCCCCCCCCCCCCCCCCCCCCCCCCCCCCCCCCCCCCCCCCCCCCCCC\n",
      "tensor(-310186.8125, device='cuda:0') True 127 C(CCCCCCCCCCC=CC(C#C)O)C(C)CCCCCCCCC(O)C=CC#C CCCCCCCCCCCCCCCCCCCCCCCCCCCCCCCCCCCCCCCCCCCCCCCCCCCCCCCCCCCCCCCCCCCCCCCCCCCCCCCCCCCCCCCCCCCCCCCCCCCCCCCCCCCCCCCCCCCCCCCCCCCCCCC\n"
     ]
    }
   ],
   "source": [
    "ct = 0\n",
    "choice = \"\"\n",
    "import random\n",
    "\n",
    "\n",
    "pl.utilities.seed.isolate_rng(1234)\n",
    "\n",
    "for batch in val_dl:\n",
    "  hsqc, collated_smiles = batch\n",
    "  hsqc = hsqc.cuda()\n",
    "  collated_smiles = {k:(v if type(v) is not torch.Tensor else v.cuda()) for k,v in collated_smiles.items()}\n",
    "  out = model.sample_rdm(hsqc, temperature=1e-6, gen_len = 128)\n",
    "  raw = collated_smiles[\"raw_smiles\"]\n",
    "  output_strs = out[\"mol_strs\"]\n",
    "  print(len(output_strs))\n",
    "  for idx, (r, o) in enumerate(zip(raw, output_strs)):\n",
    "    print(torch.sum(hsqc[idx]), Chem.MolFromSmiles(o) is not None, len(o), r, o)\n",
    "  ct += 1\n",
    "  if ct == 1:\n",
    "    break"
   ]
  },
  {
   "cell_type": "code",
   "execution_count": 59,
   "metadata": {},
   "outputs": [],
   "source": []
  },
  {
   "cell_type": "code",
   "execution_count": 60,
   "metadata": {},
   "outputs": [
    {
     "name": "stdout",
     "output_type": "stream",
     "text": [
      "None\n"
     ]
    }
   ],
   "source": [
    "v = Chem.MolFromSmiles(\"(CCcCOCc4CCCCCC(5cCCC=CCCc2CCCC)=1C=C=CC)\")\n",
    "print(v)"
   ]
  }
 ],
 "metadata": {
  "kernelspec": {
   "display_name": "base",
   "language": "python",
   "name": "python3"
  },
  "language_info": {
   "codemirror_mode": {
    "name": "ipython",
    "version": 3
   },
   "file_extension": ".py",
   "mimetype": "text/x-python",
   "name": "python",
   "nbconvert_exporter": "python",
   "pygments_lexer": "ipython3",
   "version": "3.10.8"
  },
  "orig_nbformat": 4
 },
 "nbformat": 4,
 "nbformat_minor": 2
}
