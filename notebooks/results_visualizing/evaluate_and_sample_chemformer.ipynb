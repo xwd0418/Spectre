{
 "cells": [
  {
   "cell_type": "code",
   "execution_count": 5,
   "metadata": {},
   "outputs": [
    {
     "name": "stdout",
     "output_type": "stream",
     "text": [
      "The autoreload extension is already loaded. To reload it, use:\n",
      "  %reload_ext autoreload\n"
     ]
    }
   ],
   "source": [
    "%load_ext autoreload\n",
    "%autoreload 2\n",
    "\n",
    "from models.ranked_transformer import Moonshot\n",
    "import torch, pytorch_lightning as pl"
   ]
  },
  {
   "cell_type": "code",
   "execution_count": 6,
   "metadata": {},
   "outputs": [
    {
     "name": "stderr",
     "output_type": "stream",
     "text": [
      "Initialized SignCoordinateEncoder[512] with dims [224, 224, 64] and 2 positional encoders. 64 bits are reserved for encoding the final bit\n"
     ]
    },
    {
     "name": "stdout",
     "output_type": "stream",
     "text": [
      "\n",
      "\n",
      "\n",
      "Ranked Transformer callin super\n"
     ]
    }
   ],
   "source": [
    "from models.chemformer.tokeniser import MolEncTokeniser\n",
    "from models.chemformer.utils import REGEX\n",
    "\n",
    "\n",
    "path = \"tempdata/chemformer/moonshot.ckpt\"\n",
    "token_file = \"tempdata/chemformer/bart_vocab.txt\"\n",
    "\n",
    "tokeniser = MolEncTokeniser.from_vocab_file(\n",
    "  token_file, REGEX, 272\n",
    ")\n",
    "model = Moonshot.load_from_checkpoint(path, tokeniser=tokeniser).cuda()\n"
   ]
  },
  {
   "cell_type": "code",
   "execution_count": 7,
   "metadata": {},
   "outputs": [],
   "source": [
    "from utils.init_utils.data_init import data_mux\n",
    "\n",
    "\n",
    "feats = [\"HSQC\", \"SMILES\"]\n",
    "feat_handlers = [\"pad\", \"tokenise\"]\n",
    "ds_path = \"tempdata/SMILES_dataset/\"\n",
    "\n",
    "gim = data_mux(feats, feat_handlers, ds_path, token_file = token_file)"
   ]
  },
  {
   "cell_type": "code",
   "execution_count": 8,
   "metadata": {},
   "outputs": [],
   "source": [
    "gim.setup(\"fit\")\n",
    "val_dl = gim.val_dataloader()"
   ]
  },
  {
   "cell_type": "code",
   "execution_count": 9,
   "metadata": {},
   "outputs": [],
   "source": [
    "from rdkit import Chem, RDLogger\n",
    "from rdkit.Chem.Draw import IPythonConsole\n",
    "from rdkit.Chem import Draw\n",
    "\n",
    "RDLogger.DisableLog(\"rdApp.*\")"
   ]
  },
  {
   "cell_type": "code",
   "execution_count": 10,
   "metadata": {},
   "outputs": [
    {
     "name": "stdout",
     "output_type": "stream",
     "text": [
      "Max seq len: 128\n"
     ]
    },
    {
     "name": "stderr",
     "output_type": "stream",
     "text": [
      "100%|██████████| 127/127 [00:02<00:00, 58.94it/s]\n"
     ]
    },
    {
     "name": "stdout",
     "output_type": "stream",
     "text": [
      "32\n",
      "tensor(9239.9336, device='cuda:0') False 2 c1(O)ccc2c(c1O)-c1c3c(cc(O)c1)CCN(C)C3C2.Br c)\n",
      "tensor(25262.3242, device='cuda:0') False 95 c1c(Br)c2cc[nH]c2cc1Br c-c1(()=cc2COc)ccccc))(cc(1)(1)-)cc3C11C2c(Occ1)1(c=1cc1OPcCc4cOco1OcBrOccc(cO((1)c)CcOc)c1)O)O\n",
      "tensor(47867.4492, device='cuda:0') False 22 c12ccc(Br)cc1c1ccncc1[nH]2 (cnccc22)1c1))2cBr(cc3\n",
      "tensor(35896.0391, device='cuda:0') False 27 c1c(Br)cc2c([nH]cc2)c1 Oc)Cc2C1)cCc21c)3cCcCccOccC\n",
      "tensor(-1252.0664, device='cuda:0') False 63 C(C#CC#CC=CCO)#C )C(O=()()(OC=()((CCCCCC=(cc)=)5c)C)=)=(OC=Cc)C)CO1=CCC)CCC2OCC1\n",
      "tensor(26917.6543, device='cuda:0') False 43 O1C(=O)Cc2ccccc2C1C#CC#C OcNcCO)1(2c(OO)COOO)(O(c)C1c=COc1(1)2()(c(c\n",
      "tensor(-474954.9375, device='cuda:0') False 52 OC(C#CC#CCO)CCCCCCCCCCCC=CCCCCCCCCCC=CC(=O)C#C cCCCCCC)CCCCCOOCC)CCC(Cc2OCCCCCC#)cCOCccCcC)CCOCC)Cc\n",
      "tensor(-103315.5547, device='cuda:0') False 34 C(C(C#C)O)=CCCCCCCCCCCC=CC(C#C)=O CCC(C#CCCCCCCC#)=CCOCCCC#CCC(CC)C)\n",
      "tensor(21518.8164, device='cuda:0') False 37 C1(Br)CC(Br)C(CC2OC(C(C#C)Br)CC2O)OC1CC 1))))1OCN2CCcCCcCC32cCCC1cC2=(Cn)c(C(\n",
      "tensor(15131.9785, device='cuda:0') False 24 BrC(C#C)C1OC2C(C1)OC1(C2Br)OC(C(CC)Br)CC1 CCCC()33CC3CCCCN=CCC)(CC\n",
      "tensor(55856.8828, device='cuda:0') False 16 c1ccc2c(=O)oc(C(C)C#C)cc2c1 (c()(c(cOOO(Cc11\n",
      "tensor(-363356.7500, device='cuda:0') False 77 C(CCCCCCCCCCC(O)C(C(C#CC(O)=O)O)O)CC(O)C=CCCCCCC(CCCCC#CC(C#CC(O)C(O)CCCC(C=CC(O)C#C)O)O)=O CCC()3CCC(=#CC((CCOCCOCCC#CC)CCCCCCC##OOC#CCCOCOCO(CCOC))OCOO)OCCCCCCCCC=COOO\n",
      "tensor(-521838.8750, device='cuda:0') False 28 C(CCCCCCCCCCC(O)C(C#CC(O)=O)O)CCC(C=CCCCCCC(=O)CCCCC#CC(C#CC(C(CCCC(O)C=CC(O)C#C)O)O)O)O NC(CC(O(C(Cc=CCCOC=C)22(C=C(\n",
      "tensor(-310524., device='cuda:0') False 94 C#CC(O)C=CC(O)CCCCCCCCC=CCCCCCCCCCCCC(C=CC(C#C)O)O CCC=#C)(CC)C(()CC=CCOC#C)CC)OC)CC(CC=))C=CCCC)CCCCCCCOCCC()C(CCC)#C(CCOCCCCCCC=(CCCCO(CC1)OCCC\n",
      "tensor(-359081.0312, device='cuda:0') False 23 OC(C#C)C=CC(O)CCCCCCCCC=CCCCCCCCCCCCCC(C=CC(C#C)O)O =OCBr)cC(()C))CCO((CCCC\n",
      "tensor(-39194.2383, device='cuda:0') False 11 C(C#CCCCC(O)C=C)=CC=CCCCCC=CC(C#C)O C=2=CC=CCC=\n",
      "tensor(-125103.8203, device='cuda:0') False 31 C(CCCCC=CC(C#C)O)CC#CC(C=CC(O)C#CCCCCCCC=CC(OC(=O)C)C#C)O )COOC)CCO)CCCC2CCC=)C1C)CCCC22C\n",
      "tensor(-194187.3438, device='cuda:0') True 5 C(C=CCC=CCCCCCCCCC(O)C#C)C#CCCCCCCC=CC(O)C#C CCOCC\n",
      "tensor(-167791.9062, device='cuda:0') False 120 C(CCC#CCC=CCC=CCCCCCCCCC(O)C#C)CCCC=CC(C#C)O CC(CCC)OCC#CC#(C(C=C#C(C(CCCC)CCCCCC(#CC=COCC(CCCCC##COCCC==O(CC(CCC#CCCC(CC((CCOC(=#CCCC))CC(CCC#CCCCC(CC#C=C(=CCCC#CCC\n",
      "tensor(-202698.0938, device='cuda:0') False 9 C(CCCC#CCCCC#CCCCCCCC=CC(O)C#C)CCCCCC(C#C)O C(CC)O#CO\n",
      "tensor(-46060.0273, device='cuda:0') False 9 C(CCCCCCC(OC)=O)=CC(C#C)O O(CC)=C(O\n",
      "tensor(867.5600, device='cuda:0') False 10 C(CCCC=CC(C#C)O)CCCCCC#CCCCCCCCCCCCCC=CC#CC(O)=O COC=C)1(CC\n",
      "tensor(-473452.9062, device='cuda:0') False 23 C(CCC#CCCCCCCCCCC=CC(O)C#C)CCCCCCCCCC=CC#CC(=O)O C(C#CO=)CCC=CCCCCCOC=CC\n",
      "tensor(710.5800, device='cuda:0') True 15 C(CCCCCCCC=CCCCCCCCCCC=CC(O)C#C)CC=CC(O)C#C CC#CCC=CCCCOCCC\n",
      "tensor(-244671.4062, device='cuda:0') False 130 C(CCCCCCCCCC=CC(O)C#C)=CCCCCCCCCCC=CC(C#C)O CCCCC)CCCCCCCCOCCCC#CCCC#CC(CCCC=#CCCCC(CC#C#CCCOCC#=#CCC==CC#CCC(CCCCC#CCCC[O-]#C#CC(C)=CCOC(CCCCCC)#CCCCCCCCCCCC#=CCCC=CC=)CCO#C\n",
      "tensor(-284735.0625, device='cuda:0') False 7 C(CC=CCCCCCCCCCC=CC(C#C)O)CCCCCCCC=CC(C#C)O CC(CCCC\n",
      "tensor(-402244.7500, device='cuda:0') False 12 C(CC=CC(C#C)O)CCCCCCCCC(CCCCCCCCCCCC(O)C#CC#CCO)=O CCCCCC=)C)CC\n",
      "tensor(-81754.7188, device='cuda:0') True 11 C(=CCCCCCCCCCCC=CC(O)C#C)C(C#C)O C#CCCCCCCCC\n",
      "tensor(-304948.5625, device='cuda:0') False 41 C(CCCCCCCCC(C)C)CCCCCCC(C#C)O )CCCCCCO1c)CC(C(CC=O)1CO1OC)Cc(CCcc)OCOCO\n",
      "tensor(-583400.6875, device='cuda:0') False 44 C(#C)C(O)C=CCCCCCCC=CCCCCC#CC(O)C#CC=CCCC=CC(CCCCCCCCCCCCC)C=CC#C CCO(OCCC===)(CC)C(CCO(CCCC)=O=CCCCCOC(=)OC=C\n",
      "tensor(-499551.7812, device='cuda:0') False 16 C(CCCCCCCCCCC)CCCCCC(OC1C2C(C(=O)OCC(O)CO)C(C(C=CC#C)O)C(C1)O2)=O CCOCCCCC)COC)CCO\n",
      "tensor(-310186.8125, device='cuda:0') False 81 C(=CC#C)C(CCCCCCCCC(C)CCCCCCCCCCCC=CC(O)C#C)O CCC=C(CCC()CC(C#O1C))C#CCOC(C)CCOCCCCCCCC)CCCCCOCCC#C=CC#CCCCCCC=O(1BrCCCCOC=CC((\n"
     ]
    }
   ],
   "source": [
    "ct = 0\n",
    "choice = \"\"\n",
    "import random\n",
    "\n",
    "\n",
    "pl.utilities.seed.isolate_rng(1234)\n",
    "\n",
    "for batch in val_dl:\n",
    "  hsqc, collated_smiles = batch\n",
    "  hsqc = hsqc.cuda()\n",
    "  collated_smiles = {k:(v if type(v) is not torch.Tensor else v.cuda()) for k,v in collated_smiles.items()}\n",
    "  out = model.sample_rdm(hsqc, temperature=1, gen_len = 128)\n",
    "  raw = collated_smiles[\"raw_smiles\"]\n",
    "  output_strs = out[\"mol_strs\"]\n",
    "  print(len(output_strs))\n",
    "  for idx, (r, o) in enumerate(zip(raw, output_strs)):\n",
    "    print(torch.sum(hsqc[idx]), Chem.MolFromSmiles(o) is not None, len(o), r, o)\n",
    "  ct += 1\n",
    "  if ct == 1:\n",
    "    break"
   ]
  },
  {
   "cell_type": "code",
   "execution_count": null,
   "metadata": {},
   "outputs": [],
   "source": []
  },
  {
   "cell_type": "code",
   "execution_count": 11,
   "metadata": {},
   "outputs": [
    {
     "name": "stdout",
     "output_type": "stream",
     "text": [
      "None\n"
     ]
    }
   ],
   "source": [
    "v = Chem.MolFromSmiles(\"(CCcCOCc4CCCCCC(5cCCC=CCCc2CCCC)=1C=C=CC)\")\n",
    "print(v)"
   ]
  }
 ],
 "metadata": {
  "kernelspec": {
   "display_name": "base",
   "language": "python",
   "name": "python3"
  },
  "language_info": {
   "codemirror_mode": {
    "name": "ipython",
    "version": 3
   },
   "file_extension": ".py",
   "mimetype": "text/x-python",
   "name": "python",
   "nbconvert_exporter": "python",
   "pygments_lexer": "ipython3",
   "version": "3.10.8"
  },
  "orig_nbformat": 4
 },
 "nbformat": 4,
 "nbformat_minor": 2
}
