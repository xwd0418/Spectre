{
 "cells": [
  {
   "cell_type": "code",
   "execution_count": 1,
   "id": "6ee180d7",
   "metadata": {},
   "outputs": [],
   "source": [
    "import json, os, numpy as np, requests\n",
    "import matplotlib.pyplot as plt\n",
    "import heapq\n",
    "import pickle\n",
    "import random\n",
    "from collections import defaultdict\n",
    "from tqdm import tqdm\n",
    "from rdkit import Chem\n",
    "from rdkit.Chem import AllChem"
   ]
  },
  {
   "cell_type": "code",
   "execution_count": 2,
   "id": "359cf478",
   "metadata": {},
   "outputs": [],
   "source": [
    "hsqc_pickle = pickle.load(open(\"SMART_dataset_v2_new.pkl\", \"rb\"))"
   ]
  },
  {
   "cell_type": "code",
   "execution_count": 3,
   "id": "f9e34181",
   "metadata": {},
   "outputs": [
    {
     "name": "stderr",
     "output_type": "stream",
     "text": [
      "  4%|█▎                                 | 5229/137267 [00:00<00:19, 6831.93it/s][12:02:30] WARNING: not removing hydrogen atom without neighbors\n",
      "  8%|██▋                               | 10806/137267 [00:01<00:18, 7005.65it/s][12:02:31] WARNING: not removing hydrogen atom without neighbors\n",
      "[12:02:31] WARNING: not removing hydrogen atom without neighbors\n",
      " 13%|████▌                             | 18212/137267 [00:02<00:18, 6418.61it/s][12:02:32] WARNING: not removing hydrogen atom without neighbors\n",
      "[12:02:32] WARNING: not removing hydrogen atom without neighbors\n",
      "[12:02:32] WARNING: not removing hydrogen atom without neighbors\n",
      " 17%|█████▋                            | 22755/137267 [00:03<00:17, 6398.54it/s][12:02:33] WARNING: not removing hydrogen atom without neighbors\n",
      " 23%|███████▋                          | 30911/137267 [00:04<00:15, 6739.15it/s][12:02:34] WARNING: not removing hydrogen atom without neighbors\n",
      " 28%|█████████▌                        | 38426/137267 [00:05<00:15, 6212.92it/s][12:02:35] WARNING: not removing hydrogen atom without neighbors\n",
      " 35%|███████████▉                      | 48078/137267 [00:07<00:13, 6417.59it/s][12:02:37] WARNING: not removing hydrogen atom without neighbors\n",
      "[12:02:37] WARNING: not removing hydrogen atom without neighbors\n",
      "[12:02:37] WARNING: not removing hydrogen atom without neighbors\n",
      "[12:02:37] WARNING: not removing hydrogen atom without neighbors\n",
      " 39%|█████████████▏                    | 53028/137267 [00:07<00:09, 8563.30it/s][12:02:37] WARNING: not removing hydrogen atom without neighbors\n",
      " 62%|█████████████████████▏            | 85347/137267 [00:12<00:08, 6286.91it/s][12:02:42] WARNING: not removing hydrogen atom without neighbors\n",
      "100%|█████████████████████████████████| 137267/137267 [00:20<00:00, 6703.25it/s]\n"
     ]
    }
   ],
   "source": [
    "# generate mapping of cannonical smiles -> hsqc\n",
    "smiles_to_hsqc = defaultdict(list)\n",
    "for item in tqdm(hsqc_pickle.values()):\n",
    "    mol = Chem.MolFromSmiles(item[\"SMILES\"])\n",
    "    cannonical_smiles = Chem.MolToSmiles(mol)\n",
    "    smiles_to_hsqc[cannonical_smiles].append(np.array(item[\"HSQC\"]))   "
   ]
  },
  {
   "cell_type": "code",
   "execution_count": 4,
   "id": "362fafac",
   "metadata": {},
   "outputs": [
    {
     "name": "stdout",
     "output_type": "stream",
     "text": [
      "210569\n"
     ]
    }
   ],
   "source": [
    "all_gnps = json.load(open(\"ALL_GNPS.json\"))\n",
    "print(len(all_gnps))"
   ]
  },
  {
   "cell_type": "code",
   "execution_count": 5,
   "id": "855721ba",
   "metadata": {},
   "outputs": [
    {
     "name": "stdout",
     "output_type": "stream",
     "text": [
      "209654\n"
     ]
    }
   ],
   "source": [
    "# Remove samples without mass spec\n",
    "all_gnps = [i for i in all_gnps if i[\"peaks_json\"] != \"[]\"]\n",
    "print(len(all_gnps))"
   ]
  },
  {
   "cell_type": "code",
   "execution_count": 6,
   "id": "34ed9a79",
   "metadata": {},
   "outputs": [],
   "source": [
    "# Remove unecessary metadata\n",
    "ok_keys = set([\"spectrum_id\", \"peaks_json\", \"Ion_Mode\", \"Smiles\", \"Adduct\", \"Precursor_MZ\"])\n",
    "all_gnps = [{key:item[key] for key in ok_keys} for item in all_gnps]"
   ]
  },
  {
   "cell_type": "code",
   "execution_count": 7,
   "id": "f7b36d4b",
   "metadata": {},
   "outputs": [
    {
     "name": "stdout",
     "output_type": "stream",
     "text": [
      "98620\n"
     ]
    }
   ],
   "source": [
    "%%capture --no-stdout\n",
    "\n",
    "# Remove invalid SMILES \n",
    "all_gnps = [i for i in all_gnps if Chem.MolFromSmiles(i[\"Smiles\"]) is not None]\n",
    "print(len(all_gnps))"
   ]
  },
  {
   "cell_type": "code",
   "execution_count": 8,
   "id": "69ec596f",
   "metadata": {},
   "outputs": [
    {
     "name": "stdout",
     "output_type": "stream",
     "text": [
      "69294\n"
     ]
    }
   ],
   "source": [
    "# Only use positive ion mode\n",
    "all_gnps = [i for i in all_gnps if i[\"Ion_Mode\"].lower() == \"positive\"]\n",
    "print(len(all_gnps))"
   ]
  },
  {
   "cell_type": "code",
   "execution_count": 9,
   "id": "40b1e1ed",
   "metadata": {},
   "outputs": [
    {
     "name": "stderr",
     "output_type": "stream",
     "text": [
      "100%|███████████████████████████████████| 69294/69294 [00:42<00:00, 1623.60it/s]"
     ]
    },
    {
     "name": "stdout",
     "output_type": "stream",
     "text": [
      "57938\n"
     ]
    },
    {
     "name": "stderr",
     "output_type": "stream",
     "text": [
      "\n"
     ]
    }
   ],
   "source": [
    "# Delete MS with < threshold peaks and normalize by highest peak\n",
    "threshold = 5\n",
    "max_peaks = 150\n",
    "remove = set()\n",
    "for item in tqdm(all_gnps):\n",
    "    peaks = json.loads(item[\"peaks_json\"])\n",
    "    if len(peaks) < threshold:\n",
    "        remove.add(item[\"spectrum_id\"])\n",
    "        continue\n",
    "    \n",
    "    m = max(peaks, key=lambda p: p[1])\n",
    "    peaks = np.array([[x, (y/m[1])**0.5] for x, y in peaks])\n",
    "    if len(peaks) > max_peaks:\n",
    "        # only preserve max_peaks highest peaks\n",
    "        inds = np.argpartition(peaks[:, 1], -max_peaks)\n",
    "        peaks = peaks[inds][-max_peaks:]\n",
    "    item[\"peaks_json\"] = peaks\n",
    "    \n",
    "\n",
    "all_gnps = [i for i in all_gnps if i[\"spectrum_id\"] not in remove]\n",
    "print(len(all_gnps))"
   ]
  },
  {
   "cell_type": "code",
   "execution_count": 10,
   "id": "8410b762",
   "metadata": {},
   "outputs": [
    {
     "name": "stderr",
     "output_type": "stream",
     "text": [
      "  7%|██▌                                 | 4187/57938 [00:00<00:07, 6975.30it/s][12:04:00] WARNING: not removing hydrogen atom without neighbors\n",
      "100%|███████████████████████████████████| 57938/57938 [00:06<00:00, 9405.69it/s]\n"
     ]
    }
   ],
   "source": [
    "# generate mapping of cannonical smiles -> spectra\n",
    "smiles_to_spectra = defaultdict(list)\n",
    "for item in tqdm(all_gnps):\n",
    "    mol = Chem.MolFromSmiles(item[\"Smiles\"])\n",
    "    cannonical_smiles = Chem.MolToSmiles(mol)   \n",
    "    smiles_to_spectra[cannonical_smiles].append(item[\"peaks_json\"])"
   ]
  },
  {
   "cell_type": "code",
   "execution_count": 11,
   "id": "8d6b9166",
   "metadata": {},
   "outputs": [],
   "source": [
    "# get smiles strings with both ms and hsqc data\n",
    "inter = set(smiles_to_spectra.keys()).intersection(set(smiles_to_hsqc.keys()))"
   ]
  },
  {
   "cell_type": "code",
   "execution_count": 12,
   "id": "4b4b35ee",
   "metadata": {},
   "outputs": [
    {
     "name": "stderr",
     "output_type": "stream",
     "text": [
      " 57%|█████████████████████▏               | 6784/11834 [00:10<00:08, 623.07it/s][12:04:16] WARNING: not removing hydrogen atom without neighbors\n",
      "100%|████████████████████████████████████| 11834/11834 [00:18<00:00, 629.88it/s]\n"
     ]
    }
   ],
   "source": [
    "# create mapping of sample id -> sample\n",
    "pairs = defaultdict(dict)\n",
    "i = 0\n",
    "for smiles in tqdm(inter):\n",
    "    mol = Chem.MolFromSmiles(smiles)\n",
    "    fp = np.array(AllChem.GetMorganFingerprintAsBitVect(mol,3,nBits=6144))\n",
    "    spectra = smiles_to_spectra[smiles]\n",
    "    random.shuffle(spectra)\n",
    "    hsqc = smiles_to_hsqc[smiles]\n",
    "    random.shuffle(hsqc)\n",
    "    while len(hsqc) > 0 and len(spectra) > 0:\n",
    "        pairs[i][\"HSQC\"] = hsqc.pop()\n",
    "        pairs[i][\"MS\"] = spectra.pop()\n",
    "        pairs[i][\"FP\"] = fp\n",
    "        pairs[i][\"SMILES\"] = smiles\n",
    "        i += 1"
   ]
  },
  {
   "cell_type": "code",
   "execution_count": 13,
   "id": "b7ec79e7",
   "metadata": {},
   "outputs": [],
   "source": [
    "# create pair dataset split\n",
    "pair_ids = list(pairs.keys())\n",
    "pair_dataset = {\"train\":{}, \"val\":{}, \"test\":{}}\n",
    "random.shuffle(pair_ids)\n",
    "split_index = int(len(pair_ids)*.15) \n",
    "for pair_id in pair_ids[:split_index]:\n",
    "    pair_dataset[\"test\"][pair_id] = pairs[pair_id]\n",
    "for pair_id in pair_ids[split_index:split_index*2]:\n",
    "    pair_dataset[\"val\"][pair_id] = pairs[pair_id] \n",
    "for pair_id in pair_ids[split_index*2:]:\n",
    "    pair_dataset[\"train\"][pair_id] = pairs[pair_id]\n"
   ]
  },
  {
   "cell_type": "code",
   "execution_count": 14,
   "id": "1b1f0117",
   "metadata": {},
   "outputs": [],
   "source": [
    "# preventing data leakage: keep splits consistent\n",
    "ms_dataset = defaultdict(lambda: defaultdict(dict))\n",
    "hsqc_dataset = defaultdict(lambda: defaultdict(dict))\n",
    "for split, samples in pair_dataset.items():\n",
    "    for sample_num, sample in samples.items():\n",
    "        hsqc_dataset[split][sample_num] = sample\n",
    "        ms_dataset[split][sample_num] = sample"
   ]
  },
  {
   "cell_type": "code",
   "execution_count": 15,
   "id": "9967263a",
   "metadata": {},
   "outputs": [
    {
     "name": "stderr",
     "output_type": "stream",
     "text": [
      "  2%|▌                                   | 2147/129874 [00:03<03:24, 624.62it/s][12:04:28] WARNING: not removing hydrogen atom without neighbors\n",
      "  9%|███▏                               | 11903/129874 [00:19<03:09, 622.44it/s][12:04:43] WARNING: not removing hydrogen atom without neighbors\n",
      " 10%|███▌                               | 13039/129874 [00:20<03:07, 623.43it/s][12:04:45] WARNING: not removing hydrogen atom without neighbors\n",
      " 39%|█████████████▋                     | 50837/129874 [01:21<02:06, 625.09it/s][12:05:46] WARNING: not removing hydrogen atom without neighbors\n",
      " 40%|█████████████▉                     | 51658/129874 [01:22<02:05, 622.50it/s][12:05:47] WARNING: not removing hydrogen atom without neighbors\n",
      " 48%|████████████████▊                  | 62254/129874 [01:40<01:48, 620.89it/s][12:06:04] WARNING: not removing hydrogen atom without neighbors\n",
      " 50%|█████████████████▍                 | 64652/129874 [01:43<01:44, 625.17it/s][12:06:08] WARNING: not removing hydrogen atom without neighbors\n",
      " 52%|██████████████████▏                | 67364/129874 [01:48<01:40, 619.33it/s][12:06:12] WARNING: not removing hydrogen atom without neighbors\n",
      " 56%|███████████████████▊               | 73289/129874 [01:57<01:31, 620.92it/s][12:06:22] WARNING: not removing hydrogen atom without neighbors\n",
      " 60%|████████████████████▉              | 77736/129874 [02:04<01:26, 602.42it/s][12:06:29] WARNING: not removing hydrogen atom without neighbors\n",
      " 67%|███████████████████████▍           | 86753/129874 [02:19<01:08, 625.28it/s][12:06:44] WARNING: not removing hydrogen atom without neighbors\n",
      " 79%|██████████████████████████▉       | 102703/129874 [02:45<00:43, 624.59it/s][12:07:09] WARNING: not removing hydrogen atom without neighbors\n",
      " 83%|████████████████████████████▎     | 108077/129874 [02:53<00:34, 623.69it/s][12:07:18] WARNING: not removing hydrogen atom without neighbors\n",
      " 84%|████████████████████████████▍     | 108581/129874 [02:54<00:34, 625.89it/s][12:07:19] WARNING: not removing hydrogen atom without neighbors\n",
      "[12:07:19] WARNING: not removing hydrogen atom without neighbors\n",
      "100%|██████████████████████████████████| 129874/129874 [03:28<00:00, 622.38it/s]"
     ]
    },
    {
     "name": "stdout",
     "output_type": "stream",
     "text": [
      "test:  20590\n",
      "val:  20590\n",
      "train:  96087\n"
     ]
    },
    {
     "name": "stderr",
     "output_type": "stream",
     "text": [
      "\n"
     ]
    }
   ],
   "source": [
    "# everything remaining in smiles_to_hsqc does not have a corresponding pair available\n",
    "# create splits for remaining HSQC\n",
    "total_hsqc_size = sum([len(hsqc_list) for hsqc_list in smiles_to_hsqc.values()])\n",
    "total_hsqc_size += len(hsqc_dataset[\"train\"])\n",
    "total_hsqc_size += len(hsqc_dataset[\"val\"])\n",
    "total_hsqc_size += len(hsqc_dataset[\"test\"])\n",
    "split_index = int(total_hsqc_size*.15) \n",
    "dict_items = list(smiles_to_hsqc.items())\n",
    "random.shuffle(dict_items)\n",
    "for smiles, hsqc_list in tqdm(dict_items):\n",
    "    mol = Chem.MolFromSmiles(smiles)\n",
    "    fp = np.array(AllChem.GetMorganFingerprintAsBitVect(mol,3,nBits=6144))\n",
    "    for hsqc in hsqc_list:\n",
    "        if len(hsqc_dataset[\"val\"]) < split_index:\n",
    "            split = \"val\"\n",
    "        elif len(hsqc_dataset[\"test\"]) < split_index:\n",
    "            split = \"test\"\n",
    "        else:\n",
    "            split = \"train\"\n",
    "        \n",
    "        hsqc_dataset[split][i][\"HSQC\"] = hsqc\n",
    "        hsqc_dataset[split][i][\"SMILES\"] = smiles\n",
    "        hsqc_dataset[split][i][\"FP\"] = fp\n",
    "        i += 1\n",
    "    \n",
    "print(\"test: \", len(hsqc_dataset[\"test\"]))\n",
    "print(\"val: \", len(hsqc_dataset[\"val\"]))\n",
    "print(\"train: \", len(hsqc_dataset[\"train\"]))"
   ]
  },
  {
   "cell_type": "code",
   "execution_count": 16,
   "id": "600191ee",
   "metadata": {},
   "outputs": [
    {
     "name": "stderr",
     "output_type": "stream",
     "text": [
      " 39%|██████████████▌                      | 5791/14662 [00:09<00:14, 627.25it/s][12:08:02] WARNING: not removing hydrogen atom without neighbors\n",
      "100%|████████████████████████████████████| 14662/14662 [00:23<00:00, 628.86it/s]"
     ]
    },
    {
     "name": "stdout",
     "output_type": "stream",
     "text": [
      "test:  8690\n",
      "val:  8690\n",
      "train:  40558\n"
     ]
    },
    {
     "name": "stderr",
     "output_type": "stream",
     "text": [
      "\n"
     ]
    }
   ],
   "source": [
    "# everything remaining in smiles_to_spectra does not have a corresponding pair available\n",
    "# create splits for reamining spectra\n",
    "total_ms_size = sum([len(spectra_list) for spectra_list in smiles_to_spectra.values()])\n",
    "total_ms_size += len(ms_dataset[\"train\"])\n",
    "total_ms_size += len(ms_dataset[\"val\"])\n",
    "total_ms_size += len(ms_dataset[\"test\"])\n",
    "split_index = int(total_ms_size*.15) \n",
    "dict_items = list(smiles_to_spectra.items())\n",
    "random.shuffle(dict_items)\n",
    "for smiles, spectra_list in tqdm(dict_items):\n",
    "    mol = Chem.MolFromSmiles(smiles)\n",
    "    fp = np.array(AllChem.GetMorganFingerprintAsBitVect(mol,3,nBits=6144))\n",
    "    for spectra in spectra_list:\n",
    "        if len(ms_dataset[\"val\"]) < split_index:\n",
    "            split = \"val\"\n",
    "        elif len(ms_dataset[\"test\"]) < split_index:\n",
    "            split = \"test\"\n",
    "        else:\n",
    "            split = \"train\"\n",
    "        \n",
    "        ms_dataset[split][i][\"MS\"] = spectra\n",
    "        ms_dataset[split][i][\"SMILES\"] = smiles\n",
    "        ms_dataset[split][i][\"FP\"] = fp\n",
    "        i += 1\n",
    "    \n",
    "print(\"test: \", len(ms_dataset[\"test\"]))\n",
    "print(\"val: \", len(ms_dataset[\"val\"]))\n",
    "print(\"train: \", len(ms_dataset[\"train\"]))"
   ]
  },
  {
   "cell_type": "code",
   "execution_count": 22,
   "id": "82498770",
   "metadata": {},
   "outputs": [],
   "source": [
    "with open(\"data/ms_pretrain/train.pkl\", \"wb\") as f:\n",
    "    pickle.dump(ms_dataset[\"train\"], f, protocol=pickle.HIGHEST_PROTOCOL)\n",
    "with open(\"data/ms_pretrain/val.pkl\", \"wb\") as f:\n",
    "    pickle.dump(ms_dataset[\"val\"], f, protocol=pickle.HIGHEST_PROTOCOL)\n",
    "with open(\"data/ms_pretrain/test.pkl\", \"wb\") as f:\n",
    "    pickle.dump(ms_dataset[\"test\"], f, protocol=pickle.HIGHEST_PROTOCOL)"
   ]
  },
  {
   "cell_type": "code",
   "execution_count": 23,
   "id": "e577ca47",
   "metadata": {},
   "outputs": [],
   "source": [
    "with open(\"data/hsqc_pretrain/train.pkl\", \"wb\") as f:\n",
    "    pickle.dump(hsqc_dataset[\"train\"], f, protocol=pickle.HIGHEST_PROTOCOL)\n",
    "with open(\"data/hsqc_pretrain/val.pkl\", \"wb\") as f:\n",
    "    pickle.dump(hsqc_dataset[\"val\"], f, protocol=pickle.HIGHEST_PROTOCOL)\n",
    "with open(\"data/hsqc_pretrain/test.pkl\", \"wb\") as f:\n",
    "    pickle.dump(hsqc_dataset[\"test\"], f, protocol=pickle.HIGHEST_PROTOCOL)"
   ]
  },
  {
   "cell_type": "code",
   "execution_count": 24,
   "id": "dbd6069a",
   "metadata": {},
   "outputs": [],
   "source": [
    "with open(\"data/hsqc_ms_pairs/train.pkl\", \"wb\") as f:\n",
    "    pickle.dump(pair_dataset[\"train\"], f, protocol=pickle.HIGHEST_PROTOCOL)\n",
    "with open(\"data/hsqc_ms_pairs/val.pkl\", \"wb\") as f:\n",
    "    pickle.dump(pair_dataset[\"val\"], f, protocol=pickle.HIGHEST_PROTOCOL)\n",
    "with open(\"data/hsqc_ms_pairs/test.pkl\", \"wb\") as f:\n",
    "    pickle.dump(pair_dataset[\"test\"], f, protocol=pickle.HIGHEST_PROTOCOL)"
   ]
  },
  {
   "cell_type": "code",
   "execution_count": null,
   "id": "f52bd581",
   "metadata": {},
   "outputs": [],
   "source": []
  }
 ],
 "metadata": {
  "kernelspec": {
   "display_name": "Python 3 (ipykernel)",
   "language": "python",
   "name": "python3"
  },
  "language_info": {
   "codemirror_mode": {
    "name": "ipython",
    "version": 3
   },
   "file_extension": ".py",
   "mimetype": "text/x-python",
   "name": "python",
   "nbconvert_exporter": "python",
   "pygments_lexer": "ipython3",
   "version": "3.9.9"
  }
 },
 "nbformat": 4,
 "nbformat_minor": 5
}
