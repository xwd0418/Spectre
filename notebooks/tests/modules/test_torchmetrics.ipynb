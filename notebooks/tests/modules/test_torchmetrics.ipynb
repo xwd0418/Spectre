{
 "cells": [
  {
   "cell_type": "code",
   "execution_count": 5,
   "metadata": {},
   "outputs": [],
   "source": [
    "import torchmetrics.classification as tmcls\n",
    "import torch"
   ]
  },
  {
   "cell_type": "code",
   "execution_count": 26,
   "metadata": {},
   "outputs": [],
   "source": [
    "do_f1 = tmcls.BinaryF1Score().cuda()\n",
    "do_recall = tmcls.BinaryRecall().cuda()\n",
    "do_precision = tmcls.BinaryPrecision().cuda()\n",
    "do_accuracy = tmcls.BinaryAccuracy().cuda()\n",
    "do_binstats = tmcls.BinaryStatScores().cuda()\n",
    "\n",
    "true = torch.Tensor([\n",
    "  [1, 1, 1, 1, 1, 0, 0, 0, 0, 0],\n",
    "  [0, 0, 0, 0, 0, 1, 1, 1, 1, 1]\n",
    "]).type(torch.FloatTensor).cuda()\n",
    "pred = torch.Tensor([\n",
    "  [1, 1, 1, 0, 0, 1, 1, 1, 0, 0],\n",
    "  [0, 0, 1, 1, 1, 0, 0, 1, 1, 1]\n",
    "]).type(torch.FloatTensor).cuda()"
   ]
  },
  {
   "cell_type": "code",
   "execution_count": 27,
   "metadata": {},
   "outputs": [
    {
     "name": "stdout",
     "output_type": "stream",
     "text": [
      "TP, FP, TN, FN, Support\n",
      "tensor([ 6,  6,  4,  4, 10], device='cuda:0')\n"
     ]
    }
   ],
   "source": [
    "bin_stats = do_binstats(pred, true)\n",
    "\n",
    "print(\"TP, FP, TN, FN, Support\")\n",
    "print(bin_stats)"
   ]
  },
  {
   "cell_type": "code",
   "execution_count": 28,
   "metadata": {},
   "outputs": [
    {
     "name": "stdout",
     "output_type": "stream",
     "text": [
      "(recall).item()=0.6000000238418579\n",
      "prec=tensor(0.5000, device='cuda:0')\n",
      "acc=tensor(0.5000, device='cuda:0')\n",
      "f1=tensor(0.5455, device='cuda:0')\n"
     ]
    }
   ],
   "source": [
    "recall = do_recall(pred, true)\n",
    "prec = do_precision(pred, true)\n",
    "acc = do_accuracy(pred, true)\n",
    "f1 = do_f1(pred, true)\n",
    "\n",
    "print(f\"{(recall).item()=}\")\n",
    "print(f\"{prec=}\")\n",
    "print(f\"{acc=}\")\n",
    "print(f\"{f1=}\")"
   ]
  }
 ],
 "metadata": {
  "kernelspec": {
   "display_name": "base",
   "language": "python",
   "name": "python3"
  },
  "language_info": {
   "codemirror_mode": {
    "name": "ipython",
    "version": 3
   },
   "file_extension": ".py",
   "mimetype": "text/x-python",
   "name": "python",
   "nbconvert_exporter": "python",
   "pygments_lexer": "ipython3",
   "version": "3.8.12"
  },
  "orig_nbformat": 4
 },
 "nbformat": 4,
 "nbformat_minor": 2
}
