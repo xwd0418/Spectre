{
 "cells": [
  {
   "attachments": {},
   "cell_type": "markdown",
   "metadata": {},
   "source": [
    "# 03/01/23\n",
    "\n",
    "Using this file to test the Ranking Set Implementations"
   ]
  },
  {
   "cell_type": "code",
   "execution_count": 1,
   "metadata": {},
   "outputs": [],
   "source": [
    "import torch, logging, sys\n",
    "from utils import ranker\n",
    "\n",
    "import logging\n",
    "logger = logging.getLogger(\"lightning\")\n",
    "logger.setLevel(\"INFO\")\n",
    "logger.addHandler(logging.StreamHandler(sys.stdout))"
   ]
  },
  {
   "cell_type": "code",
   "execution_count": 2,
   "metadata": {},
   "outputs": [
    {
     "name": "stdout",
     "output_type": "stream",
     "text": [
      "[Ranking Set] Initialized with 4 sample(s)\n"
     ]
    }
   ],
   "source": [
    "ranking_set = [\n",
    "    [0, 0, 0, 0, 0, 1],\n",
    "    [0, 0, 0, 0, 1, 1],\n",
    "    [0, 0, 1, 1, 1, 1],\n",
    "    [1, 1, 1, 1, 1, 1],\n",
    "]\n",
    "\n",
    "data = torch.tensor(ranking_set, dtype=torch.float)\n",
    "rs = ranker.RankingSet(store=data, debug=True)"
   ]
  },
  {
   "cell_type": "code",
   "execution_count": 3,
   "metadata": {},
   "outputs": [
    {
     "name": "stdout",
     "output_type": "stream",
     "text": [
      "thresh: \n",
      "tensor([[0.5000]], device='cuda:0')\n",
      "ct_greater: \n",
      "tensor([[2]], device='cuda:0')\n",
      "tensor([[0, 0],\n",
      "        [1, 0]], device='cuda:0')\n",
      "tensor([[1.0000],\n",
      "        [0.7071],\n",
      "        [0.5000],\n",
      "        [0.4082]], device='cuda:0')\n",
      "tensor([[2]], device='cuda:0')\n"
     ]
    }
   ],
   "source": [
    "queries = torch.tensor([[0, 0, 0, 0, 0, 1]], dtype=torch.float)\n",
    "truth = torch.tensor([[0, 0, 1, 1, 1, 1]], dtype=torch.float)\n",
    "\n",
    "out = rs.batched_rank(queries, truth)\n",
    "print(out)"
   ]
  },
  {
   "attachments": {},
   "cell_type": "markdown",
   "metadata": {},
   "source": [
    "03/01/23: Testing a ranking file"
   ]
  },
  {
   "cell_type": "code",
   "execution_count": 12,
   "metadata": {},
   "outputs": [
    {
     "name": "stdout",
     "output_type": "stream",
     "text": [
      "[Ranking Set] Initialized with 13756 sample(s)\n"
     ]
    }
   ],
   "source": [
    "ranking_path = \"./tempdata/SMILES_ranking_sets/val/rankingset.pt\"\n",
    "rs = ranker.RankingSet(file_path = ranking_path)"
   ]
  },
  {
   "cell_type": "code",
   "execution_count": 16,
   "metadata": {},
   "outputs": [],
   "source": [
    "first = rs.data[0]\n",
    "first_close = first.clone()\n",
    "first_close[0] = 1 - first_close[0]\n",
    "\n",
    "second = rs.data[1]\n",
    "random_fp = torch.randint(high = 2, size=(6144,), dtype=torch.float32).to(rs.data.device)\n",
    "random_fp_close = random_fp.clone()\n",
    "random_fp_close[0] = 1 - random_fp_close[0]\n",
    "\n",
    "# make sure this random_fp is not in the ranking set, miraculously\n",
    "assert(torch.all(torch.sum(rs.data * random_fp.view((1, -1)), axis=1) < torch.sum(random_fp)))\n",
    "\n",
    "# trivial test case: perfect prediction, nonexistent\n",
    "assert(rs.batched_rank(random_fp.unsqueeze(0), random_fp.unsqueeze(0)) == 0)\n",
    "\n",
    "# trivial test case: perfect prediction, existent\n",
    "assert(rs.batched_rank(first.unsqueeze(0), first.unsqueeze(0)) == 0)\n",
    "\n",
    "# trivial test case: near-prediction, existent\n",
    "assert(rs.batched_rank(first_close.unsqueeze(0), first.unsqueeze(0)) == 0)\n",
    "\n",
    "# trivial test case: near-prediction, non-existent\n",
    "assert(rs.batched_rank(random_fp_close.unsqueeze(0), random_fp.unsqueeze(0)) == 0)"
   ]
  }
 ],
 "metadata": {
  "kernelspec": {
   "display_name": "Python 3.8.12 ('base')",
   "language": "python",
   "name": "python3"
  },
  "language_info": {
   "codemirror_mode": {
    "name": "ipython",
    "version": 3
   },
   "file_extension": ".py",
   "mimetype": "text/x-python",
   "name": "python",
   "nbconvert_exporter": "python",
   "pygments_lexer": "ipython3",
   "version": "3.8.12"
  },
  "orig_nbformat": 4,
  "vscode": {
   "interpreter": {
    "hash": "d4d1e4263499bec80672ea0156c357c1ee493ec2b1c70f0acce89fc37c4a6abe"
   }
  }
 },
 "nbformat": 4,
 "nbformat_minor": 2
}
