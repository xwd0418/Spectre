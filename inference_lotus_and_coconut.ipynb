{
 "cells": [
  {
   "cell_type": "code",
   "execution_count": 1,
   "metadata": {},
   "outputs": [
    {
     "name": "stderr",
     "output_type": "stream",
     "text": [
      "/home/ad.ucsd.edu/w6xu/.local/lib/python3.10/site-packages/tqdm/auto.py:21: TqdmWarning: IProgress not found. Please update jupyter and ipywidgets. See https://ipywidgets.readthedocs.io/en/stable/user_install.html\n",
      "  from .autonotebook import tqdm as notebook_tqdm\n"
     ]
    }
   ],
   "source": [
    "\n",
    "import torch\n",
    "torch.set_printoptions(precision=10)\n",
    "\n",
    "from models.optional_input_ranked_transformer import OptionalInputRankedTransformer\n",
    "from datasets.optional_2d_folder_dataset import OptionalInputDataModule\n",
    "import yaml\n",
    "torch.set_float32_matmul_precision('medium')\n",
    "from pathlib import Path\n",
    "\n",
    "from rdkit import Chem\n",
    "from rdkit.Chem import Draw\n",
    "# load model \n",
    "from datasets.dataset_utils import specific_radius_mfp_loader, plot_NMR\n",
    "\n",
    "            \n"
   ]
  },
  {
   "cell_type": "code",
   "execution_count": 2,
   "metadata": {},
   "outputs": [],
   "source": [
    "import numpy as np \n",
    "import random\n",
    "seed=2\n",
    "np.random.seed(seed)\n",
    "random.seed(seed)\n"
   ]
  },
  {
   "cell_type": "code",
   "execution_count": 3,
   "metadata": {},
   "outputs": [
    {
     "name": "stdout",
     "output_type": "stream",
     "text": [
      "Normal\n",
      "max_radius:  2\n"
     ]
    }
   ],
   "source": [
    "# load model \n",
    "\n",
    "# Choice 1: flexible model\n",
    "model_path = Path(f\"/home/ad.ucsd.edu/w6xu/model_weights/flexible_models_best_FP/r0_r2_FP_trial_1\")\n",
    "checkpoint_path = model_path / \"checkpoints/epoch=35-all_inputs.ckpt\"\n",
    "\n",
    "# Choice  2: all-three nmr model\n",
    "# model_path = Path(f\"/root/MorganFP_prediction/reproduce_previous_works/weird_H_and_tautomer_cleaned/entropy_radius_exps_all_info/R0_to_R4_all_info_trial_1\")\n",
    "# checkpoint_path = model_path / \"checkpoints/epoch=22-step=11408.ckpt\"\n",
    "\n",
    "\n",
    "\n",
    "hyperpaerameters_path = model_path / \"hparams.yaml\"\n",
    "\n",
    "# checkpoint_path = model_path / \"checkpoints/epoch=14-step=43515.ckpt\"\n",
    "\n",
    "\n",
    "with open(hyperpaerameters_path, 'r') as file:\n",
    "    hparams = yaml.safe_load(file)\n",
    "    \n",
    "FP_building_type = hparams['FP_building_type'].split(\"_\")[-1]\n",
    "only_2d = not hparams['use_oneD_NMR_no_solvent']\n",
    "print(FP_building_type)\n",
    "max_radius = int(hparams['FP_choice'].split(\"_\")[-1][1:])\n",
    "print(\"max_radius: \", max_radius)\n",
    "specific_radius_mfp_loader.setup(only_2d=only_2d,FP_building_type=FP_building_type)\n",
    "specific_radius_mfp_loader.set_max_radius(int(hparams['FP_choice'].split(\"_\")[-1][1:]), only_2d=only_2d)\n",
    "\n",
    "\n",
    "del hparams['checkpoint_path'] # prevent double defition of checkpoint_path\n",
    "hparams['use_peak_values'] = False\n",
    "\n",
    "\n",
    "hparams['skip_ranker'] = True\n"
   ]
  },
  {
   "cell_type": "code",
   "execution_count": 4,
   "metadata": {},
   "outputs": [
    {
     "name": "stderr",
     "output_type": "stream",
     "text": [
      "Initialized SignCoordinateEncoder[384] with dims [180, 180, 24] and 2 positional encoders. 24 bits are reserved for encoding the final bit\n"
     ]
    },
    {
     "name": "stdout",
     "output_type": "stream",
     "text": [
      "Using jaccard:  False\n",
      "HsqcRankedTransformer saving args\n"
     ]
    }
   ],
   "source": [
    "model = OptionalInputRankedTransformer.load_from_checkpoint(checkpoint_path, **hparams, )\n"
   ]
  },
  {
   "cell_type": "code",
   "execution_count": 31,
   "metadata": {},
   "outputs": [],
   "source": [
    "model = model.cpu()"
   ]
  },
  {
   "cell_type": "code",
   "execution_count": 5,
   "metadata": {},
   "outputs": [],
   "source": [
    "import torch.nn.functional as F\n",
    "import heapq\n",
    "import os\n",
    "import pickle\n",
    "\n",
    "def retrieve_top_k_by_rankingset(data, prediction_query, smiles_and_names , k=30):\n",
    "    query = F.normalize(prediction_query, dim=1, p=2.0).squeeze()\n",
    "\n",
    "    results = []\n",
    "    query_products = (data @ query)\n",
    "    values, indices = torch.topk(query_products,k=k)\n",
    "    \n",
    "    for value, idx in zip(values, indices):\n",
    "        results.append((value, idx, data[idx].nonzero()))\n",
    "                \n",
    "                        \n",
    "    results.sort(key=lambda x: x[0],reverse=True)\n",
    "    ret = [(value, smiles_and_names[i], fp) for value, i, fp in results]\n",
    "    # print(torch.tensor(idx))\n",
    "    # retrieved_FP = [all_fp[i] for i in idx]\n",
    "    # print(results[0])\n",
    "  \n",
    "    return ret\n",
    "        "
   ]
  },
  {
   "cell_type": "code",
   "execution_count": 8,
   "metadata": {},
   "outputs": [],
   "source": [
    "smiles_and_names = pickle.load(open(f'/home/ad.ucsd.edu/w6xu/inference/SMILES_and_Names.pkl', 'rb'))"
   ]
  },
  {
   "cell_type": "code",
   "execution_count": 13,
   "metadata": {},
   "outputs": [],
   "source": [
    "rankingset_path = f\"/home/ad.ucsd.edu/w6xu/inference/max_radius_{max_radius}_stacked_together/FP.pt\"\n",
    "\n",
    "rankingset_data = torch.load(rankingset_path)\n",
    "\n"
   ]
  },
  {
   "cell_type": "code",
   "execution_count": 14,
   "metadata": {},
   "outputs": [],
   "source": [
    "def unpack_inputs(inputs):\n",
    "    for i, vals in enumerate(inputs[0]):\n",
    "        # if vals is [-1, -1, -1]\n",
    "        if vals[0]==-1 and vals[1]==-1 and vals[2]==-1:\n",
    "            hsqc_start=i+1\n",
    "        elif vals[0]==-2 and vals[1]==-2 and vals[2]==-2:\n",
    "            hsqc_end=i\n",
    "        elif vals[0]==-3 and vals[1]==-3 and vals[2]==-3:\n",
    "            c_nmr_start=i+1\n",
    "        elif vals[0]==-4 and vals[1]==-4 and vals[2]==-4:\n",
    "            c_nmr_end=i\n",
    "        elif vals[0]==-5 and vals[1]==-5 and vals[2]==-5:\n",
    "            h_nmr_start=i+1\n",
    "        elif vals[0]==-6 and vals[1]==-6 and vals[2]==-6:\n",
    "            h_nmr_end=i\n",
    "            \n",
    "    hsqc = inputs[0,hsqc_start:hsqc_end]\n",
    "    c_tensor = inputs[0,c_nmr_start:c_nmr_end,0]\n",
    "    h_tensor = inputs[0,h_nmr_start:h_nmr_end,0]\n",
    "    return hsqc, c_tensor, h_tensor\n",
    "\n",
    "# unpack_inputs(inputs)\n",
    "\n",
    "# !!!\n",
    "def compute_cos_sim(fp1, fp2):\n",
    "    return (fp1 @ fp2) / (torch.norm(fp1) * torch.norm(fp2)).item()"
   ]
  },
  {
   "cell_type": "code",
   "execution_count": null,
   "metadata": {},
   "outputs": [],
   "source": []
  },
  {
   "cell_type": "code",
   "execution_count": 15,
   "metadata": {},
   "outputs": [],
   "source": [
    "def get_delimeter(delimeter_name):\n",
    "    match delimeter_name:\n",
    "        case \"HSQC_start\":\n",
    "            return torch.tensor([-1,-1,-1]).float()\n",
    "        case \"HSQC_end\":\n",
    "            return torch.tensor([-2,-2,-2]).float()\n",
    "        case \"C_NMR_start\":\n",
    "            return torch.tensor([-3,-3,-3]).float()\n",
    "        case \"C_NMR_end\":\n",
    "            return torch.tensor([-4,-4,-4]).float()\n",
    "        case \"H_NMR_start\":\n",
    "            return torch.tensor([-5,-5,-5]).float()\n",
    "        case \"H_NMR_end\":\n",
    "            return torch.tensor([-6,-6,-6]).float()\n",
    "        case \"solvent_start\":\n",
    "            return torch.tensor([-7,-7,-7]).float()\n",
    "        case \"solvent_end\":\n",
    "            return torch.tensor([-8,-8,-8]).float()\n",
    "        case \"ms_start\":\n",
    "            return torch.tensor([-12,-12,-12]).float()\n",
    "        case \"ms_end\":\n",
    "            return torch.tensor([-13,-13,-13]).float()\n",
    "        case _:\n",
    "            raise Exception(f\"unknown {delimeter_name}\")\n",
    "\n",
    " "
   ]
  },
  {
   "cell_type": "code",
   "execution_count": 16,
   "metadata": {},
   "outputs": [],
   "source": [
    "\n",
    "\n",
    "\"\"\"\n",
    "Nice !\n",
    "Now we can play with unkown molecule\n",
    "\"\"\"\n",
    "hsqc_mode = None\n",
    "'''for a single model, show top-5'''\n",
    "def show_topK(inputs, k=5, mode = hsqc_mode, ground_truth_FP=None):\n",
    "    print(\"_________________________________________________________\")\n",
    "\n",
    "    \n",
    "    inputs = inputs.unsqueeze(0)\n",
    "    pred = model(inputs)\n",
    "    pred = torch.sigmoid(pred) # sigmoid\n",
    "    pred_FP = torch.where(pred.squeeze()>0.5, 1, 0)\n",
    "    # print(pred_FP.nonzero().squeeze().tolist())\n",
    "    if ground_truth_FP is not None:\n",
    "        print(\"Prediction's cosine similarity to ground truth: \", compute_cos_sim(ground_truth_FP, pred_FP.to(\"cpu\").float()))\n",
    "        print(\"\\n\\n\")\n",
    "    topk = retrieve_top_k_by_rankingset(rankingset_data, pred, smiles_and_names, k=k)\n",
    "       \n",
    "    \n",
    "    i=0\n",
    "    for ite, (value, (smile, name, _, _), retrieved_FP) in enumerate(topk):\n",
    "        print(f\"____________________________retival #{i+1}, retrival cosine similarity to prediction: {value.item()}_____________________________\")\n",
    "        mol = Chem.MolFromSmiles(smile)\n",
    "        # print(\"retrived FP\", retrieved_FP.squeeze().tolist())\n",
    "        if ground_truth_FP is not None:\n",
    "            retrieved_FP_6144 = torch.zeros(6144)\n",
    "            retrieved_FP_6144[retrieved_FP.cpu()] = 1\n",
    "            print(\"Retrival's cosine similarity to ground truth: \", compute_cos_sim(ground_truth_FP, retrieved_FP_6144))\n",
    "        print(f\"SMILES: {smile}\")\n",
    "        print(f\"Name {name}\")\n",
    "       \n",
    "        #check is path file exists\n",
    "        # print(\"retrieved path: \",oned_path)\n",
    "\n",
    "        img = Draw.MolToImage(mol)\n",
    "        img.show()\n",
    "        i+=1\n",
    "        \n",
    "\n"
   ]
  },
  {
   "cell_type": "code",
   "execution_count": 23,
   "metadata": {},
   "outputs": [],
   "source": [
    "def build_input(compound_dir, mode = hsqc_mode, include_hsqc = True, include_c_nmr = True, include_h_nmr = True):\n",
    "    print(\"\\n\\n\")\n",
    "    print(compound_dir.split(\"/\")[-1])\n",
    "    print(\"\\n\")\n",
    "    def load_2d():\n",
    "        return torch.tensor(np.loadtxt(os.path.join(compound_dir, \"HSQC.txt\"), delimiter=\",\")).float()\n",
    "    def load_1d(nmr):\n",
    "        vals = np.loadtxt(os.path.join(compound_dir, f\"{nmr}.txt\"), delimiter=\",\")\n",
    "        vals = torch.tensor(np.unique(vals)).float()\n",
    "        return F.pad(vals.view(-1, 1), (0, 2), \"constant\", 0)\n",
    "    \n",
    "    hsqc = load_2d()\n",
    "    if hsqc is not None:\n",
    "        hsqc[:,[0,1]] = hsqc[:,[1,0]]\n",
    "        if mode == \"no_sign\":\n",
    "            hsqc = torch.abs(hsqc)\n",
    "        elif mode == \"flip_sign\":\n",
    "            hsqc[:,2] = -hsqc[:,2]\n",
    "    c_tensor = load_1d(\"C\")\n",
    "    h_tensor = load_1d(\"H\")\n",
    "    input_NMRs = []\n",
    "    if include_hsqc:\n",
    "        input_NMRs+= [get_delimeter(\"HSQC_start\"),  hsqc,     get_delimeter(\"HSQC_end\")]\n",
    "    if include_c_nmr:\n",
    "        input_NMRs+= [get_delimeter(\"C_NMR_start\"), c_tensor, get_delimeter(\"C_NMR_end\")]\n",
    "    if include_h_nmr:\n",
    "        input_NMRs+= [get_delimeter(\"H_NMR_start\"), h_tensor, get_delimeter(\"H_NMR_end\")]\n",
    "    inputs = torch.vstack(input_NMRs)   \n",
    "    with open(os.path.join(compound_dir, \"mw.txt\"), 'r') as file:\n",
    "        # Read the content of the file\n",
    "        content = file.read()\n",
    "        # Convert the content to a float\n",
    "        mw = float(content)\n",
    "    mol_weight = torch.tensor([mw,0,0]).float()\n",
    "    # print(inputs)\n",
    "    # print(hsqc, c_tensor, h_tensor)\n",
    "    # plot_NMR(hsqc, c_tensor[:,0], h_tensor[:,0])\n",
    "    return torch.vstack([inputs, get_delimeter(\"ms_start\"), mol_weight, get_delimeter(\"ms_end\")])"
   ]
  },
  {
   "cell_type": "code",
   "execution_count": 17,
   "metadata": {},
   "outputs": [],
   "source": [
    "Kavaratamide_A_SMILES = \"CCCCCCC[C@H](O)CC(=O)N[C@@H](C(C)C)C(=O)N(C)[C@@H](C)C(=O)O[C@@H](C(C)C)C(=O)N1[C@@H](C(C)C)C(OC)=CC1=O\"\n",
    "Kavaratamide_A_FP = specific_radius_mfp_loader.build_mfp_for_new_SMILES(Kavaratamide_A_SMILES)\n",
    "\n",
    "newCompoundA_SMILES = \"O=C1C(NC2=O)CCC(O)N1C(CC3=CC=CC=C3)C(N(C)C(CC4=CC(Br)=C(O)C=C4)C(NC(C(CC)C)C(OC(C)C(C(NC2CCCC[NH3+])=O)NC(C(NC(C(COS(=O)([O-])=O)OC)=O)CC5=CC=CC=C5)=O)=O)=O)=O\"\n",
    "newCompoundA_FP = specific_radius_mfp_loader.build_mfp_for_new_SMILES(newCompoundA_SMILES)"
   ]
  },
  {
   "cell_type": "code",
   "execution_count": 18,
   "metadata": {},
   "outputs": [
    {
     "data": {
      "text/plain": [
       "torch.float32"
      ]
     },
     "execution_count": 18,
     "metadata": {},
     "output_type": "execute_result"
    }
   ],
   "source": [
    "(newCompoundA_FP.dtype)"
   ]
  },
  {
   "cell_type": "code",
   "execution_count": 19,
   "metadata": {},
   "outputs": [],
   "source": [
    "# look for the higher cos_sim possible in our dataset\n",
    "def  retrieve_based_on_groudth(groud_truth_FP, k=5):\n",
    "    topk = retrieve_top_k_by_rankingset(rankingset_data, groud_truth_FP, smiles_and_names, k=k) \n",
    "    \n",
    "    i=0\n",
    "    for ite, (value, (smile, name, _, _), retrieved_FP) in enumerate(topk):\n",
    "        print(f\"____________________________retival #{i+1}, cosine similarity: {value.item()}_____________________________\")\n",
    "        mol = Chem.MolFromSmiles(smile)\n",
    "        print(\"retrived FP\", retrieved_FP.squeeze().tolist())\n",
    "        print(f\"SMILES: {smile}\")\n",
    "        print(f\"Name {name}\")\n",
    "        #check is path file exists\n",
    "        # plot_NMR(hsqc, c_tensor, h_tensor)\n",
    "        img = Draw.MolToImage(mol)\n",
    "        img.show()\n",
    "        i+=1\n"
   ]
  },
  {
   "cell_type": "code",
   "execution_count": 20,
   "metadata": {},
   "outputs": [
    {
     "name": "stdout",
     "output_type": "stream",
     "text": [
      "____________________________retival #1, cosine similarity: 0.6377196311950684_____________________________\n",
      "retrived FP [6, 7, 8, 9, 10, 11, 12, 14, 16, 17, 26, 27, 28, 29, 30, 33, 37, 38, 42, 44, 45, 62, 64, 66, 67, 68, 69, 70, 71, 77, 83, 109, 112, 113, 114, 117, 120, 124, 126, 128, 131, 134, 135, 136, 137, 138, 141, 144, 166, 167, 168, 169, 171, 172, 176, 177, 186, 193, 195, 201, 214, 216, 218, 219, 222, 224, 225, 238, 240, 241, 242, 258, 261, 266, 272, 284, 285, 349, 350, 352, 491, 502, 503, 504, 531, 573, 574, 575, 577, 578, 580, 597, 601, 612, 635, 636, 637, 662, 679, 680, 691, 782, 822, 833, 837, 900, 945, 1000, 1045, 1083, 1101, 1184, 1205, 1269, 1312, 1408, 1477, 1523, 1661, 1973, 2015, 2095, 2190, 2228, 2303, 2328, 2379, 2459, 2549, 2876, 2925, 3015, 3210, 3393, 3727, 3736, 3744, 3875, 4009, 4070, 4087, 4122, 4294, 4504, 4627, 4781, 4835, 4930, 5237, 5336, 5667, 5792, 5923]\n",
      "SMILES: CCCCCCCC(CC=CCCC(=O)N(C)C(C)C(=O)NC(C)C(O)C(C)C(=O)N1C(=O)C=C(OC)C1C(C)C)OC\n",
      "Name Malyngamide X\n",
      "____________________________retival #2, cosine similarity: 0.6094381213188171_____________________________\n",
      "retrived FP [0, 5, 6, 8, 9, 14, 16, 17, 26, 27, 28, 29, 30, 33, 37, 38, 42, 44, 45, 62, 64, 66, 67, 68, 69, 70, 71, 77, 83, 99, 100, 101, 102, 103, 112, 113, 114, 127, 129, 135, 136, 137, 138, 140, 141, 143, 167, 168, 169, 171, 172, 195, 214, 222, 224, 225, 239, 240, 241, 242, 256, 258, 261, 264, 334, 342, 349, 350, 352, 361, 375, 385, 502, 503, 504, 531, 544, 557, 573, 574, 575, 577, 578, 580, 597, 612, 635, 636, 637, 662, 672, 679, 680, 691, 712, 725, 745, 776, 778, 782, 788, 822, 827, 926, 1016, 1141, 1204, 1226, 1312, 1378, 1381, 1408, 1455, 1633, 1661, 1669, 1884, 1894, 1995, 2015, 2048, 2085, 2190, 2303, 2379, 2445, 2600, 2700, 2753, 2925, 3008, 3176, 3234, 3266, 3481, 3598, 3978, 4087, 4122, 4250, 4294, 4351, 4504, 4796, 4996, 5336, 5468, 5667, 5815, 6010]\n",
      "SMILES: CCC(C)C(OC(=O)C(CC(C)C)N(C)C)C(=O)NC(C(=O)N1CCCC1C(=O)N1C(=O)C=C(OC)C1C(C)C)C(C)C\n",
      "Name Mirabimide B\n",
      "____________________________retival #3, cosine similarity: 0.607674241065979_____________________________\n",
      "retrived FP [0, 5, 6, 8, 9, 14, 16, 17, 26, 27, 28, 29, 30, 33, 37, 38, 42, 44, 45, 62, 64, 66, 67, 68, 69, 70, 71, 77, 83, 99, 100, 101, 102, 103, 112, 113, 114, 128, 131, 135, 136, 137, 138, 140, 141, 143, 167, 168, 169, 171, 172, 195, 214, 216, 219, 222, 224, 225, 239, 240, 241, 242, 258, 261, 264, 349, 350, 352, 361, 375, 385, 503, 504, 531, 573, 574, 575, 577, 578, 580, 597, 612, 635, 636, 637, 662, 672, 691, 725, 745, 776, 778, 827, 926, 1016, 1141, 1204, 1226, 1312, 1344, 1378, 1408, 1449, 1455, 1633, 1661, 1669, 1785, 1865, 1884, 1894, 1995, 2015, 2085, 2190, 2303, 2379, 2700, 2925, 3481, 4068, 4087, 4122, 4250, 4294, 4351, 4504, 4996, 5336, 5667, 5815]\n",
      "SMILES: CCC(C)C(O)C(=O)NC(C(=O)N1CCCC1C(=O)N1C(=O)C=C(OC)C1C(C)C)C(C)C\n",
      "Name \n",
      "____________________________retival #4, cosine similarity: 0.6043941974639893_____________________________\n",
      "retrived FP [0, 5, 6, 8, 9, 14, 16, 17, 19, 21, 26, 27, 28, 29, 30, 33, 37, 38, 42, 44, 45, 62, 64, 66, 67, 68, 69, 70, 71, 77, 83, 99, 100, 101, 102, 103, 112, 113, 114, 127, 129, 135, 136, 137, 138, 140, 141, 143, 167, 168, 169, 171, 172, 195, 214, 222, 224, 225, 239, 240, 241, 242, 256, 258, 261, 264, 334, 342, 349, 350, 352, 361, 375, 385, 502, 503, 504, 531, 544, 557, 573, 574, 575, 577, 578, 580, 597, 612, 635, 636, 637, 662, 672, 679, 680, 691, 712, 725, 745, 776, 778, 782, 788, 822, 827, 926, 1016, 1141, 1204, 1220, 1226, 1312, 1378, 1381, 1408, 1455, 1477, 1633, 1661, 1669, 1884, 1894, 1995, 2015, 2085, 2095, 2190, 2303, 2379, 2445, 2600, 2700, 2925, 2956, 3008, 3176, 3234, 3393, 3481, 3598, 3913, 3978, 4087, 4122, 4250, 4294, 4351, 4504, 4756, 4996, 5336, 5468, 5667, 5815, 6010, 6139]\n",
      "SMILES: CCC(C)C(OC(=O)C(CC(C)C)N(C)C(C)=O)C(=O)NC(C(=O)N1CCCC1C(=O)N1C(=O)C=C(OC)C1C(C)C)C(C)C\n",
      "Name \n",
      "____________________________retival #5, cosine similarity: 0.6037452816963196_____________________________\n",
      "retrived FP [3, 4, 6, 9, 14, 16, 17, 26, 27, 28, 29, 30, 33, 37, 38, 42, 44, 45, 54, 55, 62, 64, 66, 67, 68, 69, 70, 71, 73, 75, 77, 83, 97, 109, 112, 113, 114, 117, 134, 135, 136, 137, 138, 141, 144, 166, 167, 168, 169, 171, 172, 176, 177, 188, 191, 195, 198, 201, 214, 222, 224, 225, 240, 241, 242, 349, 350, 352, 521, 573, 574, 575, 577, 578, 580, 597, 612, 633, 635, 636, 637, 690, 691, 715, 725, 745, 763, 768, 778, 818, 843, 883, 951, 953, 1015, 1041, 1132, 1204, 1226, 1408, 1455, 1540, 1577, 1638, 1816, 1884, 2015, 2303, 3057, 3213, 3682, 4898, 4996, 5336]\n",
      "SMILES: CCCCC(C)C(=O)NC(C(=O)N1C(=O)C(C)=C(OC)C1Cc1ccccc1)C(C)C\n",
      "Name \n"
     ]
    }
   ],
   "source": [
    "retrieve_based_on_groudth(Kavaratamide_A_FP.unsqueeze(dim=0), k=5)"
   ]
  },
  {
   "cell_type": "code",
   "execution_count": 21,
   "metadata": {},
   "outputs": [
    {
     "data": {
      "text/plain": [
       "tensor(0.6227116585)"
      ]
     },
     "execution_count": 21,
     "metadata": {},
     "output_type": "execute_result"
    }
   ],
   "source": [
    "deepSAT_sintokamide_B_FP = specific_radius_mfp_loader.build_mfp_for_new_SMILES(\"CCC(=O)N[C@H](C[C@H](C)C(Cl)(Cl)Cl)C(=O)N1[C@H](C(=CC1=O)OC)C[C@H](C)C(Cl)(Cl)Cl\")\n",
    "compute_cos_sim(deepSAT_sintokamide_B_FP, Kavaratamide_A_FP)"
   ]
  },
  {
   "cell_type": "code",
   "execution_count": 33,
   "metadata": {},
   "outputs": [
    {
     "name": "stdout",
     "output_type": "stream",
     "text": [
      "\n",
      "\n",
      "\n",
      "Kavaratamide_A\n",
      "\n",
      "\n",
      "_________________________________________________________\n",
      "Prediction's cosine similarity to ground truth:  tensor(0.6198346019)\n",
      "\n",
      "\n",
      "\n"
     ]
    },
    {
     "name": "stdout",
     "output_type": "stream",
     "text": [
      "____________________________retival #1, retrival cosine similarity to prediction: 0.6539087295532227_____________________________\n",
      "Retrival's cosine similarity to ground truth:  tensor(0.4937184453)\n",
      "SMILES: CCCCC(C)CC(C)C(=O)N(C)C(CC(C)C)C(=O)NC(C(=O)N(C)C(C(=O)N1CCCC1C(=O)N1C(=O)CCC1C)C(C)C)C(C)O\n",
      "Name \"2,3-dihydromicrocolin C\"\n",
      "____________________________retival #2, retrival cosine similarity to prediction: 0.6487895250320435_____________________________\n",
      "Retrival's cosine similarity to ground truth:  tensor(0.4873884618)\n",
      "SMILES: CCCCC(C)CC(C)C(=O)N(C)C(CC(C)C)C(=O)NC(C(=O)N(C)C(C(=O)N1CC(O)CC1C(=O)N1C(=O)CCC1C)C(C)C)C(C)O\n",
      "Name \"2,3-dihydromicrocolin D\"\n",
      "____________________________retival #3, retrival cosine similarity to prediction: 0.648706316947937_____________________________\n",
      "Retrival's cosine similarity to ground truth:  tensor(0.5214038491)\n",
      "SMILES: CCCCC(C)CC(C)C(=O)N(C)C(CC(C)C)C(=O)NC(C(=O)N(C)C(C(=O)N1CCCC1C(=O)N1C(=O)C=CC1C)C(C)C)C(C)O\n",
      "Name Microcolin C\n",
      "____________________________retival #4, retrival cosine similarity to prediction: 0.6479098200798035_____________________________\n",
      "Retrival's cosine similarity to ground truth:  tensor(0.5181952119)\n",
      "SMILES: CCCCC(C)CC(C)C(=O)N(C)C(CC(C)C)C(=O)NC(C(=O)N(C)C(C(=O)N1CC(O)CC1C(=O)N1C(=O)C=CC1C)C(C)C)C(C)O\n",
      "Name Microcolin D\n",
      "____________________________retival #5, retrival cosine similarity to prediction: 0.6390471458435059_____________________________\n",
      "Retrival's cosine similarity to ground truth:  tensor(0.5148275495)\n",
      "SMILES: CCCCCCCCCCC(C)C(O)C(C)C(=O)NC(C(=O)NC(C(=O)NC(CO)C(=O)OC)C(C)O)C(C)C\n",
      "Name \n"
     ]
    }
   ],
   "source": [
    "compound_dir = \"/home/ad.ucsd.edu/w6xu/inference/testing_compounds/Kavaratamide_A\"\n",
    "mode = None#\"flip_sign\"\n",
    "inputs = build_input(compound_dir, mode=mode,\n",
    "                     include_h_nmr=False, include_c_nmr=False\n",
    "                     )\n",
    "show_topK(inputs, k=5, mode=mode, ground_truth_FP = Kavaratamide_A_FP)\n",
    "\n",
    "# show_topK(inputs, k=1)"
   ]
  },
  {
   "cell_type": "code",
   "execution_count": 34,
   "metadata": {},
   "outputs": [
    {
     "data": {
      "text/plain": [
       "device(type='cpu')"
      ]
     },
     "execution_count": 34,
     "metadata": {},
     "output_type": "execute_result"
    }
   ],
   "source": [
    "model.device"
   ]
  },
  {
   "cell_type": "code",
   "execution_count": null,
   "metadata": {},
   "outputs": [],
   "source": []
  },
  {
   "cell_type": "code",
   "execution_count": 35,
   "metadata": {},
   "outputs": [
    {
     "name": "stdout",
     "output_type": "stream",
     "text": [
      "____________________________retival #1, cosine similarity: 0.7450761198997498_____________________________\n",
      "retrived FP [0, 1, 2, 3, 4, 5, 6, 9, 14, 16, 17, 22, 23, 26, 27, 28, 29, 30, 33, 35, 36, 37, 38, 42, 44, 45, 46, 47, 48, 57, 59, 67, 68, 69, 70, 71, 73, 75, 77, 83, 97, 99, 100, 101, 102, 103, 112, 113, 114, 134, 135, 136, 137, 138, 141, 144, 147, 150, 151, 153, 154, 155, 156, 157, 158, 166, 167, 168, 169, 171, 172, 188, 191, 195, 198, 214, 216, 219, 222, 224, 225, 235, 240, 241, 242, 251, 259, 268, 297, 309, 319, 322, 323, 336, 337, 340, 341, 349, 350, 352, 354, 361, 362, 363, 367, 375, 377, 385, 386, 485, 496, 521, 573, 574, 575, 577, 578, 580, 592, 597, 598, 603, 612, 614, 617, 635, 636, 637, 674, 691, 756, 779, 798, 807, 816, 829, 833, 843, 848, 875, 887, 897, 918, 919, 920, 943, 948, 951, 973, 994, 1000, 1015, 1038, 1045, 1050, 1098, 1132, 1143, 1157, 1172, 1305, 1311, 1340, 1362, 1404, 1428, 1439, 1513, 1521, 1527, 1559, 1619, 1650, 1661, 1693, 1701, 1736, 1905, 1921, 1957, 1962, 2069, 2075, 2106, 2147, 2190, 2196, 2264, 2356, 2440, 2513, 2516, 2530, 2563, 2678, 2764, 2895, 2939, 2972, 3080, 3166, 3539, 3599, 3684, 4326, 5309, 5672]\n",
      "SMILES: CCC(C)C1NC(=O)C(Cc2ccccc2)N(C)C(=O)C(C(C)CC)N2C(=O)C(CCC2O)NC(=O)C(CCc2ccc(O)cc2)NC(=O)C(NC(=O)C(CCc2ccc(O)cc2)NC(=O)C(COS(=O)(=O)O)OC)C(C)OC1=O\n",
      "Name oscillapeptin E\n",
      "____________________________retival #2, cosine similarity: 0.7397353649139404_____________________________\n",
      "retrived FP [0, 1, 2, 3, 4, 5, 6, 9, 14, 16, 17, 22, 23, 26, 27, 28, 29, 30, 33, 35, 36, 37, 38, 42, 44, 45, 46, 47, 48, 57, 59, 67, 68, 69, 70, 71, 73, 75, 77, 83, 97, 99, 100, 101, 102, 103, 112, 113, 114, 135, 136, 137, 138, 141, 147, 150, 151, 153, 154, 155, 156, 157, 158, 166, 167, 168, 169, 171, 172, 188, 191, 195, 198, 214, 216, 219, 222, 224, 225, 235, 240, 241, 242, 251, 259, 268, 297, 309, 319, 322, 323, 336, 337, 340, 341, 349, 350, 352, 354, 361, 362, 363, 367, 375, 377, 385, 386, 485, 496, 521, 573, 574, 575, 577, 578, 592, 598, 612, 614, 617, 635, 636, 637, 674, 691, 756, 779, 798, 807, 816, 829, 833, 843, 848, 875, 887, 918, 919, 920, 943, 948, 951, 973, 994, 1000, 1015, 1038, 1045, 1050, 1098, 1132, 1143, 1157, 1172, 1305, 1311, 1340, 1362, 1404, 1428, 1439, 1513, 1527, 1559, 1619, 1650, 1661, 1664, 1693, 1701, 1736, 1905, 1957, 1962, 2075, 2106, 2147, 2190, 2196, 2264, 2356, 2440, 2513, 2516, 2530, 2563, 2678, 2895, 2939, 2972, 3080, 3166, 3539, 3599, 3684, 4326, 5309]\n",
      "SMILES: CCC(C)C1NC(=O)C(Cc2ccccc2)N(C)C(=O)C(C(C)CC)N2C(=O)C(CCC2O)NC(=O)C(CCc2ccc(O)cc2)NC(=O)C(NC(=O)C(COS(=O)(=O)O)OC)C(C)OC1=O\n",
      "Name Cyanopeptolin 960\n",
      "____________________________retival #3, cosine similarity: 0.7392311096191406_____________________________\n",
      "retrived FP [0, 1, 2, 3, 4, 5, 6, 9, 14, 16, 17, 22, 23, 26, 27, 28, 29, 30, 33, 35, 36, 37, 38, 42, 44, 45, 46, 47, 48, 57, 59, 67, 68, 69, 70, 71, 73, 75, 77, 83, 97, 99, 100, 101, 102, 103, 109, 112, 113, 114, 117, 134, 135, 136, 137, 138, 141, 144, 147, 150, 151, 153, 154, 155, 156, 157, 158, 166, 167, 168, 169, 171, 172, 188, 191, 195, 198, 214, 216, 219, 222, 224, 225, 235, 240, 241, 242, 243, 251, 259, 268, 297, 302, 309, 316, 317, 318, 319, 322, 323, 336, 337, 340, 341, 349, 350, 352, 354, 361, 362, 363, 367, 375, 377, 385, 386, 485, 496, 521, 573, 574, 575, 577, 578, 580, 592, 597, 598, 603, 612, 614, 617, 635, 636, 637, 674, 691, 756, 779, 798, 807, 816, 829, 833, 843, 848, 875, 887, 893, 897, 908, 918, 919, 920, 943, 948, 951, 973, 994, 1000, 1015, 1038, 1045, 1050, 1098, 1132, 1143, 1157, 1172, 1228, 1305, 1311, 1340, 1362, 1428, 1439, 1513, 1520, 1521, 1527, 1559, 1611, 1619, 1650, 1661, 1693, 1701, 1736, 1801, 1817, 1905, 1921, 1957, 1959, 1962, 2069, 2075, 2106, 2147, 2190, 2196, 2264, 2356, 2430, 2440, 2513, 2516, 2530, 2563, 2678, 2764, 2895, 2939, 3080, 3166, 3539, 3599, 3684, 4326, 5309, 5672]\n",
      "SMILES: CCC(C)C1NC(=O)C(Cc2ccccc2)N(C)C(=O)C(C(C)CC)N2C(=O)C(CCC2O)NC(=O)C(CCCCN)NC(=O)C(NC(=O)C(CCc2ccc(O)cc2)NC(=O)C(COS(=O)(=O)O)OC)C(C)OC1=O\n",
      "Name DTXSID401334713\n"
     ]
    }
   ],
   "source": [
    "retrieve_based_on_groudth(newCompoundA_FP.unsqueeze(dim=0), k=3)"
   ]
  },
  {
   "cell_type": "code",
   "execution_count": 38,
   "metadata": {},
   "outputs": [
    {
     "name": "stdout",
     "output_type": "stream",
     "text": [
      "\n",
      "\n",
      "\n",
      "new_compound_A\n",
      "\n",
      "\n",
      "_________________________________________________________\n",
      "Prediction's cosine similarity to ground truth:  tensor(0.6327524781)\n",
      "\n",
      "\n",
      "\n",
      "____________________________retival #1, retrival cosine similarity to prediction: 0.7645297050476074_____________________________\n",
      "Retrival's cosine similarity to ground truth:  tensor(0.6693841815)\n",
      "SMILES: CCC(C)C1NC(=O)C(Cc2ccccc2)N(C)C(=O)C(C(C)CC)N2C(=O)C(CCC2OC)NC(=O)C(CCCN=C(N)N)NC(=O)C(NC(=O)C(O)CO)C(C)OC1=O\n",
      "Name Micropeptin MZ859\n",
      "____________________________retival #2, retrival cosine similarity to prediction: 0.7630496025085449_____________________________\n",
      "Retrival's cosine similarity to ground truth:  tensor(0.6606438160)\n",
      "SMILES: CCC(C)C1NC(=O)C(Cc2ccc(O)c(Cl)c2)N(C)C(=O)C(C(C)CC)N2C(=O)C(CCC2OC)NC(=O)C(CCCN=C(N)N)NC(=O)C(NC(=O)C(O)CO)C(C)OC1=O\n",
      "Name \n",
      "____________________________retival #3, retrival cosine similarity to prediction: 0.7478505373001099_____________________________\n",
      "Retrival's cosine similarity to ground truth:  tensor(0.6778365970)\n",
      "SMILES: CCC(C)C1NC(=O)C(Cc2ccccc2)N(C)C(=O)C(C(C)CC)N2C(=O)C(CCC2OC)NC(=O)C(CCCN=C(N)N)NC(=O)C(NC(=O)C(CO)OS(=O)(=O)O)C(C)OC1=O\n",
      "Name \n"
     ]
    }
   ],
   "source": [
    "compound_dir = \"/home/ad.ucsd.edu/w6xu/inference/testing_compounds/new_compound_A\"\n",
    "inputs = build_input(compound_dir,\n",
    "                     mode=mode,\n",
    "                     include_h_nmr=False, include_c_nmr=False\n",
    "                     )\n",
    "show_topK(inputs, k=3, ground_truth_FP=newCompoundA_FP)"
   ]
  },
  {
   "cell_type": "code",
   "execution_count": 39,
   "metadata": {},
   "outputs": [
    {
     "name": "stdout",
     "output_type": "stream",
     "text": [
      "\n",
      "\n",
      "\n",
      "new_compound_B1\n",
      "\n",
      "\n",
      "_________________________________________________________\n",
      "____________________________retival #1, retrival cosine similarity to prediction: 0.7888862490653992_____________________________\n",
      "SMILES: CC=C1NC(=O)C(Cc2ccccc2)NC(=O)C(C(C)C)NC(=O)C(C(C)CC)NC(=O)C(NC(=O)C(NC(=O)C(CCCN)NC(=O)C2CCCN2C(=O)C(NC(=O)C(NC(=O)C(NC(=O)C(NC(=O)CCC(C)CC)C(C)C)C(C)O)C(C)C)C(C)C)C(C)CC)C(C)OC(=O)C(C(C)C)NC1=O\n",
      "Name Elisidepsin\n",
      "____________________________retival #2, retrival cosine similarity to prediction: 0.7759684920310974_____________________________\n",
      "SMILES: CC=C1NC(=O)C(Cc2ccccc2)NC(=O)C(C(C)C)NC(=O)C(C(C)CC)NC(=O)C(NC(=O)C(NC(=O)C(CCCCN)NC(=O)C2CCCN2C(=O)C(NC(=O)C(NC(=O)C(NC(=O)C(NC(=O)CCCC(C)C)C(C)C)C(C)O)C(C)C)C(C)C)C(C)CC)C(C)OC(=O)C(C(C)C)NC1=O\n",
      "Name \n",
      "____________________________retival #3, retrival cosine similarity to prediction: 0.7757498025894165_____________________________\n",
      "SMILES: CCC(C)CCCCCCCCCCCCC(=O)NC(CCC(=O)O)C(=O)NC(CCCN)C(=O)NC1Cc2ccc(cc2)OC(=O)C(C(C)CC)NC(=O)C(Cc2ccc(O)cc2)NC(=O)C(CCC(N)=O)NC(=O)C2CCCN2C(=O)C(C(C)C)NC(=O)C(CCC(=O)O)NC(=O)C(C(C)O)NC1=O\n",
      "Name SNA-60-367-21\n"
     ]
    }
   ],
   "source": [
    "compound_dir = \"/home/ad.ucsd.edu/w6xu/inference/testing_compounds/new_compound_B1\"\n",
    "inputs = build_input(compound_dir,\n",
    "                     mode=mode,\n",
    "                     include_h_nmr=False, include_c_nmr=False\n",
    "                     )\n",
    "show_topK(inputs, k=3)"
   ]
  },
  {
   "cell_type": "code",
   "execution_count": 40,
   "metadata": {},
   "outputs": [
    {
     "name": "stdout",
     "output_type": "stream",
     "text": [
      "\n",
      "\n",
      "\n",
      "new_compound_B2\n",
      "\n",
      "\n",
      "_________________________________________________________\n"
     ]
    },
    {
     "name": "stdout",
     "output_type": "stream",
     "text": [
      "____________________________retival #1, retrival cosine similarity to prediction: 0.8171883225440979_____________________________\n",
      "SMILES: CCC(C)C1NC(=O)C(C(C)C)NC(=O)C2CCCN2C(=O)C(Cc2ccccc2)NC(=O)C(NC(=O)C(NC(=O)Cc2ccccc2)C(C)C)C(C)OC(=O)C(C(C)C)NC1=O\n",
      "Name Xentrivalpeptide N\n",
      "____________________________retival #2, retrival cosine similarity to prediction: 0.8140150904655457_____________________________\n",
      "SMILES: CCC(C)C(NC(=O)Cc1ccccc1)C(=O)NC1C(=O)NC(Cc2ccccc2)C(=O)N2CCCC2C(=O)NC(C(C)C)C(=O)NC(C(C)C)C(=O)NC(C(C)C)C(=O)OC1C\n",
      "Name Xentrivalpeptide I\n",
      "____________________________retival #3, retrival cosine similarity to prediction: 0.8081856966018677_____________________________\n",
      "SMILES: CCCCCC(=O)NC(C(=O)NC1C(=O)NC(Cc2ccccc2)C(=O)N2CCCC2C(=O)NC(C(C)C)C(=O)NC(C(C)C)C(=O)NC(C(C)C)C(=O)OC1C)C(C)C\n",
      "Name Xentrivalpeptide G\n",
      "____________________________retival #4, retrival cosine similarity to prediction: 0.8060168027877808_____________________________\n",
      "SMILES: CCCC(=O)NC(C(=O)NC1C(=O)NC(Cc2ccccc2)C(=O)N2CCCC2C(=O)NC(C(C)C)C(=O)NC(C(C)C)C(=O)NC(C(C)C)C(=O)OC1C)C(C)C\n",
      "Name Xentrivalpeptide D\n",
      "____________________________retival #5, retrival cosine similarity to prediction: 0.8040607571601868_____________________________\n",
      "SMILES: CCC(NC(=O)Cc1ccccc1)C(=O)NC1C(=O)NC(Cc2ccccc2)C(=O)N2CCCC2C(=O)NC(C(C)C)C(=O)NC(C(C)C)C(=O)NC(C(C)C)C(=O)OC1C\n",
      "Name Xentrivalpeptide H\n"
     ]
    }
   ],
   "source": [
    "compound_dir = \"/home/ad.ucsd.edu/w6xu/inference/testing_compounds/new_compound_B2\"\n",
    "inputs = build_input(compound_dir,\n",
    "                     mode=mode,\n",
    "                     include_h_nmr=False, include_c_nmr=False\n",
    "                     )\n",
    "show_topK(inputs, k=5)"
   ]
  },
  {
   "cell_type": "code",
   "execution_count": null,
   "metadata": {},
   "outputs": [],
   "source": []
  }
 ],
 "metadata": {
  "kernelspec": {
   "display_name": "Python 3",
   "language": "python",
   "name": "python3"
  },
  "language_info": {
   "codemirror_mode": {
    "name": "ipython",
    "version": 3
   },
   "file_extension": ".py",
   "mimetype": "text/x-python",
   "name": "python",
   "nbconvert_exporter": "python",
   "pygments_lexer": "ipython3",
   "version": "3.10.12"
  }
 },
 "nbformat": 4,
 "nbformat_minor": 2
}
